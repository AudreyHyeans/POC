{
 "cells": [
  {
   "cell_type": "markdown",
   "metadata": {},
   "source": [
    "Merci de **ne pas modifier** le nom de ce notebook (même pour y inclure son nom).\n",
    "\n",
    "Quelques conseils:\n",
    "- pour exécutez une cellule, cliquez sur le bouton *Exécuter* ci-dessus ou tapez **Shift+Enter**\n",
    "- si l'exécution d'une cellule prend trop de temps, sélectionner dans le menu ci-dessus *Noyau/Interrompre*\n",
    "- en cas de très gros plantage *Noyau/Redémarrer*\n",
    "- **sauvegardez régulièrement vos réponses** en cliquant sur l'icone disquette ci-dessus à gauche, ou *Fichier/Créer une nouvelle sauvegarde*\n",
    "\n",
    "Pour répondre aux questions, remplacer les lignes ci-dessous par vos réponses: \n",
    "```python \n",
    "#LA REPONSE ICI\n",
    "raise NotImplementedError()\n",
    "``` \n"
   ]
  },
  {
   "cell_type": "markdown",
   "metadata": {},
   "source": [
    "---"
   ]
  },
  {
   "cell_type": "markdown",
   "metadata": {
    "deletable": false,
    "editable": false,
    "nbgrader": {
     "cell_type": "markdown",
     "checksum": "5924f87ff45819f9b84eac5175e143d9",
     "grade": false,
     "grade_id": "cell-30147172d150c26d",
     "locked": true,
     "schema_version": 3,
     "solution": false,
     "task": false
    }
   },
   "source": [
    "# TD5 : Introduction au Machine Learning\n",
    "\n",
    "L'objectif de ce cours est de fournir une introduction conceptuelle aux algorithmes d'apprentissage supervisé. Pour une introduction plus partique, de nombreux tutoriels sont disponibles sur le web, en particulier au travers de la libraire scikit-learn https://scikit-learn.org/stable/tutorial/index.html \n",
    "\n",
    "Pour aborder les concepts liés à l'apprentissage par un algorithme, nous  allons nous construire nous-mêmes un réseau de neurones simple, pas à pas. Le cours sera basé sur les vidéos (excellentes) de la chaine Youtube [3Blue1BRown](https://www.youtube.com/channel/UCYO_jab_esuFRV4b17AJtAw) qui expliquent comment un réseau de neurones peut être utilisé pour faire de la reconnaissance automatique de chiffres écrits à la main.\n"
   ]
  },
  {
   "cell_type": "code",
   "execution_count": 1,
   "metadata": {},
   "outputs": [],
   "source": [
    "import numpy as np\n",
    "import random\n",
    "import matplotlib.pyplot   as plt"
   ]
  },
  {
   "cell_type": "markdown",
   "metadata": {
    "deletable": false,
    "editable": false,
    "nbgrader": {
     "cell_type": "markdown",
     "checksum": "e4c921a35c33954f385637d03112aee6",
     "grade": false,
     "grade_id": "cell-6f13174e7e965b57",
     "locked": true,
     "schema_version": 3,
     "solution": false,
     "task": false
    }
   },
   "source": [
    "## Neurones en réseau\n",
    "\n",
    "Cette première vidéo introduit le modèle numérique d'un neurone, son fonctionnement et son inter-connexion avec ses voisins.\n",
    "\n",
    "**Les sous-titres anglais ou français sont disponibles.**"
   ]
  },
  {
   "cell_type": "code",
   "execution_count": 2,
   "metadata": {
    "deletable": false,
    "editable": false,
    "nbgrader": {
     "cell_type": "code",
     "checksum": "470bc4a60b3db6ee9d04a91112ac3fae",
     "grade": false,
     "grade_id": "cell-3b443e06b76333c4",
     "locked": true,
     "schema_version": 3,
     "solution": false,
     "task": false
    }
   },
   "outputs": [
    {
     "data": {
      "text/html": [
       "<iframe width=\"560\" height=\"315\" src=\"https://www.youtube.com/embed/aircAruvnKk\" frameborder=\"0\" allow=\"accelerometer; autoplay; encrypted-media; gyroscope; picture-in-picture\" allowfullscreen></iframe>\n"
      ],
      "text/plain": [
       "<IPython.core.display.HTML object>"
      ]
     },
     "metadata": {},
     "output_type": "display_data"
    }
   ],
   "source": [
    "%%HTML\n",
    "<iframe width=\"560\" height=\"315\" src=\"https://www.youtube.com/embed/aircAruvnKk\" frameborder=\"0\" allow=\"accelerometer; autoplay; encrypted-media; gyroscope; picture-in-picture\" allowfullscreen></iframe>"
   ]
  },
  {
   "cell_type": "markdown",
   "metadata": {},
   "source": [
    "Commençons par définir une fonction qui jouera le rôle d'un neurone. Pour commencer, on n'introduit pas de biais. Ecrire une fonction qui définit la fonction sigmoïde, et une fonction qui retourne sa dérivée analytique. "
   ]
  },
  {
   "cell_type": "code",
   "execution_count": 38,
   "metadata": {
    "deletable": false,
    "nbgrader": {
     "cell_type": "code",
     "checksum": "643551e07426d6f26474f1fd45fa588e",
     "grade": true,
     "grade_id": "cell-00737ba1101dbda1",
     "locked": false,
     "points": 0,
     "schema_version": 3,
     "solution": true,
     "task": false
    }
   },
   "outputs": [],
   "source": [
    "def sigmoid(z):\n",
    "    \"\"\"The sigmoid function.\"\"\"\n",
    "    return 1/(1+np.exp(-z))\n",
    "\n",
    "def sigmoid_derivative(z):\n",
    "    \"\"\"Derivative of the sigmoid function.\"\"\"\n",
    "    return np.exp(-z)/(1+np.exp(-z))**2"
   ]
  },
  {
   "cell_type": "markdown",
   "metadata": {},
   "source": [
    "Tracer la fonction sigmoïde et sa dérivée."
   ]
  },
  {
   "cell_type": "code",
   "execution_count": 9,
   "metadata": {
    "deletable": false,
    "nbgrader": {
     "cell_type": "code",
     "checksum": "9fbe281602c741ba0b8f6ab9c4319625",
     "grade": true,
     "grade_id": "cell-aa8704806ac9e2b7",
     "locked": false,
     "points": 0,
     "schema_version": 3,
     "solution": true,
     "task": false
    }
   },
   "outputs": [
    {
     "data": {
      "image/png": "[encoded data removed]",
      "text/plain": [
       "<Figure size 1152x648 with 2 Axes>"
      ]
     },
     "metadata": {
      "needs_background": "light"
     },
     "output_type": "display_data"
    }
   ],
   "source": [
    "x = np.linspace(-10,10,1000)\n",
    "y0 = sigmoid(x)\n",
    "y1 = sigmoid_derivative(x)\n",
    "\n",
    "fig = plt.figure(figsize = (16,9))\n",
    "plt.subplot(221)\n",
    "plt.plot(x,y0)\n",
    "\n",
    "plt.subplot(222)\n",
    "plt.plot(x,y1)\n",
    "\n",
    "plt.show()"
   ]
  },
  {
   "cell_type": "markdown",
   "metadata": {},
   "source": [
    "## Apprentissage et descente de gradient\n",
    "\n",
    "Après avoir vu comment construire un réseau de  neurones numériques, nous allons maintenant aborder comment celui-ci est capable d'apprendre à reconnaître des structures à partir d'une base de données."
   ]
  },
  {
   "cell_type": "code",
   "execution_count": 10,
   "metadata": {
    "deletable": false,
    "editable": false,
    "nbgrader": {
     "cell_type": "code",
     "checksum": "7f0063bdf9cb8ee483da601a11eef628",
     "grade": false,
     "grade_id": "cell-1180a397cbc78051",
     "locked": true,
     "schema_version": 3,
     "solution": false,
     "task": false
    }
   },
   "outputs": [
    {
     "data": {
      "text/html": [
       "<iframe width=\"560\" height=\"315\" src=\"https://www.youtube.com/embed/IHZwWFHWa-w\" frameborder=\"0\" allow=\"accelerometer; autoplay; encrypted-media; gyroscope; picture-in-picture\" allowfullscreen></iframe>\n"
      ],
      "text/plain": [
       "<IPython.core.display.HTML object>"
      ]
     },
     "metadata": {},
     "output_type": "display_data"
    }
   ],
   "source": [
    "%%HTML\n",
    "<iframe width=\"560\" height=\"315\" src=\"https://www.youtube.com/embed/IHZwWFHWa-w\" frameborder=\"0\" allow=\"accelerometer; autoplay; encrypted-media; gyroscope; picture-in-picture\" allowfullscreen></iframe>"
   ]
  },
  {
   "cell_type": "markdown",
   "metadata": {},
   "source": [
    "Nous allons mettre en place un réseau de neurones et écrire la procédure de propagation de l'entrée vers la sortie (feedforward), en utilisant la fonction sigmoïde définit ci-dessus. Pour cela nous allons utiliser les **classes**. Une classe est un objet Python qui peut contenir différentes attributs (des variables,...) et méthodes (fonctions,...). Voici un exemple : on souhaite créer un nouvel objet qui représente un rectangle et ses propriétés. On peut aller définir la classe Rectangle comme ceci:"
   ]
  },
  {
   "cell_type": "code",
   "execution_count": 11,
   "metadata": {},
   "outputs": [],
   "source": [
    "class Rectangle():\n",
    "    \n",
    "    def __init__(self, a, b):\n",
    "        self.largeur = a\n",
    "        self.longueur = b\n",
    "        \n",
    "    def aire(self):\n",
    "        return self.largeur * self.longueur\n",
    "    \n",
    "    def perimetre(self):\n",
    "        return 2 * self.largeur + 2 * self.longueur"
   ]
  },
  {
   "cell_type": "markdown",
   "metadata": {},
   "source": [
    "Les attributs et fonctions définits sous la classe Rectangle doivent commencer par une **tabulation**. Le mot clé `self` fait référence à la classe elle-même et donc à ses attributs. La fonction `__init__` est obligatoire et permet d'initiliaser l'objet Rectangle comme ceci:"
   ]
  },
  {
   "cell_type": "code",
   "execution_count": 12,
   "metadata": {},
   "outputs": [],
   "source": [
    "r = Rectangle(1, 2)"
   ]
  },
  {
   "cell_type": "markdown",
   "metadata": {},
   "source": [
    "Puis les méthodes s'appliquent à l'instance `r` de l'objet Rectangle comme ceci:"
   ]
  },
  {
   "cell_type": "code",
   "execution_count": 13,
   "metadata": {},
   "outputs": [
    {
     "name": "stdout",
     "output_type": "stream",
     "text": [
      "2 6\n"
     ]
    }
   ],
   "source": [
    "print(r.aire(), r.perimetre())"
   ]
  },
  {
   "cell_type": "markdown",
   "metadata": {},
   "source": [
    "Nous allons créer une classe Network qui va contenir les méthodes et attributs nécessaires au fonctionnement d'un réseau de neurones. Pour le moment voici une classe générique que **vous devrez remplir tout au long du TD:**"
   ]
  },
  {
   "cell_type": "code",
   "execution_count": 62,
   "metadata": {
    "deletable": false,
    "nbgrader": {
     "cell_type": "code",
     "checksum": "728a8f0316b1f27150c0a14e76693ea4",
     "grade": true,
     "grade_id": "cell-c2e47520948ddbff",
     "locked": false,
     "points": 0,
     "schema_version": 3,
     "solution": true,
     "task": false
    }
   },
   "outputs": [],
   "source": [
    "class NeuralNetwork:\n",
    "    \n",
    "    def __init__(self, x, y):\n",
    "        self.input = x\n",
    "        self.y = y\n",
    "        self.output = np.zeros_like(self.y)\n",
    "        self.weights1 = np.random.rand(self.input.shape[1],4)\n",
    "        self.weights2 = np.random.rand(4,1)\n",
    "        \n",
    "        \n",
    "    def feedforward(self):\n",
    "        self.layer1 = sigmoid(self.input @ self.weights1)\n",
    "        self.output = sigmoid(self.layer1 @ self.weights2)\n",
    "       \n",
    "    \n",
    "    def backprop(self, eta=1):\n",
    "        # application of the chain rule to find derivative of the loss function with respect to weights2 and weights1\n",
    "        d_weights1 = self.input.T @ ( (2*(self.output - self.y) * sigmoid_derivative(self.layer1 @ self.weights2) @ self.weights2.T) * sigmoid_derivative(self.input @ self.weights1))\n",
    "        d_weights2 = self.layer1.T @ (2*(self.output - self.y) * sigmoid_derivative(self.layer1 @ self.weights2) )\n",
    "\n",
    "        # update the weights with the derivative (slope) of the loss function\n",
    "        self.weights2 = self.weights2 - eta * d_weights2\n",
    "        self.weights1 = self.weights1 - eta * d_weights1\n",
    "        \n",
    "    def cost(self):\n",
    "        return np.sum((self.output-self.y)**2)\n",
    "\n",
    "    def prediction(self, x):\n",
    "        self.layer1 = sigmoid(x @ self.weights1)\n",
    "        return sigmoid(self.layer1 @ self.weights2)\n",
    "    \n",
    "\n",
    "\n",
    "\n"
   ]
  },
  {
   "cell_type": "markdown",
   "metadata": {},
   "source": [
    "Le réseau de neurones que l'on souhaite coder a une architecture très simple:\n",
    "* un vecteur d'entrée de taille 3\n",
    "* 1 couche cachée de 4 neurones\n",
    "* un vecteur de sortie de taille 1\n",
    "\n",
    "représentée sur la figure suivante:\n",
    "\n",
    "![](https://cdn-images-1.medium.com/max/1116/1*sX6T0Y4aa3ARh7IBS_sdqw.png)\n",
    "\n",
    "Suite au visionnage des deux premières vidéos, commencer par:\n",
    "* remplir la fonction `__init__`: \n",
    "    * stocker les données d'entrée `x` dans un attribut de classe `input`\n",
    "    * stocker les données de sortie `y` dans un attribut de classe `y`\n",
    "    * préparer un attribut `output` qui sera un vecteur nul de même taille que `y`\n",
    "    * préparer un attribut `weights1`, une matrice $\\mathbf{W}_1$ de nombres aléatoires pour les poids reliant un vecteur d'entrée à une couche de 4 neurones de taille (Nx, 4) avec [np.random.rand](https://docs.scipy.org/doc/numpy-1.15.1/reference/generated/numpy.random.rand.html)\n",
    "    * préparer un attribut `weights2`, une matrice $\\mathbf{W}_2$ de nombres aléatoires pour les poids reliant la couche de 4 neurones à la sortie de taille (4, 1)\n",
    "    \n",
    "On réalisera par la suite des multiplications matricielles \"à gauche\" pour des raisons de format du tableau `x` d'entrée.\n",
    "    \n",
    "* remplir la fonction `feedforward`: remplacer les `None` par une seule ligne de code\n",
    "    * `self.layer1` est un vecteur qui doit contenir la valeur d'activation $a^{(1)}$ des 4 neurones étant donnés les poids d'entrée $\\mathbf{W}_1$ et les inputs $x$\n",
    "    $$ a^{(1)} = \\sigma( \\mathbf{W}_1 x)), \\quad z^{(1)} = \\mathbf{W}_1 x$$\n",
    "    * `self.output` est un vecteur qui doit contenir la réponse $a^{(2)}$ du neurone de sortie étant donnés les valeurs d'activation des neurones précédents $a^{(1)}$ et des poids de sortie $\\mathbf{W}_2$.\n",
    "    $$ a^{(2)} = \\sigma( \\mathbf{W}_2 a^{(1)}), \\quad z^{(2)} = \\mathbf{W}_2 a^{(1)}$$"
   ]
  },
  {
   "cell_type": "markdown",
   "metadata": {},
   "source": [
    "## Apprentissage : fonction coût\n",
    "\n",
    "L'apprentissage revient donc à minimiser une fonction coût (analogue à un $\\chi^2$), qui dépend d'un très grand nombre de paramètres. Les algorithmes de minimisation numérique efficaces, qu'ils soient à 1 ou plusieurs paramètres, utilisent le gradient de la fonction à minimiser, comme la [méthode de Newton](https://fr.wikipedia.org/wiki/M%C3%A9thode_de_Newton) vue en première année."
   ]
  },
  {
   "cell_type": "code",
   "execution_count": 14,
   "metadata": {
    "deletable": false,
    "editable": false,
    "nbgrader": {
     "cell_type": "code",
     "checksum": "877a10f8a15deedf4c1b8e7a5b21263e",
     "grade": false,
     "grade_id": "cell-52caef7d71b0f23d",
     "locked": true,
     "schema_version": 3,
     "solution": false,
     "task": false
    }
   },
   "outputs": [
    {
     "data": {
      "text/html": [
       "<iframe width=\"560\" height=\"315\" src=\"https://www.youtube.com/embed/Ilg3gGewQ5U\" frameborder=\"0\" allow=\"accelerometer; autoplay; encrypted-media; gyroscope; picture-in-picture\" allowfullscreen></iframe>\n"
      ],
      "text/plain": [
       "<IPython.core.display.HTML object>"
      ]
     },
     "metadata": {},
     "output_type": "display_data"
    }
   ],
   "source": [
    "%%HTML\n",
    "<iframe width=\"560\" height=\"315\" src=\"https://www.youtube.com/embed/Ilg3gGewQ5U\" frameborder=\"0\" allow=\"accelerometer; autoplay; encrypted-media; gyroscope; picture-in-picture\" allowfullscreen></iframe>"
   ]
  },
  {
   "cell_type": "markdown",
   "metadata": {},
   "source": [
    "Suite au visionnage de cette troisième vidéo, remplissez la fonction `cost` qui retourne la valeur de la fonction coût du réseau de neurones:\n",
    "$$ C = \\Vert a^{(2)} - y \\Vert ^2 $$"
   ]
  },
  {
   "cell_type": "markdown",
   "metadata": {},
   "source": [
    "## Apprentissage : minimisation de la fonction coût"
   ]
  },
  {
   "cell_type": "code",
   "execution_count": 15,
   "metadata": {
    "deletable": false,
    "editable": false,
    "nbgrader": {
     "cell_type": "code",
     "checksum": "922a043929348d8981a7c90f2762dbad",
     "grade": false,
     "grade_id": "cell-80066cba46e3af65",
     "locked": true,
     "schema_version": 3,
     "solution": false,
     "task": false
    }
   },
   "outputs": [
    {
     "data": {
      "text/html": [
       "<iframe width=\"560\" height=\"315\" src=\"https://www.youtube.com/embed/tIeHLnjs5U8\" frameborder=\"0\" allow=\"accelerometer; autoplay; encrypted-media; gyroscope; picture-in-picture\" allowfullscreen></iframe>\n"
      ],
      "text/plain": [
       "<IPython.core.display.HTML object>"
      ]
     },
     "metadata": {},
     "output_type": "display_data"
    }
   ],
   "source": [
    "%%HTML\n",
    "<iframe width=\"560\" height=\"315\" src=\"https://www.youtube.com/embed/tIeHLnjs5U8\" frameborder=\"0\" allow=\"accelerometer; autoplay; encrypted-media; gyroscope; picture-in-picture\" allowfullscreen></iframe>"
   ]
  },
  {
   "cell_type": "markdown",
   "metadata": {},
   "source": [
    "## Back-propagation\n",
    "\n",
    "On rappelle que la dérivée de la fonction coût s'écrit:\n",
    "$$ C = (a^{(2)} - y ) ^T \\cdot (a^{(2)} - y ) \\Rightarrow \\frac{\\partial C}{\\partial \\mathbf{W}} = 2\\left[ \\frac{\\partial a^{(2)}}{\\partial \\mathbf{W}}\\right]^T \\cdot (a^{(2)} - y )$$\n",
    "La minimisation de la fonction coût se réalise par une [descente de gradient](https://en.wikipedia.org/wiki/Gradient_descent)  qui le long du chemin met à jour les paramètres de la fonction par:\n",
    "$$ \\mathbf{W} \\rightarrow \\mathbf{W} - \\eta \\frac{\\partial C}{\\partial \\mathbf{W}} $$\n",
    "avec $\\eta$ le *taux d'apprentissage*. On choisira $\\eta=1$ et on fera bien attention aux signes. Faire les calculs à la main avant de coder est recommandé.\n",
    "\n",
    "Suite au visionnage de cette quatrième vidéo, remplissez la fonction `backprop`:\n",
    "* d_weights2 représente $\\partial C / \\partial \\mathbf{W}_2$\n",
    "* d_weights1 représente $\\partial C / \\partial \\mathbf{W}_1$\n",
    "* mettre à jour `self.weights1` et  `self.weights2` \n",
    "\n"
   ]
  },
  {
   "cell_type": "markdown",
   "metadata": {},
   "source": [
    "## Mise en pratique\n",
    "\n",
    "On cherche à savoir quels sont les facteurs de risques prépondérants pour développer un diabète. On dispose des données suivantes:\n",
    "\n",
    "| $x_1 =$ obésité | $x_2 =$ sport | $x_3 = $ genre | $y=$ diabete |\n",
    "| --------------- | ---------------| ---------------| -------------|\n",
    "| 0 | 0 | 1 | 0 |\n",
    "| 0 | 1 | 1 | 1 |\n",
    "| 1 | 0 | 1 | 1 |\n",
    "| 1 | 1 | 1 | 0 |\n",
    "\n",
    "Evidemment ces données sont fausses... mais sont instructives sur l'utilité d'un réseau de neurones.\n",
    "\n",
    "Mettre les données d'entrée sous forme d'une matrice `x` de taille (4, 3) et la sortie `y` sous forme d'une matrice (4, 1). Vérifier les `shape` de vos tableaux: `x.shape=(4, 3), y.shape=(4, 1)`."
   ]
  },
  {
   "cell_type": "code",
   "execution_count": 19,
   "metadata": {
    "deletable": false,
    "nbgrader": {
     "cell_type": "code",
     "checksum": "0069687c7c234706553c4bd572853b50",
     "grade": true,
     "grade_id": "cell-d8deb77ce64ebb9a",
     "locked": false,
     "points": 0,
     "schema_version": 3,
     "solution": true,
     "task": false
    }
   },
   "outputs": [
    {
     "name": "stdout",
     "output_type": "stream",
     "text": [
      "(4, 1)\n"
     ]
    }
   ],
   "source": [
    "x = np.array([[0,0,1],[0,1,1],[1,0,1],[1,1,1]])\n",
    "y = np.array([[0],[1],[1],[0]])\n",
    "print(y.shape)\n"
   ]
  },
  {
   "cell_type": "markdown",
   "metadata": {},
   "source": [
    "Mettre en oeuvre la minimisation de la fonction coût: \n",
    "* créer une instance de votre réseau de neurones avec ces données d'entrée et sortie\n",
    "* ouvrir une boucle de $N$ pas et à chaque itération:\n",
    "    * calculer la sortie `output`\n",
    "    * utiliser la fonction `backprop` pour minimiser  $C$ et mettre à jour les poids\n",
    "    * stocker le résultat de la fonction coût dans un vecteur"
   ]
  },
  {
   "cell_type": "code",
   "execution_count": 67,
   "metadata": {
    "deletable": false,
    "nbgrader": {
     "cell_type": "code",
     "checksum": "ada26253df0bc710b170b58e39ead25b",
     "grade": true,
     "grade_id": "cell-8dc73b33ee2aafcc",
     "locked": false,
     "points": 0,
     "schema_version": 3,
     "solution": true,
     "task": false
    }
   },
   "outputs": [],
   "source": [
    "NN=NeuralNetwork(x,y)\n",
    "N =500\n",
    "cout = np.zeros(N)\n",
    "for n in range(N):\n",
    "    NN.feedforward()\n",
    "    NN.backprop(eta = 10)\n",
    "    \n",
    "    cout[n] = NN.cost()\n",
    "\n",
    "y_fin = NN.output\n"
   ]
  },
  {
   "cell_type": "markdown",
   "metadata": {},
   "source": [
    "* Imprimer à l'écran la valeur finale de la fonction coût et de la sortie. Tracer la valeur de la fonction coût en fonction du numéro du pas. Que constatez-vous ?"
   ]
  },
  {
   "cell_type": "code",
   "execution_count": 68,
   "metadata": {
    "deletable": false,
    "nbgrader": {
     "cell_type": "code",
     "checksum": "cd87faf566d63b9e52aa0a36dcf66861",
     "grade": true,
     "grade_id": "cell-422c7a351fb1b3e2",
     "locked": false,
     "points": 0,
     "schema_version": 3,
     "solution": true,
     "task": false
    }
   },
   "outputs": [
    {
     "data": {
      "image/png": "[encoded data removed]",
      "text/plain": [
       "<Figure size 432x288 with 1 Axes>"
      ]
     },
     "metadata": {
      "needs_background": "light"
     },
     "output_type": "display_data"
    },
    {
     "name": "stdout",
     "output_type": "stream",
     "text": [
      "[[0.00618888]\n",
      " [0.99066419]\n",
      " [0.98820589]\n",
      " [0.01509535]]\n"
     ]
    }
   ],
   "source": [
    "fig = plt.figure()\n",
    "plt.plot(range(N),cout)\n",
    "plt.show()\n",
    "\n",
    "print(y_fin)"
   ]
  },
  {
   "cell_type": "markdown",
   "metadata": {},
   "source": [
    "* Faire varier le taux d'apprentissage $\\eta$. Qu'est-ce que cela change sur l'apprentissage ?"
   ]
  },
  {
   "cell_type": "markdown",
   "metadata": {
    "deletable": false,
    "nbgrader": {
     "cell_type": "markdown",
     "checksum": "9c94fda037686dfc45c4bdac22f8796a",
     "grade": true,
     "grade_id": "cell-323b7fb6ed9a24ec",
     "locked": false,
     "points": 0,
     "schema_version": 3,
     "solution": true,
     "task": false
    }
   },
   "source": [
    "LA REPONSE ICI (double-clique pour editer la cellule)"
   ]
  },
  {
   "cell_type": "markdown",
   "metadata": {},
   "source": [
    "* Utiliser votre réseau de neurones pour établir le risque de diabete pour d'autres jeux de données que vous inventerez. Pour cela remplissez la fonction `prediction(x)` qui, pour un nouveau jeu de données `x` et avec les poids déterminer par l'apprentissage précédent, calcule le risque de contracter un diabète."
   ]
  },
  {
   "cell_type": "code",
   "execution_count": 70,
   "metadata": {
    "deletable": false,
    "nbgrader": {
     "cell_type": "code",
     "checksum": "f2f0ab158ab0978db078efe6fab2a940",
     "grade": true,
     "grade_id": "cell-5c518a18e9b3ebb2",
     "locked": false,
     "points": 0,
     "schema_version": 3,
     "solution": true,
     "task": false
    }
   },
   "outputs": [],
   "source": [
    "x2 = np.array([[1,0,1],[0,1,1],[1,0,1],[1,1,1]])\n",
    "y = NN.prediction(x2)"
   ]
  },
  {
   "cell_type": "markdown",
   "metadata": {},
   "source": [
    "### Remarques conclusives\n",
    "\n",
    "A travers cet exemple l'objectif est de comprendre ce qu'il se trame derrière l'apprentissage d'un réseau de neurones simple. Pour les réseaux de neurones plus complexes, les concepts et enjeux sont les mêmes mais les opérations et les algortihmes sont plus complexes. Aujourd'hui, en python il existe la libraire [scikit-learn](https://scikit-learn.org/stable/) qui regroupe énormement d'algorithmes de machine learning et qui permet d'écrire des codes python d'une dizaine de lignes.\n",
    "\n"
   ]
  },
  {
   "cell_type": "markdown",
   "metadata": {},
   "source": [
    "## Pour aller plus loin...\n",
    "\n",
    "### Un réseau de neurones simple en ligne\n",
    "\n",
    "Sur le site https://playground.tensorflow.org/ il est possible de simuler en ligne l'apprentissage d'un réseau de neurones avec nombre de neurones et un nombre de couches arbitraires. Les jeux de données proposés sont à 2 dimensions $(x_1, x_2)$, et il est possible de nourrir directement le réseau avec ces données, ou leurs sinus, leurs produits, etc... (colonne *Features*). Plusieurs fonctions d'activation sont proposées dans les menus déroulants. Après avoir appuyé sur *Play* on visualise l'évolution de la courbe d'apprentissage ainsi que la construction des fontières pour la classification des données.\n",
    "\n",
    "### Un réseau de neurones pour classer des chiffres manuscripts\n",
    "\n",
    "Le site http://neuralnetworksanddeeplearning.com/chap2.html propose un livre en ligne sur le machine learning très complet. Le lien ci-dessus propose un cours qui suit la progression de ce TD et des vidéos, ainsi qu'un [code simple](http://neuralnetworksanddeeplearning.com/chap1.html#implementing_our_network_to_classify_digits) qui permet de créer une réseau de neurones entrainés sur des chiffres manuscripts (base de données [MNIST](https://fr.wikipedia.org/wiki/Base_de_donn%C3%A9es_MNIST)). Le code permettant l'import des données est fourni avec le TD, et le code permettant la création et l'entrainement d'un réseau simple est reproduit ci-dessous. Etudiez-le et remarquez à quel point il ressemble au vôtre, alors que les données sont bien plus complexes. En voici un extrait :\n",
    "\n",
    "![](https://upload.wikimedia.org/wikipedia/commons/2/27/MnistExamples.png)\n",
    "\n",
    "Les lignes ci-dessous permettent de charger les données, séparées en trois lots :"
   ]
  },
  {
   "cell_type": "code",
   "execution_count": null,
   "metadata": {},
   "outputs": [],
   "source": [
    "from mnist import *\n",
    "\n",
    "training_data, validation_data, test_data = load_data_wrapper()"
   ]
  },
  {
   "cell_type": "code",
   "execution_count": null,
   "metadata": {},
   "outputs": [],
   "source": [
    "plot_images_together(get_images(training_data))"
   ]
  },
  {
   "cell_type": "code",
   "execution_count": null,
   "metadata": {},
   "outputs": [],
   "source": [
    "import random\n",
    "\n",
    "class Network2():\n",
    "\n",
    "    def __init__(self, sizes):\n",
    "        \"\"\"The list ``sizes`` contains the number of neurons in the\n",
    "        respective layers of the network.  For example, if the list\n",
    "        was [2, 3, 1] then it would be a three-layer network, with the\n",
    "        first layer containing 2 neurons, the second layer 3 neurons,\n",
    "        and the third layer 1 neuron.  The biases and weights for the\n",
    "        network are initialized randomly, using a Gaussian\n",
    "        distribution with mean 0, and variance 1.  Note that the first\n",
    "        layer is assumed to be an input layer, and by convention we\n",
    "        won't set any biases for those neurons, since biases are only\n",
    "        ever used in computing the outputs from later layers.\"\"\"\n",
    "        self.num_layers = len(sizes)\n",
    "        self.sizes = sizes\n",
    "        self.biases = [np.random.randn(y, 1) for y in sizes[1:]]\n",
    "        self.weights = [np.random.randn(y, x)\n",
    "                        for x, y in zip(sizes[:-1], sizes[1:])]\n",
    "\n",
    "    def feedforward(self, a):\n",
    "        \"\"\"Return the output of the network if ``a`` is input.\"\"\"\n",
    "        for b, w in zip(self.biases, self.weights):\n",
    "            a = sigmoid(np.dot(w, a)+b)\n",
    "        return a\n",
    "\n",
    "    def SGD(self, training_data, epochs, mini_batch_size, eta,\n",
    "            test_data=None):\n",
    "        \"\"\"Train the neural network using mini-batch stochastic\n",
    "        gradient descent.  The ``training_data`` is a list of tuples\n",
    "        ``(x, y)`` representing the training inputs and the desired\n",
    "        outputs.  The other non-optional parameters are\n",
    "        self-explanatory.  If ``test_data`` is provided then the\n",
    "        network will be evaluated against the test data after each\n",
    "        epoch, and partial progress printed out.  This is useful for\n",
    "        tracking progress, but slows things down substantially.\"\"\"\n",
    "\n",
    "        training_data = list(training_data)\n",
    "        n = len(training_data)\n",
    "\n",
    "        if test_data:\n",
    "            test_data = list(test_data)\n",
    "            n_test = len(test_data)\n",
    "\n",
    "        for j in range(epochs):\n",
    "            random.shuffle(training_data)\n",
    "            mini_batches = [\n",
    "                training_data[k:k+mini_batch_size]\n",
    "                for k in range(0, n, mini_batch_size)]\n",
    "            for mini_batch in mini_batches:\n",
    "                self.update_mini_batch(mini_batch, eta)\n",
    "            if test_data:\n",
    "                print(\"Epoch {} : {} / {}\".format(j,self.evaluate(test_data),n_test));\n",
    "            else:\n",
    "                print(\"Epoch {} complete\".format(j))\n",
    "\n",
    "    def update_mini_batch(self, mini_batch, eta):\n",
    "        \"\"\"Update the network's weights and biases by applying\n",
    "        gradient descent using backpropagation to a single mini batch.\n",
    "        The ``mini_batch`` is a list of tuples ``(x, y)``, and ``eta``\n",
    "        is the learning rate.\"\"\"\n",
    "        nabla_b = [np.zeros(b.shape) for b in self.biases]\n",
    "        nabla_w = [np.zeros(w.shape) for w in self.weights]\n",
    "        for x, y in mini_batch:\n",
    "            delta_nabla_b, delta_nabla_w = self.backprop(x, y)\n",
    "            nabla_b = [nb+dnb for nb, dnb in zip(nabla_b, delta_nabla_b)]\n",
    "            nabla_w = [nw+dnw for nw, dnw in zip(nabla_w, delta_nabla_w)]\n",
    "        self.weights = [w-(eta/len(mini_batch))*nw\n",
    "                        for w, nw in zip(self.weights, nabla_w)]\n",
    "        self.biases = [b-(eta/len(mini_batch))*nb\n",
    "                       for b, nb in zip(self.biases, nabla_b)]\n",
    "\n",
    "    def backprop(self, x, y):\n",
    "        \"\"\"Return a tuple ``(nabla_b, nabla_w)`` representing the\n",
    "        gradient for the cost function C_x.  ``nabla_b`` and\n",
    "        ``nabla_w`` are layer-by-layer lists of numpy arrays, similar\n",
    "        to ``self.biases`` and ``self.weights``.\"\"\"\n",
    "        nabla_b = [np.zeros(b.shape) for b in self.biases]\n",
    "        nabla_w = [np.zeros(w.shape) for w in self.weights]\n",
    "        # feedforward\n",
    "        activation = x\n",
    "        activations = [x] # list to store all the activations, layer by layer\n",
    "        zs = [] # list to store all the z vectors, layer by layer\n",
    "        for b, w in zip(self.biases, self.weights):\n",
    "            z = np.dot(w, activation)+b\n",
    "            zs.append(z)\n",
    "            activation = sigmoid(z)\n",
    "            activations.append(activation)\n",
    "        # backward pass\n",
    "        delta = self.cost_derivative(activations[-1], y) * \\\n",
    "            sigmoid_derivative(zs[-1])\n",
    "        nabla_b[-1] = delta\n",
    "        nabla_w[-1] = np.dot(delta, activations[-2].transpose())\n",
    "        # Note that the variable l in the loop below is used a little\n",
    "        # differently to the notation in Chapter 2 of the book.  Here,\n",
    "        # l = 1 means the last layer of neurons, l = 2 is the\n",
    "        # second-last layer, and so on.  It's a renumbering of the\n",
    "        # scheme in the book, used here to take advantage of the fact\n",
    "        # that Python can use negative indices in lists.\n",
    "        for l in range(2, self.num_layers):\n",
    "            z = zs[-l]\n",
    "            sp = sigmoid_derivative(z)\n",
    "            delta = np.dot(self.weights[-l+1].transpose(), delta) * sp\n",
    "            nabla_b[-l] = delta\n",
    "            nabla_w[-l] = np.dot(delta, activations[-l-1].transpose())\n",
    "        return (nabla_b, nabla_w)\n",
    "\n",
    "    def evaluate(self, test_data):\n",
    "        \"\"\"Return the number of test inputs for which the neural\n",
    "        network outputs the correct result. Note that the neural\n",
    "        network's output is assumed to be the index of whichever\n",
    "        neuron in the final layer has the highest activation.\"\"\"\n",
    "        test_results = [(np.argmax(self.feedforward(x)), y)\n",
    "                        for (x, y) in test_data]\n",
    "        return sum(int(x == y) for (x, y) in test_results)\n",
    "\n",
    "    def cost_derivative(self, output_activations, y):\n",
    "        \"\"\"Return the vector of partial derivatives \\partial C_x /\n",
    "        \\partial a for the output activations.\"\"\"\n",
    "        return (output_activations-y)\n"
   ]
  },
  {
   "cell_type": "code",
   "execution_count": null,
   "metadata": {},
   "outputs": [],
   "source": [
    "training_data, validation_data, test_data = load_data_wrapper()\n",
    "\n",
    "net = Network2([784, 30, 10])\n",
    "net.SGD(training_data, 30, 10, 3.0, test_data=test_data)"
   ]
  },
  {
   "cell_type": "markdown",
   "metadata": {},
   "source": [
    "Le taux affiché représente le pourcentage de réussite de l'entrainement après $N=$`epochs` iterations. Vous pouvez faire varier certains paramètres et voir leur influence sur le processus."
   ]
  },
  {
   "cell_type": "markdown",
   "metadata": {},
   "source": [
    "### Tutoriels scikit-learn\n",
    "\n",
    "Pour aller plus loin, il est recommandé de suivre les tutoriels fournis avec la librairie scikit-learn: https://scikit-learn.org/stable/tutorial/index.html\n",
    "Sans forcément expliquer les mathématiques et l'algorithmes sous-jacents aux outils proposés, ils permettent d'avoir une introduction pratique au machine learning, comme dans l'exemple ci-dessous:"
   ]
  },
  {
   "cell_type": "code",
   "execution_count": null,
   "metadata": {},
   "outputs": [],
   "source": [
    "from sklearn import datasets\n",
    "\n",
    "digits = datasets.load_digits()\n",
    "\n",
    "print(\"Données :\",digits.data)  \n",
    "print(\"Sorties :\",digits.target)"
   ]
  },
  {
   "cell_type": "code",
   "execution_count": null,
   "metadata": {},
   "outputs": [],
   "source": [
    "n_digits = 10\n",
    "fig, ax = plt.subplots(1,n_digits,figsize=(n_digits*2,6))\n",
    "for i in range(n_digits):\n",
    "    ax[i].imshow(digits.images[i], cmap=\"Greys\")\n",
    "    ax[i].set_title(f\"Chiffre : {digits.target[i]}\")\n",
    "plt.show()"
   ]
  },
  {
   "cell_type": "markdown",
   "metadata": {},
   "source": [
    "Ici l'exemple utilise le [Support Vector Machine](https://fr.wikipedia.org/wiki/Machine_%C3%A0_vecteurs_de_support) pour catégoriser les chiffres, 3 lignes suffisent :"
   ]
  },
  {
   "cell_type": "code",
   "execution_count": null,
   "metadata": {},
   "outputs": [],
   "source": [
    "from sklearn import svm\n",
    "clf = svm.SVC(gamma=0.001, C=100.)\n",
    "clf.fit(digits.data[:-1], digits.target[:-1])  \n",
    "\n",
    "n_digits = 10\n",
    "pred = clf.predict(digits.data[-n_digits:])\n",
    "print(pred)\n",
    "\n",
    "fig, ax = plt.subplots(1,n_digits,figsize=(n_digits*2,6))\n",
    "for i in range(n_digits):\n",
    "    ax[i].imshow(digits.images[-n_digits+i], cmap=\"Greys\")\n",
    "    ax[i].set_title(f\"Chiffre reconnu: {pred[i]}\")\n",
    "plt.show()"
   ]
  },
  {
   "cell_type": "code",
   "execution_count": null,
   "metadata": {},
   "outputs": [],
   "source": []
  },
  {
   "cell_type": "code",
   "execution_count": null,
   "metadata": {},
   "outputs": [],
   "source": []
  }
 ],
 "metadata": {
  "kernelspec": {
   "display_name": "Python 3",
   "language": "python",
   "name": "python3"
  },
  "language_info": {
   "codemirror_mode": {
    "name": "ipython",
    "version": 3
   },
   "file_extension": ".py",
   "mimetype": "text/x-python",
   "name": "python",
   "nbconvert_exporter": "python",
   "pygments_lexer": "ipython3",
   "version": "3.8.6"
  }
 },
 "nbformat": 4,
 "nbformat_minor": 2
}
