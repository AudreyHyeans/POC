{
 "cells": [
  {
   "cell_type": "markdown",
   "metadata": {},
   "source": [
    "Merci de **ne pas modifier** le nom de ce notebook (même pour y inclure son nom).\n",
    "\n",
    "Quelques conseils:\n",
    "- pour exécutez une cellule, cliquez sur le bouton *Exécuter* ci-dessus ou tapez **Shift+Enter**\n",
    "- si l'exécution d'une cellule prend trop de temps, sélectionner dans le menu ci-dessus *Noyau/Interrompre*\n",
    "- en cas de très gros plantage *Noyau/Redémarrer*\n",
    "- **sauvegardez régulièrement vos réponses** en cliquant sur l'icone disquette ci-dessus à gauche, ou *Fichier/Créer une nouvelle sauvegarde*\n",
    "\n",
    "Pour répondre aux questions, remplacer les lignes ci-dessous par vos réponses: \n",
    "```python \n",
    "#LA REPONSE ICI\n",
    "raise NotImplementedError()\n",
    "``` \n"
   ]
  },
  {
   "cell_type": "markdown",
   "metadata": {},
   "source": [
    "---"
   ]
  },
  {
   "cell_type": "markdown",
   "metadata": {},
   "source": [
    "# TD4 :  Chaînes de Markov\n",
    "\n",
    "Ce TD a pour objectif d'explorer les propriétés des chaînes de Markov pour la résolution de problème statistique complexe et les simulations Monte-Carlo par chaînes de Markov."
   ]
  },
  {
   "cell_type": "code",
   "execution_count": 1,
   "metadata": {
    "deletable": false,
    "editable": false,
    "nbgrader": {
     "cell_type": "code",
     "checksum": "d0edb864b0957c0d9503a479ae3620b7",
     "grade": false,
     "grade_id": "cell-7dc59850740fb964",
     "locked": true,
     "schema_version": 3,
     "solution": false,
     "task": false
    }
   },
   "outputs": [],
   "source": [
    "import numpy as np\n",
    "import matplotlib.pyplot as plt"
   ]
  },
  {
   "cell_type": "markdown",
   "metadata": {},
   "source": [
    "## Exercice 1 : problème du voyageur de commerce\n",
    "\n",
    "Le problème du voyageur de commerce consiste en la traversée de $n$ villes par un voyageur qui doit minimiser la distance parcourue : $n$ villes sont disposées dans un espace à deux dimensions. Un voyageur doit parcourir ces $n$ villes puis revenir à son point de départ, tout en minimisant la longueur du trajet. Chaque chemin possible correspond à une permutation des villes. Comme le trajet effectué est un cycle, on peut se fixer une ville de départ. Il y a donc $(n−1)!/2$ chemins possibles. On pourrait  toutes  les  tester  mais  cela  prendrait  un  temps  trop  important étant donné  le  nombre  de  chemins  possibles. Songer que pour $n=100$, cela représente $10^{155}$ trajets, soit plus que d'atomes dans l'Univers.\n",
    "\n",
    "Malgré la simplicité de son énoncé, il s'agit d'un problème d'optimisation pour lequel on ne connait pas d'algorithme permettant de trouver une solution exacte rapidement dans tous les cas. Plus précisément, on ne connait pas d'algorithme en temps polynomial, et sa version décisionnelle (pour une distance L, existe-t-il un chemin plus court que L passant par toutes les villes et qui termine dans la ville de départ ?) est un problème NP-complet, ce qui est un indice de sa difficulté. \n",
    "\n",
    "Dans cet exercice, on  utilise  donc  un  algorithme de recuit simulé utilisant une chaîne de Markov pour converger le plus rapidement possible, quoique sans 100% de garantie, vers un chemin optimal. Pour les tests, on prendra $n=10$ villes. Pour s'amuser vous pouvez prendre jusqu'à une centaine de villes et apprécier la rapidité de convergence de l'algorithme."
   ]
  },
  {
   "cell_type": "markdown",
   "metadata": {},
   "source": [
    "1. Générer $n$ positions $(x, y)$ aléatoires de villes dans un espace $[0,1]\\times[0,1]$ à l'aide de `np.random.random`. Afficher le nombre de chemins possibles et représenter les positions des villes dans une figure.\n",
    "\n",
    "*Astuce: à des fins de tests, on pourra aussi générer ces $n$ positions sur un cercle pour tester les algorithmes suivants, car le chemin le plus court est alors le parcours de la circonférence du cercle.*"
   ]
  },
  {
   "cell_type": "code",
   "execution_count": 27,
   "metadata": {
    "deletable": false,
    "nbgrader": {
     "cell_type": "code",
     "checksum": "6167927bb017c2a5c9d5a71b6c3e7cf8",
     "grade": true,
     "grade_id": "cell-a245497102658f62",
     "locked": false,
     "points": 2,
     "schema_version": 3,
     "solution": true,
     "task": false
    }
   },
   "outputs": [
    {
     "data": {
      "image/png": "[encoded data removed]",
      "text/plain": [
       "<Figure size 432x288 with 1 Axes>"
      ]
     },
     "metadata": {
      "needs_background": "light"
     },
     "output_type": "display_data"
    }
   ],
   "source": [
    "def villes(n=10): #renvoit un tableau à 2 colonnes avec dans l'une les x et dans l'autre les y et n lignes\n",
    "    return np.random.random((n,2))\n",
    "\n",
    "ville= villes(10)\n",
    "v= ville.transpose()\n",
    "x,y = v\n",
    "fig = plt.figure()\n",
    "plt.scatter(x,y)\n",
    "plt.title(\"carte des villes\")\n",
    "plt.xlabel(\"x\")\n",
    "plt.ylabel(\"y\")\n",
    "plt.show()"
   ]
  },
  {
   "cell_type": "markdown",
   "metadata": {},
   "source": [
    "2. Créer une fonction qui retourne un cycle aléatoire de $n+1$ entiers: ce sera sous la forme d'une liste d'entiers $k \\in [1, N-1]$ mélangés aléatoirement par la fonction [`np.random.shuffle`](https://docs.scipy.org/doc/numpy-1.15.0/reference/generated/numpy.random.shuffle.html) à laquelle on adjoint l'entier 0 au début et à la fin de la liste pour fermer le cycle. La ville 0 est donc considérée comme étant le point de départ et d'arrivée. Représenter ce cycle par une ligne passant par les villes générées à la question 1."
   ]
  },
  {
   "cell_type": "code",
   "execution_count": 40,
   "metadata": {
    "deletable": false,
    "nbgrader": {
     "cell_type": "code",
     "checksum": "ecf696224c451d3cb800dc23c64359e6",
     "grade": true,
     "grade_id": "cell-adb4383d0a2e2f88",
     "locked": false,
     "points": 2,
     "schema_version": 3,
     "solution": true,
     "task": false
    }
   },
   "outputs": [
    {
     "data": {
      "image/png": "[encoded data removed]",
      "text/plain": [
       "<Figure size 432x288 with 1 Axes>"
      ]
     },
     "metadata": {
      "needs_background": "light"
     },
     "output_type": "display_data"
    }
   ],
   "source": [
    "def cycle(n):\n",
    "    liste = np.array(range(1,n), dtype = int)\n",
    "    np.random.shuffle(liste)\n",
    "    cycle = np.zeros(n+1, dtype= int)\n",
    "    cycle[1:n] = liste\n",
    "    return cycle\n",
    "\n",
    "trajet  = cycle(10)\n",
    "voyage = np.zeros((trajet.size,2))\n",
    "\n",
    "for i in range(len(trajet)):\n",
    "    voyage[i]= ville[(trajet[i])]\n",
    "\n",
    "    \n",
    "voy = voyage.transpose()\n",
    "x,y = voy\n",
    "fig = plt.figure()\n",
    "plt.scatter(x,y)\n",
    "plt.plot(x,y)\n",
    "plt.title(\"carte des villes\")\n",
    "plt.xlabel(\"x\")\n",
    "plt.ylabel(\"y\")\n",
    "plt.show()\n"
   ]
  },
  {
   "cell_type": "markdown",
   "metadata": {},
   "source": [
    "3. Définir une fonction qui à partir des listes des positions des villes et d'un cycle d'entiers calcule la longueur euclidienne du chemin parcouru. On cherchera à la rendre la plus \"vectorielle\" possible grâce aux tableaux `numpy` pour la rendre la plus rapide possible."
   ]
  },
  {
   "cell_type": "code",
   "execution_count": 85,
   "metadata": {
    "deletable": false,
    "nbgrader": {
     "cell_type": "code",
     "checksum": "e1a8cbb18af3d2234c165e4f9764b4b4",
     "grade": true,
     "grade_id": "cell-fc400f0b485b39ad",
     "locked": false,
     "points": 1,
     "schema_version": 3,
     "solution": true,
     "task": false
    }
   },
   "outputs": [
    {
     "name": "stdout",
     "output_type": "stream",
     "text": [
      "4.95536352065496\n"
     ]
    }
   ],
   "source": [
    "def longueur(ville, cycle):\n",
    "    long = 0\n",
    "    voyage = np.zeros((cycle.size,2))\n",
    "    voyage[0]= ville[(cycle[0])]\n",
    "    \n",
    "    for i in range(1,len(cycle)):\n",
    "        voyage[i]= ville[cycle[i]]\n",
    "        x1,y1 = voyage[i]\n",
    "        x0, y0 =  voyage[i-1]\n",
    "        long += np.sqrt((x1-x0)**2 + (y1-y0)**2)\n",
    "    return long\n",
    "\n",
    "l = longueur(ville,trajet)\n",
    "print(l)"
   ]
  },
  {
   "cell_type": "markdown",
   "metadata": {},
   "source": [
    "4. Définir une fonction `permutation(cycle)` qui tire deux entiers aléatoires $i,j$ dans l'intervalle $[1, N]$ et retourne une copie du cycle d'entrée dont les villes aux positions $i,j$ du cycle ont été permutées.\n",
    "\n",
    "*Astuce: pour le tirage d'un entier aléatoire, on pourra utiliser [`np.random.randint`](https://docs.scipy.org/doc/numpy-1.15.0/reference/generated/numpy.random.randint.html).*"
   ]
  },
  {
   "cell_type": "code",
   "execution_count": 58,
   "metadata": {
    "deletable": false,
    "nbgrader": {
     "cell_type": "code",
     "checksum": "4fcddd63031fc372dac674e4a99996fa",
     "grade": true,
     "grade_id": "cell-2baf70bd1942b5c8",
     "locked": false,
     "points": 2,
     "schema_version": 3,
     "solution": true,
     "task": false
    }
   },
   "outputs": [
    {
     "name": "stdout",
     "output_type": "stream",
     "text": [
      "[0 4 3 5 2 1 8 9 6 7 0]\n"
     ]
    }
   ],
   "source": [
    "def permutation(cycle):\n",
    "    tour = np.copy(cycle)\n",
    "    i,j = np.random.randint(1,len(tour)-1, size = 2)\n",
    "    tour[i]=cycle[j]\n",
    "    tour[j]=cycle[i]\n",
    "    return tour\n"
   ]
  },
  {
   "cell_type": "markdown",
   "metadata": {},
   "source": [
    "5. **Algorithme de minimisation classique:** Tester d'abord un algorithme de recherche de minimum standard. Commencer par initialiser un cycle aléatoire, puis, dans une boucle limitée à $N_{\\text{iter}}$ itérations, permuter deux villes alétoirement et garder le cycle s'il a une distance inférieure à celle du cycle précédent. Représenter le cycle final et l'évolution de la longueur du trajet au cours de la boucle. Commentaires ?"
   ]
  },
  {
   "cell_type": "code",
   "execution_count": 71,
   "metadata": {
    "deletable": false,
    "nbgrader": {
     "cell_type": "code",
     "checksum": "0979e7f8a7f2dc8e94adbda45a37d1f7",
     "grade": true,
     "grade_id": "cell-3a57cbbba6a5bcb5",
     "locked": false,
     "points": 2,
     "schema_version": 3,
     "solution": true,
     "task": false
    }
   },
   "outputs": [
    {
     "data": {
      "image/png": "[encoded data removed]",
      "text/plain": [
       "<Figure size 432x288 with 1 Axes>"
      ]
     },
     "metadata": {
      "needs_background": "light"
     },
     "output_type": "display_data"
    }
   ],
   "source": [
    "theta = np.random.uniform(0,2*np.pi, size = 30)\n",
    "x = np.cos(theta)\n",
    "y=np.sin(theta)\n",
    "cercle = np.array([x,y]).transpose()\n",
    "\n",
    "\n",
    "Niter = 10000\n",
    "city = cercle\n",
    "ordre = cycle(len(cercle))\n",
    "l_chemin = longueur(city, ordre)\n",
    "\n",
    "for i in range(Niter):\n",
    "    new_ordre = permutation(ordre)\n",
    "    new_l = longueur(city, new_ordre)\n",
    "    if new_l < l_chemin :\n",
    "        ordre = new_ordre\n",
    "        l_chemin = new_l\n",
    "\n",
    "\n",
    "voyage = np.zeros((ordre.size,2))\n",
    "for i in range(len(ordre)):\n",
    "    voyage[i]= city[(ordre[i])]\n",
    "\n",
    "    \n",
    "voy = voyage.transpose()\n",
    "x,y = voy\n",
    "fig = plt.figure()\n",
    "plt.scatter(x,y)\n",
    "plt.plot(x,y)\n",
    "plt.title(\"carte des villes\")\n",
    "plt.xlabel(\"x\")\n",
    "plt.ylabel(\"y\")\n",
    "plt.show()\n",
    "        \n"
   ]
  },
  {
   "cell_type": "markdown",
   "metadata": {
    "deletable": false,
    "nbgrader": {
     "cell_type": "markdown",
     "checksum": "4979ac54464203e5884da75a44575322",
     "grade": true,
     "grade_id": "cell-b060c53e7186e8b1",
     "locked": false,
     "points": 1,
     "schema_version": 3,
     "solution": true,
     "task": false
    }
   },
   "source": [
    "LA REPONSE ICI (double-clique pour editer la cellule)"
   ]
  },
  {
   "cell_type": "markdown",
   "metadata": {},
   "source": [
    "**Première utilisation des chaînes de Markov** \n",
    "\n",
    "L'algorithme précédent échoue à donner le trajet optimal car il reste coincé dans des minima locaux, lesquels dépendent des conditions initiales. Pour sortir de l'ornière, on va utiliser les propriétés des chaînes de Markov. Pour cela l'idée est d'échantillonner une loi de probabilité qui favorise les trajets courts: si on pose $L(c)$ la longueur du cycle $c$, on peut penser à une densité de probabilité $\\mu(c) \\propto 1/L(c)$. Soit une chaîne sur les cycles $c$, où l'on passe d'un cycle $c_{t}$ à un autre $c_{t+1}$ par une permutation de deux éléments avec une probabilité $P(c_t, c_{t+1})$ que l'on munit de la probabilité de transition suivante:\n",
    "$$ K(c_{t}, c_{t+1}) = \\left\\lbrace\\begin{array}{ll}\n",
    "q(c_{t}, c_{t+1}) & \\text{ si } L(c_{t+1}) < L(c_t) \\\\\n",
    "q(c_{t}, c_{t+1}) \\frac{\\mu(c_{t+1})}{\\mu(c_{t})} & \\text{ si } L(c_{t+1}) > L(c_t) \n",
    "\\end{array}\\right.$$\n",
    "Cette chaîne est clairement Markovienne car sans mémoire (l'étape $t+1$ ne dépend que de l'étape $t$) et réversible. Par conséquent,   un théorème lié aux chaînes de Markov nous assure que celle-ci va converger vers la mesure invariante égale à $\\mu(c)$ par construction, en un temps long. \n",
    "\n",
    "Comment implémenter la règle de transition $K(c_{t}, c_{t+1})$ ? *On utilise un algorihtme de Métropolis.* Préparer une boucle de $N_{\\text{iter}}$ permutations réalisée sur un cycle initial tiré aléatoirement. Au cours de la boucle:\n",
    "- si le ratio $\\mu(c_{t+1})/\\mu(c_t)$ est supérieur à 1, on garde le cycle $c_{t+1}$ pour la prochaine itération;\n",
    "- sinon, tirer un nombre aléatoire $\\alpha$ entre 0 et 1 et garder le cycle $c_{t+1}$  seulement si $\\mu(c_{t+1})/\\mu(c_t) > \\alpha$.\n",
    "\n",
    "\n",
    "6. Ecrire cet algorithme et représenter l'évolution de la longueur du cycle au cours de la boucle. Commentaires ?"
   ]
  },
  {
   "cell_type": "code",
   "execution_count": 75,
   "metadata": {
    "deletable": false,
    "nbgrader": {
     "cell_type": "code",
     "checksum": "13421982d21bffc309fd53817d867b14",
     "grade": true,
     "grade_id": "cell-af47a652693aa702",
     "locked": false,
     "points": 4,
     "schema_version": 3,
     "solution": true,
     "task": false
    }
   },
   "outputs": [
    {
     "data": {
      "image/png": "[encoded data removed]",
      "text/plain": [
       "<Figure size 432x288 with 1 Axes>"
      ]
     },
     "metadata": {
      "needs_background": "light"
     },
     "output_type": "display_data"
    }
   ],
   "source": [
    "theta = np.random.uniform(0,2*np.pi, size = 30)\n",
    "x = np.cos(theta)\n",
    "y=np.sin(theta)\n",
    "cercle = np.array([x,y]).transpose()\n",
    "\n",
    "\n",
    "Niter = 1000\n",
    "city = cercle\n",
    "ordre = cycle(len(cercle))\n",
    "L = longueur(city, ordre)\n",
    "\n",
    "for i in range(Niter):\n",
    "    new_ordre = permutation(ordre)\n",
    "    new_l = longueur(city, new_ordre)\n",
    "    \n",
    "    \n",
    "    if L/new_l >1 :\n",
    "        ordre = new_ordre\n",
    "        l_chemin = new_l\n",
    "    elif L/new_l > np.random.random():\n",
    "        ordre = new_ordre\n",
    "        l_chemin = new_l\n",
    "        \n",
    "voyage = np.zeros((ordre.size,2))\n",
    "for i in range(len(ordre)):\n",
    "    voyage[i]= city[(ordre[i])]\n",
    "\n",
    "    \n",
    "voy = voyage.transpose()\n",
    "x,y = voy\n",
    "fig = plt.figure()\n",
    "plt.scatter(x,y)\n",
    "plt.plot(x,y)\n",
    "plt.title(\"carte des villes\")\n",
    "plt.xlabel(\"x\")\n",
    "plt.ylabel(\"y\")\n",
    "plt.show()"
   ]
  },
  {
   "cell_type": "markdown",
   "metadata": {
    "deletable": false,
    "nbgrader": {
     "cell_type": "markdown",
     "checksum": "0807cc01b30cb97c5d010a91007f83dc",
     "grade": true,
     "grade_id": "cell-e02ff8feb3b66a02",
     "locked": false,
     "points": 1,
     "schema_version": 3,
     "solution": true,
     "task": false
    }
   },
   "source": [
    "LA REPONSE ICI (double-clique pour editer la cellule)"
   ]
  },
  {
   "cell_type": "markdown",
   "metadata": {},
   "source": [
    "**Algorithme de recuit simulé**\n",
    "\n",
    "Une densité de probabilité $\\pi(c) \\propto 1/L(c)$ ne favorise pas assez les petites longueurs. Utilisons maintenant \n",
    "$$\\mu(c) \\propto e^{-\\beta L(c)}$$\n",
    "avec $\\beta$ un paramètre assimilé à l'inverse d'une température. \n",
    "\n",
    "7. Choisir $\\beta = 50$ et implémenter ce nouvel algorithme. Que constatez-vous ?\n",
    "8. Pour assurer la convergence vers le chemin optimal, on va refroidir le système petit à petit. Rajouter une sur-boucle sur $\\beta$ afin de progressivement refroidir la chaîne toutes les $N_{\\text{iter}}$ itérations. Conclusion ?"
   ]
  },
  {
   "cell_type": "code",
   "execution_count": 111,
   "metadata": {
    "deletable": false,
    "nbgrader": {
     "cell_type": "code",
     "checksum": "771d51b43ce4ddccd0b1a9c30296ef93",
     "grade": true,
     "grade_id": "cell-eb97edb978261d4b",
     "locked": false,
     "points": 4,
     "schema_version": 3,
     "solution": true,
     "task": false
    }
   },
   "outputs": [
    {
     "name": "stderr",
     "output_type": "stream",
     "text": [
      "<ipython-input-111-2cebf0307e10>:26: RuntimeWarning: invalid value encountered in double_scalars\n",
      "  if mu_l/mu_L >1 or  mu_l/mu_L > np.random.random():\n"
     ]
    },
    {
     "data": {
      "image/png": "[encoded data removed]",
      "text/plain": [
       "<Figure size 432x288 with 1 Axes>"
      ]
     },
     "metadata": {
      "needs_background": "light"
     },
     "output_type": "display_data"
    },
    {
     "data": {
      "image/png": "[encoded data removed]",
      "text/plain": [
       "<Figure size 432x288 with 1 Axes>"
      ]
     },
     "metadata": {
      "needs_background": "light"
     },
     "output_type": "display_data"
    }
   ],
   "source": [
    "#beta =100\n",
    "\n",
    "theta = np.random.uniform(0,2*np.pi, size = 10)\n",
    "x = np.cos(theta)\n",
    "y=np.sin(theta)\n",
    "cercle = np.array([x,y]).transpose()\n",
    "\n",
    "\n",
    "Niter = 1000\n",
    "city = villes(10)\n",
    "ordre = cycle(len(city))\n",
    "L = longueur(city, ordre)\n",
    "liste_l= []\n",
    "liste_l.append(L)\n",
    "\n",
    "for beta in [50,100,150,1000]:\n",
    "\n",
    "    mu_L = np.exp(-beta * L)\n",
    "\n",
    "    for i in range(1,Niter):\n",
    "        new_ordre = permutation(ordre)\n",
    "        new_l = longueur(city, new_ordre)\n",
    "        mu_l = np.exp(-beta * new_l)\n",
    "        \n",
    "        \n",
    "        if mu_l/mu_L >1 or  mu_l/mu_L > np.random.random():\n",
    "            ordre = new_ordre\n",
    "            L = new_l\n",
    "            mu_L = mu_l\n",
    "            liste_l.append(L)\n",
    "   \n",
    "        \n",
    "voyage = np.zeros((ordre.size,2))\n",
    "for i in range(len(ordre)):\n",
    "    voyage[i]= city[(ordre[i])]\n",
    "    \n",
    "        \n",
    "voy = voyage.transpose()\n",
    "x,y = voy\n",
    "fig1 = plt.figure()\n",
    "plt.scatter(x,y)\n",
    "plt.plot(x,y)\n",
    "plt.title(\"carte des villes\")\n",
    "plt.xlabel(\"x\")\n",
    "plt.ylabel(\"y\")\n",
    "plt.show()\n",
    "\n",
    "fig2 = plt.figure()\n",
    "plt.plot(liste_l)\n",
    "plt.show()"
   ]
  },
  {
   "cell_type": "markdown",
   "metadata": {
    "deletable": false,
    "nbgrader": {
     "cell_type": "markdown",
     "checksum": "7a6e27534285323e078014a5b0372d7a",
     "grade": true,
     "grade_id": "cell-0c32cdf522462bf5",
     "locked": false,
     "points": 2,
     "schema_version": 3,
     "solution": true,
     "task": false
    }
   },
   "source": [
    "LA REPONSE ICI (double-clique pour editer la cellule)"
   ]
  },
  {
   "cell_type": "markdown",
   "metadata": {},
   "source": [
    "9. **Bonus:** Voici ci-dessous la liste des plus grandes villes françaises et leurs coordonnées géographiques en degrés. Trouver le chemin le plus court pour faire un tour de France à vol d'oiseau. On peut atteindre une longueur de 980 km seulement. "
   ]
  },
  {
   "cell_type": "code",
   "execution_count": null,
   "metadata": {
    "deletable": false,
    "editable": false,
    "nbgrader": {
     "cell_type": "code",
     "checksum": "59526842bd49e55c763e42d3e8bd4ba8",
     "grade": false,
     "grade_id": "cell-18b1aa86bbd3ac4c",
     "locked": true,
     "schema_version": 3,
     "solution": false,
     "task": false
    }
   },
   "outputs": [],
   "source": [
    "villes = [[0, 'PARIS', 'Paris', 48.857257, 2.344311],\n",
    "[1, 'MARSEILLE', 'Marseille', 43.2958, 5.366067],\n",
    "[2, 'LYON', 'Lyon', 45.762006, 4.832372],\n",
    "[3, 'TOULOUSE', 'Toulouse', 43.606148, 1.435585],\n",
    "[4, 'NICE', 'Nice', 43.712104, 7.255905],\n",
    "[5, 'NANTES', 'Nantes', 47.219316, -1.556968],\n",
    "[6, 'MONTPELLIER', 'Montpellier', 43.610498, 3.877936],\n",
    "[7, 'STRASBOURG', 'Strasbourg', 48.574935, 7.748352],\n",
    "[8, 'BORDEAUX', 'Bordeaux', 44.837663, -0.577904],\n",
    "[9, 'LILLE', 'Lille', 50.62974, 3.054711],\n",
    "[10, 'RENNES', 'Rennes', 48.117241, -1.677809],\n",
    "[11, 'REIMS', 'Reims', 49.257329, 4.034491],\n",
    "[12, 'LEHAVRE', 'Le Havre', 49.493329, 0.103028],\n",
    "[13, 'SAINT-ETIENNE', 'Saint-Etienne', 45.439955, 4.389153],\n",
    "[14, 'TOULON', 'Toulon', 43.124326, 5.927245],\n",
    "[15, 'GRENOBLE', 'Grenoble', 45.18887, 5.727048],\n",
    "[17, 'NIMES', 'Nimes', 43.833463, 4.351784],\n",
    "[18, 'ANGERS', 'Angers', 47.471287, -0.551617],\n",
    "[19, 'VILLEURBANNE', 'Villeurbanne', 45.771987, 4.89017]]\n",
    "\n",
    "N = len(villes)\n",
    "label = [ville[1] for ville in villes]\n",
    "y = np.array([ville[3] for ville in villes])\n",
    "x = np.array([ville[4] for ville in villes])\n",
    "plt.plot(x, y, \"bo\")\n",
    "plt.axis(\"equal\")\n",
    "for k in range(N):\n",
    "    plt.annotate(label[k], (x[k], y[k]), textcoords=\"offset points\", xytext=(0, 10), ha='center')\n",
    "plt.show()"
   ]
  },
  {
   "cell_type": "code",
   "execution_count": null,
   "metadata": {
    "deletable": false,
    "nbgrader": {
     "cell_type": "code",
     "checksum": "6e8d3d96665a164b2b273b03f380c134",
     "grade": true,
     "grade_id": "cell-0b634bb646fc702d",
     "locked": false,
     "points": 0,
     "schema_version": 3,
     "solution": true,
     "task": false
    }
   },
   "outputs": [],
   "source": [
    "#LA REPONSE ICI\n",
    "raise NotImplementedError()"
   ]
  },
  {
   "cell_type": "markdown",
   "metadata": {},
   "source": [
    "## Exercice 2 : modèle d'Ising\n",
    "\n",
    "Le modèle d'Ising a été introduit dans les années 1920 par H. Lenz et E. Ising pour expliquer l'apparition d'une aimatation spontanée quand on refroidit un corps ferromagnétique en dessous d'une température appelée température de Curie. Dans un milieu ferromagnétique, les spins tendent à s'aligner tous ensemble ($\\forall i, s_i = +1$ ou $\\forall i, s_i=-1$) donc l'énergie d'interaction entre deux spins $i$ et $j$ voisins s'écrit $-Js_i s_j$ où $J$ est une constante d'interaction positive (pour un matériau antiferromagnétique, au contraire on impose $J<0$). S'il y a un champ magnétique extérieur, les spins tendent à s'aligner avec celui-ci et l'intéraction d'un spin $i$ avec ce champ s'écrit $=h s_i$ où $h$ est la valeur du champ extérieur (positif ou négatif). L'énergie d'un micro-état $\\left\\lbrace s_i \\right\\rbrace$ s'écrit \n",
    "$$H = - J \\sum_{(i,j)} s_i s_j - h \\sum_i s_i $$\n",
    "où la double somme est réalisée sur toutes les paires de plus proches voisins (avec conditions aux limites périodiques). \n",
    "\n",
    "E. Ising a entièrement résolu le problème à une dimension en 1925, c'est-à-dire pour une chaîne linéaire de spins: le résultat principal est que  ce modèle ne possède aucune transition de phase. En 1944, L. Onsager réussit le tour de force de résoudre analytiquement le modèle à deux dimensions sur un réseau carré en champ nul. Il prouve l'existence d'une transition de phase du second ordre caractérisée par une température critique $T_c$ telle que $\\sinh( 2J / k_B T_c) = 1$ avec $k_B$ la constante de Boltzmann. Finalement, C.N. Yang complète ces résultats en 1952 en montrant que l'aimantation moyenne $\\left\\langle M \\right\\rangle$ pour $T < T_c$ s'écrit\n",
    "$$\\left\\langle M \\right\\rangle = \\left[ 1 - \\left(\\sinh \\frac{2J}{k_B T}\\right)^{-4} \\right]^{1/8},\\qquad T_c = \\frac{2 J}{k_B \\ln \\left( 1+ \\sqrt{2}\\right)}$$\n",
    "\n",
    "\n",
    "On se placera dans un espace à deux dimensions, avec conditions aux limites périodiques, contenant $N\\times N$ spins à la température $T$ avec un champ externe $h=0$ et $J=1$. A l'aide de chaînes de Markov sur les états $\\left\\lbrace s_i \\right\\rbrace$ nous allons en déduire des propriétés statistiques macroscopiques liées à la transition de phase dans un matériau ferromagnétique autour de la température critique $T_c$.\n",
    "\n"
   ]
  },
  {
   "cell_type": "markdown",
   "metadata": {},
   "source": [
    "1. A l'aide des formules analytiques ci-dessus, calculer la température critique $T_c$ du système et représenter l'évolution de l'aimantation moyenne $\\left\\langle M\\right\\rangle$ avec la température $T$ selon la théorie de Onsager. Placer $T_c$ dans le graphe sous la forme d'une ligne verticale à l'aide de [`plt.axvline`](https://matplotlib.org/3.1.1/api/_as_gen/matplotlib.pyplot.axvline.html)."
   ]
  },
  {
   "cell_type": "code",
   "execution_count": null,
   "metadata": {
    "deletable": false,
    "nbgrader": {
     "cell_type": "code",
     "checksum": "3d18429206796f2faddbe3411c4d7c45",
     "grade": true,
     "grade_id": "cell-f5135b2f255f2127",
     "locked": false,
     "points": 3,
     "schema_version": 3,
     "solution": true,
     "task": false
    }
   },
   "outputs": [],
   "source": [
    "kb = 1.38*e-23\n",
    "Tc = 2/(kb * np.log(1+np.sqrt(2)))\n",
    "\n",
    "def Aiman (T):\n",
    "    "
   ]
  },
  {
   "cell_type": "markdown",
   "metadata": {},
   "source": [
    "2. Créer une fonction qui génère, en une seule ligne, un tableau $N\\times N$ spins valant aléatoirement +1 ou -1. On pourra utiliser la fonction [`np.random.choice`](https://docs.scipy.org/doc/numpy-1.15.0/reference/generated/numpy.random.choice.html). Représenter le tableau généré.\n",
    "\n",
    "**Conseil:** on se limitera à $N=50$ car les calculs deviennent vite intensifs."
   ]
  },
  {
   "cell_type": "code",
   "execution_count": null,
   "metadata": {
    "deletable": false,
    "nbgrader": {
     "cell_type": "code",
     "checksum": "467e34447bfe30d81666c0d525d362a2",
     "grade": true,
     "grade_id": "cell-f14302f5ec5d46fe",
     "locked": false,
     "points": 2,
     "schema_version": 3,
     "solution": true,
     "task": false
    }
   },
   "outputs": [],
   "source": [
    "#LA REPONSE ICI\n",
    "raise NotImplementedError()"
   ]
  },
  {
   "cell_type": "markdown",
   "metadata": {},
   "source": [
    "3. Créer une première fonction qui calcule l'énergie d'interaction associée à un spin $s_i$ en position $(m,n)$ dans un tableau de spins créé par la fonction précédente. On prendra des conditions aux limites périodiques. Puis créer une seconde fonction qui calcule l'énergie totale $H$.  "
   ]
  },
  {
   "cell_type": "code",
   "execution_count": null,
   "metadata": {
    "deletable": false,
    "nbgrader": {
     "cell_type": "code",
     "checksum": "ed77a68e9966a52691b022aeaa809088",
     "grade": true,
     "grade_id": "cell-30f431b06eb4fda3",
     "locked": false,
     "points": 3,
     "schema_version": 3,
     "solution": true,
     "task": false
    }
   },
   "outputs": [],
   "source": [
    "#LA REPONSE ICI\n",
    "raise NotImplementedError()"
   ]
  },
  {
   "cell_type": "markdown",
   "metadata": {},
   "source": [
    "On ne connaît toujours pas la solution analytique pour le modèle d'Ising à trois dimensions ce qui justifierait l'utilisation de méthodes numériques. On se limite toutefois à deux dimensions afin d'éviter des temps de calculs extrêmement longs mais la généralisation à trois dimensions est facile. La procédure normale en physique statistique est de calculer l'énergie libre du système à la température $T$:\n",
    "$$ F = -k_B T \\ln Z(N^2, T, h) $$\n",
    "où $Z$ est la fonction de partition:\n",
    "$$ Z(N^2, T, h) = \\sum_{s_1 = \\pm 1} \\sum_{s_2 = \\pm 1}\\cdots \\sum_{s_{N^2} = \\pm 1} e^{-\\beta H} $$\n",
    "avec $\\beta = 1/ k_B T$. Connaissant l'énergie libre $F$ on peut alors calculer les grandeurs thermodynamiques dont on a besoin:\n",
    "$$ E =- \\frac{\\partial \\ln Z}{\\partial \\beta},\\quad M = \\left.\\frac{\\partial F }{\\partial h}\\right\\vert_{h=0}$$\n",
    "Mais calculer la fonction de partition est de toute évidence impossible dès que $N$ excède quelques dizaines puisqu'il y a $2^{N^2}$ termes et que chacun de ces termes a une complexité en $N^2$. \n",
    "\n",
    "Sachant qu'un micro-état $S_t$ a une probabilité $\\mu_k = e^{-\\beta H_t} / Z$ d'exister, l'idée pour obtenir des grandeurs thermodynamiques sur ce système est d'exploiter les propriétés des chaines de Markov pour échantillonner la loi de probabilité $\\mu_k$ sans avoir à calculer $Z$. On se dote donc de la règle suivante: soit $q(S_t, S_{t+1})$ la probabilité de tirer le spin $s_i$ et de changer son signe pour passer du micro-état $S_t$ au micro-état $S_{t+1}$ ($q(S_t, S_{t+1})$ est une constante pour une loi de probabilité de tirage uniforme), alors considérons le noyau de transition:\n",
    "$$ K(S_t, S_{t+1}) = \\left\\lbrace\\begin{array}{ll}\n",
    "q(S_{t}, S_{t+1}) & \\text{ si } \\mu_{t+1}/\\mu_t > 1 \\\\\n",
    "q(S_{t}, S_{t+1}) \\frac{\\mu(S_{t+1})}{\\mu(S_{t})} & \\text{ si } \\mu_{t+1}/\\mu_t < 1\n",
    "\\end{array}\\right.$$\n",
    "Cette chaîne de Markov est bien réversible et par conséquent on sait qu'elle va échantilloner en temps long sa mesure invariante $\\mu$. \n",
    "\n",
    "Les états explorés par la chaîne vont donc explorer les micro-états associés au système avec la loi de probabilité de l'ensemble canonique. Par le principe d'ergodicité, la moyenne temporelle d'une grandeur macroscopique est égale à la moyenne de sa valeur explorée par les micro-états du système. Réaliser des études statistiques sur les états de la chaîne nous renseigne sur les grandeurs thermodynamiques associées. *Fait notable: à aucun moment il n'est nécessaire de calculer $Z$ car on en travaille qu'avec des rapports de $\\mu_t$ !*\n",
    "\n",
    "\n",
    "4. Ecrire une fonction qui renvoie une copie d'un micro-état $S_t$ dont un spin aléatoire $s_i$ en position $(m,n)$ a changé de signe. Les indices $n$ et $n$ seront tirés aléatoirement selon une loi de probabilité uniforme grâce à la fonction `np.random.randint`.  "
   ]
  },
  {
   "cell_type": "code",
   "execution_count": null,
   "metadata": {
    "deletable": false,
    "nbgrader": {
     "cell_type": "code",
     "checksum": "dde6927d0d7cdb207a0bca0e3568b9b0",
     "grade": true,
     "grade_id": "cell-71b9ef88e621643d",
     "locked": false,
     "points": 2,
     "schema_version": 3,
     "solution": true,
     "task": false
    }
   },
   "outputs": [],
   "source": [
    "#LA REPONSE ICI\n",
    "raise NotImplementedError()"
   ]
  },
  {
   "cell_type": "markdown",
   "metadata": {},
   "source": [
    "5. A la manière de l'exercice précédent, écrire un algorithme de Métropolis-Hastings sur une chaîne de Markov  des micro-états $S_t$. On prendra $k_B=1$. Pour converger la chaîne a besoin d'au moins $N_{iter} = N^2$ itérations pour qu'elle ait le temps de visiter au moins une fois chaque site.\n",
    "\n",
    "**Conseils pour significativement réduire les temps de calculs:**\n",
    "* noter que la différence d'énergie $\\Delta E$ entre deux états suite au changement du spin $s_i$ est simplement égale à -2 fois l'énergie du spin $s_i$;\n",
    "* il est donc possible de ne calculer l'hamiltonien qu'une seule fois, au début de la chaîne;\n",
    "* ne calculer l'exponentielle que dans le cas $\\Delta E > 0$. \n",
    "\n",
    "\n",
    "6. Inclure cet algorithme dans une boucle sur la température $T$, dans le sens croissant et en partant d'un état $\\forall i, s_i=1$ à température nulle pour accélérer la convergence de l'algorithme aux faibles températures (dans le sens décroissant il est rare et fortuit d'atteindre ce micro-état très particulier).\n",
    "\n",
    "7. Pour chaque température $T$, représenter l'évolution de $E$ et $M$ le long de la chaine et réprésenter le dernier micro-état atteint.\n"
   ]
  },
  {
   "cell_type": "code",
   "execution_count": null,
   "metadata": {
    "deletable": false,
    "nbgrader": {
     "cell_type": "code",
     "checksum": "af946c7912c9a21ddeccba69701702eb",
     "grade": true,
     "grade_id": "cell-61cd1779a3fac947",
     "locked": false,
     "points": 10,
     "schema_version": 3,
     "solution": true,
     "task": false
    }
   },
   "outputs": [],
   "source": [
    "#LA REPONSE ICI\n",
    "raise NotImplementedError()"
   ]
  },
  {
   "cell_type": "markdown",
   "metadata": {},
   "source": [
    "8. Calculer l'énergie moyenne et l'aimantation moyenne du système sur la fin de la chaîne, lorsque celle-ci atteint un état à peu près stationnaire (quasi impossible autour de $T_c$). Les représenter en fonction de la température et superposer le modèle de Onsager. Qu'en pensez-vous ?\n",
    "\n",
    "9. De même, calculer la capacité calorifique $c_V$ et la susceptibilité magnétique $\\chi$ par\n",
    "$$ c_V = \\left.\\frac{\\partial E}{\\partial T}\\right\\vert_V  = \\frac{1}{k_B T^2}\\left[\\left\\langle E^2\\right\\rangle - \\left\\langle E\\right\\rangle^2  \\right] , \\qquad \\chi = \\left.\\frac{\\partial M}{\\partial h} \\right\\vert_{h=0}= \\frac{1}{k_B T}\\left[\\left\\langle M^2\\right\\rangle - \\left\\langle M\\right\\rangle^2  \\right]$$\n",
    "et les tracer en fonction de la température. \n",
    "\n",
    "**Conseil:** pour que ces moments d'ordre 2 sur la chaîne soient fiables, celle-ci doit être vraiment très longue...\n",
    "\n",
    "10. Dans le modèle de Onsager, pour $T > T_c$ la susceptibilité vérifie $\\chi \\propto (T-T_c)^{-\\gamma}$ avec $\\gamma = 7/4$. Ajuster à la main les paramètres de cette loi en la superposant au graphe précédent. Qu'obtenez-vous pour $\\gamma$ ? "
   ]
  },
  {
   "cell_type": "code",
   "execution_count": null,
   "metadata": {
    "deletable": false,
    "nbgrader": {
     "cell_type": "code",
     "checksum": "33b20b317ea57d15ba4fa144e9d248c8",
     "grade": true,
     "grade_id": "cell-6a641df448e1da28",
     "locked": false,
     "points": 10,
     "schema_version": 3,
     "solution": true,
     "task": false
    }
   },
   "outputs": [],
   "source": [
    "#LA REPONSE ICI\n",
    "raise NotImplementedError()"
   ]
  },
  {
   "cell_type": "markdown",
   "metadata": {},
   "source": [
    "**Bonus:** reprendre l'exercice avec un champ externe $h$ non nul et/ou une valeur $J<0$."
   ]
  },
  {
   "cell_type": "markdown",
   "metadata": {},
   "source": [
    "## Exercice 3 : expansion de l'Univers et énergie noire\n",
    "\n",
    "En 1929, E. Hubble met en évidence que plus les galaxies sont lointaines plus elles s'éloignent vite de nous. Cette confirmation observationnelle assoit les théories sur l'expansion de l'Univers que différents théoriciens avaient auparavant proposés, comme G. Lemaître ou A. Friedmann. Plus formellement, si on note $v$ la vitesse d'éloignement de l'astre par rapport à nous observateurs, et $D_L$ sa distance  (en mégaparsec Mpc), la loi d'expansion de l'Univers de Hubble-Lemaître s'écrit:\n",
    "$$ v = H_0 D_L $$\n",
    "avec $H_0$ la constante de Hubble qui aujourd'hui est mesurée à environ $70\\,$km/s/Mpc.\n",
    "\n",
    "\n",
    "En 1998, deux équipes indépendantes montrent que l'expansion de l'Univers est en réalité accélérée. La cause de cette accélération est nommée \"énergie noire\" mais sa nature réelle est aujourd'hui toujours inconnue même si plusieurs hypothèses sont avancées (constante fondamentale de la gravitation, énergie du vide, dimensions supplémentaires...). L'accélération a été mesurée via l'observation d'explosions hyper lumineuses d'étoiles lointaines appelées supernovae de type Ia. La particularité de ces explosions est qu'elles émettent toujours la même puissance lumineuse: par conséquent la mesure du flux reçu permet de remonter à leur distance car on sait que le flux se dilue comme la distance au carré. Concrètement, les flux reçus de ces explosions sont apparus plus faibles que prévus aux grandes distances, et ce d'autant plus qu'elles sont lointaines. Ceci signifie que pendant que le photon voyageait jusqu'à nous l'Univers a grandi plus vite que ce qui est prévu, donc il y a eu accélération de l'expansion.\n",
    "\n",
    "\n",
    "L'effet de vitesse s'observe par un décalage \"Doppler\" dans les spectres des astres, et se mesure par le \"décalage spectral vers le rouge\" dit redshitf $z$\n",
    "$$z  = \\frac{\\lambda_{obs}(v)-\\lambda_0}{\\lambda_0} $$\n",
    "avec $\\lambda_0$ la longueur d'onde du photon émis par l'astre et $\\lambda_{obs}$ la longueur d'onde observée. Aujourd'hui, la version moderne de la loi de Hubble se décrit par la distance de luminosité $D_L(z)$ exprimée en fonction du redshift $z$ par:\n",
    "$$\n",
    "D_L(z) =  \\left\\lbrace\\begin{array}{cl}\n",
    "    \\displaystyle{\\frac{(1+z)c}{H_0\\sqrt{-\\Omega_k^0}}\\sin\\left[H_0\\sqrt{-\\Omega_k^0}\\int_0^z\\frac{dz'}{H(z')}\\right]}  & \\text{ si } \\Omega_k^0<0 \\\\\n",
    "    \\displaystyle{(1+z)\\int_0^z\\frac{cd'z}{H(z')}} & \\text{ si } \\Omega_k^0=0 \\\\\n",
    "    \\displaystyle{\\frac{(1+z)c}{H_0\\sqrt{\\Omega_k^0}}\\sinh\\left[H_0\\sqrt{\\Omega_k^0}\\int_0^z\\frac{dz'}{H(z')}\\right] }  & \\text{ si } \\Omega_k^0>0\n",
    "\\end{array}\n",
    "\\right.\n",
    "$$\n",
    "\n",
    "* $c$ est la vitesse de la lumière dans le vide;\n",
    "* $H(z)$ est la fonction de Hubble et qui dépend du contenu en énergie de l'Univers (matière, amtière noire, énergie noire, photons...);\n",
    "* $\\Omega_k^0$ est la densité d'énergie liée à la courbure de l'Univers: $\\Omega_k^0=0$ plat, $\\Omega_k^0>0$ hyperbolique, $\\Omega_k^0<0$ sphérique.\n",
    "\n",
    "A faible redshitf $z$, l'expression ci-dessus se réduit à la loi de Hubble-Lemaître. \n"
   ]
  },
  {
   "cell_type": "markdown",
   "metadata": {},
   "source": [
    "\n",
    "Le modèle standard de la cosmologie moderne considère un Univers uniquement rempli de matière et d'énergie noire: c'est le modèle $\\Lambda$CDM. La fonction de Hubble se déduit des équations de la Relativité Générale et s'écrit:\n",
    "$$ H^2(z) = H^2_0 \\left[\\Omega_m^0(1+z)^3 + \\Omega_\\Lambda^0 + \\Omega_k^0(1+z)^2  \\right], \\quad \\Omega_k^0=1 - \\Omega_m^0 -  \\Omega_\\Lambda^0, \\quad \\Omega_m^0>0$$\n",
    "avec $\\Omega_m^0$ le paramètre lié à la densité d'énergie dans l'Univers e $ \\Omega_\\Lambda^0$ celui lié à la densité d'énergie noire. Lorsqu'on suppose que la matière occupe 100% du contenu de l'Univers, on note $\\Omega_m^0=1$. C'est donc un modèle à 2 paramètres, $\\Omega_m^0$ et $ \\Omega_\\Lambda^0$. \n",
    "\n",
    "La cellule suivante charge les données issues d'un des derniers relevés de supernovae de type Ia, nommé [JLA](https://arxiv.org/pdf/1401.4064.pdf), et donne leur magnitude (brillance) en fonction du redshift:"
   ]
  },
  {
   "cell_type": "code",
   "execution_count": null,
   "metadata": {
    "deletable": false,
    "editable": false,
    "nbgrader": {
     "cell_type": "code",
     "checksum": "e2b0c0473851fb2321b9a5847399b42f",
     "grade": false,
     "grade_id": "cell-ec8e923ee295a759",
     "locked": true,
     "schema_version": 3,
     "solution": false,
     "task": false
    }
   },
   "outputs": [],
   "source": [
    "z_sn, mag_sn, mag_err = np.loadtxt(\"./data/sne_data_sorted_corrected.txt\")\n",
    "\n",
    "plt.errorbar(z_sn, mag_sn, yerr=mag_err, linestyle=\"none\", color=\"k\", marker=\"+\")\n",
    "plt.grid()\n",
    "plt.xlabel(\"Redshift $z$\")\n",
    "plt.ylabel(\"Magnitude des SNIa\")\n",
    "plt.show()"
   ]
  },
  {
   "cell_type": "markdown",
   "metadata": {},
   "source": [
    "\n",
    "La fonction ci-dessous calcule la distance de luminosité normalisée $d_L(z) = D_L(z) H_0/c$ en fonction des paramètres du problème et de la fonction de Hubble normalisée $h(z) = H(z)/H_0$. On initialise une fonction $h(z)$ pour le modèle $\\Lambda$CDM. "
   ]
  },
  {
   "cell_type": "code",
   "execution_count": null,
   "metadata": {
    "deletable": false,
    "editable": false,
    "nbgrader": {
     "cell_type": "code",
     "checksum": "a7a3038a35c86f7601b35150200e9d54",
     "grade": false,
     "grade_id": "cell-cd7f4f04f2383970",
     "locked": true,
     "schema_version": 3,
     "solution": false,
     "task": false
    }
   },
   "outputs": [],
   "source": [
    "from scipy.integrate import quad\n",
    "\n",
    "def dL(h_func, z, omegak0, *h_args):\n",
    "    inv_h = lambda x: 1/h_func(x, *h_args)\n",
    "    if abs(omegak0) < 1e-12:\n",
    "        return (1+z) * quad(inv_h, 0, z)[0]\n",
    "    else:\n",
    "        if omegak0 > 0:\n",
    "            return (1+z)/np.sqrt(omegak0) *np.sinh(np.sqrt(omegak0) * quad(inv_h, 0, z)[0])\n",
    "        else:\n",
    "            return (1+z)/np.sqrt(-omegak0) *np.sin(np.sqrt(-omegak0) * quad(inv_h, 0, z)[0])\n",
    "       \n",
    "def h_LCDM(z, omegam0, omegal0):\n",
    "    omegak0 = 1 -omegam0 - omegal0\n",
    "    return np.sqrt(omegam0*(1+z)**3 + omegak0*(1+z)**2 + omegal0 )\n",
    "\n",
    "omegam0 = 0.3\n",
    "omegal0 = 0.7\n",
    "dL(h_LCDM, 1, 1-omegam0-omegal0, omegam0, omegal0)"
   ]
  },
  {
   "cell_type": "markdown",
   "metadata": {},
   "source": [
    "La magnitude $m$ se déduit de la distance de luminosité normalisée par:\n",
    "\\begin{equation}\n",
    "m_{\\rm model}(z) = 5 \\log_{10} d_L(z) + \\mathcal{M}, \\quad \\mathcal{M} = 24.08\n",
    "\\end{equation}\n",
    "\n",
    "1. Superposer sur un graphe les mesures de magnitudes des supernovae et la prédiction donné par le modèle d'un Univers composé uniquement de matière ($\\Omega_\\Lambda^0=0$). Puis, faites varier le pourcentage de matière  (on rappelle qu'il est raisonnable de supposer $\\Omega_m^0>0$ puisque nous existons), toujours avec $\\Omega_\\Lambda^0=0$. Est-ce que le modèle semble pouvoir s'accorder aux données ? Quel ingrédient faut-il en plus ? Pour bien vérifier celà, tracer aussi la différence des données avec le modèle, que l'on nomme résidus."
   ]
  },
  {
   "cell_type": "code",
   "execution_count": null,
   "metadata": {
    "deletable": false,
    "nbgrader": {
     "cell_type": "code",
     "checksum": "a65988406088be5605bc1228d04143bc",
     "grade": true,
     "grade_id": "cell-bcbb6649d5bfbcbd",
     "locked": false,
     "points": 4,
     "schema_version": 3,
     "solution": true,
     "task": false
    }
   },
   "outputs": [],
   "source": [
    "#LA REPONSE ICI\n",
    "raise NotImplementedError()"
   ]
  },
  {
   "cell_type": "markdown",
   "metadata": {
    "deletable": false,
    "nbgrader": {
     "cell_type": "markdown",
     "checksum": "c5f8ce59affde0486278eef844c1ca94",
     "grade": true,
     "grade_id": "cell-83693101d09f26b9",
     "locked": false,
     "points": 1,
     "schema_version": 3,
     "solution": true,
     "task": false
    }
   },
   "source": [
    "LA REPONSE ICI (double-clique pour editer la cellule)"
   ]
  },
  {
   "cell_type": "markdown",
   "metadata": {},
   "source": [
    "Pour bien comparer un modèle à des données, une bonne façon est de minimiser l'écart entre les deux via la minimisation d'un $\\chi^2$:\n",
    "$$ \\chi^2 = \\sum_i \\left(\\frac{m_{\\rm model}(z_i)-m_i}{\\sigma_i}\\right)^2$$\n",
    "avec $z_i, m_i$ et $\\sigma_i$ respectivement le redshift, la magnitude et l'incertitude sur la magnitude de la supernova $i$. La fonction [`scipy.optimize.curve_fit`](https://docs.scipy.org/doc/scipy/reference/generated/scipy.optimize.curve_fit.html) réalise cette minimisation, mais nous allons ici utiliser des chaînes de Markov, bien que leur utilisation soit plus pertinente lorsqu'il y a beaucoup de paramètres dans le modèle.\n",
    "\n",
    "Si l'on suppose que les mesures sont issues d'un processus gaussien et que $m_{\\rm model}(z_i)$ est le véritable modèle $M(\\Omega_m^0, \\Omega_\\Lambda^0)$ choisi par la Nature, alors la probabilité d'observer le jeu de données $D=\\left\\lbrace m_i \\right\\rbrace$ est données par:\n",
    "\n",
    "$$ \\mathcal{L}(D \\vert M)  \\propto \\text{exp}\\left\\lbrace -\\sum_i \\left(\\frac{m_{\\rm model}(z_i, M)-m_i}{2\\sigma_i}\\right)^2 \\right\\rbrace \\propto \\text{exp}\\left\\lbrace -\\chi^2(M)/2 \\right\\rbrace$$\n",
    "si les mesures sont indépendantes. $\\mathcal{L}(D \\vert M)$ est appelée fonction de vraisemblance ou likelihood, et représente la probabilité d'observer $D$ sachant $M$. On reconnait là une forme de fonction déjà rencontrée dans l'utilisation des chaînes de Markov où l'écart entre données et modèle serait à minimiser avec une \"température\" proportionnelle aux incertitudes.\n",
    "\n",
    "Comment minimiser cet écart et en déduire des propriétés sur $\\Omega_m^0$ comme sa valeur moyenne, sa valeur au minimum ou encore son incertitude ? Il nous faut encore un dernier ingrédient: le théorème de Bayes:\n",
    "$$\\mu(M \\vert D) = \\frac{\\mathcal{L}(D \\vert M) \\pi(M)}{\\pi(D)} \\propto e^{-\\chi^2(M)/2} \\pi(M)$$\n",
    "où $\\mu(M \\vert D)$ est la probabilité du modèle $M$ sachant les données $D$ (donc nous donne la propabilité liée à $\\Omega_m^0$ sachant les données), $\\pi(D)$ est la probabilité d'avoir ces données (on la considérera comme une simple constante de normalisation inconnue), et $\\pi(M)$ est le *prior* sur le modèle c'est-à-dire la connaissance prélable qu'on a sur lui. Dans notre cas le prior sur le modèle est une loi de probabilité uniforme qui interdit $\\Omega_m^0<0$."
   ]
  },
  {
   "cell_type": "markdown",
   "metadata": {},
   "source": [
    "2. Ecrire une fonction $\\chi^2(\\Omega_m^0, \\Omega_\\Lambda^0)$ d'après les formules ci-dessus.\n",
    "3. Ecrire une fonction prior $\\pi(\\Omega_m^0, \\Omega_\\Lambda^0)$ qui renvoie 0 si les conditions sur les paramètres sont violées, 1 sinon (pour le moment on ne met aucune condition sur $\\Omega_\\Lambda^0$).\n",
    "4. Mettre en place un algorithme de Métropolis, avec une chaîne de Markov sur le vecteur de paramètre $\\vec{\\Omega} = (\\Omega_m^0, \\Omega_\\Lambda^0)$. Pour passer d'un état $k$ de la chaîne au suivant:\n",
    "    * on tire un vecteur $\\tilde{\\vec{\\Omega}}$ au hasard selon une loi Gaussienne $\\mathcal{G}(\\vec{\\Omega}_{k}, C)$ centrée sur $\\vec{\\Omega}_{k}$ avec une matrice de covariance $C$ que l'on prendra diagonale $C=c I_2$ avec une valeur $c$ que l'on ajustera pour améliorer la convergence de l'algorithme (commencer avec $c=0.001$); on utilisera [`np.random.multivariate_normal`](https://docs.scipy.org/doc/numpy-1.15.1/reference/generated/numpy.random.multivariate_normal.html) pour le tirage gaussien.\n",
    "    * si le prior n'est pas vérifié, on reste sur le vecteur $\\tilde{\\vec{\\Omega}}_{k}$ et on passe à l'itération suivante\n",
    "    * si la valeur du $\\chi^2$ diminue, on met à jour le vecteur $\\vec{\\Omega}_{k+1}$ avec $\\tilde{\\vec{\\Omega}}$\n",
    "    * sinon, on tire un nombre $\\alpha$ selon une distribution uniforme $[0 , 1]$, et si $e^{(\\chi^2_{k+1}-\\chi^2_k )/2} > \\alpha$ on accepte le tirage $\\tilde{\\vec{\\Omega}}$, sinon on reste sur $\\vec{\\Omega}_{k}$\n",
    "5. Tracer l'évolution du $\\chi^2$ le long de la chaîne, ainsi que l'évolution des valeurs de $\\Omega_m^0$ et $\\Omega_\\Lambda^0$. La chaîne vous semble-t-elle avoir converger ? Si cela vous semble trop lent, ajuster le paramètre $c$.\n"
   ]
  },
  {
   "cell_type": "code",
   "execution_count": null,
   "metadata": {
    "deletable": false,
    "nbgrader": {
     "cell_type": "code",
     "checksum": "0a89fb47adefdb20268b11d061a9a2bf",
     "grade": true,
     "grade_id": "cell-b9bff50f0674c2c7",
     "locked": false,
     "points": 10,
     "schema_version": 3,
     "solution": true,
     "task": false
    }
   },
   "outputs": [],
   "source": [
    "#LA REPONSE ICI\n",
    "raise NotImplementedError()"
   ]
  },
  {
   "cell_type": "markdown",
   "metadata": {},
   "source": [
    "Comment obtenir des valeurs intéressantes sur les paramètres $\\vec{\\Omega}$ ? Si la chaîne de Markov a convergé vers sa mesure invariante $\\mu(\\Omega_m^0, \\Omega_\\Lambda^0\\vert D)$, alors le principe ergodique nous dit qu'on peut extraire la valeur moyenne des paramètres et leur écart type en réalisant ces opérations sur la chaîne: ce seront respectivement les mesures et incertitudes associées à ces paramètres étant données les données $D$. \n",
    "\n",
    "Pour les questions ci-dessous, on retirera les premières étapes de la chaîne pour ne garder que la phase dans laquelle elle est dans un état stationnaire. La première phase s'appelle le \"burn-in\" et est très influencée par les conditions initiales. Pour cela il faut inspecter visuellement l'évolution de la chaîne en fonction de $k$.\n",
    "\n",
    "6. Calculer la moyenne et l'écart type de $\\Omega_m^0$ et $\\Omega_\\Lambda^0$.\n",
    "7. Repérer et stocker les valeurs de $\\Omega_m^0$ et $\\Omega_\\Lambda^0$ lorsque le $\\chi^2$ a atteint sa valeur minimale: ce sont les valeurs les plus probables du modèle avec ces données.\n",
    "8. Tracer les histogrammes 1D  pour $\\Omega_m^0$ et $ \\Omega_\\Lambda^0 $ grâce à [`plt.hist`](https://matplotlib.org/3.1.1/api/_as_gen/matplotlib.pyplot.hist.html). Placer les valeurs moyennes et valeurs les plus probables dessus.\n",
    "9. Tracer l'histogramme 2D $\\left\\lbrace \\Omega_m^0, \\Omega_\\Lambda^0 \\right\\rbrace$ grâce à [`plt.hist2d`](https://matplotlib.org/3.1.1/api/_as_gen/matplotlib.pyplot.hist2d.html). Placer les valeurs moyennes et valeurs les plus probables dessus. Choissisez un nombre de bins adapté et une bonne échelle de couleur. S'il le faut, réaliser une chaîne plus longue."
   ]
  },
  {
   "cell_type": "code",
   "execution_count": null,
   "metadata": {
    "deletable": false,
    "nbgrader": {
     "cell_type": "code",
     "checksum": "913a23ff8be94ddb9589cdd268951d4c",
     "grade": true,
     "grade_id": "cell-0dfee946bc6628c1",
     "locked": false,
     "points": 4,
     "schema_version": 3,
     "solution": true,
     "task": false
    }
   },
   "outputs": [],
   "source": [
    "#LA REPONSE ICI\n",
    "raise NotImplementedError()"
   ]
  },
  {
   "cell_type": "markdown",
   "metadata": {},
   "source": [
    "10. Jetez un oeil à [l'article qui a publié les données utilisées dans ce TP](https://arxiv.org/pdf/1401.4064.pdf), en particulier à la figure 15 et à la table 5 de [cet article](https://arxiv.org/pdf/1605.02627.pdf). Comment se comparent vos valeurs ?\n",
    "\n",
    "**Remarque:** dans ces articles, l'histogramme 2D représente des niveaux de confiance à 68% ($1\\sigma$ d'une gaussienne) et 95% ($2\\sigma$). Le contour à 68% donne une idée de l'écart type pour les paramètres."
   ]
  },
  {
   "cell_type": "markdown",
   "metadata": {
    "deletable": false,
    "nbgrader": {
     "cell_type": "markdown",
     "checksum": "fe00377fc248694d824c550979d59965",
     "grade": true,
     "grade_id": "cell-84cac04979cd405b",
     "locked": false,
     "points": 2,
     "schema_version": 3,
     "solution": true,
     "task": false
    }
   },
   "source": [
    "LA REPONSE ICI (double-clique pour editer la cellule)"
   ]
  },
  {
   "cell_type": "markdown",
   "metadata": {},
   "source": [
    "**Bonus:** Tester un modèle alternatif d'énergie noire. Ce modèle d'Univers est plat ($\\Omega_k^0 = 0$) et l'énergie noire possède une équation d'état $w$ laissée libre dans le modèle (elle vallait $-1$ dans le modèle $\\Lambda$CDM):\n",
    "$$ H^2(z) = H^2_0 \\left[\\Omega_m^0(1+z)^3 + (1- \\Omega_m^0)(1+z)^{-3(1+w)}  \\right], \\quad \\Omega_m^0>0$$\n",
    "Reproduire la figure 16 de l'article [JLA](https://arxiv.org/pdf/1401.4064.pdf) à partir de ce modèle à deux paramètres $\\Omega_m^0, w$."
   ]
  },
  {
   "cell_type": "markdown",
   "metadata": {},
   "source": [
    "# Exercice facultatif\n",
    "\n",
    "Reproduire les figures du cours avec un algorithme de Métropolis-Hastings appliqé à une distribution de Boltzmann pour une (ou des ) particule(s) piégée(s) dans un potentiel de Lennard-Jones à la température $T$. "
   ]
  },
  {
   "cell_type": "code",
   "execution_count": null,
   "metadata": {
    "deletable": false,
    "nbgrader": {
     "cell_type": "code",
     "checksum": "e7314768aab9751425079acde36b2491",
     "grade": true,
     "grade_id": "cell-b0954039dd9870a7",
     "locked": false,
     "points": 0,
     "schema_version": 3,
     "solution": true,
     "task": false
    }
   },
   "outputs": [],
   "source": [
    "#LA REPONSE ICI\n",
    "raise NotImplementedError()"
   ]
  },
  {
   "cell_type": "code",
   "execution_count": null,
   "metadata": {
    "deletable": false,
    "nbgrader": {
     "cell_type": "code",
     "checksum": "bee194b18283e29ea3ca81d3ad1370e9",
     "grade": true,
     "grade_id": "cell-99628fdae956c87b",
     "locked": false,
     "points": 0,
     "schema_version": 3,
     "solution": true,
     "task": false
    }
   },
   "outputs": [],
   "source": [
    "#LA REPONSE ICI\n",
    "raise NotImplementedError()"
   ]
  },
  {
   "cell_type": "code",
   "execution_count": null,
   "metadata": {
    "deletable": false,
    "nbgrader": {
     "cell_type": "code",
     "checksum": "467b218525b0aa907c1ef78026dfe4ad",
     "grade": true,
     "grade_id": "cell-a6b2fb90fa3c8ed0",
     "locked": false,
     "points": 0,
     "schema_version": 3,
     "solution": true,
     "task": false
    }
   },
   "outputs": [],
   "source": [
    "#LA REPONSE ICI\n",
    "raise NotImplementedError()"
   ]
  },
  {
   "cell_type": "code",
   "execution_count": null,
   "metadata": {},
   "outputs": [],
   "source": []
  },
  {
   "cell_type": "code",
   "execution_count": null,
   "metadata": {},
   "outputs": [],
   "source": []
  }
 ],
 "metadata": {
  "kernelspec": {
   "display_name": "Python 3",
   "language": "python",
   "name": "python3"
  },
  "language_info": {
   "codemirror_mode": {
    "name": "ipython",
    "version": 3
   },
   "file_extension": ".py",
   "mimetype": "text/x-python",
   "name": "python",
   "nbconvert_exporter": "python",
   "pygments_lexer": "ipython3",
   "version": "3.8.8"
  }
 },
 "nbformat": 4,
 "nbformat_minor": 4
}
