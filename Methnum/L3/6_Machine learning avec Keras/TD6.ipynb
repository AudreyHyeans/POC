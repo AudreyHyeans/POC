{
 "cells": [
  {
   "cell_type": "markdown",
   "metadata": {},
   "source": [
    "Merci de **ne pas modifier** le nom de ce notebook (même pour y inclure son nom).\n",
    "\n",
    "Quelques conseils:\n",
    "- pour exécutez une cellule, cliquez sur le bouton *Exécuter* ci-dessus ou tapez **Shift+Enter**\n",
    "- si l'exécution d'une cellule prend trop de temps, sélectionner dans le menu ci-dessus *Noyau/Interrompre*\n",
    "- en cas de très gros plantage *Noyau/Redémarrer*\n",
    "- **sauvegardez régulièrement vos réponses** en cliquant sur l'icone disquette ci-dessus à gauche, ou *Fichier/Créer une nouvelle sauvegarde*\n",
    "\n",
    "Pour répondre aux questions, remplacer les lignes ci-dessous par vos réponses: \n",
    "```python \n",
    "#LA REPONSE ICI\n",
    "raise NotImplementedError()\n",
    "``` \n"
   ]
  },
  {
   "cell_type": "markdown",
   "metadata": {},
   "source": [
    "---"
   ]
  },
  {
   "cell_type": "markdown",
   "metadata": {},
   "source": [
    "# TD6: Introduction au Machine Learning, un peu de Pratique...\n",
    "\n",
    "L'objectif de ce cours-TD est de fournir des bases pratiques à propos des algorithmes d'apprentissage supervisé de machine learning. \n",
    "Vous allez créer votre propre réseau de neuronne et faire face à certaines des problématiques usuelles en machine learning.\n",
    "Pour cela nous allons utiliser la librairie Keras, basée sur TensorFlow, qui permet de créer très facilement des réseaux de neurones"
   ]
  },
  {
   "cell_type": "code",
   "execution_count": 160,
   "metadata": {},
   "outputs": [],
   "source": [
    "import matplotlib.pyplot as plt\n",
    "import numpy as np\n",
    "\n",
    "from tensorflow.keras import layers\n",
    "from tensorflow.keras import models\n",
    "from tensorflow.keras import regularizers\n",
    "from tensorflow.keras.datasets import mnist\n",
    "from tensorflow.keras.datasets import boston_housing\n",
    "from tensorflow.keras.utils import to_categorical"
   ]
  },
  {
   "cell_type": "markdown",
   "metadata": {},
   "source": [
    "# Exercice 1\n",
    "\n",
    "Pour commencer nous allons travailler sur la base de données MNIST qui a déjà été évoquée ce matin. Il s'agit d'une base de données d'images en niveau de gris. Chaque image représente un nombre entre 0 et 9 et est composée de 28x28 pixels. MNIST comporte 60 000 images d'entrainement et 10 000 images de test.\n",
    "Cette base de données est déjà incluse dans keras et a été importée lors de l'exécution de la première cellule.\n",
    "Avec la ligne ci dessus vous pourrez recupérer les données d'entrainement et les données de test."
   ]
  },
  {
   "cell_type": "code",
   "execution_count": 41,
   "metadata": {},
   "outputs": [],
   "source": [
    "(train_images, train_labels), (test_images, test_labels) = mnist.load_data()"
   ]
  },
  {
   "cell_type": "markdown",
   "metadata": {},
   "source": [
    "Avant de créer votre premier réseau de neurones, il est nécessaire de bien comprendre les données et de les mettre en forme pour qu'elles puissent être utilisées par le reseau.\n",
    "La cellule ci dessous affiche une des images ainsi que le format des données.  Prenez le temps de bien comprendre\n",
    "le format et le type des données et des labels. Si nessaire affichez d'autres images ou allez regarder directement les matrices correspondant."
   ]
  },
  {
   "cell_type": "code",
   "execution_count": 42,
   "metadata": {},
   "outputs": [
    {
     "data": {
      "image/png": "[encoded data removed]",
      "text/plain": [
       "<Figure size 432x288 with 1 Axes>"
      ]
     },
     "metadata": {
      "needs_background": "light"
     },
     "output_type": "display_data"
    },
    {
     "name": "stdout",
     "output_type": "stream",
     "text": [
      "(60000, 28, 28)\n",
      "<class 'numpy.ndarray'>\n",
      "(60000,)\n",
      "<class 'numpy.ndarray'>\n",
      "5\n"
     ]
    }
   ],
   "source": [
    "plt.imshow(train_images[0], cmap='Greys')\n",
    "plt.show()\n",
    "\n",
    "print(train_images.shape)\n",
    "print(type(train_images))\n",
    "print(train_labels.shape)\n",
    "print(type(train_labels))\n",
    "print(train_labels[0])"
   ]
  },
  {
   "cell_type": "markdown",
   "metadata": {},
   "source": [
    "Il est possible d'afficher les images avec imshow. Elles sont encodées sous la forme d'une matrice numpy 3D (60000,28,28).\n",
    "Les labels sont encodés sous la forme d'une matrice numpy 1D. Chaque label est simplement représenté sous la forme d'un chiffre."
   ]
  },
  {
   "cell_type": "markdown",
   "metadata": {},
   "source": [
    "Le réseau de neurones ne saura pas travailler avec des listes d'entiers, il faut donner en entrée des tenseurs. Les images doivent prendre la forme d'une matrice 2D de forme (60000, 28*28). De plus, actuellement, les valeurs des pixels sont encodées par des entiers compris entre 0 et 255. Il faut les transformer en flottants (float32) compris entre 0 et 1.\n",
    "\n",
    "La cellule ci dessous permet de remettre les images sous le bon format : \n",
    "- `reshape` permet de transformer une matrice numpy pour qu'elle ait la forme désirée.\n",
    "- `astype` permet de faire passer une matrice numpy d'un type à un autre. Ici on transforme les entiers en flottants."
   ]
  },
  {
   "cell_type": "code",
   "execution_count": 43,
   "metadata": {},
   "outputs": [],
   "source": [
    "train_images = train_images.reshape((60000, 28*28))\n",
    "train_images = train_images.astype('float32') / 255\n",
    "\n",
    "test_images = test_images.reshape((10000, 28*28))\n",
    "test_images = test_images.astype('float32') / 255"
   ]
  },
  {
   "cell_type": "markdown",
   "metadata": {},
   "source": [
    "Il faut également transformer les labels. Chaque label va être encodé sous la forme d'une liste de longueur 10, remplie de 0 sauf pour l'indice correspondant au label.\n",
    "\n",
    "Ecrivez une fonction `categorie` qui prend en argument la matrice des labels et la dimension (le nombre de labels possibles) et qui renvoie une matrice numpy de format `(len(labels),dimension)` (ici `(60000,10)`). Par exemple, le label 5 sera transformé en \\[0,0,0,0,0,1,0,0,0,0\\]. Utilisez cette fonction pour mettre en forme les labels d'entraînement et de test."
   ]
  },
  {
   "cell_type": "code",
   "execution_count": 44,
   "metadata": {
    "deletable": false,
    "nbgrader": {
     "cell_type": "code",
     "checksum": "a6b84d1d574900f6e1cba8af5011c4a3",
     "grade": true,
     "grade_id": "cell-7fb85b66276de625",
     "locked": false,
     "points": 0,
     "schema_version": 3,
     "solution": true,
     "task": false
    }
   },
   "outputs": [],
   "source": [
    "def categorie(labels, dimension=10):\n",
    "    results = np.zeros((len(labels), dimension))\n",
    "    c= 0\n",
    "    for i in labels.astype(int):\n",
    "        results[c, i] = 1\n",
    "        c+=1\n",
    "    return results\n",
    "\n",
    "\n",
    "train_labels2 = categorie(train_labels)\n",
    "test_labels2 = categorie(test_labels)"
   ]
  },
  {
   "cell_type": "code",
   "execution_count": 45,
   "metadata": {},
   "outputs": [
    {
     "name": "stdout",
     "output_type": "stream",
     "text": [
      "[0. 0. 0. 0. 0. 1. 0. 0. 0. 0.]\n",
      "5\n"
     ]
    }
   ],
   "source": [
    "print(train_labels2[0])\n",
    "print(train_labels[0])"
   ]
  },
  {
   "cell_type": "markdown",
   "metadata": {},
   "source": [
    "Il est maintenant temps de créer votre propre réseau de neurones !\n",
    "\n",
    "Pour commencer, vous pouvez utiliser deux couches de type `Dense`. La première avec un grand nombre de neurones et sans fonction d'activation. N'oubliez pas de préciser le format des données d'entrée. La deuxième doit avoir 10 neurones, chacun correspondant à un des labels, et une fonction d'activation `softmax`.\n",
    "\n",
    "Le reseau sera compilé avec comme optimiseur `rmsprop`, comme fonction de coût `categorical_crossentropy` et comme métrique `accuracy`.\n",
    "\n"
   ]
  },
  {
   "cell_type": "code",
   "execution_count": 46,
   "metadata": {
    "deletable": false,
    "nbgrader": {
     "cell_type": "code",
     "checksum": "4068bcfd18ea3a99d0baedd489ae08c2",
     "grade": true,
     "grade_id": "cell-93dd2dbb6b4a0698",
     "locked": false,
     "points": 0,
     "schema_version": 3,
     "solution": true,
     "task": false
    }
   },
   "outputs": [
    {
     "name": "stdout",
     "output_type": "stream",
     "text": [
      "Model: \"sequential_6\"\n",
      "_________________________________________________________________\n",
      "Layer (type)                 Output Shape              Param #   \n",
      "=================================================================\n",
      "dense_12 (Dense)             (None, 512)               401920    \n",
      "_________________________________________________________________\n",
      "dense_13 (Dense)             (None, 10)                5130      \n",
      "=================================================================\n",
      "Total params: 407,050\n",
      "Trainable params: 407,050\n",
      "Non-trainable params: 0\n",
      "_________________________________________________________________\n"
     ]
    }
   ],
   "source": [
    "reseau = models.Sequential()\n",
    "\n",
    "reseau.add(layers.Dense(512, input_shape=(28*28,)))\n",
    "reseau.add(layers.Dense(10, activation = 'softmax'))\n",
    "\n",
    "reseau.compile(optimizer='rmsprop', loss = 'categorical_crossentropy', metrics = 'accuracy')\n",
    "\n",
    "reseau.summary()"
   ]
  },
  {
   "cell_type": "markdown",
   "metadata": {},
   "source": [
    "Faites un fit sur les données d'entraînement, avec `epochs=10` et `batch_size=128`. Récupérez l'historique et tracez l'évolution de la fonction de coût et de la précision en fonction du nombre d'epochs."
   ]
  },
  {
   "cell_type": "code",
   "execution_count": 47,
   "metadata": {
    "deletable": false,
    "nbgrader": {
     "cell_type": "code",
     "checksum": "780650e05b74d389307efb3be845376b",
     "grade": true,
     "grade_id": "cell-3d7998f52c48c7f5",
     "locked": false,
     "points": 0,
     "schema_version": 3,
     "solution": true,
     "task": false
    }
   },
   "outputs": [
    {
     "name": "stdout",
     "output_type": "stream",
     "text": [
      "Epoch 1/10\n",
      "469/469 [==============================] - 2s 4ms/step - loss: 0.5297 - accuracy: 0.8433\n",
      "Epoch 2/10\n",
      "469/469 [==============================] - 2s 4ms/step - loss: 0.3135 - accuracy: 0.9143\n",
      "Epoch 3/10\n",
      "469/469 [==============================] - 2s 4ms/step - loss: 0.2976 - accuracy: 0.9171\n",
      "Epoch 4/10\n",
      "469/469 [==============================] - 2s 4ms/step - loss: 0.2811 - accuracy: 0.9209\n",
      "Epoch 5/10\n",
      "469/469 [==============================] - 2s 4ms/step - loss: 0.2783 - accuracy: 0.9221\n",
      "Epoch 6/10\n",
      "469/469 [==============================] - 2s 4ms/step - loss: 0.2773 - accuracy: 0.9247\n",
      "Epoch 7/10\n",
      "469/469 [==============================] - 2s 4ms/step - loss: 0.2739 - accuracy: 0.9227\n",
      "Epoch 8/10\n",
      "469/469 [==============================] - 2s 4ms/step - loss: 0.2656 - accuracy: 0.9251\n",
      "Epoch 9/10\n",
      "469/469 [==============================] - 2s 5ms/step - loss: 0.2655 - accuracy: 0.9251\n",
      "Epoch 10/10\n",
      "469/469 [==============================] - 2s 5ms/step - loss: 0.2699 - accuracy: 0.9259\n"
     ]
    }
   ],
   "source": [
    "history = reseau.fit(train_images, train_labels2, epochs = 10, batch_size = 128)"
   ]
  },
  {
   "cell_type": "code",
   "execution_count": 56,
   "metadata": {},
   "outputs": [
    {
     "data": {
      "image/png": "[encoded data removed]",
      "text/plain": [
       "<Figure size 432x288 with 1 Axes>"
      ]
     },
     "metadata": {
      "needs_background": "light"
     },
     "output_type": "display_data"
    }
   ],
   "source": [
    "history_dict = history.history\n",
    "loss_values = history_dict['loss']\n",
    "\n",
    "\n",
    "fig = plt.figure()\n",
    "plt.plot(range(10),loss_values)\n",
    "plt.title('Coût')\n",
    "plt.show()"
   ]
  },
  {
   "cell_type": "markdown",
   "metadata": {},
   "source": [
    "Executez maintenant la case ci-dessous pour tester votre réseau. A ce stade vous devriez déjà avoir une précision supérieure à 90%."
   ]
  },
  {
   "cell_type": "code",
   "execution_count": 55,
   "metadata": {},
   "outputs": [
    {
     "name": "stdout",
     "output_type": "stream",
     "text": [
      "313/313 [==============================] - 1s 2ms/step - loss: 0.2888 - accuracy: 0.9223\n",
      "Test accuracy :  0.9222999811172485\n"
     ]
    }
   ],
   "source": [
    "test_loss, test_acc = reseau.evaluate(test_images,test_labels2)\n",
    "print('Test accuracy : ', test_acc)"
   ]
  },
  {
   "cell_type": "markdown",
   "metadata": {},
   "source": [
    "Nous allons maintenant essayer d'optimiser un peu plus ce réseau.\n",
    "\n",
    "Séparez les données d'entrainement en deux groupes : \n",
    "- Un groupe de données d'entrainement correspondant à une grande partie des données\n",
    "- Un groupe de données de validation avec le reste des données\n",
    "\n",
    "Puis recréez un nouveau réseau et essayez de varier certains paramètres :\n",
    "- Le nombre de couches\n",
    "- Le nombre de neuronnes par couches\n",
    "- Les fonctions d'activations *Indice : ajoutez une fonction d'activation à la première couche, vous pouvez trouver les fonctions d'activation de keras ici : https://www.tensorflow.org/api_docs/python/tf/keras/activations*\n",
    "- Le nombre d'epochs\n",
    "- La taille des \"batch\"\n",
    "\n",
    "*Indice : pensez à tracer l'historique afin de visualiser l'apprentissage de votre réseau : `Historique = reseau.fit(...)`*\n",
    "\n",
    "**Attention : Optimiser un réseau peut être gourmand en temps et en puissance de processeur. Soyez raisonnable et ne passez pas trop de temps à cette étape**"
   ]
  },
  {
   "cell_type": "code",
   "execution_count": 112,
   "metadata": {
    "deletable": false,
    "nbgrader": {
     "cell_type": "code",
     "checksum": "963658c0d00733d666e2bd31f4447035",
     "grade": true,
     "grade_id": "cell-358d8dad08a213f1",
     "locked": false,
     "points": 0,
     "schema_version": 3,
     "solution": true,
     "task": false
    }
   },
   "outputs": [
    {
     "name": "stdout",
     "output_type": "stream",
     "text": [
      "Model: \"sequential_19\"\n",
      "_________________________________________________________________\n",
      "Layer (type)                 Output Shape              Param #   \n",
      "=================================================================\n",
      "dense_37 (Dense)             (None, 100)               78500     \n",
      "_________________________________________________________________\n",
      "dropout_5 (Dropout)          (None, 100)               0         \n",
      "_________________________________________________________________\n",
      "dense_38 (Dense)             (None, 10)                1010      \n",
      "=================================================================\n",
      "Total params: 79,510\n",
      "Trainable params: 79,510\n",
      "Non-trainable params: 0\n",
      "_________________________________________________________________\n"
     ]
    }
   ],
   "source": [
    "train_images3 = train_images[:40000]\n",
    "train_labels3 = train_labels2[:40000]\n",
    "\n",
    "valid_images3 = train_images[40000:]\n",
    "valid_labels3 = train_labels2[40000:]\n",
    "\n",
    "reseau2 = models.Sequential()\n",
    "\n",
    "reseau2.add(layers.Dense(100, input_shape=(28*28,),activation = 'swish') )\n",
    "reseau2.add(layers.Dropout(0.2))\n",
    "reseau2.add(layers.Dense(10, activation = 'softmax'))\n",
    "\n",
    "reseau2.compile(optimizer='rmsprop', loss = 'categorical_crossentropy', metrics = 'accuracy')\n",
    "\n",
    "reseau2.summary()"
   ]
  },
  {
   "cell_type": "code",
   "execution_count": 120,
   "metadata": {},
   "outputs": [
    {
     "name": "stdout",
     "output_type": "stream",
     "text": [
      "Epoch 1/50\n",
      "40/40 [==============================] - 9s 239ms/step - loss: 0.0079 - accuracy: 0.9979 - val_loss: 0.1114 - val_accuracy: 0.9767\n",
      "Epoch 2/50\n",
      "40/40 [==============================] - 1s 16ms/step - loss: 0.0089 - accuracy: 0.9974 - val_loss: 0.1082 - val_accuracy: 0.9765\n",
      "Epoch 3/50\n",
      "40/40 [==============================] - 1s 15ms/step - loss: 0.0078 - accuracy: 0.9977 - val_loss: 0.1144 - val_accuracy: 0.9766\n",
      "Epoch 4/50\n",
      "40/40 [==============================] - 1s 15ms/step - loss: 0.0081 - accuracy: 0.9977 - val_loss: 0.1189 - val_accuracy: 0.9761\n",
      "Epoch 5/50\n",
      "40/40 [==============================] - 1s 17ms/step - loss: 0.0076 - accuracy: 0.9979 - val_loss: 0.1124 - val_accuracy: 0.9772\n",
      "Epoch 6/50\n",
      "40/40 [==============================] - 1s 16ms/step - loss: 0.0074 - accuracy: 0.9978 - val_loss: 0.1163 - val_accuracy: 0.9772\n",
      "Epoch 7/50\n",
      "40/40 [==============================] - 1s 18ms/step - loss: 0.0078 - accuracy: 0.9973 - val_loss: 0.1129 - val_accuracy: 0.9776\n",
      "Epoch 8/50\n",
      "40/40 [==============================] - 1s 16ms/step - loss: 0.0075 - accuracy: 0.9981 - val_loss: 0.1184 - val_accuracy: 0.9766\n",
      "Epoch 9/50\n",
      "40/40 [==============================] - 1s 16ms/step - loss: 0.0077 - accuracy: 0.9980 - val_loss: 0.1135 - val_accuracy: 0.9776\n",
      "Epoch 10/50\n",
      "40/40 [==============================] - 1s 19ms/step - loss: 0.0075 - accuracy: 0.9977 - val_loss: 0.1135 - val_accuracy: 0.9775\n",
      "Epoch 11/50\n",
      "40/40 [==============================] - 1s 17ms/step - loss: 0.0075 - accuracy: 0.9978 - val_loss: 0.1122 - val_accuracy: 0.9779\n",
      "Epoch 12/50\n",
      "40/40 [==============================] - 1s 16ms/step - loss: 0.0078 - accuracy: 0.9979 - val_loss: 0.1117 - val_accuracy: 0.9772\n",
      "Epoch 13/50\n",
      "40/40 [==============================] - 1s 17ms/step - loss: 0.0082 - accuracy: 0.9977 - val_loss: 0.1152 - val_accuracy: 0.9768\n",
      "Epoch 14/50\n",
      "40/40 [==============================] - 1s 15ms/step - loss: 0.0074 - accuracy: 0.9980 - val_loss: 0.1137 - val_accuracy: 0.9768\n",
      "Epoch 15/50\n",
      "40/40 [==============================] - 1s 16ms/step - loss: 0.0071 - accuracy: 0.9980 - val_loss: 0.1181 - val_accuracy: 0.9761\n",
      "Epoch 16/50\n",
      "40/40 [==============================] - 1s 18ms/step - loss: 0.0077 - accuracy: 0.9977 - val_loss: 0.1157 - val_accuracy: 0.9775\n",
      "Epoch 17/50\n",
      "40/40 [==============================] - 1s 16ms/step - loss: 0.0073 - accuracy: 0.9980 - val_loss: 0.1173 - val_accuracy: 0.9776\n",
      "Epoch 18/50\n",
      "40/40 [==============================] - 1s 16ms/step - loss: 0.0067 - accuracy: 0.9980 - val_loss: 0.1172 - val_accuracy: 0.9771\n",
      "Epoch 19/50\n",
      "40/40 [==============================] - 1s 15ms/step - loss: 0.0075 - accuracy: 0.9979 - val_loss: 0.1174 - val_accuracy: 0.9768\n",
      "Epoch 20/50\n",
      "40/40 [==============================] - 1s 15ms/step - loss: 0.0071 - accuracy: 0.9981 - val_loss: 0.1198 - val_accuracy: 0.9769\n",
      "Epoch 21/50\n",
      "40/40 [==============================] - 1s 16ms/step - loss: 0.0066 - accuracy: 0.9977 - val_loss: 0.1183 - val_accuracy: 0.9765\n",
      "Epoch 22/50\n",
      "40/40 [==============================] - 1s 17ms/step - loss: 0.0072 - accuracy: 0.9980 - val_loss: 0.1198 - val_accuracy: 0.9771\n",
      "Epoch 23/50\n",
      "40/40 [==============================] - 1s 17ms/step - loss: 0.0066 - accuracy: 0.9980 - val_loss: 0.1226 - val_accuracy: 0.9771\n",
      "Epoch 24/50\n",
      "40/40 [==============================] - 1s 16ms/step - loss: 0.0068 - accuracy: 0.9980 - val_loss: 0.1164 - val_accuracy: 0.9771\n",
      "Epoch 25/50\n",
      "40/40 [==============================] - 1s 17ms/step - loss: 0.0069 - accuracy: 0.9979 - val_loss: 0.1185 - val_accuracy: 0.9768\n",
      "Epoch 26/50\n",
      "40/40 [==============================] - 1s 16ms/step - loss: 0.0066 - accuracy: 0.9983 - val_loss: 0.1208 - val_accuracy: 0.9772\n",
      "Epoch 27/50\n",
      "40/40 [==============================] - 1s 18ms/step - loss: 0.0064 - accuracy: 0.9979 - val_loss: 0.1208 - val_accuracy: 0.9762\n",
      "Epoch 28/50\n",
      "40/40 [==============================] - 1s 16ms/step - loss: 0.0069 - accuracy: 0.9978 - val_loss: 0.1208 - val_accuracy: 0.9773\n",
      "Epoch 29/50\n",
      "40/40 [==============================] - 1s 15ms/step - loss: 0.0067 - accuracy: 0.9980 - val_loss: 0.1230 - val_accuracy: 0.9764\n",
      "Epoch 30/50\n",
      "40/40 [==============================] - 1s 21ms/step - loss: 0.0068 - accuracy: 0.9980 - val_loss: 0.1227 - val_accuracy: 0.9779\n",
      "Epoch 31/50\n",
      "40/40 [==============================] - 1s 18ms/step - loss: 0.0063 - accuracy: 0.9980 - val_loss: 0.1209 - val_accuracy: 0.9772\n",
      "Epoch 32/50\n",
      "40/40 [==============================] - 1s 17ms/step - loss: 0.0057 - accuracy: 0.9985 - val_loss: 0.1256 - val_accuracy: 0.9772\n",
      "Epoch 33/50\n",
      "40/40 [==============================] - 1s 16ms/step - loss: 0.0060 - accuracy: 0.9986 - val_loss: 0.1239 - val_accuracy: 0.9766\n",
      "Epoch 34/50\n",
      "40/40 [==============================] - 1s 17ms/step - loss: 0.0057 - accuracy: 0.9984 - val_loss: 0.1224 - val_accuracy: 0.9775\n",
      "Epoch 35/50\n",
      "40/40 [==============================] - 1s 16ms/step - loss: 0.0065 - accuracy: 0.9982 - val_loss: 0.1213 - val_accuracy: 0.9776\n",
      "Epoch 36/50\n",
      "40/40 [==============================] - 1s 16ms/step - loss: 0.0061 - accuracy: 0.9988 - val_loss: 0.1263 - val_accuracy: 0.9774\n",
      "Epoch 37/50\n",
      "40/40 [==============================] - 1s 14ms/step - loss: 0.0058 - accuracy: 0.9984 - val_loss: 0.1215 - val_accuracy: 0.9772\n",
      "Epoch 38/50\n",
      "40/40 [==============================] - 1s 14ms/step - loss: 0.0060 - accuracy: 0.9983 - val_loss: 0.1224 - val_accuracy: 0.9768\n",
      "Epoch 39/50\n",
      "40/40 [==============================] - 1s 16ms/step - loss: 0.0065 - accuracy: 0.9980 - val_loss: 0.1239 - val_accuracy: 0.9769\n",
      "Epoch 40/50\n",
      "40/40 [==============================] - 1s 15ms/step - loss: 0.0063 - accuracy: 0.9982 - val_loss: 0.1234 - val_accuracy: 0.9769\n",
      "Epoch 41/50\n",
      "40/40 [==============================] - 1s 15ms/step - loss: 0.0067 - accuracy: 0.9979 - val_loss: 0.1241 - val_accuracy: 0.9775\n",
      "Epoch 42/50\n",
      "40/40 [==============================] - 1s 14ms/step - loss: 0.0059 - accuracy: 0.9980 - val_loss: 0.1244 - val_accuracy: 0.9773\n",
      "Epoch 43/50\n",
      "40/40 [==============================] - 1s 13ms/step - loss: 0.0059 - accuracy: 0.9983 - val_loss: 0.1269 - val_accuracy: 0.9772\n",
      "Epoch 44/50\n",
      "40/40 [==============================] - 1s 13ms/step - loss: 0.0057 - accuracy: 0.9983 - val_loss: 0.1271 - val_accuracy: 0.9768\n",
      "Epoch 45/50\n",
      "40/40 [==============================] - 1s 22ms/step - loss: 0.0061 - accuracy: 0.9983 - val_loss: 0.1253 - val_accuracy: 0.9767\n",
      "Epoch 46/50\n",
      "40/40 [==============================] - 1s 13ms/step - loss: 0.0062 - accuracy: 0.9982 - val_loss: 0.1247 - val_accuracy: 0.9771\n",
      "Epoch 47/50\n",
      "40/40 [==============================] - 1s 13ms/step - loss: 0.0058 - accuracy: 0.9984 - val_loss: 0.1253 - val_accuracy: 0.9765\n",
      "Epoch 48/50\n",
      "40/40 [==============================] - 1s 13ms/step - loss: 0.0054 - accuracy: 0.9985 - val_loss: 0.1272 - val_accuracy: 0.9769\n",
      "Epoch 49/50\n",
      "40/40 [==============================] - 1s 26ms/step - loss: 0.0051 - accuracy: 0.9986 - val_loss: 0.1281 - val_accuracy: 0.9772\n",
      "Epoch 50/50\n",
      "40/40 [==============================] - 0s 12ms/step - loss: 0.0056 - accuracy: 0.9981 - val_loss: 0.1247 - val_accuracy: 0.9769\n"
     ]
    }
   ],
   "source": [
    "history2 = reseau2.fit(train_images3, train_labels3, epochs = 50, batch_size = 1024, validation_data = (valid_images3, valid_labels3))"
   ]
  },
  {
   "cell_type": "code",
   "execution_count": 122,
   "metadata": {},
   "outputs": [
    {
     "data": {
      "image/png": "[encoded data removed]",
      "text/plain": [
       "<Figure size 432x288 with 1 Axes>"
      ]
     },
     "metadata": {
      "needs_background": "light"
     },
     "output_type": "display_data"
    }
   ],
   "source": [
    "history_dict2 = history2.history\n",
    "loss_values2 = history_dict2['loss']\n",
    "val_loss_values2 = history_dict2['val_loss']\n",
    "\n",
    "fig = plt.figure()\n",
    "plt.plot(range(50),loss_values2, label = 'entrainement')\n",
    "plt.plot(range(50),val_loss_values2, label = 'validation')\n",
    "plt.title('Coût')\n",
    "plt.legend()\n",
    "plt.show()"
   ]
  },
  {
   "cell_type": "code",
   "execution_count": 123,
   "metadata": {},
   "outputs": [
    {
     "name": "stdout",
     "output_type": "stream",
     "text": [
      "313/313 [==============================] - 1s 2ms/step - loss: 0.1097 - accuracy: 0.9784\n",
      "Test accuracy :  0.9783999919891357\n"
     ]
    }
   ],
   "source": [
    "test_loss, test_acc = reseau2.evaluate(test_images,test_labels2)\n",
    "print('Test accuracy : ', test_acc)"
   ]
  },
  {
   "cell_type": "markdown",
   "metadata": {},
   "source": [
    "Comment les différents paramètres affectent-ils le réseau?"
   ]
  },
  {
   "cell_type": "markdown",
   "metadata": {
    "deletable": false,
    "nbgrader": {
     "cell_type": "markdown",
     "checksum": "9987a93d207af032400fde43cbcf450c",
     "grade": true,
     "grade_id": "cell-0760814f0c45dd6f",
     "locked": false,
     "points": 0,
     "schema_version": 3,
     "solution": true,
     "task": false
    }
   },
   "source": [
    "LA REPONSE ICI (double-clique pour editer la cellule)"
   ]
  },
  {
   "cell_type": "markdown",
   "metadata": {},
   "source": [
    "Essayez d'ajouter du dropout. Commentez."
   ]
  },
  {
   "cell_type": "code",
   "execution_count": null,
   "metadata": {
    "deletable": false,
    "nbgrader": {
     "cell_type": "code",
     "checksum": "b2a514c9552b3fac84eba4692f48c9af",
     "grade": true,
     "grade_id": "cell-cd6ee45c5b44d4e7",
     "locked": false,
     "points": 0,
     "schema_version": 3,
     "solution": true,
     "task": false
    }
   },
   "outputs": [],
   "source": [
    "#LA REPONSE ICI\n",
    "raise NotImplementedError()"
   ]
  },
  {
   "cell_type": "markdown",
   "metadata": {
    "deletable": false,
    "nbgrader": {
     "cell_type": "markdown",
     "checksum": "186d1427acf019b707735aab2384594b",
     "grade": true,
     "grade_id": "cell-08d9ba1a651ba286",
     "locked": false,
     "points": 0,
     "schema_version": 3,
     "solution": true,
     "task": false
    }
   },
   "source": [
    "LA REPONSE ICI (double-clique pour editer la cellule)"
   ]
  },
  {
   "cell_type": "markdown",
   "metadata": {},
   "source": [
    "Une fois que vous avez trouvé une configuration qui vous semble optimale, vous pouvez entraîner le réseau sur la totalité des données et le tester à nouveau. Commentez.\n",
    "\n",
    "*Important : On ne teste le réseau sur les données de test qu'une fois que la configuration est fixée car en réglant les hyper-paramètres, on risque à nouveau l'overfitting.*"
   ]
  },
  {
   "cell_type": "code",
   "execution_count": null,
   "metadata": {
    "deletable": false,
    "nbgrader": {
     "cell_type": "code",
     "checksum": "aeb347dbbfe1391165405236dcf00f4d",
     "grade": true,
     "grade_id": "cell-160ac7d35cf5bea5",
     "locked": false,
     "points": 0,
     "schema_version": 3,
     "solution": true,
     "task": false
    }
   },
   "outputs": [],
   "source": [
    "#LA REPONSE ICI\n",
    "raise NotImplementedError()"
   ]
  },
  {
   "cell_type": "markdown",
   "metadata": {
    "deletable": false,
    "nbgrader": {
     "cell_type": "markdown",
     "checksum": "0a31c34ecbe42924700689d65d33b484",
     "grade": true,
     "grade_id": "cell-699e7c63c966e511",
     "locked": false,
     "points": 0,
     "schema_version": 3,
     "solution": true,
     "task": false
    }
   },
   "source": [
    "LA REPONSE ICI (double-clique pour editer la cellule)"
   ]
  },
  {
   "cell_type": "markdown",
   "metadata": {},
   "source": [
    "# Exercice 2 : Prédiction des prix des maisons à Boston\n",
    "\n",
    "Nous avons vu un exercice de classification : il faut trier les images dans différentes catégories. Un autre type ce problème commun en machine learning sont les problèmes de régression : à partir des valeurs d'entrée il faut prédire une valeur de sortie.\n",
    "\n",
    "Nous allons ici essayer de prédire les prix moyens des maisons d'un certain quartier de Boston dans les années 70 étant données certaines informations sur le quartier à cette époque telles que le taux de crimes, les taxes locales etc.\n",
    "\n",
    "Ce set de donnée présente une différence intéressante avec MNIST : il y a très peu de données. Il y a un total de 506 points répartis entre 404 points d'entraînement et 102 points de test. De plus chaque caractéristique d'un point de donnée (par exemple le taux de crime) a une échelle différente des autres. Ainsi certaines de ces valeurs sont des proportions comprises entre 0 et 1, d'autre prennent des valeurs entre 0 et 12, 0 et 100 etc.\n",
    "\n",
    "Les données en question ont déjà été chargée au début, vous pouvez les extraire en exécutant la cellule suivante"
   ]
  },
  {
   "cell_type": "code",
   "execution_count": 88,
   "metadata": {},
   "outputs": [
    {
     "name": "stdout",
     "output_type": "stream",
     "text": [
      "Downloading data from https://storage.googleapis.com/tensorflow/tf-keras-datasets/boston_housing.npz\n",
      "57344/57026 [==============================] - 0s 0us/step\n"
     ]
    }
   ],
   "source": [
    "(train_data, train_targets), (test_data, test_targets) = boston_housing.load_data()"
   ]
  },
  {
   "cell_type": "markdown",
   "metadata": {},
   "source": [
    "Prenez le temps d'examiner un peu les données."
   ]
  },
  {
   "cell_type": "code",
   "execution_count": 89,
   "metadata": {},
   "outputs": [
    {
     "name": "stdout",
     "output_type": "stream",
     "text": [
      "(404, 13)\n",
      "(404,)\n",
      "(102, 13)\n",
      "(102,)\n",
      "[  1.23247   0.        8.14      0.        0.538     6.142    91.7\n",
      "   3.9769    4.      307.       21.      396.9      18.72   ]\n",
      "[15.2 42.3 50.  21.1 17.7 18.5 11.3 15.6 15.6 14.4 12.1 17.9 23.1 19.9\n",
      " 15.7  8.8 50.  22.5 24.1 27.5 10.9 30.8 32.9 24.  18.5 13.3 22.9 34.7\n",
      " 16.6 17.5 22.3 16.1 14.9 23.1 34.9 25.  13.9 13.1 20.4 20.  15.2 24.7\n",
      " 22.2 16.7 12.7 15.6 18.4 21.  30.1 15.1 18.7  9.6 31.5 24.8 19.1 22.\n",
      " 14.5 11.  32.  29.4 20.3 24.4 14.6 19.5 14.1 14.3 15.6 10.5  6.3 19.3\n",
      " 19.3 13.4 36.4 17.8 13.5 16.5  8.3 14.3 16.  13.4 28.6 43.5 20.2 22.\n",
      " 23.  20.7 12.5 48.5 14.6 13.4 23.7 50.  21.7 39.8 38.7 22.2 34.9 22.5\n",
      " 31.1 28.7 46.  41.7 21.  26.6 15.  24.4 13.3 21.2 11.7 21.7 19.4 50.\n",
      " 22.8 19.7 24.7 36.2 14.2 18.9 18.3 20.6 24.6 18.2  8.7 44.  10.4 13.2\n",
      " 21.2 37.  30.7 22.9 20.  19.3 31.7 32.  23.1 18.8 10.9 50.  19.6  5.\n",
      " 14.4 19.8 13.8 19.6 23.9 24.5 25.  19.9 17.2 24.6 13.5 26.6 21.4 11.9\n",
      " 22.6 19.6  8.5 23.7 23.1 22.4 20.5 23.6 18.4 35.2 23.1 27.9 20.6 23.7\n",
      " 28.  13.6 27.1 23.6 20.6 18.2 21.7 17.1  8.4 25.3 13.8 22.2 18.4 20.7\n",
      " 31.6 30.5 20.3  8.8 19.2 19.4 23.1 23.  14.8 48.8 22.6 33.4 21.1 13.6\n",
      " 32.2 13.1 23.4 18.9 23.9 11.8 23.3 22.8 19.6 16.7 13.4 22.2 20.4 21.8\n",
      " 26.4 14.9 24.1 23.8 12.3 29.1 21.  19.5 23.3 23.8 17.8 11.5 21.7 19.9\n",
      " 25.  33.4 28.5 21.4 24.3 27.5 33.1 16.2 23.3 48.3 22.9 22.8 13.1 12.7\n",
      " 22.6 15.  15.3 10.5 24.  18.5 21.7 19.5 33.2 23.2  5.  19.1 12.7 22.3\n",
      " 10.2 13.9 16.3 17.  20.1 29.9 17.2 37.3 45.4 17.8 23.2 29.  22.  18.\n",
      " 17.4 34.6 20.1 25.  15.6 24.8 28.2 21.2 21.4 23.8 31.  26.2 17.4 37.9\n",
      " 17.5 20.   8.3 23.9  8.4 13.8  7.2 11.7 17.1 21.6 50.  16.1 20.4 20.6\n",
      " 21.4 20.6 36.5  8.5 24.8 10.8 21.9 17.3 18.9 36.2 14.9 18.2 33.3 21.8\n",
      " 19.7 31.6 24.8 19.4 22.8  7.5 44.8 16.8 18.7 50.  50.  19.5 20.1 50.\n",
      " 17.2 20.8 19.3 41.3 20.4 20.5 13.8 16.5 23.9 20.6 31.5 23.3 16.8 14.\n",
      " 33.8 36.1 12.8 18.3 18.7 19.1 29.  30.1 50.  50.  22.  11.9 37.6 50.\n",
      " 22.7 20.8 23.5 27.9 50.  19.3 23.9 22.6 15.2 21.7 19.2 43.8 20.3 33.2\n",
      " 19.9 22.5 32.7 22.  17.1 19.  15.  16.1 25.1 23.7 28.7 37.2 22.6 16.4\n",
      " 25.  29.8 22.1 17.4 18.1 30.3 17.5 24.7 12.6 26.5 28.7 13.3 10.4 24.4\n",
      " 23.  20.  17.8  7.  11.8 24.4 13.8 19.4 25.2 19.4 19.4 29.1]\n"
     ]
    }
   ],
   "source": [
    "print(train_data.shape)\n",
    "print(train_targets.shape)\n",
    "print(test_data.shape)\n",
    "print(test_targets.shape)\n",
    "\n",
    "print(train_data[0])\n",
    "\n",
    "print(train_targets)"
   ]
  },
  {
   "cell_type": "markdown",
   "metadata": {},
   "source": [
    "Chaque donnée d'entrée contient 13 paramètres qui prennent des valeurs très différentes. Chacun de ces paramètres contient une information différente : taux de criminalité, taux de pollution, nombre de commerces etc. Si vous voulez plus d'informations sur chacun de ces paramètres, vous pouvez aller voir ce site : http://lib.stat.cmu.edu/datasets/boston.\n",
    "Les valeurs cible correspondent au prix moyen des maisons en millier de dollard."
   ]
  },
  {
   "cell_type": "markdown",
   "metadata": {},
   "source": [
    "Il serait problématique de donner au réseau des données aussi différentes. Il est possible que le réseau réussisse à s'adapter automatiquement, mais cela rendrait certainement l'apprentissage plus difficile. Face à ce genre de situation l'approche la plus commune est de normaliser chaque caractéristique.\n",
    "\n",
    "Transformez les données pour que chaque caractéristique soit centré en 0 et ait un écart type de 1. (Attention : il faut normaliser aussi les données de test, mais il faut partir du principe qu'elles sont inconnues. Il faut donc les normaliser en se basant sur les données d'entraînement)\n",
    "\n",
    "*Indice : Très facile à faire avec numpy !*"
   ]
  },
  {
   "cell_type": "code",
   "execution_count": 94,
   "metadata": {
    "deletable": false,
    "nbgrader": {
     "cell_type": "code",
     "checksum": "5624e8d0b5687e6657a568f5ff93ad7e",
     "grade": true,
     "grade_id": "cell-97b4ed419e8c5847",
     "locked": false,
     "points": 0,
     "schema_version": 3,
     "solution": true,
     "task": false
    }
   },
   "outputs": [],
   "source": [
    "moy=np.mean(train_data, axis = 0)\n",
    "sig=np.sqrt(np.var(train_data, axis=0))\n",
    "train_data_norm = (train_data-moy)/sig\n",
    "\n",
    "test_data_norm = (test_data-moy)/sig"
   ]
  },
  {
   "cell_type": "markdown",
   "metadata": {},
   "source": [
    "Pour la suite nous allons avoir besoin de créer rapidement plusieurs réseaux. Ecrire une fonction `reseau` qui construit et renvoie un réseau. (A vous de choisir les paramètres du réseau, faites toutefois attention : vous avez très peu de données d'entraînement !)\n",
    "\n",
    "*Indice : la métrique la plus adaptée ici est l'erreur absolue moyenne ou `mae` pour keras*"
   ]
  },
  {
   "cell_type": "code",
   "execution_count": 139,
   "metadata": {
    "deletable": false,
    "nbgrader": {
     "cell_type": "code",
     "checksum": "82b1f0338d674cbd8c22f329b8ae7232",
     "grade": true,
     "grade_id": "cell-aa095d96a94b9f63",
     "locked": false,
     "points": 0,
     "schema_version": 3,
     "solution": true,
     "task": false
    }
   },
   "outputs": [],
   "source": [
    "def reseau():\n",
    "    res = models.Sequential()\n",
    "    res.add(layers.Dense(40,input_shape=(1*13,), activation='relu'))\n",
    "    \n",
    "    res.add(layers.Dense(1, activation = None))\n",
    "    res.compile(optimizer = 'rmsprop', loss = 'mse', metrics = 'mean_absolute_error')\n",
    "    return res"
   ]
  },
  {
   "cell_type": "markdown",
   "metadata": {},
   "source": [
    "Avec aussi peu de données le choix des données d'entraînement et des données de validation devient critique. Pour s'affranchir autant que possible des effets que peuvent provoquer d'aussi faibles jeux de données, nous allons utiliser la validation croisée.\n",
    "\n",
    "La fonction `split_data` ci-dessous transforme une liste initiale en deux liste :\n",
    "- Une liste `val_data` contenant un quart de la liste initiale\n",
    "- Une liste `partial_train_data` contenant le reste de la liste initiale\n",
    "Si l'argument `i` est 0, c'est le premier quart qui est utilisé comme données de validation. Si `i` vaut 1, c'est le deuxième quart, etc."
   ]
  },
  {
   "cell_type": "code",
   "execution_count": 140,
   "metadata": {
    "deletable": false,
    "editable": false,
    "nbgrader": {
     "cell_type": "code",
     "checksum": "9f4733b5c4f3a7c4d35a1fb60bd160b9",
     "grade": false,
     "grade_id": "cell-df5486c6eb932197",
     "locked": true,
     "schema_version": 3,
     "solution": false,
     "task": false
    }
   },
   "outputs": [],
   "source": [
    "def split_data(data, i):\n",
    "    # Cette fonction prend en argument :\n",
    "    # - Une liste de donnée/label\n",
    "    # - Un indice i\n",
    "    # Cette fonction renvoie :\n",
    "    # - Une liste des données/labels de validation\n",
    "    # - Une liste des données/labels d'entrainement\n",
    "    k = 4\n",
    "    num_val_samples = len(data) // k\n",
    "    val_data = data[i * num_val_samples: (i + 1) * num_val_samples]\n",
    "    partial_train_data = np.concatenate([data[:i * num_val_samples],data[(i + 1) * num_val_samples:]],axis=0)\n",
    "    return val_data,partial_train_data"
   ]
  },
  {
   "cell_type": "markdown",
   "metadata": {},
   "source": [
    "En utilisant la fonction `reseau` et la fonction `split_data`, ainsi qu'une boucle `for`,créez 4 réseau, chacun utilisant un groupe de données différent comme données de validation et le reste des données comme données d'entraînement.\n",
    "Comparez résultats des différents réseau et le résultat moyen.\n",
    "\n",
    "*Indice : Pour éviter d'avoir des dizaines voire des centaines de lignes écrite par la fonction `fit`, vous pouvez ajouter l'argument verbose=0*"
   ]
  },
  {
   "cell_type": "code",
   "execution_count": 148,
   "metadata": {
    "deletable": false,
    "nbgrader": {
     "cell_type": "code",
     "checksum": "0aa9fe50a8b35afbf68f41e923c57b3b",
     "grade": true,
     "grade_id": "cell-77b6d7280d86166e",
     "locked": false,
     "points": 0,
     "schema_version": 3,
     "solution": true,
     "task": false
    }
   },
   "outputs": [
    {
     "data": {
      "image/png": "[encoded data removed]",
      "text/plain": [
       "<Figure size 432x288 with 1 Axes>"
      ]
     },
     "metadata": {
      "needs_background": "light"
     },
     "output_type": "display_data"
    },
    {
     "data": {
      "image/png": "[encoded data removed]",
      "text/plain": [
       "<Figure size 432x288 with 1 Axes>"
      ]
     },
     "metadata": {
      "needs_background": "light"
     },
     "output_type": "display_data"
    },
    {
     "data": {
      "image/png": "[encoded data removed]",
      "text/plain": [
       "<Figure size 432x288 with 1 Axes>"
      ]
     },
     "metadata": {
      "needs_background": "light"
     },
     "output_type": "display_data"
    },
    {
     "data": {
      "image/png": "[encoded data removed]",
      "text/plain": [
       "<Figure size 432x288 with 1 Axes>"
      ]
     },
     "metadata": {
      "needs_background": "light"
     },
     "output_type": "display_data"
    }
   ],
   "source": [
    "\n",
    "for i in [0, 1, 2, 3]:\n",
    "    rezo = reseau()\n",
    "    val_data, partial_train_data = split_data(train_data,i)\n",
    "    val_targets, partial_train_targets = split_data(train_targets,i)\n",
    "    histo = rezo.fit(partial_train_data, partial_train_targets, epochs = 400, batch_size = 32, validation_data = (val_data, val_targets), verbose = 0)\n",
    "    histo_dict= histo.history\n",
    "    \n",
    "\n",
    "    loss_values = histo_dict['loss']\n",
    "    val_loss_values = histo_dict['val_loss']\n",
    "\n",
    "    fig = plt.figure()\n",
    "    plt.plot(range(390),loss_values[10:], label = 'entrainement')\n",
    "    plt.plot(range(390),val_loss_values[10:], label = 'validation')\n",
    "    plt.title(f'Coût avec i = {i}')\n",
    "    plt.legend()\n",
    "    plt.show()\n",
    "    \n",
    "\n",
    "\n",
    "verbose = 0"
   ]
  },
  {
   "cell_type": "markdown",
   "metadata": {},
   "source": [
    "Tracez la moyenne de la mae sur les 4 réseau en fonction du nombre d'epochs. Utilisez ce tracé pour optimiser votre réseau. Une fois que vous avez trouvé une configuration qui vous semble optimale, entraînez votre réseau sur la totalité des données et testez le.\n",
    "\n",
    "*Indice : vous pouvez utiliser la fonction ci-dessous pour lisser votre tracé et obtenir un résultat plus lisible. Omettre les premiers points peut aussi aider*"
   ]
  },
  {
   "cell_type": "code",
   "execution_count": 145,
   "metadata": {
    "deletable": false,
    "editable": false,
    "nbgrader": {
     "cell_type": "code",
     "checksum": "b2d96e3523a86379bb7664e24e1be83e",
     "grade": false,
     "grade_id": "cell-e013078c21a459c8",
     "locked": true,
     "schema_version": 3,
     "solution": false,
     "task": false
    }
   },
   "outputs": [],
   "source": [
    "def smooth_curve(points, factor=0.9):\n",
    "    smoothed_points = []\n",
    "    for point in points:\n",
    "        if smoothed_points:\n",
    "            previous = smoothed_points[-1]\n",
    "            smoothed_points.append(previous * factor + point * (1 - factor))\n",
    "        else:\n",
    "            smoothed_points.append(point)\n",
    "    return smoothed_points"
   ]
  },
  {
   "cell_type": "code",
   "execution_count": null,
   "metadata": {
    "deletable": false,
    "nbgrader": {
     "cell_type": "code",
     "checksum": "839173511dc9525a1769e43caef41685",
     "grade": true,
     "grade_id": "cell-aeb6a1629e739617",
     "locked": false,
     "points": 0,
     "schema_version": 3,
     "solution": true,
     "task": false
    }
   },
   "outputs": [],
   "source": [
    "#LA REPONSE ICI\n",
    "raise NotImplementedError()"
   ]
  },
  {
   "cell_type": "code",
   "execution_count": null,
   "metadata": {
    "deletable": false,
    "nbgrader": {
     "cell_type": "code",
     "checksum": "22cc297f0f41eab9d082e5a5dfbca995",
     "grade": true,
     "grade_id": "cell-b41a03efb7243e62",
     "locked": false,
     "points": 0,
     "schema_version": 3,
     "solution": true,
     "task": false
    }
   },
   "outputs": [],
   "source": [
    "#LA REPONSE ICI\n",
    "raise NotImplementedError()"
   ]
  },
  {
   "cell_type": "markdown",
   "metadata": {},
   "source": [
    "# Exercice 3 : MNIST et covnet\n",
    "\n",
    "Nous allons maintenant aborder un autre type de réseaux particulièrement adaptés pour approcher des données graphiques : les réseaux de convolution ou convnet (pour convolutional neural network). Ces réseaux permettent un apprentissage bien plus similaire à celui attendu dans les vidéos de ce matin.\n",
    "\n",
    "\n",
    "**<font color=red>Attention : les temps de calculs étant plus importants, dans la suite nous n'utiliserons que les 6 000 premières images pour l'entraînement !</font>**\n",
    "\n",
    "Construire un convnet contenant plusieurs couches de type `Conv2D` (au moins 2). Entre deux couches de types `Conv2D` ajouter une couche de type `MaxPooling2D((2,2))`. Après le réseau de convolution, pensez à ajouter une couche de type `Flatten` puis au moins une couche de type `Dense` avant la dernière couche (elle même de type `Dense`).\n",
    "\n",
    "Pour les couches `Conv2D`, faites attention à ne pas faire des couches trop grande (Max 64 neurones). Choisissez la taille de la matrice de convolution entre (2,2) et (5,5).\n",
    "\n",
    "Optimisez votre réseau sur MNIST en utilisant les données mises en forme ci-dessous. A ce stade, même en utilisant uniquement les 6 000 premières images, vous devriez obtenir une précision sur les données de validation presque aussi bonne que celle obtenue dans l'exercice 1.\n",
    "\n",
    "**Pensez bien à tracer les historiques de la fonction de coût et de la précision pour suivre l'apprentissage de votre réseau !!!**"
   ]
  },
  {
   "cell_type": "code",
   "execution_count": 161,
   "metadata": {},
   "outputs": [],
   "source": [
    "(train_images, train_labels), (test_images, test_labels) = mnist.load_data()\n",
    "train_images = train_images.reshape((60000, 28, 28, 1))\n",
    "train_images = train_images.astype('float32') / 255\n",
    "test_images = test_images.reshape((10000, 28, 28, 1))\n",
    "test_images = test_images.astype('float32') / 255\n",
    "train_labels = to_categorical(train_labels)\n",
    "test_labels = to_categorical(test_labels)\n",
    "partial_train_images= train_images[:5000]\n",
    "partial_train_labels= train_labels[:5000]\n",
    "\n",
    "val_images = train_images[5000:6000]\n",
    "val_labels = train_labels[5000:6000]"
   ]
  },
  {
   "cell_type": "code",
   "execution_count": 162,
   "metadata": {
    "deletable": false,
    "nbgrader": {
     "cell_type": "code",
     "checksum": "2cf0f8a7c9d235935d0d5a4f713843eb",
     "grade": true,
     "grade_id": "cell-7769f918f8398d10",
     "locked": false,
     "points": 0,
     "schema_version": 3,
     "solution": true,
     "task": false
    }
   },
   "outputs": [
    {
     "name": "stdout",
     "output_type": "stream",
     "text": [
      "Model: \"sequential_57\"\n",
      "_________________________________________________________________\n",
      "Layer (type)                 Output Shape              Param #   \n",
      "=================================================================\n",
      "conv2d_15 (Conv2D)           (None, 26, 26, 48)        480       \n",
      "_________________________________________________________________\n",
      "max_pooling2d_10 (MaxPooling (None, 13, 13, 48)        0         \n",
      "_________________________________________________________________\n",
      "conv2d_16 (Conv2D)           (None, 11, 11, 32)        13856     \n",
      "_________________________________________________________________\n",
      "max_pooling2d_11 (MaxPooling (None, 5, 5, 32)          0         \n",
      "_________________________________________________________________\n",
      "conv2d_17 (Conv2D)           (None, 3, 3, 16)          4624      \n",
      "_________________________________________________________________\n",
      "flatten_5 (Flatten)          (None, 144)               0         \n",
      "_________________________________________________________________\n",
      "dense_108 (Dense)            (None, 64)                9280      \n",
      "_________________________________________________________________\n",
      "dense_109 (Dense)            (None, 10)                650       \n",
      "=================================================================\n",
      "Total params: 28,890\n",
      "Trainable params: 28,890\n",
      "Non-trainable params: 0\n",
      "_________________________________________________________________\n"
     ]
    }
   ],
   "source": [
    "model = models.Sequential()\n",
    "model.add(layers.Conv2D(48, (3,3), activation= 'swish', input_shape = (28,28,1)))\n",
    "model.add(layers.MaxPooling2D((2,2)))\n",
    "model.add(layers.Conv2D(32, (3,3), activation= 'swish', ))\n",
    "model.add(layers.MaxPooling2D((2,2)))\n",
    "model.add(layers.Conv2D(16, (3,3), activation= 'swish', ))\n",
    "model.add(layers.Flatten())\n",
    "model.add(layers.Dense(64, activation = 'swish'))\n",
    "model.add(layers.Dense(10, activation = 'softmax'))\n",
    "\n",
    "model.compile(optimizer='rmsprop', loss = 'categorical_crossentropy', metrics = 'accuracy')\n",
    "model.summary()"
   ]
  },
  {
   "cell_type": "code",
   "execution_count": 163,
   "metadata": {
    "deletable": false,
    "nbgrader": {
     "cell_type": "code",
     "checksum": "e1f2b1c6954ad549cc6e641cdf2861a2",
     "grade": true,
     "grade_id": "cell-b8a41e785dcc605c",
     "locked": false,
     "points": 0,
     "schema_version": 3,
     "solution": true,
     "task": false
    }
   },
   "outputs": [
    {
     "name": "stdout",
     "output_type": "stream",
     "text": [
      "Epoch 1/10\n",
      "41/41 [==============================] - 76s 2s/step - loss: 1.7757 - accuracy: 0.4105 - val_loss: 0.6380 - val_accuracy: 0.8080\n",
      "Epoch 2/10\n",
      "41/41 [==============================] - 58s 1s/step - loss: 0.4962 - accuracy: 0.8498 - val_loss: 0.5353 - val_accuracy: 0.8520\n",
      "Epoch 3/10\n",
      "41/41 [==============================] - 90s 2s/step - loss: 0.3551 - accuracy: 0.8933 - val_loss: 0.3519 - val_accuracy: 0.8850\n",
      "Epoch 4/10\n",
      "41/41 [==============================] - 45s 1s/step - loss: 0.2739 - accuracy: 0.9209 - val_loss: 0.2503 - val_accuracy: 0.9210\n",
      "Epoch 5/10\n",
      "41/41 [==============================] - 2s 43ms/step - loss: 0.2121 - accuracy: 0.9313 - val_loss: 0.2611 - val_accuracy: 0.9170\n",
      "Epoch 6/10\n",
      "41/41 [==============================] - 2s 39ms/step - loss: 0.1672 - accuracy: 0.9532 - val_loss: 0.1970 - val_accuracy: 0.9500\n",
      "Epoch 7/10\n",
      "41/41 [==============================] - 1s 33ms/step - loss: 0.1410 - accuracy: 0.9532 - val_loss: 0.1988 - val_accuracy: 0.9380\n",
      "Epoch 8/10\n",
      "41/41 [==============================] - 7s 175ms/step - loss: 0.1152 - accuracy: 0.9645 - val_loss: 0.1688 - val_accuracy: 0.9390\n",
      "Epoch 9/10\n",
      "41/41 [==============================] - 4s 96ms/step - loss: 0.0888 - accuracy: 0.9727 - val_loss: 0.1652 - val_accuracy: 0.9550\n",
      "Epoch 10/10\n",
      "41/41 [==============================] - 8s 208ms/step - loss: 0.0763 - accuracy: 0.9783 - val_loss: 0.1773 - val_accuracy: 0.9500\n"
     ]
    }
   ],
   "source": [
    "history = model.fit(partial_train_images, partial_train_labels, epochs = 10, batch_size = 124, validation_data = (val_images, val_labels))"
   ]
  },
  {
   "cell_type": "code",
   "execution_count": 165,
   "metadata": {
    "deletable": false,
    "nbgrader": {
     "cell_type": "code",
     "checksum": "4ad2e866925f225545224fb5f9111cd8",
     "grade": true,
     "grade_id": "cell-26077b54c62c6bb8",
     "locked": false,
     "points": 0,
     "schema_version": 3,
     "solution": true,
     "task": false
    }
   },
   "outputs": [
    {
     "data": {
      "image/png": "[encoded data removed]",
      "text/plain": [
       "<Figure size 432x288 with 1 Axes>"
      ]
     },
     "metadata": {
      "needs_background": "light"
     },
     "output_type": "display_data"
    }
   ],
   "source": [
    "history_dict = history.history\n",
    "loss_values = history_dict['loss']\n",
    "val_loss_values = history_dict['val_loss']\n",
    "\n",
    "fig = plt.figure()\n",
    "plt.plot(range(10),loss_values, label = 'entrainement')\n",
    "plt.plot(range(10),val_loss_values, label = 'validation')\n",
    "plt.title('Coût')\n",
    "plt.legend()\n",
    "plt.show()"
   ]
  },
  {
   "cell_type": "code",
   "execution_count": 166,
   "metadata": {},
   "outputs": [
    {
     "name": "stdout",
     "output_type": "stream",
     "text": [
      "313/313 [==============================] - 2s 5ms/step - loss: 0.1574 - accuracy: 0.9496\n",
      "Test accuracy :  0.9495999813079834\n"
     ]
    }
   ],
   "source": [
    "test_loss, test_acc = model.evaluate(test_images,test_labels)\n",
    "print('Test accuracy : ', test_acc)"
   ]
  },
  {
   "cell_type": "markdown",
   "metadata": {},
   "source": [
    "Ajoutez une couche de type `Dropout` juste avant la dernière couche.\n",
    "\n",
    "Jouez sur le taux de dropout et commentez son impact. Optimisez à nouveau votre réseau, puis entraînez votre réseau sur les 6 000 données d'entraînement et testez le. \n",
    "\n",
    "Comparez la précision atteinte avec un tel réseau avec celle atteinte lors du premier exercice (gardez en mémoire que vous entrainez votre réseau sur 5 fois moins de données que pour le premier exercice !). "
   ]
  },
  {
   "cell_type": "code",
   "execution_count": null,
   "metadata": {
    "deletable": false,
    "nbgrader": {
     "cell_type": "code",
     "checksum": "b87edde4d03c965be1a303612e6b7a6a",
     "grade": true,
     "grade_id": "cell-cf6aa07127e14cfa",
     "locked": false,
     "points": 0,
     "schema_version": 3,
     "solution": true,
     "task": false
    }
   },
   "outputs": [],
   "source": [
    "#LA REPONSE ICI\n",
    "raise NotImplementedError()"
   ]
  },
  {
   "cell_type": "code",
   "execution_count": null,
   "metadata": {
    "deletable": false,
    "nbgrader": {
     "cell_type": "code",
     "checksum": "e60b465037745fb7157471eff32f8605",
     "grade": true,
     "grade_id": "cell-c198011c4c681e64",
     "locked": false,
     "points": 0,
     "schema_version": 3,
     "solution": true,
     "task": false
    }
   },
   "outputs": [],
   "source": [
    "#LA REPONSE ICI\n",
    "raise NotImplementedError()"
   ]
  },
  {
   "cell_type": "code",
   "execution_count": null,
   "metadata": {
    "deletable": false,
    "nbgrader": {
     "cell_type": "code",
     "checksum": "4e6a856d0c649108c4475dfe7ad41da7",
     "grade": true,
     "grade_id": "cell-c824f87d368e5439",
     "locked": false,
     "points": 0,
     "schema_version": 3,
     "solution": true,
     "task": false
    }
   },
   "outputs": [],
   "source": [
    "#LA REPONSE ICI\n",
    "raise NotImplementedError()"
   ]
  },
  {
   "cell_type": "code",
   "execution_count": null,
   "metadata": {
    "deletable": false,
    "nbgrader": {
     "cell_type": "code",
     "checksum": "eb7078aa11dc38720657864a608d56e6",
     "grade": true,
     "grade_id": "cell-27acf612a6941153",
     "locked": false,
     "points": 0,
     "schema_version": 3,
     "solution": true,
     "task": false
    }
   },
   "outputs": [],
   "source": [
    "#LA REPONSE ICI\n",
    "raise NotImplementedError()"
   ]
  },
  {
   "cell_type": "markdown",
   "metadata": {
    "deletable": false,
    "nbgrader": {
     "cell_type": "markdown",
     "checksum": "6fb76c35814b7a79922b46ef680d6d1a",
     "grade": true,
     "grade_id": "cell-e85a006f91921f30",
     "locked": false,
     "points": 0,
     "schema_version": 3,
     "solution": true,
     "task": false
    }
   },
   "source": [
    "LA REPONSE ICI (double-clique pour editer la cellule)"
   ]
  }
 ],
 "metadata": {
  "kernelspec": {
   "display_name": "Python 3",
   "language": "python",
   "name": "python3"
  },
  "language_info": {
   "codemirror_mode": {
    "name": "ipython",
    "version": 3
   },
   "file_extension": ".py",
   "mimetype": "text/x-python",
   "name": "python",
   "nbconvert_exporter": "python",
   "pygments_lexer": "ipython3",
   "version": "3.8.6"
  }
 },
 "nbformat": 4,
 "nbformat_minor": 4
}
