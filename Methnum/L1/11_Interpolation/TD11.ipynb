{
 "cells": [
  {
   "cell_type": "markdown",
   "metadata": {},
   "source": [
    "Quelques conseils:\n",
    "- pour exécutez une cellule, cliquez sur le bouton *Exécuter* ci-dessus ou tapez **Shift+Enter**\n",
    "- si l'exécution d'une cellule prend trop de temps, sélectionner dans le menu ci-dessus *Noyau/Interrompre*\n",
    "- en cas de très gros plantage *Noyau/Redémarrer*\n",
    "- **sauvegardez régulièrement vos réponses** en cliquant sur l'icone disquette ci-dessus à gauche, ou *Fichier/Créer une nouvelle sauvegarde*\n",
    "\n",
    "Pour répondre aux questions, remplacer les lignes  \n",
    "```python \n",
    "#LA REPONSE ICI\n",
    "raise NotImplementedError()\n",
    "``` \n",
    "par vos réponses, et remplissez les champs ci-dessous:"
   ]
  },
  {
   "cell_type": "code",
   "execution_count": 1,
   "metadata": {},
   "outputs": [],
   "source": [
    "NOM = \"Martinez\"\n",
    "PRENOM = \"Maud\"\n",
    "GROUPE = \"3\"\n",
    "DATE = \"24/04/2019\""
   ]
  },
  {
   "cell_type": "markdown",
   "metadata": {},
   "source": [
    "---"
   ]
  },
  {
   "cell_type": "markdown",
   "metadata": {
    "deletable": false,
    "editable": false,
    "nbgrader": {
     "cell_type": "markdown",
     "checksum": "39bee1ca119458a671eeb88f069a4a8f",
     "grade": false,
     "grade_id": "cell-b5888bad0996c86e",
     "locked": true,
     "schema_version": 3,
     "solution": false,
     "task": false
    }
   },
   "source": [
    "# TP 11 Interpolation\n",
    "## Exercice 1: Distance parcourue\n",
    "\n",
    "Le tableau suivant reporte les valeurs de vitesses instantanées mesurées à des intervalles irréguliers lors d’un voyage en vélo. \n",
    "\n",
    "| Temps (minutes) | Vitesse (km/h) |\n",
    "| ---|---|\n",
    "|2 | 20|\n",
    "|16|24|\n",
    "|30|28|\n",
    "|60|27|\n",
    "|132 | 23|\n",
    "|157 |19 |\n",
    "|195 |18.5 |\n",
    "|230 |17 |\n",
    "|242 | 15.8|\n",
    "| 267 | 15 | \n",
    "\n",
    " 1. Representez ces données avec un nuage de points en utilisant la fonction ```scatter()``` du module ```matplotlib.pyplot```."
   ]
  },
  {
   "cell_type": "code",
   "execution_count": 8,
   "metadata": {
    "deletable": false,
    "nbgrader": {
     "cell_type": "code",
     "checksum": "7272e9e9fa883fadd72ad042a00241b3",
     "grade": true,
     "grade_id": "cell-b649f83a8761d40c",
     "locked": false,
     "points": 0,
     "schema_version": 3,
     "solution": true,
     "task": false
    }
   },
   "outputs": [
    {
     "data": {
      "image/png": "[encoded data removed]",
      "text/plain": [
       "<Figure size 432x288 with 1 Axes>"
      ]
     },
     "metadata": {
      "needs_background": "light"
     },
     "output_type": "display_data"
    }
   ],
   "source": [
    "from matplotlib import pyplot as plt\n",
    "import numpy as np\n",
    "\n",
    "Temps = [2, 16, 30, 60, 132, 157, 195, 230, 242, 267]\n",
    "Vitesse = [20, 24, 28, 27, 23, 19, 18.5, 17, 15.8, 15]\n",
    "\n",
    "fig = plt.figure()\n",
    "plt.scatter(Temps, Vitesse)\n",
    "\n",
    "plt.show()"
   ]
  },
  {
   "cell_type": "markdown",
   "metadata": {
    "deletable": false,
    "editable": false,
    "nbgrader": {
     "cell_type": "markdown",
     "checksum": "9dead020c17c87362dc2df21f6feea7b",
     "grade": false,
     "grade_id": "cell-551e49a3311f515e",
     "locked": true,
     "schema_version": 3,
     "solution": false,
     "task": false
    }
   },
   "source": [
    "On voudrait connaître la distance totale parcourue pendant la deuxième, troisième et quatrième heure de voyage. Pour ceci il faudrait connaître à tout moment la vitesse moyenne mais celle ci a été enregistrée seulement à certains moments. Il s’agit donc d’abord d’interpoler les données acquises et en suite de procéder à une intégration.\n",
    "2. Representez maintenant les données en reliant les points par un trait continu. "
   ]
  },
  {
   "cell_type": "code",
   "execution_count": 5,
   "metadata": {
    "deletable": false,
    "nbgrader": {
     "cell_type": "code",
     "checksum": "c3015b0506fef431cea8ab750441b191",
     "grade": true,
     "grade_id": "cell-07373791f4f7374b",
     "locked": false,
     "points": 0,
     "schema_version": 3,
     "solution": true,
     "task": false
    }
   },
   "outputs": [
    {
     "data": {
      "image/png": "[encoded data removed]",
      "text/plain": [
       "<Figure size 432x288 with 1 Axes>"
      ]
     },
     "metadata": {
      "needs_background": "light"
     },
     "output_type": "display_data"
    }
   ],
   "source": [
    "fig = plt.figure()\n",
    "plt.scatter(Temps, Vitesse)\n",
    "plt.plot(Temps, Vitesse)\n",
    "plt.show()"
   ]
  },
  {
   "cell_type": "markdown",
   "metadata": {
    "deletable": false,
    "editable": false,
    "nbgrader": {
     "cell_type": "markdown",
     "checksum": "a5996c8cf705547f9af782937274a3b1",
     "grade": false,
     "grade_id": "cell-02244935080815cd",
     "locked": true,
     "schema_version": 3,
     "solution": false,
     "task": false
    }
   },
   "source": [
    "Le graphique que vous venez de tracer à été obtenu grâce à une interpolation linaire par morceaux mais vous ne connaissez pas l'expression de la fonction interpolatrice. Par exemple vous n’avez pas une expression qui vous permet de connaître la vitesse après trois heures de voyage. Pour ceci il s'agit identifier l'intervalle dans lequel est situé un point $x$ quelconque, de définir la droite qui relie les coordonnées des valeurs aux extrémités de cet intervalle et de calculer sur cette droite la valeur $y$ qui correspond au $x$ choisi.\n",
    "3. Definissez une fonction ```intervalle()``` qui prend en entrée une liste de valeur et un point $t$ et vous retourne l'indice $j$ tel que $t_j < t < t_{j+1}$."
   ]
  },
  {
   "cell_type": "code",
   "execution_count": 51,
   "metadata": {
    "deletable": false,
    "nbgrader": {
     "cell_type": "code",
     "checksum": "b4703a1fff90844441233f28176b12a9",
     "grade": true,
     "grade_id": "cell-3e25bd42e0af1e33",
     "locked": false,
     "points": 0,
     "schema_version": 3,
     "solution": true,
     "task": false
    }
   },
   "outputs": [],
   "source": [
    "def intervalle(T, t):\n",
    "    for j in range(0,len(T)-1) :\n",
    "        if t >= T[j] and t < T[j+1] :\n",
    "            break\n",
    "    \n",
    "    return j\n",
    "    "
   ]
  },
  {
   "cell_type": "code",
   "execution_count": 52,
   "metadata": {},
   "outputs": [
    {
     "data": {
      "text/plain": [
       "8"
      ]
     },
     "execution_count": 52,
     "metadata": {},
     "output_type": "execute_result"
    }
   ],
   "source": [
    "intervalle(Temps, 267)"
   ]
  },
  {
   "cell_type": "markdown",
   "metadata": {
    "deletable": false,
    "editable": false,
    "nbgrader": {
     "cell_type": "markdown",
     "checksum": "07264eb7b6ac500f070c0ff59342ce89",
     "grade": false,
     "grade_id": "cell-7b45f21bd1cd7fd5",
     "locked": true,
     "schema_version": 3,
     "solution": false,
     "task": false
    }
   },
   "source": [
    "4. Créer une fonction ```interp_lin(t,t_i,v_i)``` qui prend pour argument un tableau t de valeurs où l'on cherche l’interpolation, ainsi que $t_i$ et $v_i$ les tableaux de la fonction discrétisée sur n points, et retourne le tableau des valeurs interpolées $\\Phi(t)$ :\n",
    "$$ \\Phi(t)=f(t_j)+\\frac{t-t_j}{t_{j+1}-t_{j}}(v_{j+1}-v_j) \\quad {\\rm\\ pour\\ } t \\in [t_j,t_{j+1}]$$\n",
    "Remarque: on voudrait pouvoir utiliser la fonction ```interp_lin(t,t_i,v_i)``` soit pour des tableaux de valeurs, soit pour un temps donné. Il est possible que dans votre définition de fonction vous deviez itérer sur la variable t. Dans ce cas, si on rentre une simple valeur numérique et pas un tableau (ou une liste), on obtient une erreur du type : 'int' object is not iterable. Pour contourner ce problème vous pouvez à l’intérieur de la fonction transformer t en une liste mais il faut le faire seulement si le type de t n’a pas un iterateur déjà défini : il ne faut pas faire de listes de listes ou des listes de arrays ! La fonction ```transform()``` définie dans la cellule suivante vous permet de faire cette transformation. Si necessaire, vous pourrez l’appeler dans la definition de votre fonction  ```interp_lin(t,t_i,v_i)```."
   ]
  },
  {
   "cell_type": "code",
   "execution_count": 18,
   "metadata": {
    "deletable": false,
    "editable": false,
    "nbgrader": {
     "cell_type": "code",
     "checksum": "05e3a7c375ac80b1cea64ec86a559096",
     "grade": false,
     "grade_id": "cell-bd6b6151ab80b8ab",
     "locked": true,
     "schema_version": 3,
     "solution": false,
     "task": false
    }
   },
   "outputs": [],
   "source": [
    "def transform(obj):\n",
    "    if not hasattr(obj, \"__iter__\"):\n",
    "        obj = [obj]\n",
    "    return obj"
   ]
  },
  {
   "cell_type": "code",
   "execution_count": 19,
   "metadata": {
    "deletable": false,
    "nbgrader": {
     "cell_type": "code",
     "checksum": "ef44edc5f3b1f688d70c536c1c2a80d2",
     "grade": true,
     "grade_id": "cell-dc40daec470298e4",
     "locked": false,
     "points": 0,
     "schema_version": 3,
     "solution": true,
     "task": false
    }
   },
   "outputs": [],
   "source": [
    "def interp_lin(t, t_i, v_i) :\n",
    "    t = transform(t)\n",
    "    phi = []\n",
    "    \n",
    "    for x in t :\n",
    "        j = intervalle(t_i, x)\n",
    "        \n",
    "        f= v_i[j]+((x-t_i[j])/(t_i[j+1]-t_i[j]) * (v_i[j+1]- v_i[j]))\n",
    "        phi.append(f)\n",
    "        \n",
    "    return phi"
   ]
  },
  {
   "cell_type": "markdown",
   "metadata": {
    "deletable": false,
    "editable": false,
    "nbgrader": {
     "cell_type": "markdown",
     "checksum": "2e8cc00a0e6f0a952a6361a5a9291aa9",
     "grade": false,
     "grade_id": "cell-c57d3c0dee714f3d",
     "locked": true,
     "schema_version": 3,
     "solution": false,
     "task": false
    }
   },
   "source": [
    "5. Calculez maintenant par interpolation linéaire les coordonnées de 200 points entre le temps minimum et maximum des données expérimentales. A l'aide de la fonction ```scatter()``` représentez les données originelles ainsi que les valeurs obtenues par interpolation. Quelle était la vitesse après deux heures de voyage ? Et après trois heures ?"
   ]
  },
  {
   "cell_type": "code",
   "execution_count": 25,
   "metadata": {
    "deletable": false,
    "nbgrader": {
     "cell_type": "code",
     "checksum": "f343f637cce62181ac62bef0d7a9c342",
     "grade": true,
     "grade_id": "cell-628846c79643be10",
     "locked": false,
     "points": 0,
     "schema_version": 3,
     "solution": true,
     "task": false
    }
   },
   "outputs": [
    {
     "data": {
      "image/png": "[encoded data removed]",
      "text/plain": [
       "<Figure size 432x288 with 1 Axes>"
      ]
     },
     "metadata": {
      "needs_background": "light"
     },
     "output_type": "display_data"
    }
   ],
   "source": [
    "T= np.linspace(Temps[0],Temps[-1], 200)\n",
    "\n",
    "y = interp_lin(T,Temps, Vitesse)\n",
    "\n",
    "fig= plt.figure()\n",
    "plt.scatter(T, y)\n",
    "plt.scatter(Temps, Vitesse)\n",
    "plt.xlabel('Temps')\n",
    "plt.ylabel('Vitesse')\n",
    "plt.show()"
   ]
  },
  {
   "cell_type": "markdown",
   "metadata": {
    "deletable": false,
    "editable": false,
    "nbgrader": {
     "cell_type": "markdown",
     "checksum": "115b43669fc1fdc481a72b9a8a087d4c",
     "grade": false,
     "grade_id": "cell-a8f7dae293cbf62d",
     "locked": true,
     "schema_version": 3,
     "solution": false,
     "task": false
    }
   },
   "source": [
    "6. On peut maintenant calculer la distance parcourue pendant la troisième heure de voyage. Pour ceci vous pouvez utiliser la méthode des trapèzes : faire des trapèzes revient à faire une interpolation linéaire entre point successifs! Vous pouvez construire une liste des vitesse mesurées dans l’intervalle choisi en ajoutant les points aux extrêmes de l'intervalle temporel que vous avez obtenus grâce à la fonction ```interp_lin(t,t_i,v_i)``` à la fin de question precedente (remarque: contrôler de ne pas mélanger listes et valeurs numériques)."
   ]
  },
  {
   "cell_type": "code",
   "execution_count": 31,
   "metadata": {
    "deletable": false,
    "nbgrader": {
     "cell_type": "code",
     "checksum": "5aef5b32f3cf9cb2aa94f6f5a838915c",
     "grade": true,
     "grade_id": "cell-d07d6981f0673d66",
     "locked": false,
     "points": 0,
     "schema_version": 3,
     "solution": true,
     "task": false
    }
   },
   "outputs": [
    {
     "name": "stdout",
     "output_type": "stream",
     "text": [
      "20.642005542567816\n"
     ]
    }
   ],
   "source": [
    "from scipy import integrate\n",
    "\n",
    "T= np.linspace(120,180, 200)\n",
    "y = interp_lin(T, Temps, Vitesse)\n",
    "y_int = integrate.trapz(y, T)/60\n",
    "\n",
    "print(y_int)"
   ]
  },
  {
   "cell_type": "markdown",
   "metadata": {
    "deletable": false,
    "editable": false,
    "nbgrader": {
     "cell_type": "markdown",
     "checksum": "397d42327dd91461b34524a1d60baf6e",
     "grade": false,
     "grade_id": "cell-acfbe9b5afb2afb4",
     "locked": true,
     "schema_version": 3,
     "solution": false,
     "task": false
    }
   },
   "source": [
    "L’utilisation d’une interpolation linéaire a le désavantage de ne pas garantir la continuité de la dérivée première. Quelle était l’accélération du vélo au moments où les mesures ont été effectuées? Il est ainsi convenable d’utiliser d'autres méthodes d’interpolation qui permettent d’obtenir des courbes lisses.\n",
    "Nous allons chercher un polynôme $\\phi$ de degré $n$ passant par tous les points ($x_i , y_i = f(x_i)$). Ce polynôme peut être le polynôme interpolateur de Lagrange qui a la forme suivante:\n",
    "\n",
    "$$ \\Phi(x)= \\sum_{i=0} f(x_i) l_i(x)$$\n",
    "\n",
    "où $l_i(x)$ est le polynôme de Lagrange:\n",
    "$$l_i(x)=\\prod_{j \\neq i}  \\dfrac{(x-x_j)}{(x_i-x_j)} $$\n",
    "7. Créer une fonction renvoyant la valeur du i-ème polynôme de Lagrange $l_i(x)$. La fonction prendra en entrée le tableau de valeurs $x_i$, l'entier $i$ et la valeur $x$.  "
   ]
  },
  {
   "cell_type": "code",
   "execution_count": 47,
   "metadata": {
    "deletable": false,
    "nbgrader": {
     "cell_type": "code",
     "checksum": "26deaf2f48f1b86693f0c2bfdb1b0551",
     "grade": true,
     "grade_id": "cell-8f89b3464bc471ea",
     "locked": false,
     "points": 0,
     "schema_version": 3,
     "solution": true,
     "task": false
    }
   },
   "outputs": [],
   "source": [
    "def l_i(Xi, i, x):\n",
    "    \n",
    "    h= 1\n",
    "    \n",
    "    for j in range(0, len(Xi)):\n",
    "        if j == i :\n",
    "            continue\n",
    "        h= h * (x-Xi[j])/(Xi[i]-Xi[j])\n",
    "        \n",
    "    return h"
   ]
  },
  {
   "cell_type": "markdown",
   "metadata": {
    "deletable": false,
    "editable": false,
    "nbgrader": {
     "cell_type": "markdown",
     "checksum": "d9cb77b2a244ed5b491cc93448ed9c1e",
     "grade": false,
     "grade_id": "cell-fb9f5b53dc13f5c3",
     "locked": true,
     "schema_version": 3,
     "solution": false,
     "task": false
    }
   },
   "source": [
    "8. Choisissez deux valeurs $x_0$ et $x_1$ et tracer sur un même graphe les deux polynômes de Lagrange associés à l’intervalle $x_0-x_1$."
   ]
  },
  {
   "cell_type": "code",
   "execution_count": 48,
   "metadata": {
    "deletable": false,
    "nbgrader": {
     "cell_type": "code",
     "checksum": "b3fca71afb87812c533caa233a347fca",
     "grade": true,
     "grade_id": "cell-087a6166b7c2e680",
     "locked": false,
     "points": 0,
     "schema_version": 3,
     "solution": true,
     "task": false
    }
   },
   "outputs": [
    {
     "data": {
      "image/png": "[encoded data removed]",
      "text/plain": [
       "<Figure size 432x288 with 1 Axes>"
      ]
     },
     "metadata": {
      "needs_background": "light"
     },
     "output_type": "display_data"
    }
   ],
   "source": [
    "x0= 0\n",
    "x1= 1\n",
    "\n",
    "X= np.linspace(x0,x1, 200)\n",
    "\n",
    "y0= l_i([x0,x1],0, X)\n",
    "y1= l_i([x0,x1],1, X)\n",
    "\n",
    "\n",
    "plt.plot(X,y0)\n",
    "plt.plot(X,y1)\n",
    "plt.show()\n"
   ]
  },
  {
   "cell_type": "markdown",
   "metadata": {
    "deletable": false,
    "editable": false,
    "nbgrader": {
     "cell_type": "markdown",
     "checksum": "df4f57b66e7aaf0566e548bc2a190e86",
     "grade": false,
     "grade_id": "cell-52494df5c6a491f8",
     "locked": true,
     "schema_version": 3,
     "solution": false,
     "task": false
    }
   },
   "source": [
    "9. Créer une fonction ```lagrange_interp(x, x_i, y_i)``` calculant le polynôme interpolateur de Lagrange à partir de $x$, des tableaux $x_i$ et $y_i$."
   ]
  },
  {
   "cell_type": "code",
   "execution_count": 59,
   "metadata": {
    "deletable": false,
    "nbgrader": {
     "cell_type": "code",
     "checksum": "ad2a144d735c90ffe8f7e37907024507",
     "grade": true,
     "grade_id": "cell-7bc3a4cce41e4593",
     "locked": false,
     "points": 0,
     "schema_version": 3,
     "solution": true,
     "task": false
    }
   },
   "outputs": [],
   "source": [
    "def lagrange_interp(x, x_i, y_i):\n",
    "    \n",
    "    x= transform(x)\n",
    "    r= np.zeros_like(x)\n",
    "    \n",
    "    for i in range(0, len(y_i)):\n",
    "        r += y_i[i]*l_i(x_i,i,x)\n",
    "    return r\n",
    "        \n",
    "        "
   ]
  },
  {
   "cell_type": "markdown",
   "metadata": {
    "deletable": false,
    "editable": false,
    "nbgrader": {
     "cell_type": "markdown",
     "checksum": "4c73f94bd091cb4eb55d5affeec919d0",
     "grade": false,
     "grade_id": "cell-776e82aceedc3690",
     "locked": true,
     "schema_version": 3,
     "solution": false,
     "task": false
    }
   },
   "source": [
    "10. Représentez sur un même graphique les valeurs mesurées de vitesse en fonction du temps ainsi que polynôme interpolateur de Lagrange obtenu à partir de ce tableau."
   ]
  },
  {
   "cell_type": "code",
   "execution_count": 64,
   "metadata": {
    "deletable": false,
    "nbgrader": {
     "cell_type": "code",
     "checksum": "378187e4b74759c987ea36867b454e40",
     "grade": true,
     "grade_id": "cell-437211f468b77153",
     "locked": false,
     "points": 0,
     "schema_version": 3,
     "solution": true,
     "task": false
    }
   },
   "outputs": [
    {
     "data": {
      "image/png": "[encoded data removed]",
      "text/plain": [
       "<Figure size 432x288 with 1 Axes>"
      ]
     },
     "metadata": {
      "needs_background": "light"
     },
     "output_type": "display_data"
    }
   ],
   "source": [
    "X = np.linspace(Temps[0], Temps[-1], 200)\n",
    "Y = lagrange_interp(X, Temps, Vitesse)\n",
    "\n",
    "plt.plot(X, Y)\n",
    "plt.scatter(Temps,Vitesse)\n",
    "plt.show()"
   ]
  },
  {
   "cell_type": "markdown",
   "metadata": {
    "deletable": false,
    "editable": false,
    "nbgrader": {
     "cell_type": "markdown",
     "checksum": "a7fe9c9b740173f36d7af89a2d518ea6",
     "grade": false,
     "grade_id": "cell-0f3dae1833aa688c",
     "locked": true,
     "schema_version": 3,
     "solution": false,
     "task": false
    }
   },
   "source": [
    "11. Calculer maintenant la distance parcourue pendant la troisième heure de voyage. On pourra intégrer le polynôme interpolateur de Lagrange obtenu en utilisant la fonction ```quad()``` du module ```scipy.integrate```."
   ]
  },
  {
   "cell_type": "code",
   "execution_count": 68,
   "metadata": {
    "deletable": false,
    "nbgrader": {
     "cell_type": "code",
     "checksum": "3f5baa4737fbf64c927d8c1d849d4b08",
     "grade": true,
     "grade_id": "cell-345196d569f85188",
     "locked": false,
     "points": 0,
     "schema_version": 3,
     "solution": true,
     "task": false
    }
   },
   "outputs": [
    {
     "name": "stdout",
     "output_type": "stream",
     "text": [
      "20.476785357450595\n"
     ]
    }
   ],
   "source": [
    "T= np.linspace(120,180, 200)\n",
    "y = lagrange_interp(T, Temps, Vitesse)\n",
    "y_int = integrate.trapz(y,T)/60\n",
    "\n",
    "print(y_int)"
   ]
  },
  {
   "cell_type": "markdown",
   "metadata": {
    "deletable": false,
    "editable": false,
    "nbgrader": {
     "cell_type": "markdown",
     "checksum": "f12ece0e452a9575fa941c45c73a2077",
     "grade": false,
     "grade_id": "cell-c169630b2f411f02",
     "locked": true,
     "schema_version": 3,
     "solution": false,
     "task": false
    }
   },
   "source": [
    "## Exercice 2: Phénomène de Runge\n",
    "\n",
    "Dans cet exercice on s’intéresse à comment une fonction peut être bien représentée par un polynôme interpolateur de Lagrange et aux problèmes que l'on peut rencontrer aux limites.\n",
    "1. Definir la fonction $f_1(x)=1/(1+K x^2)$ où $K$ est un paramètre. Représenter cette fonction dans l’intervalle $[-1,1]$ en choisissant K=10."
   ]
  },
  {
   "cell_type": "code",
   "execution_count": 70,
   "metadata": {
    "deletable": false,
    "nbgrader": {
     "cell_type": "code",
     "checksum": "4a445fadfb96449af68237373832907d",
     "grade": true,
     "grade_id": "cell-e2aff1770c23095f",
     "locked": false,
     "points": 0,
     "schema_version": 3,
     "solution": true,
     "task": false
    },
    "scrolled": true
   },
   "outputs": [
    {
     "data": {
      "image/png": "[encoded data removed]",
      "text/plain": [
       "<Figure size 432x288 with 1 Axes>"
      ]
     },
     "metadata": {
      "needs_background": "light"
     },
     "output_type": "display_data"
    }
   ],
   "source": [
    "def f1(x, K):\n",
    "    return 1/(1+K*x**2)\n",
    "\n",
    "X= np.linspace(-1,1,200)\n",
    "Y= f1(X,10)\n",
    "\n",
    "fig = plt.figure()\n",
    "plt.plot(X, Y)\n",
    "plt.show()\n",
    "    "
   ]
  },
  {
   "cell_type": "markdown",
   "metadata": {
    "deletable": false,
    "editable": false,
    "nbgrader": {
     "cell_type": "markdown",
     "checksum": "4f0f65f9e47d0e33bf3f52b9720e7700",
     "grade": false,
     "grade_id": "cell-40dcc615ba90fe62",
     "locked": true,
     "schema_version": 3,
     "solution": false,
     "task": false
    }
   },
   "source": [
    "2. Générer un tableau de $n=20$ points $x_i$ répartis régulièrement dans l'intervalle $[-1,1]$ et un tableau $y_i=f_1(x_i)$ avec K=10. "
   ]
  },
  {
   "cell_type": "code",
   "execution_count": 71,
   "metadata": {
    "deletable": false,
    "nbgrader": {
     "cell_type": "code",
     "checksum": "0a0483b6986d043c25a03aebccf3c6e5",
     "grade": true,
     "grade_id": "cell-19ed054c98ad2b65",
     "locked": false,
     "points": 0,
     "schema_version": 3,
     "solution": true,
     "task": false
    }
   },
   "outputs": [],
   "source": [
    "Xi = np.linspace(-1, 1, 20)\n",
    "Yi = f1(Xi, 10)\n"
   ]
  },
  {
   "cell_type": "markdown",
   "metadata": {
    "deletable": false,
    "editable": false,
    "nbgrader": {
     "cell_type": "markdown",
     "checksum": "753479c3ba7fb80708af20b9bf8dcd02",
     "grade": false,
     "grade_id": "cell-091544290b97ef97",
     "locked": true,
     "schema_version": 3,
     "solution": false,
     "task": false
    }
   },
   "source": [
    "Vous pouvez imaginer que lors d’une expérience vous avez mesuré ces points mais que *a priori* vous ne connaissez pas la fonction qui relie les $y_i$ aux $x_i$. Il s’agit donc d’interpoler les données et pour ceci vous pouvez utiliser la fonction ```lagrange_interp()``` que vous avez définie dans l’exercice précédent. \n",
    "3. Représentez sur un même graphique la fonction originelle, les 20 points choisi et le polynôme interpolateur de Lagrange."
   ]
  },
  {
   "cell_type": "code",
   "execution_count": 74,
   "metadata": {
    "deletable": false,
    "nbgrader": {
     "cell_type": "code",
     "checksum": "1041cd8432e86c8978e8f94ce5b0c0a2",
     "grade": true,
     "grade_id": "cell-2b0a56d9a65dc77e",
     "locked": false,
     "points": 0,
     "schema_version": 3,
     "solution": true,
     "task": false
    }
   },
   "outputs": [
    {
     "data": {
      "image/png": "[encoded data removed]",
      "text/plain": [
       "<Figure size 432x288 with 1 Axes>"
      ]
     },
     "metadata": {
      "needs_background": "light"
     },
     "output_type": "display_data"
    }
   ],
   "source": [
    "X= np.linspace(-1,1,200)\n",
    "Y_int = lagrange_interp(X, Xi, Yi)\n",
    "\n",
    "fig= plt.figure()\n",
    "plt.plot(X, Y)\n",
    "plt.scatter(Xi, Yi)\n",
    "plt.plot(X, Y_int)\n",
    "plt.show()"
   ]
  },
  {
   "cell_type": "markdown",
   "metadata": {
    "deletable": false,
    "editable": false,
    "nbgrader": {
     "cell_type": "markdown",
     "checksum": "4e89acc075c9b060ec40d3b26df4244f",
     "grade": false,
     "grade_id": "cell-1dd4527e8985606e",
     "locked": true,
     "schema_version": 3,
     "solution": false,
     "task": false
    }
   },
   "source": [
    "4. Reprendre la question précédente avec des abscisses $x_i$ répartis de la manière suivante : $$ x_i=\\cos \\left[\\frac{(2i+1)\\pi}{(2n+1)}\\right]$$ où $n$ est à nouveau le nombre de points $x_i$.  Que constatez vous ?  "
   ]
  },
  {
   "cell_type": "code",
   "execution_count": 76,
   "metadata": {
    "deletable": false,
    "nbgrader": {
     "cell_type": "code",
     "checksum": "d58e69dd607e1e8483e11a198d0c1bd4",
     "grade": true,
     "grade_id": "cell-82ccd628256fb0a6",
     "locked": false,
     "points": 0,
     "schema_version": 3,
     "solution": true,
     "task": false
    }
   },
   "outputs": [
    {
     "data": {
      "image/png": "[encoded data removed]",
      "text/plain": [
       "<Figure size 432x288 with 1 Axes>"
      ]
     },
     "metadata": {
      "needs_background": "light"
     },
     "output_type": "display_data"
    }
   ],
   "source": [
    "n= 20\n",
    "Xi = np.array ([np.cos((2*i+1)*np.pi/(2*n+1)) for i in range(n) ])\n",
    "Yi = f1(Xi, 10)\n",
    "\n",
    "X= np.linspace(-1,1,200)\n",
    "Y_int = lagrange_interp(X, Xi, Yi)\n",
    "\n",
    "fig= plt.figure()\n",
    "plt.plot(X, Y)\n",
    "plt.scatter(Xi, Yi)\n",
    "plt.plot(X, Y_int)\n",
    "plt.show()"
   ]
  },
  {
   "cell_type": "markdown",
   "metadata": {
    "deletable": false,
    "editable": false,
    "nbgrader": {
     "cell_type": "markdown",
     "checksum": "cbf59d8b2d3fb0bf1700050b7b6d5b77",
     "grade": false,
     "grade_id": "cell-cfb628a210b830a3",
     "locked": true,
     "schema_version": 3,
     "solution": false,
     "task": false
    }
   },
   "source": [
    "## Exercice 3: Les montagnes russes\n",
    "\n",
    "1. Comme dans l'exercice précédent, tracer sur une même figure la fonction $f_2: f_2(x)=(1 + x^2 -x^4)\\exp(-x^2/2)$ sur l'intervalle $[-4,4]$, 10 points régulièrement espacés sur cet intervalle, et le polynôme interpolateur de Lagrange correspondant. "
   ]
  },
  {
   "cell_type": "code",
   "execution_count": 99,
   "metadata": {
    "deletable": false,
    "nbgrader": {
     "cell_type": "code",
     "checksum": "c41c6ad8ebc3320dffbc17147ff99576",
     "grade": true,
     "grade_id": "cell-7d5b36240d8063df",
     "locked": false,
     "points": 0,
     "schema_version": 3,
     "solution": true,
     "task": false
    }
   },
   "outputs": [
    {
     "data": {
      "image/png": "[encoded data removed]",
      "text/plain": [
       "<Figure size 432x288 with 1 Axes>"
      ]
     },
     "metadata": {
      "needs_background": "light"
     },
     "output_type": "display_data"
    }
   ],
   "source": [
    "def f2(x) : \n",
    "    return (1+ x**2 - x**4)*np.exp(-x**2/2)\n",
    "\n",
    "X= np.linspace(-4,4,200)\n",
    "Y= f2(X)\n",
    "\n",
    "Xi = np.linspace(-4, 4, 10)\n",
    "Yi = f2(Xi)\n",
    "\n",
    "Y_int = lagrange_interp(X, Xi, Yi)\n",
    "\n",
    "fig= plt.figure()\n",
    "plt.plot(X, Y, label = 'originale')\n",
    "plt.scatter(Xi, Yi)\n",
    "plt.plot(X, Y_int, label = 'interpolation')\n",
    "plt.legend()\n",
    "plt.show()"
   ]
  },
  {
   "cell_type": "markdown",
   "metadata": {
    "deletable": false,
    "editable": false,
    "nbgrader": {
     "cell_type": "markdown",
     "checksum": "41bf51c176beca1de5204527c85249be",
     "grade": false,
     "grade_id": "cell-dc2a5431e83420ad",
     "locked": true,
     "schema_version": 3,
     "solution": false,
     "task": false
    }
   },
   "source": [
    "Le calcul d'une courbe \"spline\" vous sera expliqué l'année prochaine, mais leur utilisation est relativement aisée. Par exemple, si ```x``` est un tableau à valeurs finement espacées et $(x_i, y_i)$ sont les points à interpoler, le code suivant fournit les valeurs interpolées ```y_spline``` en ```x``` (i.e. un tableau de même taille que ```x```) :\n",
    "```python\n",
    "from scipy import interpolate\n",
    "tck = interpolate.splrep(xi, yi)\n",
    "y_spline = interpolate.splev(x, tck)\n",
    "```\n",
    "2. Superposer une interpolation par 'spline' à votre figure précédente. Sur quel tracé de montagnes russes seriez vous prêts à vous engager ?"
   ]
  },
  {
   "cell_type": "code",
   "execution_count": null,
   "metadata": {
    "deletable": false,
    "nbgrader": {
     "cell_type": "code",
     "checksum": "6be16da002cd7839cfd892d1a28c27d6",
     "grade": true,
     "grade_id": "cell-88acde5dc8af277e",
     "locked": false,
     "points": 0,
     "schema_version": 3,
     "solution": true,
     "task": false
    }
   },
   "outputs": [],
   "source": [
    "#LA REPONSE ICI\n",
    "raise NotImplementedError()"
   ]
  }
 ],
 "metadata": {
  "kernelspec": {
   "display_name": "Python 3",
   "language": "python",
   "name": "python3"
  },
  "language_info": {
   "codemirror_mode": {
    "name": "ipython",
    "version": 3
   },
   "file_extension": ".py",
   "mimetype": "text/x-python",
   "name": "python",
   "nbconvert_exporter": "python",
   "pygments_lexer": "ipython3",
   "version": "3.6.7"
  }
 },
 "nbformat": 4,
 "nbformat_minor": 2
}
