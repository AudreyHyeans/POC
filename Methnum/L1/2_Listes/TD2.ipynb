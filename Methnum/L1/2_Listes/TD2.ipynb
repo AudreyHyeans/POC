{
 "cells": [
  {
   "cell_type": "markdown",
   "metadata": {},
   "source": [
    "Quelques conseils:\n",
    "- pour exécutez une cellule, cliquez sur le bouton *Exécuter* ci-dessus ou tapez **Shift+Enter**\n",
    "- si l'exécution d'une cellule prend trop de temps, sélectionner dans le menu ci-dessus *Noyau/Interrompre*\n",
    "- en cas de très gros plantage *Noyau/Redémarrer*\n",
    "- **sauvegardez régulièrement vos réponses** en cliquant sur l'icone disquette ci-dessus à gauche, ou *Fichier/Créer une nouvelle sauvegarde*\n",
    "\n",
    "Pour répondre aux questions, remplacer les lignes  \n",
    "```python \n",
    "#LA REPONSE ICI\n",
    "raise NotImplementedError()\n",
    "``` \n",
    "par vos réponses, et remplissez les champs ci-dessous:"
   ]
  },
  {
   "cell_type": "code",
   "execution_count": 1,
   "metadata": {},
   "outputs": [],
   "source": [
    "NOM = \"Martinez Almoyna\"\n",
    "PRENOM = \"Maud\"\n",
    "GROUPE = \"3\"\n",
    "DATE = \"30/01/2019\""
   ]
  },
  {
   "cell_type": "markdown",
   "metadata": {},
   "source": [
    "---"
   ]
  },
  {
   "cell_type": "markdown",
   "metadata": {},
   "source": [
    "# TP 2 : Listes "
   ]
  },
  {
   "cell_type": "markdown",
   "metadata": {},
   "source": [
    "## Exercice 1: \n",
    "Utilisez la fonction range() pour afficher :\n",
    "1. les entiers de 0 à 3 ;\n",
    "2. les entiers de 4 à 7 ;\n",
    "3. les entiers pairs de 2 à 8."
   ]
  },
  {
   "cell_type": "code",
   "execution_count": 5,
   "metadata": {
    "deletable": false,
    "nbgrader": {
     "checksum": "b5b3cce9df82c2f27d4e811c8428b60c",
     "grade": true,
     "grade_id": "cell-8c7371c1169804b0",
     "locked": false,
     "points": 0,
     "schema_version": 1,
     "solution": true
    }
   },
   "outputs": [
    {
     "name": "stdout",
     "output_type": "stream",
     "text": [
      "[0, 1, 2, 3]\n",
      "[4, 5, 6, 7]\n",
      "[2, 4, 6, 8]\n"
     ]
    }
   ],
   "source": [
    "a=list(range(0,4))\n",
    "print(a)\n",
    "b=list(range(4,8))\n",
    "print(b)\n",
    "c=list(range(2,9,2))\n",
    "print(c)\n"
   ]
  },
  {
   "cell_type": "markdown",
   "metadata": {},
   "source": [
    "## Exercice 2: \n",
    "Définir la liste [17, 38, 10, 25, 72], puis effectuez les actions suivantes :\n",
    "1. triez et affichez la liste;\n",
    "2. ajoutez l’élément 12 à la liste et affichez la liste;\n",
    "3. renversez et affichez la liste;\n",
    "4. affichez l’indice de l’élément 17;\n",
    "5. supprimez l’élément 38 et affichez la liste;\n",
    "6. affichez la sous-liste du 2<sup>ième</sup> au 3<sup>ième</sup> élément;\n",
    "7. affichez la sous-liste du début au 2<sup>ième</sup> élément;\n",
    "8. affichez la sous-liste du 3<sup>ième</sup> élément à la fin de la liste;\n",
    "9. affichez le dernier élément en utilisant un indiçage négatif;\n",
    "10. affichez le plus grand et le plus petit élément de la liste."
   ]
  },
  {
   "cell_type": "code",
   "execution_count": 18,
   "metadata": {
    "deletable": false,
    "nbgrader": {
     "checksum": "dfa20cffa0b604872987cc73d9a783ea",
     "grade": true,
     "grade_id": "cell-07a16e3d83068d15",
     "locked": false,
     "points": 0,
     "schema_version": 1,
     "solution": true
    }
   },
   "outputs": [
    {
     "name": "stdout",
     "output_type": "stream",
     "text": [
      "[10, 17, 25, 38, 72]\n",
      "[10, 17, 25, 38, 72, 12]\n",
      "[12, 72, 38, 25, 17, 10]\n",
      "4\n",
      "[12, 72, 25, 17, 10]\n",
      "[72, 25]\n",
      "[12, 72]\n",
      "[25, 17, 10]\n",
      "10\n",
      "10\n",
      "72\n"
     ]
    }
   ],
   "source": [
    "d=[17, 38, 10, 25, 72]\n",
    "d.sort()\n",
    "print(d)\n",
    "d.append(12)\n",
    "print(d)\n",
    "d.reverse()\n",
    "print(d)\n",
    "print(d.index(17))\n",
    "d.remove(38)\n",
    "print(d)\n",
    "print(d[1:3])\n",
    "print(d[:2])\n",
    "print(d[2:])\n",
    "print(d[-1])\n",
    "print(min(d))\n",
    "print(max(d))"
   ]
  },
  {
   "cell_type": "markdown",
   "metadata": {},
   "source": [
    "## Exercice 3: \n",
    "Utilisez une liste en compréhension pour multiplier par 3 chaque élément d’une liste d’entiers de 0 à 5 mais seulement si l’élément est supérieur ou égal à 2."
   ]
  },
  {
   "cell_type": "code",
   "execution_count": 21,
   "metadata": {
    "deletable": false,
    "nbgrader": {
     "checksum": "cd8a64882b68d25def2c6af7ebbb0ca5",
     "grade": true,
     "grade_id": "cell-7a25ee712f84183e",
     "locked": false,
     "points": 0,
     "schema_version": 1,
     "solution": true
    }
   },
   "outputs": [
    {
     "name": "stdout",
     "output_type": "stream",
     "text": [
      "[6, 9, 12, 15]\n"
     ]
    }
   ],
   "source": [
    "e=list(range(0,6))\n",
    "e=[3*x for x in e if x>=2]\n",
    "print(e)"
   ]
  },
  {
   "cell_type": "markdown",
   "metadata": {},
   "source": [
    "## Exercise 4:\n",
    "\n",
    "1. Définissez une liste qui représente le tableau suivant :\n",
    "<table>\n",
    "  <tr>\n",
    "    <td>123</td>\n",
    "    <td>A<br></td>\n",
    "    <td>34</td>\n",
    "  </tr>\n",
    "  <tr>\n",
    "    <td>12</td>\n",
    "    <td>56</td>\n",
    "    <td>56</td>\n",
    "  </tr>\n",
    "  <tr>\n",
    "    <td>134</td>\n",
    "    <td>B</td>\n",
    "    <td>3+2j</td>\n",
    "  </tr>\n",
    "</table>\n",
    "2. Afficher les élements de la première ligne.\n",
    "3. Afficher les élements de la dernière colonne."
   ]
  },
  {
   "cell_type": "code",
   "execution_count": 31,
   "metadata": {
    "deletable": false,
    "nbgrader": {
     "checksum": "6a72b4547813c10de3ef2b56030b73ee",
     "grade": true,
     "grade_id": "cell-bc494ac2479bd23c",
     "locked": false,
     "points": 0,
     "schema_version": 1,
     "solution": true
    }
   },
   "outputs": [
    {
     "name": "stdout",
     "output_type": "stream",
     "text": [
      "[123, 'A', 34]\n",
      "[34, 56, (3+2j)]\n"
     ]
    }
   ],
   "source": [
    "f=[[123, 'A', 34], [12, 56, 56], [134, 'B', 3+2j]]\n",
    "print(f[0])\n",
    "print([x[-1] for x in f])"
   ]
  },
  {
   "cell_type": "markdown",
   "metadata": {},
   "source": [
    "## Exercice 5: \n",
    "Quel est le résultat de la séquence suivante ?\n",
    "```python\n",
    "l = []\n",
    "for i in range(1,10):\n",
    "   l.append(i**2)\n",
    "```\n",
    "Utilisez une liste en compréhension pour obtenir un résultat équivalent, puis ajouter les commandes :\n",
    "1. pour n'afficher que les 3 premiers éléments de la liste.\n",
    "2. pour n'afficher que les 3 derniers éléments de la liste.\n",
    "3. pour n'afficher que les éléments d'indice pair de la liste.\n",
    "\n",
    "Toutes les reponses doivent être d'une seule ligne !"
   ]
  },
  {
   "cell_type": "code",
   "execution_count": 38,
   "metadata": {
    "deletable": false,
    "nbgrader": {
     "checksum": "3c9a72216f2a722800457e32c2896476",
     "grade": true,
     "grade_id": "cell-90e35a0bf88f7b75",
     "locked": false,
     "points": 0,
     "schema_version": 1,
     "solution": true
    }
   },
   "outputs": [
    {
     "name": "stdout",
     "output_type": "stream",
     "text": [
      "[1, 4, 9, 16, 25, 36, 49, 64, 81]\n",
      "[1, 4, 9]\n",
      "[49, 64, 81]\n",
      "[4, 16, 36, 64]\n"
     ]
    }
   ],
   "source": [
    "l=list(range(1,10))\n",
    "print([x**2 for x in l])\n",
    "print([x**2 for x in l if l.index(x) <= 2])\n",
    "print([x**2 for x in l if l.index(x) >= 6])\n",
    "print([x**2 for x in l if x%2 == 0])"
   ]
  },
  {
   "cell_type": "markdown",
   "metadata": {},
   "source": [
    "## Exercice 6: \n",
    "Utilisez une liste en compréhension pour ajouter la valeur 3 à chaque élément d’une liste d’entiers de 0 à 5.\n",
    "Même question pour multiplier chaque élément par 10."
   ]
  },
  {
   "cell_type": "code",
   "execution_count": 39,
   "metadata": {
    "deletable": false,
    "nbgrader": {
     "checksum": "b910130f49a34c35275b7742cea57cf4",
     "grade": true,
     "grade_id": "cell-6ff8049c4db2aaaf",
     "locked": false,
     "points": 0,
     "schema_version": 1,
     "solution": true
    }
   },
   "outputs": [
    {
     "name": "stdout",
     "output_type": "stream",
     "text": [
      "[3, 4, 5, 6, 7, 8]\n",
      "[0, 10, 20, 30, 40, 50]\n"
     ]
    }
   ],
   "source": [
    "l=list(range(0,6))\n",
    "m=[x+3 for x in l]\n",
    "print(m)\n",
    "n=[x*10 for x in l]\n",
    "print(n)"
   ]
  },
  {
   "cell_type": "markdown",
   "metadata": {},
   "source": [
    "## Exercice 7: \n",
    "Créer une liste des entiers compris entre 0 et 9.\n",
    "Pour accéder aux fonctions factorial(x) et exp(x) du module `math` de python on peut utiliser la commande : \n",
    "```python\n",
    "from math import factorial,exp \n",
    "```\n",
    "quelle est la différence avec les commandes :\n",
    "```python\n",
    "from math import * \n",
    "```\n",
    "```python\n",
    "import math \n",
    "```\n",
    "Construire trois nouvelles listes associées aux valeurs de $x!$, $x^2$ et $\\exp(x)$.\n",
    "Afficher les résultats, on pourra utiliser la fonction `round()` pour améliorer la présentation. Pour des grands nombres quelle est la fonction qui croît le plus rapidement  ?"
   ]
  },
  {
   "cell_type": "code",
   "execution_count": 44,
   "metadata": {
    "deletable": false,
    "nbgrader": {
     "checksum": "0a8f21396ccb0f9fb96cbc622d4bcad5",
     "grade": true,
     "grade_id": "cell-4cae653dfafc9879",
     "locked": false,
     "points": 0,
     "schema_version": 1,
     "solution": true
    }
   },
   "outputs": [
    {
     "name": "stdout",
     "output_type": "stream",
     "text": [
      "[1, 1, 2, 6, 24, 120, 720, 5040, 40320, 362880]\n",
      "[0, 1, 4, 9, 16, 25, 36, 49, 64, 81]\n",
      "[1, 3, 7, 20, 55, 148, 403, 1097, 2981, 8103]\n"
     ]
    }
   ],
   "source": [
    "l=list(range(0, 10))\n",
    "from math import factorial,exp\n",
    "m=[factorial(x) for x in l]\n",
    "print(m)\n",
    "n=[x**2 for x in l]\n",
    "print(n)\n",
    "o=[round(exp(x)) for x in l]\n",
    "print(o)"
   ]
  },
  {
   "cell_type": "markdown",
   "metadata": {},
   "source": [
    "## Exercice 8: \n",
    "Écrire un programme qui :\n",
    "1. demande à l'utilisateur des valeurs réelles, en nombre quelconque et séparées de virgules, et les stocke dans une liste. On pourra s'aider de la fonction ```split()``` associée aux objets de type chaîne de caractère pour séparer les élements entrés.\n",
    "2. affiche à l'écran la somme des éléments de cette liste.\n",
    "Tester le programme avec la somme des entiers de 1 à 10."
   ]
  },
  {
   "cell_type": "code",
   "execution_count": 52,
   "metadata": {
    "deletable": false,
    "nbgrader": {
     "checksum": "95a8ab2e45f5c4bd59414f0138f12a4d",
     "grade": true,
     "grade_id": "cell-32ee6938630cc5ab",
     "locked": false,
     "points": 0,
     "schema_version": 1,
     "solution": true
    }
   },
   "outputs": [
    {
     "name": "stdout",
     "output_type": "stream",
     "text": [
      "Rentrer des valeurs réelles séparées par des virgules : 1,2,654\n",
      "657.0\n"
     ]
    }
   ],
   "source": [
    "a=input(\"Rentrer des valeurs réelles séparées par des virgules : \")\n",
    "a=a.split(',')\n",
    "a=[float(x) for x in a] \n",
    "print(sum(a))\n"
   ]
  },
  {
   "cell_type": "markdown",
   "metadata": {},
   "source": [
    "## Exercice 9 : \n",
    "Écrire un programme qui demande à l'utilisateur deux indices et permute les éléments associés à ces deux indices dans une liste pre-établie."
   ]
  },
  {
   "cell_type": "code",
   "execution_count": 54,
   "metadata": {
    "deletable": false,
    "nbgrader": {
     "checksum": "cd0fcfcd8b79c7152048248c81cfc1d4",
     "grade": true,
     "grade_id": "cell-418017468fdfb0f6",
     "locked": false,
     "points": 0,
     "schema_version": 1,
     "solution": true
    }
   },
   "outputs": [
    {
     "name": "stdout",
     "output_type": "stream",
     "text": [
      "Saisir un indice : 2\n",
      "Saisir un autre indice1\n",
      "[12, 'Salut', 584, 42, 598]\n"
     ]
    }
   ],
   "source": [
    "l=[12, 584, 'Salut', 42, 598]\n",
    "a=int(input(\"Saisir un indice : \"))\n",
    "b = int(input(\"Saisir un autre indice\"))\n",
    "c=l[a]\n",
    "l[a]=l[b]\n",
    "l[b]=c\n",
    "print(l)\n",
    "\n"
   ]
  },
  {
   "cell_type": "markdown",
   "metadata": {},
   "source": [
    "## Exercice 10 : \n",
    "Écrire un programme qui crée deux listes quelconques de réels, fusionne ces deux listes et trie la liste résultante par ordre décroissant."
   ]
  },
  {
   "cell_type": "code",
   "execution_count": 55,
   "metadata": {
    "deletable": false,
    "nbgrader": {
     "checksum": "52bfcb15ed26657887740e0c02337379",
     "grade": true,
     "grade_id": "cell-3f9f5655e4070285",
     "locked": false,
     "points": 0,
     "schema_version": 1,
     "solution": true
    }
   },
   "outputs": [
    {
     "name": "stdout",
     "output_type": "stream",
     "text": [
      "[8452, 7612, 865.54, 856, 694.6, 125, 45.01, 12.3, 2.015]\n"
     ]
    }
   ],
   "source": [
    "y=[12.3,125,856,694.6]\n",
    "z=[45.01,865.54,8452,7612,2.015]\n",
    "l=y+z\n",
    "l.sort()\n",
    "l.reverse()\n",
    "print(l)\n"
   ]
  },
  {
   "cell_type": "markdown",
   "metadata": {},
   "source": [
    "## Exercice 11: \n",
    "Écrire un programme qui à partir de deux listes quelconques de chaînes alphanumériques, fusionne ces deux listes et trie la liste résultante par ordre alphabétique décroissant ; puis crée une chaîne de caractères à partir des éléments de cette liste."
   ]
  },
  {
   "cell_type": "code",
   "execution_count": 59,
   "metadata": {
    "deletable": false,
    "nbgrader": {
     "checksum": "e1307d9f42750baeb45af573caedd20b",
     "grade": true,
     "grade_id": "cell-ded4ab998365bcdc",
     "locked": false,
     "points": 0,
     "schema_version": 1,
     "solution": true
    }
   },
   "outputs": [
    {
     "name": "stdout",
     "output_type": "stream",
     "text": [
      "passeport neige horloge fonction equitation arc\n"
     ]
    }
   ],
   "source": [
    "y=[\"fonction\", \"arc\", \"equitation\"]\n",
    "z=[\"passeport\", \"horloge\", \"neige\"]\n",
    "l= y+z\n",
    "l.sort()\n",
    "l.reverse()\n",
    "l=' '.join(l)\n",
    "print(l)\n"
   ]
  },
  {
   "cell_type": "markdown",
   "metadata": {},
   "source": [
    "## Exercice 12: \n",
    "Écrire un programme qui crée une liste à partir des éléments pairs d'une liste de nombres.\n",
    "Écrire un programme qui supprime les éléments pairs d'une liste de nombres."
   ]
  },
  {
   "cell_type": "code",
   "execution_count": 69,
   "metadata": {
    "deletable": false,
    "nbgrader": {
     "checksum": "754e148840cb43a1031307ec1b1032e3",
     "grade": true,
     "grade_id": "cell-1af335dd7cca773a",
     "locked": false,
     "points": 0,
     "schema_version": 1,
     "solution": true
    }
   },
   "outputs": [
    {
     "name": "stdout",
     "output_type": "stream",
     "text": [
      "[12, 86, 1254, 64]\n",
      "[53, 459, 541, 3201]\n"
     ]
    }
   ],
   "source": [
    "l=[12,53,86,459,1254,64,541,3201]\n",
    "m=[x for x in l if x%2==0]\n",
    "print(m)\n",
    "\n",
    "l=[x for x in l if x%2==1]\n",
    "print(l)"
   ]
  },
  {
   "cell_type": "markdown",
   "metadata": {},
   "source": [
    "## Exercice 13: \n",
    "Dans un terminal, comparez les deux séquences suivantes. Qu'est-ce que vous pouvez en conclure?\n",
    "```python\n",
    ">>> a=list(range(10))\n",
    ">>> b=a\n",
    ">>> a[1]=-8\n",
    ">>> print('Liste a:\\n',a)\n",
    ">>> print('Liste b:\\n',b)\n",
    "```\n",
    "```python\n",
    ">>> a=list(range(10))\n",
    ">>> b=a[:]\n",
    ">>> a[1]=-8\n",
    ">>> print('Liste a:\\n',a)\n",
    ">>> print('Liste b:\\n',b)\n",
    "```"
   ]
  },
  {
   "cell_type": "code",
   "execution_count": 70,
   "metadata": {
    "deletable": false,
    "nbgrader": {
     "checksum": "f427f05752f8d2d5e31c0cf60055ecbd",
     "grade": true,
     "grade_id": "cell-d02bed2e36fa12ef",
     "locked": false,
     "points": 0,
     "schema_version": 1,
     "solution": true
    }
   },
   "outputs": [
    {
     "name": "stdout",
     "output_type": "stream",
     "text": [
      "Liste a:\n",
      " [0, -8, 2, 3, 4, 5, 6, 7, 8, 9]\n",
      "Liste b:\n",
      " [0, -8, 2, 3, 4, 5, 6, 7, 8, 9]\n"
     ]
    }
   ],
   "source": [
    ">>> a=list(range(10))\n",
    ">>> b=a\n",
    ">>> a[1]=-8\n",
    ">>> print('Liste a:\\n',a)\n",
    ">>> print('Liste b:\\n',b)"
   ]
  },
  {
   "cell_type": "code",
   "execution_count": 71,
   "metadata": {},
   "outputs": [
    {
     "name": "stdout",
     "output_type": "stream",
     "text": [
      "Liste a:\n",
      " [0, -8, 2, 3, 4, 5, 6, 7, 8, 9]\n",
      "Liste b:\n",
      " [0, 1, 2, 3, 4, 5, 6, 7, 8, 9]\n"
     ]
    }
   ],
   "source": [
    ">>> a=list(range(10))\n",
    ">>> b=a[:]\n",
    ">>> a[1]=-8\n",
    ">>> print('Liste a:\\n',a)\n",
    ">>> print('Liste b:\\n',b)"
   ]
  },
  {
   "cell_type": "code",
   "execution_count": null,
   "metadata": {},
   "outputs": [],
   "source": [
    "// Dans le premier cas les modifications sur a affectent également la liste b.\n",
    "// La symbolique [:] permet de copier la liste mais pas les modifications qui suivront."
   ]
  },
  {
   "cell_type": "markdown",
   "metadata": {},
   "source": [
    "## Exercice 14:  Premier cryptage\n",
    "\n",
    "Écrire un programme qui :\n",
    "1. demande à l'utilisateur de rentrer un texte,\n",
    "2. crée une première chaîne de caractères avec les éléments en position paire. \n",
    "3. crée une deuxième chaîne de caractères avec les éléments en position impaire. \n",
    "4. crée une variable qui concatène ces deux listes et l'affiche. \n",
    "5. Écrire un programme qui permet de décrypter la chaîne résultante."
   ]
  },
  {
   "cell_type": "code",
   "execution_count": 79,
   "metadata": {
    "deletable": false,
    "nbgrader": {
     "checksum": "6c19446ec6f7e85967e828c00f387895",
     "grade": true,
     "grade_id": "cell-114e9d9392cac41f",
     "locked": false,
     "points": 0,
     "schema_version": 1,
     "solution": true
    }
   },
   "outputs": [
    {
     "name": "stdout",
     "output_type": "stream",
     "text": [
      "Ecrire un texte : Tempete de neige\n",
      "Tmeed egept enie\n",
      "Tempete de neige\n"
     ]
    }
   ],
   "source": [
    "a=input(\"Ecrire un texte : \")\n",
    "b=a[::2]\n",
    "c=a[1::2]\n",
    "l=b+c\n",
    "print(l)\n",
    "\n",
    "if len(l)%2==0 :\n",
    "    n=len(l)//2\n",
    "    d=l[:n]\n",
    "    e=l[n:]\n",
    "else :\n",
    "    n=(len(l)//2)\n",
    "    d=l[:n+1]\n",
    "    e=l[n+1:]\n",
    "\n",
    "n=len(e)\n",
    "text=\"\"\n",
    "for i in range(0,n):\n",
    "    text += d[i]\n",
    "    text += e[i]\n",
    "if len(l)%2==1 :\n",
    "    text += d[-1]\n",
    "print(text)\n"
   ]
  },
  {
   "cell_type": "markdown",
   "metadata": {},
   "source": [
    "## Exercice 15:  Chiffre de César\n",
    "\n",
    "Le chiffrement par décalage, aussi connu comme le chiffre ou le code de César, consiste à remplacer une lettre par une lettre située $n$ lettres plus loin dans l'alphabet. Par exemple, l'opération ```ROT3``` remplace x par a, y par b, z par c, a par d, etc. Écrire un programme qui prend $n$ en entrée et crypte une chaîne de caractère via l'opération ```ROTn```. Écrire le programme permettant d'effectuer le décryptage."
   ]
  },
  {
   "cell_type": "code",
   "execution_count": 97,
   "metadata": {
    "deletable": false,
    "nbgrader": {
     "checksum": "2647d6837ff9dc1d0873b562add32993",
     "grade": true,
     "grade_id": "cell-a39556d4df1f806f",
     "locked": false,
     "points": 0,
     "schema_version": 1,
     "solution": true
    }
   },
   "outputs": [
    {
     "name": "stdout",
     "output_type": "stream",
     "text": [
      "Saisir un nombre : 15\n",
      "Saisir un texte : papillon\n"
     ]
    },
    {
     "ename": "IndexError",
     "evalue": "string index out of range",
     "output_type": "error",
     "traceback": [
      "\u001b[0;31m---------------------------------------------------------------------------\u001b[0m",
      "\u001b[0;31mIndexError\u001b[0m                                Traceback (most recent call last)",
      "\u001b[0;32m<ipython-input-97-a49c74f0fa02>\u001b[0m in \u001b[0;36m<module>\u001b[0;34m()\u001b[0m\n\u001b[1;32m      5\u001b[0m \u001b[0;32mfor\u001b[0m \u001b[0mx\u001b[0m \u001b[0;32min\u001b[0m \u001b[0mt\u001b[0m \u001b[0;34m:\u001b[0m\u001b[0;34m\u001b[0m\u001b[0;34m\u001b[0m\u001b[0m\n\u001b[1;32m      6\u001b[0m     \u001b[0ma\u001b[0m\u001b[0;34m=\u001b[0m\u001b[0malpha\u001b[0m\u001b[0;34m.\u001b[0m\u001b[0mindex\u001b[0m\u001b[0;34m(\u001b[0m\u001b[0mx\u001b[0m\u001b[0;34m)\u001b[0m\u001b[0;34m\u001b[0m\u001b[0;34m\u001b[0m\u001b[0m\n\u001b[0;32m----> 7\u001b[0;31m     \u001b[0mnewtext\u001b[0m \u001b[0;34m=\u001b[0m \u001b[0mnewtext\u001b[0m\u001b[0;34m+\u001b[0m\u001b[0malpha\u001b[0m\u001b[0;34m[\u001b[0m\u001b[0;34m(\u001b[0m\u001b[0ma\u001b[0m\u001b[0;34m+\u001b[0m\u001b[0mn\u001b[0m\u001b[0;34m)\u001b[0m\u001b[0;34m%\u001b[0m\u001b[0;36m27\u001b[0m\u001b[0;34m]\u001b[0m\u001b[0;34m\u001b[0m\u001b[0;34m\u001b[0m\u001b[0m\n\u001b[0m\u001b[1;32m      8\u001b[0m \u001b[0mprint\u001b[0m\u001b[0;34m(\u001b[0m\u001b[0mnewtext\u001b[0m\u001b[0;34m)\u001b[0m\u001b[0;34m\u001b[0m\u001b[0;34m\u001b[0m\u001b[0m\n\u001b[1;32m      9\u001b[0m \u001b[0;34m\u001b[0m\u001b[0m\n",
      "\u001b[0;31mIndexError\u001b[0m: string index out of range"
     ]
    }
   ],
   "source": [
    "alpha = \"abcdefghijklmnopqrstuvwxyz\"\n",
    "n=(int(input(\"Saisir un nombre : \")))%27\n",
    "t=input(\"Saisir un texte : \")\n",
    "newtext=\"\"\n",
    "for x in t :\n",
    "    a=alpha.index(x)\n",
    "    newtext = newtext+alpha[(a+n)%27]\n",
    "print(newtext)\n",
    "    \n",
    "text =\"\"\n",
    "for x in newtext :\n",
    "    a=alpha.index(x)\n",
    "    text = text+alpha[(a-n)%27]\n",
    "print(text)"
   ]
  },
  {
   "cell_type": "markdown",
   "metadata": {},
   "source": [
    "## Exercice 16: \n",
    "Écrire un programme qui supprime les éléments redondants d'une liste."
   ]
  },
  {
   "cell_type": "code",
   "execution_count": null,
   "metadata": {
    "deletable": false,
    "nbgrader": {
     "checksum": "52b8abd8bc7dc5a74430e51477981bc4",
     "grade": true,
     "grade_id": "cell-ad798cb100488009",
     "locked": false,
     "points": 0,
     "schema_version": 1,
     "solution": true
    }
   },
   "outputs": [],
   "source": [
    "a=[23,56,12,23,45,56,12,48]\n",
    "liste=[]\n",
    "for i in a :\n",
    "    if i not in liste :\n",
    "        liste.append(i)\n",
    "print(liste)"
   ]
  },
  {
   "cell_type": "markdown",
   "metadata": {},
   "source": [
    "## Exercice 17:  Pangramme\n",
    "\n",
    "Un pangramme est une phrase comportant toutes les lettres de l'alphabet. *Portez ce vieux whisky au juge blond qui fume* est probablement l'exemple le plus connu en français (en outre c'est un alexandrin !). Écrire un programme vérifiant si une chaîne de caractères est un pangramme."
   ]
  },
  {
   "cell_type": "code",
   "execution_count": null,
   "metadata": {
    "deletable": false,
    "nbgrader": {
     "checksum": "660e6cd6397c22836974e2838787bfdf",
     "grade": true,
     "grade_id": "cell-7e012e0e98992aef",
     "locked": false,
     "points": 0,
     "schema_version": 1,
     "solution": true
    }
   },
   "outputs": [],
   "source": [
    "#LA REPONSE ICI\n",
    "raise NotImplementedError()"
   ]
  }
 ],
 "metadata": {
  "kernelspec": {
   "display_name": "Python 3",
   "language": "python",
   "name": "python3"
  },
  "language_info": {
   "codemirror_mode": {
    "name": "ipython",
    "version": 3
   },
   "file_extension": ".py",
   "mimetype": "text/x-python",
   "name": "python",
   "nbconvert_exporter": "python",
   "pygments_lexer": "ipython3",
   "version": "3.6.7"
  }
 },
 "nbformat": 4,
 "nbformat_minor": 2
}
