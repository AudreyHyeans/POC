{
 "cells": [
  {
   "cell_type": "markdown",
   "metadata": {},
   "source": [
    "Quelques conseils:\n",
    "- pour exécutez une cellule, cliquez sur le bouton *Exécuter* ci-dessus ou tapez **Shift+Enter**\n",
    "- si l'exécution d'une cellule prend trop de temps, sélectionner dans le menu ci-dessus *Noyau/Interrompre*\n",
    "- en cas de très gros plantage *Noyau/Redémarrer*\n",
    "- **sauvegardez régulièrement vos réponses** en cliquant sur l'icone disquette ci-dessus à gauche, ou *Fichier/Créer une nouvelle sauvegarde*\n",
    "\n",
    "Pour répondre aux questions, remplacer les lignes  \n",
    "```python \n",
    "#LA REPONSE ICI\n",
    "raise NotImplementedError()\n",
    "``` \n",
    "par vos réponses, et remplissez les champs ci-dessous:"
   ]
  },
  {
   "cell_type": "code",
   "execution_count": 1,
   "metadata": {},
   "outputs": [],
   "source": [
    "NOM = \"Martinez Almoyna\"\n",
    "PRENOM = \"Maud\"\n",
    "GROUPE = \"3\"\n",
    "DATE = \"13/02/2019\""
   ]
  },
  {
   "cell_type": "markdown",
   "metadata": {},
   "source": [
    "---"
   ]
  },
  {
   "cell_type": "markdown",
   "metadata": {},
   "source": [
    "# TP 4 : Fonctions, graphiques et discrétisation\n",
    "\n",
    "\n",
    "## Exemple de programme plus complexe\n",
    "\n",
    "Jusqu'ici les fonctions ont été utilisées une par une, mais elles prennent toute leur utilité lorsque les blocs d'instructions qu'elles contiennent sont amenés à être utilisés plusieurs fois dans un programme ou encore appelés par d'autres fonctions. Une des règles d'or de la programmation est que lorsqu'un bloc d'instruction apparaît deux fois dans un programme, c'est qu'il mérite d'être mis dans une fonction ! Ainsi lors du débuggage du programme ou lors de son évolution, il n'est nécessaire de ne modifier le bloc qu'une fois (dans la fonction) et non dans ces multiples écritures le long du programme.\n",
    "\n",
    "\n",
    "Dans le programme suivant, l'objectif est de montrer numériquement l'égalité suivante :\n",
    "$$\\sum_{k=0}^{n} \\binom{n}{k} x^k = (1+x)^n$$\n",
    "\n",
    "Il va falloir calculer de nombreuses factorielles, ainsi que des coefficients binomiaux, calculer une somme et tester son égalité. Un bon réflexe à avoir est donc d'identifier tous les sous-blocs d'instructions à mettre sous forme de fonction avant d'écrire le programme. \n",
    "\n",
    "\n",
    "```python\n",
    "# fichier somme.py\n",
    "###################################\n",
    "#  Programme Python type : somme.py\n",
    "###################################\n",
    "\n",
    "###################################\n",
    "# Importation des fonctions externes\n",
    "\n",
    "from math import pow\n",
    "\n",
    "###################################\n",
    "# Definition locale des fonctions\n",
    "\n",
    "def factorielle(n):\n",
    "    \"\"\" Calcule la factorielle de n \"\"\"   # ces commentaires decrivent fonction et arguments\n",
    "    f = 1\n",
    "    for i in range(1,n+1):\n",
    "        f = f * i\n",
    "    return f\n",
    "\n",
    "def k_parmi_n(k,n):\n",
    "    \"\"\" Calcule le coefficient binomiaux k parmi n \"\"\"\n",
    "    c = factorielle(n)/( factorielle(k)*factorielle(n-k) )  # fonction factorielle appelee ici\n",
    "    return c\n",
    "\n",
    "def somme(x,n,verbose=False):\n",
    "    \"\"\" Calcule la somme des k parmi n fois x exposant k \"\"\"\n",
    "    s = 0\n",
    "    for k in range(n+1):\n",
    "        s = s + k_parmi_n(k,n) * pow(x,k)    # appelle k_parmi_n qui appelle factorielle\n",
    "        if verbose : print 'k =',k,': s =',s\n",
    "    if verbose : \n",
    "        print 'La somme pour n =',n,' et x =',x,'vaut',s\n",
    "    return s\n",
    "\n",
    "def test_somme(x,n,verbose=False):\n",
    "    \"\"\" Teste l'egalite de l'enonce \"\"\"\n",
    "    test = False\n",
    "    polynom = pow((1+x),n)\n",
    "    s = somme(x,n,verbose)\n",
    "    if s == polynom :\n",
    "        test = True\n",
    "        if verbose : print 'Egalite OK'\n",
    "    else :\n",
    "        if verbose : print 'Egalite non verifiee'\n",
    "    return test\n",
    "\n",
    "###################################\n",
    "# Corps principal du programme\n",
    "\n",
    "if __name__ == \"__main__\":\n",
    "\n",
    "    test_somme(x=1,n=5,verbose=True)\n",
    "\n",
    "```\n",
    "\n",
    "Le fichier somme.py peut être lu et exécuter de deux manières différentes. La première méthode consiste à exécuter le corps du programme situé sous le mot clé `__main__` (facultatif néanmoins) :\n",
    "\n",
    "```python\n",
    "> python somme.py\n",
    "k = 0 : s = 1.0\n",
    "k = 1 : s = 6.0\n",
    "k = 2 : s = 16.0\n",
    "k = 3 : s = 26.0\n",
    "k = 4 : s = 31.0\n",
    "k = 5 : s = 32.0\n",
    "La somme pour n = 5  et x = 1 vaut 32.0\n",
    "Egalite OK\n",
    "```\n",
    "\n",
    "La deuxième méthode consiste à importer les fonctions du fichier, ce qui permet de les tester une par une avec des variables différences :\n",
    "\n",
    "```python\n",
    "> python\n",
    ">>> from somme import *\n",
    ">>> factorielle(4)   # test pour n = 4\n",
    "24\n",
    ">>> factorielle(0)   # toujours tester la robustesse des fonctions aux cas particuliers\n",
    "1\n",
    ">>> somme(x=1,n=5,verbose=True)\n",
    "k = 0 : s = 1\n",
    "k = 1 : s = 6\n",
    "k = 2 : s = 16\n",
    "k = 3 : s = 26\n",
    "k = 4 : s = 31\n",
    "k = 5 : s = 32\n",
    "La somme pour n = 5  et x = 1 vaut 32\n",
    "32\n",
    ">>> test_somme(x=1,n=5)  # verbose est par defaut False\n",
    "True\n",
    ">>> test_somme(x=1.2,n=5)  # \n",
    "False\n",
    "```\n",
    "\n",
    "Le dernier test ne fonctionne que pour les entiers, comparer l'égalité de deux réels est difficile numériquement ! Affaire à suivre..."
   ]
  },
  {
   "cell_type": "markdown",
   "metadata": {},
   "source": [
    " Pour se mettre en jambes\n",
    "\n",
    "## Exercice 1: Volumes\n",
    "\n",
    "1.  Définir une fonction cube qui calcule le volume d'un cube.\n",
    "2.    Définir une fonction sphere qui calcule le volume d'une sphère en appelant la fonction cube.\n",
    "3.    Définir une fonction à deux arguments qui calcule le volume d'un cône, puis d'une pyramide.\n",
    "4.    Écrire une fonction volume qui prend pour argument une longueur, une chaîne de caractères qui peut valoir \"cube\", \"sphere\", \"cone\" ou \"pyramide\" et qui appelle la fonction souhaitée. Astuce : il faudra définir un deuxième argument de longueur optionnel."
   ]
  },
  {
   "cell_type": "code",
   "execution_count": 6,
   "metadata": {
    "deletable": false,
    "nbgrader": {
     "checksum": "aa3749a9b7dbf9c2ddf953a0a7c66d48",
     "grade": true,
     "grade_id": "cell-9933527a3c94341c",
     "locked": false,
     "points": 0,
     "schema_version": 1,
     "solution": true
    }
   },
   "outputs": [],
   "source": [
    "def Vcube(c) :\n",
    "    return c**3\n",
    "\n",
    "def Vsphère(r) :\n",
    "    return Vcube(r)*4/3*3.14\n",
    "\n",
    "def Vcone(r, h) :\n",
    "    return (3.14*r**2*h)/3\n",
    "\n",
    "def Vpyramide(c, h) :\n",
    "    return (c**2*h)/3\n",
    "\n",
    "def Volume(nom, c, h = 1) :\n",
    "    if nom == 'cube' :\n",
    "        return Vcube(c)\n",
    "    if nom == 'sphere' :\n",
    "        return Vsphere(c)\n",
    "    if nom == 'cone' :\n",
    "        return Vcone(c, h)\n",
    "    if nom == 'pyramide' : \n",
    "        return Vpyramide(c, h)\n"
   ]
  },
  {
   "cell_type": "markdown",
   "metadata": {},
   "source": [
    "## Exercice 2: Tracé de fonctions mathématiques\n",
    "\n",
    "Définir et tracer les fonctions mathématiques suivantes pour $x\\in [-5,5]$ et $a=1,0.5,0.1,0.01$:\n",
    "1. $f(x)=\\frac{1}{1-x}$ pour $x\\in [-5,5]$\n",
    "2. $ f(x) = \\left\\lbrace \\begin{array}{ll} \n",
    " e^{\\sqrt{1-ax^2}}, & \\vert x\\vert  < \\sqrt{1/a} \\\\\n",
    " 0, & \\vert x\\vert > \\sqrt{1/a} \n",
    " \\end{array}\\right.$ avec un paramètre $a$ de la fonction par défaut égal à 1."
   ]
  },
  {
   "cell_type": "code",
   "execution_count": 25,
   "metadata": {
    "deletable": false,
    "nbgrader": {
     "checksum": "3a8321c28ca464802f741ce83ae5111a",
     "grade": true,
     "grade_id": "cell-d26b4acf776128eb",
     "locked": false,
     "points": 0,
     "schema_version": 1,
     "solution": true
    }
   },
   "outputs": [
    {
     "data": {
      "image/png": "[encoded data removed]",
      "text/plain": [
       "<Figure size 432x288 with 1 Axes>"
      ]
     },
     "metadata": {
      "needs_background": "light"
     },
     "output_type": "display_data"
    },
    {
     "data": {
      "image/png": "[encoded data removed]",
      "text/plain": [
       "<Figure size 432x288 with 1 Axes>"
      ]
     },
     "metadata": {
      "needs_background": "light"
     },
     "output_type": "display_data"
    }
   ],
   "source": [
    "from matplotlib import pyplot\n",
    "\n",
    "def F1(x) :\n",
    "    if x != 1 :\n",
    "        return 1/(1-x)\n",
    "    \n",
    "def F2(x, a=1) :\n",
    "    if abs(x) > (1/a)**.5 :\n",
    "        return 0\n",
    "    if abs(x) < (1/a)**.5 :\n",
    "        return 2.718**((1-a*x**2)**.5)\n",
    "    \n",
    "a = 0.1\n",
    "\n",
    "xmin =  -5.0\n",
    "xmax = 5.0\n",
    "npoints = 50\n",
    "step_size = (xmax -xmin)/ npoints\n",
    "x_list= []\n",
    "y_list = []\n",
    "for i in range(npoints) :\n",
    "    x = xmin + i * step_size\n",
    "    x_list.append(x)\n",
    "    y_list.append(F1(x))\n",
    "\n",
    "fig = pyplot.figure()\n",
    "pyplot.plot(x_list, y_list)\n",
    "pyplot.show()\n",
    "\n",
    "xmin =  -5.0\n",
    "xmax = 5.0\n",
    "npoints = 50\n",
    "step_size = (xmax -xmin)/ npoints\n",
    "x_list= []\n",
    "y_list = []\n",
    "for i in range(npoints) :\n",
    "    x = xmin + i * step_size\n",
    "    x_list.append(x)\n",
    "    y_list.append(F2(x,a))\n",
    "\n",
    "fig = pyplot.figure()\n",
    "pyplot.plot(x_list, y_list)\n",
    "pyplot.show()"
   ]
  },
  {
   "cell_type": "markdown",
   "metadata": {},
   "source": [
    "## Exercice 3: ADN\n",
    "\n",
    "L'ADN est formé de deux brins chacun constitué d'une alternance de quatre bases : A, T, C ou G. Les deux brins sont complémentaires : A est toujours associé avec T, C toujours avec G.\n",
    "\n",
    "1.     Écrire une fonction qui prend pour argument une base sous forme de texte et renvoie son complémentaire.\n",
    "2.    Demander à un utilisateur de rentrer au clavier une chaîne d'ADN quelconque. Tester si la chaîne rentrée par l'utilisateur est valide.\n",
    "3.     Parcourir cette chaîne de caractères représentant un brin d'ADN et imprimer à l'écran le brin complémentaire. Tester le programme avec la chaîne 'ATGC'.\n",
    "4.     Afficher à l'écran le pourcentage de bases A, T, G, C présents dans le brin."
   ]
  },
  {
   "cell_type": "code",
   "execution_count": 40,
   "metadata": {
    "deletable": false,
    "nbgrader": {
     "checksum": "00bdc53c2306289d3cbeb48b1b5c649d",
     "grade": true,
     "grade_id": "cell-d1d2a79b83b2b777",
     "locked": false,
     "points": 0,
     "schema_version": 1,
     "solution": true
    }
   },
   "outputs": [
    {
     "name": "stdout",
     "output_type": "stream",
     "text": [
      "Saisir une chaine d'ADN : ACGT\n",
      "chaine valide\n",
      "TGCA\n",
      "Pourcentage de A :  25.0\n",
      "Pourcentage de T :  25.0\n",
      "Pourcentage de C :  25.0\n",
      "Pourcentage de G :  25.0\n"
     ]
    }
   ],
   "source": [
    "def ADN(base):\n",
    "    compl = ''\n",
    "    for x in base :\n",
    "        if x == 'A' :\n",
    "            compl += 'T'\n",
    "        if x == 'T' :\n",
    "            compl += 'A'\n",
    "        if x == 'C' :\n",
    "            compl += 'G'\n",
    "        if x == 'G' :\n",
    "            compl += 'C'\n",
    "    return compl\n",
    "\n",
    "\n",
    "chain = input(\"Saisir une chaine d'ADN : \")\n",
    "val=''\n",
    "for x in chain :\n",
    "    if x != 'A' and x != 'T' and x != 'C' and x != 'G' :\n",
    "        val = 'invalide'\n",
    "        break\n",
    "if val == 'invalide' :\n",
    "    print('chaine invalide')\n",
    "else :\n",
    "    print('chaine valide')\n",
    "\n",
    "\n",
    "print(ADN(chain))\n",
    "\n",
    "print(\"Pourcentage de A : \", chain.count('A')*100/len(chain))\n",
    "print(\"Pourcentage de T : \", chain.count('T')*100/len(chain))\n",
    "print(\"Pourcentage de C : \", chain.count('C')*100/len(chain))\n",
    "print(\"Pourcentage de G : \", chain.count('G')*100/len(chain))"
   ]
  },
  {
   "cell_type": "markdown",
   "metadata": {},
   "source": [
    "## Exercice 4: Dérivée d'une fonction\n",
    "\n",
    "Mathématiquement, la dérivée d'une fonction $f(x)$ au point $x$ est définie par :\n",
    "\n",
    "$$ f'(x) = \\lim\\limits_{\\epsilon \\rightarrow 0} \\frac{f(x+\\epsilon)-f(x)}{\\epsilon} $$\n",
    "\n",
    "Numériquement, comme la fonction est discrétisée en $\\left\\lbrace x_i\\right\\rbrace$ points, on peut essayer d'approcher cette définition du mieux possible en calculant le taux d'accroissement de la fonction entre deux points les plus proches possibles:\n",
    "\n",
    "$$f'(x_i) = \\frac{f(x_{i+1})-f(x_i)}{x_{i+1}-x_{i}} $$\n",
    "\n",
    "1. Définir et tracer la fonction $f(x)=e^{ax}$ avec 10 points pour $x\\in[0,2]$ et $a=1,2$ (tracer une légende pour y voir plus clair)\n",
    "2. Définir une fonction qui calcule la dérivée d'une fonction à partir de la donnée des deux listes d'abscisses et d'ordonnées des 10 points tracés précédemment. Cette fonction retourne une liste de points calculés comme étant le taux d'accroissement entre deux points adjacents.\n",
    "3. Dans le même graphique, tracer les fonctions et leurs dérivées. Que constatez-vous pour $a=1$ ?\n",
    "4. Pour tenter de remédier au problème, augmenter le nombre de points. Que constatez-vous ?\n",
    "5. Une autre façon de résoudre le problème peut être de symétriser la formule du taux d'accroissement :\n",
    "$ f'(x_i) = \\frac{f(x_{i+1})-f(x_{i-1})}{x_{i+1}-x_{i-1}} $\n",
    "Coder cette façon d'exprimer la dérivée et commenter."
   ]
  },
  {
   "cell_type": "code",
   "execution_count": 60,
   "metadata": {
    "deletable": false,
    "nbgrader": {
     "checksum": "7a402cca5067929e36aac6607ec57dd0",
     "grade": true,
     "grade_id": "cell-85e3efc23eeb800a",
     "locked": false,
     "points": 0,
     "schema_version": 1,
     "solution": true
    }
   },
   "outputs": [
    {
     "data": {
      "image/png": "[encoded data removed]",
      "text/plain": [
       "<Figure size 432x288 with 1 Axes>"
      ]
     },
     "metadata": {
      "needs_background": "light"
     },
     "output_type": "display_data"
    }
   ],
   "source": [
    "def F1(x, a) :\n",
    "    return 2.718**(a*x)\n",
    "\n",
    "def deriv(x, a) :\n",
    "    der_list=[]\n",
    "    for i in range(0, 100) :\n",
    "        der_list.append((F1(x[i]+0.0001, a) -F1(x[i], a))/(x[i]+.0001 - x[i]))\n",
    "    return der_list\n",
    "        \n",
    "\n",
    "xmin =  0.0\n",
    "xmax = 2.0\n",
    "npoints = 100\n",
    "step_size = (xmax -xmin)/ npoints\n",
    "\n",
    "x_list= []\n",
    "y_list1= []\n",
    "y_list2= []\n",
    "\n",
    "for i in range(npoints) :\n",
    "    x = xmin + i * step_size\n",
    "    x_list.append(x)\n",
    "    y_list1.append(F1(x, 1))\n",
    "    y_list2.append(F1(x, 2))\n",
    "\n",
    "fig = pyplot.figure()\n",
    "pyplot.plot(x_list, y_list1, label='a='+str(1))\n",
    "pyplot.plot(x_list, y_list2 ,label='a='+str(2))\n",
    "\n",
    "pyplot.plot(x_list, deriv(x_list, 1), label='derivée a='+str(1))\n",
    "pyplot.plot(x_list, deriv(x_list, 2) ,label='derivée a='+str(2))\n",
    "pyplot.xlabel('x')\n",
    "pyplot.ylabel('y')\n",
    "pyplot.legend()\n",
    "pyplot.show()\n",
    "\n",
    "\n"
   ]
  },
  {
   "cell_type": "markdown",
   "metadata": {},
   "source": [
    "## Exercice 5: Factorielles et combinatoire\n",
    "\n",
    "Vous souhaitez évaluer de manière numérique le nombre de façon de tirer $k$ objets parmi $n$, i.e. $\\frac{n!}{k!(n-k)!}$. Pour cela, vous souhaitez tout d'abord créer une fonction factorielle.\n",
    "\n",
    "1.     Définissez une fonction `fact(n)` qui évalue $n!$ à l'aide d'une boucle for. Testez cette fonction.\n",
    "2.      Définissez une fonction récursive `fact_rec(n)` qui évalue $n!$ en s'appelant elle même. Testez cette fonction.\n",
    "3.      Définissez une fonction `fact_list(n)` qui stocke $i!$ pour $i$ allant de 0 à $n$ à l'aide d'une boucle `for`. Testez cette fonction.\n",
    "4.      Comparez le résultat de ces trois fonctions à celui obtenu à l'aide de `math.factorial(n)`. Pensez à importer la librairie math en début de programme: `import math`\n",
    "5.      Définissez une fonction `k_parmi_n(n,k)`, exploitant la fonction `fact_list` que vous avez déjà construite. Comparez le résultat de votre fonction à celui obtenu à l'aide de `scipy.special.binom(n,k)` (n'oubliez pas d'importer la librairie)."
   ]
  },
  {
   "cell_type": "code",
   "execution_count": 71,
   "metadata": {
    "deletable": false,
    "nbgrader": {
     "checksum": "3f9abe7c38803814bca3e8e12e7cf839",
     "grade": true,
     "grade_id": "cell-8b5baf231d31bdc9",
     "locked": false,
     "points": 0,
     "schema_version": 1,
     "solution": true
    }
   },
   "outputs": [
    {
     "name": "stdout",
     "output_type": "stream",
     "text": [
      "6\n",
      "6\n",
      "[1, 1, 2, 6]\n",
      "6\n",
      "56.0\n",
      "56.0\n"
     ]
    }
   ],
   "source": [
    "import math\n",
    "from scipy.special import binom \n",
    "\n",
    "def fact(n):\n",
    "    f = 1\n",
    "    for i in range(1,n+1):\n",
    "        f = f * i\n",
    "    return f\n",
    "\n",
    "print(fact(3))\n",
    "\n",
    "def fact_rec(n) :\n",
    "    if n == 0 :\n",
    "        return 1\n",
    "    if n == 1 :\n",
    "        return 1\n",
    "    return n*fact_rec(n-1)\n",
    "\n",
    "print(fact_rec(3))\n",
    "\n",
    "def fact_list(n) :\n",
    "    f = 1\n",
    "    f_list = [1]\n",
    "    for i in range(1,n+1):\n",
    "        f = f * i\n",
    "        f_list.append(f)\n",
    "    return f_list\n",
    "\n",
    "print(fact_list(3))\n",
    "\n",
    "print(math.factorial(3))\n",
    "\n",
    "def k_parmi_n(n, k):\n",
    "    c = fact(n)/( fact(k)*fact(n-k) ) \n",
    "    return c\n",
    "\n",
    "print(k_parmi_n(8,3))\n",
    "print(scipy.special.binom(8, 3))"
   ]
  },
  {
   "cell_type": "markdown",
   "metadata": {},
   "source": [
    "## Exercice 6: Série entière de l'exponentielle\n",
    "\n",
    "La fonction exponentielle peut s'écrire sous la forme d'une série entière :\n",
    "\n",
    "${\\rm e}^x=\\sum_{n=0}^{+\\infty}{\\frac{x^n}{n!}}=1+\\frac x{1!}+\\frac{x^2}{2!}+\\frac{x^3}{3!}+\\frac{x^4}{4!}+\\cdots$ \n",
    "\n",
    "pour tout $x\\in \\mathbb{R}$.\n",
    "\n",
    "1.    Définir une fonction pour calculer les factorielles, puis définir une fonction pour calculer la série ci-dessus jusqu'à l'ordre $N$ pour un $x$ quelconque.\n",
    "2.   Tracer la fonction exponentielle fournie par le module `math` pour $x\\in [-1,8]$ et superposer le tracé de la série ci-dessus pour $N=5,10,50$ et $100$.\n",
    "3.  Définir une fonction qui calcule à un $x$ donné l'écart relatif entre la série et la fonction exponentielle fournie par le module `math`.\n",
    "4.   Tracer l'écart relatif entre les deux formes de l'exponentielle en fonction de $N$, pour différents $x$, avec une échelle logarithmique en ordonnée. Commenter.\n",
    "5.   Réécrire la fonction série de manière plus efficace en n'utilisant pas la fonction factorielle mais en faisant intervenir une relation de récurrence du type ${terme}_n = {terme}_{n-1} x/n$. A l'aide du module `time`, chronométrer le calcul de $e^1$ pour la fonction `math.exp` et les deux fonctions définies pour la série entière. Commenter."
   ]
  },
  {
   "cell_type": "code",
   "execution_count": 75,
   "metadata": {
    "deletable": false,
    "nbgrader": {
     "checksum": "67988a1a61bcd241b9684326c2388624",
     "grade": true,
     "grade_id": "cell-c9ae526abe08afa9",
     "locked": false,
     "points": 0,
     "schema_version": 1,
     "solution": true
    }
   },
   "outputs": [
    {
     "name": "stdout",
     "output_type": "stream",
     "text": [
      "42.86666666666666\n"
     ]
    }
   ],
   "source": [
    "def fact(n):\n",
    "    f = 1\n",
    "    for i in range(1,n+1):\n",
    "        f = f * i\n",
    "    return f\n",
    "\n",
    "def exp(x, n) :\n",
    "    e = 0\n",
    "    for i in range(0, n+1) :\n",
    "        e += x**i/fact(i)\n",
    "    return e\n",
    "\n",
    "print(exp(4, 5))"
   ]
  },
  {
   "cell_type": "markdown",
   "metadata": {},
   "source": [
    "## Exercice 7: Troisième loi de Kepler\n",
    "\n",
    "Dans le tableau en fin d'exercice sont donnés la période de révolution $T$ et le demi grand-axe $a$ de l'orbite des planètes du système solaire. Les incertitudes sur ces données sont de l'ordre du dernier chiffre significatif.\n",
    "\n",
    "1.        Rentrer les données de chacune des colonnes dans des listes, et créer des listes pour leurs incertitudes\n",
    "2.     Tracer la période $T$ en fonction de $a$ sous forme de points avec barres d'erreur\n",
    "3.     Créer une fonction qui renvoie $T^2/a^3$, et une deuxième fonction qui renvoie l'incertitude sur ce nombre (en propageant les incertitudes sur $a$ et $T$ )\n",
    "4.     Tracer $T^2/a^3$ en fonction du numéro de la planète, sous forme de points avec barres d'erreur. Superposer la droite théorique attendue $T^2/a^3=1$ et commenter.\n",
    "5.     Les points d'un cercle de rayon $r$ et centre O ont pour coordonnées cartésiennes $x=r\\cos\\theta$ et $y=r\\sin\\theta$ pour $\\theta \\in [0,2\\pi]$. Définir une fonction qui convertit les coordonnées polaires $(r,\\theta)$ d'un point du cercle en coordonnées cartésiennes $(x,y)$. On définira donc une fonction à deux arguments qui renvoie deux valeurs, ou une liste de valeurs.\n",
    "6.     Tracer les orbites de chacune des planètes dans un plan gradué en UA : c'est un système solaire à l'échelle !"
   ]
  },
  {
   "cell_type": "markdown",
   "metadata": {},
   "source": [
    "| Planète |\t$T$ [années] |\t$a$ [UA]  |\n",
    "|---|---|---|\n",
    "|Mercure |\t0.2408 |\t0.3871 |\n",
    "|Vénus |\t0.6152 |\t0.7233 |\n",
    "|Terre |\t1.000 |\t1.000 |\n",
    "|Mars |\t1.8808 |\t1.5237 |\n",
    "|Jupiter |\t11.862 |\t5.2026 \n",
    "|Saturne |\t29.457 |\t9.5547 \n",
    "|Uranus |\t84.020 |\t19.218 \n",
    "|Neptune |\t164.77 |\t30.109     "
   ]
  },
  {
   "cell_type": "code",
   "execution_count": null,
   "metadata": {
    "deletable": false,
    "nbgrader": {
     "checksum": "6ffa07f6d114193d28349e0bbd2af3a3",
     "grade": true,
     "grade_id": "cell-ee5426c8e455cc38",
     "locked": false,
     "points": 0,
     "schema_version": 1,
     "solution": true
    }
   },
   "outputs": [],
   "source": [
    "#LA REPONSE ICI\n",
    "raise NotImplementedError()"
   ]
  },
  {
   "cell_type": "markdown",
   "metadata": {},
   "source": [
    "## Exercice 8:  Nombres parfaits et nombres chanceux\n",
    "\n",
    "### Définitions :\n",
    "\n",
    "* On appelle *nombre premier* tout entier naturel supérieur à 1 qui possède exactement deux diviseurs, lui-même et l'unité.\n",
    "* On appelle *diviseur propre* de $n$, un diviseur quelconque de $n$, $n$ exclu.\n",
    "* Un entier naturel est dit *parfait* s’il est égal à la somme de tous ses diviseurs propres.\n",
    "* Les nombres $a$ tels que: $(a+n+n^2)$ est premier pour tout $n$ tel que $0\\leqslant n < (a−1)$, sont appelés *nombres chanceux*.\n",
    "\n",
    "### Questions :\n",
    "1. Définir les quatre fonctions : `somDiv()`, `estParfait()`, `estPremier()`, `estChanceux()`.\n",
    " * la fonction `somDiv` retourne la somme des *diviseurs propres* de son argument;\n",
    " * les trois autres fonctions vérifient la propriété donnée par leur définition et retournent un booléen. Si par exemple la fonction `estPremier(n)` vérifie que son argument est premier, elle retourne `True`, sinon elle retourne `False`. Vous pouvez faire des tests sur les entiers 6,11,12,31.\n",
    "2. Générer les listes des numéro parfaits et chanceux dans l’intervalle [2,1000].\n"
   ]
  },
  {
   "cell_type": "code",
   "execution_count": null,
   "metadata": {
    "deletable": false,
    "nbgrader": {
     "checksum": "053121c81be0f9077ad7e22f09ea763d",
     "grade": true,
     "grade_id": "cell-5ea43df49e2c0b32",
     "locked": false,
     "points": 0,
     "schema_version": 1,
     "solution": true
    }
   },
   "outputs": [],
   "source": [
    "#LA REPONSE ICI\n",
    "raise NotImplementedError()"
   ]
  }
 ],
 "metadata": {
  "kernelspec": {
   "display_name": "Python 3",
   "language": "python",
   "name": "python3"
  },
  "language_info": {
   "codemirror_mode": {
    "name": "ipython",
    "version": 3
   },
   "file_extension": ".py",
   "mimetype": "text/x-python",
   "name": "python",
   "nbconvert_exporter": "python",
   "pygments_lexer": "ipython3",
   "version": "3.7.1"
  }
 },
 "nbformat": 4,
 "nbformat_minor": 2
}
