{
 "cells": [
  {
   "cell_type": "markdown",
   "metadata": {},
   "source": [
    "Quelques conseils:\n",
    "- pour exécutez une cellule, cliquez sur le bouton *Exécuter* ci-dessus ou tapez **Shift+Enter**\n",
    "- si l'exécution d'une cellule prend trop de temps, sélectionner dans le menu ci-dessus *Noyau/Interrompre*\n",
    "- en cas de très gros plantage *Noyau/Redémarrer*\n",
    "- **sauvegardez régulièrement vos réponses** en cliquant sur l'icone disquette ci-dessus à gauche, ou *Fichier/Créer une nouvelle sauvegarde*\n",
    "\n",
    "Pour répondre aux questions, remplacer les lignes  \n",
    "```python \n",
    "#LA REPONSE ICI\n",
    "raise NotImplementedError()\n",
    "``` \n",
    "par vos réponses, et remplissez les champs ci-dessous:"
   ]
  },
  {
   "cell_type": "code",
   "execution_count": 1,
   "metadata": {},
   "outputs": [],
   "source": [
    "NOM = \"Martinez\"\n",
    "PRENOM = \"Maud\"\n",
    "GROUPE = \"3\"\n",
    "DATE = \"27/03/2019\""
   ]
  },
  {
   "cell_type": "markdown",
   "metadata": {},
   "source": [
    "---"
   ]
  },
  {
   "cell_type": "markdown",
   "metadata": {
    "slideshow": {
     "slide_type": "slide"
    }
   },
   "source": [
    "### L1-S2 : UE Simulations numériques\n",
    "\n",
    "# SEANCE 8 : Intégrales"
   ]
  },
  {
   "cell_type": "code",
   "execution_count": 2,
   "metadata": {
    "slideshow": {
     "slide_type": "slide"
    }
   },
   "outputs": [
    {
     "name": "stdout",
     "output_type": "stream",
     "text": [
      "je suis execute\n"
     ]
    }
   ],
   "source": [
    "import numpy as np\n",
    "import matplotlib.pyplot as plt\n",
    "print('je suis execute')"
   ]
  },
  {
   "cell_type": "markdown",
   "metadata": {
    "slideshow": {
     "slide_type": "slide"
    }
   },
   "source": [
    "## Calculs d'intégrales\n",
    "On souhaite **évaluer numériquement la valeur de l'intégrale** d'une fonction $f$ entre deux points connus, $a$ et $b$. \n",
    "* la primitive $F$ de $f$ est connue analytiquement $\\rightarrow$ simple évaluation de la fonction $F$ en $a$ et $b$\n",
    "* la fonction $f$ est échantillonnée en un nombre restreint de points $\\rightarrow$ plusieurs outils sont à notre disposition.\n"
   ]
  },
  {
   "cell_type": "markdown",
   "metadata": {
    "slideshow": {
     "slide_type": "fragment"
    }
   },
   "source": [
    "La seconde approche va nous être particulièrement utile en méthodes numériques. Mais n'oubliez pas la première ! Si une intégrale peut être calculée de manière analytique, faîtes le ! Ce sera (souvent) plus rapide et toujours plus précis. \n"
   ]
  },
  {
   "cell_type": "markdown",
   "metadata": {
    "slideshow": {
     "slide_type": "subslide"
    }
   },
   "source": [
    "La comparaison entre le calcul analytique et numérique est aussi un outil essentiel pour vérifier la validité de vos algorithmes et évaluer l'erreur induite par vos approximations."
   ]
  },
  {
   "cell_type": "markdown",
   "metadata": {
    "slideshow": {
     "slide_type": "notes"
    }
   },
   "source": [
    "Ici je peux mettre des notes pour le prof"
   ]
  },
  {
   "cell_type": "markdown",
   "metadata": {
    "slideshow": {
     "slide_type": "subslide"
    }
   },
   "source": [
    "\n",
    "La fonction $f$ est échantillonnée en un nombre restreint de points $\\rightarrow$ plusieurs outils sont à notre disposition, par exemple :\n",
    "* interpolation polynomiale entre points également espacés, puis intégration $\\rightarrow$ **formules de Newton - Cotes** (\\textit{simple et robuste - standard pour une fonction facile à évaluer*)\n",
    "* \"optimisation'' des points où sont évalués la fonction $\\rightarrow$ **quadrature Gaussienne** (\\textit{plus de liberté - plus difficile d'estimer l'erreur commise*)\n",
    "* échantillonage aléatoire de la fonction  $\\rightarrow$ **calcul \"Monte-Carlo''** (\\textit{particulièrement utile à N-dimensions*)\n",
    "\n",
    "\n",
    "**Cette séance : formules de Newton - Cotes + critères d'erreur.**"
   ]
  },
  {
   "cell_type": "markdown",
   "metadata": {
    "slideshow": {
     "slide_type": "slide"
    }
   },
   "source": [
    "## Formules de Newton - Cotes\n",
    "$f(x)$ est échantillonnée entre $a$ et $b$. On souhaite estimer $\\int_a^b f(x){\\rm d}x$.\n",
    "\n",
    "* ordre 0 : on approxime $f$ par une fonction en escalier évaluée en un point par sous intervalle $\\rightarrow$ Somme de Riemmann\n",
    "* ordre 1 : on approxime $f$ par une fonction affine évaluée en deux points par sous intervalle $\\rightarrow$ Méthode des trapèzes\n",
    "* ordre 2 : on approxime $f$ par une parabole évaluée en trois points par sous intervalle $\\rightarrow$ Méthode de Simpson\n",
    "Ces méthodes ne sont rigoureusement exactes que pour les polynômes d'ordre associé $\\rightarrow$ **erreur commise ?**\n",
    "\n"
   ]
  },
  {
   "cell_type": "markdown",
   "metadata": {
    "slideshow": {
     "slide_type": "slide"
    }
   },
   "source": [
    "| ordre 0: rectangles | ordre 1: trapèzes | ordres 2: paraboles |\n",
    "|:-----|:----|:-----|\n",
    "| <img align=\"left\" src=\"plots/681px-Integration_num_rectangles.png\" /> | <img align=\"left\"  src=\"plots/681px-Integration_num_trapezes.png\" /> | <img align=\"left\"  src=\"plots/681px-Integration_num_Simpson.png\"/>"
   ]
  },
  {
   "cell_type": "markdown",
   "metadata": {
    "slideshow": {
     "slide_type": "slide"
    }
   },
   "source": [
    "## Newton - Cotes - Ordre 0 : somme de Riemann\n",
    "\n",
    "\n",
    "On considère d'abord deux points $[a,b]$ espacés par un pas $h=b-a$. Pour deux points seulement, la formule de Riemann donne  $\\int_a^b f(x){\\rm d}x \\simeq I$ avec\n",
    "\\begin{equation}\n",
    "I = h \\times f(\\xi)\\quad {\\rm avec\\ } \\xi\\in[a,b]\n",
    "\\end{equation}\n",
    "$\\xi$ est un point d'abscisse quelconque entre les deux bornes $a$ et $b$.\n",
    "<img src=\"plots/681px-Integration_num_rectangles.png\" width=\"20%\"/>"
   ]
  },
  {
   "cell_type": "markdown",
   "metadata": {
    "slideshow": {
     "slide_type": "slide"
    }
   },
   "source": [
    "**La position de $\\xi$ est cruciale !** Il suffit d'un D.L. pour le voir: \n",
    "\\begin{equation}\n",
    "f(x) = f(\\xi) + f'(\\xi)\\times(x-\\xi) + f''(\\xi)\\times\\frac{(x-\\xi)^2}{2!} + \\ldots\n",
    "\\end{equation}\n",
    "\n",
    "\n",
    "\n",
    "**Si on prend $\\xi = a$ ou $\\xi =b$,**  $\\int_a^b f(x){\\rm d}x - I = \\frac{h^2}{2}f'(\\xi)  + \\ldots$\n",
    "soit une **erreur en $O(h^2f')$** (notation abusive mais bien pratique)\n",
    "\n",
    "**Si on prend $\\xi = \\frac{a+b}{2}$,**  $\\int_a^b f(x){\\rm d}x - I = \\frac{h^3}{24}f''(\\xi)  + \\ldots$\n",
    "soit une **erreur en $O(h^3f'')$**\n",
    "\n"
   ]
  },
  {
   "cell_type": "markdown",
   "metadata": {
    "slideshow": {
     "slide_type": "slide"
    }
   },
   "source": [
    "\n",
    "Généralisons à $n$ points avec un pas $h=\\frac{b-a}{n}$. Si on fait la **somme à gauche} ($x_i = a + i\\times h$) **ou à droite} ($x_i = a + (i+1)\\times h$) :\n",
    "\\begin{align}\n",
    "\\int_a^b f(x){\\rm d}x &= \\sum_{i=0}^{n-1}h f_i + n\\times O(h^2f')\\nonumber\n",
    "&= \\sum_{i=0}^{n-1} hf(x_i)  + O\\left(\\frac{(b-a)^2f'}{n}\\right)\\nonumber\n",
    "\\end{align}\n",
    "\n",
    "Au contraire, si on fait la **somme au milieu**\n",
    "($x_i = a + (i+\\frac{1}{2})\\times h$)\n",
    "\\begin{align}\n",
    "\\int_a^b f(x){\\rm d}x &= \\sum_{i=0}^{n-1} h f(x_i) + n\\times O(h^3f'')\n",
    "&= \\sum_{i=0}^{n-1}h f(x_i) + O\\left(\\frac{(b-a)^3f''}{n^2}\\right)\n",
    "\\end{align}\n"
   ]
  },
  {
   "cell_type": "markdown",
   "metadata": {
    "slideshow": {
     "slide_type": "slide"
    }
   },
   "source": [
    "| $\\xi=a$ | $\\xi=b$ | $\\xi=(a+b)/2$ |\n",
    "|:-----|:----|:-----|\n",
    "| <img  title=\"up\" src=\"plots/Riemann_sum_leftbox.gif\"  /> | <img src=\"plots/Riemann_sum_rightbox.gif\" /> | <img  src=\"plots/Riemann_sum_middlebox.gif\"  />\n"
   ]
  },
  {
   "cell_type": "markdown",
   "metadata": {
    "slideshow": {
     "slide_type": "slide"
    }
   },
   "source": [
    "## Newton - Cotes - Ordre 1 : méthode des trapèzes\n",
    "La **méthode des trapèzes** consiste à approximer la fonction par des **segments de droite sur des sous-intervalles.}\n",
    "Pour deux points, à l'aide le la formule de l'aire du trapèze l'intégrale devient:\n",
    "$\\int_a^b f(x){\\rm d}x = h\\times\\frac{f(a)+f(b)}{2} + O(h^3f'')$\n",
    "\n",
    "*Noter que l'erreur est du même ordre que celle obtenue pour la somme de Riemann au milieu.*\n",
    "\n",
    "<img align=\"center\" src=\"plots/681px-Integration_num_trapezes.png\" width=\"30%\">"
   ]
  },
  {
   "cell_type": "markdown",
   "metadata": {
    "slideshow": {
     "slide_type": "slide"
    }
   },
   "source": [
    "En généralisant à $n$ points, pour $x_i = a + i\\times h$, on obtient\n",
    "\n",
    "$\\int_a^b f(x){\\rm d}x = h\\times\\left(\\frac{f_0}{2} + f_1 + f_2 + \\ldots + f_{n-1} + \\frac{f_{n}}{2}\\right) + O\\left(\\frac{(b-a)^3f''}{n^2}\\right)$\n",
    "en notant $f_i=f(x_i)$."
   ]
  },
  {
   "cell_type": "markdown",
   "metadata": {
    "slideshow": {
     "slide_type": "slide"
    }
   },
   "source": [
    "## Newton - Cotes - Ordre 2 : méthode de Simpson\n",
    "\n",
    "La **méthode de Simpson** consiste à approximer la fonction par des **morceaux de paraboles} (nombre impair de points !)\n",
    "Pour trois points, l'intégrale devient:\n",
    "$\\int_a^b f(x){\\rm d}x = \\frac{b-a}{2}\\times\\left(\\frac{1}{3}f(a) + \\frac{4}{3}f(\\frac{a+b}{2}) +\\frac{1}{3}f(b)\\right) + O(h^5f^{(4)})$\n",
    "\n",
    "*On peut recalculer les coeffcients à l'aide des polynomes de Lagrange, en supposant sans perte de généralité $a=-1$ et $b=1$.*\n",
    "<img src=\"plots/681px-Integration_num_Simpson.png\" width=\"30%\"/>"
   ]
  },
  {
   "cell_type": "markdown",
   "metadata": {
    "slideshow": {
     "slide_type": "slide"
    }
   },
   "source": [
    "En généralisant à $n+1$ points, pour $x_i = a + i\\times h$, on obtient\n",
    "\n",
    "\\begin{align*}\n",
    "\\int_a^b f(x){\\rm d}x & = h\\times\\left(\\frac{1}{3}f_0 + \\frac{4}{3}f_1 + \\frac{2}{3}f_2 + \\frac{4}{3}f_3 + \\ldots + \\frac{2}{3}f_{n-3} + \\frac{4}{3}f_{n-2} + \\frac{1}{3}f_{n-1}\\right) & \\qquad + O\\left(\\frac{(b-a)^5f^{(4)}}{n^4}\\right)\n",
    "\\end{align*}"
   ]
  },
  {
   "cell_type": "markdown",
   "metadata": {
    "slideshow": {
     "slide_type": "slide"
    }
   },
   "source": [
    "## Dans la pratique\n",
    "Dans python, on peut utiliser le module ```integrate``` de ```scipy``` pour calculer une intégrale à partir d'un numpy array.\n",
    "\n",
    "```\n",
    ">>> from scipy import integrate\n",
    ">>> help(integrate)\n",
    " Methods for Integrating Functions given fixed samples.\n",
    "\n",
    "   trapz         -- Use trapezoidal rule to compute integral \n",
    "                    from samples.\n",
    "   cumtrapz      -- Use trapezoidal rule to cumulatively \n",
    "                    compute integral.\n",
    "   simps         -- Use Simpson's rule to compute integral \n",
    "                    from samples.\n",
    "   romb          -- Use Romberg Integration to compute integral \n",
    "                    from (2**k + 1) evenly-spaced samples.\n",
    "```"
   ]
  },
  {
   "cell_type": "markdown",
   "metadata": {
    "slideshow": {
     "slide_type": "slide"
    }
   },
   "source": [
    "Par exemple, la fonction  ```cumtrapz``` de ```integrate``` renvoie l'ensemble des intégrales obtenues par la méthode des trapèzes de $x_0$ à $x_i$, soit une approximation numérique de la primitive :\n",
    "\n",
    "```python\n",
    "from scipy import integrate\n",
    "import numpy as np\n",
    "import matplotlib.pyplot as plt\n",
    "\n",
    "x = np.linspace(-2, 2, 20)\n",
    "y = x\n",
    "y_int = integrate.cumtrapz(y, x, initial=0)\n",
    "plt.plot(x, y_int, 'ro', x, 0.5 * (x**2-x[0]**2), 'b-')\n",
    "plt.show()\n",
    "```\n",
    "![plot](plots/scipy-integrate-cumtrapz-1.png)"
   ]
  },
  {
   "cell_type": "code",
   "execution_count": 3,
   "metadata": {
    "slideshow": {
     "slide_type": "slide"
    }
   },
   "outputs": [
    {
     "data": {
      "image/png": "[encoded data removed]",
      "text/plain": [
       "<Figure size 720x360 with 2 Axes>"
      ]
     },
     "metadata": {
      "needs_background": "light"
     },
     "output_type": "display_data"
    }
   ],
   "source": [
    "from scipy import integrate\n",
    "\n",
    "x = np.linspace(-2, 2, 20)\n",
    "y = x\n",
    "y_int = integrate.cumtrapz(y, x, initial=0)\n",
    "fig, ax = plt.subplots(1,2,figsize=(10,5))\n",
    "ax[0].plot(x,y**2)\n",
    "ax[1].plot(x, y_int, 'ro',x, 0.5 * (x**2-x[0]**2), 'b-')\n",
    "ax[0].grid()\n",
    "plt.show()"
   ]
  },
  {
   "cell_type": "markdown",
   "metadata": {
    "slideshow": {
     "slide_type": "slide"
    }
   },
   "source": [
    "## Intégrales \"impropres'' convergentes\n",
    "Que faire quand, bien que l'intégrale converge :\n",
    "* la fonction ne peut pas être évaluée en un de ces points ($\\sin(x)/x$ en $x=0$)\n",
    "* la fonction diverge en une de ces bornes ($1/\\sqrt{x}$ en $x=0$)\n",
    "* l'intégrale court jusqu'à une borne infinie ($\\int_0^\\infty {\\rm e}^{-x}{\\rm d}x $)"
   ]
  },
  {
   "cell_type": "markdown",
   "metadata": {
    "slideshow": {
     "slide_type": "slide"
    }
   },
   "source": [
    "Pour les deux premiers points, en particulier le premier, un moyen de s'en sortir consiste à utiliser une **intégration dite ouverte** (par opposition à fermée...), i.e. plutôt que d'effectuer l'intégrale entre $a$ et $b$ inclus, on l'effectue **entre $a+h$ et $b-h$ inclus.}\n",
    "\n",
    "\n",
    "Lorsqu'une borne est infinie, si la fonction chute suffisamment rapidement, on peut se contenter d'imposer une **borne supérieure \"grande''** (à déterminer au cas par cas avec une étude de convergence)."
   ]
  },
  {
   "cell_type": "markdown",
   "metadata": {
    "slideshow": {
     "slide_type": "slide"
    }
   },
   "source": [
    "On peut aussi recourir à un **changement de variable**, par exemple si $b\\rightarrow\\infty$ et $a>0$  :\n",
    "\n",
    "\\begin{equation}\n",
    "\\int_a^b f(x) dx = \\int_{1/b}^{1/a}f\\left(\\frac{1}{t}\\right) \\frac{{\\rm d}t}{t^2}\n",
    "\\end{equation}\n",
    "\n",
    "ou encore\n",
    "\n",
    "\\begin{equation}\n",
    "\\int_a^b f(x) dx = \\int_{\\exp(-b)}^{\\exp(-a)}f(-\\ln t) \\frac{{\\rm d}t}{t}\n",
    "\\end{equation}\n",
    "\n",
    "\n",
    "qui sont très aisés à mettre en place par le développeur..."
   ]
  },
  {
   "cell_type": "markdown",
   "metadata": {
    "slideshow": {
     "slide_type": "slide"
    }
   },
   "source": [
    "## Aisé pour le développeur\n",
    "\n",
    "Un outil général d'intégration des fonctions 1D existe dans le module ```scipy.integrate``` : ```quad``` (pour quadrature). Il prend comme argument : une fonction et ses bornes puis renvoie l'intégrale et la précision absolue sur cette intégrale."
   ]
  },
  {
   "cell_type": "code",
   "execution_count": 4,
   "metadata": {
    "slideshow": {
     "slide_type": "fragment"
    }
   },
   "outputs": [
    {
     "name": "stdout",
     "output_type": "stream",
     "text": [
      "(2.666666666666667, 2.960594732333751e-14)\n"
     ]
    }
   ],
   "source": [
    "from scipy.integrate import quad\n",
    "\n",
    "#fonction x^2\n",
    "def f(x):\n",
    "\treturn x*x\n",
    "\n",
    "a = 0 #borne inf de l'integration\n",
    "b = 2 #borne sup de l'integration\n",
    "print(quad(f,a,b))"
   ]
  },
  {
   "cell_type": "markdown",
   "metadata": {
    "slideshow": {
     "slide_type": "subslide"
    }
   },
   "source": [
    "La fonction ```quad``` fait appel sans le dire à des méthodes identiques ou similaires à celles développées dans le cours.\n",
    "\n",
    "\n",
    "Astuce : pour les fonctions pythons extrêmement simples (ou à plusieurs paramètres), on peut utiliser la syntaxe ```lambda``` de python. Le code suivant est parfaitement équivalent au précédent :"
   ]
  },
  {
   "cell_type": "code",
   "execution_count": 5,
   "metadata": {
    "slideshow": {
     "slide_type": "fragment"
    }
   },
   "outputs": [
    {
     "name": "stdout",
     "output_type": "stream",
     "text": [
      "(0.33333333333333337, 3.700743415417189e-15)\n"
     ]
    }
   ],
   "source": [
    "from scipy.integrate import quad\n",
    "\n",
    "#Corps du programme\n",
    "a = 0 #borne inf de l'integration\n",
    "b = 1 #borne sup de l'integration\n",
    "f = lambda x: x*x #fonction x^2\n",
    "print(quad(f,a,b))"
   ]
  },
  {
   "cell_type": "markdown",
   "metadata": {
    "slideshow": {
     "slide_type": "slide"
    }
   },
   "source": [
    "## A retenir\n",
    "La précision d'une intégrale dépend de la **méthode utilisée**\n",
    "* Riemann (milieu) : $O\\left(\\frac{(b-a)^3f''}{n^2}\\right)$\n",
    "* Trapèzes : $O\\left(\\frac{(b-a)^3f''}{n^2}\\right)$\n",
    "* Simpson : $O\\left(\\frac{(b-a)^5f^{(4)}}{n^4}\\right)$\n",
    "et du **pas d'intégration $h$**.\n",
    "\n",
    "Les fonctions de la librairie ```scipy``` sont confortables pour les développeurs mais il ne faut jamais oublier qu'elles fournissent un résultat avec une certaine **précision** qui dépend entre autre de **l'échantillonnage} de la fonction."
   ]
  },
  {
   "cell_type": "markdown",
   "metadata": {
    "slideshow": {
     "slide_type": "slide"
    }
   },
   "source": [
    "### A vos TPs !"
   ]
  }
 ],
 "metadata": {
  "kernelspec": {
   "display_name": "Python 3",
   "language": "python",
   "name": "python3"
  },
  "language_info": {
   "codemirror_mode": {
    "name": "ipython",
    "version": 3
   },
   "file_extension": ".py",
   "mimetype": "text/x-python",
   "name": "python",
   "nbconvert_exporter": "python",
   "pygments_lexer": "ipython3",
   "version": "3.6.7"
  }
 },
 "nbformat": 4,
 "nbformat_minor": 2
}
