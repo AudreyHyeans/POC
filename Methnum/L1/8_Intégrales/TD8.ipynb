{
 "cells": [
  {
   "cell_type": "markdown",
   "metadata": {},
   "source": [
    "Quelques conseils:\n",
    "- pour exécutez une cellule, cliquez sur le bouton *Exécuter* ci-dessus ou tapez **Shift+Enter**\n",
    "- si l'exécution d'une cellule prend trop de temps, sélectionner dans le menu ci-dessus *Noyau/Interrompre*\n",
    "- en cas de très gros plantage *Noyau/Redémarrer*\n",
    "- **sauvegardez régulièrement vos réponses** en cliquant sur l'icone disquette ci-dessus à gauche, ou *Fichier/Créer une nouvelle sauvegarde*\n",
    "\n",
    "Pour répondre aux questions, remplacer les lignes  \n",
    "```python \n",
    "#LA REPONSE ICI\n",
    "raise NotImplementedError()\n",
    "``` \n",
    "par vos réponses, et remplissez les champs ci-dessous:"
   ]
  },
  {
   "cell_type": "code",
   "execution_count": null,
   "metadata": {},
   "outputs": [],
   "source": [
    "NOM = \"MARTINEZ\"\n",
    "PRENOM = \"Maud\"\n",
    "GROUPE = \"3\"\n",
    "DATE = \"27/03/2019\""
   ]
  },
  {
   "cell_type": "markdown",
   "metadata": {},
   "source": [
    "---"
   ]
  },
  {
   "cell_type": "markdown",
   "metadata": {},
   "source": [
    "# TP8: Intégrales\n"
   ]
  },
  {
   "cell_type": "markdown",
   "metadata": {},
   "source": [
    " Pour se mettre en jambes\n",
    "\n",
    "## Exercice 1: Méthode des trapèzes\n",
    "\n",
    "Avec la méthode des trapèzes, on approxime une intégrale par\n",
    "\n",
    "\n",
    "\\begin{equation}\n",
    "\\int_a^b f(x){\\rm d}x = h\\times\\left(\\frac{f_0}{2} + f_1 + f_2 + \\ldots + f_{n-1} + \\frac{f_{n}}{2}\\right) + O\\left(\\frac{(b-a)^3f''}{n^2}\\right)\n",
    "\\end{equation}\n",
    "\n",
    "\n",
    "où $x_i = a + i\\times h$, avec un pas $h=(b-a)/n$, $f_i=f(x_i)$ et n est le nombre d'intervalles ($n+1$ est donc le nombre de points entre $a$ et $b$).\n",
    "\n",
    "1. Définir une fonction $f$ simple que pouvez intégrer analytiquement (e.g. $f(x)=x^2$) ainsi qu'une fonction $F$ qui est sa primitive.\n",
    "2. Définir un ```numpy``` array $x$ allant de 0 à 1 avec $n$ points également espacés (e.g. $n=100+1$ pour commencer) et le ```numpy``` array $f(x)$.\n",
    "3. Définir une fonction ```my_trapz``` qui calcule l'intégrale sur $x$ de $f(x)$ par la méthode des trapèzes, qui prend pour arguments les deux tableaux précédents. *Astuce : réécrire légèrement la formule ci dessus, utiliser la fonction ```sum``` de ```numpy``` et soustraire deux termes.*\n",
    "4. Comparer les résultats obtenus avec ```my_trapz``` et $F$, soit $F(1)-F(0)$\n",
    "5. Comparer au résultat obtenu avec la fonction ```trapz``` de ```scipy.integrate``` \n",
    "6. Tracer les résidus en pour-cent : |\"Intégrale my\\_trapz\" - \"Intégrale analytique\"|/\"Intégrale analytique\" en fonction du nombre $n$ de points utilisés (échelle log-log). On écrira donc une boucle sur le nombre de points $n$. Par exemple $n$ peut prendre valeurs $2^k$ pour k variant de 1 à 10.\n",
    "7. (Optionnel) Comment les résidus varient-ils en fonction de n ? Superposer la loi attendue, en la normalisant à un point obtenu à grand $n$."
   ]
  },
  {
   "cell_type": "code",
   "execution_count": 80,
   "metadata": {
    "deletable": false,
    "nbgrader": {
     "checksum": "df551eb318ca494d320c241fd728db39",
     "grade": true,
     "grade_id": "cell-39f8ce24c30124a5",
     "locked": false,
     "points": 0,
     "schema_version": 1,
     "solution": true
    }
   },
   "outputs": [
    {
     "data": {
      "image/png": "[encoded data removed]",
      "text/plain": [
       "<Figure size 432x288 with 1 Axes>"
      ]
     },
     "metadata": {
      "needs_background": "light"
     },
     "output_type": "display_data"
    }
   ],
   "source": [
    "import numpy as np\n",
    "from scipy import integrate\n",
    "from matplotlib import pyplot\n",
    "\n",
    "#fontion x^2\n",
    "def f(x):\n",
    "    return x*x\n",
    "\n",
    "#fonction integrale trapèze\n",
    "def my_trapz(x, y, n):\n",
    "    return (x[-1]-x[0])/n * (sum(y) - y[0]/2 - y[-1]/2)\n",
    "\n",
    "Nlist=[]\n",
    "Ylist= []\n",
    "\n",
    "\n",
    "for k in range(1, 11):\n",
    "    Nlist.append(2**k)\n",
    "\n",
    "for n in Nlist :\n",
    "    x= np.linspace(0, 1, n+1)\n",
    "    y= f(x)\n",
    "\n",
    "    y_mt =my_trapz(x_list, f_list, n)\n",
    "    R= np.abs(y_mt-1/3)/(1/3)\n",
    "    Ylist.append(R)\n",
    "    \n",
    "\n",
    "pyplot.plot(Nlist, Ylist)\n",
    "pyplot.show()\n",
    "\n"
   ]
  },
  {
   "cell_type": "markdown",
   "metadata": {},
   "source": [
    " Quelques applications"
   ]
  },
  {
   "cell_type": "markdown",
   "metadata": {},
   "source": [
    "## Exercice 2: Vitesse d'une flèche\n",
    "\n",
    "<img align=\"center\" src=\"plots/bow.png\" width=\"20%\" />\n",
    "\n",
    "| x (m) | 0.00 | 0.05 | 0.10 | 0.15 | 0.20 | 0.25 | 0.30 | 0.35 | 0.40 | 0.45 | 0.50  \n",
    "|---|---|---|---|---|---|---|---|---|---|---|---|\n",
    "| F (N) | 0 | 37 | 71 | 104 | 134 | 161 | 185 | 207 | 225 | 239 | 250  \n",
    "\n",
    "La force de traction appliquée à la corde d'un arc en fonction de l'allonge est donnée dans la table ci-dessus. Déterminer la vitesse d'une flèche de masse $m=0.075$\\,kg au moment du tir pour une allonge totale de $x_{\\rm max}=0.50$\\,m, en m/s puis en km/h.\n",
    "\n",
    "*Astuce : par conservation de l'énergie mécanique, l'énergie cinétique de la flèche $\\frac{1}{2}mv^2$ est égale au travail du tireur sur la corde $\\int_0^{x_{\\rm max}} F(x){\\rm d}x$.*"
   ]
  },
  {
   "cell_type": "code",
   "execution_count": 40,
   "metadata": {
    "deletable": false,
    "nbgrader": {
     "checksum": "8b9a2cebe51012fc59be5c8056e8c267",
     "grade": true,
     "grade_id": "cell-2cac0802188f5ec5",
     "locked": false,
     "points": 0,
     "schema_version": 1,
     "solution": true
    }
   },
   "outputs": [
    {
     "name": "stdout",
     "output_type": "stream",
     "text": [
      "44.54211490264018\n",
      "160.35161364950466\n"
     ]
    },
    {
     "data": {
      "image/png": "[encoded data removed]",
      "text/plain": [
       "<Figure size 432x288 with 1 Axes>"
      ]
     },
     "metadata": {
      "needs_background": "light"
     },
     "output_type": "display_data"
    }
   ],
   "source": [
    "import numpy as np\n",
    "from scipy import integrate\n",
    "\n",
    "m = 0.075\n",
    "x = np.array([0.00, 0.05, 0.10, 0.15, 0.20, 0.25, 0.30, 0.35, 0.40, 0.45, 0.50])\n",
    "F= np.array([0, 37, 71, 104, 134, 161, 185, 207, 225, 239, 250] )\n",
    "\n",
    "W = integrate.trapz(F, x)\n",
    "\n",
    "v_ms=(2*W/m)**0.5\n",
    "print(v_ms)\n",
    "v_kmh = v*3.6\n",
    "print(v_kmh)\n",
    "\n",
    "y_int = integrate.cumtrapz(F, x, initial = 0)\n",
    "V = (2*y_int/m)**0.5\n",
    "\n",
    "fig= pyplot.figure()\n",
    "pyplot.plot(x, V, 'ro')\n",
    "pyplot.show()"
   ]
  },
  {
   "cell_type": "markdown",
   "metadata": {},
   "source": [
    "## Exercice 3: Intégrale Gaussienne\n",
    "Une distribution Gaussienne centrée sur zéro et de déviation standard est définie par : \n",
    "\n",
    "\\begin{equation}\n",
    "f(x) = C\\times {\\rm exp}(-(x-x_0)^2/2\\sigma^2)\n",
    "\\end{equation}\n",
    "\n",
    "où $x_0=0$, $\\sigma=1$ et où la constante $C$ est fixée de sorte que l'intégrale de la Gaussienne de $-\\infty$ à $+\\infty$ soit égale à 1.\n",
    "\n",
    "1. Vérifier à l'aide d'une intégration par la méthode des trapèzes entre $[-a;a]$ où $a$ est un \"grand\" nombre que $C = 1/\\sqrt{2\\pi*\\sigma}$. On pourra utiliser cette valeur par la suite. *Astuce : afficher la distribution pour déterminer ce que \"grand'' veut dire ici.*\n",
    "2. Quelle est la fraction d'aire sous la courbe entre $[-1\\sigma,+1\\sigma]$ et entre  $[-3\\sigma,+3\\sigma]$?\n",
    "\n",
    "En physique des hautes énergies, on exprime la probabilité $p$ ($p$-value en anglais) qu'un événement de \"signal'' diffère des événements de \"bruit'' en nombre de \"$\\sigma$'' Gaussiens, à l'aide de la relation suivante :\n",
    "\n",
    "\n",
    "\\begin{equation}\n",
    "p = \\int_{n\\sigma}^\\infty f(x){\\rm d}x\n",
    "\\end{equation}\n",
    "\n",
    "\n",
    "On considère souvent qu'un signal vu à \"$3\\sigma$\" est une indication (\"hint\") , à \"$4\\sigma$\" est un élément de preuve (\"evidence'') , et à \"$5\\sigma$\" une détection formelle. Autrement dit, la probabilité $p$ mesure la probabilité qu'un évènement enregistré par les détecteurs d'une expérience soit en réalité un évènement de bruit de fond, même un peu exceptionnel. \n",
    "1. À quelles probabilités correspondent les critères de \"$3\\sigma$\", \"$4\\sigma$\" et \"$5\\sigma$\"?\n",
    "2. La coïncidence spatiale et temporelle de l'onde gravitationnelle GW170817 (issue de la fusion d'étoile à neutrons) et du sursaut gamma GRB170817A a été mesurée avec $p=1.3\\times10^{-5}$. Quelle est le nombre de \"$\\sigma$\" correspondant ?"
   ]
  },
  {
   "cell_type": "code",
   "execution_count": 24,
   "metadata": {
    "deletable": false,
    "nbgrader": {
     "checksum": "d8795ff93c9ab9560591b89097ae04cc",
     "grade": true,
     "grade_id": "cell-751397ec6dcbd9ce",
     "locked": false,
     "points": 0,
     "schema_version": 1,
     "solution": true
    }
   },
   "outputs": [
    {
     "data": {
      "image/png": "[encoded data removed]",
      "text/plain": [
       "<Figure size 432x288 with 1 Axes>"
      ]
     },
     "metadata": {
      "needs_background": "light"
     },
     "output_type": "display_data"
    },
    {
     "name": "stdout",
     "output_type": "stream",
     "text": [
      "1.0\n"
     ]
    }
   ],
   "source": [
    "import numpy as np\n",
    "from scipy import integrate\n",
    "from matplotlib import pyplot\n",
    "\n",
    "Xo = 0\n",
    "s = 1\n",
    "C = 1/ ((2* np.pi*s)**0.5)\n",
    "\n",
    "def f(x):\n",
    "    return C*np.exp(-((x- Xo)**2)/(2*s**2))\n",
    "\n",
    "x = np.linspace(-10, 10, 1000)\n",
    "y =f(x)\n",
    "\n",
    "fig = pyplot.figure()\n",
    "pyplot.plot(x, y)\n",
    "pyplot.show()\n",
    "\n",
    "F = integrate.trapz(y, x)\n",
    "print(F)"
   ]
  },
  {
   "cell_type": "markdown",
   "metadata": {},
   "source": [
    "## Exercice 4: Période d'un pendule simple\n",
    "\n",
    "En l'absence de frottements, les oscillations d'un pendule simple vérifient l'équation différentielle :\n",
    "\\begin{equation}\n",
    "  \\ddot \\theta + \\omega_0^2 \\sin\\theta = 0\n",
    "  \\label{eq:diff}\n",
    "\\end{equation}\n",
    "avec $\\theta$ l'angle entre le pendule et la verticale du lieu.\n",
    "L'équation différentielle ci-dessus n'a pas de solution\n",
    "analytique, mais il est possible de déterminer une expression théorique de la\n",
    "période $T$ du pendule. On peut montrer que :\n",
    "\\begin{equation}\n",
    "  T = \\dfrac{2 \\sqrt{2}}{\\omega_0} \\int_{\\theta=0}^{\\theta_0}\n",
    "  \\dfrac{ {\\rm d}\\; \\theta}{\\sqrt{\\cos\\theta - \\cos\\theta_0}}\n",
    "  \\label{eq:periode}\n",
    "\\end{equation}\n",
    "\n",
    "Cette intégrale n'a pas d'expression analytique simple non plus. \n",
    "On se propose de la calculer numériquement avec python. On pourra prendre\n",
    "$\\omega_0 = 3\\,$rad$\\cdot$s$^{-1}$.\n",
    "\n",
    "\n",
    "\n",
    "1. Calculer la période $T$ des\n",
    "oscillations pour $\\theta_0 = 0,1\\,$rad, pour $\\theta_0 = 3\\,$rad, par la méthode de votre choix.\n",
    "\n",
    "2. Comparer les résultats obtenus aux valeurs qu'on obtient\n",
    "dans l'approximation des petits angles $\\theta \\ll 1$  :  $T =\n",
    "\\dfrac{2 \\pi}{\\omega_0}$.\n",
    "\n",
    "\n",
    "3. Tracer la courbe donnant la période $T$ des oscillations du\n",
    "pendule simple en fonction de l'angle initial $\\theta_0$.\n",
    "\n",
    "Il existe une formule approchée donnant la période du pendule meilleure\n",
    "que la formule pour les petites oscillations ($T =\n",
    "\\dfrac{2\\pi}{\\omega_0}$). Il s'agit de la formule de Borda :\n",
    "\n",
    "\\begin{equation}\n",
    "  T \\simeq \\frac{2 \\pi}{\\omega_0}\\left(1 +\n",
    "  \\dfrac{\\theta_0^2}{16}\\right).\n",
    "  \\label{eq:borda}\n",
    "\\end{equation}\n",
    "\n",
    "4. Compléter le graphe précédent avec la période donnée par la\n",
    "formule de Borda.\n",
    "\n",
    "5. *(Facultatif)* Écrire une fonction \\texttt{borda\\_juste(p)} qui retourne\n",
    "l'angle $\\theta_{\\rm max}$ tel que la formule de Borda  donne le vrai\n",
    "résultat à moins de $p$ pourcent près pour $\\theta < \\theta_{\\rm max}$."
   ]
  },
  {
   "cell_type": "code",
   "execution_count": 73,
   "metadata": {
    "deletable": false,
    "nbgrader": {
     "checksum": "85cf1f2e074e168d28bbac4fcf9ecc30",
     "grade": true,
     "grade_id": "cell-4110f9cf2937e545",
     "locked": false,
     "points": 0,
     "schema_version": 1,
     "solution": true
    }
   },
   "outputs": [
    {
     "name": "stderr",
     "output_type": "stream",
     "text": [
      "/opt/methnum/miniconda3/envs/methnum/lib/python3.7/site-packages/ipykernel_launcher.py:5: RuntimeWarning: invalid value encountered in sqrt\n",
      "  \"\"\"\n",
      "/opt/methnum/miniconda3/envs/methnum/lib/python3.7/site-packages/ipykernel_launcher.py:5: RuntimeWarning: divide by zero encountered in true_divide\n",
      "  \"\"\"\n"
     ]
    },
    {
     "data": {
      "image/png": "[encoded data removed]",
      "text/plain": [
       "<Figure size 432x288 with 1 Axes>"
      ]
     },
     "metadata": {
      "needs_background": "light"
     },
     "output_type": "display_data"
    }
   ],
   "source": [
    "THo = 3\n",
    "Wo = 3\n",
    "\n",
    "def f(Th,THo): \n",
    "    return 1/((np.cos(Th)-np.cos(THo))**0.5)\n",
    "\n",
    "thetalist=np.linspace(0,np.pi/2,100)\n",
    "Tlist=[]\n",
    "T1list=[]\n",
    "for THo in thetalist:\n",
    "    x= np.linspace(0, THo-0.00001, 1000)\n",
    "    y= f(x,THo)\n",
    "\n",
    "    F=integrate.trapz (y, x)\n",
    "    T= F*(2*(2)**0.5)/Wo\n",
    "    T1=(2*np.pi/Wo)*(1+ THo**2/16)\n",
    "    Tlist.append(T)\n",
    "    T1list.append(T1)\n",
    "pyplot.plot(thetalist, Tlist)\n",
    "pyplot.plot(thetalist, T1list)\n",
    "pyplot.show()\n"
   ]
  },
  {
   "cell_type": "markdown",
   "metadata": {},
   "source": [
    "## Exercice 5: Quelques intégrales\n",
    "\n",
    "\n",
    "1. Évaluer $\\int_1^\\infty\\frac{1}{1+x^4}$ par la méthode de votre choix. Comparer au résultat attendu (0.24375). Effectuer numériquement le changement de variable $x^3=1/t$ et évaluer de nouveau cette intégrale.\n",
    "\n",
    "2. Évaluer $\\int_0^1 \\frac{\\sin x}{\\sqrt{x}}$ par la méthode de votre choix. On pourra effectuer un changement de variable approprié."
   ]
  },
  {
   "cell_type": "code",
   "execution_count": null,
   "metadata": {
    "deletable": false,
    "nbgrader": {
     "checksum": "4a345a7c9a745f0ef7d69217d5439cee",
     "grade": true,
     "grade_id": "cell-adf311b28c7885c9",
     "locked": false,
     "points": 0,
     "schema_version": 1,
     "solution": true
    }
   },
   "outputs": [],
   "source": [
    "#LA REPONSE ICI\n",
    "raise NotImplementedError()"
   ]
  }
 ],
 "metadata": {
  "kernelspec": {
   "display_name": "Python 3",
   "language": "python",
   "name": "python3"
  },
  "language_info": {
   "codemirror_mode": {
    "name": "ipython",
    "version": 3
   },
   "file_extension": ".py",
   "mimetype": "text/x-python",
   "name": "python",
   "nbconvert_exporter": "python",
   "pygments_lexer": "ipython3",
   "version": "3.6.7"
  }
 },
 "nbformat": 4,
 "nbformat_minor": 2
}
