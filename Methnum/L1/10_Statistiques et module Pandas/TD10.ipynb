{
 "cells": [
  {
   "cell_type": "markdown",
   "metadata": {},
   "source": [
    "Quelques conseils:\n",
    "- pour exécutez une cellule, cliquez sur le bouton *Exécuter* ci-dessus ou tapez **Shift+Enter**\n",
    "- si l'exécution d'une cellule prend trop de temps, sélectionner dans le menu ci-dessus *Noyau/Interrompre*\n",
    "- en cas de très gros plantage *Noyau/Redémarrer*\n",
    "- **sauvegardez régulièrement vos réponses** en cliquant sur l'icone disquette ci-dessus à gauche, ou *Fichier/Créer une nouvelle sauvegarde*\n",
    "\n",
    "Pour répondre aux questions, remplacer les lignes  \n",
    "```python \n",
    "#LA REPONSE ICI\n",
    "raise NotImplementedError()\n",
    "``` \n",
    "par vos réponses, et remplissez les champs ci-dessous:"
   ]
  },
  {
   "cell_type": "code",
   "execution_count": null,
   "metadata": {},
   "outputs": [],
   "source": [
    "NOM = \"Martinez\"\n",
    "PRENOM = \"Maud\"\n",
    "GROUPE = \"3\"\n",
    "DATE = \"17/04/2019\""
   ]
  },
  {
   "cell_type": "markdown",
   "metadata": {},
   "source": [
    "---"
   ]
  },
  {
   "cell_type": "markdown",
   "metadata": {
    "deletable": false,
    "editable": false,
    "nbgrader": {
     "cell_type": "markdown",
     "checksum": "db89188524562d275796889d9261c885",
     "grade": false,
     "grade_id": "cell-f302e66fcc925b57",
     "locked": true,
     "schema_version": 3,
     "solution": false,
     "task": false
    }
   },
   "source": [
    "# TP 10 : Statistiques et le module Pandas\n",
    "\n",
    "\n",
    "## Exercice 1: Marche aléatoire à 1D:\n",
    "\n",
    "Dans cet exercice il s'agit de simuler une marche aléatoire dans un espace unidimensionnel. Vous pourrez reprendre des parties de code écrites lors des TD précédents. Au début la particule se trouve dans la position $x=0$ et à chaque étape la particule se déplace aléatoirement d'une quantité $dx$ comprise dans l'intervalle [-1,1[.\n",
    "1. Représentez sur un histogramme (voir `pyplot.hist`) la position finale de 300 particules après 600 pas. Calculez la valeur moyenne des positions finales ainsi que l'écart type.\n",
    "2. Définissez une fonction gaussienne \n",
    "\t$$ f(x)= \\frac{A}{\\sqrt{2\\pi}\\sigma}e^{-\\frac{(x-\\bar{x})^2}{2\\sigma^2}}$$\n",
    "Calculez cette fonction dans le domaine des $x$ défini par les extrêmes de votre distribution des positions finales des particules. Vous prendrez pour $\\bar{x}$ et $\\sigma$ la moyenne et l'écart type calculés précédemment. Pour $A$ vous choisirez la valeur:\n",
    "$$A=\\frac{X}{N_{bins}}\\times N_{particules}$$\n",
    "où $X$ est la largeur du domaine des $x$ calculés, $N_{bins}$ est le nombre d'intervalles utilisés pour construire l'histogramme et $N_{particules}$ est le nombre de particules. \n",
    "3. Représentez $f(x)$ sur votre graphique précédent. Que pouvez-vous en déduire sur la distribution des positions finales?"
   ]
  },
  {
   "cell_type": "code",
   "execution_count": 11,
   "metadata": {
    "deletable": false,
    "nbgrader": {
     "cell_type": "code",
     "checksum": "90ca818a832cfe7707adf3d7134eb0df",
     "grade": true,
     "grade_id": "cell-ab2b980123cd7fe0",
     "locked": false,
     "points": 0,
     "schema_version": 3,
     "solution": true
    }
   },
   "outputs": [
    {
     "name": "stdout",
     "output_type": "stream",
     "text": [
      "-0.0035295491506667173 14.254515897893945\n"
     ]
    },
    {
     "data": {
      "image/png": "[encoded data removed]",
      "text/plain": [
       "<Figure size 432x288 with 1 Axes>"
      ]
     },
     "metadata": {
      "needs_background": "light"
     },
     "output_type": "display_data"
    }
   ],
   "source": [
    "import numpy as np\n",
    "from matplotlib import pyplot as pt\n",
    "\n",
    "arrive= []\n",
    "\n",
    "for p in range(301) :\n",
    "    point= 0\n",
    "    for i in range(601) :\n",
    "        dx= np.random.uniform(-1,1)\n",
    "        point += dx\n",
    "         \n",
    "    arrive.append(point)\n",
    "    \n",
    "mu = np.mean(arrive)\n",
    "sigma = np.std(arrive)\n",
    "mini= np.amin(arrive)\n",
    "maxi= np.amax(arrive)\n",
    "print(mu, sigma)\n",
    "inter = 50\n",
    "\n",
    "def f(x) :\n",
    "    \n",
    "    A= (maxi-mini)*300/inter\n",
    "    return A* np.exp(-((x-mu)**2/(2*sigma**2)))/(((2*np.pi)**0.5)*sigma)   \n",
    "\n",
    "X = np.linspace(mini,maxi,300)\n",
    "Y = f(X)\n",
    "\n",
    "fig =pt.figure()\n",
    "pt.hist(arrive, bins= inter)\n",
    "pt.plot(X,Y)\n",
    "pt.show()\n"
   ]
  },
  {
   "cell_type": "markdown",
   "metadata": {
    "deletable": false,
    "editable": false,
    "nbgrader": {
     "cell_type": "markdown",
     "checksum": "c5daaf306b5014744319c335e90ccfe6",
     "grade": false,
     "grade_id": "cell-9ae9dd7be6c3660d",
     "locked": true,
     "schema_version": 3,
     "solution": false,
     "task": false
    }
   },
   "source": [
    "## Exercice 2: Les communes de France:\n",
    "\n",
    " \n",
    "Dans cet exercice il s'agit d'analyser une base de données qui comprend une trentaine d'indicateurs décrivant la population, les logements, les revenus, l'emploi et les établissements des communes de France. \n",
    "Ces données se trouvent dans le fichier communes.csv.\n",
    "Ces données sont librement accessibles également sur le site de l'INSEE (https://www.insee.fr/fr/statistiques/2521169). La librairie pandas est un outils trés puissant: les questions suivantes peuvent être résolues en seulement une ou deux lignes! \n",
    " \n",
    "1. Importer le fichier communes.csv.\n",
    "2. Analyser le titre des colonnes. Re-importer le fichier en utilisant le nom de la commune comme indice de référence pour les lignes.\n",
    "3. Combien de communes y a-t-il en France?\n",
    "4. Quelle est la population de la ville de Nantes?\n",
    "5. Dans quelle région se trouve \"Le Diamant''?\n",
    "6. Comment a évolué la population Française entre 2009 et 2014?\n",
    "7. Donner la moyenne, l'écart-type  et la médiane de la population des communes de France. Pourquoi la moyenne ne donne pas toujours une bonne représentation des données ?\n",
    "8. Combien de communes ont-elles moins de 100 habitants?\n",
    "9. Quelles sont les communes les moins peuplées de France?\n",
    "10. Quelle est la commune la plus peuplée? \n",
    "11. Dériver le bilan migratoire de chaque commune en regard la population en 2014 et en 2009 ainsi que les taux de décès et de naissances pendant cette période. Combien de personnes ont-elles quitté Paris pendant cette période?\n",
    "12. Définir un nouveau DataFrame dans lequel on enregistrera les densités de population des communes et leur département. Nommer les deux colonnes \"Densité'' et \"Département''.\n",
    "13. Quelle est la commune avec la plus haute densité d'habitants en France?\n",
    "14. Grouper les données des communes par département. Quel est le département le plus peuplé? \n",
    "15. Ordonner par ordre croissant les valeurs par département (voir la fonction `sort_values()`) et représenter cette information par un diagramme à barres.\n",
    "16. Grouper les données par région. Représenter sur un diagramme circulaire la population en 2014 des différentes régions. Utiliser le fichier regions2019.csv pour légender le diagramme."
   ]
  },
  {
   "cell_type": "code",
   "execution_count": 64,
   "metadata": {
    "deletable": false,
    "nbgrader": {
     "cell_type": "code",
     "checksum": "81527e65327686bd45c41e9c195ff0f3",
     "grade": true,
     "grade_id": "cell-be6bf50e0c8f954b",
     "locked": false,
     "points": 0,
     "schema_version": 3,
     "solution": true
    }
   },
   "outputs": [
    {
     "name": "stderr",
     "output_type": "stream",
     "text": [
      "/public/methnum/miniconda3/envs/methnum/lib/python3.6/site-packages/IPython/core/interactiveshell.py:2728: DtypeWarning: Columns (2) have mixed types. Specify dtype option on import or set low_memory=False.\n",
      "  interactivity=interactivity, compiler=compiler, result=result)\n"
     ]
    },
    {
     "data": {
      "text/plain": [
       "'Levallois-Perret'"
      ]
     },
     "execution_count": 64,
     "metadata": {},
     "output_type": "execute_result"
    }
   ],
   "source": [
    "import pandas as pd\n",
    "\n",
    "com= pd.read_csv(\"communes.csv\", index_col= 'Nom')\n",
    "\n",
    "#com.shape()\n",
    "#com.loc['Nantes']\n",
    "#com.loc['Le Diamant']\n",
    "\n",
    "#p2009 = com[\"Population en 2009\"].sum() \n",
    "#p2014 = com[\"Population en 2014\"].sum()\n",
    "#evo = p2014 - p2009\n",
    "#print(evo)\n",
    "\n",
    "#com[\"Population en 2014\"].describe()\n",
    "\n",
    "#com100 = com[com[\"Population en 2014\"] < 100]\n",
    "#print(com100.shape)\n",
    "\n",
    "#com00 = com[com[\"Population en 2014\"]<= 0.0]\n",
    "#print(com00)\n",
    "\n",
    "#com[\"Population en 2014\"].idxmax()\n",
    "\n",
    "#bilan_migratoire = com[\"Population en 2014\"]-com[\"Population en 2009\"]- (com[\"Naissances entre 2009 et 2014\"]-com[\"Décès entre 2009 et 2014\"])\n",
    "#print(bilan_migratoire)\n",
    "#bilan_migratoire.loc['Paris']\n",
    "\n",
    "#com\n",
    "densité= com[\"Population en 2014\"]/com[\"Superficie\"]\n",
    "dfDEP= pd.concat( [com[\"Département\"], densité], axis= 1, keys =[\"Département\",\"Densité\"])\n",
    "dfDEP['Densité'].idxmax()\n",
    "\n"
   ]
  },
  {
   "cell_type": "markdown",
   "metadata": {
    "deletable": false,
    "editable": false,
    "nbgrader": {
     "cell_type": "markdown",
     "checksum": "42e730a1c5926235e2c0e7d1b7572b98",
     "grade": false,
     "grade_id": "cell-741a8d6d2329e0d3",
     "locked": true,
     "schema_version": 3,
     "solution": false,
     "task": false
    }
   },
   "source": [
    "## Exercice 3: Les prénoms:\n",
    "\n",
    " \n",
    "Dans cet exercice il s'agit d'analyser une base de données qui porte sur les prénoms donnés à Paris entre 2004 et 2018. \n",
    "Ces données se trouvent dans le fichier liste_des_prenoms.csv.\n",
    "Ces données sont librement accessibles également sur le site opendata de la ville de Paris (https://opendata.paris.fr/explore/dataset/liste_des_prenoms).  \n",
    " \n",
    "1. Importer le fichier liste_des_prenoms.csv.\n",
    "2. Analyser les données contenues dans le fichier. Afficher les 10 premières lignes du fichier (voir `df.head()`).\n",
    "3. Combien de prénoms féminins et masculins y-a-t-il dans ce fichier? Quel est le prénom masculin le plus déclaré ? en quelle année ?\n",
    "Quel est le prénom féminin le plus déclaré ? en quelle année ?\n",
    "4. Combien y-a-t-il de prénoms composés ? (On pourra éventuellement utiliser `Series.str.contains()` du module Pandas.)\n",
    "5. Afficher les données correspondant à votre prénom .\n",
    "6. Afficher Les prénoms épicènes ou mixtes, combien y-en a-t-il? (On pourra éventuellement utiliser `df.merge()` et `Series.duplicated()` du module Pandas.)"
   ]
  },
  {
   "cell_type": "code",
   "execution_count": 70,
   "metadata": {
    "deletable": false,
    "nbgrader": {
     "cell_type": "code",
     "checksum": "b1a783d6e03b859472c2c554c7c4dbac",
     "grade": true,
     "grade_id": "cell-e92be3cbc9f7ac4d",
     "locked": false,
     "points": 0,
     "schema_version": 3,
     "solution": true,
     "task": false
    }
   },
   "outputs": [],
   "source": [
    "pren= pd.read_csv(\"liste_des_prenoms.csv\", sep=\";\")"
   ]
  },
  {
   "cell_type": "code",
   "execution_count": 71,
   "metadata": {},
   "outputs": [
    {
     "name": "stdout",
     "output_type": "stream",
     "text": [
      "<class 'pandas.core.frame.DataFrame'>\n",
      "RangeIndex: 19161 entries, 0 to 19160\n",
      "Data columns (total 5 columns):\n",
      "Nombre                           19161 non-null int64\n",
      "Sexe                             19161 non-null object\n",
      "Annee                            19161 non-null int64\n",
      "Prenoms                          19161 non-null object\n",
      "Nombre total cumule par annee    19161 non-null int64\n",
      "dtypes: int64(3), object(2)\n",
      "memory usage: 748.6+ KB\n"
     ]
    }
   ],
   "source": [
    "pren.info()"
   ]
  },
  {
   "cell_type": "code",
   "execution_count": 72,
   "metadata": {},
   "outputs": [
    {
     "data": {
      "text/html": [
       "<div>\n",
       "<style scoped>\n",
       "    .dataframe tbody tr th:only-of-type {\n",
       "        vertical-align: middle;\n",
       "    }\n",
       "\n",
       "    .dataframe tbody tr th {\n",
       "        vertical-align: top;\n",
       "    }\n",
       "\n",
       "    .dataframe thead th {\n",
       "        text-align: right;\n",
       "    }\n",
       "</style>\n",
       "<table border=\"1\" class=\"dataframe\">\n",
       "  <thead>\n",
       "    <tr style=\"text-align: right;\">\n",
       "      <th></th>\n",
       "      <th>Nombre</th>\n",
       "      <th>Sexe</th>\n",
       "      <th>Annee</th>\n",
       "      <th>Prenoms</th>\n",
       "      <th>Nombre total cumule par annee</th>\n",
       "    </tr>\n",
       "  </thead>\n",
       "  <tbody>\n",
       "    <tr>\n",
       "      <th>0</th>\n",
       "      <td>15</td>\n",
       "      <td>M</td>\n",
       "      <td>2016</td>\n",
       "      <td>Bastien</td>\n",
       "      <td>289</td>\n",
       "    </tr>\n",
       "    <tr>\n",
       "      <th>1</th>\n",
       "      <td>5</td>\n",
       "      <td>F</td>\n",
       "      <td>2006</td>\n",
       "      <td>Baya</td>\n",
       "      <td>5</td>\n",
       "    </tr>\n",
       "    <tr>\n",
       "      <th>2</th>\n",
       "      <td>10</td>\n",
       "      <td>F</td>\n",
       "      <td>2016</td>\n",
       "      <td>Baya</td>\n",
       "      <td>57</td>\n",
       "    </tr>\n",
       "    <tr>\n",
       "      <th>3</th>\n",
       "      <td>5</td>\n",
       "      <td>F</td>\n",
       "      <td>2006</td>\n",
       "      <td>Béatrice</td>\n",
       "      <td>16</td>\n",
       "    </tr>\n",
       "    <tr>\n",
       "      <th>4</th>\n",
       "      <td>5</td>\n",
       "      <td>F</td>\n",
       "      <td>2012</td>\n",
       "      <td>Béatrice</td>\n",
       "      <td>36</td>\n",
       "    </tr>\n",
       "    <tr>\n",
       "      <th>5</th>\n",
       "      <td>7</td>\n",
       "      <td>F</td>\n",
       "      <td>2015</td>\n",
       "      <td>Bella</td>\n",
       "      <td>24</td>\n",
       "    </tr>\n",
       "    <tr>\n",
       "      <th>6</th>\n",
       "      <td>7</td>\n",
       "      <td>M</td>\n",
       "      <td>2017</td>\n",
       "      <td>Ben</td>\n",
       "      <td>122</td>\n",
       "    </tr>\n",
       "    <tr>\n",
       "      <th>7</th>\n",
       "      <td>8</td>\n",
       "      <td>M</td>\n",
       "      <td>2018</td>\n",
       "      <td>Ben</td>\n",
       "      <td>130</td>\n",
       "    </tr>\n",
       "    <tr>\n",
       "      <th>8</th>\n",
       "      <td>117</td>\n",
       "      <td>M</td>\n",
       "      <td>2004</td>\n",
       "      <td>Benjamin</td>\n",
       "      <td>117</td>\n",
       "    </tr>\n",
       "    <tr>\n",
       "      <th>9</th>\n",
       "      <td>88</td>\n",
       "      <td>M</td>\n",
       "      <td>2013</td>\n",
       "      <td>Benjamin</td>\n",
       "      <td>918</td>\n",
       "    </tr>\n",
       "  </tbody>\n",
       "</table>\n",
       "</div>"
      ],
      "text/plain": [
       "   Nombre Sexe  Annee   Prenoms  Nombre total cumule par annee\n",
       "0      15    M   2016   Bastien                            289\n",
       "1       5    F   2006      Baya                              5\n",
       "2      10    F   2016      Baya                             57\n",
       "3       5    F   2006  Béatrice                             16\n",
       "4       5    F   2012  Béatrice                             36\n",
       "5       7    F   2015     Bella                             24\n",
       "6       7    M   2017       Ben                            122\n",
       "7       8    M   2018       Ben                            130\n",
       "8     117    M   2004  Benjamin                            117\n",
       "9      88    M   2013  Benjamin                            918"
      ]
     },
     "execution_count": 72,
     "metadata": {},
     "output_type": "execute_result"
    }
   ],
   "source": [
    "pren.head(10)"
   ]
  },
  {
   "cell_type": "code",
   "execution_count": 80,
   "metadata": {},
   "outputs": [
    {
     "ename": "KeyError",
     "evalue": "'Column not found: False'",
     "output_type": "error",
     "traceback": [
      "\u001b[0;31m---------------------------------------------------------------------------\u001b[0m",
      "\u001b[0;31mKeyError\u001b[0m                                  Traceback (most recent call last)",
      "\u001b[0;32m<ipython-input-80-706e1ec5f33c>\u001b[0m in \u001b[0;36m<module>\u001b[0;34m()\u001b[0m\n\u001b[1;32m      1\u001b[0m \u001b[0mprenon\u001b[0m \u001b[0;34m=\u001b[0m \u001b[0mpren\u001b[0m\u001b[0;34m.\u001b[0m\u001b[0mgroupby\u001b[0m\u001b[0;34m(\u001b[0m\u001b[0;34m\"Prenoms\"\u001b[0m\u001b[0;34m)\u001b[0m\u001b[0;34m\u001b[0m\u001b[0;34m\u001b[0m\u001b[0m\n\u001b[0;32m----> 2\u001b[0;31m \u001b[0mMas\u001b[0m\u001b[0;34m=\u001b[0m\u001b[0mprenon\u001b[0m\u001b[0;34m[\u001b[0m\u001b[0mprenon\u001b[0m\u001b[0;34m[\u001b[0m\u001b[0;34m\"Sexe\"\u001b[0m\u001b[0;34m]\u001b[0m \u001b[0;34m==\u001b[0m \u001b[0;34m\"M\"\u001b[0m\u001b[0;34m]\u001b[0m\u001b[0;34m\u001b[0m\u001b[0;34m\u001b[0m\u001b[0m\n\u001b[0m\u001b[1;32m      3\u001b[0m \u001b[0mFem\u001b[0m\u001b[0;34m=\u001b[0m\u001b[0mprenon\u001b[0m\u001b[0;34m[\u001b[0m\u001b[0mprenon\u001b[0m\u001b[0;34m[\u001b[0m\u001b[0;34m\"Sexe\"\u001b[0m\u001b[0;34m]\u001b[0m \u001b[0;34m==\u001b[0m \u001b[0;34m\"F\"\u001b[0m\u001b[0;34m]\u001b[0m\u001b[0;34m\u001b[0m\u001b[0;34m\u001b[0m\u001b[0m\n\u001b[1;32m      4\u001b[0m \u001b[0;34m\u001b[0m\u001b[0m\n\u001b[1;32m      5\u001b[0m \u001b[0mMas\u001b[0m\u001b[0;34m.\u001b[0m\u001b[0mshape\u001b[0m\u001b[0;34m(\u001b[0m\u001b[0;34m)\u001b[0m\u001b[0;34m\u001b[0m\u001b[0;34m\u001b[0m\u001b[0m\n",
      "\u001b[0;32m/public/methnum/miniconda3/envs/methnum/lib/python3.6/site-packages/pandas/core/base.py\u001b[0m in \u001b[0;36m__getitem__\u001b[0;34m(self, key)\u001b[0m\n\u001b[1;32m    273\u001b[0m         \u001b[0;32melse\u001b[0m\u001b[0;34m:\u001b[0m\u001b[0;34m\u001b[0m\u001b[0;34m\u001b[0m\u001b[0m\n\u001b[1;32m    274\u001b[0m             \u001b[0;32mif\u001b[0m \u001b[0mkey\u001b[0m \u001b[0;32mnot\u001b[0m \u001b[0;32min\u001b[0m \u001b[0mself\u001b[0m\u001b[0;34m.\u001b[0m\u001b[0mobj\u001b[0m\u001b[0;34m:\u001b[0m\u001b[0;34m\u001b[0m\u001b[0;34m\u001b[0m\u001b[0m\n\u001b[0;32m--> 275\u001b[0;31m                 \u001b[0;32mraise\u001b[0m \u001b[0mKeyError\u001b[0m\u001b[0;34m(\u001b[0m\u001b[0;34m\"Column not found: {key}\"\u001b[0m\u001b[0;34m.\u001b[0m\u001b[0mformat\u001b[0m\u001b[0;34m(\u001b[0m\u001b[0mkey\u001b[0m\u001b[0;34m=\u001b[0m\u001b[0mkey\u001b[0m\u001b[0;34m)\u001b[0m\u001b[0;34m)\u001b[0m\u001b[0;34m\u001b[0m\u001b[0;34m\u001b[0m\u001b[0m\n\u001b[0m\u001b[1;32m    276\u001b[0m             \u001b[0;32mreturn\u001b[0m \u001b[0mself\u001b[0m\u001b[0;34m.\u001b[0m\u001b[0m_gotitem\u001b[0m\u001b[0;34m(\u001b[0m\u001b[0mkey\u001b[0m\u001b[0;34m,\u001b[0m \u001b[0mndim\u001b[0m\u001b[0;34m=\u001b[0m\u001b[0;36m1\u001b[0m\u001b[0;34m)\u001b[0m\u001b[0;34m\u001b[0m\u001b[0;34m\u001b[0m\u001b[0m\n\u001b[1;32m    277\u001b[0m \u001b[0;34m\u001b[0m\u001b[0m\n",
      "\u001b[0;31mKeyError\u001b[0m: 'Column not found: False'"
     ]
    }
   ],
   "source": [
    "prenon = pren.groupby(\"Prenoms\")\n",
    "Mas=prenon[prenon[\"Sexe\"] == \"M\"]\n",
    "Fem=prenon[prenon[\"Sexe\"] == \"F\"]\n",
    "\n",
    "Mas.shape()\n",
    "Fem.shape()"
   ]
  },
  {
   "cell_type": "code",
   "execution_count": null,
   "metadata": {},
   "outputs": [],
   "source": []
  }
 ],
 "metadata": {
  "kernelspec": {
   "display_name": "Python 3",
   "language": "python",
   "name": "python3"
  },
  "language_info": {
   "codemirror_mode": {
    "name": "ipython",
    "version": 3
   },
   "file_extension": ".py",
   "mimetype": "text/x-python",
   "name": "python",
   "nbconvert_exporter": "python",
   "pygments_lexer": "ipython3",
   "version": "3.6.7"
  }
 },
 "nbformat": 4,
 "nbformat_minor": 2
}
