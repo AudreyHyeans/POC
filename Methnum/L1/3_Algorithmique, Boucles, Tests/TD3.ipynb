{
 "cells": [
  {
   "cell_type": "markdown",
   "metadata": {},
   "source": [
    "Quelques conseils:\n",
    "- pour exécutez une cellule, cliquez sur le bouton *Exécuter* ci-dessus ou tapez **Shift+Enter**\n",
    "- si l'exécution d'une cellule prend trop de temps, sélectionner dans le menu ci-dessus *Noyau/Interrompre*\n",
    "- en cas de très gros plantage *Noyau/Redémarrer*\n",
    "- **sauvegardez régulièrement vos réponses** en cliquant sur l'icone disquette ci-dessus à gauche, ou *Fichier/Créer une nouvelle sauvegarde*\n",
    "\n",
    "Pour répondre aux questions, remplacer les lignes  \n",
    "```python \n",
    "#LA REPONSE ICI\n",
    "raise NotImplementedError()\n",
    "``` \n",
    "par vos réponses, et remplissez les champs ci-dessous:"
   ]
  },
  {
   "cell_type": "code",
   "execution_count": null,
   "metadata": {},
   "outputs": [],
   "source": [
    "NOM = \"Martinez Almoyna\"\n",
    "PRENOM = \"Maud\"\n",
    "GROUPE = \"3\"\n",
    "DATE = \"06/02/2019\""
   ]
  },
  {
   "cell_type": "markdown",
   "metadata": {},
   "source": [
    "---"
   ]
  },
  {
   "cell_type": "markdown",
   "metadata": {},
   "source": [
    "# TP 3 : Algorithmique, Boucles, Tests\n"
   ]
  },
  {
   "cell_type": "markdown",
   "metadata": {},
   "source": [
    "## Exercice 1: \n",
    "$ \\def\\euro{\\unicode{x20AC}} $\n",
    "On cherche à évaluer nombre d'année à attendre avant que le contenu d'un compte en banque n'atteigne une certaine somme. Demander à l'utilisateur trois valeurs : le montant initial (on suppose un seul dépôt), le taux annuel d'intérêt (par exemple 0.04 pour 4\\%), ainsi que le montant final désiré. Déterminer le nombre d'années nécessaires pour atteindre ce dernier montant.\n",
    "\n",
    "Par exemple, si le montant initial est de 500$\\euro$ et le montant souhaité de 535$\\euro$, pour un taux annuel d'intérêt de 4\\%, le compte en banque contiendra 500$\\euro \\times$1.04=520$\\euro$ après un an, puis 520$\\euro \\times$1.04=540.80$\\euro$ après deux ans, de sorte qu'il aura fallu attendre deux ans."
   ]
  },
  {
   "cell_type": "code",
   "execution_count": 3,
   "metadata": {
    "deletable": false,
    "nbgrader": {
     "checksum": "8a4e015e11c7936f9dd2c6b652eff73a",
     "grade": true,
     "grade_id": "cell-28d50b3ae7039e1e",
     "locked": false,
     "points": 0,
     "schema_version": 1,
     "solution": true
    }
   },
   "outputs": [
    {
     "name": "stdout",
     "output_type": "stream",
     "text": [
      "Saisir le montant initial : 500\n",
      "Saisir le taux annuel d'interet : 0.04\n",
      "Saisir le montant final : 535\n",
      "2\n"
     ]
    }
   ],
   "source": [
    "montant = float(input(\"Saisir le montant initial : \"))\n",
    "taux =1.0 + float(input(\"Saisir le taux annuel d'interet : \"))\n",
    "final = float(input(\"Saisir le montant final : \"))\n",
    "an = 0\n",
    "\n",
    "while montant < final :\n",
    "    an += 1\n",
    "    montant *= taux\n",
    "    \n",
    "print(an)"
   ]
  },
  {
   "cell_type": "markdown",
   "metadata": {},
   "source": [
    "## Exercice 2: \n",
    "On dit souvent qu'une année supplémentaire pour un chien est équivalente à 7 années supplémentaires pour un humain. Cependant, cette simple conversion ne tient pas compte des deux premières années de l'animal au cours desquels il atteint l'âge adulte. On dit parfois qu'il est mieux de compter les deux premières années de l'animal comme équivalant à 9 années humaines, puis les suivantes comme 6.\n",
    "\n",
    "Écrire un programme qui converti les années canines en années humaines.\n",
    "\n",
    "Écrire un programme qui converti les années humaines en années canines."
   ]
  },
  {
   "cell_type": "code",
   "execution_count": 5,
   "metadata": {
    "deletable": false,
    "nbgrader": {
     "checksum": "0cf268a1d2b0de02b470967a513fbebf",
     "grade": true,
     "grade_id": "cell-89b1fc3bfaceeb5c",
     "locked": false,
     "points": 0,
     "schema_version": 1,
     "solution": true
    }
   },
   "outputs": [
    {
     "name": "stdout",
     "output_type": "stream",
     "text": [
      "Saisir un age chien : 6\n",
      "42\n",
      "Saisir un age humain : 77\n",
      "11.833333333333334\n"
     ]
    }
   ],
   "source": [
    "#Converti age chien => age humain\n",
    "chien= int(input(\"Saisir un age chien : \"))\n",
    "\n",
    "if chien <= 2 :\n",
    "    print(9*chien)\n",
    "else :\n",
    "    print(18+ 6*(chien-2))\n",
    "\n",
    "#Converti age humain => age chien\n",
    "humain= int(input(\"Saisir un age humain : \"))\n",
    "\n",
    "if humain <= 18 :\n",
    "    print(humain/9)\n",
    "else :\n",
    "    print(2+ (humain-18)/6)\n",
    "    "
   ]
  },
  {
   "cell_type": "markdown",
   "metadata": {},
   "source": [
    "## Exercice 3: \n",
    "Vous souhaitez imprimer à l'écran un carré vide de taille $n$ x $n$ ou un triangle bas de même taille. Le programme ci-dessous imprime à l'écran un carré plein, après avoir demandé à l'utilisateur la taille de ce carré. Copiez ce programme et exécutez le :\n",
    "```python\n",
    "#Change la taille du carre\n",
    "n = int(input(\"Entrer n : \"))\n",
    "while n<0:\n",
    "  n = int(input(\"Entrer un entier strictement positif : \"))\n",
    "\n",
    "#Imprime a l'ecran\n",
    "for i in range(n):\n",
    "  for j in range(n):\n",
    "    print('*',end=' ')\n",
    "  print('')\n",
    "```\n",
    "\n",
    "*Syntaxe*\n",
    "* Supprimer ```,end=' '? après ```print('*' ?. Que se passe-t-il et pourquoi ? \n",
    " $\\rightarrow$ Revenez à la version initiale\n",
    "* Supprimer la ligne suivante : ```print('') ?. Que se passe-t-il et pourquoi ? \n",
    "$\\rightarrow$ Revenez à la version initiale\n",
    "* Entrer un nombre négatif. Que se passe-t-il et pourquoi ?\n",
    "* Supprimer la boucle while puis entrez un nombre négatif. Que se passe-t-il et pourquoi ? \n",
    "$\\rightarrow$ Revenez à la version initiale\n",
    "\n",
    "* Créer un programme qui n'imprime des étoiles qu'en dessous de la diagonale haut-gauche / bas-droit, incluse.\n",
    "* Créer un programme qui n'imprime des étoiles que sur les bords du carré."
   ]
  },
  {
   "cell_type": "code",
   "execution_count": 20,
   "metadata": {
    "deletable": false,
    "nbgrader": {
     "checksum": "bfddacd764e35af50d88eec042421151",
     "grade": true,
     "grade_id": "cell-eb33f8a72def761f",
     "locked": false,
     "points": 0,
     "schema_version": 1,
     "solution": true
    }
   },
   "outputs": [
    {
     "name": "stdout",
     "output_type": "stream",
     "text": [
      "Entrer n : -3\n"
     ]
    }
   ],
   "source": [
    "#Change la taille du carre\n",
    "n = int(input(\"Entrer n : \"))\n",
    "while n<0:\n",
    "  n = int(input(\"Entrer un entier strictement positif : \"))\n",
    "\n",
    "#Imprime a l'ecran\n",
    "for i in range(n):\n",
    "  for j in range(n):\n",
    "    print('*', end=' ')\n",
    "  print('')"
   ]
  },
  {
   "cell_type": "code",
   "execution_count": 21,
   "metadata": {},
   "outputs": [
    {
     "name": "stdout",
     "output_type": "stream",
     "text": [
      "Entrer n : 7\n",
      "* \n",
      "* * \n",
      "* * * \n",
      "* * * * \n",
      "* * * * * \n",
      "* * * * * * \n",
      "* * * * * * * \n"
     ]
    }
   ],
   "source": [
    "#Change la taille du carre\n",
    "n = int(input(\"Entrer n : \"))\n",
    "while n<0:\n",
    "  n = int(input(\"Entrer un entier strictement positif : \"))\n",
    "m = 0\n",
    "\n",
    "#Imprime a l'ecran\n",
    "for i in range(n):\n",
    "    m += 1\n",
    "    for j in range(m):\n",
    "        print('*', end=' ')\n",
    "    print('')"
   ]
  },
  {
   "cell_type": "code",
   "execution_count": 5,
   "metadata": {},
   "outputs": [
    {
     "name": "stdout",
     "output_type": "stream",
     "text": [
      "Entrer n : 6\n",
      "******\n",
      "*    *\n",
      "*    *\n",
      "*    *\n",
      "*    *\n",
      "******\n"
     ]
    }
   ],
   "source": [
    "#Change la taille du carre\n",
    "n = int(input(\"Entrer n : \")) \n",
    "while n<0:\n",
    "  n = int(input(\"Entrer un entier strictement positif : \")) \n",
    "\n",
    "#Imprime a l'ecran\n",
    "print('*'*n)\n",
    "for i in range(n-2):\n",
    "    print('*',end='')\n",
    "    for j in range(n-2):\n",
    "        print(\" \",end='')\n",
    "    print('*')\n",
    "print('*'*n)"
   ]
  },
  {
   "cell_type": "markdown",
   "metadata": {},
   "source": [
    "## Exercice 4: \n",
    "La plupart des années contiennent 365 jours, cependant la Terre tourne autour du Soleil en un temps un petit peu plus long. Pour remédier à ce problème, notre calendrier contient un jour supplémentaire, le 29 février, toutes les années bissextiles. On détermine si une année est bissextile selon les règles suivantes :\n",
    "* Toute année divisible par 400 est bissextile.\n",
    "* Parmi les autres, toute année divisible par 100 n'est pas bissextile.\n",
    "* Parmi les autres, toute année divisible par 4 est bissextile.\n",
    "* Toute autre année n'est pas bissextile.\n",
    "Écrire un programme qui détermine si unes année est bissextile."
   ]
  },
  {
   "cell_type": "code",
   "execution_count": 11,
   "metadata": {
    "deletable": false,
    "nbgrader": {
     "checksum": "ded7f14229687b15fd21236d64132e76",
     "grade": true,
     "grade_id": "cell-97af6d78ab68bb55",
     "locked": false,
     "points": 0,
     "schema_version": 1,
     "solution": true
    }
   },
   "outputs": [
    {
     "name": "stdout",
     "output_type": "stream",
     "text": [
      "Saisir une année : 600\n",
      "Non bissextile\n"
     ]
    }
   ],
   "source": [
    "an= int(input(\"Saisir une année : \"))\n",
    "\n",
    "if an%400==0 or (not an%100==0 and an%4==0) :\n",
    "    print(\"Bissextile\")\n",
    "else :\n",
    "    print(\"Non bissextile\")"
   ]
  },
  {
   "cell_type": "markdown",
   "metadata": {},
   "source": [
    "## Exercice 5: \n",
    "Écrire un programme qui évalue la validité d'un mot de passe entré par l'utilisateur. Le mot de passe devra :\n",
    "* Contenir au moins un nombre entre 0 et 9.\n",
    "* Contenir au moins un caractère parmi [\\$\\#@].\n",
    "* Contenir au moins une lettre majuscule et une lettre minuscule.\n",
    "* Contenir au moins 6 caractères.\n",
    "* Contenir au plus 16 caractères."
   ]
  },
  {
   "cell_type": "code",
   "execution_count": 34,
   "metadata": {
    "deletable": false,
    "nbgrader": {
     "checksum": "b29ae299a8699558318bd08f8eab02ae",
     "grade": true,
     "grade_id": "cell-35668cb529d899de",
     "locked": false,
     "points": 0,
     "schema_version": 1,
     "solution": true
    }
   },
   "outputs": [
    {
     "name": "stdout",
     "output_type": "stream",
     "text": [
      "Saisir un mot de passe : lkdfhKHY@35jnb\n",
      "non valide\n"
     ]
    }
   ],
   "source": [
    "mot= input(\"Saisir un mot de passe : \")\n",
    "\n",
    "alpha='abcdefghijklmnopqrstuvwxyz'\n",
    "Alpha='ABCDEFGHIJKLMNOPQRSTUVWXYZ'\n",
    "\n",
    "if (6 <= len(mot) <= 16) and (mot.count('$' or '#' or '@') != 0) and (mot.count('0' or '1' or '2' or '3' or '4' or '5' or '6' or '7' or '8' or '9') != 0) :\n",
    "    if mot.count('a' or 'b' or 'c' or 'd' or 'e' or 'f' or 'g' or 'h' or 'i' or 'j' or 'k' or 'l' or 'm' or 'n' or 'o' or 'p' or 'q' or 'r' or 's' or 't' or 'u' or 'v' or 'w' or 'x' or 'y' or 'z') != 0 :\n",
    "        if mot.count('A' or 'B' or 'C' or 'D' or 'E' or 'F' or 'G' or 'H' or 'I' or 'J' or 'K' or 'L' or 'M' or 'N' or 'O' or 'P' or 'Q' or 'R' or 'S' or 'T' or 'U' or 'V' or 'W' or 'X' or 'Y' or 'Z') != 0 :\n",
    "            print('valide')\n",
    "else :\n",
    "    print(\"non valide\")\n",
    "    "
   ]
  },
  {
   "cell_type": "markdown",
   "metadata": {},
   "source": [
    "\n",
    "## Exercice 6: Explosion d'étoile\n",
    "\n",
    "\n",
    "\n",
    "Les hydrogénoides (hydrogène, ou atomes ionisés à un électron) émettent de la lumière à des longueurs d'ondes précises déterminées par la formule de Rydberg, que vous trouverez à la page suivante :\n",
    " https://fr.wikipedia.org/wiki/Formule_de_Rydberg\n",
    "\n",
    "* Après avoir lu avec attention la section Formule de Rydberg pour l'hydrogène de la page wikipédia, écrire un programme qui imprime à l'écran la longueur d'onde des 4 premières raies de la série de Lyman.\n",
    "* Généraliser ce programme pour imprimer la longueur d'onde des 4 premières raies des séries de Lyman, Balmer et Pashen.\n",
    "\n",
    "Le spectre d'émission de la nova (explosion d'étoile) V630 Sgr est montré ci-après. On se focalise pour l'instant sur les raies H, qui correspondent à l'hydrogène. \n",
    "\n",
    "<img align=\"center\" src=\"plots/HydrogenSpectrum.png\" width=\"70%\" />\n",
    "\n",
    "*Spectre d'émission de la nova V630 Sgr. Figure tirée de \"Spectroscopic analysis of tremendous-outburst-nova candidates\", A\\&A 432, 199-205 (2005).*\n",
    "\n",
    "* À quelle série et quelles transitions ces raies de l'hydrogène correspondent-elle ?\n",
    "\n",
    "Vous souhaitez généraliser votre programme pour aussi traiter le cas des hydrogénoides, en particulier l'hélium simplement ionisé (noté HeII en astronomie, HeI étant l'hélium neutre) :\n",
    "\n",
    "* Après avoir lu avec attention la section Généralisation aux hydrogénoïdes, généralisez votre programme précédent pour traiter le cas Z=2.\n",
    "* Déterminez à quelles transitions correspondent les raies HeII observées dans le spectre de la nova V630 Sgr. Qu'en est-il des raies HeI ?"
   ]
  },
  {
   "cell_type": "code",
   "execution_count": 45,
   "metadata": {
    "deletable": false,
    "nbgrader": {
     "checksum": "c34d81f69a8ab9fbe52e8b3c0668af13",
     "grade": true,
     "grade_id": "cell-a134fc217fef1147",
     "locked": false,
     "points": 0,
     "schema_version": 1,
     "solution": true
    }
   },
   "outputs": [
    {
     "name": "stdout",
     "output_type": "stream",
     "text": [
      "1.2160989961735599e-07\n",
      "1.0260835280214413e-07\n",
      "9.72879196938848e-08\n",
      "9.500773407605938e-08\n",
      "\n",
      "6.566934579337223e-07\n",
      "4.864395984694239e-07\n",
      "4.343210700619857e-07\n",
      "4.104334112085765e-07\n",
      "\n",
      "1.8762670226677783e-06\n",
      "1.282604410026802e-06\n",
      "1.094489096556204e-06\n",
      "1.0055618574610125e-06\n",
      "\n",
      "\n",
      "3.0390044432556946e-08\n",
      "2.5641599989969926e-08\n",
      "2.4312035546045557e-08\n",
      "2.374222221293512e-08\n",
      "\n",
      "1.6410623993580753e-07\n",
      "1.2156017773022778e-07\n",
      "1.0853587297341767e-07\n",
      "1.025663999598797e-07\n",
      "\n",
      "4.688749712451644e-07\n",
      "3.2051999987462416e-07\n",
      "2.735103998930125e-07\n",
      "2.512876799017053e-07\n",
      "\n",
      "\n"
     ]
    }
   ],
   "source": [
    "#N2 = int(input(\"Saisir N2 : \"))\n",
    "Rh = 1.097 * pow(10, 7)\n",
    "\n",
    "for Z in range(1,3) :\n",
    "    Rm=(Z**2*Rh)/(1+9.109e-4/(1.67*Z**2))\n",
    "    for N1 in range(1,4):\n",
    "        for N2 in range(N1+1, N1+5) :\n",
    "            print(1/ (Rm*(1/N1**2-1/N2**2)))\n",
    "        print('')\n",
    "    print('')"
   ]
  },
  {
   "cell_type": "markdown",
   "metadata": {},
   "source": [
    "\n",
    "\n",
    "## Exercice 7: Fibonacci ou la démultiplication des lapins\n",
    "\n",
    "\n",
    "Fibonacci est un mathématicien italien du 13ème siècle qui publia en 1202 le Liber Abaci, où il introduit pour la première fois en Occident le calcul décimal à l'aide des notations indo-arabes, à une époque où ses contemporains utlisent encore les chiffres romains. Fibonnaci s'est en particulier inspiré des traités de Al-Khwarizmi (9ème siècle) dont le nom a donné le mot \"algorithme''.\n",
    "\n",
    "Fibonnaci s'intéresse, entre autre, à l'évolution d'une population idéale de lapins et crée une suite mathématique pour évaluer le nombre total de couples de lapins après $n$ phases de procréation. Un extrait de la page https://fr.wikipedia.org/wiki/Suite_de_Fibonacci se trouve ci après.\n",
    "\n",
    "Le problème de Fibonacci est à l'origine de la suite dont le $n$-ième terme correspond au nombre de paires de lapins au $n$-ième mois. Dans cette population (idéale), on suppose que :\n",
    "* au (début du) premier mois, il y a juste une paire de lapereaux ;\n",
    "* les lapereaux ne procréent qu'à partir du (début du) troisième mois ;\n",
    "* chaque (début de) mois, toute paire susceptible de procréer engendre effectivement une nouvelle paire de lapereaux ;\n",
    "* les lapins ne meurent jamais (donc la suite de Fibonacci est croissante).\n",
    "\n",
    "Notons $F_n$ le nombre de couples de lapins au début du mois $n$. Jusqu'à la fin du deuxième mois, la population se limite à un couple (i.e. $F_1=F_2=1$). \n",
    "\n",
    "Dès le début du troisième mois, le couple de lapins a deux mois et il engendre un autre couple de lapins, i.e. $F_3=2$. \n",
    "\n",
    "Plaçons-nous maintenant au mois $n$ et cherchons à exprimer ce qu'il en sera deux mois plus tard, soit au mois $n + 2$ : $F_{n+2}$ désigne la somme des couples de lapins au mois $n + 1$ et des couples nouvellement engendrés. \n",
    "\n",
    "Or, n'engendrent au mois $n+2$ que les couples pubères, c'est-à-dire ceux qui existent deux mois auparavant. On a donc, pour tout entier $n$ strictement positif :\n",
    "$F_{n+2}=F_{n+1}+F_n$.\n",
    "On choisit alors de poser $F_0=0$, de manière que cette équation soit encore vérifiée pour $n = 0$. Les termes de cette suite sont appelés \"nombres de Fibonacci''.\n",
    "\n",
    "Créer une liste contenant les nombres de Fibonacci de 0 à $n$, où $n$ est demandé à l'utilisateur.  Vérifier que $F_{25}=75025$."
   ]
  },
  {
   "cell_type": "code",
   "execution_count": 50,
   "metadata": {
    "deletable": false,
    "nbgrader": {
     "checksum": "d69b4459c64f060b3204e809f5470b2a",
     "grade": true,
     "grade_id": "cell-24e757552e384e93",
     "locked": false,
     "points": 0,
     "schema_version": 1,
     "solution": true
    }
   },
   "outputs": [
    {
     "name": "stdout",
     "output_type": "stream",
     "text": [
      "Saisir n : 1\n",
      "[0, 1]\n"
     ]
    }
   ],
   "source": [
    "n=int(input('Saisir n : '))\n",
    "\n",
    "if n==0 :\n",
    "    Fibo= [0]\n",
    "else :\n",
    "    Fibo = [0, 1]\n",
    "    Fa = 0\n",
    "    Fb =1\n",
    "    for i in range(2, n+1) :\n",
    "        Fc= Fa + Fb\n",
    "        Fa=Fb\n",
    "        Fb=Fc\n",
    "        Fibo.append(Fc)\n",
    "print(Fibo)"
   ]
  },
  {
   "cell_type": "markdown",
   "metadata": {},
   "source": [
    "La suite de Fibonnaci possède la propriété suivante :\n",
    "\\begin{equation}\n",
    "F_n=\\sum_{k\\in\\mathbb{N}}{n-1-k\\choose k}\n",
    "\\end{equation}\n",
    "\n",
    "Créer une liste contenant les nombres de Fibonacci évalués comme somme de coefficient binomiaux. Vous pourrez vous aider de la librairie ```scipy``` et de la fonction ```scipy.special.binom(n,k)```. Comparer à l'écran les termes de la suite évalués à l'aide de l'approche précédente."
   ]
  },
  {
   "cell_type": "code",
   "execution_count": 51,
   "metadata": {
    "deletable": false,
    "nbgrader": {
     "checksum": "885cfe9aa3e805303e1823ffbd40a344",
     "grade": true,
     "grade_id": "cell-c6057efba4bd0ae5",
     "locked": false,
     "points": 0,
     "schema_version": 1,
     "solution": true
    }
   },
   "outputs": [
    {
     "ename": "SyntaxError",
     "evalue": "invalid syntax (<ipython-input-51-a330cd45ffcf>, line 1)",
     "output_type": "error",
     "traceback": [
      "\u001b[0;36m  File \u001b[0;32m\"<ipython-input-51-a330cd45ffcf>\"\u001b[0;36m, line \u001b[0;32m1\u001b[0m\n\u001b[0;31m    import(scipy)\u001b[0m\n\u001b[0m          ^\u001b[0m\n\u001b[0;31mSyntaxError\u001b[0m\u001b[0;31m:\u001b[0m invalid syntax\n"
     ]
    }
   ],
   "source": [
    "import(scipy)"
   ]
  },
  {
   "cell_type": "markdown",
   "metadata": {},
   "source": [
    "On peut démontrer que les nombres de Fibonacci sont équivalents à $\\frac{\\varphi^n}{\\sqrt5}$ pour \"n suffisamment grand'', où $\\varphi=\\frac{1+\\sqrt5}{2}$ est le nombre d'or.\n",
    "\n",
    "Créer un programme évaluant $\\varphi$ à partir du dernier élément de la liste des nombres de Fibonacci et des fonctions standards de la librairie ```math```. \n",
    "\n",
    "Comparer le résultat obtenu à l'aide la formule $\\varphi=\\frac{1+\\sqrt5}{2}$. À partir de quel ordre obtient on une précision inférieure à 1\\% sur le nombre d'or ? de 1 pour un million ? Dans la pratique, que signifie donc \"n suffisamment grand'' ?"
   ]
  },
  {
   "cell_type": "code",
   "execution_count": null,
   "metadata": {
    "deletable": false,
    "nbgrader": {
     "checksum": "98440fb02e89e0b00c84d58b71f8c02f",
     "grade": true,
     "grade_id": "cell-9938395ee5bddc30",
     "locked": false,
     "points": 0,
     "schema_version": 1,
     "solution": true
    }
   },
   "outputs": [],
   "source": [
    "#LA REPONSE ICI\n",
    "raise NotImplementedError()"
   ]
  },
  {
   "cell_type": "markdown",
   "metadata": {},
   "source": [
    " ## Pour s'entrainer en s'amusant\n",
    "\n",
    "Le projet Euler https://projecteuler.net/  propose une série de jeux mathématiques à résoudre à l'aide petits programmes. Les problèmes sont rangés par ordre de difficulté croissante dans la page `Archives`. Les trois premiers sont tout à fait à votre portée. Si vous souhaitez participer, rajoutez-moi dans vos `Friends` à l'aide de la clé `1271675_E2HzEOc72smbozal1AJ0VZqEkyejKGhZ`\n",
    "\n",
    "\n",
    "La plateforme https://adventofcode.com/ propose une aventure dont vous êtes le héros si vous parvenez à cracker un certain nombre d'énigmes à l'aide de la programmation. Les problèmes sont plus difficiles que dans le projet Euler mais aussi plus intéressant !"
   ]
  }
 ],
 "metadata": {
  "kernelspec": {
   "display_name": "Python 3",
   "language": "python",
   "name": "python3"
  },
  "language_info": {
   "codemirror_mode": {
    "name": "ipython",
    "version": 3
   },
   "file_extension": ".py",
   "mimetype": "text/x-python",
   "name": "python",
   "nbconvert_exporter": "python",
   "pygments_lexer": "ipython3",
   "version": "3.8.6"
  }
 },
 "nbformat": 4,
 "nbformat_minor": 2
}
