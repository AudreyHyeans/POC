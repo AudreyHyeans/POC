{
 "cells": [
  {
   "cell_type": "markdown",
   "metadata": {},
   "source": [
    "Quelques conseils:\n",
    "- pour exécutez une cellule, cliquez sur le bouton *Exécuter* ci-dessus ou tapez **Shift+Enter**\n",
    "- si l'exécution d'une cellule prend trop de temps, sélectionner dans le menu ci-dessus *Noyau/Interrompre*\n",
    "- en cas de très gros plantage *Noyau/Redémarrer*\n",
    "- **sauvegardez régulièrement vos réponses** en cliquant sur l'icone disquette ci-dessus à gauche, ou *Fichier/Créer une nouvelle sauvegarde*\n",
    "\n",
    "Pour répondre aux questions, remplacer les lignes  \n",
    "```python \n",
    "#LA REPONSE ICI\n",
    "raise NotImplementedError()\n",
    "``` \n",
    "par vos réponses, et remplissez les champs ci-dessous:"
   ]
  },
  {
   "cell_type": "code",
   "execution_count": 1,
   "metadata": {},
   "outputs": [],
   "source": [
    "NOM = \"Martinez Almoyna\"\n",
    "PRENOM = \"Maud\"\n",
    "GROUPE = \"3\"\n",
    "DATE = \"23/01/19\""
   ]
  },
  {
   "cell_type": "markdown",
   "metadata": {},
   "source": [
    "---"
   ]
  },
  {
   "cell_type": "markdown",
   "metadata": {},
   "source": [
    "# TP 1 : Généralités sur Linux et Python \n",
    "\n",
    "\n",
    "\n",
    " Pour se mettre en jambes\n",
    "\n",
    "\n",
    "## Exercice 1:  B.A. BA du shell\n",
    "\n",
    "\n",
    "1. Ouvrir un navigateur de fichier. Se placer dans son home et y créer un dossier `MethNum`.\n",
    "2. Se déplacer dans le shell : ouvrir un terminal, taper la commande pwd pour connaître l’emplacement courant. A l’aide de la commande `cd` \\~`/MethNum` vous pouvez vous rendre dans le dossier `MethNum`.\n",
    "3. La commande `ls -lhrt` permet de visualiser le contenu de ce dossier. \n",
    "4. La commande `mkdir mon_dossier` permet de créer un dossier qui s’appellera `mon_dossier`. S’en servir pour créer un dossier `TP1`.\n",
    "5. Télécharger dans le dossier `MethNum/TP1`, le code `double_pendulum_animated.py` à l’adresse : http://matplotlib.org/examples/animation/double_pendulum_animated.py. Ouvrir un terminal et se rendre dans ce dossier. Exécuter le code python à l’aide de la commande python `double_pendulum_animated.py`. \n",
    "\n",
    "## Exercice 2: \n",
    "Voici quelques commandes pour commencer à utiliser l'interpréteur (dans la console). Cherchez à comprendre le résultat obtenu et les éventuels messages d'erreur. \n",
    "\n",
    "a) Affectation d'une variable.\n",
    "```python\n",
    ">>> x=10\n",
    ">>> y=5\n",
    ">>> x+y\n",
    "```"
   ]
  },
  {
   "cell_type": "code",
   "execution_count": 1,
   "metadata": {},
   "outputs": [
    {
     "data": {
      "text/plain": [
       "15"
      ]
     },
     "execution_count": 1,
     "metadata": {},
     "output_type": "execute_result"
    }
   ],
   "source": [
    ">>> x=10\n",
    ">>> y=5\n",
    ">>> x+y"
   ]
  },
  {
   "cell_type": "markdown",
   "metadata": {},
   "source": [
    "b) Fonctions mathématiques: tapez les commandes suivantes et observez les résultats.\n",
    "```python\n",
    ">>> import math\n",
    ">>> help(math)\n",
    ">>> import numpy as np\n",
    ">>> math.pi\n",
    ">>> np.pi\n",
    ">>> pow(math.sin(2.5),2)+pow(math.cos(2.5),2)\n",
    ">>> math.sin(2.5)**2+math.cos(2.5)**2\n",
    ">>> np.sin(2.5)**2+np.cos(2.5)**2\n",
    ">>> math.exp(math.log(3))\n",
    ">>> math.sqrt(-1)\n",
    ">>> np.sqrt(-1)\n",
    "```"
   ]
  },
  {
   "cell_type": "code",
   "execution_count": 3,
   "metadata": {},
   "outputs": [],
   "source": [
    ">>> import math"
   ]
  },
  {
   "cell_type": "code",
   "execution_count": 4,
   "metadata": {},
   "outputs": [
    {
     "name": "stdout",
     "output_type": "stream",
     "text": [
      "Help on module math:\n",
      "\n",
      "NAME\n",
      "    math\n",
      "\n",
      "MODULE REFERENCE\n",
      "    https://docs.python.org/3.6/library/math\n",
      "    \n",
      "    The following documentation is automatically generated from the Python\n",
      "    source files.  It may be incomplete, incorrect or include features that\n",
      "    are considered implementation detail and may vary between Python\n",
      "    implementations.  When in doubt, consult the module reference at the\n",
      "    location listed above.\n",
      "\n",
      "DESCRIPTION\n",
      "    This module is always available.  It provides access to the\n",
      "    mathematical functions defined by the C standard.\n",
      "\n",
      "FUNCTIONS\n",
      "    acos(...)\n",
      "        acos(x)\n",
      "        \n",
      "        Return the arc cosine (measured in radians) of x.\n",
      "    \n",
      "    acosh(...)\n",
      "        acosh(x)\n",
      "        \n",
      "        Return the inverse hyperbolic cosine of x.\n",
      "    \n",
      "    asin(...)\n",
      "        asin(x)\n",
      "        \n",
      "        Return the arc sine (measured in radians) of x.\n",
      "    \n",
      "    asinh(...)\n",
      "        asinh(x)\n",
      "        \n",
      "        Return the inverse hyperbolic sine of x.\n",
      "    \n",
      "    atan(...)\n",
      "        atan(x)\n",
      "        \n",
      "        Return the arc tangent (measured in radians) of x.\n",
      "    \n",
      "    atan2(...)\n",
      "        atan2(y, x)\n",
      "        \n",
      "        Return the arc tangent (measured in radians) of y/x.\n",
      "        Unlike atan(y/x), the signs of both x and y are considered.\n",
      "    \n",
      "    atanh(...)\n",
      "        atanh(x)\n",
      "        \n",
      "        Return the inverse hyperbolic tangent of x.\n",
      "    \n",
      "    ceil(...)\n",
      "        ceil(x)\n",
      "        \n",
      "        Return the ceiling of x as an Integral.\n",
      "        This is the smallest integer >= x.\n",
      "    \n",
      "    copysign(...)\n",
      "        copysign(x, y)\n",
      "        \n",
      "        Return a float with the magnitude (absolute value) of x but the sign \n",
      "        of y. On platforms that support signed zeros, copysign(1.0, -0.0) \n",
      "        returns -1.0.\n",
      "    \n",
      "    cos(...)\n",
      "        cos(x)\n",
      "        \n",
      "        Return the cosine of x (measured in radians).\n",
      "    \n",
      "    cosh(...)\n",
      "        cosh(x)\n",
      "        \n",
      "        Return the hyperbolic cosine of x.\n",
      "    \n",
      "    degrees(...)\n",
      "        degrees(x)\n",
      "        \n",
      "        Convert angle x from radians to degrees.\n",
      "    \n",
      "    erf(...)\n",
      "        erf(x)\n",
      "        \n",
      "        Error function at x.\n",
      "    \n",
      "    erfc(...)\n",
      "        erfc(x)\n",
      "        \n",
      "        Complementary error function at x.\n",
      "    \n",
      "    exp(...)\n",
      "        exp(x)\n",
      "        \n",
      "        Return e raised to the power of x.\n",
      "    \n",
      "    expm1(...)\n",
      "        expm1(x)\n",
      "        \n",
      "        Return exp(x)-1.\n",
      "        This function avoids the loss of precision involved in the direct evaluation of exp(x)-1 for small x.\n",
      "    \n",
      "    fabs(...)\n",
      "        fabs(x)\n",
      "        \n",
      "        Return the absolute value of the float x.\n",
      "    \n",
      "    factorial(...)\n",
      "        factorial(x) -> Integral\n",
      "        \n",
      "        Find x!. Raise a ValueError if x is negative or non-integral.\n",
      "    \n",
      "    floor(...)\n",
      "        floor(x)\n",
      "        \n",
      "        Return the floor of x as an Integral.\n",
      "        This is the largest integer <= x.\n",
      "    \n",
      "    fmod(...)\n",
      "        fmod(x, y)\n",
      "        \n",
      "        Return fmod(x, y), according to platform C.  x % y may differ.\n",
      "    \n",
      "    frexp(...)\n",
      "        frexp(x)\n",
      "        \n",
      "        Return the mantissa and exponent of x, as pair (m, e).\n",
      "        m is a float and e is an int, such that x = m * 2.**e.\n",
      "        If x is 0, m and e are both 0.  Else 0.5 <= abs(m) < 1.0.\n",
      "    \n",
      "    fsum(...)\n",
      "        fsum(iterable)\n",
      "        \n",
      "        Return an accurate floating point sum of values in the iterable.\n",
      "        Assumes IEEE-754 floating point arithmetic.\n",
      "    \n",
      "    gamma(...)\n",
      "        gamma(x)\n",
      "        \n",
      "        Gamma function at x.\n",
      "    \n",
      "    gcd(...)\n",
      "        gcd(x, y) -> int\n",
      "        greatest common divisor of x and y\n",
      "    \n",
      "    hypot(...)\n",
      "        hypot(x, y)\n",
      "        \n",
      "        Return the Euclidean distance, sqrt(x*x + y*y).\n",
      "    \n",
      "    isclose(...)\n",
      "        isclose(a, b, *, rel_tol=1e-09, abs_tol=0.0) -> bool\n",
      "        \n",
      "        Determine whether two floating point numbers are close in value.\n",
      "        \n",
      "           rel_tol\n",
      "               maximum difference for being considered \"close\", relative to the\n",
      "               magnitude of the input values\n",
      "            abs_tol\n",
      "               maximum difference for being considered \"close\", regardless of the\n",
      "               magnitude of the input values\n",
      "        \n",
      "        Return True if a is close in value to b, and False otherwise.\n",
      "        \n",
      "        For the values to be considered close, the difference between them\n",
      "        must be smaller than at least one of the tolerances.\n",
      "        \n",
      "        -inf, inf and NaN behave similarly to the IEEE 754 Standard.  That\n",
      "        is, NaN is not close to anything, even itself.  inf and -inf are\n",
      "        only close to themselves.\n",
      "    \n",
      "    isfinite(...)\n",
      "        isfinite(x) -> bool\n",
      "        \n",
      "        Return True if x is neither an infinity nor a NaN, and False otherwise.\n",
      "    \n",
      "    isinf(...)\n",
      "        isinf(x) -> bool\n",
      "        \n",
      "        Return True if x is a positive or negative infinity, and False otherwise.\n",
      "    \n",
      "    isnan(...)\n",
      "        isnan(x) -> bool\n",
      "        \n",
      "        Return True if x is a NaN (not a number), and False otherwise.\n",
      "    \n",
      "    ldexp(...)\n",
      "        ldexp(x, i)\n",
      "        \n",
      "        Return x * (2**i).\n",
      "    \n",
      "    lgamma(...)\n",
      "        lgamma(x)\n",
      "        \n",
      "        Natural logarithm of absolute value of Gamma function at x.\n",
      "    \n",
      "    log(...)\n",
      "        log(x[, base])\n",
      "        \n",
      "        Return the logarithm of x to the given base.\n",
      "        If the base not specified, returns the natural logarithm (base e) of x.\n",
      "    \n",
      "    log10(...)\n",
      "        log10(x)\n",
      "        \n",
      "        Return the base 10 logarithm of x.\n",
      "    \n",
      "    log1p(...)\n",
      "        log1p(x)\n",
      "        \n",
      "        Return the natural logarithm of 1+x (base e).\n",
      "        The result is computed in a way which is accurate for x near zero.\n",
      "    \n",
      "    log2(...)\n",
      "        log2(x)\n",
      "        \n",
      "        Return the base 2 logarithm of x.\n",
      "    \n",
      "    modf(...)\n",
      "        modf(x)\n",
      "        \n",
      "        Return the fractional and integer parts of x.  Both results carry the sign\n",
      "        of x and are floats.\n",
      "    \n",
      "    pow(...)\n",
      "        pow(x, y)\n",
      "        \n",
      "        Return x**y (x to the power of y).\n",
      "    \n",
      "    radians(...)\n",
      "        radians(x)\n",
      "        \n",
      "        Convert angle x from degrees to radians.\n",
      "    \n",
      "    sin(...)\n",
      "        sin(x)\n",
      "        \n",
      "        Return the sine of x (measured in radians).\n",
      "    \n",
      "    sinh(...)\n",
      "        sinh(x)\n",
      "        \n",
      "        Return the hyperbolic sine of x.\n",
      "    \n",
      "    sqrt(...)\n",
      "        sqrt(x)\n",
      "        \n",
      "        Return the square root of x.\n",
      "    \n",
      "    tan(...)\n",
      "        tan(x)\n",
      "        \n",
      "        Return the tangent of x (measured in radians).\n",
      "    \n",
      "    tanh(...)\n",
      "        tanh(x)\n",
      "        \n",
      "        Return the hyperbolic tangent of x.\n",
      "    \n",
      "    trunc(...)\n",
      "        trunc(x:Real) -> Integral\n",
      "        \n",
      "        Truncates x to the nearest Integral toward 0. Uses the __trunc__ magic method.\n",
      "\n",
      "DATA\n",
      "    e = 2.718281828459045\n",
      "    inf = inf\n",
      "    nan = nan\n",
      "    pi = 3.141592653589793\n",
      "    tau = 6.283185307179586\n",
      "\n",
      "FILE\n",
      "    /public/methnum/miniconda3/envs/methnum/lib/python3.6/lib-dynload/math.cpython-36m-x86_64-linux-gnu.so\n",
      "\n",
      "\n"
     ]
    }
   ],
   "source": [
    ">>> help(math)"
   ]
  },
  {
   "cell_type": "code",
   "execution_count": 5,
   "metadata": {},
   "outputs": [],
   "source": [
    ">>> import numpy as np"
   ]
  },
  {
   "cell_type": "code",
   "execution_count": 15,
   "metadata": {},
   "outputs": [
    {
     "ename": "ValueError",
     "evalue": "math domain error",
     "output_type": "error",
     "traceback": [
      "\u001b[0;31m---------------------------------------------------------------------------\u001b[0m",
      "\u001b[0;31mValueError\u001b[0m                                Traceback (most recent call last)",
      "\u001b[0;32m<ipython-input-15-d89971a7b21c>\u001b[0m in \u001b[0;36m<module>\u001b[0;34m()\u001b[0m\n\u001b[1;32m      6\u001b[0m \u001b[0mnp\u001b[0m\u001b[0;34m.\u001b[0m\u001b[0msin\u001b[0m\u001b[0;34m(\u001b[0m\u001b[0;36m2.5\u001b[0m\u001b[0;34m)\u001b[0m\u001b[0;34m**\u001b[0m\u001b[0;36m2\u001b[0m\u001b[0;34m+\u001b[0m\u001b[0mnp\u001b[0m\u001b[0;34m.\u001b[0m\u001b[0mcos\u001b[0m\u001b[0;34m(\u001b[0m\u001b[0;36m2.5\u001b[0m\u001b[0;34m)\u001b[0m\u001b[0;34m**\u001b[0m\u001b[0;36m2\u001b[0m\u001b[0;34m\u001b[0m\u001b[0;34m\u001b[0m\u001b[0m\n\u001b[1;32m      7\u001b[0m \u001b[0mmath\u001b[0m\u001b[0;34m.\u001b[0m\u001b[0mexp\u001b[0m\u001b[0;34m(\u001b[0m\u001b[0mmath\u001b[0m\u001b[0;34m.\u001b[0m\u001b[0mlog\u001b[0m\u001b[0;34m(\u001b[0m\u001b[0;36m3\u001b[0m\u001b[0;34m)\u001b[0m\u001b[0;34m)\u001b[0m\u001b[0;34m\u001b[0m\u001b[0;34m\u001b[0m\u001b[0m\n\u001b[0;32m----> 8\u001b[0;31m \u001b[0mmath\u001b[0m\u001b[0;34m.\u001b[0m\u001b[0msqrt\u001b[0m\u001b[0;34m(\u001b[0m\u001b[0;34m-\u001b[0m\u001b[0;36m1\u001b[0m\u001b[0;34m)\u001b[0m\u001b[0;34m\u001b[0m\u001b[0;34m\u001b[0m\u001b[0m\n\u001b[0m\u001b[1;32m      9\u001b[0m \u001b[0mnp\u001b[0m\u001b[0;34m.\u001b[0m\u001b[0msqrt\u001b[0m\u001b[0;34m(\u001b[0m\u001b[0;34m-\u001b[0m\u001b[0;36m1\u001b[0m\u001b[0;34m)\u001b[0m\u001b[0;34m\u001b[0m\u001b[0;34m\u001b[0m\u001b[0m\n",
      "\u001b[0;31mValueError\u001b[0m: math domain error"
     ]
    }
   ],
   "source": [
    ">>> import numpy as np\n",
    ">>> math.pi\n",
    ">>> np.pi\n",
    ">>> pow(math.sin(2.5),2)+pow(math.cos(2.5),2)\n",
    ">>> math.sin(2.5)**2+math.cos(2.5)**2\n",
    ">>> np.sin(2.5)**2+np.cos(2.5)**2\n",
    ">>> math.exp(math.log(3))\n",
    ">>> math.sqrt(-1)\n",
    ">>> np.sqrt(-1)"
   ]
  },
  {
   "cell_type": "markdown",
   "metadata": {},
   "source": [
    "**A partir de maintenant vous allez écrire vos propres programmes dans le Jupyter Notebook.**\n",
    "\n",
    "## Exercice 3: \n",
    "Écrire un programme, qui permet à l’utilisateur de saisir successivement trois variables : une variable de type texte, une variable de type nombre entier, une variable de type nombre décimal et qui affiche leur type et leur valeur."
   ]
  },
  {
   "cell_type": "code",
   "execution_count": 18,
   "metadata": {
    "deletable": false,
    "nbgrader": {
     "checksum": "69d31ef5710962217476e2fd46c5c5df",
     "grade": true,
     "grade_id": "cell-635343fa6b8a26fa",
     "locked": false,
     "points": 1,
     "schema_version": 1,
     "solution": true
    }
   },
   "outputs": [
    {
     "name": "stdout",
     "output_type": "stream",
     "text": [
      "Rentrer du texte : 051\n",
      "Rentrer un entier : 81\n",
      "Rentrer un décimal : 8.5\n",
      "051\n",
      "81\n",
      "8.5\n"
     ]
    }
   ],
   "source": [
    ">>> a = input(\"Rentrer du texte : \")\n",
    ">>> b = int(input(\"Rentrer un entier : \"))\n",
    ">>> c = float(input(\"Rentrer un décimal : \"))\n",
    ">>> type(a)\n",
    ">>> print(a)\n",
    ">>> type(b)\n",
    ">>> print(b)\n",
    ">>> type(c)\n",
    ">>> print(c)              "
   ]
  },
  {
   "cell_type": "markdown",
   "metadata": {},
   "source": [
    "## Exercice 4: \n",
    "Écrire un programme qui demande :\n",
    "1. un angle en degrés et le convertit en radians.\n",
    "2. un angle en radians et le convertit en degrés.\n",
    "Tester le programme avec $\\pi/4$."
   ]
  },
  {
   "cell_type": "code",
   "execution_count": 26,
   "metadata": {
    "deletable": false,
    "nbgrader": {
     "checksum": "b8b252f10b3ed0ab912009c790261954",
     "grade": true,
     "grade_id": "cell-7bcf63f282d8b3be",
     "locked": false,
     "points": 1,
     "schema_version": 1,
     "solution": true
    }
   },
   "outputs": [
    {
     "name": "stdout",
     "output_type": "stream",
     "text": [
      "Rentrer un angle en degrés : 90\n",
      "1.5707963267948966\n"
     ]
    }
   ],
   "source": [
    "d = float(input(\"Rentrer un angle en degrés : \"))\n",
    "print(d*math.pi/180)\n"
   ]
  },
  {
   "cell_type": "code",
   "execution_count": 56,
   "metadata": {},
   "outputs": [
    {
     "name": "stdout",
     "output_type": "stream",
     "text": [
      "45.0\n"
     ]
    }
   ],
   "source": [
    "e = math.pi/4\n",
    "print(e*180/math.pi)"
   ]
  },
  {
   "cell_type": "markdown",
   "metadata": {},
   "source": [
    "## Exercice 5: \n",
    "Écrire un programme qui affiche \"Bonjour le monde\"."
   ]
  },
  {
   "cell_type": "code",
   "execution_count": 33,
   "metadata": {
    "deletable": false,
    "nbgrader": {
     "checksum": "26f47b630df3cbf62c17f4189b25b6e3",
     "grade": true,
     "grade_id": "cell-17c81655a466eff1",
     "locked": false,
     "points": 1,
     "schema_version": 1,
     "solution": true
    }
   },
   "outputs": [
    {
     "name": "stdout",
     "output_type": "stream",
     "text": [
      "Bonjour le monde\n"
     ]
    }
   ],
   "source": [
    "print(\"Bonjour le monde\")"
   ]
  },
  {
   "cell_type": "markdown",
   "metadata": {},
   "source": [
    "## Exercice 6: \n",
    "Écrire un programme qui permet de saisir le nom de l'utilisateur et de renvoyer \"Bonjour\", suivi de ce nom."
   ]
  },
  {
   "cell_type": "code",
   "execution_count": 35,
   "metadata": {
    "deletable": false,
    "nbgrader": {
     "checksum": "877b9b06848fd975555856a7a9e0810e",
     "grade": true,
     "grade_id": "cell-659ec2becd9391ea",
     "locked": false,
     "points": 1,
     "schema_version": 1,
     "solution": true
    }
   },
   "outputs": [
    {
     "name": "stdout",
     "output_type": "stream",
     "text": [
      "Saisir le nom de l'utilisateurJupiter\n",
      "Bonjour Jupiter\n"
     ]
    }
   ],
   "source": [
    "nom = input(\"Saisir le nom de l'utilisateur\")\n",
    "print(\"Bonjour \" + nom)"
   ]
  },
  {
   "cell_type": "markdown",
   "metadata": {},
   "source": [
    "## Exercice 7: \n",
    "Écrire un programme qui demande à l'utilisateur la saisie de deux nombres a et b et affiche la somme de a et de b."
   ]
  },
  {
   "cell_type": "code",
   "execution_count": 37,
   "metadata": {
    "deletable": false,
    "nbgrader": {
     "checksum": "97558d587ae24cb4b271cf572af49fe5",
     "grade": true,
     "grade_id": "cell-861895e1bd017628",
     "locked": false,
     "points": 1,
     "schema_version": 1,
     "solution": true
    }
   },
   "outputs": [
    {
     "name": "stdout",
     "output_type": "stream",
     "text": [
      "Saisir a : 32.4\n",
      "Saisir b : 62.5\n",
      "94.9\n"
     ]
    }
   ],
   "source": [
    "a = float(input(\"Saisir a : \"))\n",
    "b = float(input(\"Saisir b : \"))\n",
    "print(a+b)"
   ]
  },
  {
   "cell_type": "markdown",
   "metadata": {},
   "source": [
    "## Exercice 8: \n",
    "Écrire un programme qui demande à l'utilisateur son année de naissance et qui affiche son âge. L'année courante sera mise dans une variable."
   ]
  },
  {
   "cell_type": "code",
   "execution_count": 38,
   "metadata": {
    "deletable": false,
    "nbgrader": {
     "checksum": "713a60d6cea740a35c2306c8607a88ad",
     "grade": true,
     "grade_id": "cell-b0c3d5ec83d666f5",
     "locked": false,
     "points": 1,
     "schema_version": 1,
     "solution": true
    }
   },
   "outputs": [
    {
     "name": "stdout",
     "output_type": "stream",
     "text": [
      "Saisir l'année de naissance : 2000\n",
      "19\n"
     ]
    }
   ],
   "source": [
    "auj = 2019\n",
    "an = int(input(\"Saisir l'année de naissance : \"))\n",
    "print(auj - an)"
   ]
  },
  {
   "cell_type": "markdown",
   "metadata": {},
   "source": [
    "## Exercice 9: \n",
    "Écrire un programme qui demande à l'utilisateur les coordonnées de deux points dans le plan et qui calcule puis affiche la distance entre ces deux points selon la formule :     \n",
    "$$\n",
    "d = \\sqrt{(x_2-x_1)^2+(y_2-y_1)^2}.\n",
    "$$"
   ]
  },
  {
   "cell_type": "code",
   "execution_count": 41,
   "metadata": {
    "deletable": false,
    "nbgrader": {
     "checksum": "e5f5f59577aaac4cfb4b7fd77d7b0967",
     "grade": true,
     "grade_id": "cell-98b763364c6264df",
     "locked": false,
     "points": 1,
     "schema_version": 1,
     "solution": true
    }
   },
   "outputs": [
    {
     "name": "stdout",
     "output_type": "stream",
     "text": [
      "Entrer x1 : 4.0\n",
      "Entrer y1 : 5.3\n",
      "Entrer x2 : 4.0\n",
      "Entrer y2 : 8\n",
      "2.7\n"
     ]
    }
   ],
   "source": [
    "x1 = float(input(\"Entrer x1 : \"))\n",
    "y1 = float(input(\"Entrer y1 : \"))\n",
    "x2 = float(input(\"Entrer x2 : \"))\n",
    "y2 = float(input(\"Entrer y2 : \"))\n",
    "d = math.sqrt(pow((x2-x1), 2) + pow((y2-y1), 2))\n",
    "print(d)"
   ]
  },
  {
   "cell_type": "markdown",
   "metadata": {},
   "source": [
    "## Exercice 10: \n",
    "Écrire un programme qui demande deux nombres, forme un nombre complexe avec ceux-ci (partie réelle et partie imaginaire) puis affiche le nombre complexe, sa partie réelle et sa partie imaginaire. \n",
    "\n",
    "En python, le nombre imaginaire $i$ est représenté par `j`."
   ]
  },
  {
   "cell_type": "code",
   "execution_count": 46,
   "metadata": {
    "deletable": false,
    "nbgrader": {
     "checksum": "9c0ebb1c92b1b9d5df5997a2c145d709",
     "grade": true,
     "grade_id": "cell-e9187b99a92c0f6f",
     "locked": false,
     "points": 1,
     "schema_version": 1,
     "solution": true
    }
   },
   "outputs": [
    {
     "name": "stdout",
     "output_type": "stream",
     "text": [
      "Saisir R : 6\n",
      "Saisir I : 5\n",
      "(6+5j)\n",
      "6.0\n",
      "5.0\n"
     ]
    }
   ],
   "source": [
    "R = float(input(\"Saisir R : \"))\n",
    "I = float(input(\"Saisir I : \"))\n",
    "C = complex(R, I)\n",
    "print(C)\n",
    "print(R)\n",
    "print(I)"
   ]
  },
  {
   "cell_type": "markdown",
   "metadata": {},
   "source": [
    "## Exercice 11: \n",
    "Écrire un programme qui ajoute, soustrait, multiplie et divise des nombres complexes. Vérifier les résultats."
   ]
  },
  {
   "cell_type": "code",
   "execution_count": 47,
   "metadata": {
    "deletable": false,
    "nbgrader": {
     "checksum": "0d6814aceb611562c1a005d6316d77e0",
     "grade": true,
     "grade_id": "cell-2b114f80eaa168c3",
     "locked": false,
     "points": 1,
     "schema_version": 1,
     "solution": true
    }
   },
   "outputs": [
    {
     "name": "stdout",
     "output_type": "stream",
     "text": [
      "Entrer a, un complexe : 7+5j\n",
      "Entrer b, un complexe : 8+2j\n",
      "(15+7j)\n",
      "(-1+3j)\n",
      "(46+54j)\n",
      "(0.9705882352941176+0.38235294117647056j)\n"
     ]
    }
   ],
   "source": [
    "a = complex(input(\"Entrer a, un complexe : \"))\n",
    "b = complex(input(\"Entrer b, un complexe : \"))\n",
    "print(a+b)\n",
    "print(a-b)\n",
    "print(a*b)\n",
    "print(a/b)"
   ]
  },
  {
   "cell_type": "markdown",
   "metadata": {},
   "source": [
    "## Exercice 12: \n",
    "Écrire un programme qui calcule le module et l'argument d'un nombre complexe. Vérifier le résultat avec $(1+i)/\\sqrt{2}$."
   ]
  },
  {
   "cell_type": "code",
   "execution_count": 55,
   "metadata": {
    "deletable": false,
    "nbgrader": {
     "checksum": "c9f6038cf173bf1ecfa9b3ae0ecfe71a",
     "grade": true,
     "grade_id": "cell-4e3509939ab7f67e",
     "locked": false,
     "points": 1,
     "schema_version": 1,
     "solution": true
    }
   },
   "outputs": [
    {
     "name": "stdout",
     "output_type": "stream",
     "text": [
      "1.09868411346781\n",
      "0.871611162253873\n"
     ]
    }
   ],
   "source": [
    "a = (1+1j)/math.sqrt(2)\n",
    "d = math.sqrt(a.real**2 + a.imag)\n",
    "print(d)\n",
    "g = math.acos(a.real / d)\n",
    "print(g)"
   ]
  },
  {
   "cell_type": "markdown",
   "metadata": {},
   "source": [
    "## Exercice 13:  À vol d'oiseau\n",
    "\n",
    "Écrire un programme qui calcule la distance entre deux points à la surface de la Terre à partir de leurs latitudes $\\phi_A,\\ \\phi_B$ et longitudes $\\lambda_A,\\ \\lambda_B$. En coordonnées sphériques, la distance **angulaire**, $\\theta_{AB}$, entre ces deux points est telle que:\n",
    "\\begin{equation*}\n",
    "\\cos\\theta_{AB} = \\sin\\phi_A\\sin\\phi_B + \\cos\\phi_A\\cos\\phi_B\\cos(\\lambda_B-\\lambda_A)\n",
    "\\end{equation*}\n",
    "\n",
    "Paris, Londres et New-York sont respectivement situées aux coordonnées ($48.86^\\circ$ N, $2.35^\\circ$ E), ($51.51^\\circ$ N, $0.13^\\circ$ W) et ($40.71^\\circ$ N, $74.01^\\circ$ W). Calculer la distance entre Paris et Londres puis entre Paris et New York (attention aux signes, attention aussi à la donnée manquante). \n",
    "\n",
    "La distance à vol d'oiseau entre Paris et Londres est d'environ 344 km et celle entre Paris et New-York d'environ 5681 km. Vos résultats sont-ils cohérents ? Expliquez les éventuelles différences."
   ]
  },
  {
   "cell_type": "code",
   "execution_count": 73,
   "metadata": {
    "deletable": false,
    "nbgrader": {
     "checksum": "e763c8eb7a8c01f91f147529cb51a8e4",
     "grade": true,
     "grade_id": "cell-07c5ad63443ed0e5",
     "locked": false,
     "points": 1,
     "schema_version": 1,
     "solution": true
    }
   },
   "outputs": [
    {
     "name": "stdout",
     "output_type": "stream",
     "text": [
      "343.4740657388719\n"
     ]
    }
   ],
   "source": [
    "lat1 = math.radians(48.86)\n",
    "lon1 = math.radians(2.35)\n",
    "lat2 = math.radians(51.51)\n",
    "lon2 = math.radians(-0.13)\n",
    "ang = math.acos( math.sin(lat1)*math.sin(lat2) + math.cos(lat1)*math.cos(lat2)*math.cos(lon2-lon1) )\n",
    "d = ang*6371\n",
    "print(d)"
   ]
  },
  {
   "cell_type": "markdown",
   "metadata": {},
   "source": [
    "## Exercice 14: \n",
    "Une tortue est disponible en standard sous Python. Elle n'est pas très rapide, même pour une tortue, mais permet de réaliser des figures intéressantes.\n",
    "\n",
    "Voici un exemple d'utilisation du module  `mobilechelonian` de Python : \n",
    "\n",
    "```python\n",
    "from mobilechelonian import Turtle\n",
    "t = Turtle()\n",
    "\n",
    "t.speed(5)\n",
    "colours=[\"red\",\"blue\",\"yellow\",\"brown\",\"black\",\"purple\",\"green\"]\n",
    "\n",
    "t.penup()\n",
    "t.left(90)\n",
    "t.forward(200)\n",
    "t.right(90)\n",
    "t.pendown()\n",
    "\n",
    "for i in range (0,18):\n",
    "    t.pencolor(colours[i%7])\n",
    "    t.right(20)\n",
    "    t.forward(50)\n",
    "\n",
    "t.right(180)\n",
    "t.home()\n",
    "```\n",
    "\n",
    "La documentation est disponible est tapant dans une cellule \n",
    "```python\n",
    "from mobilechelonian import Turtle\n",
    "Turtle??\n",
    "```\n",
    "\n",
    "1. Ecrire un programme qui trace un carré.\n",
    "1. Ecrire un programme qui trace un triangle équilatéral.\n",
    "2. Ecrire un programme qui trace un hexagone.\n",
    "3. Ecrire un programme qui trace des triangles de tailles croissantes, de même avec des carrés.\n",
    "1. Ecrire un programme qui demande un nombre de côtés et trace n'importe quel polygône régulier."
   ]
  },
  {
   "cell_type": "code",
   "execution_count": 76,
   "metadata": {
    "deletable": false,
    "nbgrader": {
     "checksum": "785843c208a63927c6a76dd6d122b3e2",
     "grade": true,
     "grade_id": "cell-e2412747376b931b",
     "locked": false,
     "points": 1,
     "schema_version": 1,
     "solution": true
    }
   },
   "outputs": [
    {
     "data": {
      "application/vnd.jupyter.widget-view+json": {
       "model_id": "52d15ae096e0492798a357ebbcf3e3b1",
       "version_major": 2,
       "version_minor": 0
      },
      "text/plain": [
       "Turtle()"
      ]
     },
     "metadata": {},
     "output_type": "display_data"
    }
   ],
   "source": [
    "from mobilechelonian import Turtle\n",
    "t = Turtle()\n",
    "\n",
    "t.speed(5)\n",
    "colours=[\"red\",\"blue\",\"yellow\",\"brown\",\"black\",\"purple\",\"green\"]\n",
    "\n",
    "t.penup()\n",
    "t.left(90)\n",
    "t.forward(200)\n",
    "t.right(90)\n",
    "t.pendown()\n",
    "\n",
    "for i in range (0,18):\n",
    "    t.pencolor(colours[i%7])\n",
    "    t.right(20)\n",
    "    t.forward(50)\n",
    "\n",
    "t.right(180)\n",
    "t.home()"
   ]
  },
  {
   "cell_type": "code",
   "execution_count": 77,
   "metadata": {
    "deletable": false,
    "nbgrader": {
     "checksum": "afed251906a61e97b6c41e21e228c65c",
     "grade": true,
     "grade_id": "cell-df64f6ed4f82541e",
     "locked": false,
     "points": 0,
     "schema_version": 1,
     "solution": true
    }
   },
   "outputs": [],
   "source": [
    "from mobilechelonian import Turtle\n",
    "Turtle??"
   ]
  },
  {
   "cell_type": "code",
   "execution_count": 87,
   "metadata": {
    "deletable": false,
    "nbgrader": {
     "checksum": "d87f1ad0d761c8f3c9f1f0ad268efb47",
     "grade": true,
     "grade_id": "cell-55b875ff2d13f929",
     "locked": false,
     "points": 0,
     "schema_version": 1,
     "solution": true
    }
   },
   "outputs": [
    {
     "data": {
      "application/vnd.jupyter.widget-view+json": {
       "model_id": "fda3f562a50e42f8bbca21c603378449",
       "version_major": 2,
       "version_minor": 0
      },
      "text/plain": [
       "Turtle()"
      ]
     },
     "metadata": {},
     "output_type": "display_data"
    }
   ],
   "source": [
    "from mobilechelonian import Turtle\n",
    "t = Turtle()\n",
    "\n",
    "t.speed(5)\n",
    "t.forward(100)\n",
    "t.right(90)\n",
    "t.forward(100)\n",
    "t.right(90)\n",
    "t.forward(100)\n",
    "t.right(90)\n",
    "t.forward(100)"
   ]
  },
  {
   "cell_type": "code",
   "execution_count": 84,
   "metadata": {
    "deletable": false,
    "nbgrader": {
     "checksum": "70cdd093b0d0b91487bb51b20cb2a239",
     "grade": true,
     "grade_id": "cell-7db47847143c95f7",
     "locked": false,
     "points": 0,
     "schema_version": 1,
     "solution": true
    }
   },
   "outputs": [
    {
     "data": {
      "application/vnd.jupyter.widget-view+json": {
       "model_id": "2522d54afe8d4d25bc1db4eac278962c",
       "version_major": 2,
       "version_minor": 0
      },
      "text/plain": [
       "Turtle()"
      ]
     },
     "metadata": {},
     "output_type": "display_data"
    }
   ],
   "source": [
    "from mobilechelonian import Turtle\n",
    "t = Turtle()\n",
    "\n",
    "t.speed(5)\n",
    "t.forward(100)\n",
    "t.left(120)\n",
    "t.forward(100)\n",
    "t.left(120)\n",
    "t.forward(100)\n"
   ]
  },
  {
   "cell_type": "code",
   "execution_count": 86,
   "metadata": {
    "deletable": false,
    "nbgrader": {
     "checksum": "889e5c07aeefd23c83f53cc2dc64f725",
     "grade": true,
     "grade_id": "cell-3c4047764aaae555",
     "locked": false,
     "points": 0,
     "schema_version": 1,
     "solution": true
    }
   },
   "outputs": [
    {
     "data": {
      "application/vnd.jupyter.widget-view+json": {
       "model_id": "828a7de805864833880cf63d8e2db8a7",
       "version_major": 2,
       "version_minor": 0
      },
      "text/plain": [
       "Turtle()"
      ]
     },
     "metadata": {},
     "output_type": "display_data"
    }
   ],
   "source": [
    "from mobilechelonian import Turtle\n",
    "t = Turtle()\n",
    "\n",
    "t.speed(5)\n",
    "t.forward(100)\n",
    "t.left(60)\n",
    "t.forward(100)\n",
    "t.left(60)\n",
    "t.forward(100)\n",
    "t.left(60)\n",
    "t.forward(100)\n",
    "t.left(60)\n",
    "t.forward(100)\n",
    "t.left(60)\n",
    "t.forward(100)\n"
   ]
  },
  {
   "cell_type": "code",
   "execution_count": 92,
   "metadata": {},
   "outputs": [
    {
     "data": {
      "application/vnd.jupyter.widget-view+json": {
       "model_id": "b848999ca3a74992bc72fd83b43111f1",
       "version_major": 2,
       "version_minor": 0
      },
      "text/plain": [
       "Turtle()"
      ]
     },
     "metadata": {},
     "output_type": "display_data"
    }
   ],
   "source": [
    "from mobilechelonian import Turtle\n",
    "t = Turtle()\n",
    "\n",
    "t.speed(5)\n",
    "\n",
    "for i in range (1,4):\n",
    "    t.forward(30*i)\n",
    "    t.left(120)\n",
    "    t.forward(30*i)\n",
    "    t.left(120)\n",
    "    t.forward(30*i)\n",
    "    t.left(120)\n"
   ]
  },
  {
   "cell_type": "code",
   "execution_count": 93,
   "metadata": {},
   "outputs": [
    {
     "data": {
      "application/vnd.jupyter.widget-view+json": {
       "model_id": "3cbb86f89cfc47a9b546fa947c21687e",
       "version_major": 2,
       "version_minor": 0
      },
      "text/plain": [
       "Turtle()"
      ]
     },
     "metadata": {},
     "output_type": "display_data"
    }
   ],
   "source": [
    "from mobilechelonian import Turtle\n",
    "t = Turtle()\n",
    "\n",
    "t.speed(5)\n",
    "\n",
    "for i in range (1,4):\n",
    "    t.forward(20*i)\n",
    "    t.right(90)\n",
    "    t.forward(20*i)\n",
    "    t.right(90)\n",
    "    t.forward(20*i)\n",
    "    t.right(90)\n",
    "    t.forward(20*i)\n",
    "    t.right(90)"
   ]
  },
  {
   "cell_type": "code",
   "execution_count": 96,
   "metadata": {},
   "outputs": [
    {
     "name": "stdout",
     "output_type": "stream",
     "text": [
      "Nombres de cotes : 5\n"
     ]
    },
    {
     "data": {
      "application/vnd.jupyter.widget-view+json": {
       "model_id": "fa5fade06559427899bfe26a99ec3a22",
       "version_major": 2,
       "version_minor": 0
      },
      "text/plain": [
       "Turtle()"
      ]
     },
     "metadata": {},
     "output_type": "display_data"
    }
   ],
   "source": [
    "n = int(input(\"Nombres de cotes : \"))\n",
    "\n",
    "from mobilechelonian import Turtle\n",
    "t = Turtle()\n",
    "\n",
    "t.speed(5)\n",
    "\n",
    "for i in range (0,n):\n",
    "    t.forward(50)\n",
    "    t.right(360/n)"
   ]
  },
  {
   "cell_type": "code",
   "execution_count": null,
   "metadata": {},
   "outputs": [],
   "source": []
  }
 ],
 "metadata": {
  "kernelspec": {
   "display_name": "Python 3",
   "language": "python",
   "name": "python3"
  },
  "language_info": {
   "codemirror_mode": {
    "name": "ipython",
    "version": 3
   },
   "file_extension": ".py",
   "mimetype": "text/x-python",
   "name": "python",
   "nbconvert_exporter": "python",
   "pygments_lexer": "ipython3",
   "version": "3.6.7"
  }
 },
 "nbformat": 4,
 "nbformat_minor": 2
}
