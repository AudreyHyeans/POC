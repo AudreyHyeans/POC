{
 "cells": [
  {
   "cell_type": "markdown",
   "metadata": {},
   "source": [
    "Quelques conseils:\n",
    "- pour exécutez une cellule, cliquez sur le bouton *Exécuter* ci-dessus ou tapez **Shift+Enter**\n",
    "- si l'exécution d'une cellule prend trop de temps, sélectionner dans le menu ci-dessus *Noyau/Interrompre*\n",
    "- en cas de très gros plantage *Noyau/Redémarrer*\n",
    "- **sauvegardez régulièrement vos réponses** en cliquant sur l'icone disquette ci-dessus à gauche, ou *Fichier/Créer une nouvelle sauvegarde*\n",
    "\n",
    "Pour répondre aux questions, remplacer les lignes ci-dessous par vos réponses: \n",
    "```python \n",
    "#LA REPONSE ICI\n",
    "raise NotImplementedError()\n",
    "``` \n"
   ]
  },
  {
   "cell_type": "markdown",
   "metadata": {},
   "source": [
    "---"
   ]
  },
  {
   "cell_type": "markdown",
   "metadata": {},
   "source": [
    "Quelques conseils:\n",
    "- pour exécutez une cellule, cliquez sur le bouton *Exécuter* ci-dessus ou tapez **Ctrl+Enter**\n",
    "- si l'exécution d'une cellule prend trop de temps, sélectionner dans le menu ci-dessus *Noyau/Interrompre*\n",
    "- en cas de très gros plantage *Noyau/Redémarrer*\n",
    "- **sauvegardez régulièrement vos réponses** en cliquant sur l'icone disquette ci-dessus à gauche, ou *Fichier/Créer une nouvelle sauvegarde*\n",
    "\n",
    "Pour répondre aux questions, remplacer les lignes ci-dessous par vos réponses: \n",
    "```python \n",
    "#LA REPONSE ICI\n",
    "raise NotImplementedError()\n",
    "``` \n"
   ]
  },
  {
   "cell_type": "markdown",
   "metadata": {},
   "source": [
    "# TD 9: Révisions\n",
    "\n",
    "## TD3 - Exercice 4 : matrice de Vandermonde\n",
    "\n",
    "La matrice de Vandermonde est une matrice avec une progression géométrique dans chaque ligne. est une matrice carrée de taille $n\\times n$ de la forme suivante:\n",
    "$$ V={\\begin{pmatrix}1&\\alpha _{1}&{\\alpha _{1}}^{2}&\\dots &{\\alpha _{1}}^{{n-1}}\\\\1&\\alpha _{2}&{\\alpha _{2}}^{2}&\\dots &{\\alpha _{2}}^{{n-1}}\\\\1&\\alpha _{3}&{\\alpha _{3}}^{2}&\\dots &{\\alpha _{3}}^{{n-1}}\\\\\\vdots &\\vdots &\\vdots &&\\vdots \\\\1&\\alpha _{m}&{\\alpha _{m}}^{2}&\\dots &{\\alpha _{m}}^{{n-1}}\\\\\\end{pmatrix}} $$\n",
    "Dans la suite on s'intéressse uniquement aux matrices de Vandermonde carrées ($m=n$)\n",
    "\n",
    "- Créer une matrice de Vandermonde de taille $N=8$ en prenant $\\alpha_i=i$.\n"
   ]
  },
  {
   "cell_type": "code",
   "execution_count": 33,
   "metadata": {},
   "outputs": [],
   "source": [
    "import numpy as np\n",
    "import time\n",
    "import matplotlib.pyplot as plt"
   ]
  },
  {
   "cell_type": "code",
   "execution_count": 10,
   "metadata": {
    "deletable": false,
    "nbgrader": {
     "cell_type": "code",
     "checksum": "0e7a6a0eb7d9a49bb305b7c018338eb5",
     "grade": true,
     "grade_id": "cell-557431c09d4a1ab0",
     "locked": false,
     "points": 0,
     "schema_version": 3,
     "solution": true,
     "task": false
    }
   },
   "outputs": [
    {
     "name": "stdout",
     "output_type": "stream",
     "text": [
      "[[1.000000e+00 1.000000e+00 1.000000e+00 1.000000e+00 1.000000e+00\n",
      "  1.000000e+00 1.000000e+00 1.000000e+00]\n",
      " [1.000000e+00 2.000000e+00 4.000000e+00 8.000000e+00 1.600000e+01\n",
      "  3.200000e+01 6.400000e+01 1.280000e+02]\n",
      " [1.000000e+00 3.000000e+00 9.000000e+00 2.700000e+01 8.100000e+01\n",
      "  2.430000e+02 7.290000e+02 2.187000e+03]\n",
      " [1.000000e+00 4.000000e+00 1.600000e+01 6.400000e+01 2.560000e+02\n",
      "  1.024000e+03 4.096000e+03 1.638400e+04]\n",
      " [1.000000e+00 5.000000e+00 2.500000e+01 1.250000e+02 6.250000e+02\n",
      "  3.125000e+03 1.562500e+04 7.812500e+04]\n",
      " [1.000000e+00 6.000000e+00 3.600000e+01 2.160000e+02 1.296000e+03\n",
      "  7.776000e+03 4.665600e+04 2.799360e+05]\n",
      " [1.000000e+00 7.000000e+00 4.900000e+01 3.430000e+02 2.401000e+03\n",
      "  1.680700e+04 1.176490e+05 8.235430e+05]\n",
      " [1.000000e+00 8.000000e+00 6.400000e+01 5.120000e+02 4.096000e+03\n",
      "  3.276800e+04 2.621440e+05 2.097152e+06]]\n"
     ]
    }
   ],
   "source": [
    "def VanderI(N):\n",
    "    y=np.arange(1,9)\n",
    "    V= np.zeros((8,8))\n",
    "    for i in np.arange(0,8):\n",
    "        V[i]= y**i\n",
    "    V=np.transpose(V)\n",
    "    return V\n",
    "\n",
    "V8=VanderI(8)\n",
    "print(V8)"
   ]
  },
  {
   "cell_type": "markdown",
   "metadata": {},
   "source": [
    "- Calculer son déterminant avec `numpy`. Vérifier que celui-ci est nul si deux $\\alpha_i$ sont égaux."
   ]
  },
  {
   "cell_type": "code",
   "execution_count": 13,
   "metadata": {
    "deletable": false,
    "nbgrader": {
     "cell_type": "code",
     "checksum": "29ba37759b737d34788b62d385cc68d6",
     "grade": true,
     "grade_id": "cell-7625423e5cc9a358",
     "locked": false,
     "points": 0,
     "schema_version": 3,
     "solution": true,
     "task": false
    }
   },
   "outputs": [
    {
     "name": "stdout",
     "output_type": "stream",
     "text": [
      "125411327999.87553\n",
      "-0.01203976571560576\n"
     ]
    }
   ],
   "source": [
    "V8=VanderI(8)\n",
    "det=np.linalg.det(V8)\n",
    "print(det)\n",
    "\n",
    "V8[6]=V8[2]\n",
    "det=np.linalg.det(V8)\n",
    "print(det)"
   ]
  },
  {
   "cell_type": "markdown",
   "metadata": {},
   "source": [
    "- Un calcul classique d'algèbre en licence consiste à prouver que le déterminant d'une matrice de Vandermonde a pour formule analytique:\n",
    "$$   \\det(V)=\\prod _{{1\\leq i<j\\leq n}}(\\alpha _{j}-\\alpha _{i}) $$\n",
    "Créer une fonction qui `determinant_analtyique(V)` qui calcule le déterminant d'une matrice de Vandermonde `V` par la formule analytique."
   ]
  },
  {
   "cell_type": "code",
   "execution_count": 30,
   "metadata": {
    "deletable": false,
    "nbgrader": {
     "cell_type": "code",
     "checksum": "66716338c0c844fe4cb714ac044733c8",
     "grade": true,
     "grade_id": "cell-2afe0bc2516582ae",
     "locked": false,
     "points": 0,
     "schema_version": 3,
     "solution": true,
     "task": false
    }
   },
   "outputs": [],
   "source": [
    "def deter_ana(V) :\n",
    "    n=len(V)\n",
    "    det =1\n",
    "    for j in range(n):\n",
    "        for i in range(j+1,n):\n",
    "            det = det * (V[j][1]-V[i][1])\n",
    "    return det\n",
    "    "
   ]
  },
  {
   "cell_type": "markdown",
   "metadata": {},
   "source": [
    "- Comparer le résultat obtenu par cette formule et celui fourni par `numpy` pour des tailles de matrice `N` allant de 2 à 20. On présentera la différence relative sous forme de graphique."
   ]
  },
  {
   "cell_type": "code",
   "execution_count": 38,
   "metadata": {
    "deletable": false,
    "nbgrader": {
     "cell_type": "code",
     "checksum": "ed53ad2980e08b34124fdd43816924be",
     "grade": true,
     "grade_id": "cell-6a7cad8d209e413e",
     "locked": false,
     "points": 0,
     "schema_version": 3,
     "solution": true,
     "task": false
    }
   },
   "outputs": [
    {
     "name": "stdout",
     "output_type": "stream",
     "text": [
      "[9.92461721e-13 9.92461721e-13 9.92461721e-13 9.92461721e-13\n",
      " 9.92461721e-13 9.92461721e-13 9.92461721e-13 9.92461721e-13\n",
      " 9.92461721e-13 9.92461721e-13 9.92461721e-13 9.92461721e-13\n",
      " 9.92461721e-13 9.92461721e-13 9.92461721e-13 9.92461721e-13\n",
      " 9.92461721e-13 9.92461721e-13 9.92461721e-13]\n"
     ]
    },
    {
     "data": {
      "image/png": "[encoded data removed]",
      "text/plain": [
       "<Figure size 432x288 with 1 Axes>"
      ]
     },
     "metadata": {
      "needs_background": "light"
     },
     "output_type": "display_data"
    }
   ],
   "source": [
    "Er=np.zeros(19)\n",
    "n=np.arange(2,21)\n",
    "\n",
    "for N in n:\n",
    "    V= VanderI(N)\n",
    "    Dn=np.linalg.det(V)\n",
    "    Da=deter_ana(V)\n",
    "    Er[N-2]=np.abs(Dn-Da)/Da\n",
    "print(Er) \n",
    "\n",
    "fig=plt.figure()\n",
    "plt.plot(n,Er)\n",
    "plt.title('Erreur relative')\n",
    "plt.xlabel('N')\n",
    "plt.ylabel('Erreur')\n",
    "plt.show()"
   ]
  },
  {
   "cell_type": "markdown",
   "metadata": {},
   "source": [
    "- Pour `N=15` comparer le temps d'exécution des deux formules à l'aide du module `time`."
   ]
  },
  {
   "cell_type": "code",
   "execution_count": 32,
   "metadata": {
    "deletable": false,
    "nbgrader": {
     "cell_type": "code",
     "checksum": "fdbe541fdda206b4e452a6595f6d6d62",
     "grade": true,
     "grade_id": "cell-80b487b772611c03",
     "locked": false,
     "points": 0,
     "schema_version": 3,
     "solution": true,
     "task": false
    }
   },
   "outputs": [
    {
     "name": "stdout",
     "output_type": "stream",
     "text": [
      "Dn= 125411327999.87553 time: 0.00012199999999995548\n",
      "Da= 125411328000.0 time: 8.499999999989072e-05\n",
      "Err= 9.92461720705266e-13 DifT: 3.700000000006476e-05\n"
     ]
    }
   ],
   "source": [
    "V=VanderI(N)\n",
    "\n",
    "tac=time.clock()\n",
    "Dn=np.linalg.det(V)\n",
    "tic=time.clock()\n",
    "timeN=tic-tac\n",
    "print('Dn=',Dn,'time:',timeN)\n",
    "\n",
    "tac=time.clock()\n",
    "Da=deter_ana(V)\n",
    "tic=time.clock()\n",
    "timeA=tic-tac\n",
    "print('Da=',Da,'time:',timeA)\n",
    "\n",
    "Err=np.abs(Dn-Da)/Da\n",
    "DifT= np.abs(timeN-timeA)\n",
    "print('Err=',Err, 'DifT:',DifT)"
   ]
  },
  {
   "cell_type": "markdown",
   "metadata": {},
   "source": [
    "- La morale de cet exercice est qu'il est quasiment toujours préférable de coder la réponse analytique d'un problème complexe (en terme de précision du résultat, de rapidité, voir de mémoire) que d'utiliser des fonctions génériques à l'aveugle."
   ]
  },
  {
   "cell_type": "markdown",
   "metadata": {},
   "source": [
    "## TD4 - Exercice 7: Principe de Fermat\n",
    "\n",
    "<img align=\"center\" src=\"data/descartes.png\" width=\"40%\" />\n",
    "\n",
    "Imaginons que l'on veuille chercher le point d'intersection d'un rayon lumineux avec un dioptre plan en utilisant la loi de Descartes : le rayon part de la coordonnées $(-a,y)$ dans un milieu d'indice $n_1$ pour arriver en un point de coordonnées symétrique $(a,-y)$ dans un milieu d'indice $n_2$ en passant par le dioptre au point de coordonnées $(x,0)$. L'inconnue du problème est le point d'impact sur le dioptre $ x $. \n",
    "\n",
    "La loi de Descartes s'écrit évidemment $ n_1 \\sin i_1 - n_2 \\sin i_2 = 0$. Un peu de trigonométrie élémentaire donne :\n",
    "\n",
    "$$ i_1 = \\arctan \\frac{a+x}{y},\\quad  i_2 = \\arctan \\frac{a-x}{y}$$ \n",
    "\n",
    "Ainsi nous avons à rechercher la racine de la fonction :\n",
    "\n",
    "$$ f(x) = n_1 \\sin \\left(\\arctan \\frac{a+x}{y}\\right) - n_2 \\sin\\left( \\arctan \\frac{a-x}{y}\\right) $$\n",
    "\n",
    "avec : $$ \\sin \\left(\\arctan z\\right) = \\frac{z}{\\sqrt{1+z^2}} $$\n",
    "\n",
    "La dérivée de f vaut alors :\n",
    "\n",
    "$$ f'(x) = \\frac{n_1}{y} \\frac{1}{\\left(1+\\left(\\frac{a+x}{y}\\right)^2\\right)^{3/2}} + \\frac{n_2}{y} \\frac{1}{\\left(1+\\left(\\frac{a-x}{y}\\right)^2\\right)^{3/2}}  $$\n",
    "\n",
    "- Par une méthode de Newton, calculer le point d'impact $x$ des rayons lumineux sur le dioptre.\n",
    "\n"
   ]
  },
  {
   "cell_type": "code",
   "execution_count": 44,
   "metadata": {
    "deletable": false,
    "nbgrader": {
     "cell_type": "code",
     "checksum": "99c08900a9587d4f66e41887e48f8845",
     "grade": true,
     "grade_id": "cell-5edcf89f90995738",
     "locked": false,
     "points": 0,
     "schema_version": 3,
     "solution": true,
     "task": false
    }
   },
   "outputs": [],
   "source": [
    "sina= lambda x : x/(1+x**2)**0.5\n",
    "\n",
    "der_sina= lambda z : 1/(1+z**2)**(3/2)\n",
    "\n",
    "def f(x,y=1,a=2,n1=1,n2=1.3):\n",
    "    return n1*sina((a+x)/y) - n2*sina((a-x)/y)\n",
    "\n",
    "def der_f(x,y=1,a=2,n1=1,n2=1.3):\n",
    "    return n1*der_sina((a+x)/y)/y + n2*der_sina((a-x)/y)/y\n"
   ]
  },
  {
   "cell_type": "code",
   "execution_count": 45,
   "metadata": {},
   "outputs": [
    {
     "name": "stdout",
     "output_type": "stream",
     "text": [
      "0.9375223113419106\n"
     ]
    }
   ],
   "source": [
    "def newt(f, fd, xo, e):\n",
    "    X1=xo\n",
    "    X2=xo-f(xo)/fd(xo)\n",
    "    \n",
    "    while np.abs(X2-X1)>e :\n",
    "        X1=X2\n",
    "        X2=X1-f(X1)/fd(X1)\n",
    "    return X2\n",
    "\n",
    "\n",
    "X=newt(f, der_f, 0, 10**-5)\n",
    "print(X)\n",
    "    "
   ]
  },
  {
   "cell_type": "markdown",
   "metadata": {},
   "source": [
    "- Le temps de trajet $t(x)$ entre le point de départ et le point d'arrivée des rayons lumineux vaut :\n",
    "\n",
    "$$ ct(x) = n_1 \\sqrt{(a+x)^2+y^2} + n_2 \\sqrt{(a-x)^2+y^2}$$\n",
    "\n",
    "Montrer numériquement que le minimum de la fonction  $t(x)$  correspond au point d'impact $x $ trouvé précédemment. Qu'est-ce que cela nous apprend sur la propagation des rayons lumineux ?\n"
   ]
  },
  {
   "cell_type": "code",
   "execution_count": null,
   "metadata": {
    "deletable": false,
    "nbgrader": {
     "cell_type": "code",
     "checksum": "7b29e134000b579b8d30ce8288238c4c",
     "grade": true,
     "grade_id": "cell-68f476d3181b6507",
     "locked": false,
     "points": 0,
     "schema_version": 3,
     "solution": true,
     "task": false
    }
   },
   "outputs": [],
   "source": [
    "def minimum(f,a,b,N):\n",
    "    X= np.linspace(a,b,N)\n",
    "    Y=f(X)\n",
    "    return X[np.argmin(Y)]"
   ]
  },
  {
   "cell_type": "markdown",
   "metadata": {},
   "source": [
    "## TD5 - Exercice 4: Spectre solaire \n",
    "\n",
    "Le fichier solar_spectrum.csv contient des données permettant de reconstituer le spectre de la lumière émise par le soleil. La première colonne est la longueur d'onde $\\lambda$ en nm, la seconde est l'irradiance spectrale en $W.m^{-2}.nm^{-1}$ correspondant à cette longueur d'onde.\n",
    "\n",
    "Peut-on modéliser ce spectre par un spectre de corps noir, et si oui, quelle est la température $T$ de ce corps noir ?   \n",
    "\n",
    "On donne le spectre du corps noir:\n",
    "\n",
    "$$ E(\\lambda)=\\frac{A}{\\lambda^5} \\frac{1}{e^{hc/(\\lambda k_B T)}-1} (W.m^{-2}.nm^{-1})$$ \n",
    "\n",
    "- $E(\\lambda)$ est l'irradiance spectrale du corps noir\n",
    "- $\\lambda$ est la longueur d'onde de la lumière\n",
    "- $A$ est une constante\n",
    "- $h$ est la constante de Planck\n",
    "- $k_B$ la constante de Boltzmann\n",
    "- $c$ la vitesse de la lumière\n",
    "- $T$ la température du corps noir. \n",
    "\n",
    "Remarque: si la fonction d'ajustement des données par le modèle de corps noir ne converge pas, ou donne des résultats très éloignés des données expérimentales, ne pas hésiter à \"aider\" l'algorithme en règlant les paramètres initiaux. Par exemple, un ordre de grandeur de $A/\\lambda^5$ est la valeur approchée du maximum de la courbe expérimentale. De même, vous pouvez donner comme valeur initiale de $T$ un ordre de grandeur de la température du soleil... "
   ]
  },
  {
   "cell_type": "code",
   "execution_count": null,
   "metadata": {
    "deletable": false,
    "nbgrader": {
     "cell_type": "code",
     "checksum": "301b402b182b3a9cc207c7eff3775554",
     "grade": true,
     "grade_id": "cell-ad9e1f5053c2d9d8",
     "locked": false,
     "points": 0,
     "schema_version": 3,
     "solution": true,
     "task": false
    }
   },
   "outputs": [],
   "source": [
    "# YOUR CODE HERE\n",
    "raise NotImplementedError()"
   ]
  },
  {
   "cell_type": "markdown",
   "metadata": {},
   "source": [
    "### Questions bonus :\n",
    "\n",
    "La température du soleil est estimée à T = 5778 K. Fixer la température du corps noir à cette valeur et déterminer la meilleure irradiance reproduisant les données jusqu'à 500 nm."
   ]
  },
  {
   "cell_type": "code",
   "execution_count": null,
   "metadata": {
    "deletable": false,
    "nbgrader": {
     "cell_type": "code",
     "checksum": "e826293782d44ae1e452278f6e35c29b",
     "grade": true,
     "grade_id": "cell-2091dbf7d34dad70",
     "locked": false,
     "points": 0,
     "schema_version": 3,
     "solution": true,
     "task": false
    }
   },
   "outputs": [],
   "source": [
    "# YOUR CODE HERE\n",
    "raise NotImplementedError()"
   ]
  },
  {
   "cell_type": "markdown",
   "metadata": {},
   "source": [
    "Comparez les résidus au premier ajustement avec ceux du second"
   ]
  },
  {
   "cell_type": "code",
   "execution_count": null,
   "metadata": {
    "deletable": false,
    "nbgrader": {
     "cell_type": "code",
     "checksum": "e540c49defb23d4e59d59ae366fbbf9e",
     "grade": true,
     "grade_id": "cell-ad3d5a33ab7a6bf5",
     "locked": false,
     "points": 0,
     "schema_version": 3,
     "solution": true,
     "task": false
    }
   },
   "outputs": [],
   "source": [
    "# YOUR CODE HERE\n",
    "raise NotImplementedError()"
   ]
  },
  {
   "cell_type": "markdown",
   "metadata": {},
   "source": [
    "Interprétez ces résidus : quelles sont leurs caractéristiques observées ?"
   ]
  },
  {
   "cell_type": "markdown",
   "metadata": {
    "deletable": false,
    "nbgrader": {
     "cell_type": "markdown",
     "checksum": "67b749cba4e166261309ae8ec56136ce",
     "grade": true,
     "grade_id": "cell-4a8e9f62870c01e5",
     "locked": false,
     "points": 0,
     "schema_version": 3,
     "solution": true,
     "task": false
    }
   },
   "source": [
    "YOUR ANSWER HERE"
   ]
  },
  {
   "cell_type": "markdown",
   "metadata": {},
   "source": [
    "## Produit de convolution 1D : Convolution par une gaussienne et échantillonnage\n",
    "\n",
    "Créer une fonction retournant un signal de longueur 90 unités avec trois créneaux de période de 30, comme dans l'exercice 3 TD7, mais cette fois ci avec un pas d'échantillonage en paramètre."
   ]
  },
  {
   "cell_type": "code",
   "execution_count": null,
   "metadata": {
    "deletable": false,
    "nbgrader": {
     "cell_type": "code",
     "checksum": "7e500d1311943f512bacfd825a452043",
     "grade": true,
     "grade_id": "cell-01c5bd5ae62bdec4",
     "locked": false,
     "points": 0,
     "schema_version": 3,
     "solution": true,
     "task": false
    }
   },
   "outputs": [],
   "source": [
    "# YOUR CODE HERE\n",
    "raise NotImplementedError()"
   ]
  },
  {
   "cell_type": "markdown",
   "metadata": {},
   "source": [
    "Fabriquer  une fonction de convolution gaussienne normalisée sur un intervalle [-5,5], centrée en 0 et avec un écart type $\\sigma = 2$ : \n",
    "$$ f(x)=\\frac{1}{\\sigma\\sqrt{2\\pi}}\\exp{-\\frac{(x-\\mu)^2}{2\\sigma^2}}$$"
   ]
  },
  {
   "cell_type": "code",
   "execution_count": null,
   "metadata": {
    "deletable": false,
    "nbgrader": {
     "cell_type": "code",
     "checksum": "f17374cc22d82a61ed084b0305e7c12a",
     "grade": true,
     "grade_id": "cell-28866456d79be54e",
     "locked": false,
     "points": 0,
     "schema_version": 3,
     "solution": true,
     "task": false
    }
   },
   "outputs": [],
   "source": [
    "# YOUR CODE HERE\n",
    "raise NotImplementedError()"
   ]
  },
  {
   "cell_type": "markdown",
   "metadata": {},
   "source": [
    "En utilisant un échantillonnage des fonctions dx = 1, tracer sur un même diagramme, le signal, la gaussienne et le résultat de la convolution. Faire la même chose pour un pas d'échantillonnage dx = 0.1."
   ]
  },
  {
   "cell_type": "code",
   "execution_count": null,
   "metadata": {
    "deletable": false,
    "nbgrader": {
     "cell_type": "code",
     "checksum": "f22ed4b1c162b572dd50f33704430fb4",
     "grade": true,
     "grade_id": "cell-e7153abe2cac6482",
     "locked": false,
     "points": 0,
     "schema_version": 3,
     "solution": true,
     "task": false
    }
   },
   "outputs": [],
   "source": [
    "# YOUR CODE HERE\n",
    "raise NotImplementedError()"
   ]
  },
  {
   "cell_type": "markdown",
   "metadata": {},
   "source": [
    "Que se passe-t-il ? Pourquoi ? Comment y remédier ?"
   ]
  },
  {
   "cell_type": "markdown",
   "metadata": {
    "deletable": false,
    "nbgrader": {
     "cell_type": "markdown",
     "checksum": "373f4fe4b5582cdda32b1841129fbd20",
     "grade": true,
     "grade_id": "cell-85c6c1d5b7231acb",
     "locked": false,
     "points": 0,
     "schema_version": 3,
     "solution": true,
     "task": false
    }
   },
   "source": [
    "YOUR ANSWER HERE"
   ]
  },
  {
   "cell_type": "markdown",
   "metadata": {},
   "source": [
    "### Questions bonus :\n",
    "Calculez le produit de convolution de deux Gaussiennes centrées sur zéro de même largeur $\\sigma$ et ajustez la courbe résultante par une Gaussienne"
   ]
  },
  {
   "cell_type": "code",
   "execution_count": null,
   "metadata": {
    "deletable": false,
    "nbgrader": {
     "cell_type": "code",
     "checksum": "a90778075be6e0e9243264e08d60527d",
     "grade": true,
     "grade_id": "cell-3d1a5b97e102bc31",
     "locked": false,
     "points": 0,
     "schema_version": 3,
     "solution": true,
     "task": false
    }
   },
   "outputs": [],
   "source": [
    "# YOUR CODE HERE\n",
    "raise NotImplementedError()"
   ]
  },
  {
   "cell_type": "markdown",
   "metadata": {},
   "source": [
    "Que constatez vous ?"
   ]
  },
  {
   "cell_type": "markdown",
   "metadata": {
    "deletable": false,
    "nbgrader": {
     "cell_type": "markdown",
     "checksum": "ea379582863d676964eca6b37fa8c066",
     "grade": true,
     "grade_id": "cell-9b603b0d789e820f",
     "locked": false,
     "points": 0,
     "schema_version": 3,
     "solution": true,
     "task": false
    }
   },
   "source": [
    "YOUR ANSWER HERE"
   ]
  },
  {
   "cell_type": "markdown",
   "metadata": {},
   "source": [
    "Répétez l'opération de convolution N fois et étudiez la largeur du signal lissé résultant en fonction de N"
   ]
  },
  {
   "cell_type": "code",
   "execution_count": null,
   "metadata": {
    "deletable": false,
    "nbgrader": {
     "cell_type": "code",
     "checksum": "a821ac85d44bb889b46d2ada1eaee59b",
     "grade": true,
     "grade_id": "cell-0b1a8bf13f875802",
     "locked": false,
     "points": 0,
     "schema_version": 3,
     "solution": true,
     "task": false
    }
   },
   "outputs": [],
   "source": [
    "# YOUR CODE HERE\n",
    "raise NotImplementedError()"
   ]
  },
  {
   "cell_type": "markdown",
   "metadata": {},
   "source": [
    "## TD7 - Exercice 6 : Débruitage d'images\n",
    "\n",
    "L'image dans le fichier bateau.png est bruitée. Afin de reduire le bruit nous allons appliquer plusieurs types de filtres. Importer et afficher l'image et ses composantes. Créer une image en adittionnant les 3 composantes RGB sans oublier de la normaliser a 1 afin de créer une matrice 2D.\n"
   ]
  },
  {
   "cell_type": "code",
   "execution_count": null,
   "metadata": {
    "deletable": false,
    "nbgrader": {
     "cell_type": "code",
     "checksum": "3d98be9e1ccadbfd3bd94c8488ba4b15",
     "grade": true,
     "grade_id": "cell-36be70f1bad2a741",
     "locked": false,
     "points": 0,
     "schema_version": 3,
     "solution": true,
     "task": false
    }
   },
   "outputs": [],
   "source": [
    "# YOUR CODE HERE\n",
    "raise NotImplementedError()\n"
   ]
  },
  {
   "cell_type": "markdown",
   "metadata": {},
   "source": [
    "Appliquer 3 filtres differents:\n",
    "- Une convolution avec une moyenne glissante de fenetre normalisée de taille 3x3\n",
    "- Un filtre mediane de largeur 3x3: vous pouvez par exemple utiliser le filtre medfilt2d de scipy.\n",
    "- Un filtre Gaussien avec sigma = 2: vous pouvez par exemple utiliser le filtre gaussian_filter de scipy\n",
    "\n",
    "Afficher les résultats (vous pourrez aussi changer les tailles des filtres) et tirer les conclusions."
   ]
  },
  {
   "cell_type": "code",
   "execution_count": null,
   "metadata": {
    "deletable": false,
    "nbgrader": {
     "cell_type": "code",
     "checksum": "97c88aa61b2e5bf9915fcf7c56466dd8",
     "grade": true,
     "grade_id": "cell-b6dd7555093ac132",
     "locked": false,
     "points": 0,
     "schema_version": 3,
     "solution": true,
     "task": false
    }
   },
   "outputs": [],
   "source": [
    "# YOUR CODE HERE\n",
    "raise NotImplementedError()\n"
   ]
  },
  {
   "cell_type": "markdown",
   "metadata": {
    "deletable": false,
    "nbgrader": {
     "cell_type": "markdown",
     "checksum": "df66260397f9df3bde275df7ceceacfb",
     "grade": true,
     "grade_id": "cell-39f0988803859bba",
     "locked": false,
     "points": 0,
     "schema_version": 3,
     "solution": true,
     "task": false
    }
   },
   "source": [
    "YOUR ANSWER HERE"
   ]
  },
  {
   "cell_type": "markdown",
   "metadata": {},
   "source": [
    "###  Questions bonus\n",
    "\n",
    "Débruitez le premier \"selfie\" de l'histoire pris par Robert Cornelius en 1839. On effectuera l'opération sur chacune des composantes RGB pour garder la couleur sépia."
   ]
  },
  {
   "cell_type": "code",
   "execution_count": null,
   "metadata": {
    "deletable": false,
    "nbgrader": {
     "cell_type": "code",
     "checksum": "f744bf62c57f54f758a44e1e36efb01d",
     "grade": true,
     "grade_id": "cell-661dfe3d1bd65e36",
     "locked": false,
     "points": 0,
     "schema_version": 3,
     "solution": true,
     "task": false
    }
   },
   "outputs": [],
   "source": [
    "# YOUR CODE HERE\n",
    "raise NotImplementedError()"
   ]
  },
  {
   "cell_type": "markdown",
   "metadata": {},
   "source": [
    "## TD7 - Exercice 7 : Obtenir des informations à partir d'une image\n",
    "\n",
    "Le fichier andromeda.png contient l'image de la galaxie Andromède qui se situe à environ 780 kpc de nous. Le champ de vue de chaque pixel est 0,001 deg. Nous voulons estimer la surface de cette galaxie.\n",
    "\n",
    "Importer l'image et créer une matrice 2D en additionnant les composantes."
   ]
  },
  {
   "cell_type": "code",
   "execution_count": null,
   "metadata": {
    "deletable": false,
    "nbgrader": {
     "cell_type": "code",
     "checksum": "b9366d0b246a9bc5ccdf1155c845520a",
     "grade": true,
     "grade_id": "cell-ec3cb37a0d0fa5c2",
     "locked": false,
     "points": 0,
     "schema_version": 3,
     "solution": true,
     "task": false
    }
   },
   "outputs": [],
   "source": [
    "# YOUR CODE HERE\n",
    "raise NotImplementedError()"
   ]
  },
  {
   "cell_type": "markdown",
   "metadata": {},
   "source": [
    "Nous allons essayer d'estimer la fraction de la surface de la galaxie par rapport a la surface de l'image. Il existe plusieurs facons d'effectuer cela. Vous pourrez par exemple commencer par effectuer une convolution par moyenne ou mediane afin de faire ressortir (séparer) plus nettement la galaxie du fond. Puis utiliser un seuil (libre a vous de fixer le niveau) afin de séparer la galaxie du fond et ainsi effectuer le rapport des surfaces."
   ]
  },
  {
   "cell_type": "code",
   "execution_count": null,
   "metadata": {
    "deletable": false,
    "nbgrader": {
     "cell_type": "code",
     "checksum": "6d6599f98d7bb633346f2ef74622a103",
     "grade": true,
     "grade_id": "cell-e3f5cac76cfe01e0",
     "locked": false,
     "points": 0,
     "schema_version": 3,
     "solution": true,
     "task": false
    }
   },
   "outputs": [],
   "source": [
    "# YOUR CODE HERE\n",
    "raise NotImplementedError()"
   ]
  },
  {
   "cell_type": "code",
   "execution_count": null,
   "metadata": {
    "deletable": false,
    "nbgrader": {
     "cell_type": "code",
     "checksum": "c7cf8ecdaaeb65fc926ae0db6439664b",
     "grade": true,
     "grade_id": "cell-a7d5ce5b3cc6f2ac",
     "locked": false,
     "points": 0,
     "schema_version": 3,
     "solution": true,
     "task": false
    }
   },
   "outputs": [],
   "source": [
    "# YOUR CODE HERE\n",
    "raise NotImplementedError()"
   ]
  },
  {
   "cell_type": "markdown",
   "metadata": {},
   "source": [
    "A partir du champ de vue de l'image, calculer sa surface correspondante a la distance d'Andromede et estimer la surace de la galaxie en $kpc^2$"
   ]
  },
  {
   "cell_type": "code",
   "execution_count": null,
   "metadata": {
    "deletable": false,
    "nbgrader": {
     "cell_type": "code",
     "checksum": "9ae533380558ee549b06bae205318d98",
     "grade": true,
     "grade_id": "cell-182f0b93de57c42c",
     "locked": false,
     "points": 0,
     "schema_version": 3,
     "solution": true,
     "task": false
    }
   },
   "outputs": [],
   "source": [
    "# YOUR CODE HERE\n",
    "raise NotImplementedError()"
   ]
  }
 ],
 "metadata": {
  "kernelspec": {
   "display_name": "Python 3",
   "language": "python",
   "name": "python3"
  },
  "language_info": {
   "codemirror_mode": {
    "name": "ipython",
    "version": 3
   },
   "file_extension": ".py",
   "mimetype": "text/x-python",
   "name": "python",
   "nbconvert_exporter": "python",
   "pygments_lexer": "ipython3",
   "version": "3.6.7"
  }
 },
 "nbformat": 4,
 "nbformat_minor": 2
}
