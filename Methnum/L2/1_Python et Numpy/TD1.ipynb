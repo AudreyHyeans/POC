{
 "cells": [
  {
   "cell_type": "markdown",
   "metadata": {},
   "source": [
    "Quelques conseils:\n",
    "- pour exécutez une cellule, cliquez sur le bouton *Exécuter* ci-dessus ou tapez **Shift+Enter**\n",
    "- si l'exécution d'une cellule prend trop de temps, sélectionner dans le menu ci-dessus *Noyau/Interrompre*\n",
    "- en cas de très gros plantage *Noyau/Redémarrer*\n",
    "- **sauvegardez régulièrement vos réponses** en cliquant sur l'icone disquette ci-dessus à gauche, ou *Fichier/Créer une nouvelle sauvegarde*\n",
    "\n",
    "Pour répondre aux questions, remplacer les lignes  \n",
    "```python \n",
    "#LA REPONSE ICI\n",
    "raise NotImplementedError()\n",
    "``` \n",
    "par vos réponses, et remplissez les champs ci-dessous:"
   ]
  },
  {
   "cell_type": "code",
   "execution_count": 1,
   "metadata": {},
   "outputs": [],
   "source": [
    "NOM = \"Martinez\"\n",
    "PRENOM = \"Maud\"\n",
    "GROUPE = \"1\"\n",
    "DATE = \"20/09\""
   ]
  },
  {
   "cell_type": "markdown",
   "metadata": {},
   "source": [
    "---"
   ]
  },
  {
   "cell_type": "markdown",
   "metadata": {
    "deletable": false,
    "editable": false,
    "nbgrader": {
     "cell_type": "markdown",
     "checksum": "4606ff6ce085e0885ec631077d9209ca",
     "grade": false,
     "grade_id": "cell-c5ea25f514572b29",
     "locked": true,
     "schema_version": 3,
     "solution": false,
     "task": false
    }
   },
   "source": [
    "# TD1: Python et Numpy"
   ]
  },
  {
   "cell_type": "markdown",
   "metadata": {
    "deletable": false,
    "editable": false,
    "nbgrader": {
     "cell_type": "markdown",
     "checksum": "42efeaf42fb3bd58005289177252abca",
     "grade": false,
     "grade_id": "cell-5bd1587067eb18cf",
     "locked": true,
     "schema_version": 3,
     "solution": false,
     "task": false
    }
   },
   "source": [
    "## Exercice 1"
   ]
  },
  {
   "cell_type": "markdown",
   "metadata": {
    "deletable": false,
    "editable": false,
    "nbgrader": {
     "cell_type": "markdown",
     "checksum": "a28786aa3cae0af04f42a0eb0162e934",
     "grade": false,
     "grade_id": "cell-691e2815ed3329b5",
     "locked": true,
     "schema_version": 3,
     "solution": false,
     "task": false
    }
   },
   "source": [
    "Voici quelques commandes pour commencer à utiliser un notebook. Cherchez à comprendre le résultat obtenu et les éventuels messages d'erreur. L'exécution d'une cellule se fait à l'aide de ctrl+Entrée."
   ]
  },
  {
   "cell_type": "markdown",
   "metadata": {
    "deletable": false,
    "editable": false,
    "nbgrader": {
     "cell_type": "markdown",
     "checksum": "ad76504d9646ab8f208363e86d4170c4",
     "grade": false,
     "grade_id": "cell-bbd7ae75540fec43",
     "locked": true,
     "schema_version": 3,
     "solution": false,
     "task": false
    }
   },
   "source": [
    "#### Affectation d'une variable"
   ]
  },
  {
   "cell_type": "code",
   "execution_count": 2,
   "metadata": {},
   "outputs": [
    {
     "name": "stdout",
     "output_type": "stream",
     "text": [
      "15\n"
     ]
    }
   ],
   "source": [
    "x=10\n",
    "y=5\n",
    "print(x+y)"
   ]
  },
  {
   "cell_type": "markdown",
   "metadata": {
    "deletable": false,
    "editable": false,
    "nbgrader": {
     "cell_type": "markdown",
     "checksum": "9d8b38448e47e39cb58dc2e03ed4e950",
     "grade": false,
     "grade_id": "cell-39a8e7557fe39544",
     "locked": true,
     "schema_version": 3,
     "solution": false,
     "task": false
    }
   },
   "source": [
    "#### Chaînes de caractères"
   ]
  },
  {
   "cell_type": "code",
   "execution_count": 3,
   "metadata": {},
   "outputs": [
    {
     "name": "stdout",
     "output_type": "stream",
     "text": [
      "i vaut 1\n"
     ]
    }
   ],
   "source": [
    "s='i vaut'\n",
    "i=1\n",
    "print(s,i)"
   ]
  },
  {
   "cell_type": "code",
   "execution_count": 4,
   "metadata": {},
   "outputs": [
    {
     "name": "stdout",
     "output_type": "stream",
     "text": [
      "*-*-*-*-*-\n"
     ]
    }
   ],
   "source": [
    "print ('*-'*5)"
   ]
  },
  {
   "cell_type": "code",
   "execution_count": 5,
   "metadata": {},
   "outputs": [
    {
     "name": "stdout",
     "output_type": "stream",
     "text": [
      "1 < 0 est une expression  False\n"
     ]
    }
   ],
   "source": [
    "print('1 < 0 est une expression ', 1 < 0)"
   ]
  },
  {
   "cell_type": "code",
   "execution_count": 6,
   "metadata": {},
   "outputs": [
    {
     "name": "stdout",
     "output_type": "stream",
     "text": [
      "j\n"
     ]
    }
   ],
   "source": [
    "c=\"bonjour\"\n",
    "print(c[3])"
   ]
  },
  {
   "cell_type": "code",
   "execution_count": 7,
   "metadata": {},
   "outputs": [
    {
     "name": "stdout",
     "output_type": "stream",
     "text": [
      "r\n"
     ]
    }
   ],
   "source": [
    "print(c[-1])"
   ]
  },
  {
   "cell_type": "code",
   "execution_count": 8,
   "metadata": {},
   "outputs": [
    {
     "name": "stdout",
     "output_type": "stream",
     "text": [
      "njour\n"
     ]
    }
   ],
   "source": [
    "print(c[2:]) "
   ]
  },
  {
   "cell_type": "code",
   "execution_count": 9,
   "metadata": {},
   "outputs": [
    {
     "name": "stdout",
     "output_type": "stream",
     "text": [
      "bon\n"
     ]
    }
   ],
   "source": [
    "print(c[:3])"
   ]
  },
  {
   "cell_type": "code",
   "execution_count": 10,
   "metadata": {},
   "outputs": [
    {
     "name": "stdout",
     "output_type": "stream",
     "text": [
      "jo\n"
     ]
    }
   ],
   "source": [
    "print(c[3:5])"
   ]
  },
  {
   "cell_type": "code",
   "execution_count": 11,
   "metadata": {},
   "outputs": [
    {
     "name": "stdout",
     "output_type": "stream",
     "text": [
      "ruojnob\n"
     ]
    }
   ],
   "source": [
    "print(c[-1::-1])"
   ]
  },
  {
   "cell_type": "code",
   "execution_count": 12,
   "metadata": {},
   "outputs": [
    {
     "name": "stdout",
     "output_type": "stream",
     "text": [
      "bnor\n"
     ]
    }
   ],
   "source": [
    "print(c[::2])"
   ]
  },
  {
   "cell_type": "markdown",
   "metadata": {
    "deletable": false,
    "editable": false,
    "nbgrader": {
     "cell_type": "markdown",
     "checksum": "185a9cd84e04218459b99a8476bd3cb9",
     "grade": false,
     "grade_id": "cell-f6800da33aa008da",
     "locked": true,
     "schema_version": 3,
     "solution": false,
     "task": false
    }
   },
   "source": [
    "#### Fonctions mathématiques"
   ]
  },
  {
   "cell_type": "code",
   "execution_count": 13,
   "metadata": {},
   "outputs": [],
   "source": [
    "import math\n",
    "import numpy as np"
   ]
  },
  {
   "cell_type": "code",
   "execution_count": 14,
   "metadata": {},
   "outputs": [
    {
     "name": "stdout",
     "output_type": "stream",
     "text": [
      "3.141592653589793 3.141592653589793\n",
      "3.0000000000000004 3.0000000000000004\n"
     ]
    }
   ],
   "source": [
    "print(math.pi, np.pi)\n",
    "print(np.exp(math.log(3)),np.exp(np.log(3)))"
   ]
  },
  {
   "cell_type": "code",
   "execution_count": 15,
   "metadata": {},
   "outputs": [
    {
     "name": "stdout",
     "output_type": "stream",
     "text": [
      "1.0\n",
      "1.0\n"
     ]
    }
   ],
   "source": [
    "print(pow(math.sin(2.5),2)+pow(math.cos(2.5),2))\n",
    "print(pow(np.sin(2.5),2)+pow(np.cos(2.5),2))"
   ]
  },
  {
   "cell_type": "code",
   "execution_count": 16,
   "metadata": {},
   "outputs": [
    {
     "name": "stdout",
     "output_type": "stream",
     "text": [
      "1j\n"
     ]
    }
   ],
   "source": [
    "print(np.sqrt(-1.+0.j))"
   ]
  },
  {
   "cell_type": "code",
   "execution_count": 17,
   "metadata": {},
   "outputs": [],
   "source": [
    "#print(math.sqrt(-1.+0.j))"
   ]
  },
  {
   "cell_type": "markdown",
   "metadata": {
    "deletable": false,
    "editable": false,
    "nbgrader": {
     "cell_type": "markdown",
     "checksum": "a7243efaeb348919b3db666249dc1c8f",
     "grade": false,
     "grade_id": "cell-95f00e229f86f871",
     "locked": true,
     "schema_version": 3,
     "solution": false,
     "task": false
    }
   },
   "source": [
    "#### Opérations sur les vecteurs"
   ]
  },
  {
   "cell_type": "code",
   "execution_count": 18,
   "metadata": {},
   "outputs": [
    {
     "name": "stdout",
     "output_type": "stream",
     "text": [
      "11\n",
      "(11,)\n",
      "0\n",
      "[  0   1   4   9  16  25  36  49  64  81 100]\n",
      "[ 1  2  3  4  5  6  7  8  9 10]\n",
      "[2 3 4]\n",
      "[2 4]\n"
     ]
    }
   ],
   "source": [
    "import numpy as np\n",
    "x=np.arange(0,11,1) \n",
    "y=2*x\n",
    "\n",
    "print(np.size(x))\n",
    "print(np.shape(x)) \n",
    "print(x[0])\n",
    "print(pow(x,2))\n",
    "print(x[1:] )\n",
    "print(x[2:5])\n",
    "print(x[2:6:2])"
   ]
  },
  {
   "cell_type": "code",
   "execution_count": 19,
   "metadata": {},
   "outputs": [
    {
     "name": "stdout",
     "output_type": "stream",
     "text": [
      "[2 3 4 5 6 7 8 9]\n",
      "[ 2  4  6  8 10 12 14 16]\n",
      "[ 4  7 10 13 16 19 22 25]\n"
     ]
    }
   ],
   "source": [
    "x=x[2:-1]\n",
    "y=y[1:-2]\n",
    "print(x)\n",
    "print(y)\n",
    "print(x+y)"
   ]
  },
  {
   "cell_type": "code",
   "execution_count": 20,
   "metadata": {},
   "outputs": [
    {
     "name": "stdout",
     "output_type": "stream",
     "text": [
      "[2 3 4 5 6 7 8 9]\n",
      "[1. 1. 1. 0. 0. 0. 0. 0.]\n"
     ]
    }
   ],
   "source": [
    "z=x<5\n",
    "z = z.astype(float)\n",
    "print(x)\n",
    "print(z)"
   ]
  },
  {
   "cell_type": "markdown",
   "metadata": {
    "deletable": false,
    "editable": false,
    "nbgrader": {
     "cell_type": "markdown",
     "checksum": "5ec9eb2b75a82fa9fbbea583422a622a",
     "grade": false,
     "grade_id": "cell-9532c989eb9b618b",
     "locked": true,
     "schema_version": 3,
     "solution": false,
     "task": false
    }
   },
   "source": [
    "#### Éléments triés / non nuls / uniques d'un vecteur"
   ]
  },
  {
   "cell_type": "code",
   "execution_count": 21,
   "metadata": {},
   "outputs": [
    {
     "name": "stdout",
     "output_type": "stream",
     "text": [
      "[0 0 0 1 2 4]\n",
      "(array([0, 1, 4]),)\n",
      "[0 1 2 4]\n"
     ]
    }
   ],
   "source": [
    "print(np.sort([1,2,0,0,4,0]))\n",
    "print(np.nonzero([1,2,0,0,4,0]))\n",
    "print(np.unique([1,2,0,0,4,0]))"
   ]
  },
  {
   "cell_type": "markdown",
   "metadata": {
    "deletable": false,
    "editable": false,
    "nbgrader": {
     "cell_type": "markdown",
     "checksum": "7ec07e98c3f091a3681f656e6e1d6176",
     "grade": false,
     "grade_id": "cell-6b0ae320d7c988a0",
     "locked": true,
     "schema_version": 3,
     "solution": false,
     "task": false
    }
   },
   "source": [
    "## Exercice 2"
   ]
  },
  {
   "cell_type": "markdown",
   "metadata": {
    "deletable": false,
    "editable": false,
    "nbgrader": {
     "cell_type": "markdown",
     "checksum": "c5596640737e6440b2ad9aae3e257865",
     "grade": false,
     "grade_id": "cell-4bf8cbe99ce3dd53",
     "locked": true,
     "schema_version": 3,
     "solution": false,
     "task": false
    }
   },
   "source": [
    "Utilisez les fonction arange() et linspace() de numpy pour afficher :\n",
    "- les entiers de 0 à 3 ;"
   ]
  },
  {
   "cell_type": "code",
   "execution_count": 22,
   "metadata": {
    "deletable": false,
    "nbgrader": {
     "cell_type": "code",
     "checksum": "59e48c6fb0b353c296b72016858ca659",
     "grade": true,
     "grade_id": "cell-2ea09585bb1a876c",
     "locked": false,
     "points": 0,
     "schema_version": 3,
     "solution": true,
     "task": false
    }
   },
   "outputs": [
    {
     "name": "stdout",
     "output_type": "stream",
     "text": [
      "[0 1 2 3]\n"
     ]
    }
   ],
   "source": [
    "print(np.arange(0,4))"
   ]
  },
  {
   "cell_type": "markdown",
   "metadata": {
    "deletable": false,
    "editable": false,
    "nbgrader": {
     "cell_type": "markdown",
     "checksum": "e64503c883d15006893f079ac421f16c",
     "grade": false,
     "grade_id": "cell-320569e04352b8f7",
     "locked": true,
     "schema_version": 3,
     "solution": false,
     "task": false
    }
   },
   "source": [
    "- les entiers de 4 à 7 ;"
   ]
  },
  {
   "cell_type": "code",
   "execution_count": 23,
   "metadata": {
    "deletable": false,
    "nbgrader": {
     "cell_type": "code",
     "checksum": "42ed22b77ba9e9c8d19cd3c7bd0a96cd",
     "grade": true,
     "grade_id": "cell-4256837a83440534",
     "locked": false,
     "points": 0,
     "schema_version": 3,
     "solution": true,
     "task": false
    }
   },
   "outputs": [
    {
     "name": "stdout",
     "output_type": "stream",
     "text": [
      "[4 5 6 7]\n"
     ]
    }
   ],
   "source": [
    "print(np.arange(4,8))"
   ]
  },
  {
   "cell_type": "markdown",
   "metadata": {
    "deletable": false,
    "editable": false,
    "nbgrader": {
     "cell_type": "markdown",
     "checksum": "692b493426fb0cc0b2273401a6fd16be",
     "grade": false,
     "grade_id": "cell-c76212c0fed313ed",
     "locked": true,
     "schema_version": 3,
     "solution": false,
     "task": false
    }
   },
   "source": [
    "- les entiers pairs de 2 à 8."
   ]
  },
  {
   "cell_type": "code",
   "execution_count": 24,
   "metadata": {
    "deletable": false,
    "nbgrader": {
     "cell_type": "code",
     "checksum": "eb913862d356399b0fe8fdcdf7783290",
     "grade": true,
     "grade_id": "cell-1464866b006da9eb",
     "locked": false,
     "points": 0,
     "schema_version": 3,
     "solution": true,
     "task": false
    }
   },
   "outputs": [
    {
     "name": "stdout",
     "output_type": "stream",
     "text": [
      "[2 4 6 8]\n"
     ]
    }
   ],
   "source": [
    "print(np.arange(2,9,2))"
   ]
  },
  {
   "cell_type": "markdown",
   "metadata": {
    "deletable": false,
    "editable": false,
    "nbgrader": {
     "cell_type": "markdown",
     "checksum": "a089911672157056a1fd292be8de3732",
     "grade": false,
     "grade_id": "cell-d9f6be24dc976cd3",
     "locked": true,
     "schema_version": 3,
     "solution": false,
     "task": false
    }
   },
   "source": [
    "## Exercice 3"
   ]
  },
  {
   "cell_type": "markdown",
   "metadata": {
    "deletable": false,
    "editable": false,
    "nbgrader": {
     "cell_type": "markdown",
     "checksum": "d8e5da9b1aed1a737156ebaab2ba85ac",
     "grade": false,
     "grade_id": "cell-67af4dfc65880188",
     "locked": true,
     "schema_version": 3,
     "solution": false,
     "task": false
    }
   },
   "source": [
    "Définir de la façon la plus simple possible (une ligne) les vecteurs:\n",
    "- v1=(1,2,3, ... ,14,15,16)"
   ]
  },
  {
   "cell_type": "code",
   "execution_count": 25,
   "metadata": {
    "deletable": false,
    "nbgrader": {
     "cell_type": "code",
     "checksum": "3f4c09108db4284d60f5c17bf369cde9",
     "grade": true,
     "grade_id": "cell-af7309efdad029c9",
     "locked": false,
     "points": 0,
     "schema_version": 3,
     "solution": true,
     "task": false
    }
   },
   "outputs": [
    {
     "name": "stdout",
     "output_type": "stream",
     "text": [
      "[ 1  2  3  4  5  6  7  8  9 10 11 12 13 14 15 16]\n"
     ]
    }
   ],
   "source": [
    "v1 = np.arange(1,17)\n",
    "print(v1)"
   ]
  },
  {
   "cell_type": "markdown",
   "metadata": {
    "deletable": false,
    "editable": false,
    "nbgrader": {
     "cell_type": "markdown",
     "checksum": "2068a5a8e38ec6f0d4e93771cc464e4a",
     "grade": false,
     "grade_id": "cell-f026b8171f4c0f80",
     "locked": true,
     "schema_version": 3,
     "solution": false,
     "task": false
    }
   },
   "source": [
    "- v2=(28,26,24, ... ,16,14,12)"
   ]
  },
  {
   "cell_type": "code",
   "execution_count": 26,
   "metadata": {
    "deletable": false,
    "nbgrader": {
     "cell_type": "code",
     "checksum": "be473c33c052b60e9109587f3456eb2b",
     "grade": true,
     "grade_id": "cell-7558fcf2a770fa8e",
     "locked": false,
     "points": 0,
     "schema_version": 3,
     "solution": true,
     "task": false
    }
   },
   "outputs": [
    {
     "name": "stdout",
     "output_type": "stream",
     "text": [
      "[28 26 24 22 20 18 16 14 12]\n"
     ]
    }
   ],
   "source": [
    "v2 = np.arange(28, 11,-2)\n",
    "print(v2)"
   ]
  },
  {
   "cell_type": "markdown",
   "metadata": {
    "deletable": false,
    "editable": false,
    "nbgrader": {
     "cell_type": "markdown",
     "checksum": "bc7ccfd8562720b65517e2f34a1b8e7a",
     "grade": false,
     "grade_id": "cell-a2a50d35ab5c3a33",
     "locked": true,
     "schema_version": 3,
     "solution": false,
     "task": false
    }
   },
   "source": [
    "v3=(1,2,4, ... ,64, 128,256)"
   ]
  },
  {
   "cell_type": "code",
   "execution_count": 27,
   "metadata": {
    "deletable": false,
    "nbgrader": {
     "cell_type": "code",
     "checksum": "3f21c9ac66a78d2aec1104cd58291f30",
     "grade": true,
     "grade_id": "cell-a592030faa9cb33b",
     "locked": false,
     "points": 0,
     "schema_version": 3,
     "solution": true,
     "task": false
    }
   },
   "outputs": [
    {
     "name": "stdout",
     "output_type": "stream",
     "text": [
      "[1, 2, 4, 8, 16, 32, 64, 128, 256]\n"
     ]
    }
   ],
   "source": [
    "v3= [2**x for x in range(0,9)]\n",
    "print(v3)"
   ]
  },
  {
   "cell_type": "markdown",
   "metadata": {
    "deletable": false,
    "editable": false,
    "nbgrader": {
     "cell_type": "markdown",
     "checksum": "19d09ab187f0c80cc4242da3948a0a1e",
     "grade": false,
     "grade_id": "cell-984d2742b4d33420",
     "locked": true,
     "schema_version": 3,
     "solution": false,
     "task": false
    }
   },
   "source": [
    "## Exercice 4"
   ]
  },
  {
   "cell_type": "markdown",
   "metadata": {
    "deletable": false,
    "editable": false,
    "nbgrader": {
     "cell_type": "markdown",
     "checksum": "b12bb10ed37162308255c6aa30ef1530",
     "grade": false,
     "grade_id": "cell-ed75eae6a30bdb68",
     "locked": true,
     "schema_version": 3,
     "solution": false,
     "task": false
    }
   },
   "source": [
    "Définissons la liste ou le vecteur : "
   ]
  },
  {
   "cell_type": "code",
   "execution_count": 28,
   "metadata": {},
   "outputs": [],
   "source": [
    "v = np.array([17, 38, 10, 25, 72])"
   ]
  },
  {
   "cell_type": "markdown",
   "metadata": {
    "deletable": false,
    "editable": false,
    "nbgrader": {
     "cell_type": "markdown",
     "checksum": "88acfc9185abc2f055dbf98507dc7fc0",
     "grade": false,
     "grade_id": "cell-08235189a2b62614",
     "locked": true,
     "schema_version": 3,
     "solution": false,
     "task": false
    }
   },
   "source": [
    "Effectuez les actions suivantes:\n",
    "- triez et affichez la liste ;"
   ]
  },
  {
   "cell_type": "code",
   "execution_count": 29,
   "metadata": {
    "deletable": false,
    "nbgrader": {
     "cell_type": "code",
     "checksum": "d8001b298f765abd31cb005cc1feee1d",
     "grade": true,
     "grade_id": "cell-37bca015707d2b7f",
     "locked": false,
     "points": 0,
     "schema_version": 3,
     "solution": true,
     "task": false
    }
   },
   "outputs": [
    {
     "name": "stdout",
     "output_type": "stream",
     "text": [
      "[10 17 25 38 72]\n"
     ]
    }
   ],
   "source": [
    "v = np.sort(v)\n",
    "print(v)"
   ]
  },
  {
   "cell_type": "markdown",
   "metadata": {
    "deletable": false,
    "editable": false,
    "nbgrader": {
     "cell_type": "markdown",
     "checksum": "e73d0dd8d35d3a16dcce3909a890f76f",
     "grade": false,
     "grade_id": "cell-393f42bf6fc17e4f",
     "locked": true,
     "schema_version": 3,
     "solution": false,
     "task": false
    }
   },
   "source": [
    "- ajoutez l’élément 12 à la liste et affichez la liste ;"
   ]
  },
  {
   "cell_type": "code",
   "execution_count": 30,
   "metadata": {
    "deletable": false,
    "nbgrader": {
     "cell_type": "code",
     "checksum": "cfd481fd1c980c7ebe7005918847f314",
     "grade": true,
     "grade_id": "cell-951575d17ffeb41c",
     "locked": false,
     "points": 0,
     "schema_version": 3,
     "solution": true,
     "task": false
    }
   },
   "outputs": [
    {
     "name": "stdout",
     "output_type": "stream",
     "text": [
      "[12 10 17 25 38 72]\n"
     ]
    }
   ],
   "source": [
    "v= np.append(12,v)\n",
    "print(v)"
   ]
  },
  {
   "cell_type": "markdown",
   "metadata": {
    "deletable": false,
    "editable": false,
    "nbgrader": {
     "cell_type": "markdown",
     "checksum": "680c5088873c257b8e71cc3e98d83a8c",
     "grade": false,
     "grade_id": "cell-ca4c7c33c8a41df9",
     "locked": true,
     "schema_version": 3,
     "solution": false,
     "task": false
    }
   },
   "source": [
    "- affichez la liste renversée ;"
   ]
  },
  {
   "cell_type": "code",
   "execution_count": 31,
   "metadata": {
    "deletable": false,
    "nbgrader": {
     "cell_type": "code",
     "checksum": "8c460f469cd2cc6a748ae3027e572caa",
     "grade": true,
     "grade_id": "cell-8307a0aa1a0a050d",
     "locked": false,
     "points": 0,
     "schema_version": 3,
     "solution": true,
     "task": false
    }
   },
   "outputs": [
    {
     "name": "stdout",
     "output_type": "stream",
     "text": [
      "[72 38 25 17 10 12]\n"
     ]
    }
   ],
   "source": [
    "print(v[-1::-1])\n"
   ]
  },
  {
   "cell_type": "markdown",
   "metadata": {
    "deletable": false,
    "editable": false,
    "nbgrader": {
     "cell_type": "markdown",
     "checksum": "2c3b067d33903c354c7248a733c8dcda",
     "grade": false,
     "grade_id": "cell-e30211b523837537",
     "locked": true,
     "schema_version": 3,
     "solution": false,
     "task": false
    }
   },
   "source": [
    "- supprimez le troisième élément et affichez la liste;"
   ]
  },
  {
   "cell_type": "code",
   "execution_count": 32,
   "metadata": {
    "deletable": false,
    "nbgrader": {
     "cell_type": "code",
     "checksum": "4649bfba686fe030f2c96d6a77154e98",
     "grade": true,
     "grade_id": "cell-80e17ce22dd58732",
     "locked": false,
     "points": 0,
     "schema_version": 3,
     "solution": true,
     "task": false
    }
   },
   "outputs": [
    {
     "name": "stdout",
     "output_type": "stream",
     "text": [
      "[12 10 25 38 72]\n"
     ]
    }
   ],
   "source": [
    "v= np.delete(v,2)\n",
    "print(v)"
   ]
  },
  {
   "cell_type": "markdown",
   "metadata": {
    "deletable": false,
    "editable": false,
    "nbgrader": {
     "cell_type": "markdown",
     "checksum": "2337b1ad2f873474e937f8fbb05df484",
     "grade": false,
     "grade_id": "cell-5c859b5083d9b64f",
     "locked": true,
     "schema_version": 3,
     "solution": false,
     "task": false
    }
   },
   "source": [
    "- affichez la sous-liste allant du 2ème au dernier élément;"
   ]
  },
  {
   "cell_type": "code",
   "execution_count": 33,
   "metadata": {
    "deletable": false,
    "nbgrader": {
     "cell_type": "code",
     "checksum": "3ae5c256724f894c42af50e01e19c695",
     "grade": true,
     "grade_id": "cell-735444f1af2036ab",
     "locked": false,
     "points": 0,
     "schema_version": 3,
     "solution": true,
     "task": false
    }
   },
   "outputs": [
    {
     "name": "stdout",
     "output_type": "stream",
     "text": [
      "[10 25 38 72]\n"
     ]
    }
   ],
   "source": [
    "print(v[1:])"
   ]
  },
  {
   "cell_type": "markdown",
   "metadata": {
    "deletable": false,
    "editable": false,
    "nbgrader": {
     "cell_type": "markdown",
     "checksum": "9b24615428eeab606ccd52816ae78990",
     "grade": false,
     "grade_id": "cell-264d62198594e092",
     "locked": true,
     "schema_version": 3,
     "solution": false,
     "task": false
    }
   },
   "source": [
    "- affichez le dernier élément en utilisant un indiçage négatif ;"
   ]
  },
  {
   "cell_type": "code",
   "execution_count": 34,
   "metadata": {
    "deletable": false,
    "nbgrader": {
     "cell_type": "code",
     "checksum": "ab79e3f99cd79c215ecf6b54ae0db056",
     "grade": true,
     "grade_id": "cell-134dc6a9126477ec",
     "locked": false,
     "points": 0,
     "schema_version": 3,
     "solution": true,
     "task": false
    }
   },
   "outputs": [
    {
     "name": "stdout",
     "output_type": "stream",
     "text": [
      "72\n"
     ]
    }
   ],
   "source": [
    "print(v[-1])"
   ]
  },
  {
   "cell_type": "markdown",
   "metadata": {
    "deletable": false,
    "editable": false,
    "nbgrader": {
     "cell_type": "markdown",
     "checksum": "6dd257c8f2fb02893289d0b45f8036fc",
     "grade": false,
     "grade_id": "cell-5d9e39ad4b117634",
     "locked": true,
     "schema_version": 3,
     "solution": false,
     "task": false
    }
   },
   "source": [
    "## Exercice 5"
   ]
  },
  {
   "cell_type": "markdown",
   "metadata": {
    "deletable": false,
    "editable": false,
    "nbgrader": {
     "cell_type": "markdown",
     "checksum": "c0b7768abf004434370f17330c66c890",
     "grade": false,
     "grade_id": "cell-fd644cab85a6ae1f",
     "locked": true,
     "schema_version": 3,
     "solution": false,
     "task": false
    }
   },
   "source": [
    "Calculez et affichez le produit scalaire des deux vecteurs $u$ et $v$ de $\\mathbb{R}^n$ ainsi que la norme de $u$. On pourra utiliser la fonction sum() de numpy."
   ]
  },
  {
   "cell_type": "code",
   "execution_count": 35,
   "metadata": {
    "deletable": false,
    "nbgrader": {
     "cell_type": "code",
     "checksum": "d154aecd7d15ad85ca0860d95d8b712f",
     "grade": true,
     "grade_id": "cell-76ec9e4f4363bfd3",
     "locked": false,
     "points": 0,
     "schema_version": 3,
     "solution": true,
     "task": false
    }
   },
   "outputs": [
    {
     "name": "stdout",
     "output_type": "stream",
     "text": [
      "Le produit scalire de u et v est 2\n",
      "La norme de u est 5.477225575051661\n"
     ]
    }
   ],
   "source": [
    "u = np.arange(5)\n",
    "v = np.array([1,0,-1,0,1])\n",
    "\n",
    "pdt = np.sum(u * v)\n",
    "print('Le produit scalire de u et v est',pdt)\n",
    "\n",
    "nmU = np.sqrt(np.sum(u**2))\n",
    "print('La norme de u est', nmU)\n"
   ]
  },
  {
   "cell_type": "markdown",
   "metadata": {
    "deletable": false,
    "editable": false,
    "nbgrader": {
     "cell_type": "markdown",
     "checksum": "ce8ea8e8232dc7a43a39d8b6c6210c1d",
     "grade": false,
     "grade_id": "cell-4420eef0c55e8657",
     "locked": true,
     "schema_version": 3,
     "solution": false,
     "task": false
    }
   },
   "source": [
    "## Exercice 6"
   ]
  },
  {
   "cell_type": "markdown",
   "metadata": {
    "deletable": false,
    "editable": false,
    "nbgrader": {
     "cell_type": "markdown",
     "checksum": "43bbc8e6809a8d08c89fd98aed358d1d",
     "grade": false,
     "grade_id": "cell-201629c18f15c267",
     "locked": true,
     "schema_version": 3,
     "solution": false,
     "task": false
    }
   },
   "source": [
    "Voici un code utilisant un mélange de fonctions issus des librairies math et numpy:"
   ]
  },
  {
   "cell_type": "code",
   "execution_count": 36,
   "metadata": {
    "deletable": false,
    "editable": false,
    "nbgrader": {
     "cell_type": "code",
     "checksum": "626db3ff2cff3c617b1fb877157f2fae",
     "grade": false,
     "grade_id": "cell-919f7340fd0bc403",
     "locked": true,
     "schema_version": 3,
     "solution": false,
     "task": false
    }
   },
   "outputs": [],
   "source": [
    "import numpy as np\n",
    "import math\n",
    "\n",
    "N=100\n",
    "x=np.empty(N)\n",
    "y=np.empty(N)\n",
    "dx=2./(N-1)\n",
    "for i in range(N):\n",
    "    x[i]=-1+dx*i\n",
    "    y[i]=math.exp(-x[i])*x[i]"
   ]
  },
  {
   "cell_type": "markdown",
   "metadata": {
    "deletable": false,
    "editable": false,
    "nbgrader": {
     "cell_type": "markdown",
     "checksum": "63d83ff16abc54d5e54688d4fe0d5a09",
     "grade": false,
     "grade_id": "cell-a47ceb43bdf91c46",
     "locked": true,
     "schema_version": 3,
     "solution": false,
     "task": false
    }
   },
   "source": [
    "Vectorisez ce code, c'est à dire utilisez les fonctionnalités de numpy pour supprimer la boucle."
   ]
  },
  {
   "cell_type": "code",
   "execution_count": 37,
   "metadata": {
    "deletable": false,
    "nbgrader": {
     "cell_type": "code",
     "checksum": "a7c80ba3bf1111311f84ac6545e42969",
     "grade": true,
     "grade_id": "cell-aad78a166e898539",
     "locked": false,
     "points": 0,
     "schema_version": 3,
     "solution": true,
     "task": false
    }
   },
   "outputs": [],
   "source": [
    "N=100\n",
    "dx=2./(N-1)\n",
    "x=np.arange(0,N,dx)\n",
    "y= np.exp(-x)*x"
   ]
  },
  {
   "cell_type": "markdown",
   "metadata": {
    "deletable": false,
    "editable": false,
    "nbgrader": {
     "cell_type": "markdown",
     "checksum": "32f8479062c3a3d384fe480120609f93",
     "grade": false,
     "grade_id": "cell-6519c55ab1f11444",
     "locked": true,
     "schema_version": 3,
     "solution": false,
     "task": false
    }
   },
   "source": [
    "## Exercice 7"
   ]
  },
  {
   "cell_type": "markdown",
   "metadata": {
    "deletable": false,
    "editable": false,
    "nbgrader": {
     "cell_type": "markdown",
     "checksum": "4b113fe05e6ee41a7018da2fb840b2eb",
     "grade": false,
     "grade_id": "cell-be849be6a4a93e51",
     "locked": true,
     "schema_version": 3,
     "solution": false,
     "task": false
    }
   },
   "source": [
    "Ci dessous, on applique une fonction Heaviside utilisant les listes à un vecteur $u$ comme exemple"
   ]
  },
  {
   "cell_type": "code",
   "execution_count": 38,
   "metadata": {},
   "outputs": [
    {
     "name": "stdout",
     "output_type": "stream",
     "text": [
      "[-10.  -8.  -6.  -4.  -2.   0.   2.   4.   6.   8.  10.]\n",
      "[0, 0, 0, 0, 0, 0, 1, 1, 1, 1, 1]\n"
     ]
    }
   ],
   "source": [
    "#fonction Heaviside\n",
    "def H(x):\n",
    "    y = []\n",
    "    for a in x:\n",
    "        if a>0:\n",
    "            y.append(1)\n",
    "        else:\n",
    "            y.append(0)\n",
    "    return y\n",
    "            \n",
    "#corps du programme\n",
    "u = np.linspace(-10,10,11)\n",
    "print(u)\n",
    "print(H(u))"
   ]
  },
  {
   "cell_type": "markdown",
   "metadata": {
    "deletable": false,
    "editable": false,
    "nbgrader": {
     "cell_type": "markdown",
     "checksum": "9c401b82c45f508e9df29ea0edda48fc",
     "grade": false,
     "grade_id": "cell-b9a8f05e762cb8fe",
     "locked": true,
     "schema_version": 3,
     "solution": false,
     "task": false
    }
   },
   "source": [
    "Vectorisez la fonction H"
   ]
  },
  {
   "cell_type": "code",
   "execution_count": 39,
   "metadata": {
    "deletable": false,
    "nbgrader": {
     "cell_type": "code",
     "checksum": "c3570343e153a5bb5dfbbd6adcd8558a",
     "grade": true,
     "grade_id": "cell-8f81c520455b2e25",
     "locked": false,
     "points": 0,
     "schema_version": 3,
     "solution": true,
     "task": false
    }
   },
   "outputs": [
    {
     "name": "stdout",
     "output_type": "stream",
     "text": [
      "[-10.  -8.  -6.  -4.  -2.   0.   2.   4.   6.   8.  10.]\n",
      "[0 0 0 0 0 0 1 1 1 1 1]\n"
     ]
    }
   ],
   "source": [
    "#fonction Heaviside\n",
    "def H(x):\n",
    "    x1= np.array(x)\n",
    "    z= x1>0\n",
    "    y=z.astype(int)\n",
    "    return y\n",
    "    \n",
    "#corps du programme\n",
    "u = np.linspace(-10,10,11)\n",
    "print(u)\n",
    "print(H(u))"
   ]
  },
  {
   "cell_type": "markdown",
   "metadata": {
    "deletable": false,
    "editable": false,
    "nbgrader": {
     "cell_type": "markdown",
     "checksum": "c9f0c8f0de86c95817487ec8699b14b9",
     "grade": false,
     "grade_id": "cell-a1240d2e9023daa8",
     "locked": true,
     "schema_version": 3,
     "solution": false,
     "task": false
    }
   },
   "source": [
    "## Exercice 8"
   ]
  },
  {
   "cell_type": "markdown",
   "metadata": {
    "deletable": false,
    "editable": false,
    "nbgrader": {
     "cell_type": "markdown",
     "checksum": "7bb267359e274826a3ea0e27d95005f6",
     "grade": false,
     "grade_id": "cell-dcf91c47ea100162",
     "locked": true,
     "schema_version": 3,
     "solution": false,
     "task": false
    }
   },
   "source": [
    "Générez un numpy array contenant $10^6$ nombres aléatoires tirés d'une loi uniforme entre 0 et 1. Sauvegardez le contenu de ce numpy array au format texte et au format npy. \n",
    "\n",
    "* Comparez le temps d'écriture dans les deux cas (à l'aide du module time).\n",
    "\n",
    "* Comparez la taille des fichiers générés (en allant regarder directement dans le répertoire correspondant).\n",
    "\n",
    "* Chargez chacun des fichiers générés dans un numpy array et vérifiez qu'il n'y a pas eu de corruption de données, en calculant par exemple la somme des différences entre éléments sauvegardés et éléments chargés."
   ]
  },
  {
   "cell_type": "code",
   "execution_count": 40,
   "metadata": {
    "deletable": false,
    "nbgrader": {
     "cell_type": "code",
     "checksum": "fa9921a3848333fa8e36f721feafb964",
     "grade": true,
     "grade_id": "cell-86158de1d9081e60",
     "locked": false,
     "points": 0,
     "schema_version": 3,
     "solution": true,
     "task": false
    }
   },
   "outputs": [
    {
     "name": "stdout",
     "output_type": "stream",
     "text": [
      "3.371732234954834\n",
      "0.08821773529052734\n",
      "text : 0.0 npy : 0.0\n"
     ]
    }
   ],
   "source": [
    "import time\n",
    "\n",
    "X=np.random.uniform(0,1,10**6)\n",
    "\n",
    "tic=time.time()\n",
    "#Sauvegarde format txt \n",
    "np.savetxt('xtext.dat', X)\n",
    "print(time.time() - tic)\n",
    "\n",
    "toc= time.time()\n",
    "#Sauvegarde format npy\n",
    "np.save('xnpy.npy', X)\n",
    "print(time.time() - toc)\n",
    "\n",
    "Yt = np.loadtxt('xtext.dat')\n",
    "\n",
    "Yn =  np.load('xnpy.npy')\n",
    "\n",
    "print(\"text :\", np.sum(X-Yt), \"npy :\", np.sum(X-Yn))\n"
   ]
  },
  {
   "cell_type": "markdown",
   "metadata": {
    "deletable": false,
    "editable": false,
    "nbgrader": {
     "cell_type": "markdown",
     "checksum": "1aff8388ef1526a03639b026b3ebd01e",
     "grade": false,
     "grade_id": "cell-7f5ba609d3019a14",
     "locked": true,
     "schema_version": 3,
     "solution": false,
     "task": false
    }
   },
   "source": [
    "## Exercice 9"
   ]
  },
  {
   "cell_type": "markdown",
   "metadata": {
    "deletable": false,
    "editable": false,
    "nbgrader": {
     "cell_type": "markdown",
     "checksum": "295eebe20d834346cbc5fe118808a660",
     "grade": false,
     "grade_id": "cell-0d2ecfe95960399f",
     "locked": true,
     "schema_version": 3,
     "solution": false,
     "task": false
    }
   },
   "source": [
    "#### Black jack\n",
    "\n",
    "Au black jack, la couleur des cartes (coeur, trèfle, carreau, pique) n'importe pas, seule la valeur associée aux cartes comptes : la valeur indiquée sur la carte de 1 à 10, une valeur de 10 pour le valet, la dame et le roi. Au black jack, l'as vaut normalement un ou onze en fonction du choix du joueur mais nous considérerons ici par simplicité que l'as vaut systématiquement un.\n",
    "\n",
    "* Créez un jeu de 52 cartes à l'aide d'un numpy array contenant la valeur de chacune des cartes.\n",
    "* Mélangez les cartes de manière aléatoire.\n",
    "\n",
    "Entamons maintenant le jeu. L'objectif du joueur est que la somme de ses cartes soit la plus proche possible de 21. Le joueur se voit distribuer deux cartes au début du jeu. Le joueur peut ensuite tirer autant de cartes qu'il le souhaite jusqu'à s'approcher de 21. Si la somme est strictement supérieure à 21, le joueur a perdu. \n",
    "\n",
    "* Créez un jeu interactif demandant à l'utilisateur à chaque étape s'il souhaite tirer une carte supplémentaire.\n",
    "* Indiquez à la fin du jeu quel est le total et si le joueur a perdu le cas échéant.\n"
   ]
  },
  {
   "cell_type": "code",
   "execution_count": 43,
   "metadata": {
    "deletable": false,
    "nbgrader": {
     "cell_type": "code",
     "checksum": "5f32ded1a939a634b1879bcafb53a993",
     "grade": true,
     "grade_id": "cell-b3cc855148307f51",
     "locked": false,
     "points": 0,
     "schema_version": 3,
     "solution": true,
     "task": false
    }
   },
   "outputs": [
    {
     "name": "stdout",
     "output_type": "stream",
     "text": [
      "Votre score est de 15\n",
      "Voulez-vous tirer une carte ? Si oui taper 'oui', si non taper 'non'.oui\n",
      "Vous avez perdu ! Votre score est de 25\n"
     ]
    }
   ],
   "source": [
    "import numpy as np\n",
    "\n",
    "def Quest(): #Question\n",
    "    Qs = str(\"Voulez-vous tirer une carte ? Si oui taper 'oui', si non taper 'non'.\")\n",
    "    Rep = str(input(Qs))\n",
    "    l= [\"oui\", \"non\", \"Oui\", \"Non\"]\n",
    "    while Rep not in l :\n",
    "        print(\"Je n'ai pas compris votre réponse.\")\n",
    "        Rep = str(input(Qs))\n",
    "    return Rep\n",
    "\n",
    "\n",
    "jeu =np.array((list(range(1,11))+[10]*3)*4)\n",
    "partie = np.random.permutation(jeu)\n",
    "\n",
    "#Le joueur tire 2 cartes\n",
    "main= partie[0:2]\n",
    "partie= np.delete(partie,[0,1])\n",
    "\n",
    "print(\"Votre score est de\", sum(main))\n",
    "Rep = Quest()\n",
    "    \n",
    "while Rep == 'oui' or Rep == 'Oui':\n",
    "    main = np.append(main,partie[0])\n",
    "    partie = np.delete(partie,0)\n",
    "    if sum(main)>21 :\n",
    "        print(\"Vous avez perdu ! Votre score est de\", sum(main))\n",
    "        break\n",
    "    print(\"Votre score est de\", sum(main))\n",
    "    Rep = Quest()\n",
    "    \n",
    "if Rep == 'non' or Rep == 'Non':\n",
    "    if sum(main)==21 :\n",
    "        \n",
    "        print(\"Le jeu est fini. Réussite critque ! Votre score est de 21. Bravo\")\n",
    "    else :    \n",
    "        print(\"Le jeu est fini. Votre score est de\", sum(main))\n",
    "\n",
    "    \n",
    "\n"
   ]
  },
  {
   "cell_type": "markdown",
   "metadata": {
    "deletable": false,
    "editable": false,
    "nbgrader": {
     "cell_type": "markdown",
     "checksum": "6b417b6364729b82d65e980f6be41909",
     "grade": false,
     "grade_id": "cell-e0c53aede310a913",
     "locked": true,
     "schema_version": 3,
     "solution": false,
     "task": false
    }
   },
   "source": [
    "Imaginons que le joueur se fixe une règle, si la somme est supérieure ou égale à une valeur $X$, il s'arrête quoiqu'il arrive. Notre objectif est de trouver quelle est la valeur de $X$ qui permet de maximiser les gains. Quelle est la valeur de $X$ qui maximise le score moyen obtenu (parmi par exemple mille parties), en considérant zéro comme score si le jeu est perdu ?"
   ]
  },
  {
   "cell_type": "code",
   "execution_count": 67,
   "metadata": {
    "deletable": false,
    "nbgrader": {
     "cell_type": "code",
     "checksum": "cf62defb11886f169a70bfe742cc9caf",
     "grade": true,
     "grade_id": "cell-8856f85032d1c048",
     "locked": false,
     "points": 0,
     "schema_version": 3,
     "solution": true,
     "task": false
    }
   },
   "outputs": [
    {
     "name": "stdout",
     "output_type": "stream",
     "text": [
      "Le X qui maximise le score moyen, est 11 avec un score moyen égal à 16.165\n"
     ]
    },
    {
     "data": {
      "image/png": "[encoded data removed]",
      "text/plain": [
       "<Figure size 432x288 with 1 Axes>"
      ]
     },
     "metadata": {
      "needs_background": "light"
     },
     "output_type": "display_data"
    }
   ],
   "source": [
    "from  matplotlib  import  pyplot\n",
    "\n",
    "Moy=np.array([])\n",
    "jeu =np.array((list(range(1,11))+[10]*3)*4)\n",
    "\n",
    "for X in range(1,22) :\n",
    "    gain = np.array([])\n",
    "    for i in range(0,1001) :\n",
    "        partie = np.random.permutation(jeu)\n",
    "\n",
    "        #Le joueur tire 2 cartes\n",
    "        main= partie[0:2]\n",
    "        partie= np.delete(partie,[0,1])\n",
    "\n",
    "        while sum(main)<X:\n",
    "            main = np.append(main,partie[0])\n",
    "            partie = np.delete(partie,0)\n",
    "            if sum(main)>21 :\n",
    "                gain = np.append(gain, 0)\n",
    "                break\n",
    "     \n",
    "        if sum(main)<= 21 :\n",
    "            gain = np.append(gain, sum(main))\n",
    "\n",
    "    Moyenne = np.sum(gain)/1000 #Moyenne des gains pour mille parties\n",
    "    Moy = np.append(Moy, Moyenne)\n",
    "    \n",
    "Xmax = np.argmax(Moy)\n",
    "MoyenneMax = np.max(Moy)\n",
    "print(\"Le X qui maximise le score moyen, est\", Xmax, \"avec un score moyen égal à\", MoyenneMax)\n",
    "\n",
    "x_list = np.arange(1,22)\n",
    "y_list = Moy\n",
    "\n",
    "fig = pyplot.figure()\n",
    "pyplot.plot(x_list ,y_list, marker = 'o')\n",
    "pyplot.show()\n"
   ]
  },
  {
   "cell_type": "code",
   "execution_count": null,
   "metadata": {},
   "outputs": [],
   "source": []
  }
 ],
 "metadata": {
  "kernelspec": {
   "display_name": "Python 3",
   "language": "python",
   "name": "python3"
  },
  "language_info": {
   "codemirror_mode": {
    "name": "ipython",
    "version": 3
   },
   "file_extension": ".py",
   "mimetype": "text/x-python",
   "name": "python",
   "nbconvert_exporter": "python",
   "pygments_lexer": "ipython3",
   "version": "3.7.1"
  }
 },
 "nbformat": 4,
 "nbformat_minor": 1
}
