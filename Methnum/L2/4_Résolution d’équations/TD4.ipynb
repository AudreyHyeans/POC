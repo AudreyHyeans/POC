{
 "cells": [
  {
   "cell_type": "markdown",
   "metadata": {},
   "source": [
    "Quelques conseils:\n",
    "- pour exécutez une cellule, cliquez sur le bouton *Exécuter* ci-dessus ou tapez **Shift+Enter**\n",
    "- si l'exécution d'une cellule prend trop de temps, sélectionner dans le menu ci-dessus *Noyau/Interrompre*\n",
    "- en cas de très gros plantage *Noyau/Redémarrer*\n",
    "- **sauvegardez régulièrement vos réponses** en cliquant sur l'icone disquette ci-dessus à gauche, ou *Fichier/Créer une nouvelle sauvegarde*\n",
    "\n",
    "Pour répondre aux questions, remplacer les lignes  \n",
    "```python \n",
    "#LA REPONSE ICI\n",
    "raise NotImplementedError()\n",
    "``` \n",
    "par vos réponses, et remplissez les champs ci-dessous:"
   ]
  },
  {
   "cell_type": "code",
   "execution_count": 81,
   "metadata": {},
   "outputs": [],
   "source": [
    "NOM = \"Martinez\"\n",
    "PRENOM = \"Maud\"\n",
    "GROUPE = \"1\"\n",
    "DATE = \"15/10/20196\""
   ]
  },
  {
   "cell_type": "markdown",
   "metadata": {},
   "source": [
    "---"
   ]
  },
  {
   "cell_type": "markdown",
   "metadata": {},
   "source": [
    "# TD 4: Résolution d'équations"
   ]
  },
  {
   "cell_type": "markdown",
   "metadata": {},
   "source": [
    "## Exercice 1 : Recherche du minimum d'une fonction"
   ]
  },
  {
   "cell_type": "markdown",
   "metadata": {},
   "source": [
    "On s'intéresse à la fonction $f(x)=x^2-x-1$, dont la racine positive est le fameux nombre d'or.\n",
    "- Définir et tracer la fonction.\n"
   ]
  },
  {
   "cell_type": "code",
   "execution_count": 82,
   "metadata": {},
   "outputs": [],
   "source": [
    "import numpy as np\n",
    "from matplotlib import pyplot as plt"
   ]
  },
  {
   "cell_type": "code",
   "execution_count": 83,
   "metadata": {
    "deletable": false,
    "nbgrader": {
     "cell_type": "code",
     "checksum": "c01966812311139076bb22e9786c50f5",
     "grade": true,
     "grade_id": "cell-7652005494920c52",
     "locked": false,
     "points": 0,
     "schema_version": 3,
     "solution": true,
     "task": false
    }
   },
   "outputs": [
    {
     "data": {
      "image/png": "[encoded data removed]",
      "text/plain": [
       "<Figure size 432x288 with 1 Axes>"
      ]
     },
     "metadata": {
      "needs_background": "light"
     },
     "output_type": "display_data"
    }
   ],
   "source": [
    "def fonct(x): \n",
    "    return x**2-x-1\n",
    "\n",
    "X= np.linspace(-10,10,100)\n",
    "Y=fonct(X)\n",
    "\n",
    "fig=plt.figure()\n",
    "plt.plot(X,Y)\n",
    "plt.xlabel('X')\n",
    "plt.ylabel('Y')\n",
    "plt.title(\"Fonction donnant le nombre d'or\")\n",
    "plt.show()"
   ]
  },
  {
   "cell_type": "markdown",
   "metadata": {},
   "source": [
    "- Écrire une fonction `minimum` qui prend pour arguments $f,a,b,N$ et retourne l'abscisse du premier minimum.\n",
    "- Rechercher la valeur du minimum de cette fonction et son abscisse. Comparer avec le résultat attendu."
   ]
  },
  {
   "cell_type": "code",
   "execution_count": 84,
   "metadata": {
    "deletable": false,
    "nbgrader": {
     "cell_type": "code",
     "checksum": "da2c0e073ab77158473b3038eaed0a30",
     "grade": true,
     "grade_id": "cell-82e07fa7f90bdbe2",
     "locked": false,
     "points": 0,
     "schema_version": 3,
     "solution": true,
     "task": false
    }
   },
   "outputs": [],
   "source": [
    "def minimum(f,a,b,N):\n",
    "    X= np.linspace(a,b,N)\n",
    "    Y=f(X)\n",
    "    return X[np.argmin(Y)]"
   ]
  },
  {
   "cell_type": "code",
   "execution_count": 85,
   "metadata": {},
   "outputs": [],
   "source": [
    "def racine(f,a,b,N):\n",
    "    X= np.linspace(a,b,N)\n",
    "    Y=np.abs((f(X)))\n",
    "    return X[np.argmin(Y)]"
   ]
  },
  {
   "cell_type": "code",
   "execution_count": 86,
   "metadata": {},
   "outputs": [
    {
     "name": "stdout",
     "output_type": "stream",
     "text": [
      "Le minimum de f est -1.2499999999997975 d'abscisse 0.49999954999995566\n"
     ]
    }
   ],
   "source": [
    "m= minimum(fonct,-5,5,10000000)\n",
    "print('Le minimum de f est', fonct(m),\"d'abscisse\",m)"
   ]
  },
  {
   "cell_type": "code",
   "execution_count": 87,
   "metadata": {},
   "outputs": [
    {
     "name": "stdout",
     "output_type": "stream",
     "text": [
      "La racine de f est -1.2499999999997975 d'abscisse 0.49999954999995566\n"
     ]
    }
   ],
   "source": [
    "r=racine(fonct,0,5,100)\n",
    "print('La racine de f est', fonct(m),\"d'abscisse\",m)"
   ]
  },
  {
   "cell_type": "markdown",
   "metadata": {},
   "source": [
    "- Comparer l'écart entre la valeur théorique et le résultat obtenu avec la taille du pas de discrétisation de la fonction, puis tenter d'avoir une précision à $10^{-12}$.\n"
   ]
  },
  {
   "cell_type": "markdown",
   "metadata": {
    "deletable": false,
    "nbgrader": {
     "cell_type": "markdown",
     "checksum": "6f7de468d818b3011888b98aa2b8f099",
     "grade": true,
     "grade_id": "cell-855de7385d3593ea",
     "locked": false,
     "points": 0,
     "schema_version": 3,
     "solution": true,
     "task": false
    }
   },
   "source": [
    "YOUR ANSWER HERE"
   ]
  },
  {
   "cell_type": "code",
   "execution_count": 88,
   "metadata": {
    "deletable": false,
    "nbgrader": {
     "cell_type": "code",
     "checksum": "cf734f96f4db56d4d8d94dbea229f99d",
     "grade": true,
     "grade_id": "cell-d83ed49cb3a88f54",
     "locked": false,
     "points": 0,
     "schema_version": 3,
     "solution": true,
     "task": false
    }
   },
   "outputs": [
    {
     "ename": "NotImplementedError",
     "evalue": "",
     "output_type": "error",
     "traceback": [
      "\u001b[0;31m---------------------------------------------------------------------------\u001b[0m",
      "\u001b[0;31mNotImplementedError\u001b[0m                       Traceback (most recent call last)",
      "\u001b[0;32m<ipython-input-88-15b94d1fa268>\u001b[0m in \u001b[0;36m<module>\u001b[0;34m\u001b[0m\n\u001b[1;32m      1\u001b[0m \u001b[0;31m# YOUR CODE HERE\u001b[0m\u001b[0;34m\u001b[0m\u001b[0;34m\u001b[0m\u001b[0;34m\u001b[0m\u001b[0m\n\u001b[0;32m----> 2\u001b[0;31m \u001b[0;32mraise\u001b[0m \u001b[0mNotImplementedError\u001b[0m\u001b[0;34m(\u001b[0m\u001b[0;34m)\u001b[0m\u001b[0;34m\u001b[0m\u001b[0;34m\u001b[0m\u001b[0m\n\u001b[0m",
      "\u001b[0;31mNotImplementedError\u001b[0m: "
     ]
    }
   ],
   "source": [
    "# YOUR CODE HERE\n",
    "raise NotImplementedError()"
   ]
  },
  {
   "cell_type": "markdown",
   "metadata": {},
   "source": [
    "\n",
    "On s'intéresse maintenant à la fonction $g(x)=x^4 - x^2 + 0.3848x$.\n",
    "- Définir et tracer la fonction.\n",
    "\n"
   ]
  },
  {
   "cell_type": "code",
   "execution_count": 89,
   "metadata": {
    "deletable": false,
    "nbgrader": {
     "cell_type": "code",
     "checksum": "5dbf7fb7c15cbd8def0d33b4a995213f",
     "grade": true,
     "grade_id": "cell-a88d09c065d26364",
     "locked": false,
     "points": 0,
     "schema_version": 3,
     "solution": true,
     "task": false
    }
   },
   "outputs": [
    {
     "data": {
      "image/png": "[encoded data removed]",
      "text/plain": [
       "<Figure size 432x288 with 1 Axes>"
      ]
     },
     "metadata": {
      "needs_background": "light"
     },
     "output_type": "display_data"
    }
   ],
   "source": [
    "def g(x):\n",
    "    return x**4-x**2+0.3848*x\n",
    "\n",
    "X= np.linspace(-1,1,100)\n",
    "Y=g(X)\n",
    "\n",
    "fig=plt.figure()\n",
    "plt.plot(X,Y)\n",
    "plt.xlabel('X')\n",
    "plt.ylabel('Y')\n",
    "plt.title(\"Fonction g\")\n",
    "plt.show()"
   ]
  },
  {
   "cell_type": "markdown",
   "metadata": {},
   "source": [
    "- Rechercher la valeur du minimum d'abscisse ''positive'' de cette fonction et son abscisse. Faites varier la taille du pas de discrétisation et constater son importance (essayez un pas de 0.1)."
   ]
  },
  {
   "cell_type": "code",
   "execution_count": 90,
   "metadata": {
    "deletable": false,
    "nbgrader": {
     "cell_type": "code",
     "checksum": "033c2c1e41dfdb0b88ba868a4f26cbe5",
     "grade": true,
     "grade_id": "cell-e58a85ff7b78563b",
     "locked": false,
     "points": 0,
     "schema_version": 3,
     "solution": true,
     "task": false
    }
   },
   "outputs": [
    {
     "name": "stdout",
     "output_type": "stream",
     "text": [
      "Le minimum de f est -1.0 d'abscisse 0.0 avec un pas de discrétisation de 0.1\n",
      "Le minimum de f est -1.2436 d'abscisse 0.58 avec un pas de discrétisation de 0.01\n",
      "Le minimum de f est -1.244071 d'abscisse 0.577 avec un pas de discrétisation de 0.001\n",
      "Le minimum de f est -1.24400924 d'abscisse 0.5774 avec un pas de discrétisation de 0.0001\n",
      "Le minimum de f est -1.24400924 d'abscisse 0.5774 avec un pas de discrétisation de 1e-05\n",
      "Le minimum de f est -1.24400924 d'abscisse 0.5774 avec un pas de discrétisation de 1e-06\n"
     ]
    }
   ],
   "source": [
    "def minPas(f,a,b,N):\n",
    "    X= np.arange(a,b,N)\n",
    "    Y=f(X)\n",
    "    return X[np.argmin(Y)]\n",
    "\n",
    "for N in range(1,7):\n",
    "    m= minPas(g,0,5,10**-N)\n",
    "    print('Le minimum de f est', fonct(m),\"d'abscisse\",m,\"avec un pas de discrétisation de\",10**-N)"
   ]
  },
  {
   "cell_type": "markdown",
   "metadata": {},
   "source": [
    "## Exercice 2 : Méthode de la dichotomie"
   ]
  },
  {
   "cell_type": "markdown",
   "metadata": {},
   "source": [
    "- Ecrire en python un algorithme de recherche du zéro d'une fonction par la méthode de la dichotomie dans une fonction `dichotomie` qui prendra pour argument $f,a,b,\\epsilon $ et retourne le zéro recherché."
   ]
  },
  {
   "cell_type": "code",
   "execution_count": 108,
   "metadata": {
    "deletable": false,
    "nbgrader": {
     "cell_type": "code",
     "checksum": "5575c07bed13846bf7c9422ebaa8aac5",
     "grade": true,
     "grade_id": "cell-9e13b85e151248e2",
     "locked": false,
     "points": 0,
     "schema_version": 3,
     "solution": true,
     "task": false
    }
   },
   "outputs": [],
   "source": [
    "def dichotomie(f,a,b,e):\n",
    "    c=0\n",
    "    while (b-a)>e :\n",
    "        c += 1\n",
    "        x=(a+b)/2\n",
    "        y=f(x)\n",
    "        \n",
    "        if f(a)*y >0:\n",
    "            a = x\n",
    "        else : \n",
    "            b = x\n",
    "    return x,c"
   ]
  },
  {
   "cell_type": "markdown",
   "metadata": {},
   "source": [
    "- Appliquer l'algorithme à la recherche du nombre d'or avec une précision $\\epsilon = 10^{-12}$.\n"
   ]
  },
  {
   "cell_type": "code",
   "execution_count": 109,
   "metadata": {
    "deletable": false,
    "nbgrader": {
     "cell_type": "code",
     "checksum": "80752ac1c7528117b542c5dfeb2db393",
     "grade": true,
     "grade_id": "cell-bffd90745c53cafe",
     "locked": false,
     "points": 0,
     "schema_version": 3,
     "solution": true,
     "task": false
    }
   },
   "outputs": [
    {
     "name": "stdout",
     "output_type": "stream",
     "text": [
      "L'approximation du nombre d'or est de 1.6180339887498576 avec une précision de 1e-12\n"
     ]
    }
   ],
   "source": [
    "O,c = dichotomie(fonct,0,3,10**-12)\n",
    "print(\"L'approximation du nombre d'or est de\",O,\"avec une précision de\",10**-12)"
   ]
  },
  {
   "cell_type": "markdown",
   "metadata": {},
   "source": [
    "- Compter et afficher le nombre N d'itérations nécessaires, à renvoyer aussi avec le zéro par la fonction `dichotomie`. Constater que le choix de l'intervalle initial n'est pas très important tant qu'un seul zéro est contenu dans cet intervalle.\n"
   ]
  },
  {
   "cell_type": "code",
   "execution_count": 111,
   "metadata": {
    "deletable": false,
    "nbgrader": {
     "cell_type": "code",
     "checksum": "0c84df605407bddd3fd53b6e06feb557",
     "grade": true,
     "grade_id": "cell-b89d84ccb7b0fe33",
     "locked": false,
     "points": 0,
     "schema_version": 3,
     "solution": true,
     "task": false
    }
   },
   "outputs": [
    {
     "name": "stdout",
     "output_type": "stream",
     "text": [
      "L'approximation du nombre d'or est de 1.6180339887498942 avec une précision de 1e-14 et utilise 52 itérations\n"
     ]
    }
   ],
   "source": [
    "O,C=dichotomie(fonct,0,3,10**-15)\n",
    "print(\"L'approximation du nombre d'or est de\",O,\"avec une précision de\",10**-14,\"et utilise\",C,\"itérations\")"
   ]
  },
  {
   "cell_type": "markdown",
   "metadata": {},
   "source": [
    "- Tracer le nombre d'itérations en fonction de la précision demandée, pour $\\epsilon \\in [10^{-3},10^{-15}]$. Quelle loi mathématique la convergence semble suivre en fonction de la précision ?\n"
   ]
  },
  {
   "cell_type": "code",
   "execution_count": 127,
   "metadata": {
    "deletable": false,
    "nbgrader": {
     "cell_type": "code",
     "checksum": "5dbf69fbc6233896e65096e611c70cab",
     "grade": true,
     "grade_id": "cell-6582210bc960a007",
     "locked": false,
     "points": 0,
     "schema_version": 3,
     "solution": true,
     "task": false
    }
   },
   "outputs": [
    {
     "data": {
      "image/png": "[encoded data removed]",
      "text/plain": [
       "<Figure size 432x288 with 1 Axes>"
      ]
     },
     "metadata": {
      "needs_background": "light"
     },
     "output_type": "display_data"
    }
   ],
   "source": [
    "E=1/10**np.arange(3,16)\n",
    "Y=[dichotomie(fonct,0,3,e)[1] for e in E]\n",
    "\n",
    "\n",
    "\n",
    "fig=plt.figure()   \n",
    "plt.plot(E,Y,linestyle='None', marker='o')\n",
    "plt.xscale('log')\n",
    "plt.xlabel('précision')\n",
    "plt.ylabel(\"Nombre d'itération\")\n",
    "plt.title(\"Nombre d'itérations de la dichotomie en fonction de la précision\")\n",
    "plt.show()"
   ]
  },
  {
   "cell_type": "markdown",
   "metadata": {},
   "source": [
    "## Exercice 3 : Méthode de Newton"
   ]
  },
  {
   "cell_type": "markdown",
   "metadata": {},
   "source": [
    "- Écrire en python un  algorithme de recherche du zéro d'une fonction par la méthode de Newton dans une fonction `newton` qui prendra pour argument $f,f',x_0,\\epsilon$ et retourne le zéro recherché."
   ]
  },
  {
   "cell_type": "code",
   "execution_count": 122,
   "metadata": {
    "deletable": false,
    "nbgrader": {
     "cell_type": "code",
     "checksum": "7a316790a96ea242638c5b7e30b726a2",
     "grade": true,
     "grade_id": "cell-9a6d73f81d90a614",
     "locked": false,
     "points": 0,
     "schema_version": 3,
     "solution": true,
     "task": false
    }
   },
   "outputs": [],
   "source": [
    "def newton(f,fd,xo,e):\n",
    "    X1=xo\n",
    "    X2=xo-f(xo)/fd(xo)\n",
    "    c=0\n",
    "    \n",
    "    while np.abs(X2-X1)>e :\n",
    "        c+=1\n",
    "        X1=X2\n",
    "        X2=X1-f(X1)/fd(X1)\n",
    "    return X2,c\n",
    "        "
   ]
  },
  {
   "cell_type": "markdown",
   "metadata": {},
   "source": [
    "- Appliquer l'algorithme à la recherche du nombre d'or avec une précision $\\epsilon = 10^{-12}$.\n"
   ]
  },
  {
   "cell_type": "code",
   "execution_count": 126,
   "metadata": {
    "deletable": false,
    "nbgrader": {
     "cell_type": "code",
     "checksum": "aecb2e60848a2e70acfaa1b4f4dfd128",
     "grade": true,
     "grade_id": "cell-85811be2c4f02135",
     "locked": false,
     "points": 0,
     "schema_version": 3,
     "solution": true,
     "task": false
    }
   },
   "outputs": [
    {
     "name": "stdout",
     "output_type": "stream",
     "text": [
      "L'approximation du nombre d'or est de 1.618033988749895 avec une précision de 0.001 et utilise 4 itérations\n"
     ]
    }
   ],
   "source": [
    "def der_fonct(x):\n",
    "    return 2*x-1\n",
    "\n",
    "x,C= newton(fonct,der_fonct,1.5,10**-12)\n",
    "print(\"L'approximation du nombre d'or est de\",x,\"avec une précision de\",10**-3,\"et utilise\",C,\"itérations\")"
   ]
  },
  {
   "cell_type": "markdown",
   "metadata": {},
   "source": [
    "- Tracer le nombre d'itérations en fonction de la précision demandée, pour $\\epsilon \\in [10^{-3},10^{-15}]$. Comparer à la méthode de la dichotomie, puis tester la sensibilité de l'algorithme au choix de $x_0$\n"
   ]
  },
  {
   "cell_type": "code",
   "execution_count": 140,
   "metadata": {
    "deletable": false,
    "nbgrader": {
     "cell_type": "code",
     "checksum": "0652086fd4e8c592b640eea57f86d867",
     "grade": true,
     "grade_id": "cell-0e1403533eb7e2cb",
     "locked": false,
     "points": 0,
     "schema_version": 3,
     "solution": true,
     "task": false
    }
   },
   "outputs": [
    {
     "data": {
      "image/png": "[encoded data removed]",
      "text/plain": [
       "<Figure size 432x288 with 1 Axes>"
      ]
     },
     "metadata": {
      "needs_background": "light"
     },
     "output_type": "display_data"
    }
   ],
   "source": [
    "E=1/10**np.arange(3,16)\n",
    "\n",
    "fig=plt.figure() \n",
    "\n",
    "for xo in [1,1.5,1.6,10]:\n",
    "    Y=[newton(fonct,der_fonct,xo,e)[1] for e in E]\n",
    "  \n",
    "    plt.plot(E,Y, marker='o',label='xo = '+str(xo))\n",
    "plt.xscale('log')\n",
    "plt.legend()\n",
    "plt.xlabel('Précision')\n",
    "plt.ylabel(\"Nombre d'itération\")\n",
    "plt.title(\"Nombre d'itérations de la méthode de Newton en fonction de la précision\")\n",
    "plt.show()"
   ]
  },
  {
   "cell_type": "markdown",
   "metadata": {},
   "source": [
    "- Comparer les résultats obtenus avec la valeur renvoyée par la librairie Python `math`. En déduire un ordre de grandeur de la précision de cette dernière."
   ]
  },
  {
   "cell_type": "code",
   "execution_count": 141,
   "metadata": {
    "deletable": false,
    "nbgrader": {
     "cell_type": "code",
     "checksum": "dc3e944844f8adb9ac1d3cde7f41b11c",
     "grade": true,
     "grade_id": "cell-a0ebeef8b88fb9c2",
     "locked": false,
     "points": 0,
     "schema_version": 3,
     "solution": true,
     "task": false
    }
   },
   "outputs": [
    {
     "name": "stdout",
     "output_type": "stream",
     "text": [
      "1.618033988749895\n",
      "1.618033988749895\n"
     ]
    }
   ],
   "source": [
    "import scipy.optimize as opt\n",
    "print(opt.fsolve(fonct,1.6)[0])\n",
    "print(x)"
   ]
  },
  {
   "cell_type": "markdown",
   "metadata": {},
   "source": [
    "## Exercice 4 : Résolution de systèmes d'équations linéaires"
   ]
  },
  {
   "cell_type": "markdown",
   "metadata": {},
   "source": [
    "Définir une fonction `solver(A,B)` qui calcule le déterminant de $A$ et résout le système d'équations linéaires $A\\cdot X = B$ par la méthode de l'inverse, la décomposition LU et la méthode des moindres carrés. Dans cette fonction on permettra l'impression à l'écran des solutions et du temps mis à les calculer pour chacune des méthodes (utiliser le module `time`). Utiliser cette fonction dans les cas suivants, et commenter chacun des résultats (quel algorithme est le plus adapté, etc) :\n",
    "\n",
    "Cas 1: $$x_1 + 3 x_2 = 2$$\n",
    "$$ 4 x_2 + 2x_3 = 0$$\n",
    "$$x_1 + 6 x_2 -3x_3 = -1$$\n"
   ]
  },
  {
   "cell_type": "code",
   "execution_count": 174,
   "metadata": {
    "deletable": false,
    "nbgrader": {
     "cell_type": "code",
     "checksum": "a0484a6cd6923bf2a5d0a17b184d6dc2",
     "grade": true,
     "grade_id": "cell-b6f1020acf5bb71b",
     "locked": false,
     "points": 0,
     "schema_version": 3,
     "solution": true,
     "task": false
    }
   },
   "outputs": [],
   "source": [
    "import time\n",
    "\n",
    "def solver_inv(A,B):\n",
    "    \n",
    "    t=time.clock()\n",
    "    x= np.dot(np.linalg.inv(A),B)\n",
    "    t=time.clock()-t\n",
    "    #print('solution :',x)\n",
    "    print('temps de calcul inv :',t)\n",
    "    \n",
    "def solver_LU(A,B):\n",
    "    \n",
    "    t=time.clock()\n",
    "    x= np.linalg.solve(A,B)\n",
    "    t=time.clock() -t\n",
    "    #print('solution :',x,)\n",
    "    print('temps de calcul LU :',t)\n",
    "    \n",
    "def solver_carré(A,B):\n",
    "    t=time.clock()\n",
    "    x= np.linalg.lstsq(A,B,rcond=None)\n",
    "    t=time.clock() -t\n",
    "    #print('solution :',x,)\n",
    "    print('temps de calcul carré :',t)\n",
    "    \n",
    "    \n",
    "    \n",
    "    "
   ]
  },
  {
   "cell_type": "code",
   "execution_count": 170,
   "metadata": {},
   "outputs": [
    {
     "name": "stdout",
     "output_type": "stream",
     "text": [
      "temps de calcul : 0.0003030000000023847\n",
      "temps de calcul : 0.00012000000000966793\n",
      "temps de calcul : 0.000273000000021284\n"
     ]
    }
   ],
   "source": [
    "A=np.array([[1,3,0],\n",
    "            [0,4,2],\n",
    "            [1,6,-3]])\n",
    "B=np.array([[2],\n",
    "            [0],\n",
    "            [-1]])\n",
    "\n",
    "solver_inv(A,B)\n",
    "solver_LU(A,B)\n",
    "solver_carré(A,B)"
   ]
  },
  {
   "cell_type": "markdown",
   "metadata": {},
   "source": [
    "Cas 2: $$x_1 + 2 x_2 + 3x_3 = 1$$\n",
    "$$ 4 x_1 + 5x_2 + 6x_3 = 2$$\n",
    "$$7x_1 + 8x_2 + 9x_3 = 3$$"
   ]
  },
  {
   "cell_type": "code",
   "execution_count": 171,
   "metadata": {
    "deletable": false,
    "nbgrader": {
     "cell_type": "code",
     "checksum": "d1d028aeffc64236e8d51f565870da30",
     "grade": true,
     "grade_id": "cell-6d4f6df1a3a83eec",
     "locked": false,
     "points": 0,
     "schema_version": 3,
     "solution": true,
     "task": false
    }
   },
   "outputs": [
    {
     "name": "stdout",
     "output_type": "stream",
     "text": [
      "temps de calcul : 0.00015199999998571911\n"
     ]
    }
   ],
   "source": [
    "A=np.array([[1,2,3],\n",
    "            [4,5,6],\n",
    "            [7,8,9]])\n",
    "B=np.array([[1],\n",
    "            [2],\n",
    "            [3]])\n",
    "\n",
    "#solver_inv(A,B)\n",
    "#solver_LU(A,B)\n",
    "solver_carré(A,B)"
   ]
  },
  {
   "cell_type": "markdown",
   "metadata": {},
   "source": [
    "Cas 3: $$x_1 + 2 x_2 + 3x_3 = 1$$\n",
    "$$ 4 x_1 + 5x_2 + 6x_3 = 2$$\n",
    "$$7x_1 + 8x_2 + 9x_3 = 3$$\n",
    "$$10x_1 + 11x_2 + 12x_3 = 4$$\n"
   ]
  },
  {
   "cell_type": "code",
   "execution_count": 172,
   "metadata": {
    "deletable": false,
    "nbgrader": {
     "cell_type": "code",
     "checksum": "4707588df3073e5cdb9c371aa8c6aebe",
     "grade": true,
     "grade_id": "cell-a45d26275b1aa948",
     "locked": false,
     "points": 0,
     "schema_version": 3,
     "solution": true,
     "task": false
    }
   },
   "outputs": [
    {
     "name": "stdout",
     "output_type": "stream",
     "text": [
      "temps de calcul : 0.00016100000001983972\n"
     ]
    }
   ],
   "source": [
    "A=np.array([[1,2,3],\n",
    "            [4,5,6],\n",
    "            [7,8,9],\n",
    "            [10,11,12]])\n",
    "B=np.array([[1],\n",
    "            [2],\n",
    "            [3],\n",
    "            [4]])\n",
    "\n",
    "#solver_inv(A,B)\n",
    "#solver_LU(A,B)\n",
    "solver_carré(A,B)"
   ]
  },
  {
   "cell_type": "markdown",
   "metadata": {},
   "source": [
    "Cas 4:   $ \\forall i\\leq N, b_i = i, a_{ii}=i+j+1,\\quad \\forall i\\neq j, a_{ij}=i+j $ pour un système de $N=10,100,1000$ équations linéaires."
   ]
  },
  {
   "cell_type": "code",
   "execution_count": 178,
   "metadata": {
    "deletable": false,
    "nbgrader": {
     "cell_type": "code",
     "checksum": "69e5a6a0145d2c9fc9b35384b8204210",
     "grade": true,
     "grade_id": "cell-2354ed1e66423ed0",
     "locked": false,
     "points": 0,
     "schema_version": 3,
     "solution": true,
     "task": false
    }
   },
   "outputs": [
    {
     "name": "stdout",
     "output_type": "stream",
     "text": [
      "10 équations\n",
      "temps de calcul inv : 0.0005730000000028213\n",
      "temps de calcul LU : 0.00026700000000801083\n",
      "temps de calcul carré : 0.0010039999999946758\n",
      "100 équations\n",
      "temps de calcul inv : 0.007184000000023616\n",
      "temps de calcul LU : 0.00538699999998471\n",
      "temps de calcul carré : 0.008678000000003294\n",
      "1000 équations\n",
      "temps de calcul inv : 0.2780390000000068\n",
      "temps de calcul LU : 0.09142500000001519\n",
      "temps de calcul carré : 0.8725680000000011\n"
     ]
    }
   ],
   "source": [
    "#i,j in np.arange(1,N)\n",
    "def matrix(N):\n",
    "    A = np.zeros((N,N))\n",
    "    B=np.zeros((N,1))\n",
    "    for i in range(N):\n",
    "        for j in range(N):\n",
    "            if i==j : \n",
    "                A[i][j] =i+1+j+1+1\n",
    "            else : \n",
    "                A[i][j]=i+1+j+1\n",
    "        B[i][0]=i+1\n",
    "    return A,B\n",
    "\n",
    "\n",
    "for n in [10,100,1000] :\n",
    "    A,B=matrix(n)\n",
    "    print(n,'équations')\n",
    "    solver_inv(A,B)\n",
    "    solver_LU(A,B)\n",
    "    solver_carré(A,B)\n"
   ]
  },
  {
   "cell_type": "markdown",
   "metadata": {},
   "source": [
    "## Exercice 5 : Position d'équilibre d'un pendule chargé\n"
   ]
  },
  {
   "cell_type": "markdown",
   "metadata": {},
   "source": [
    "<img align=\"center\" src=\"plots/pendule_charge.png\" width=\"50%\" />\n",
    "\n",
    "Soit un pendule de masse $m$, de charge $q$ et de longueur de fil $\\ell$. On place à proximité une seconde charge q', aux coordonnées $(x_q,z_q)$. L'énergie potentielle de gravitation du pendule peut s'écrire \n",
    "\n",
    "$$ V_g = mgz = -mg\\ell \\cos\\theta$$ \n",
    "où $\\theta$ est l'angle que le pendule fait avec la verticale. De même l'énergie potentielle électrostatique entre les deux charges s'écrit :\n",
    "\n",
    "$$ V_e = \\frac{1}{4\\pi \\epsilon_0} \\frac{qq'}{\\sqrt{(\\ell\\sin\\theta - x_q)^2 + (\\ell(1-\\cos\\theta)-z_q)^2}}$$ \n",
    "\n",
    "On sait que le minimum de la fonction est donné par l'annulation de sa dérivée première :\n",
    "\n",
    "$$ \\frac{\\mathrm{d} V_e+V_g}{\\mathrm{d} \\theta} =0 $$\n",
    "\n",
    "On obtient après quelques lignes de calcul :\n",
    "\n",
    "$$ \\sin \\theta + \\frac{qq'}{4\\pi \\epsilon_0 m g } \\frac{x_q \\cos\\theta + (z_q - \\ell)\\sin \\theta}{\\left[(\\ell\\sin \\theta - x_q)^2 + (\\ell(1-\\cos\\theta)-z_q)^2\\right]^{3/2}} = 0$$\n",
    "\n",
    "ce qui n'est pas évident à résoudre analytiquement.\n",
    "\n",
    "Résoudre cette équation par la méthode de la dichotomie. On posera $ c = \\frac{qq'}{4\\pi \\epsilon_0 m g } $ et on tracera $\\theta_0$ en fonction de $ c\\in[-2,2] $, pour $\\ell=1, x_q = 1, z_q=0$. On choisira judicieusement l'intervalle initial. La position d'équilibre suit-elle une loi conforme à ce qu'on s'attend intuitivement ?"
   ]
  },
  {
   "cell_type": "code",
   "execution_count": 182,
   "metadata": {
    "deletable": false,
    "nbgrader": {
     "cell_type": "code",
     "checksum": "3fb86b595e2d931b30406671ae42d0ca",
     "grade": true,
     "grade_id": "cell-248d959bc3e6061f",
     "locked": false,
     "points": 0,
     "schema_version": 3,
     "solution": true,
     "task": false
    }
   },
   "outputs": [],
   "source": [
    "\n",
    "\n",
    "def blop(thet, l=1, Xq=1, Zq=0):\n",
    "    num= Xq*np.cos(thet)+(Zq-l)*np.sin(thet)\n",
    "    den= ((l*np.sin(thet)-Xq)**2 + (l*(1-np.cos(thet))-Zq)**2)**1.5\n",
    "    return np.sin(thet)+c*num/den\n",
    "\n"
   ]
  },
  {
   "cell_type": "code",
   "execution_count": null,
   "metadata": {},
   "outputs": [],
   "source": []
  },
  {
   "cell_type": "code",
   "execution_count": 187,
   "metadata": {},
   "outputs": [
    {
     "data": {
      "image/png": "[encoded data removed]",
      "text/plain": [
       "<Figure size 432x288 with 1 Axes>"
      ]
     },
     "metadata": {
      "needs_background": "light"
     },
     "output_type": "display_data"
    }
   ],
   "source": [
    "N=100\n",
    "Tho=np.array([])\n",
    "C=np.linspace(-2,2,N)\n",
    "for c in C:\n",
    "    D= dichotomie(blop,-1,1,10**-3)[0]\n",
    "    Tho=np.append(Tho,D)\n",
    "\n",
    "fig=plt.figure()   \n",
    "plt.plot(C,Tho,linestyle='None', marker='+')\n",
    "#plt.xscale('log')\n",
    "plt.xlabel('C')\n",
    "plt.ylabel(\"Tho\")\n",
    "plt.title(\"Tho en fonction de c\")\n",
    "plt.show()"
   ]
  },
  {
   "cell_type": "code",
   "execution_count": null,
   "metadata": {},
   "outputs": [],
   "source": []
  }
 ],
 "metadata": {
  "kernelspec": {
   "display_name": "Python 3",
   "language": "python",
   "name": "python3"
  },
  "language_info": {
   "codemirror_mode": {
    "name": "ipython",
    "version": 3
   },
   "file_extension": ".py",
   "mimetype": "text/x-python",
   "name": "python",
   "nbconvert_exporter": "python",
   "pygments_lexer": "ipython3",
   "version": "3.8.6"
  }
 },
 "nbformat": 4,
 "nbformat_minor": 2
}
