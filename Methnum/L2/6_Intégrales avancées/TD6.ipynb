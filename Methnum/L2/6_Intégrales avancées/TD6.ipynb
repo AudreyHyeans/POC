{
 "cells": [
  {
   "cell_type": "markdown",
   "metadata": {},
   "source": [
    "Quelques conseils:\n",
    "- pour exécutez une cellule, cliquez sur le bouton *Exécuter* ci-dessus ou tapez **Shift+Enter**\n",
    "- si l'exécution d'une cellule prend trop de temps, sélectionner dans le menu ci-dessus *Noyau/Interrompre*\n",
    "- en cas de très gros plantage *Noyau/Redémarrer*\n",
    "- **sauvegardez régulièrement vos réponses** en cliquant sur l'icone disquette ci-dessus à gauche, ou *Fichier/Créer une nouvelle sauvegarde*\n",
    "\n",
    "Pour répondre aux questions, remplacer les lignes  \n",
    "```python \n",
    "#LA REPONSE ICI\n",
    "raise NotImplementedError()\n",
    "``` \n",
    "par vos réponses, et remplissez les champs ci-dessous:"
   ]
  },
  {
   "cell_type": "code",
   "execution_count": null,
   "metadata": {},
   "outputs": [],
   "source": [
    "NOM = \"Martinez\"\n",
    "PRENOM = \"Maud\"\n",
    "GROUPE = \"1\"\n",
    "DATE = \"08/11/19\""
   ]
  },
  {
   "cell_type": "markdown",
   "metadata": {},
   "source": [
    "---"
   ]
  },
  {
   "cell_type": "markdown",
   "metadata": {},
   "source": [
    "# TD 6 : Intégrales avancées"
   ]
  },
  {
   "cell_type": "markdown",
   "metadata": {},
   "source": [
    "## Exercice 1 : Calcul d'une intégrale à 2 dimensions"
   ]
  },
  {
   "cell_type": "markdown",
   "metadata": {},
   "source": [
    "On se propose d'évaluer numériquement l'intégrale suivante par différentes méthodes.\n",
    "$$\\int\\limits_{x=\\pi}^{2\\pi} \\int\\limits_{y=0}^{\\pi} \\left[y \\sin(x) + x \\cos(y)\\right]{\\rm d}x {\\rm d}y $$"
   ]
  },
  {
   "cell_type": "markdown",
   "metadata": {},
   "source": [
    "Utiliser la fonction dblquad du module integrate de scipy pour obtenir une valeur de référence."
   ]
  },
  {
   "cell_type": "code",
   "execution_count": 13,
   "metadata": {
    "deletable": false,
    "nbgrader": {
     "cell_type": "code",
     "checksum": "0e9dd90d231d0ae5e613102986d42301",
     "grade": true,
     "grade_id": "cell-652523070f08ee62",
     "locked": false,
     "points": 0,
     "schema_version": 3,
     "solution": true,
     "task": false
    }
   },
   "outputs": [],
   "source": [
    "import numpy as np\n",
    "from scipy import integrate\n",
    "import time"
   ]
  },
  {
   "cell_type": "code",
   "execution_count": 14,
   "metadata": {},
   "outputs": [
    {
     "name": "stdout",
     "output_type": "stream",
     "text": [
      "(-9.869604401089358, 1.4359309630105241e-13) 0.001519918441772461\n"
     ]
    }
   ],
   "source": [
    "c,d= 0, np.pi\n",
    "\n",
    "Ya = lambda x : c\n",
    "Yb = lambda x : d\n",
    "\n",
    "def fonc(y,x):\n",
    "    return y*np.sin(x)+x*np.cos(y)\n",
    "\n",
    "tic=time.time()\n",
    "inte=integrate.dblquad(fonc, np.pi, 2*np.pi, Ya, Yb)\n",
    "tac=time.time()-tic\n",
    "print(inte, tac)"
   ]
  },
  {
   "cell_type": "markdown",
   "metadata": {},
   "source": [
    "Evaluer cette intégrale par la méthode des rectangles, de Gauss-Legendre et Monte-Carlo."
   ]
  },
  {
   "cell_type": "code",
   "execution_count": 16,
   "metadata": {
    "deletable": false,
    "nbgrader": {
     "cell_type": "code",
     "checksum": "e8df70702418137f202f7d7e5d772c53",
     "grade": true,
     "grade_id": "cell-56791223f3949227",
     "locked": false,
     "points": 0,
     "schema_version": 3,
     "solution": true,
     "task": false
    }
   },
   "outputs": [
    {
     "name": "stdout",
     "output_type": "stream",
     "text": [
      "-9.859726671137121 [0.00987773 9.85972667] 0.04617762565612793\n"
     ]
    }
   ],
   "source": [
    "def rect2D(fonc2D,a,b,c,d,N):\n",
    "    x=np.linspace(a,b,N)\n",
    "    y=np.linspace(c,d,N)\n",
    "    xx,yy = np.meshgrid(x,y)\n",
    "    f=fonc2D(yy,xx)\n",
    "    return np.sum(f)*(b-a)*(d-c)/N**2 \n",
    "\n",
    "tic =time.time()\n",
    "\n",
    "interect= rect2D(fonc,np.pi,2*np.pi,0,np.pi,1000)\n",
    "tac= time.time()-tic\n",
    "\n",
    "print(interect, np.abs(inte-interect), tac)"
   ]
  },
  {
   "cell_type": "code",
   "execution_count": 20,
   "metadata": {},
   "outputs": [
    {
     "name": "stdout",
     "output_type": "stream",
     "text": [
      "-18375.782515768944 [18365.91291137 18375.78251577] 0.05020403861999512\n"
     ]
    }
   ],
   "source": [
    "def Legendre2D(fonc2D,a,b,c,d,N):\n",
    "    xi,w=np.polynomial.legendre.leggauss(N)\n",
    "    x=np.linspace(a,b,N)\n",
    "    y=np.linspace(c,d,N)\n",
    "    xg=(b-a)/2*xi+(a+b)/2\n",
    "    yg=(c-d)/2*xi+(c+d)/2\n",
    "    \n",
    "    s=0\n",
    "    for i in range(N):\n",
    "        for j in range(N):\n",
    "            s+=fonc2D(yg[j],xg[i])+w[j]*w[i]\n",
    "    return s*(b-a)*(d-c)/4\n",
    "\n",
    "tic =time.time()\n",
    "inteLegendre = Legendre2D(fonc,np.pi,2*np.pi,0,np.pi,100)\n",
    "tac= time.time()-tic\n",
    "\n",
    "print(inteLegendre, np.abs(inte-inteLegendre), tac)"
   ]
  },
  {
   "cell_type": "markdown",
   "metadata": {},
   "source": [
    "Commenter la précision et le temps approximatif d'exécution de ces différentes méthodes."
   ]
  },
  {
   "cell_type": "markdown",
   "metadata": {
    "deletable": false,
    "nbgrader": {
     "cell_type": "markdown",
     "checksum": "99f50945a2de807675b25cfbde67c940",
     "grade": true,
     "grade_id": "cell-71460cd36defa0d1",
     "locked": false,
     "points": 0,
     "schema_version": 3,
     "solution": true,
     "task": false
    }
   },
   "source": [
    "YOUR ANSWER HERE"
   ]
  },
  {
   "cell_type": "markdown",
   "metadata": {},
   "source": [
    "## Exercice 2 :  Tracé et calcul de l'aire d'une ellipse par méthode Monte-Carlo"
   ]
  },
  {
   "cell_type": "markdown",
   "metadata": {},
   "source": [
    "Une ellipse est définie peut être définie par la taille de ces deux axes suivant des axes ortogonaux $x$ (demi-axe $a$) et $y$ (demi-axe $b$). L'ellipse vérifie alors:\n",
    "$$ \\left(\\frac{x}{a}\\right)^2 + \\left(\\frac{y}{b}\\right)^2 =1$$ \n",
    "\n",
    "On peut alors tracer l'ellipse de manière paramétrique de la façon suivante :"
   ]
  },
  {
   "cell_type": "code",
   "execution_count": null,
   "metadata": {},
   "outputs": [],
   "source": [
    "import matplotlib.pyplot as plt\n",
    "import numpy as np\n",
    "\n",
    "\n",
    "def ellipse(a,b,n):\n",
    "    t=np.linspace(0,2*np.pi,n)\n",
    "    x=a*np.cos(t)\n",
    "    y=b*np.sin(t)\n",
    "    return x,y\n",
    "\n",
    "n = 1000\n",
    "a, b = 1, 3\n",
    "xell, yell = ellipse(a,b,n)\n",
    "\n",
    "fig = plt.figure()\n",
    "plt.plot(xell, yell)\n",
    "plt.xlabel(\"x\")\n",
    "plt.ylabel(\"y\")\n",
    "plt.show()"
   ]
  },
  {
   "cell_type": "markdown",
   "metadata": {},
   "source": [
    "Tirez, de manière aléatoire et avec une distribution uniforme, des points dans le plan dans une gamme au moins aussi large que l'aire couverte par l'ellipse. Affichez ces points comme marqueurs par dessus l'ellipse."
   ]
  },
  {
   "cell_type": "code",
   "execution_count": null,
   "metadata": {
    "deletable": false,
    "nbgrader": {
     "cell_type": "code",
     "checksum": "48b2b10b253249ae2d6c072c3f280a69",
     "grade": true,
     "grade_id": "cell-a1fbf34a5095e061",
     "locked": false,
     "points": 0,
     "schema_version": 3,
     "solution": true,
     "task": false
    }
   },
   "outputs": [],
   "source": [
    "# YOUR CODE HERE\n",
    "raise NotImplementedError()"
   ]
  },
  {
   "cell_type": "markdown",
   "metadata": {},
   "source": [
    "Établissez un critère mathématique pour déterminer si un point est à l'intérieur de l'ellipse et indiquez respectivement par des marqueurs verts et rouges les points à l'intérieur et à l'extérieur de l'ellipse."
   ]
  },
  {
   "cell_type": "code",
   "execution_count": null,
   "metadata": {
    "deletable": false,
    "nbgrader": {
     "cell_type": "code",
     "checksum": "152f599ef1006bab5cca92272564ed64",
     "grade": true,
     "grade_id": "cell-3ee1f982fe3189db",
     "locked": false,
     "points": 0,
     "schema_version": 3,
     "solution": true,
     "task": false
    }
   },
   "outputs": [],
   "source": [
    "# YOUR CODE HERE\n",
    "raise NotImplementedError()"
   ]
  },
  {
   "cell_type": "markdown",
   "metadata": {},
   "source": [
    "Calculer l'aire de l'ellipse par intégration Monte-Carlo en utilisant 10^4 points et comparez à la valeur analytique attendue."
   ]
  },
  {
   "cell_type": "code",
   "execution_count": null,
   "metadata": {
    "deletable": false,
    "nbgrader": {
     "cell_type": "code",
     "checksum": "45a621e325ff48c38d79dac92e12d1d3",
     "grade": true,
     "grade_id": "cell-6acafb7c8fc4e4ef",
     "locked": false,
     "points": 0,
     "schema_version": 3,
     "solution": true,
     "task": false
    }
   },
   "outputs": [],
   "source": [
    "# YOUR CODE HERE\n",
    "raise NotImplementedError()"
   ]
  },
  {
   "cell_type": "markdown",
   "metadata": {},
   "source": [
    "## Exercice 3 :  Calcul du volume d'hypersphères par la méthode Monte-Carlo"
   ]
  },
  {
   "cell_type": "markdown",
   "metadata": {},
   "source": [
    "Dans un espace à d dimensions, une sphère de rayon $R$ est définie par (voir par exemple la page wikipedia n-sphères):\n",
    "$$ \\sum_{i=1}^{d} x_{i}^2=R^2$$ "
   ]
  },
  {
   "cell_type": "markdown",
   "metadata": {},
   "source": [
    "Ecrire une fonction utilisant la méthode Monte-Carlo pour évaluer le volume d'une hypersphère à d dimensions."
   ]
  },
  {
   "cell_type": "code",
   "execution_count": null,
   "metadata": {
    "deletable": false,
    "nbgrader": {
     "cell_type": "code",
     "checksum": "ef41375d13e5eb9ff26a14eb9d5ad578",
     "grade": true,
     "grade_id": "cell-42e1a0327a262e4d",
     "locked": false,
     "points": 0,
     "schema_version": 3,
     "solution": true,
     "task": false
    }
   },
   "outputs": [],
   "source": [
    "# YOUR CODE HERE\n",
    "raise NotImplementedError()"
   ]
  },
  {
   "cell_type": "markdown",
   "metadata": {},
   "source": [
    "Calculer ce volume pour une hypershère de rayon = 1 et en dimension n=1, 2, 3 et 4."
   ]
  },
  {
   "cell_type": "code",
   "execution_count": null,
   "metadata": {
    "deletable": false,
    "nbgrader": {
     "cell_type": "code",
     "checksum": "8341a6e9583bc262d1cdc16cb9256b58",
     "grade": true,
     "grade_id": "cell-de95006c98b175cb",
     "locked": false,
     "points": 0,
     "schema_version": 3,
     "solution": true,
     "task": false
    }
   },
   "outputs": [],
   "source": [
    "# YOUR CODE HERE\n",
    "raise NotImplementedError()"
   ]
  },
  {
   "cell_type": "markdown",
   "metadata": {},
   "source": [
    "Comparer les valeurs obtenues aux valeurs exactes, vous pourrez utiliser la fonction gamma du module scipy.special. \n",
    "$$ V=\\frac{\\pi^{n/2}}{\\Gamma(n/2+1)}$$ "
   ]
  },
  {
   "cell_type": "code",
   "execution_count": null,
   "metadata": {
    "deletable": false,
    "nbgrader": {
     "cell_type": "code",
     "checksum": "e335157d320e7536451568e5df533d07",
     "grade": true,
     "grade_id": "cell-93a659f510135851",
     "locked": false,
     "points": 0,
     "schema_version": 3,
     "solution": true,
     "task": false
    }
   },
   "outputs": [],
   "source": [
    "# YOUR CODE HERE\n",
    "raise NotImplementedError()"
   ]
  }
 ],
 "metadata": {
  "kernelspec": {
   "display_name": "Python 3",
   "language": "python",
   "name": "python3"
  },
  "language_info": {
   "codemirror_mode": {
    "name": "ipython",
    "version": 3
   },
   "file_extension": ".py",
   "mimetype": "text/x-python",
   "name": "python",
   "nbconvert_exporter": "python",
   "pygments_lexer": "ipython3",
   "version": "3.8.6"
  }
 },
 "nbformat": 4,
 "nbformat_minor": 2
}
