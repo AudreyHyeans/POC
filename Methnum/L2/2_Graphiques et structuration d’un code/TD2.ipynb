{
 "cells": [
  {
   "cell_type": "markdown",
   "metadata": {},
   "source": [
    "Quelques conseils:\n",
    "- pour exécutez une cellule, cliquez sur le bouton *Exécuter* ci-dessus ou tapez **Shift+Enter**\n",
    "- si l'exécution d'une cellule prend trop de temps, sélectionner dans le menu ci-dessus *Noyau/Interrompre*\n",
    "- en cas de très gros plantage *Noyau/Redémarrer*\n",
    "- **sauvegardez régulièrement vos réponses** en cliquant sur l'icone disquette ci-dessus à gauche, ou *Fichier/Créer une nouvelle sauvegarde*\n",
    "\n",
    "Pour répondre aux questions, remplacer les lignes  \n",
    "```python \n",
    "#LA REPONSE ICI\n",
    "raise NotImplementedError()\n",
    "``` \n",
    "par vos réponses, et remplissez les champs ci-dessous:"
   ]
  },
  {
   "cell_type": "code",
   "execution_count": 1,
   "metadata": {},
   "outputs": [],
   "source": [
    "NOM = \"Martinez\"\n",
    "PRENOM = \"Maud\"\n",
    "GROUPE = \"1\"\n",
    "DATE = \"04/10\""
   ]
  },
  {
   "cell_type": "markdown",
   "metadata": {},
   "source": [
    "---"
   ]
  },
  {
   "cell_type": "markdown",
   "metadata": {
    "deletable": false,
    "editable": false,
    "nbgrader": {
     "cell_type": "markdown",
     "checksum": "3bc649544e0ae1f30244f207649c06ce",
     "grade": false,
     "grade_id": "cell-7c51bed662261abc",
     "locked": true,
     "schema_version": 3,
     "solution": false,
     "task": false
    }
   },
   "source": [
    "# TD 2: Graphiques et structuration d'un code"
   ]
  },
  {
   "cell_type": "markdown",
   "metadata": {
    "deletable": false,
    "editable": false,
    "nbgrader": {
     "cell_type": "markdown",
     "checksum": "9275d5e959355f92692120c235c02693",
     "grade": false,
     "grade_id": "cell-8ed7e813fed3a78b",
     "locked": true,
     "schema_version": 3,
     "solution": false,
     "task": false
    }
   },
   "source": [
    "## Exercice 1 : Exemple de programme structuré"
   ]
  },
  {
   "cell_type": "markdown",
   "metadata": {
    "deletable": false,
    "editable": false,
    "nbgrader": {
     "cell_type": "markdown",
     "checksum": "eaa3b725d33c8a9f2102f2e395a3a3e2",
     "grade": false,
     "grade_id": "cell-f0046a90702bdb81",
     "locked": true,
     "schema_version": 3,
     "solution": false,
     "task": false
    }
   },
   "source": [
    "Reprenons un exemple de L1 de programme mis en forme.\n",
    "\n",
    "Les fonctions montrent toute leur utilité lorsque les blocs d'instructions qu'elles contiennent sont amenés à être utilisés plusieurs fois dans un programme ou encore appelés par d'autres fonctions. Une des règles d'or de la programmation est que lorsqu'un bloc d'instruction apparaît deux fois dans un programme, c'est qu'il mérite d'être mis dans une fonction ! Ainsi lors du débuggage du programme ou lors de son évolution, il n'est nécessaire de ne modifier le bloc qu'une fois (dans la fonction) et non dans ces multiples écritures le long du programme.\n",
    "\n",
    "Dans le programme suivant, l'objectif est de montrer numériquement l'égalité suivante :\n",
    "$$\\sum_{k=0}^{n} \\binom{n}{k} x^k = (1+x)^n$$\n",
    "\n",
    "Il va falloir calculer de nombreuses factorielles, ainsi que des coefficients binomiaux, calculer une somme et tester son égalité. Un bon réflexe à avoir est donc d'identifier tous les sous-blocs d'instructions à mettre sous forme de fonction avant d'écrire le programme. "
   ]
  },
  {
   "cell_type": "code",
   "execution_count": 2,
   "metadata": {},
   "outputs": [],
   "source": [
    "###################################\n",
    "# Importation des fonctions externes\n",
    "import numpy as np\n",
    "\n",
    "###################################\n",
    "# Definition locale des fonctions\n",
    "\n",
    "def factorielle(n):\n",
    "    \"\"\" Calcule la factorielle de n \"\"\"   # ces commentaires decrivent fonction et arguments\n",
    "    f = np.arange(1,n+1)\n",
    "    return np.prod(f)\n",
    "\n",
    "def k_parmi_n(k,n):\n",
    "    \"\"\" Calcule le coefficient binomiaux k parmi n \"\"\"\n",
    "    c = factorielle(n)/( factorielle(k)*factorielle(n-k) )  # fonction factorielle appelee ici\n",
    "    return c\n",
    "\n",
    "def somme(x,n,verbose=False):\n",
    "    \"\"\" Calcule la somme des k parmi n fois x exposant k \"\"\"\n",
    "    k = np.arange(n+1)\n",
    "    elements = [k_parmi_n(k,n)*x**k for k in range(n+1)]\n",
    "    s = np.sum(elements)\n",
    "    if verbose : print('La somme pour n =',n,' et x =',x,'vaut',s)\n",
    "    return s"
   ]
  },
  {
   "cell_type": "markdown",
   "metadata": {},
   "source": [
    "Nous pouvons ensuite tester ces fonctions (toute en même temps ici)."
   ]
  },
  {
   "cell_type": "code",
   "execution_count": 3,
   "metadata": {},
   "outputs": [
    {
     "name": "stdout",
     "output_type": "stream",
     "text": [
      "Factorielle 3 :  6\n",
      "2 parmi 4 :  3.0\n",
      "La somme pour n = 5  et x = 1 vaut 32.0\n",
      "Egalite OK\n"
     ]
    },
    {
     "data": {
      "text/plain": [
       "True"
      ]
     },
     "execution_count": 3,
     "metadata": {},
     "output_type": "execute_result"
    }
   ],
   "source": [
    "def test_somme(x,n,verbose=False):\n",
    "    \"\"\" Teste l'egalite de l'enonce \"\"\"\n",
    "    polynom = (1+x)**n\n",
    "    s = somme(x,n,verbose)\n",
    "    #test = s == polynom \n",
    "    #nouveau test adapte aux floats\n",
    "    eps = 1E-5\n",
    "    test = abs(somme(x,n)-(1+x)**n)<1E-5\n",
    "    if verbose :\n",
    "        if test : print('Egalite OK')\n",
    "        else: print('Egalite non verifiee')\n",
    "    return test\n",
    "\n",
    "###################################\n",
    "# Corps principal du programme\n",
    "\n",
    "print(\"Factorielle 3 : \", factorielle(3))\n",
    "print(\"2 parmi 4 : \", k_parmi_n(2,3))\n",
    "test_somme(x=1,n=5,verbose=True)"
   ]
  },
  {
   "cell_type": "markdown",
   "metadata": {
    "deletable": false,
    "editable": false,
    "nbgrader": {
     "cell_type": "markdown",
     "checksum": "cd3d59899699e12992578bac990b157a",
     "grade": false,
     "grade_id": "cell-41ac3de5e0e1cfac",
     "locked": true,
     "schema_version": 3,
     "solution": false,
     "task": false
    }
   },
   "source": [
    "Vous pouvez bien sûr effectuer d'autres tests dans des cas particuliers pour vérifier que l'égalité est vérifiée. Par exemple :"
   ]
  },
  {
   "cell_type": "code",
   "execution_count": 4,
   "metadata": {},
   "outputs": [
    {
     "name": "stdout",
     "output_type": "stream",
     "text": [
      "La somme pour n = 5  et x = 1.0 vaut 32.0\n",
      "Egalite OK\n",
      "La somme pour n = 6  et x = 1.0 vaut 64.0\n",
      "Egalite OK\n",
      "La somme pour n = 7  et x = 1.0 vaut 128.0\n",
      "Egalite OK\n",
      "La somme pour n = 8  et x = 1.0 vaut 256.0\n",
      "Egalite OK\n",
      "La somme pour n = 9  et x = 1.0 vaut 512.0\n",
      "Egalite OK\n",
      "La somme pour n = 5  et x = 1.2 vaut 51.53631999999999\n",
      "Egalite OK\n",
      "La somme pour n = 6  et x = 1.2 vaut 113.37990399999998\n",
      "Egalite OK\n",
      "La somme pour n = 7  et x = 1.2 vaut 249.43578879999995\n",
      "Egalite OK\n",
      "La somme pour n = 8  et x = 1.2 vaut 548.75873536\n",
      "Egalite OK\n",
      "La somme pour n = 9  et x = 1.2 vaut 1207.2692177919998\n",
      "Egalite OK\n",
      "La somme pour n = 5  et x = 1.4 vaut 79.62624\n",
      "Egalite OK\n",
      "La somme pour n = 6  et x = 1.4 vaut 191.10297599999996\n",
      "Egalite OK\n",
      "La somme pour n = 7  et x = 1.4 vaut 458.6471423999999\n",
      "Egalite OK\n",
      "La somme pour n = 8  et x = 1.4 vaut 1100.7531417599998\n",
      "Egalite OK\n",
      "La somme pour n = 9  et x = 1.4 vaut 2641.8075402239992\n",
      "Egalite OK\n",
      "La somme pour n = 5  et x = 1.5999999999999999 vaut 118.81375999999997\n",
      "Egalite OK\n",
      "La somme pour n = 6  et x = 1.5999999999999999 vaut 308.91577599999994\n",
      "Egalite OK\n",
      "La somme pour n = 7  et x = 1.5999999999999999 vaut 803.1810175999997\n",
      "Egalite OK\n",
      "La somme pour n = 8  et x = 1.5999999999999999 vaut 2088.2706457599993\n",
      "Egalite OK\n",
      "La somme pour n = 9  et x = 1.5999999999999999 vaut 5429.503678975997\n",
      "Egalite OK\n",
      "La somme pour n = 5  et x = 1.7999999999999998 vaut 172.10367999999997\n",
      "Egalite OK\n",
      "La somme pour n = 6  et x = 1.7999999999999998 vaut 481.89030399999984\n",
      "Egalite OK\n",
      "La somme pour n = 7  et x = 1.7999999999999998 vaut 1349.2928511999996\n",
      "Egalite OK\n",
      "La somme pour n = 8  et x = 1.7999999999999998 vaut 3778.019983359998\n",
      "Egalite OK\n",
      "La somme pour n = 9  et x = 1.7999999999999998 vaut 10578.455953407994\n",
      "Egalite OK\n"
     ]
    }
   ],
   "source": [
    "for x in np.arange(1,2.0,0.2):\n",
    "    for n in range(5,10):\n",
    "        test_somme(x,n,verbose=True)"
   ]
  },
  {
   "cell_type": "markdown",
   "metadata": {
    "deletable": false,
    "editable": false,
    "nbgrader": {
     "cell_type": "markdown",
     "checksum": "f1013e1966e00e7a3f2995d854794a95",
     "grade": false,
     "grade_id": "cell-8454d4c0cbe5c05a",
     "locked": true,
     "schema_version": 3,
     "solution": false,
     "task": false
    }
   },
   "source": [
    "## Exercice 2 : Dérivée d'une fonction"
   ]
  },
  {
   "cell_type": "markdown",
   "metadata": {
    "deletable": false,
    "editable": false,
    "nbgrader": {
     "cell_type": "markdown",
     "checksum": "609f8d723ee1536dad50838f4ec2c37d",
     "grade": false,
     "grade_id": "cell-2e393300872cc35b",
     "locked": true,
     "schema_version": 3,
     "solution": false,
     "task": false
    }
   },
   "source": [
    "Mathématiquement, la dérivée d'une fonction $f(x)$ au point $x$ est définie par :\n",
    "\n",
    "$$ f'(x) = \\lim\\limits_{\\epsilon \\rightarrow 0} \\frac{f(x+\\epsilon)-f(x)}{\\epsilon} $$\n",
    "\n",
    "Numériquement, comme la fonction est discrétisée en $\\left\\lbrace x_i\\right\\rbrace$ points, on peut essayer d'approcher cette définition du mieux possible en calculant le taux d'accroissement de la fonction entre deux points les plus proches possibles:\n",
    "\n",
    "$$f'(x_i) = \\frac{f(x_{i+1})-f(x_i)}{x_{i+1}-x_{i}} $$\n"
   ]
  },
  {
   "cell_type": "markdown",
   "metadata": {
    "deletable": false,
    "editable": false,
    "nbgrader": {
     "cell_type": "markdown",
     "checksum": "ccd10c2aeee74eb92719151cd331eb13",
     "grade": false,
     "grade_id": "cell-a3946446bfdcf91a",
     "locked": true,
     "schema_version": 3,
     "solution": false,
     "task": false
    }
   },
   "source": [
    "- La ligne de commande ci dessous permet d'afficher les graphiques directement dans le notebook. Exécutez la. "
   ]
  },
  {
   "cell_type": "code",
   "execution_count": 5,
   "metadata": {},
   "outputs": [
    {
     "name": "stdout",
     "output_type": "stream",
     "text": [
      "Populating the interactive namespace from numpy and matplotlib\n"
     ]
    }
   ],
   "source": [
    "%pylab inline"
   ]
  },
  {
   "cell_type": "markdown",
   "metadata": {
    "deletable": false,
    "editable": false,
    "nbgrader": {
     "cell_type": "markdown",
     "checksum": "3fe8a4903aff70088fbd7ec79b334b2b",
     "grade": false,
     "grade_id": "cell-cc4cffd48da7497a",
     "locked": true,
     "schema_version": 3,
     "solution": false,
     "task": false
    }
   },
   "source": [
    "- Définissez et tracez la fonction $f(x)=e^{ax}$ avec 10 points pour $x\\in[0,2]$ et $a=1,2$ (tracez une légende pour y voir plus clair)"
   ]
  },
  {
   "cell_type": "code",
   "execution_count": 6,
   "metadata": {
    "deletable": false,
    "nbgrader": {
     "cell_type": "code",
     "checksum": "4daf94cea3a2e514c302ca68bd21e958",
     "grade": true,
     "grade_id": "cell-1b9aee03443e1d5a",
     "locked": false,
     "points": 0,
     "schema_version": 3,
     "solution": true,
     "task": false
    }
   },
   "outputs": [
    {
     "data": {
      "image/png": "[encoded data removed]",
      "text/plain": [
       "<Figure size 432x288 with 1 Axes>"
      ]
     },
     "metadata": {
      "needs_background": "light"
     },
     "output_type": "display_data"
    }
   ],
   "source": [
    "import matplotlib.pyplot as plt\n",
    "\n",
    "#fonction f(x) = exp(ax)\n",
    "def exp_a (x, a) :\n",
    "    return np.exp(a*x)\n",
    "\n",
    "#Données\n",
    "X= np.linspace(0,2,10)\n",
    "Y_1 = exp_a(X, 1)\n",
    "Y_2 = exp_a(X, 2)\n",
    "\n",
    "#Tracé du graphique\n",
    "\n",
    "fig= plt.figure()\n",
    "plt.plot(X,Y_1, label = 'a = 1')\n",
    "plt.plot(X,Y_2, label= 'a = 2')\n",
    "plt.title('Fonction exp(ax)')\n",
    "plt.xlabel('X')\n",
    "plt.ylabel('Y')\n",
    "plt.legend()\n",
    "plt.show()\n",
    "\n",
    "    \n",
    "    "
   ]
  },
  {
   "cell_type": "markdown",
   "metadata": {
    "deletable": false,
    "editable": false,
    "nbgrader": {
     "cell_type": "markdown",
     "checksum": "4d317aba1f783c63af43359f1981d1d4",
     "grade": false,
     "grade_id": "cell-0b218fa006a805cb",
     "locked": true,
     "schema_version": 3,
     "solution": false,
     "task": false
    }
   },
   "source": [
    "- Définissez une fonction qui calcule la dérivée d'une fonction à partir de la donnée des deux listes d'abscisses et d'ordonnées des 10 points tracés précédemment. Attention aux nombre de points utilisés !"
   ]
  },
  {
   "cell_type": "code",
   "execution_count": 7,
   "metadata": {
    "deletable": false,
    "nbgrader": {
     "cell_type": "code",
     "checksum": "db5715b1e260650efa746f7b5ab23020",
     "grade": true,
     "grade_id": "cell-a1943892d8c66d90",
     "locked": false,
     "points": 0,
     "schema_version": 3,
     "solution": true,
     "task": false
    }
   },
   "outputs": [],
   "source": [
    "# fonction dérivée \n",
    "# Attention renvoie une liste Y de taille len(Y)-1. Retirer le dernier point de la liste x\n",
    "def derivee(X,Y):\n",
    "    Y_der= np.array([(Y[i+1] - Y[i])/(X[i+1]-X[i]) for i in range(0,len(X)-1)])\n",
    "    return Y_der"
   ]
  },
  {
   "cell_type": "markdown",
   "metadata": {
    "deletable": false,
    "editable": false,
    "nbgrader": {
     "cell_type": "markdown",
     "checksum": "6d3a20479baa5612a4a5038982a1f9bb",
     "grade": false,
     "grade_id": "cell-3cf339356a44c094",
     "locked": true,
     "schema_version": 3,
     "solution": false,
     "task": false
    }
   },
   "source": [
    "- Dans un même graphique, tracez la fonction $exp(ax)$ et sa dérivée pour a =1. "
   ]
  },
  {
   "cell_type": "code",
   "execution_count": 8,
   "metadata": {
    "deletable": false,
    "nbgrader": {
     "cell_type": "code",
     "checksum": "2f828afa1a2233f90f701670a5616937",
     "grade": true,
     "grade_id": "cell-9474df26212ab229",
     "locked": false,
     "points": 0,
     "schema_version": 3,
     "solution": true,
     "task": false
    }
   },
   "outputs": [
    {
     "data": {
      "image/png": "[encoded data removed]",
      "text/plain": [
       "<Figure size 432x288 with 1 Axes>"
      ]
     },
     "metadata": {
      "needs_background": "light"
     },
     "output_type": "display_data"
    }
   ],
   "source": [
    "#Données\n",
    "X_der = np.delete(X,-1)\n",
    "Y_der1 = derivee(X, Y_1)\n",
    "\n",
    "#Tracé du graphique\n",
    "\n",
    "fig= plt.figure()\n",
    "plt.plot(X,Y_1, label = 'exp(x)')\n",
    "plt.plot(X_der,Y_der1, label= 'Dérivée')\n",
    "plt.title('Fonction exp(x) et dérivée')\n",
    "plt.xlabel('X')\n",
    "plt.ylabel('Y')\n",
    "plt.legend()\n",
    "plt.show()\n"
   ]
  },
  {
   "cell_type": "markdown",
   "metadata": {
    "deletable": false,
    "editable": false,
    "nbgrader": {
     "cell_type": "markdown",
     "checksum": "8ec4d5c72ed27fa6d66da4c68ce0d4c3",
     "grade": false,
     "grade_id": "cell-c53024f728e2f413",
     "locked": true,
     "schema_version": 3,
     "solution": false,
     "task": false
    }
   },
   "source": [
    "Que constatez-vous pour $a=1$ ?"
   ]
  },
  {
   "cell_type": "markdown",
   "metadata": {
    "deletable": false,
    "nbgrader": {
     "cell_type": "markdown",
     "checksum": "98940d630d434bff661104b6e15c7a58",
     "grade": true,
     "grade_id": "cell-e52fc968a0c3c634",
     "locked": false,
     "points": 0,
     "schema_version": 3,
     "solution": true,
     "task": false
    }
   },
   "source": [
    "Les courbes sont proches mais ne se supperposent pas, alors que exp'(x)=exp(x)"
   ]
  },
  {
   "cell_type": "markdown",
   "metadata": {
    "deletable": false,
    "editable": false,
    "nbgrader": {
     "cell_type": "markdown",
     "checksum": "90f8ebd47264526ebc97dc1527f73960",
     "grade": false,
     "grade_id": "cell-c861234fedc7958a",
     "locked": true,
     "schema_version": 3,
     "solution": false,
     "task": false
    }
   },
   "source": [
    "- Pour tenter de remédier au problème, augmentez le nombre de points. Que constatez-vous ?"
   ]
  },
  {
   "cell_type": "code",
   "execution_count": 9,
   "metadata": {
    "deletable": false,
    "nbgrader": {
     "cell_type": "code",
     "checksum": "1bdd896e2bd6c3746c67daae2d28875b",
     "grade": true,
     "grade_id": "cell-7cb55405479a0123",
     "locked": false,
     "points": 0,
     "schema_version": 3,
     "solution": true,
     "task": false
    }
   },
   "outputs": [
    {
     "data": {
      "image/png": "[encoded data removed]",
      "text/plain": [
       "<Figure size 432x288 with 1 Axes>"
      ]
     },
     "metadata": {
      "needs_background": "light"
     },
     "output_type": "display_data"
    }
   ],
   "source": [
    "#Données\n",
    "X= np.linspace(0,2,1000)\n",
    "Y_1 = exp_a(X, 1)\n",
    "X_der = np.delete(X,-1)\n",
    "Y_der1 = derivee(X, Y_1)\n",
    "\n",
    "#Tracé du graphique\n",
    "\n",
    "fig= plt.figure()\n",
    "plt.plot(X,Y_1, label = 'exp(x)')\n",
    "plt.plot(X_der,Y_der1, label= 'Dérivée')\n",
    "plt.title('Fonction exp(x) et dérivée')\n",
    "plt.xlabel('X')\n",
    "plt.ylabel('Y')\n",
    "plt.legend()\n",
    "plt.show()\n"
   ]
  },
  {
   "cell_type": "markdown",
   "metadata": {
    "deletable": false,
    "editable": false,
    "nbgrader": {
     "cell_type": "markdown",
     "checksum": "05bd25c8d4d7c232b0a9a3eff27b5cb9",
     "grade": false,
     "grade_id": "cell-d75e65c4b6ed667b",
     "locked": true,
     "schema_version": 3,
     "solution": false,
     "task": false
    }
   },
   "source": [
    "- Une autre façon de résoudre le problème peut être de symétriser la formule du taux d'accroissement :\n",
    "$$ f'(x_i) = \\frac{f(x_{i+1})-f(x_{i-1})}{x_{i+1}-x_{i-1}} $$\n",
    "Coder cette façon d'exprimer la dérivée et testez la pour N=10 points."
   ]
  },
  {
   "cell_type": "code",
   "execution_count": 10,
   "metadata": {
    "deletable": false,
    "nbgrader": {
     "cell_type": "code",
     "checksum": "efc048f8e9e06cc02c582eaf450e3e94",
     "grade": true,
     "grade_id": "cell-4aa6ba63f4575afc",
     "locked": false,
     "points": 0,
     "schema_version": 3,
     "solution": true,
     "task": false
    }
   },
   "outputs": [],
   "source": [
    "# fonction dérivée symétrique\n",
    "# Attention renvoie une liste Y de taille len(Y)-2. Retirer le premier et le dernier point de la liste x pour ploter\n",
    "def derivee_sym(X,Y):\n",
    "    Y_der= np.array([(Y[i+1] - Y[i-1])/(X[i+1]-X[i-1]) for i in range(1,len(X)-1)])\n",
    "    return Y_der"
   ]
  },
  {
   "cell_type": "code",
   "execution_count": 11,
   "metadata": {},
   "outputs": [
    {
     "data": {
      "image/png": "[encoded data removed]",
      "text/plain": [
       "<Figure size 432x288 with 1 Axes>"
      ]
     },
     "metadata": {
      "needs_background": "light"
     },
     "output_type": "display_data"
    }
   ],
   "source": [
    "#Données\n",
    "X= np.linspace(0,2,10)\n",
    "Y_1 = exp_a(X, 1)\n",
    "X_der = np.delete(X,-1)\n",
    "X_der = np.delete(X_der, 1)\n",
    "Y_der1 = derivee_sym(X, Y_1)\n",
    "\n",
    "#Tracé du graphique\n",
    "\n",
    "fig= plt.figure()\n",
    "plt.plot(X,Y_1, label = 'exp(x)')\n",
    "plt.plot(X_der,Y_der1, label= 'Dérivée')\n",
    "plt.title('Fonction exp(x) et dérivée symétrique')\n",
    "plt.xlabel('X')\n",
    "plt.ylabel('Y')\n",
    "plt.legend()\n",
    "plt.show()\n"
   ]
  },
  {
   "cell_type": "markdown",
   "metadata": {
    "deletable": false,
    "editable": false,
    "nbgrader": {
     "cell_type": "markdown",
     "checksum": "184f763aba577046c5c9b909aa655b9b",
     "grade": false,
     "grade_id": "cell-5d907b9b6b50977c",
     "locked": true,
     "schema_version": 3,
     "solution": false,
     "task": false
    }
   },
   "source": [
    "- Commentez"
   ]
  },
  {
   "cell_type": "markdown",
   "metadata": {
    "deletable": false,
    "nbgrader": {
     "cell_type": "markdown",
     "checksum": "9841271ca2e0c9cedf0a6d84848428c8",
     "grade": true,
     "grade_id": "cell-3485a87679b4a53e",
     "locked": false,
     "points": 0,
     "schema_version": 3,
     "solution": true,
     "task": false
    }
   },
   "source": [
    "Plus proche"
   ]
  },
  {
   "cell_type": "markdown",
   "metadata": {
    "deletable": false,
    "editable": false,
    "nbgrader": {
     "cell_type": "markdown",
     "checksum": "7b261d5451b493cae555f8833da1700c",
     "grade": false,
     "grade_id": "cell-b09a7e22567e2ce9",
     "locked": true,
     "schema_version": 3,
     "solution": false,
     "task": false
    }
   },
   "source": [
    "## Exercice 3 : Série entière de cosinus"
   ]
  },
  {
   "cell_type": "markdown",
   "metadata": {
    "deletable": false,
    "editable": false,
    "nbgrader": {
     "cell_type": "markdown",
     "checksum": "9adc3bb790bcc01fb28d27fcc1272e8b",
     "grade": false,
     "grade_id": "cell-0a05745649c24000",
     "locked": true,
     "schema_version": 3,
     "solution": false,
     "task": false
    }
   },
   "source": [
    "La fonction cosinus peut s'écrire sous la forme d'une série entière :\n",
    "\n",
    "$${\\rm cos}(x)=\\sum_{n=0}^{+\\infty} (-1)^n {\\frac{x^{2n}}{2n!}}$$\n",
    "\n",
    "pour tout $x\\in \\mathbb{R}$.\n",
    "\n",
    "- Définissez une fonction pour calculer les factorielles, puis définissez une fonction pour calculer la somme ci-dessus jusqu'à l'ordre $N$ pour un $x$ quelconque."
   ]
  },
  {
   "cell_type": "code",
   "execution_count": 12,
   "metadata": {
    "deletable": false,
    "nbgrader": {
     "cell_type": "code",
     "checksum": "bbeb8a0e44e55f08a8c973f06eb4457e",
     "grade": true,
     "grade_id": "cell-41cd0e337fc77298",
     "locked": false,
     "points": 0,
     "schema_version": 3,
     "solution": true,
     "task": false
    }
   },
   "outputs": [],
   "source": [
    "#fonction factorielle\n",
    "def fact(n):\n",
    "    N= 1\n",
    "    for i in range(1,n+1):\n",
    "        N= N*i \n",
    "    return N"
   ]
  },
  {
   "cell_type": "code",
   "execution_count": 13,
   "metadata": {},
   "outputs": [],
   "source": [
    "#Développement de cos à l'ordre N\n",
    "def serie_cos(x ,N):\n",
    "    S=0\n",
    "    for i in range(0,N+1):\n",
    "        S = S + ((-1)**i)*(x**(2*i))/(fact(2*i))\n",
    "    return S\n",
    "    "
   ]
  },
  {
   "cell_type": "markdown",
   "metadata": {
    "deletable": false,
    "editable": false,
    "nbgrader": {
     "cell_type": "markdown",
     "checksum": "27d11d267536d54c66cb3594955b98eb",
     "grade": false,
     "grade_id": "cell-3fb08993e3bae875",
     "locked": true,
     "schema_version": 3,
     "solution": false,
     "task": false
    }
   },
   "source": [
    "- Tracez la fonction cos fournie par le module numpy pour $x\\in [-3\\pi,3\\pi]$ et superposer le tracé de la série ci-dessus pour $N=2,5,10$. Pensez à zoomer si nécessaire."
   ]
  },
  {
   "cell_type": "code",
   "execution_count": 14,
   "metadata": {
    "deletable": false,
    "nbgrader": {
     "cell_type": "code",
     "checksum": "053dba6baaf0c9a36c57e6e01f266eec",
     "grade": true,
     "grade_id": "cell-f3a6a07ebb9b8fa8",
     "locked": false,
     "points": 0,
     "schema_version": 3,
     "solution": true,
     "task": false
    }
   },
   "outputs": [
    {
     "data": {
      "image/png": "[encoded data removed]",
      "text/plain": [
       "<Figure size 432x288 with 1 Axes>"
      ]
     },
     "metadata": {
      "needs_background": "light"
     },
     "output_type": "display_data"
    }
   ],
   "source": [
    "#Données\n",
    "X= np.linspace(-3*np.pi,3*np.pi,1000)\n",
    "Y_cos = np.cos(X)\n",
    "Y_cos_dv2 = serie_cos(X,2)\n",
    "Y_cos_dv5 = serie_cos(X,5)\n",
    "Y_cos_dv10 = serie_cos(X,10)\n",
    "\n",
    "#Tracé du graphique\n",
    "\n",
    "fig= plt.figure()\n",
    "plt.plot(X,Y_cos, label = 'cos(x)')\n",
    "plt.plot(X,Y_cos_dv2, label= \"developpement à l'ordre 2\" )\n",
    "plt.plot(X,Y_cos_dv5, label= \"developpement à l'ordre 5\" )\n",
    "plt.plot(X,Y_cos_dv10, label= \"developpement à l'ordre 10\" )\n",
    "plt.title(\"Fonction cosinus et développement à l'ordre 2,5 et 10\")\n",
    "plt.xlabel('X')\n",
    "plt.ylabel('Y')\n",
    "plt.legend()\n",
    "plt.ylim(-2,2)\n",
    "plt.show()\n"
   ]
  },
  {
   "cell_type": "markdown",
   "metadata": {
    "deletable": false,
    "editable": false,
    "nbgrader": {
     "cell_type": "markdown",
     "checksum": "e3e41af0c55e3cccc81956df4b748920",
     "grade": false,
     "grade_id": "cell-f8a3288f8aca99b1",
     "locked": true,
     "schema_version": 3,
     "solution": false,
     "task": false
    }
   },
   "source": [
    "- Commentez"
   ]
  },
  {
   "cell_type": "markdown",
   "metadata": {
    "deletable": false,
    "nbgrader": {
     "cell_type": "markdown",
     "checksum": "7c90ef51e80e9015bd1d00f1377902bc",
     "grade": true,
     "grade_id": "cell-760da23cb49d397e",
     "locked": false,
     "points": 0,
     "schema_version": 3,
     "solution": true,
     "task": false
    }
   },
   "source": [
    "Plus l'ordre du développement est grand, plus il est proche de cos."
   ]
  },
  {
   "cell_type": "markdown",
   "metadata": {
    "deletable": false,
    "editable": false,
    "nbgrader": {
     "cell_type": "markdown",
     "checksum": "06f68f7404da516380c66fc5eb9a5cf4",
     "grade": false,
     "grade_id": "cell-a443234ae416ed05",
     "locked": true,
     "schema_version": 3,
     "solution": false,
     "task": false
    }
   },
   "source": [
    "## Exercice 4 : Marche aléatoire à 1D et 2D"
   ]
  },
  {
   "cell_type": "markdown",
   "metadata": {
    "deletable": false,
    "editable": false,
    "nbgrader": {
     "cell_type": "markdown",
     "checksum": "ffab194f91ee12d3bd83754523aa5a73",
     "grade": false,
     "grade_id": "cell-26f43c6317dc72f2",
     "locked": true,
     "schema_version": 3,
     "solution": false,
     "task": false
    }
   },
   "source": [
    "Dans cet exercice il s'agit de simuler une marche aléatoire dans un espace unidimensionnel. Au début la particule se trouve dans la position $x=0$ et à chaque étape la particule se déplace aléatoirement d'une quantité $dx$ comprise dans l'intervalle [-1,1[.\n",
    "\n",
    "- Créez une fonction retournant la position finale d'une particule après N pas"
   ]
  },
  {
   "cell_type": "code",
   "execution_count": 15,
   "metadata": {
    "deletable": false,
    "nbgrader": {
     "cell_type": "code",
     "checksum": "0039adfe2449d3339adb1e1478262a83",
     "grade": true,
     "grade_id": "cell-6fcace646501d4e8",
     "locked": false,
     "points": 0,
     "schema_version": 3,
     "solution": true,
     "task": false
    }
   },
   "outputs": [],
   "source": [
    "#fonction retournant position après N pas\n",
    "def pfinale(N):\n",
    "    x = 0\n",
    "    for i in range(0,N):\n",
    "        x= x+ np.random.uniform(-1,1)\n",
    "    return x"
   ]
  },
  {
   "cell_type": "markdown",
   "metadata": {
    "deletable": false,
    "editable": false,
    "nbgrader": {
     "cell_type": "markdown",
     "checksum": "faa4aacb490c70fdca2011ca2ad42dfb",
     "grade": false,
     "grade_id": "cell-413012f6d53eee9b",
     "locked": true,
     "schema_version": 3,
     "solution": false,
     "task": false
    }
   },
   "source": [
    "- Représentez sur un histogramme de 100 bins la position finale de 10000 particules après 600 pas."
   ]
  },
  {
   "cell_type": "code",
   "execution_count": 20,
   "metadata": {
    "deletable": false,
    "nbgrader": {
     "cell_type": "code",
     "checksum": "3464e49eddc18a08862b8e8e873781e7",
     "grade": true,
     "grade_id": "cell-603ec1306234b3e3",
     "locked": false,
     "points": 0,
     "schema_version": 3,
     "solution": true,
     "task": false
    }
   },
   "outputs": [
    {
     "data": {
      "image/png": "[encoded data removed]",
      "text/plain": [
       "<Figure size 432x288 with 1 Axes>"
      ]
     },
     "metadata": {
      "needs_background": "light"
     },
     "output_type": "display_data"
    }
   ],
   "source": [
    "pas = 600\n",
    "\n",
    "#bornes des bins \n",
    "bornes = 100\n",
    "\n",
    "#Données\n",
    "Part= np.array([pfinale(pas) for i in range(0,10000)])\n",
    "\n",
    "#Tracé du graphe\n",
    "fig= plt.figure()\n",
    "plt.hist(Part,bins= bornes)\n",
    "plt.title('Position finale de 10000 particules après 600 pas')\n",
    "plt.xlabel('Position finale')\n",
    "plt.ylabel('Nombre de particules')\n",
    "plt.show()    \n"
   ]
  },
  {
   "cell_type": "markdown",
   "metadata": {
    "deletable": false,
    "editable": false,
    "nbgrader": {
     "cell_type": "markdown",
     "checksum": "dc4a67526238d52b33b0d93460190596",
     "grade": false,
     "grade_id": "cell-226c41081dad07a6",
     "locked": true,
     "schema_version": 3,
     "solution": false,
     "task": false
    }
   },
   "source": [
    "- Affichez la valeur moyenne des positions finales et de l'écart type (des fonctions numpy existent !)."
   ]
  },
  {
   "cell_type": "code",
   "execution_count": 21,
   "metadata": {
    "deletable": false,
    "nbgrader": {
     "cell_type": "code",
     "checksum": "150536786d71f35cc10e153aeb44725d",
     "grade": true,
     "grade_id": "cell-29a5d778579d6333",
     "locked": false,
     "points": 0,
     "schema_version": 3,
     "solution": true,
     "task": false
    }
   },
   "outputs": [
    {
     "name": "stdout",
     "output_type": "stream",
     "text": [
      "Moyenne = -0.08122765359257215\n",
      "Ecart type = 14.065555721083847\n"
     ]
    }
   ],
   "source": [
    "print('Moyenne =', np.mean(Part))\n",
    "print('Ecart type =', np.std(Part))"
   ]
  },
  {
   "cell_type": "markdown",
   "metadata": {
    "deletable": false,
    "editable": false,
    "nbgrader": {
     "cell_type": "markdown",
     "checksum": "913c0c41a0525e5ff05b8fbc092bd682",
     "grade": false,
     "grade_id": "cell-d84f20d1ca9f6ccf",
     "locked": true,
     "schema_version": 3,
     "solution": false,
     "task": false
    }
   },
   "source": [
    "- Définissez une fonction gaussienne \n",
    "\t$$ f(x)= \\frac{A}{\\sqrt{2\\pi}\\sigma}e^{-\\frac{(x-\\bar{x})^2}{2\\sigma^2}}$$"
   ]
  },
  {
   "cell_type": "code",
   "execution_count": 22,
   "metadata": {
    "deletable": false,
    "nbgrader": {
     "cell_type": "code",
     "checksum": "5a958f09d0161470435ab99fc9ab8e89",
     "grade": true,
     "grade_id": "cell-1458d6751ecad266",
     "locked": false,
     "points": 0,
     "schema_version": 3,
     "solution": true,
     "task": false
    }
   },
   "outputs": [],
   "source": [
    "#fonction gaussienne\n",
    "def Gauss(x, A, x_moy, sig) :\n",
    "    quot = A/((2*np.pi)**0.5*sig)\n",
    "    ex = np.exp(-(x-x_moy)**2/(2*sig**2))\n",
    "    return quot*ex\n",
    "    "
   ]
  },
  {
   "cell_type": "markdown",
   "metadata": {
    "deletable": false,
    "editable": false,
    "nbgrader": {
     "cell_type": "markdown",
     "checksum": "9c1ba07ee3005231a706019797a1e813",
     "grade": false,
     "grade_id": "cell-afa6f01787eea136",
     "locked": true,
     "schema_version": 3,
     "solution": false,
     "task": false
    }
   },
   "source": [
    "- Superposez cette fonction gaussienne à l'histogramme calculé précédemment. Vous prendrez pour $\\bar{x}$ et $\\sigma$ la moyenne et l'écart type calculés précédemment. Pour $A$ vous choisirez la valeur:\n",
    "\t$$A=dX\\times N_{particules}$$\n",
    "\toù $dX$ est la largeur des bins de l'histogramme et $N_{particules}$ est le nombre de particules. "
   ]
  },
  {
   "cell_type": "code",
   "execution_count": 23,
   "metadata": {},
   "outputs": [],
   "source": [
    "pas = 600\n",
    "N = 10000\n",
    "Part= np.array([pfinale(pas) for i in range(0,N)])"
   ]
  },
  {
   "cell_type": "code",
   "execution_count": 24,
   "metadata": {
    "deletable": false,
    "nbgrader": {
     "cell_type": "code",
     "checksum": "b9aaf6f7342544518917f77625fd4a27",
     "grade": true,
     "grade_id": "cell-c3fc033e59a3d7dc",
     "locked": false,
     "points": 0,
     "schema_version": 3,
     "solution": true,
     "task": false
    }
   },
   "outputs": [
    {
     "data": {
      "image/png": "[encoded data removed]",
      "text/plain": [
       "<Figure size 432x288 with 1 Axes>"
      ]
     },
     "metadata": {
      "needs_background": "light"
     },
     "output_type": "display_data"
    }
   ],
   "source": [
    "#Données\n",
    "dX= (max(Part)-min(Part))/bornes\n",
    "A = dX*N\n",
    "x_moy = np.mean(Part)\n",
    "sig= np.std(Part)\n",
    "\n",
    "#liste point\n",
    "X = np.linspace(min(Part),max(Part),100)\n",
    "Y_Gauss= Gauss(X, A, x_moy, sig)\n",
    "\n",
    "#Tracé du graphe\n",
    "fig= plt.figure()\n",
    "plt.hist(Part,bins= bornes)\n",
    "plt.plot(X,Y_Gauss, label='Gaussienne')\n",
    "plt.title('Position finale de 10000 particules après 600 pas')\n",
    "plt.xlabel('Position finale')\n",
    "plt.ylabel('Nombre de particules')\n",
    "plt.legend()\n",
    "plt.show() \n"
   ]
  },
  {
   "cell_type": "markdown",
   "metadata": {
    "deletable": false,
    "editable": false,
    "nbgrader": {
     "cell_type": "markdown",
     "checksum": "bb44677b83397bf6f0d3bd2c6c40b92a",
     "grade": false,
     "grade_id": "cell-e661290631b13821",
     "locked": true,
     "schema_version": 3,
     "solution": false,
     "task": false
    }
   },
   "source": [
    "Comment évolue la variance de la distribution, $\\sigma^2$, en fonction du nombre de pas?"
   ]
  },
  {
   "cell_type": "code",
   "execution_count": 25,
   "metadata": {
    "deletable": false,
    "nbgrader": {
     "cell_type": "code",
     "checksum": "f745ad1d74a7eb4d202410f7f366e5e4",
     "grade": true,
     "grade_id": "cell-64b9b9c9543b1837",
     "locked": false,
     "points": 0,
     "schema_version": 3,
     "solution": true,
     "task": false
    }
   },
   "outputs": [
    {
     "name": "stdout",
     "output_type": "stream",
     "text": [
      "[ 4.09543793  5.80768374 12.91675373 18.30590173]\n"
     ]
    },
    {
     "data": {
      "image/png": "[encoded data removed]",
      "text/plain": [
       "<Figure size 432x288 with 1 Axes>"
      ]
     },
     "metadata": {
      "needs_background": "light"
     },
     "output_type": "display_data"
    }
   ],
   "source": [
    "Aragorn = np.array([50,100,500,1000])#Nombre de pas\n",
    "SIG =np.zeros(len(Aragorn))\n",
    "for z in range(len(Aragorn)) :\n",
    "    PartS= np.array([(pfinale(Aragorn[z])) for i in range (0,N)]) #Créer N position finales après Aragorn pas\n",
    "    SIG[z] = np.std(PartS) #liste des écarts types\n",
    "print(SIG)\n",
    "var = SIG**2\n",
    "\n",
    "#Tracé du graphique\n",
    "\n",
    "fig= plt.figure()\n",
    "plt.plot(Aragorn,var)\n",
    "plt.title('Evolution de la variance en fonction du nombre de pas')\n",
    "plt.xlabel('Nombre de pas')\n",
    "plt.ylabel('Variance')\n",
    "plt.show()"
   ]
  },
  {
   "cell_type": "markdown",
   "metadata": {
    "deletable": false,
    "editable": false,
    "nbgrader": {
     "cell_type": "markdown",
     "checksum": "a7630612fce2822a10bb447219326200",
     "grade": false,
     "grade_id": "cell-af010330e6544074",
     "locked": true,
     "schema_version": 3,
     "solution": false,
     "task": false
    }
   },
   "source": [
    "Passons sur un réseau à 2 dimensions. Un pas correspond à un déplacement de la particule de dx suivant l'axe des x et de dy suivant l'axe des y, où dx et dy sont uniofrmément réparti en -1 et 1.\n",
    "\n",
    "Construisez les listes des coordonnées x et y des différentes points de la trajectoire de la particule. La trajectoire sera ensuite représentée dans un graphique par un trait continu. Vous pouvez choisir de représenter une trajectoire de 600 pas."
   ]
  },
  {
   "cell_type": "code",
   "execution_count": 26,
   "metadata": {
    "deletable": false,
    "nbgrader": {
     "cell_type": "code",
     "checksum": "f8841bbbd4b814ab0b682d8c385d697f",
     "grade": true,
     "grade_id": "cell-e477ab8c3586f2fd",
     "locked": false,
     "points": 0,
     "schema_version": 3,
     "solution": true,
     "task": false
    }
   },
   "outputs": [],
   "source": [
    "#fonction retournant position après N pas\n",
    "def Deplac2D(N):\n",
    "    dx = np.array([np.random.uniform(-1,1) for i in range(N)]) #liste de N dx\n",
    "    dy= np.array([np.random.uniform(-1,1) for i in range(N)])\n",
    "    marcheX = np.cumsum(dx) #somme cumulable\n",
    "    marcheY = np.cumsum(dy)\n",
    "    return marcheX, marcheY\n",
    "\n"
   ]
  },
  {
   "cell_type": "code",
   "execution_count": 29,
   "metadata": {},
   "outputs": [
    {
     "data": {
      "image/png": "[encoded data removed]",
      "text/plain": [
       "<Figure size 432x288 with 1 Axes>"
      ]
     },
     "metadata": {
      "needs_background": "light"
     },
     "output_type": "display_data"
    }
   ],
   "source": [
    "pas= 600\n",
    "X,Y= Deplac2D(pas)\n",
    "\n",
    "#Tracé du graphique\n",
    "\n",
    "fig= plt.figure()\n",
    "plt.plot(X,Y)\n",
    "plt.title('Déplacement')\n",
    "plt.xlabel('X')\n",
    "plt.ylabel('Y')\n",
    "plt.show()\n"
   ]
  },
  {
   "cell_type": "markdown",
   "metadata": {
    "deletable": false,
    "editable": false,
    "nbgrader": {
     "cell_type": "markdown",
     "checksum": "047066d6de2fabe405437916f9372e51",
     "grade": false,
     "grade_id": "cell-c2ff641b5afecebf",
     "locked": true,
     "schema_version": 3,
     "solution": false,
     "task": false
    }
   },
   "source": [
    "Comme pour la marche aléatoire 1D, créez une fonction calculant la distance entre l'origine et la position finale pour une particule, puis tracer l'histogramme de cette distance finale pour 10000 particules.\n",
    "\n",
    "La distribution obtenue suit une loi dite de Rayleigh:\n",
    "\t$$ f(x)= A\\frac{x}{\\sigma^2}e^{-\\frac{x^2}{2\\sigma^2}}$$\n",
    "dont la variance est égale à $\\sigma^2\\times(2-\\pi/2)$. Superposez cette fonction à l'histogramme en choisissant $A$ de manière appropriée (cf. 1D)."
   ]
  },
  {
   "cell_type": "code",
   "execution_count": 88,
   "metadata": {
    "deletable": false,
    "nbgrader": {
     "cell_type": "code",
     "checksum": "95c6f0fa7c88e19be269121eba73189b",
     "grade": true,
     "grade_id": "cell-ec5aa415d9db4378",
     "locked": false,
     "points": 0,
     "schema_version": 3,
     "solution": true,
     "task": false
    }
   },
   "outputs": [],
   "source": [
    "#fonction retournant position après N pas\n",
    "def DistFinale(N):\n",
    "    dx = np.array([np.random.uniform(-1,1) for i in range(N)]) #liste de N dx\n",
    "    dy= np.array([np.random.uniform(-1,1) for i in range(N)])\n",
    "    x_fin = sum(dx)\n",
    "    y_fin = sum(dy)\n",
    "    return np.sqrt(x_fin**2+y_fin**2)"
   ]
  },
  {
   "cell_type": "code",
   "execution_count": 95,
   "metadata": {},
   "outputs": [],
   "source": [
    "#fonction Rayleigh\n",
    "def Ray(x,A,sig) :\n",
    "    quot = A*x/(sig**2)\n",
    "    ex= np.exp(-(x**2)/(2*sig**2))\n",
    "    return quot*ex"
   ]
  },
  {
   "cell_type": "code",
   "execution_count": 92,
   "metadata": {},
   "outputs": [],
   "source": [
    "pas = 600\n",
    "Npart = 10000\n",
    "PosFinPart= np.array([DistFinale(pas) for i in range(0,Npart)]) #Un tableau de de Npart positions finales"
   ]
  },
  {
   "cell_type": "code",
   "execution_count": 108,
   "metadata": {},
   "outputs": [
    {
     "data": {
      "image/png": "[encoded data removed]",
      "text/plain": [
       "<Figure size 432x288 with 1 Axes>"
      ]
     },
     "metadata": {
      "needs_background": "light"
     },
     "output_type": "display_data"
    }
   ],
   "source": [
    "#Données\n",
    "bornes=100\n",
    "dX= (max(PosFinPart)-min(PosFinPart))/bornes\n",
    "A = dX*Npart\n",
    "sig= np.std(PosFinPart)*2**0.5\n",
    "\n",
    "#liste point\n",
    "X = np.linspace(min(PosFinPart),max(PosFinPart),100)\n",
    "Y_Ray= Ray(X, A, sig)\n",
    "\n",
    "\n",
    "#Tracé du graphe\n",
    "fig= plt.figure()\n",
    "plt.hist(PosFinPart,bins= bornes)\n",
    "plt.plot(X,Y_Ray, label='loi de Rayleigh')\n",
    "plt.title('Position finale de 10000 particules après 600 pas')\n",
    "plt.xlabel('Distance finale')\n",
    "plt.ylabel('Nombre de particules')\n",
    "plt.legend()\n",
    "plt.show() \n"
   ]
  },
  {
   "cell_type": "markdown",
   "metadata": {
    "deletable": false,
    "editable": false,
    "nbgrader": {
     "cell_type": "markdown",
     "checksum": "212ec20d525f66cc093419f469b92b4d",
     "grade": false,
     "grade_id": "cell-468471b6af0197d9",
     "locked": true,
     "schema_version": 3,
     "solution": false,
     "task": false
    }
   },
   "source": [
    "Tracez $\\sigma^2$ en fonction du nombre de ps et comparez au cas 1D"
   ]
  },
  {
   "cell_type": "code",
   "execution_count": 110,
   "metadata": {
    "deletable": false,
    "nbgrader": {
     "cell_type": "code",
     "checksum": "71a9827c9c9ff6c48296b712e9b50fba",
     "grade": true,
     "grade_id": "cell-d7e86a7751775a5f",
     "locked": false,
     "points": 0,
     "schema_version": 3,
     "solution": true,
     "task": false
    }
   },
   "outputs": [],
   "source": [
    "Aragorn = np.array([50,100,500,1000])#Nombre de pas\n",
    "SIG =np.zeros(len(Aragorn))\n",
    "for z in range(len(Aragorn)) :\n",
    "    PartS= np.array([(DistFinale(Aragorn[z])) for i in range (0,Npart)]) #Créer N distances finales après Aragorn pas\n",
    "    SIG[z] = np.std(PartS) #liste des écarts types pour les nombres de pas différents\n"
   ]
  },
  {
   "cell_type": "code",
   "execution_count": 111,
   "metadata": {},
   "outputs": [
    {
     "data": {
      "image/png": "[encoded data removed]",
      "text/plain": [
       "<Figure size 432x288 with 1 Axes>"
      ]
     },
     "metadata": {
      "needs_background": "light"
     },
     "output_type": "display_data"
    }
   ],
   "source": [
    "#Tracé du graphique\n",
    "\n",
    "fig= plt.figure()\n",
    "plt.scatter(Aragorn,SIG**2)\n",
    "plt.title('Evolution de la variance en fonction du nombre de pas')\n",
    "plt.xlabel('Nombre de pas')\n",
    "plt.ylabel('Variance')\n",
    "plt.show()"
   ]
  },
  {
   "cell_type": "code",
   "execution_count": null,
   "metadata": {},
   "outputs": [],
   "source": []
  }
 ],
 "metadata": {
  "kernelspec": {
   "display_name": "Python 3",
   "language": "python",
   "name": "python3"
  },
  "language_info": {
   "codemirror_mode": {
    "name": "ipython",
    "version": 3
   },
   "file_extension": ".py",
   "mimetype": "text/x-python",
   "name": "python",
   "nbconvert_exporter": "python",
   "pygments_lexer": "ipython3",
   "version": "3.8.6"
  }
 },
 "nbformat": 4,
 "nbformat_minor": 1
}
