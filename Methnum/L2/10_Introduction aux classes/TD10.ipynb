{
 "cells": [
  {
   "cell_type": "markdown",
   "metadata": {},
   "source": [
    "Quelques conseils:\n",
    "- pour exécutez une cellule, cliquez sur le bouton *Exécuter* ci-dessus ou tapez **Shift+Enter**\n",
    "- si l'exécution d'une cellule prend trop de temps, sélectionner dans le menu ci-dessus *Noyau/Interrompre*\n",
    "- en cas de très gros plantage *Noyau/Redémarrer*\n",
    "- **sauvegardez régulièrement vos réponses** en cliquant sur l'icone disquette ci-dessus à gauche, ou *Fichier/Créer une nouvelle sauvegarde*\n",
    "\n",
    "Pour répondre aux questions, remplacer les lignes ci-dessous par vos réponses: \n",
    "```python \n",
    "#LA REPONSE ICI\n",
    "raise NotImplementedError()\n",
    "``` \n"
   ]
  },
  {
   "cell_type": "markdown",
   "metadata": {},
   "source": [
    "---"
   ]
  },
  {
   "cell_type": "markdown",
   "metadata": {},
   "source": [
    "# TD10: Introduction aux classes\n",
    "\n",
    "## Introduction\n",
    "\n",
    "Le but de cet exercice est de vous familiariser avec la terminologie des classes et leur utilisation. Regarder l’exemple de la classe ``atom`` suivante qui permet de construire des objets de type atome:"
   ]
  },
  {
   "cell_type": "code",
   "execution_count": 1,
   "metadata": {},
   "outputs": [],
   "source": [
    "import numpy as np\n",
    "import pandas as pd\n",
    "\n",
    "class atom:\n",
    "    elements=pd.read_csv(\"data/elements.txt\",sep='\\t')\n",
    "    def __init__(self,Z,A):\n",
    "        self.Z=Z\n",
    "        self.A=A\n",
    "    def name(self):\n",
    "        print(self.elements.loc[self.Z][\"Name\"])\n",
    "    def symbol(self):\n",
    "        print(self.elements.loc[self.Z][\"Symbol\"])"
   ]
  },
  {
   "cell_type": "markdown",
   "metadata": {},
   "source": [
    "Construisez une instance d'un atom avec Z=35 et A=81."
   ]
  },
  {
   "cell_type": "code",
   "execution_count": 2,
   "metadata": {
    "deletable": false,
    "nbgrader": {
     "cell_type": "code",
     "checksum": "ae39a7eebd31f5788f9a4c234d6e6e11",
     "grade": true,
     "grade_id": "cell-d3c223a40817105a",
     "locked": false,
     "points": 0,
     "schema_version": 3,
     "solution": true,
     "task": false
    }
   },
   "outputs": [],
   "source": [
    "brome=atom(35,81)"
   ]
  },
  {
   "cell_type": "markdown",
   "metadata": {},
   "source": [
    "Demandez les attribut Z et A de cet atome."
   ]
  },
  {
   "cell_type": "code",
   "execution_count": 4,
   "metadata": {
    "deletable": false,
    "nbgrader": {
     "cell_type": "code",
     "checksum": "731eb542a8dfe9caa7f9b36a3cc635fa",
     "grade": true,
     "grade_id": "cell-a5fc63bf0eaef3dd",
     "locked": false,
     "points": 0,
     "schema_version": 3,
     "solution": true,
     "task": false
    }
   },
   "outputs": [
    {
     "name": "stdout",
     "output_type": "stream",
     "text": [
      "35\n",
      "81\n"
     ]
    }
   ],
   "source": [
    "print(brome.Z)\n",
    "print(brome.A)"
   ]
  },
  {
   "cell_type": "markdown",
   "metadata": {},
   "source": [
    "Grace aux méthodes respectives, demandez le nom et le symbole de cette instance :"
   ]
  },
  {
   "cell_type": "code",
   "execution_count": 8,
   "metadata": {
    "deletable": false,
    "nbgrader": {
     "cell_type": "code",
     "checksum": "87717f44caee1b2240046f5ef309f775",
     "grade": true,
     "grade_id": "cell-1cb67a25277fe645",
     "locked": false,
     "points": 0,
     "schema_version": 3,
     "solution": true,
     "task": false
    }
   },
   "outputs": [
    {
     "name": "stdout",
     "output_type": "stream",
     "text": [
      "Germanium\n",
      "Ge\n"
     ]
    }
   ],
   "source": [
    "brome.name()\n",
    "brome.symbol()"
   ]
  },
  {
   "cell_type": "markdown",
   "metadata": {},
   "source": [
    "## Exercise 1: Évaluer un QCM\n",
    "\n",
    "On veut définir une classe qui permet de vérifier un questionnaire à choix multiples. Le questionnaire aura N questions avec 3 possibles réponses: 1,2,3. Une question sans réponse sera indiquée par un 0.\n",
    "1. Définissez une classe <tt>quiz</tt> qui, à la création d'une instance, initialise un attribut <tt>responses</tt> qui sera un questionnaire vierge. Il s'agira d'une liste de N fois la valeur 0.  \n",
    "2. Définissez une méthode <tt>Q</tt> qui prend comme arguments le numéro de la question et la réponse donnée. Cette fonction vérifie si la valeur est valable (un numéro compris entre 0 et 3). Si la condition est satisfaite, la valeur est enregistrée à la position correspondante de l'attribut <tt>responses</tt>, autrement le logiciel affiche la phrase \"wrong input\". \n",
    "3. On voudra noter le questionnaire en respectant les conditions suivantes :\n",
    "    * réponse correcte +2 points \n",
    "    * réponse fausse -1 point \n",
    "    * pas de réponse 0 points \n",
    "    \n",
    "   Pour ceci vous devez définir une nouvelle méthode <tt>score</tt> qui compare les valeurs enregistrées dans l'attribut <tt>responses</tt> avec celle d'une liste de référence. Pour cet exercice vous pouvez utiliser la liste des bonnes réponses définies dans la cellule suivante."
   ]
  },
  {
   "cell_type": "code",
   "execution_count": 9,
   "metadata": {},
   "outputs": [],
   "source": [
    "bonnes_reponses = [1,3,2,3,2,1,3,2,2,1]"
   ]
  },
  {
   "cell_type": "markdown",
   "metadata": {},
   "source": [
    "Definissez votre classe dans la cellule suivante:"
   ]
  },
  {
   "cell_type": "code",
   "execution_count": null,
   "metadata": {
    "deletable": false,
    "nbgrader": {
     "cell_type": "code",
     "checksum": "cf888af0626a2af0774fabd6e7088cb0",
     "grade": true,
     "grade_id": "cell-f7de66315652ab5f",
     "locked": false,
     "points": 0,
     "schema_version": 3,
     "solution": true,
     "task": false
    }
   },
   "outputs": [],
   "source": [
    "class quiz :\n",
    "    def __init__(self,N):\n",
    "        self.responses= np.zeros(N)\n",
    "    def Q(self,Num,Rep):\n",
    "        if Rep ==0 or Rep == 1 or Rep == 2 or Rep == 3:\n",
    "            self.responses[Num]= Rep\n",
    "        else :\n",
    "            print(\"wrong input\")\n",
    "    def score(self,)\n",
    "    \n",
    "        "
   ]
  },
  {
   "cell_type": "markdown",
   "metadata": {},
   "source": [
    "Marie à répondu au questionnaire de la façon suivante:\n",
    "0,3,0,1,2,3,0,0,0,0. En exécutant la cellule suivante, vous pouvez vérifier si vous avez trouvé la bonne note."
   ]
  },
  {
   "cell_type": "code",
   "execution_count": null,
   "metadata": {},
   "outputs": [],
   "source": [
    "marie=quiz()\n",
    "marie.Q(1,3)\n",
    "marie.Q(3,1)\n",
    "marie.Q(4,2)\n",
    "marie.Q(5,3)\n",
    "marie.score()==2"
   ]
  },
  {
   "cell_type": "markdown",
   "metadata": {},
   "source": [
    "## Exercice 2: Heritage\n",
    "\n",
    "* Définissez une classe ``Polygon`` qui demande comme argument le nombre ``N`` de côté du polygone. A initialisation de votre instance, la classe vous demande la longueur des ``N`` côtés du polygone qu'elle enregistrera dans un attribut ``sides``.\n",
    "* Définissez une méthode ``perimeter`` qui calcule le périmètre du polygone. "
   ]
  },
  {
   "cell_type": "code",
   "execution_count": null,
   "metadata": {
    "deletable": false,
    "nbgrader": {
     "cell_type": "code",
     "checksum": "55bebdb230a432c850a5f91e76435949",
     "grade": true,
     "grade_id": "cell-8c3dc639607b6c04",
     "locked": false,
     "points": 0,
     "schema_version": 3,
     "solution": true,
     "task": false
    }
   },
   "outputs": [],
   "source": [
    "# YOUR CODE HERE\n",
    "raise NotImplementedError()"
   ]
  },
  {
   "cell_type": "markdown",
   "metadata": {},
   "source": [
    "Vérifier votre classe avec une instance"
   ]
  },
  {
   "cell_type": "code",
   "execution_count": null,
   "metadata": {
    "deletable": false,
    "nbgrader": {
     "cell_type": "code",
     "checksum": "7876dc44ab8f2bb84f1316e2d9aae6ba",
     "grade": true,
     "grade_id": "cell-eb42e068a5646835",
     "locked": false,
     "points": 0,
     "schema_version": 3,
     "solution": true,
     "task": false
    }
   },
   "outputs": [],
   "source": [
    "# YOUR CODE HERE\n",
    "raise NotImplementedError()"
   ]
  },
  {
   "cell_type": "markdown",
   "metadata": {},
   "source": [
    "* Définissez  maintenant une nouvelle classe ``Triangle`` qui est une sous-classe de la classe``Polygone``. Quand vous initialiser une instance de cette nouvelle classe, la fonction __init__ de polygone est appelée avec l'argument 3.\n",
    "* Vérifiez qu'une instance de la classe ``Triangle`` a __herité__ l’attribut ``sides`` et la méthode ``perimeter``.\n",
    "* Définissez dans la classe ``Triangle`` une méthode ``surface`` qui calcule l'aire du triangle par la formule de Héron à partir de la longueur des côtés :\n",
    "$$ area = \\sqrt{s\\cdot(s-A)\\cdot(s-B)\\cdot(s-C)} $$\n",
    "où $s$ est la moitié du périmètre."
   ]
  },
  {
   "cell_type": "code",
   "execution_count": null,
   "metadata": {
    "deletable": false,
    "nbgrader": {
     "cell_type": "code",
     "checksum": "089d825079a0d7e796114c9e5b72df27",
     "grade": true,
     "grade_id": "cell-057962af8261cf82",
     "locked": false,
     "points": 0,
     "schema_version": 3,
     "solution": true,
     "task": false
    }
   },
   "outputs": [],
   "source": [
    "# YOUR CODE HERE\n",
    "raise NotImplementedError()"
   ]
  },
  {
   "cell_type": "markdown",
   "metadata": {},
   "source": [
    "Vérifiez votre classe avec une instance"
   ]
  },
  {
   "cell_type": "code",
   "execution_count": null,
   "metadata": {
    "deletable": false,
    "nbgrader": {
     "cell_type": "code",
     "checksum": "0f1fb43e915a0ff1391135e8aa0d9a1a",
     "grade": true,
     "grade_id": "cell-20261f00cd160426",
     "locked": false,
     "points": 0,
     "schema_version": 3,
     "solution": true,
     "task": false
    }
   },
   "outputs": [],
   "source": [
    "# YOUR CODE HERE\n",
    "raise NotImplementedError()"
   ]
  },
  {
   "cell_type": "markdown",
   "metadata": {},
   "source": [
    "## Exercice 3: Centre de masse\n",
    "\n",
    "Vous implémentez une classe ``body`` qui construit un objet avec un attribut ``M`` pour indiquer sa masse et un attribut ``position`` pour indiquer sa position dans un espace bidimensionnel. L’attribut masse doit être spécifié à la génération de l’objet, l’attribut position prend la valeur (0,0) si aucune valeur n'est rentrée. "
   ]
  },
  {
   "cell_type": "code",
   "execution_count": null,
   "metadata": {
    "deletable": false,
    "nbgrader": {
     "cell_type": "code",
     "checksum": "7f6d96d29e728dd4e8f9195c5d77f7b0",
     "grade": true,
     "grade_id": "cell-c2bad8b87e54db48",
     "locked": false,
     "points": 0,
     "schema_version": 3,
     "solution": true,
     "task": false
    }
   },
   "outputs": [],
   "source": [
    "# YOUR CODE HERE\n",
    "raise NotImplementedError()"
   ]
  },
  {
   "cell_type": "markdown",
   "metadata": {},
   "source": [
    "* Construisez maintenant une classe ``ensemble`` pour collecter des objets ``body``.  Une entité est généré avec un attribut ``body_list``  qui correspond à une liste vite. \n",
    "* Définissez une méthode ``add`` qui vous permet d’ajouter un objet body à votre ``body_list``. La méthode contrôle si l’objet appartient à la classe body, si c’est vrai elle ajoute l’objet à ``body_list``, autrement elle vous affiche une message d’erreur. \n",
    "* Définissez une méthode ``remove`` qui vous permet de retirer un élément de ``body_list`` en donnant sa position dans la liste.\n",
    "* Définissez une méthode ``max`` et une méthode ``min`` qui vous retournent respectivement les valeur de la plus grosse et de la plus petite masse dans la liste. Remarque : il faudra appeler l’attribut ``M`` des objets dans votre ``body_list`` et chercher la valeur des extrêmes dans cette nouvelle liste.\n",
    "* Définissez une méthode ``plot`` qui vous permet d’afficher la position des objets sur le plan.  Pour faire ceci, vous pouvez pour chaque objet utiliser la fonction scatter et choisir une seule couleur pour les points. \n",
    "* (Facultatif) Il est souhaitable de pouvoir représenter la valeur de la masse des objets par la taille des points  grâce à l’option s=valeur de la fonction scatter. Vous pouvez utiliser pour les tailles  l’expression suivante:\n",
    "$$size =A\\sqrt{\\frac{M-M_{min}}{M_{max}-M_{min}}}+B$$\n",
    "où $A$ et $B$ sont des entiers choisis pour avoir une taille des points raisonable, par example $A=1000$ et $B=1$.\n",
    "* Définissez une méthode ``CM`` qui vous donne la position du centre de masse du système:\n",
    "$$ R= \\frac{1}{M}\\sum_{i=1}^n m_i \\mathbf{r}_i$$\n",
    "* Modifiez maintenant votre méthode plot pour que le graphe affiche, en plus des positions des masses, la position du centre de masse représentée par un point rouge."
   ]
  },
  {
   "cell_type": "code",
   "execution_count": null,
   "metadata": {
    "deletable": false,
    "nbgrader": {
     "cell_type": "code",
     "checksum": "e8648344cd199fa1dcc66ff48b244c28",
     "grade": true,
     "grade_id": "cell-9d2d77a78eddc0ef",
     "locked": false,
     "points": 0,
     "schema_version": 3,
     "solution": true,
     "task": false
    }
   },
   "outputs": [],
   "source": [
    "# YOUR CODE HERE\n",
    "raise NotImplementedError()"
   ]
  },
  {
   "cell_type": "markdown",
   "metadata": {},
   "source": [
    "Regardez maintenant l’exemple suivant dans lequel on construit un système de masses en utilisant la classe que vous avez définie :"
   ]
  },
  {
   "cell_type": "code",
   "execution_count": null,
   "metadata": {},
   "outputs": [],
   "source": [
    "masse1=body(10,np.array([1,2]))\n",
    "masse2=body(30,np.array([2,5]))\n",
    "masse3=body(5,np.array([2,3]))\n",
    "system=ensemble()\n",
    "system.add(masse1)\n",
    "system.add(masse2)\n",
    "system.add(masse3)\n",
    "system.plot()"
   ]
  },
  {
   "cell_type": "markdown",
   "metadata": {},
   "source": [
    "Vous pouvez facilement opérer sur votre entité ou directement sur les attributs des objets auxquels votre entité se réfère :"
   ]
  },
  {
   "cell_type": "code",
   "execution_count": null,
   "metadata": {},
   "outputs": [],
   "source": [
    "system.add(body(4))\n",
    "system.plot()"
   ]
  },
  {
   "cell_type": "code",
   "execution_count": null,
   "metadata": {},
   "outputs": [],
   "source": [
    "masse1.M=50\n",
    "system.plot()"
   ]
  },
  {
   "cell_type": "markdown",
   "metadata": {},
   "source": [
    "## Exercise 4: Polymères\n",
    "\n",
    "Un modèle simple de polymère peut être construit en considérant une séquence de segments orientés de manière aléatoire (modèle dit de \"vol aléatoire\") .\n",
    "\n",
    "Dans ce problème on définira une classe, `Polymer`, pour décrire un tel polymère, dans laquelle les positions des segments sont enregistrées dans une liste de coordonnées 3D. \n",
    "* Une instance de cette classe sera initialisée avec les valeurs du nombre de segments `N` et de la longueur du segment `a`. La méthode d'initialisation appelle une méthode `make_polymer` pour construire la liste des positions des extrêmes des segments. \n",
    "* Vous pouvez vous référer au modèle de marche aléatoire que vous avez vu lors d’un précédent TD. Dans ce problème, le polymère est décrit dans un espace tridimensionnel et vous devriez donc utiliser des coordonées spheriques et deux angles aléatoires $\\theta$ et $\\phi$.\n",
    "* Vous pouvez implémenter une méthode ``plot`` que vous permet de visualiser à trois dimensions le polymère généré. Pour ceci vous devez d’abord importer le module ``mplot3d``:"
   ]
  },
  {
   "cell_type": "code",
   "execution_count": null,
   "metadata": {},
   "outputs": [],
   "source": [
    "from mpl_toolkits import mplot3d"
   ]
  },
  {
   "cell_type": "markdown",
   "metadata": {},
   "source": [
    "ensuite à l’intérieur de votre méthode ``plot`` vous pouvez utiliser les fonctions suivantes :"
   ]
  },
  {
   "cell_type": "raw",
   "metadata": {},
   "source": [
    "ax = plt.axes(projection='3d')\n",
    "ax.plot3D(x,y,z)"
   ]
  },
  {
   "cell_type": "markdown",
   "metadata": {},
   "source": [
    "où x, y et z représentent les listes des coordonnée des extrêmes des segments de votre polymère."
   ]
  },
  {
   "cell_type": "markdown",
   "metadata": {},
   "source": [
    "* La classe implémentera aussi une méthode `R` qui calculera la distance de bout en bout de la chaîne polymérique."
   ]
  },
  {
   "cell_type": "code",
   "execution_count": null,
   "metadata": {
    "deletable": false,
    "nbgrader": {
     "cell_type": "code",
     "checksum": "7365ec1b9ef09a95a5346ee455fbdd2f",
     "grade": true,
     "grade_id": "cell-3da80691a8b08402",
     "locked": false,
     "points": 0,
     "schema_version": 3,
     "solution": true,
     "task": false
    }
   },
   "outputs": [],
   "source": [
    "# YOUR CODE HERE\n",
    "raise NotImplementedError()"
   ]
  },
  {
   "cell_type": "code",
   "execution_count": null,
   "metadata": {},
   "outputs": [],
   "source": [
    "a=Polymer(15,3)\n",
    "a.plot()"
   ]
  }
 ],
 "metadata": {
  "kernelspec": {
   "display_name": "Python 3",
   "language": "python",
   "name": "python3"
  },
  "language_info": {
   "codemirror_mode": {
    "name": "ipython",
    "version": 3
   },
   "file_extension": ".py",
   "mimetype": "text/x-python",
   "name": "python",
   "nbconvert_exporter": "python",
   "pygments_lexer": "ipython3",
   "version": "3.6.7"
  }
 },
 "nbformat": 4,
 "nbformat_minor": 2
}
