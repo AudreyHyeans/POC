{
 "cells": [
  {
   "cell_type": "markdown",
   "metadata": {},
   "source": [
    "## 3.5: Using quantile-quantile plots to check for normality"
   ]
  },
  {
   "cell_type": "markdown",
   "metadata": {},
   "source": [
    "Q-Q plots are an easy way to quickly check whether your data are consistent with a normal distribution (or indeed any other type of distribution where you know how to describe the PDF).\n",
    "\n",
    "First, we'll see how to calculate them by hand. Then, we'll use a ```scipy.stats``` function to perform the calculation for us."
   ]
  },
  {
   "cell_type": "markdown",
   "metadata": {},
   "source": [
    "### 3.5.1: Q-Q plots by hand"
   ]
  },
  {
   "cell_type": "markdown",
   "metadata": {},
   "source": [
    "Let's generate some random data drawn from the uniform distribution:"
   ]
  },
  {
   "cell_type": "code",
   "execution_count": 18,
   "metadata": {},
   "outputs": [],
   "source": [
    "# set up libraries\n",
    "import numpy as np\n",
    "import matplotlib.pyplot as plt\n",
    "plt.ion()\n",
    "%matplotlib inline"
   ]
  },
  {
   "cell_type": "code",
   "execution_count": 19,
   "metadata": {},
   "outputs": [
    {
     "name": "stdout",
     "output_type": "stream",
     "text": [
      "[ 1.03447354  0.64250152  1.13793026 -1.34133733  0.29392459  2.8778847\n",
      "  2.67719903  1.73660015 -1.56268385 -1.20257158]\n"
     ]
    },
    {
     "data": {
      "image/png": "[encoded data removed]",
      "text/plain": [
       "<Figure size 432x288 with 1 Axes>"
      ]
     },
     "metadata": {
      "needs_background": "light"
     },
     "output_type": "display_data"
    }
   ],
   "source": [
    "x = np.random.uniform(low=-2,high=3,size=10)\n",
    "print(x)\n",
    "plt.hist(x,edgecolor='k')\n",
    "plt.xlabel('Random variable')\n",
    "plt.ylabel('Frequency')\n",
    "plt.title('Random data from the uniform distribution');"
   ]
  },
  {
   "cell_type": "markdown",
   "metadata": {},
   "source": [
    "As a first step, we'll calculate the quantiles from our \"observed\" data, ```x```."
   ]
  },
  {
   "cell_type": "code",
   "execution_count": 20,
   "metadata": {},
   "outputs": [
    {
     "name": "stdout",
     "output_type": "stream",
     "text": [
      "There are 10 observations in x\n"
     ]
    }
   ],
   "source": [
    "print('There are {} observations in x'.format(len(x)))"
   ]
  },
  {
   "cell_type": "markdown",
   "metadata": {},
   "source": [
    "We will use the method that we saw in class, and calculate 9 quantiles for our data set containing 10 observations. There exist many different ways to decide how to choose the quantiles, but we will use this choice as it is simple and easier to understand than the other methods.\n",
    "\n",
    "To calculate the quantiles, we can use the ```np.percentile``` function that we used previously to calculate Q1, Q2 and Q3 when we wanted to calculate the interquartile range.\n",
    "\n",
    "To calculate the IQR, we used ```np.percentile(x,[25,50,75])```. Here, we just need to replace the ```[25,50,75]``` by the quantiles that we want to calculate:"
   ]
  },
  {
   "cell_type": "code",
   "execution_count": 21,
   "metadata": {},
   "outputs": [
    {
     "name": "stdout",
     "output_type": "stream",
     "text": [
      "Chosen quantiles:  [10. 20. 30. 40. 50. 60. 70. 80. 90.]\n",
      "Observed quantiles:  [-1.36347199 -1.23032473 -0.15502426  0.50307074  0.83848753  1.07585623\n",
      "  1.31753122  1.92471993  2.6972676 ]\n"
     ]
    }
   ],
   "source": [
    "# define the quantiles to be calculated (note: percentiles = quantiles * 100, \n",
    "# they are the same thing, but quantiles are expressed as a fraction, and percentiles as\n",
    "# a percentage)\n",
    "quantiles = np.arange(1,len(x))/len(x)\n",
    "percentiles = quantiles * 100\n",
    "print('Chosen quantiles: ',percentiles)\n",
    "\n",
    "# calculate the quantiles\n",
    "observed_q = np.percentile(x,percentiles)\n",
    "print('Observed quantiles: ',observed_q)"
   ]
  },
  {
   "cell_type": "markdown",
   "metadata": {},
   "source": [
    "We know that our data were generated with a uniform distribution, but imagine that we don't know this, and that we want to see whether they come from a normal distribution.\n",
    "\n",
    "To do this, we need to calculate the same 9 quantiles for the normal distribution as we just calculated for the data set. \n",
    "\n",
    "We saw in the last notebook that we can use the ```norm.ppf(proba)``` function from ```scipy.stats``` to calculate the Z value for which the area under the curve to the left has probability=*proba*. There is thus a probability=*proba* of observing a value less than or equal to the given Z value. \n",
    "\n",
    "This definition corresponds exactly to our quantiles, so we can use this function to find the corresponding quantiles for the normal distribution:"
   ]
  },
  {
   "cell_type": "code",
   "execution_count": 22,
   "metadata": {},
   "outputs": [
    {
     "name": "stdout",
     "output_type": "stream",
     "text": [
      "Theoretical quantiles for the standard normal distribution:  [-1.36347199 -1.23032473 -0.15502426  0.50307074  0.83848753  1.07585623\n",
      "  1.31753122  1.92471993  2.6972676 ]\n"
     ]
    }
   ],
   "source": [
    "import scipy.stats as ss\n",
    "# calculate the theoretical quantiles\n",
    "theoretical_q = ss.norm.ppf(quantiles)\n",
    "print('Theoretical quantiles for the standard normal distribution: ',observed_q)"
   ]
  },
  {
   "cell_type": "markdown",
   "metadata": {},
   "source": [
    "This is all we need to make the Q-Q plot. We will also add a straight line so that we can compare the data against it. We know that $x = \\mu + \\sigma Z$, so we will use this as the equation of the straight line, $y=c + mx$, where we have plotted *Z* on the x-axis and *x* on the y-axis:"
   ]
  },
  {
   "cell_type": "code",
   "execution_count": 23,
   "metadata": {},
   "outputs": [
    {
     "name": "stdout",
     "output_type": "stream",
     "text": [
      "Estimates:\n",
      "mu = 0.6231235861617573\n",
      "sigma = 1.6314329419259772\n"
     ]
    },
    {
     "data": {
      "image/png": "[encoded data removed]",
      "text/plain": [
       "<Figure size 432x288 with 1 Axes>"
      ]
     },
     "metadata": {
      "needs_background": "light"
     },
     "output_type": "display_data"
    }
   ],
   "source": [
    "ax = plt.subplot(111)\n",
    "plt.plot(theoretical_q,observed_q,'bo');\n",
    "# we use polyfit to estimate sigma and mu from our x and y data\n",
    "# deg = 1 tells polyfit to find a linear relationship\n",
    "p = np.polyfit(theoretical_q,observed_q,deg=1)\n",
    "# p contains the coefficients m and c for the relationship y = c + mx\n",
    "print('Estimates:')\n",
    "print('mu = {}'.format(p[1]))\n",
    "print('sigma = {}'.format(p[0]))\n",
    "# make the straight line:\n",
    "y = p[1]+(p[0]*theoretical_q)\n",
    "plt.plot(theoretical_q,y,'r-')\n",
    "plt.xlabel('Theoretical quantiles')\n",
    "plt.ylabel('Ordered values')\n",
    "plt.title('Q-Q plot');\n",
    "plt.grid()"
   ]
  },
  {
   "cell_type": "markdown",
   "metadata": {},
   "source": [
    "You will probably find that your random data from the uniform distribution don't show a linear relationship with the theoretical values from the normal distribution that we used here.\n",
    "\n",
    "Below, use the ```ss.uniform.ppf``` method, and repeat the calculation using theoretical quantiles from the uniform distribution. Note that your x-data will not be standardised, so the relationship $x = \\mu + \\sigma Z$ will not work here: you can use the function ```plot_straight_line``` that is defined for you below to add the straight line."
   ]
  },
  {
   "cell_type": "code",
   "execution_count": 34,
   "metadata": {},
   "outputs": [
    {
     "name": "stdout",
     "output_type": "stream",
     "text": [
      "Theoretical quantiles for the standard normal distribution:  [-1.36347199 -1.23032473 -0.15502426  0.50307074  0.83848753  1.07585623\n",
      "  1.31753122  1.92471993  2.6972676 ]\n",
      "Estimates:\n",
      "mu = 0.6231235861617573\n",
      "sigma = 1.6314329419259772\n"
     ]
    },
    {
     "data": {
      "image/png": "[encoded data removed]",
      "text/plain": [
       "<Figure size 432x288 with 1 Axes>"
      ]
     },
     "metadata": {
      "needs_background": "light"
     },
     "output_type": "display_data"
    }
   ],
   "source": [
    "# enter your code here\n",
    "def plot_straight_line(x,y):\n",
    "    ''' add a best-fit straight line to the plot\n",
    "    given input data x and y'''\n",
    "    p = np.polyfit(x,y,deg=1)\n",
    "    plt.plot(x,np.polyval(p,x),'r-')\n",
    "    return\n",
    "\n",
    "theoretical_q = ss.norm.ppf(quantiles)\n",
    "print('Theoretical quantiles for the standard normal distribution: ',observed_q)\n",
    "f1 = plt.figure()\n",
    "\n",
    "ax = plt.subplot(111)\n",
    "\n",
    "plt.plot(theoretical_q,observed_q,'bo');\n",
    "print('Estimates:')\n",
    "print('mu = {}'.format(p[1]))\n",
    "print('sigma = {}'.format(p[0]))\n",
    "# make the straight line:\n",
    "#y = straight_line[1]+(straight_line[0]*theoretical_q)\n",
    "#plt.plot(theoretical_q,y,'r-')\n",
    "straight_line = plot_straight_line(theoretical_q, observed_q)\n",
    "plt.xlabel('Theoretical quantiles')\n",
    "plt.ylabel('Ordered values')\n",
    "plt.title('Q-Q plot with function plot_straight_line');\n",
    "plt.grid()"
   ]
  },
  {
   "cell_type": "code",
   "execution_count": null,
   "metadata": {},
   "outputs": [],
   "source": []
  },
  {
   "cell_type": "markdown",
   "metadata": {},
   "source": [
    "You should find that the data are closer to the straight line than for the example above with the normal distribution."
   ]
  },
  {
   "cell_type": "markdown",
   "metadata": {},
   "source": [
    "### 3.5.2: Q-Q plots with scipy"
   ]
  },
  {
   "cell_type": "markdown",
   "metadata": {},
   "source": [
    "```scipy``` can make Q-Q plots for you automatically using the ```stats.probplot``` command. The example below shows how to compare the random data generated previously to the normal distribution:"
   ]
  },
  {
   "cell_type": "code",
   "execution_count": 35,
   "metadata": {},
   "outputs": [
    {
     "data": {
      "text/plain": [
       "((array([-1.49876728, -0.98494667, -0.64703803, -0.37109819, -0.12121409,\n",
       "          0.12121409,  0.37109819,  0.64703803,  0.98494667,  1.49876728]),\n",
       "  array([-1.56268385, -1.34133733, -1.20257158,  0.29392459,  0.64250152,\n",
       "          1.03447354,  1.13793026,  1.73660015,  2.67719903,  2.8778847 ])),\n",
       " (1.6997940946946284, 0.6293921021058837, 0.9743132053293575))"
      ]
     },
     "execution_count": 35,
     "metadata": {},
     "output_type": "execute_result"
    },
    {
     "data": {
      "image/png": "[encoded data removed]",
      "text/plain": [
       "<Figure size 432x288 with 1 Axes>"
      ]
     },
     "metadata": {
      "needs_background": "light"
     },
     "output_type": "display_data"
    }
   ],
   "source": [
    "ss.probplot(x,dist='norm',plot=plt)"
   ]
  },
  {
   "cell_type": "markdown",
   "metadata": {},
   "source": [
    "Try making a plot for the uniform distribution below:"
   ]
  },
  {
   "cell_type": "code",
   "execution_count": 37,
   "metadata": {},
   "outputs": [
    {
     "data": {
      "text/plain": [
       "((array([-1.49876728, -0.98494667, -0.64703803, -0.37109819, -0.12121409,\n",
       "          0.12121409,  0.37109819,  0.64703803,  0.98494667,  1.49876728]),\n",
       "  array([-1.44366766, -1.29789223, -1.20650323, -0.22093377,  0.00863366,\n",
       "          0.26678044,  0.33491544,  0.72919027,  1.34865429,  1.48082279])),\n",
       " (1.119458363206794, -1.1367481096884002e-16, 0.9743132053293577))"
      ]
     },
     "execution_count": 37,
     "metadata": {},
     "output_type": "execute_result"
    },
    {
     "data": {
      "image/png": "[encoded data removed]",
      "text/plain": [
       "<Figure size 432x288 with 1 Axes>"
      ]
     },
     "metadata": {
      "needs_background": "light"
     },
     "output_type": "display_data"
    }
   ],
   "source": [
    "# enter your code here\n",
    "mu = np.mean(x)\n",
    "sigma = np.std(x)\n",
    "Z = (x-mu)/sigma\n",
    "ss.probplot(Z,dist='norm',plot=plt)"
   ]
  },
  {
   "cell_type": "markdown",
   "metadata": {},
   "source": [
    "## 3.6: Numerical tests to check for normality"
   ]
  },
  {
   "cell_type": "markdown",
   "metadata": {},
   "source": [
    "Some of the common tests to check for normality are:\n",
    "* Lilliefor's test\n",
    "* The Shapiro-Wilk test\n",
    "* The Anderson-Darling test\n",
    "\n",
    "You can find these tests in python:\n",
    "* Lilliefor's test: ```statsmodels.stats.lilliefors```\n",
    "* Shapiro-Wilk: ```scipy.stats.shapiro```\n",
    "* Anderson-Darling: ```scipy.stats.anderson```"
   ]
  },
  {
   "cell_type": "markdown",
   "metadata": {},
   "source": [
    "Here is an example of using the Anderson-Darling test (with more explanation below):"
   ]
  },
  {
   "cell_type": "code",
   "execution_count": 38,
   "metadata": {},
   "outputs": [
    {
     "name": "stdout",
     "output_type": "stream",
     "text": [
      "Test statistic:  0.6119118271958826\n",
      "Critical values:  [0.538 0.613 0.736 0.858 1.021]\n",
      "Significance levels (%):  [15.  10.   5.   2.5  1. ]\n",
      "---\n",
      "The test statistic indicates that the data are not normally distributed with 85% confidence\n"
     ]
    },
    {
     "data": {
      "image/png": "[encoded data removed]",
      "text/plain": [
       "<Figure size 432x288 with 1 Axes>"
      ]
     },
     "metadata": {
      "needs_background": "light"
     },
     "output_type": "display_data"
    }
   ],
   "source": [
    "# generate some random data drawn from the normal distribution\n",
    "x = np.random.normal(loc=2,scale=5,size=50)\n",
    "plt.hist(x,edgecolor='k')\n",
    "plt.xlabel('Random data')\n",
    "plt.ylabel('Frequency')\n",
    "\n",
    "# import the Anderson-Darling method\n",
    "from scipy.stats import anderson as anderson\n",
    "\n",
    "# apply the test\n",
    "statistic,critical_values,significance = anderson(x, dist='norm')\n",
    "print('Test statistic: ',statistic)\n",
    "print('Critical values: ',critical_values)\n",
    "\n",
    "print('Significance levels (%): ',significance) # we will meet significance levels next week\n",
    "print('---')\n",
    "if statistic < critical_values[0]:\n",
    "    print('The test statistic indicates that the data are normally '\\\n",
    "          'distributed with high confidence')\n",
    "elif (statistic >= critical_values[0]) & (statistic <= critical_values[-1]):\n",
    "    ix = np.where(statistic < critical_values)[0][0]\n",
    "    print('The test statistic indicates that the data are not '\\\n",
    "          'normally distributed with {:2.0f}% confidence'.format(100-significance[ix-1]) )\n",
    "else:\n",
    "    print('The test statistic indicates that the data are not normally '\\\n",
    "          'distributed with high confidence')"
   ]
  },
  {
   "cell_type": "markdown",
   "metadata": {},
   "source": [
    "To use this test, we have to compare the test statistic returned by the function against the list of critical values that it gives us.\n",
    "\n",
    "If the test statistic is less than the smallest of the critical values, then we can be confident that the data come from the normal distribution.\n",
    "\n",
    "If the test statistic is greater than the smallest of the critical values, we suspect that the data might not be normally distributed. Our belief that the data are not normally distributed increases as the value test statistic increases. The significance levels allow us to quantify this belief. We will look in more detail at significance levels in the next two sessions."
   ]
  },
  {
   "cell_type": "markdown",
   "metadata": {},
   "source": [
    "To use the Shapiro-Wilk test, the method is similar, but here the function will return the test statistic and a probability (p-value). If the probability is > 0.1, we are confident that the data are normally distributed. If the probability is > 0.05, but less than 0.1, we are fairly confident that the data are normally distributed. If the probability is < 0.05, there is a fair chance that the data are not normally distributed."
   ]
  },
  {
   "cell_type": "code",
   "execution_count": 39,
   "metadata": {},
   "outputs": [
    {
     "name": "stdout",
     "output_type": "stream",
     "text": [
      "p-value = 0.1801961213350296\n"
     ]
    }
   ],
   "source": [
    "test_statistic, p_value=ss.shapiro(x)\n",
    "print('p-value =',p_value)"
   ]
  },
  {
   "cell_type": "markdown",
   "metadata": {},
   "source": [
    "Try generating some uniformly distributed data and applying the two tests above:"
   ]
  },
  {
   "cell_type": "code",
   "execution_count": 53,
   "metadata": {},
   "outputs": [
    {
     "name": "stdout",
     "output_type": "stream",
     "text": [
      "Test statistic:  5.672583892572561\n",
      "Critical values:  [0.571 0.651 0.781 0.911 1.083]\n",
      "Significance levels (%):  [15.  10.   5.   2.5  1. ]\n",
      "---\n",
      "The test statistic indicates that the data are not normally distributed with high confidence\n"
     ]
    },
    {
     "data": {
      "image/png": "[encoded data removed]",
      "text/plain": [
       "<Figure size 432x288 with 1 Axes>"
      ]
     },
     "metadata": {
      "needs_background": "light"
     },
     "output_type": "display_data"
    }
   ],
   "source": [
    "# enter your code here\n",
    "data = np.random.uniform(low=-50,high=50,size=500)\n",
    "mean = np.mean(data)\n",
    "std = np.std(data)\n",
    "data_sorted = np.sort(data)\n",
    "#print(data_sorted)\n",
    "\n",
    "data_normalized = (data-mean)/std\n",
    "plt.hist(data, bins=50)\n",
    "\n",
    "# apply the test\n",
    "statistic,critical_values,significance = anderson(data_normalized, dist='norm')\n",
    "print('Test statistic: ',statistic)\n",
    "print('Critical values: ',critical_values)\n",
    "\n",
    "print('Significance levels (%): ',significance) # we will meet significance levels next week\n",
    "print('---')\n",
    "if statistic < critical_values[0]:\n",
    "    print('The test statistic indicates that the data are normally '\\\n",
    "          'distributed with high confidence')\n",
    "elif (statistic >= critical_values[0]) & (statistic <= critical_values[-1]):\n",
    "    ix = np.where(statistic < critical_values)[0][0]\n",
    "    print('The test statistic indicates that the data are not '\\\n",
    "          'normally distributed with {:2.0f}% confidence'.format(100-significance[ix-1]) )\n",
    "else:\n",
    "    print('The test statistic indicates that the data are not normally '\\\n",
    "          'distributed with high confidence')"
   ]
  },
  {
   "cell_type": "markdown",
   "metadata": {},
   "source": [
    "As a final warning: the results of the various tests may not agree! In this case, you should decide whether the normality of the data is really critical for your analysis. \n",
    "\n",
    "A good solution is to collect more data. If it is not possible to collect more data, you should avoid using methods that are very sensitive to the normality of the data as much as possible."
   ]
  },
  {
   "cell_type": "code",
   "execution_count": null,
   "metadata": {},
   "outputs": [],
   "source": []
  }
 ],
 "metadata": {
  "kernelspec": {
   "display_name": "Python 3",
   "language": "python",
   "name": "python3"
  },
  "language_info": {
   "codemirror_mode": {
    "name": "ipython",
    "version": 3
   },
   "file_extension": ".py",
   "mimetype": "text/x-python",
   "name": "python",
   "nbconvert_exporter": "python",
   "pygments_lexer": "ipython3",
   "version": "3.8.5"
  }
 },
 "nbformat": 4,
 "nbformat_minor": 4
}
