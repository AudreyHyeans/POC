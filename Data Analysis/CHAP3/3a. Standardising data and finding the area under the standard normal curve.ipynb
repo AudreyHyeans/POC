{
 "cells": [
  {
   "cell_type": "markdown",
   "metadata": {},
   "source": [
    "## 3.1: Standardising data"
   ]
  },
  {
   "cell_type": "markdown",
   "metadata": {},
   "source": [
    "When we standardise data, we transform it so that it has a mean of zero, and a standard deviation of 1. The transform is:\n",
    "\n",
    "\\begin{equation*}\n",
    "Z = \\frac{x - \\mu}{\\sigma}\n",
    "\\end{equation*}\n",
    "\n",
    "where $x$ is our data, $\\mu$ is the mean, and $\\sigma$ is the standard deviation.\n",
    "\n",
    "This transform can be applied to any data set: we are focused on the normal distribution here, but data that have other distributions can also be standardised using this same transform.\n",
    "\n",
    "We will make some plots below to see the transform work:"
   ]
  },
  {
   "cell_type": "code",
   "execution_count": 1,
   "metadata": {},
   "outputs": [],
   "source": [
    "# import libraries\n",
    "import numpy as np\n",
    "import matplotlib.pyplot as plt\n",
    "plt.ion()\n",
    "%matplotlib inline"
   ]
  },
  {
   "cell_type": "code",
   "execution_count": 2,
   "metadata": {},
   "outputs": [
    {
     "name": "stdout",
     "output_type": "stream",
     "text": [
      "[-7.70644207 -3.95613416 -2.63011269  1.28945138  8.4289737 ]\n"
     ]
    }
   ],
   "source": [
    "# generate a sample of 5 random data points drawn from a normal distribution with\n",
    "# mean = -3 and standard deviation = 5\n",
    "x = np.random.normal(loc=-3, scale=5, size=5)\n",
    "print(np.sort(x))"
   ]
  },
  {
   "cell_type": "code",
   "execution_count": 3,
   "metadata": {},
   "outputs": [
    {
     "name": "stdout",
     "output_type": "stream",
     "text": [
      "Mean = -0.915, standard deviation = 5.486\n"
     ]
    }
   ],
   "source": [
    "# check the mean and standard deviation of the sample\n",
    "# (these are the values that we will use for mu and sigma)\n",
    "print('Mean = {:5.3f}, standard deviation = {:5.3f}'.format(np.mean(x), np.std(x)))"
   ]
  },
  {
   "cell_type": "code",
   "execution_count": 6,
   "metadata": {},
   "outputs": [
    {
     "data": {
      "image/png": "[encoded data removed]",
      "text/plain": [
       "<Figure size 432x288 with 1 Axes>"
      ]
     },
     "metadata": {
      "needs_background": "light"
     },
     "output_type": "display_data"
    }
   ],
   "source": [
    "# enter code to plot a histogram of these 5 points, and add vertical lines to show\n",
    "# the mean, the mean +/- 1*standard deviation, and the mean +/- 2*standard deviation\n",
    "mu = np.mean(x)\n",
    "sigma = np.std(x)\n",
    "plt.figure()\n",
    "plt.title('Histogramm with the mean and std')\n",
    "plt.hist(x,bins=20)\n",
    "\n",
    "plt.axvline(mu,color='red')\n",
    "\n",
    "plt.axvline(mu + sigma,color='black')\n",
    "plt.axvline(mu - sigma,color='black')\n",
    "\n",
    "plt.axvline(mu + 2*sigma,color='purple')\n",
    "plt.axvline(mu - 2*sigma,color='purple')\n",
    "plt.show()"
   ]
  },
  {
   "cell_type": "markdown",
   "metadata": {},
   "source": [
    "Let's consider the lines that you just plotted for mean + 1\\*standard deviation and mean - 1\\*standard deviation. If we define these two values as variables, $a$ and $b$:\n",
    "\\begin{equation*}\n",
    "a = \\mu + \\sigma\n",
    "\\end{equation*}\n",
    "\\begin{equation*}\n",
    "b = \\mu - \\sigma\n",
    "\\end{equation*}\n",
    "then when we calculate the equivalent Z values using the standardisation transform:\n",
    "\\begin{align*}\n",
    "Z_a &= \\frac{a - \\mu}{\\sigma}\\\\\n",
    "&= \\frac{\\mu + \\sigma - \\mu}{\\sigma}\\\\\n",
    "&= \\frac{\\sigma}{\\sigma} = 1\\\\\n",
    "\\end{align*}\n",
    "and similarly for b:\n",
    "\\begin{align*}\n",
    "Z_b &= \\frac{b - \\mu}{\\sigma}\\\\\n",
    "&= \\frac{\\mu - \\sigma - \\mu}{\\sigma}\\\\\n",
    "&= \\frac{-\\sigma}{\\sigma} = -1\\\\\n",
    "\\end{align*}\n",
    "\n",
    "For any multiple of the standard deviation, $n\\times\\sigma$, we can just replace $\\sigma$ by $n\\times\\sigma$ in the expressions for $a$ and $b$ above, and we see that our corresponding expressions for $Z_a$ and $Z_b$ simply become $Z_a=n$ and $Z_b=-n$.\n",
    "\n",
    "The standardised variable, $Z$, thus expresses the distance from the mean in units of the standard deviation of the data sample."
   ]
  },
  {
   "cell_type": "code",
   "execution_count": 11,
   "metadata": {},
   "outputs": [
    {
     "name": "stdout",
     "output_type": "stream",
     "text": [
      "1.0 -1.0\n"
     ]
    },
    {
     "data": {
      "image/png": "[encoded data removed]",
      "text/plain": [
       "<Figure size 432x288 with 1 Axes>"
      ]
     },
     "metadata": {
      "needs_background": "light"
     },
     "output_type": "display_data"
    }
   ],
   "source": [
    "# enter code to standardise the sample data, x. Then, plot a histogram of these \n",
    "# standarised data, and add vertical lines to show the mean, the \n",
    "# mean +/- 1*standard deviation, and the mean +/- 2*standard deviation\n",
    "\n",
    "#standardise the sample data\n",
    "Z = (x-mu)/sigma\n",
    "n = 1\n",
    "a = mu + sigma\n",
    "b = mu - sigma\n",
    "\n",
    "Za = (a-mu)/sigma\n",
    "Zb = (b-mu)/sigma\n",
    "\n",
    "print(Za, Zb)\n",
    "\n",
    "plt.figure()\n",
    "plt.title('Histogramm of the standardise data')\n",
    "plt.hist(Z,bins=20)\n",
    "\n",
    "plt.axvline(mu-mu,color='red')\n",
    "\n",
    "plt.axvline(Za,color='black')\n",
    "plt.axvline(Zb,color='black')\n",
    "\n",
    "plt.axvline(2*Za,color='purple')\n",
    "plt.axvline(2*Zb,color='purple')\n",
    "plt.show()"
   ]
  },
  {
   "cell_type": "markdown",
   "metadata": {},
   "source": [
    "If we want to return to the original data from the standardised form, we need to carry out the reverse transform:\n",
    "\\begin{equation*}\n",
    "x = \\mu + (Z\\times\\sigma)\n",
    "\\end{equation*}\n",
    "Note that if the only available data are the Z values, we cannot make the reverse transformation: we need to also know the mean and standard deviation of the original data to be able to retrieve the original values."
   ]
  },
  {
   "cell_type": "code",
   "execution_count": 12,
   "metadata": {},
   "outputs": [
    {
     "name": "stdout",
     "output_type": "stream",
     "text": [
      "[-3.95613416 -7.70644207 -2.63011269  1.28945138  8.4289737 ]\n",
      "[-3.95613416 -7.70644207 -2.63011269  1.28945138  8.4289737 ]\n"
     ]
    }
   ],
   "source": [
    "# enter code here to retrieve the original values of x\n",
    "x_retrieve = mu + (Z*sigma)\n",
    "print(x_retrieve)\n",
    "print(x)"
   ]
  },
  {
   "cell_type": "markdown",
   "metadata": {},
   "source": [
    "## 3.2: Finding the area under the standard normal curve"
   ]
  },
  {
   "cell_type": "markdown",
   "metadata": {},
   "source": [
    "We saw the definition of the cumulative density function (CDF) in chapter 2: this is the integral of the PDF, and gives us the probability of obtaining a value less than or equal to the chosen value:\n",
    "\n",
    "\\begin{equation*}\n",
    "CDF(x) = \\int_{-\\infty}^x p(x) dx\n",
    "\\end{equation*}\n",
    "\n",
    "To find the probability of obtaining a value less than, or equal to a certain value, we can thus use the CDF. For the normal distribution, there is a ```scipy.stats``` module that we can use:"
   ]
  },
  {
   "cell_type": "code",
   "execution_count": 13,
   "metadata": {},
   "outputs": [
    {
     "data": {
      "text/plain": [
       "\u001b[0;31mSignature:\u001b[0m \u001b[0mss\u001b[0m\u001b[0;34m.\u001b[0m\u001b[0mnorm\u001b[0m\u001b[0;34m.\u001b[0m\u001b[0mcdf\u001b[0m\u001b[0;34m(\u001b[0m\u001b[0mx\u001b[0m\u001b[0;34m,\u001b[0m \u001b[0;34m*\u001b[0m\u001b[0margs\u001b[0m\u001b[0;34m,\u001b[0m \u001b[0;34m**\u001b[0m\u001b[0mkwds\u001b[0m\u001b[0;34m)\u001b[0m\u001b[0;34m\u001b[0m\u001b[0;34m\u001b[0m\u001b[0m\n",
       "\u001b[0;31mDocstring:\u001b[0m\n",
       "Cumulative distribution function of the given RV.\n",
       "\n",
       "Parameters\n",
       "----------\n",
       "x : array_like\n",
       "    quantiles\n",
       "arg1, arg2, arg3,... : array_like\n",
       "    The shape parameter(s) for the distribution (see docstring of the\n",
       "    instance object for more information)\n",
       "loc : array_like, optional\n",
       "    location parameter (default=0)\n",
       "scale : array_like, optional\n",
       "    scale parameter (default=1)\n",
       "\n",
       "Returns\n",
       "-------\n",
       "cdf : ndarray\n",
       "    Cumulative distribution function evaluated at `x`\n",
       "\u001b[0;31mFile:\u001b[0m      ~/miniconda3/lib/python3.8/site-packages/scipy/stats/_distn_infrastructure.py\n",
       "\u001b[0;31mType:\u001b[0m      method\n"
      ]
     },
     "metadata": {},
     "output_type": "display_data"
    }
   ],
   "source": [
    "import scipy.stats as ss\n",
    "ss.norm.cdf?"
   ]
  },
  {
   "cell_type": "markdown",
   "metadata": {},
   "source": [
    "The ```quantiles``` argument corresponds to the value that we want to check. For example, to find the probability of obtaining a value lying further than 2 standard deviations away from the mean, we will check the value at ```Z=-2```, to find the probability of obtaining a value that is smaller than ```mean(x) - 2*std(x)```:"
   ]
  },
  {
   "cell_type": "code",
   "execution_count": 14,
   "metadata": {},
   "outputs": [
    {
     "data": {
      "text/plain": [
       "0.022750131948179195"
      ]
     },
     "execution_count": 14,
     "metadata": {},
     "output_type": "execute_result"
    }
   ],
   "source": [
    "ss.norm.cdf(-2)"
   ]
  },
  {
   "cell_type": "markdown",
   "metadata": {},
   "source": [
    "This result tells us that the probability of obtaining a value that is smaller than ```mean(x) - 2*std(x)``` is ~0.023. In other words, ~2.3% of the data are expected to be smaller than this for a normal distribution.\n",
    "\n",
    "Remember the empirical rule: it tells us that ~95% of the data lie within 2 standard deviations of the mean for a normal distribution. Here, we found that ~2.3% of the data were less than Z=-2. Why do we have a value that is only half the expected value?\n",
    "\n",
    "We need to take into account also the values that are larger than ```mean(x) + 2*std(x)```. Because the normal distribution is symmetric, we could just multiply that value that we found above by 2. Alternatively, we can find the probability that $Z \\leq +2$, and use the fact that the total area under the curve must be 1 to find the probability of obtaining a value greater than ```Z=+2```:"
   ]
  },
  {
   "cell_type": "code",
   "execution_count": 15,
   "metadata": {},
   "outputs": [
    {
     "data": {
      "text/plain": [
       "0.02275013194817921"
      ]
     },
     "execution_count": 15,
     "metadata": {},
     "output_type": "execute_result"
    }
   ],
   "source": [
    "1 - ss.norm.cdf(2)"
   ]
  },
  {
   "cell_type": "markdown",
   "metadata": {},
   "source": [
    "If we add the two together:"
   ]
  },
  {
   "cell_type": "code",
   "execution_count": 16,
   "metadata": {},
   "outputs": [
    {
     "data": {
      "text/plain": [
       "0.045500263896358306"
      ]
     },
     "execution_count": 16,
     "metadata": {},
     "output_type": "execute_result"
    }
   ],
   "source": [
    "ss.norm.cdf(-2) + 1 - ss.norm.cdf(2)"
   ]
  },
  {
   "cell_type": "markdown",
   "metadata": {},
   "source": [
    "we obtain a value close to the ~5% stated by the empirical rule. The true value of ```Z``` that contains the central 95% of the data is approximately 1.96. Repeat the code above using ```Z=1.96``` to check this:"
   ]
  },
  {
   "cell_type": "code",
   "execution_count": 20,
   "metadata": {},
   "outputs": [
    {
     "data": {
      "text/plain": [
       "0.9680931262943385"
      ]
     },
     "execution_count": 20,
     "metadata": {},
     "output_type": "execute_result"
    }
   ],
   "source": [
    "# enter your code here\n",
    "2-1.96\n",
    "ss.norm.cdf(-0.04) + 1 - ss.norm.cdf(0.04)"
   ]
  },
  {
   "cell_type": "markdown",
   "metadata": {},
   "source": [
    "## 3.3: Finding the Z-value associated with a certain probability integral"
   ]
  },
  {
   "cell_type": "markdown",
   "metadata": {},
   "source": [
    "To find the Z-value associated with a given probability integral, we can use the *percent point function* (```ppf```). This does the inverse operation to the CDF function:\n",
    "- for the CDF scipy function, we give a Z-value and obtain the probability of obtaining a Z-value less than or equal to the given value\n",
    "- for the PPF scipy function, we give the probability of obtaining a Z-value less than or equal to some unknown Z-value, and we obtain the unknown Z-value\n",
    "\n",
    "If we wanted to find the exact Z-value such that +/-Z contains the central 95% of the data, we would look for the Z-value where we have a 2.5% probability of obtaining a value less than or equal to that Z-value:"
   ]
  },
  {
   "cell_type": "code",
   "execution_count": 21,
   "metadata": {},
   "outputs": [
    {
     "data": {
      "text/plain": [
       "-1.9599639845400545"
      ]
     },
     "execution_count": 21,
     "metadata": {},
     "output_type": "execute_result"
    }
   ],
   "source": [
    "ss.norm.ppf(0.025)"
   ]
  },
  {
   "cell_type": "markdown",
   "metadata": {},
   "source": [
    "This gives the lower value. For the upper value ($z_{0.025}$), we would require 97.5% of the data to be less than or equal to the required value (= 100 - 2.5%):"
   ]
  },
  {
   "cell_type": "code",
   "execution_count": 22,
   "metadata": {},
   "outputs": [
    {
     "data": {
      "text/plain": [
       "1.959963984540054"
      ]
     },
     "execution_count": 22,
     "metadata": {},
     "output_type": "execute_result"
    }
   ],
   "source": [
    "ss.norm.ppf(1 - 0.025)"
   ]
  },
  {
   "cell_type": "markdown",
   "metadata": {},
   "source": [
    "Again, because the normal distribution is symmetric, the Z-values are symmetric when we isolate the highest 2.5% of the data and the lowest 2.5% of the data: $z_{0.025}=-z_{0.975}$"
   ]
  },
  {
   "cell_type": "markdown",
   "metadata": {},
   "source": [
    "## 3.4: How to be lazy in Python"
   ]
  },
  {
   "cell_type": "markdown",
   "metadata": {},
   "source": [
    "We have learnt about standardisation and Z-scores so that:   \n",
    "1: you would be able to use tables to look up areas under the normal curve if you ever needed to do this   \n",
    "2: you know what the $z_\\alpha$ notation means   \n",
    "3: you understand that all normal distributions have the same fundamental shape, and that this is simply scaled according to the standard deviation\n",
    "\n",
    "In fact, in Python, you can actually completely avoid standardising or calculating the Z-scores, because scipy will do it all for you automatically..."
   ]
  },
  {
   "cell_type": "markdown",
   "metadata": {},
   "source": [
    "If we want to calculate the probability of obtaining a value less than or equal to a certain value, we can pass the ```loc``` (=mean) and ```scale``` (=standard deviation) arguments to the ```cdf``` function, and it will standardise the data automatically. For example, let's calculate the probability of finding a value that is smaller than ```Z=-2```:"
   ]
  },
  {
   "cell_type": "code",
   "execution_count": 23,
   "metadata": {},
   "outputs": [
    {
     "data": {
      "text/plain": [
       "0.022750131948179195"
      ]
     },
     "execution_count": 23,
     "metadata": {},
     "output_type": "execute_result"
    }
   ],
   "source": [
    "ss.norm.cdf(np.mean(x)-2*np.std(x),loc=np.mean(x),scale=np.std(x))"
   ]
  },
  {
   "cell_type": "markdown",
   "metadata": {},
   "source": [
    "You can check this against the result from section 3.2.\n",
    "\n",
    "For each of the 5 values in the ```x``` sample from section 3.1, calculate the probability of obtaining a value less than or equal to that value of ```x```. Based on the probabilities, are any of your values in the outer 5% of the normal distribution?"
   ]
  },
  {
   "cell_type": "code",
   "execution_count": 38,
   "metadata": {},
   "outputs": [
    {
     "name": "stdout",
     "output_type": "stream",
     "text": [
      "0.022750131948179195\n",
      "0.022750131948179195\n",
      "0.022750131948179195\n",
      "0.022750131948179195\n",
      "0.022750131948179195\n"
     ]
    }
   ],
   "source": [
    "# enter your code here\n",
    "proba = 0\n",
    "for i,xi in enumerate (np.sort(x)):\n",
    "    proba = ss.norm.cdf(np.mean(x)-2*np.std(x),loc=np.mean(x),scale=np.std(x)) \n",
    "    print(proba)"
   ]
  },
  {
   "cell_type": "markdown",
   "metadata": {},
   "source": [
    "If we want to do the equivalent operation to section 3.3 (specify the probability and look for the associated Z-value), but we want to obtain the results in the units of our input data, not in terms of Z-values, we can again specify the ```loc``` and ```scale``` arguments when we use the ```ppf``` function.\n",
    "\n",
    "Repeating the same analysis as section 3.3, we can find the data values such that 2.5% of the data are expected to be bigger / smaller than the given values:"
   ]
  },
  {
   "cell_type": "code",
   "execution_count": 29,
   "metadata": {},
   "outputs": [
    {
     "data": {
      "text/plain": [
       "-11.667296075749087"
      ]
     },
     "execution_count": 29,
     "metadata": {},
     "output_type": "execute_result"
    }
   ],
   "source": [
    "ss.norm.ppf(0.025, loc = np.mean(x), scale = np.std(x))"
   ]
  },
  {
   "cell_type": "code",
   "execution_count": 30,
   "metadata": {},
   "outputs": [
    {
     "data": {
      "text/plain": [
       "9.837590541405003"
      ]
     },
     "execution_count": 30,
     "metadata": {},
     "output_type": "execute_result"
    }
   ],
   "source": [
    "ss.norm.ppf(1 - 0.025, loc = np.mean(x), scale = np.std(x))"
   ]
  },
  {
   "cell_type": "markdown",
   "metadata": {},
   "source": [
    "If you wish, you can re-use your code from section 3.1 to check that these values correspond to the Z-values obtained in section 3.3 using ```ss.norm.ppf(0.025)``` and ```ss.norm.ppf(1 - 0.025)```"
   ]
  },
  {
   "cell_type": "code",
   "execution_count": null,
   "metadata": {},
   "outputs": [],
   "source": [
    "# enter your code here (optional)"
   ]
  },
  {
   "cell_type": "markdown",
   "metadata": {},
   "source": [
    "According to the empirical rule, we expect 68% of the data distribution to lie within $\\pm \\sigma$ of the mean for normally-distributed data. Below, use the ```ppf``` function to estimate the data values that we expect to contain the central 68% of the data distribution. Compare these against your histogram from section 3.1 to check that everything looks ok."
   ]
  },
  {
   "cell_type": "code",
   "execution_count": 36,
   "metadata": {},
   "outputs": [
    {
     "data": {
      "image/png": "[encoded data removed]",
      "text/plain": [
       "<Figure size 432x288 with 1 Axes>"
      ]
     },
     "metadata": {
      "needs_background": "light"
     },
     "output_type": "display_data"
    }
   ],
   "source": [
    "# enter your code here\n",
    "plt.figure()\n",
    "plt.title('Histogramm of the standardise data')\n",
    "plt.hist(Z,bins=20)\n",
    "\n",
    "plt.axvline(mu + sigma,color='black')\n",
    "plt.axvline(mu - sigma,color='black')\n",
    "\n",
    "plt.axvline(mu + 2*sigma,color='purple')\n",
    "plt.axvline(mu - 2*sigma,color='purple')\n",
    "\n",
    "plt.axvline(ss.norm.ppf(0.68, loc = np.mean(x), scale = np.std(x)),\n",
    "            color = 'red',\n",
    "           label = 'data ')\n",
    "plt.axvline(ss.norm.ppf(1-0.68, loc = np.mean(x), scale = np.std(x)),color = 'red')\n",
    "plt.show()"
   ]
  },
  {
   "cell_type": "code",
   "execution_count": null,
   "metadata": {},
   "outputs": [],
   "source": []
  }
 ],
 "metadata": {
  "kernelspec": {
   "display_name": "Python 3",
   "language": "python",
   "name": "python3"
  },
  "language_info": {
   "codemirror_mode": {
    "name": "ipython",
    "version": 3
   },
   "file_extension": ".py",
   "mimetype": "text/x-python",
   "name": "python",
   "nbconvert_exporter": "python",
   "pygments_lexer": "ipython3",
   "version": "3.8.5"
  }
 },
 "nbformat": 4,
 "nbformat_minor": 4
}
