{
 "cells": [
  {
   "cell_type": "markdown",
   "metadata": {},
   "source": [
    "# Descriptive measures: part 1, measures of centre"
   ]
  },
  {
   "cell_type": "markdown",
   "metadata": {},
   "source": [
    "We have seen how we can summarise data visually using a histogram to show the frequency distribution. Now we will look at ways that we can summarise data using descriptive numbers: we are going to look at measures of centre and of variation, the effects of outliers, and the differences between studying a population and a sample.\n",
    "\n",
    "We'll use the same two data sets as last time: the ENSO index and the August Arctic sea ice extent. We'll load them before starting this section; again, you can just run the cell below (<kbd>shift &#8679;</kbd> + <kbd>return &#8629;</kbd>) without worrying about how this part works for the moment."
   ]
  },
  {
   "cell_type": "code",
   "execution_count": 1,
   "metadata": {},
   "outputs": [],
   "source": [
    "# load the necessary libraries\n",
    "import numpy as np\n",
    "import pandas as pd\n",
    "import matplotlib.pyplot as plt\n",
    "plt.ion()\n",
    "\n",
    "# load and prepare the ENSO data\n",
    "months = [i for i in range(0,13)]\n",
    "months[0] = 'Year'\n",
    "df = pd.read_csv(\"https://www.psl.noaa.gov/data/correlation/nina34.data\",\\\n",
    "                skiprows=3,skipfooter=4,index_col=0,header=0,\\\n",
    "                sep='  *',names=months,engine='python').stack().reset_index()\n",
    "df['date']=pd.to_datetime(df.Year*100+df.level_1,format='%Y%m')\n",
    "df = df.set_index('date')\n",
    "df = df.drop(columns=['Year','level_1'])\n",
    "df.columns = ['ENSO']\n",
    "#---\n",
    "date = df.index.values\n",
    "enso = df['ENSO'].values\n",
    "\n",
    "# load and prepare the Arctic sea ice extent\n",
    "df = pd.read_csv(\"ftp://sidads.colorado.edu/DATASETS/NOAA/G02135/north/\"+\\\n",
    "                 \"monthly/data/N_08_extent_v3.0.csv\", sep=', ',engine='python')\n",
    "#---\n",
    "year = df['year'].values\n",
    "extent = df['extent'].values"
   ]
  },
  {
   "cell_type": "markdown",
   "metadata": {},
   "source": [
    "The variables are now ready for you to use: ```date``` and ```enso``` describe the ENSO index, ```year``` and ```extent``` describe the Arctic sea ice extent."
   ]
  },
  {
   "cell_type": "markdown",
   "metadata": {},
   "source": [
    "## 1: Measures of centre"
   ]
  },
  {
   "cell_type": "markdown",
   "metadata": {},
   "source": [
    "### 1a: The mean"
   ]
  },
  {
   "cell_type": "markdown",
   "metadata": {},
   "source": [
    "We have already calculated the average, or mean, in the last notebook using the numpy function: ```np.mean()```\n",
    "\n",
    "The mean is the arithmetic average:\n",
    "$$ \n",
    "\\bar{x} = \\frac{\\sum_i x_i}{N}\n",
    "$$\n",
    "where $x_i$ are the individual data values, and N is the number of values.\n",
    "\n",
    "In the last notebook, you saw that for an approximately normal distribution, such as the ENSO index, the mean occurs around the centre of the distribution, near the most frequently observed value. In contrast, for a skewed distribution, such as the Arctic sea ice extent, the mean is offset with respect to the most frequently observed value:"
   ]
  },
  {
   "cell_type": "code",
   "execution_count": 2,
   "metadata": {},
   "outputs": [],
   "source": [
    "# make two subplots to show the histograms side by side\n",
    "plt.figure()\n",
    "plt.subplot(121)\n",
    "plt.hist(enso,bins=10)\n",
    "plt.axvline(np.mean(enso),color='r')\n",
    "plt.xlabel('ENSO index [°C]')\n",
    "plt.ylabel('Frequency')\n",
    "plt.title('Frequency distribution of ENSO')\n",
    "\n",
    "plt.subplot(122)\n",
    "plt.hist(extent,bins=10)\n",
    "plt.axvline(np.mean(extent),color='r')\n",
    "plt.xlabel('Arctic SIE [10$^6$ km$^2$]')\n",
    "plt.ylabel('Frequency')\n",
    "plt.title('Frequency distribution of Arctic SIE');"
   ]
  },
  {
   "cell_type": "markdown",
   "metadata": {},
   "source": [
    "### 1b: The median"
   ]
  },
  {
   "cell_type": "markdown",
   "metadata": {},
   "source": [
    "- The median is the value that divides the 50% of the data with the highest values from the 50% of the data with the lowest values. \n",
    "\n",
    "If the data comprises an odd number of values, the median is the middle value when the data are put into an ordered list. If the data comprises an even number of values, the median is the mean of the two middle values when the data are put into an ordered list.\n",
    "\n",
    "For example, imagine that we have an odd number of data points:"
   ]
  },
  {
   "cell_type": "code",
   "execution_count": 3,
   "metadata": {},
   "outputs": [
    {
     "name": "stdout",
     "output_type": "stream",
     "text": [
      "[-2.10755694 -1.87969648 -0.40216743 -0.43147426  0.65481445]\n"
     ]
    }
   ],
   "source": [
    "x = np.random.randn(5)\n",
    "print(x)"
   ]
  },
  {
   "cell_type": "markdown",
   "metadata": {},
   "source": [
    "To calculate the median, first we sort the values by size:"
   ]
  },
  {
   "cell_type": "code",
   "execution_count": 7,
   "metadata": {},
   "outputs": [
    {
     "name": "stdout",
     "output_type": "stream",
     "text": [
      "[-2.10755694 -1.87969648 -0.43147426 -0.40216743  0.65481445] 5\n"
     ]
    }
   ],
   "source": [
    "x = np.sort(x)\n",
    "print(x,len(x))\n",
    "#np.sort?"
   ]
  },
  {
   "cell_type": "markdown",
   "metadata": {},
   "source": [
    "The median is then the middle value of the list. Our list contains 5 elements, so the median is the 3rd element of the ordered list:"
   ]
  },
  {
   "cell_type": "code",
   "execution_count": 6,
   "metadata": {},
   "outputs": [
    {
     "name": "stdout",
     "output_type": "stream",
     "text": [
      "The median value of x is  -0.4314742635904144\n"
     ]
    }
   ],
   "source": [
    "print('The median value of x is ',x[(len(x)-1)//2])\n",
    "#we take len(x)-5 because its length is an odd number (5)"
   ]
  },
  {
   "cell_type": "markdown",
   "metadata": {},
   "source": [
    "If we have an even number of data points, we take the mean of the middle two points after ordering the data:"
   ]
  },
  {
   "cell_type": "code",
   "execution_count": 8,
   "metadata": {},
   "outputs": [
    {
     "name": "stdout",
     "output_type": "stream",
     "text": [
      "[-1.4782906  -1.17966186 -0.95372865 -0.93496262 -0.36493448  0.79422009]\n"
     ]
    }
   ],
   "source": [
    "# here we generate and sort the data at the same time\n",
    "x = np.sort(np.random.randn(6))\n",
    "print(x)"
   ]
  },
  {
   "cell_type": "markdown",
   "metadata": {},
   "source": [
    "Our list contains 6 elements, so the median is the mean of the 3rd and 4th elements of the ordered list:"
   ]
  },
  {
   "cell_type": "code",
   "execution_count": null,
   "metadata": {},
   "outputs": [],
   "source": [
    "print('The median value of x is ',0.5*(x[(len(x)//2)-1]+x[len(x)//2]))\n",
    "#we divide by 2 (2 terms), and we take the third and fourth element"
   ]
  },
  {
   "cell_type": "markdown",
   "metadata": {},
   "source": [
    "We have calculated the median by hand above to emphasize how it is defined, but in practice there is no need to do this -- you can calculate the median easily in python using numpy's ```median``` function:"
   ]
  },
  {
   "cell_type": "code",
   "execution_count": 9,
   "metadata": {},
   "outputs": [
    {
     "name": "stdout",
     "output_type": "stream",
     "text": [
      "The median value of x is  -0.9443456368618182\n"
     ]
    }
   ],
   "source": [
    "print('The median value of x is ',np.median(x))"
   ]
  },
  {
   "cell_type": "markdown",
   "metadata": {},
   "source": [
    "In the cell below, replot the frequency distributions of ENSO and Arctic sea ice extent, as above, and, in addition to the line showing the position of the mean, add a line showing the position of the median. How do the two values compare for the two data sets?"
   ]
  },
  {
   "cell_type": "code",
   "execution_count": 12,
   "metadata": {},
   "outputs": [
    {
     "data": {
      "image/png": "[encoded data removed]",
      "text/plain": [
       "<Figure size 640x480 with 2 Axes>"
      ]
     },
     "metadata": {},
     "output_type": "display_data"
    }
   ],
   "source": [
    "# enter your code here\n",
    "plt.figure()\n",
    "plt.subplot(121)\n",
    "plt.hist(enso,bins=10)\n",
    "plt.axvline(np.mean(enso),color='r')\n",
    "plt.axvline(np.median(enso),color='black')\n",
    "plt.xlabel('ENSO index [°C]')\n",
    "plt.ylabel('Frequency')\n",
    "plt.title('Frequency distribution of ENSO')\n",
    "plt.subplot(122)\n",
    "plt.hist(extent,bins=10)\n",
    "plt.axvline(np.mean(extent),color='r')\n",
    "plt.axvline(np.median(extent),color='black')\n",
    "plt.xlabel('Arctic SIE [10$^6$ km$^2$]')\n",
    "plt.ylabel('Frequency')\n",
    "plt.title('Frequency distribution of Arctic SIE')\n",
    "plt.show();"
   ]
  },
  {
   "cell_type": "markdown",
   "metadata": {},
   "source": [
    "We can generate toy data again to look in more detail at the skewed distribution:"
   ]
  },
  {
   "cell_type": "code",
   "execution_count": 13,
   "metadata": {},
   "outputs": [],
   "source": [
    "from scipy.stats import skewnorm # this is a function that lets us generate the data"
   ]
  },
  {
   "cell_type": "code",
   "execution_count": 16,
   "metadata": {},
   "outputs": [],
   "source": [
    "# here we define a function that will let you easily see the effects of changing the skew\n",
    "def plotskewstats(skw,size=500):\n",
    "    x = skewnorm.rvs(skw, loc=0, scale=2, size=size)\n",
    "    plt.hist(x,bins=10)\n",
    "    plt.xlabel('x')\n",
    "    plt.ylabel('Frequency')\n",
    "    plt.title('Skew = '+str(skw))\n",
    "    p0=plt.axvline(np.mean(x),color='r',label='Mean')\n",
    "    p1=plt.axvline(np.median(x),color='k',label='Median')\n",
    "    plt.legend(loc='upper right')"
   ]
  },
  {
   "cell_type": "code",
   "execution_count": 19,
   "metadata": {},
   "outputs": [
    {
     "data": {
      "image/png": "[encoded data removed]",
      "text/plain": [
       "<Figure size 640x480 with 1 Axes>"
      ]
     },
     "metadata": {},
     "output_type": "display_data"
    }
   ],
   "source": [
    "# try changing the skew value below (it can be positive or negative) and the size of\n",
    "# the data set and see how the distribution changes for a few different values\n",
    "skew = -2\n",
    "plotskewstats(skew,size=20)"
   ]
  },
  {
   "cell_type": "markdown",
   "metadata": {},
   "source": [
    "### 1c: The mode"
   ]
  },
  {
   "cell_type": "markdown",
   "metadata": {},
   "source": [
    "The final measure of centre that we will consider is the mode. For **discrete data**, the **mode** is the value that occurs most frequently. If each value occurs only once, then there is no mode. Conversely, if several values occur the same number of times, there can be several modes. For example: \n",
    "- the mode of ```[1,2,3,3,4,5]``` is ```3```, because it occurs twice, whilst all the other numbers occur once\n",
    "- the data set ```[1,2,3,4,5]``` does not have a mode: all the values occur equally frequently (once)\n",
    "- the data set ```[1,2,3,3,4,5,5]``` has two modal values, ```3``` and ```5```: both these values occur twice, whilst all the other numbers occur only once\n",
    "\n",
    "For **continuous data**, or grouped discrete data, the mode exists only as an idea. Continuous variables can take an infinite number of values, and so we do not expect to obtain precisely the same number twice in any given data set. Instead, we can consider the **modal class**: this corresponds to a peak in the frequency distribution (the bin with the highest number of values).\n",
    "\n",
    "We will look at the frequency distributions for the ENSO index and the Arctic SIE again. When we use the ```plt.hist()``` command, we can obtain the frequency counts and the bin edge values from the function: ```freq_counts, bin_edges, _ = plt.hist(x)``` (the underscore, ```_```, lets us throw away the third value that is returned by the function: it relates to the figure, and we don't need this).\n",
    "Using these frequency counts and the bin information, we can identify the modal class:"
   ]
  },
  {
   "cell_type": "code",
   "execution_count": 22,
   "metadata": {},
   "outputs": [],
   "source": [
    "plt.figure()\n",
    "plt.subplot(121)\n",
    "enso_freq, enso_bins, _ = plt.hist(enso,bins=10)\n",
    "plt.axvline(np.mean(enso),color='r')\n",
    "plt.axvline(np.median(enso),color='k')\n",
    "plt.xlabel('ENSO index [°C]')\n",
    "plt.ylabel('Frequency')\n",
    "plt.title('Frequency distribution of ENSO')\n",
    "\n",
    "plt.subplot(122)\n",
    "sie_freq, sie_bins, _ = plt.hist(extent,bins=10)\n",
    "plt.axvline(np.mean(extent),color='r')\n",
    "plt.axvline(np.median(extent),color='k')\n",
    "plt.xlabel('Arctic SIE [10$^6$ km$^2$]')\n",
    "plt.ylabel('Frequency')\n",
    "plt.title('Frequency distribution of Arctic SIE');"
   ]
  },
  {
   "cell_type": "code",
   "execution_count": 23,
   "metadata": {},
   "outputs": [
    {
     "name": "stdout",
     "output_type": "stream",
     "text": [
      "The frequency counts for the ENSO histogram are: [ 12.  37.  74. 113. 138. 180. 144.  90.  41.  11.]\n",
      "The bin edges for the ENSO histogram are: [24.25  24.767 25.284 25.801 26.318 26.835 27.352 27.869 28.386 28.903\n",
      " 29.42 ]\n",
      "There are 10 values in the frequency count array, and 11 values in the bin edges array\n"
     ]
    }
   ],
   "source": [
    "print('The frequency counts for the ENSO histogram are:', enso_freq)\n",
    "print('The bin edges for the ENSO histogram are:', enso_bins)\n",
    "print('There are', len(enso_freq), 'values in the frequency count array, and', \\\n",
    "      len(enso_bins), 'values in the bin edges array')"
   ]
  },
  {
   "cell_type": "markdown",
   "metadata": {},
   "source": [
    "Why are there fewer values in the frequency count array than in the array describing the bin edges?\n",
    "\n",
    "What is the modal class for this data set? What would the modal class be for the Arctic sea ice extent data?"
   ]
  },
  {
   "cell_type": "markdown",
   "metadata": {},
   "source": [
    "When we have an axis, divided in n intervalls, there are n+1 edges. This is what happening here."
   ]
  },
  {
   "cell_type": "markdown",
   "metadata": {},
   "source": [
    "### 1d: But which one should I use when?!"
   ]
  },
  {
   "cell_type": "markdown",
   "metadata": {},
   "source": [
    "This is a good question. In some cases the answer to which measure you should use might not be simple, but we can follow some guidelines.\n",
    "\n",
    "**The mode** is not used very much in practice. An advantage of the mode is that it always corresponds to a value that has actually been observed. However, it may not necessarily be unique.\n",
    "\n",
    "**The median** is **less sensitive to outliers than the mean**, and **can be calculated in some cases where the mean and the mode cannot**. For example, imagine that we deploy 9 drifters to measure the surface circulation, and we want to measure the time taken for them to travel between two points, A and B. If one drifter is diverted from the expected path, and another one is stolen by pirates, we can still estimate the median travel time as soon as the 5th drifter reaches point B. The diversion taken by the eighth drifter may make the mean travel time calculated using these 8 floats much higher than expected, depending on how long the diversion is. And unless the pirates return the stolen float, we will never be able to calculate the mean of all 9 drifters that we originally deployed.\n",
    "\n",
    "In general, if you have nice, symmetric data (= the skew is negligible), the mean, the median and the mode are all approximately the same. Happily this is often true, and you can use the mean in these cases with no problem.\n",
    "\n",
    "If you don't have nice, symmetric data, the three values can be very different. **As a general rule, if you know that you have outliers or very asymmetric data, you might want to use the median.**\n",
    "\n",
    "You will look at outliers in more detail in the TD."
   ]
  }
 ],
 "metadata": {
  "kernelspec": {
   "display_name": "Python 3",
   "language": "python",
   "name": "python3"
  },
  "language_info": {
   "codemirror_mode": {
    "name": "ipython",
    "version": 3
   },
   "file_extension": ".py",
   "mimetype": "text/x-python",
   "name": "python",
   "nbconvert_exporter": "python",
   "pygments_lexer": "ipython3",
   "version": "3.8.5"
  }
 },
 "nbformat": 4,
 "nbformat_minor": 4
}
