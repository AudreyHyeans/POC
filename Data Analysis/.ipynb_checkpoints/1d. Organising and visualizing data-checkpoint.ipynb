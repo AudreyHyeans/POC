{
 "cells": [
  {
   "cell_type": "markdown",
   "metadata": {},
   "source": [
    "# Descriptive measures: part 2, measures of variation and the five number summary"
   ]
  },
  {
   "cell_type": "markdown",
   "metadata": {},
   "source": [
    "We will finish this first part of the module by looking at how to summarize data numerically by considering ways in which we can describe the variation of a data set, and how to identify outliers. You will then be ready to try the first TD."
   ]
  },
  {
   "cell_type": "markdown",
   "metadata": {},
   "source": [
    "## 2: Measures of variation"
   ]
  },
  {
   "cell_type": "markdown",
   "metadata": {},
   "source": [
    "### 2a: The range"
   ]
  },
  {
   "cell_type": "markdown",
   "metadata": {},
   "source": [
    "The range is simply the difference between the maximum and minimum values of a data set:"
   ]
  },
  {
   "cell_type": "code",
   "execution_count": 2,
   "metadata": {},
   "outputs": [
    {
     "name": "stdout",
     "output_type": "stream",
     "text": [
      "x=[20.593 20.177  7.88  22.968 18.982 25.556 12.782 22.581 21.231 23.086\n",
      " 16.883 13.095 14.063 13.897 30.205 17.102 15.885 19.362 18.237 19.442\n",
      " 20.801 24.924 19.777 19.078 22.633]\n"
     ]
    }
   ],
   "source": [
    "# load the necessary libraries\n",
    "import numpy as np\n",
    "import matplotlib.pyplot as plt\n",
    "plt.ion()\n",
    "\n",
    "# generate some random integers and print them out\n",
    "x = np.random.normal(loc=20,scale=5,size=25)\n",
    "with np.printoptions(precision=3, suppress=True): # this line tells python only to print 3 decimal places\n",
    "    print('x={}'.format(x))"
   ]
  },
  {
   "cell_type": "code",
   "execution_count": 3,
   "metadata": {},
   "outputs": [
    {
     "name": "stdout",
     "output_type": "stream",
     "text": [
      "The maximum value of x is: 30.205\n",
      "The minimum value of x is: 7.88\n",
      "The range of x is: 30.205 - 7.88 = 22.326\n"
     ]
    }
   ],
   "source": [
    "# the range is the maximum value minus the minimum value\n",
    "print('The maximum value of x is: {:3.5}'.format(np.max(x)))\n",
    "print('The minimum value of x is: {:3.5}'.format(np.min(x)))\n",
    "print('The range of x is: {:3.5} - {:3.5} = {:3.5}'.format(np.max(x), np.min(x), np.max(x)-np.min(x)))"
   ]
  },
  {
   "cell_type": "markdown",
   "metadata": {},
   "source": [
    "Although the range is easy to calculate, it only takes into account the largest and smallest values, and so may not tell us much about the distribution of the data."
   ]
  },
  {
   "cell_type": "markdown",
   "metadata": {},
   "source": [
    "### 2b: The standard deviation"
   ]
  },
  {
   "cell_type": "markdown",
   "metadata": {},
   "source": [
    "The standard deviation takes into account all available observations to summarize the data distribution. It indicates how far any given observation lies from the mean on average. \n",
    "\n",
    "If we choose to use the mean as the measure of centre, then the associated measure of variation will be the standard deviation.\n",
    "\n",
    "The formula to calculate the standard deviation of a given set of data is:\n",
    "$$s = \\sqrt{\\frac{\\sum_i (x_i-\\bar{x})^2}{n-1}}$$\n",
    "where $\\sum_i$ indicates the sum over all possible observations, $x_i$ is a given data point, $\\bar{x}$ is the mean, and $n$ is the number of points in the data set.\n",
    "\n",
    "Technically, this is known as the _sample_ standard deviation. There exists another formula, for the _population_ standard deviation, but there are very few situations in which you would need to use this in practice. To calculate it, in the formula above, you simply replace $n-1$ by $n$. We will talk more about this in a later class. In almost all practical situations, the formula that you will want to use is the one above, for the sample standard deviation.\n",
    "\n",
    "There exists a simple function to calculate the standard deviation in numpy: ```np.std(x, ddof=1)```. The argument ```ddof=1``` tells python to use $n-1$, rather than $n$, in the denominator."
   ]
  },
  {
   "cell_type": "code",
   "execution_count": 4,
   "metadata": {},
   "outputs": [
    {
     "name": "stdout",
     "output_type": "stream",
     "text": [
      "The standard deviation of x is:  4.74\n"
     ]
    }
   ],
   "source": [
    "# using the random values of x generated previously\n",
    "print('The standard deviation of x is: {:5.3}'.format(np.std(x, ddof=1)))"
   ]
  },
  {
   "cell_type": "markdown",
   "metadata": {},
   "source": [
    "Create a plot below showing a histogram of the data, and add vertical lines showing the mean, mean + 1 standard deviation and mean - 1 standard deviation."
   ]
  },
  {
   "cell_type": "code",
   "execution_count": 5,
   "metadata": {},
   "outputs": [
    {
     "data": {
      "image/png": "[encoded data removed]",
      "text/plain": [
       "<Figure size 640x480 with 1 Axes>"
      ]
     },
     "metadata": {},
     "output_type": "display_data"
    }
   ],
   "source": [
    "# enter your code here\n",
    "plt.figure()\n",
    "hist = plt.hist(x, bins = 20)\n",
    "plt.axvline(np.mean(x) + np.std(x,ddof=1),color='r')\n",
    "plt.axvline(np.mean(x) - np.std(x,ddof=1),color='k')\n",
    "plt.xlabel('x')\n",
    "plt.ylabel('Frequency')\n",
    "plt.title('Frequency distribution of x')\n",
    "plt.show()"
   ]
  },
  {
   "cell_type": "markdown",
   "metadata": {},
   "source": [
    "What percentage of the values lie in the range ($\\bar{x}-s$) < $x$ < ($\\bar{x}+s$) ?  \n",
    "_Hint: you can find the length of an array using the_ ```len(x)``` _function, and you can select values where_ ```x``` _is greater than a and less than b by using boolean selection:_ ```x[(x > a) & (x < b)]```\n",
    "\n",
    "What percentage of the values lie in the range ($\\bar{x}-2s$) < $x$ < ($\\bar{x}+2s$) ?  "
   ]
  },
  {
   "cell_type": "code",
   "execution_count": 29,
   "metadata": {},
   "outputs": [
    {
     "name": "stdout",
     "output_type": "stream",
     "text": [
      "4.741674352082724\n",
      "pvr= 0  and  pvr2= 0\n"
     ]
    }
   ],
   "source": [
    "# enter your code here\n",
    "# percentage of the values lie in the range (𝑥¯−𝑠) < 𝑥 < (𝑥¯+𝑠) \n",
    "mean = np.mean(x)\n",
    "s = np.std(x,ddof=1)\n",
    "print(s)\n",
    "#I have to compare the length betwenn (𝑥¯−𝑠) and (𝑥¯+𝑠) to the total length x\n",
    "pvr = len(x[(x>mean - s) & (x<mean + s)]) //len(x)\n",
    "pvr2 = len(x[(x>mean - 2*s) & (x<mean + 2*s)]) //len(x)\n",
    "print('pvr=',pvr, ' and ','pvr2=',pvr2)"
   ]
  },
  {
   "cell_type": "markdown",
   "metadata": {},
   "source": [
    "If ```x``` contains a series of measurements of temperature, in °C, what are the units of its standard deviation?"
   ]
  },
  {
   "cell_type": "markdown",
   "metadata": {},
   "source": [
    "The unit of the temperature average is the temperature. And looking at the calculus pf std, we can deduce that the unit is °C. "
   ]
  },
  {
   "cell_type": "markdown",
   "metadata": {},
   "source": [
    "### 2c: The interquartile range (IQR)"
   ]
  },
  {
   "cell_type": "markdown",
   "metadata": {},
   "source": [
    "The median of a data set divides the top 50% of values from the bottom 50% of values: it divides the data set in half.\n",
    "\n",
    "Quartiles divide the data set into 4. A data set thus has three quartiles: \n",
    "- The lower quartile (sometimes called the first quartile, or Q1) separates the lowest 25% of the data from the remaining 75%. \n",
    "- The second quartile, Q2, is the median, as above.\n",
    "- The upper quartile (sometimes called the third quartile, or Q3) separates the highest 25% of the data from the remaining 75%.\n",
    "\n",
    "As an example, if we have a data set containing 16 values, the lower quartile lies between values \\#4 and \\#5, the median lies between values \\#8 and \\#9 and the upper quartile between values \\#12 and \\#13:"
   ]
  },
  {
   "cell_type": "code",
   "execution_count": 30,
   "metadata": {},
   "outputs": [
    {
     "name": "stdout",
     "output_type": "stream",
     "text": [
      "x=[ 1  4  4  4  5  5  9 12 13 13 13 13 13 17 19 19]\n",
      "Q1=4.5\n",
      "Q2=12.5, np.median(x)=12.5\n",
      "Q3=13.0\n"
     ]
    }
   ],
   "source": [
    "# generate 16 random integers\n",
    "x = np.random.randint(20, size=16)\n",
    "# sort the data and print out the values\n",
    "x = np.sort(x)\n",
    "with np.printoptions(precision=3, suppress=True): # this line tells python only to print 3 decimal places\n",
    "    print('x={}'.format(x))\n",
    "    \n",
    "# calculate the quartiles:\n",
    "qlen = len(x)//4 # calculate how many values are in each quartile\n",
    "q1 = np.mean(x[qlen-1:qlen+1]); print('Q1={:2.1f}'.format(q1))\n",
    "q2 = np.mean(x[(2*qlen)-1:(2*qlen)+1]); print('Q2={:2.1f}, np.median(x)={:2.1f}'.format(q2,np.median(x)))\n",
    "q3 = np.mean(x[(3*qlen)-1:(3*qlen)+1]); print('Q3={:2.1f}'.format(q3))"
   ]
  },
  {
   "cell_type": "markdown",
   "metadata": {},
   "source": [
    "The **interquartile range**, or IQR, is the difference between the upper and lower quartiles (i.e. Q3 - Q1). 50% of the data thus lie between these two values. You can compare this to the values above for the standard deviation where you found the percentage of the values lie in the range ($\\bar{x}-s$) < $x$ < ($\\bar{x}+s$).\n",
    "\n",
    "In the same way that the standard deviation is the measure of variation associated with the mean, the interquartile range is the measure of variation associated with the median. The median and interquartile range are **robust measures**: they are not strongly affected by the presence of outliers. In contrast, the mean and the standard deviation are not robust.\n",
    "\n",
    "There are two possible ways to calculate the IQR in python. Using numpy, we can use the ```percentile```function:"
   ]
  },
  {
   "cell_type": "code",
   "execution_count": 31,
   "metadata": {},
   "outputs": [
    {
     "name": "stdout",
     "output_type": "stream",
     "text": [
      "Q1=4.5\n",
      "Q3=13.0\n",
      "IQR=8.5\n"
     ]
    }
   ],
   "source": [
    "# calculate Q1 and Q3, then subtract to get the IQR\n",
    "q3, q1 = np.percentile(x, [75,25], interpolation='midpoint')\n",
    "iqrange = q3 - q1\n",
    "\n",
    "# print out the results\n",
    "print('Q1={:2.1f}'.format(q1))\n",
    "print('Q3={:2.1f}'.format(q3))\n",
    "print('IQR={:2.1f}'.format(iqrange))"
   ]
  },
  {
   "cell_type": "markdown",
   "metadata": {},
   "source": [
    "Alternatively, we can use the ```scipy.stats``` function, ```iqr```:"
   ]
  },
  {
   "cell_type": "code",
   "execution_count": 32,
   "metadata": {},
   "outputs": [
    {
     "name": "stdout",
     "output_type": "stream",
     "text": [
      "IQR=8.5\n"
     ]
    }
   ],
   "source": [
    "from scipy.stats import iqr\n",
    "print('IQR={:2.1f}'.format(iqr(x, interpolation=\"midpoint\")))"
   ]
  },
  {
   "cell_type": "markdown",
   "metadata": {},
   "source": [
    "Finally, plot another histogram of ```x```, showing Q1, Q3 and the mean $\\pm$ the standard deviation as vertical lines."
   ]
  },
  {
   "cell_type": "code",
   "execution_count": 34,
   "metadata": {},
   "outputs": [
    {
     "data": {
      "image/png": "[encoded data removed]",
      "text/plain": [
       "<Figure size 640x480 with 1 Axes>"
      ]
     },
     "metadata": {},
     "output_type": "display_data"
    }
   ],
   "source": [
    "# enter your code here\n",
    "plt.hist(x,bins=15)\n",
    "plt.xlabel('x')\n",
    "plt.ylabel('y')\n",
    "plt.axvline(np.mean(x),color='green',label = 'average of x')\n",
    "q3, q1 = np.percentile(x, [75,25], interpolation='midpoint')\n",
    "plt.axvline(q3,color='orange',label = 'third quartile of x')\n",
    "plt.axvline(q1,color='red',label = 'first quartile of x')                       \n",
    "plt.legend(loc=3)\n",
    "plt.title('Histogram of x with the mean and Q1,Q2')\n",
    "plt.show()"
   ]
  },
  {
   "cell_type": "markdown",
   "metadata": {},
   "source": [
    "If you have the ipywidgets python library installed on your machine, you can see the effect of outliers on the quartiles, and on the mean $\\pm$ standard deviation by running the cell below, and moving the sliders in the figure produced below.  \n",
    "The slider *npts* controls the number of data points generated, and *pc_anom* controls the percentage of \"anomaly\" points.\n",
    "\n",
    "Alternatively, if you don't have the ipywidgets library installed, you can click on the button [![Binder](https://mybinder.org/badge_logo.svg)](https://mybinder.org/v2/gh/closes/da1_notebooks/fe0de09959a57f93abc447b6435a70d2fcc03a93?filepath=da1_chapter_1_interactive_figures.ipynb) to run the notebook in the cloud if you want to try this out."
   ]
  },
  {
   "cell_type": "code",
   "execution_count": 35,
   "metadata": {},
   "outputs": [
    {
     "ename": "ModuleNotFoundError",
     "evalue": "No module named 'ipywidgets'",
     "output_type": "error",
     "traceback": [
      "\u001b[0;31m---------------------------------------------------------------------------\u001b[0m",
      "\u001b[0;31mModuleNotFoundError\u001b[0m                       Traceback (most recent call last)",
      "\u001b[0;32m<ipython-input-35-1d8fae1048ff>\u001b[0m in \u001b[0;36m<module>\u001b[0;34m\u001b[0m\n\u001b[1;32m      1\u001b[0m \u001b[0;32mfrom\u001b[0m \u001b[0mscipy\u001b[0m\u001b[0;34m.\u001b[0m\u001b[0mstats\u001b[0m \u001b[0;32mimport\u001b[0m \u001b[0miqr\u001b[0m\u001b[0;34m\u001b[0m\u001b[0;34m\u001b[0m\u001b[0m\n\u001b[0;32m----> 2\u001b[0;31m \u001b[0;32mfrom\u001b[0m \u001b[0mipywidgets\u001b[0m \u001b[0;32mimport\u001b[0m \u001b[0minteractive\u001b[0m\u001b[0;34m\u001b[0m\u001b[0;34m\u001b[0m\u001b[0m\n\u001b[0m\u001b[1;32m      3\u001b[0m \u001b[0;32mimport\u001b[0m \u001b[0mnumpy\u001b[0m \u001b[0;32mas\u001b[0m \u001b[0mnp\u001b[0m\u001b[0;34m\u001b[0m\u001b[0;34m\u001b[0m\u001b[0m\n\u001b[1;32m      4\u001b[0m \u001b[0;32mimport\u001b[0m \u001b[0mmatplotlib\u001b[0m\u001b[0;34m.\u001b[0m\u001b[0mpyplot\u001b[0m \u001b[0;32mas\u001b[0m \u001b[0mplt\u001b[0m\u001b[0;34m\u001b[0m\u001b[0;34m\u001b[0m\u001b[0m\n\u001b[1;32m      5\u001b[0m \u001b[0mget_ipython\u001b[0m\u001b[0;34m(\u001b[0m\u001b[0;34m)\u001b[0m\u001b[0;34m.\u001b[0m\u001b[0mrun_line_magic\u001b[0m\u001b[0;34m(\u001b[0m\u001b[0;34m'matplotlib'\u001b[0m\u001b[0;34m,\u001b[0m \u001b[0;34m'inline'\u001b[0m\u001b[0;34m)\u001b[0m\u001b[0;34m\u001b[0m\u001b[0;34m\u001b[0m\u001b[0m\n",
      "\u001b[0;31mModuleNotFoundError\u001b[0m: No module named 'ipywidgets'"
     ]
    }
   ],
   "source": [
    "from scipy.stats import iqr\n",
    "from ipywidgets import interactive\n",
    "import numpy as np\n",
    "import matplotlib.pyplot as plt\n",
    "%matplotlib inline\n",
    "plt.ion()\n",
    "\n",
    "\n",
    "def plotpdf(mean=0.0,stdev=1.0,npts=250,pc_anom=0):\n",
    "    np.random.seed(42)\n",
    "    xcore = np.random.normal(loc=mean,scale=stdev,size=npts)\n",
    "    N,xbins=np.histogram(xcore,bins=30)\n",
    "    xd = np.mean(np.diff(xbins))\n",
    "    xbins = np.arange(-4,12,xd)\n",
    "    if pc_anom > 0:\n",
    "        xanom = np.random.normal(loc=mean+(6*stdev), scale=2*stdev,\n",
    "                                 size=np.round(npts*pc_anom//100).astype(int))\n",
    "        data = np.append(xcore,xanom)\n",
    "    else:\n",
    "        data = xcore\n",
    "    plt.figure(1,figsize=(6,5))\n",
    "    plt.hist(data,bins=xbins)\n",
    "    mline=plt.axvline(np.mean(data),color='r',linestyle='--',linewidth=2,label='Mean')\n",
    "    dline=plt.axvline(np.median(data),color='k',linestyle='--',linewidth=2,label='Median')\n",
    "    mslow=plt.axvline(np.mean(data)-np.std(data),color='r',linestyle='-',linewidth=2,label='1 s.d.')\n",
    "    mshi=plt.axvline(np.mean(data)+np.std(data),color='r',linestyle='-',linewidth=2)\n",
    "    q3=plt.axvline(np.percentile(data,75),color='k',linestyle='-',linewidth=2,label='Q1/3')\n",
    "    q1=plt.axvline(np.percentile(data,25),color='k',linestyle='-',linewidth=2)\n",
    "    plt.ylim(0,npts//8)\n",
    "    plt.xlim(-4,12)\n",
    "    plt.legend()\n",
    "    return\n",
    "\n",
    "iplot = interactive(plotpdf,mean=(-3.0,3.01,1.0),stdev=(0.1,2.1,0.2),npts=(250,5001,250),pc_anom=(0,10.5,1));\n",
    "output = iplot.children[-1];\n",
    "output.layout.height = '350px'\n",
    "iplot"
   ]
  },
  {
   "cell_type": "markdown",
   "metadata": {},
   "source": [
    "As you can see, the standard deviation changes much more rapidly when we add outliers than does the IQR. This is why we sometimes need to use robust measures."
   ]
  },
  {
   "cell_type": "markdown",
   "metadata": {},
   "source": [
    "### 2d: the five number summary and identification of outliers"
   ]
  },
  {
   "cell_type": "markdown",
   "metadata": {},
   "source": [
    "The five number summary comprises the minimum and maximum data values, and the three quartiles: [min Q1 median Q2 max]\n",
    "- From the median, we obtain the measure of centre of the data\n",
    "- From Q1 and Q3, we obtain a measure of the variation of the middle two quarters of the data\n",
    "- From the minimum value and Q1, we obtain a sense of the variation of the lowest quarter of the data\n",
    "- From the Q3 and the maximum value, we obtain a sense of the variation of the highest quarter of the data\n",
    "\n",
    "Potential outliers can be identified using the upper and lower limits of the data set:\n",
    "- The lower limit is: Q1 - 1.5\\*IQR\n",
    "- The upper limit is: Q3 + 1.5\\*IQR  \n",
    "\n",
    "Values lying outside of these ranges are potential outliers or anomalies.\n",
    "\n",
    "This information can be visualised using a boxplot:"
   ]
  },
  {
   "cell_type": "code",
   "execution_count": 38,
   "metadata": {},
   "outputs": [
    {
     "data": {
      "image/png": "[encoded data removed]",
      "text/plain": [
       "<Figure size 640x480 with 1 Axes>"
      ]
     },
     "metadata": {},
     "output_type": "display_data"
    }
   ],
   "source": [
    "# generate some normally-distributed data\n",
    "x = np.random.normal(loc=2,scale=2,size=30)\n",
    "# add in some outliers\n",
    "x = np.append(x,(-8,7,9))\n",
    "\n",
    "# make a boxplot\n",
    "plt.boxplot(x)\n",
    "plt.show();"
   ]
  },
  {
   "cell_type": "markdown",
   "metadata": {},
   "source": [
    "In this figure, the y-axis gives the information about the data values: \n",
    "- the red line shows the median of the data\n",
    "- the rectangle in the middle of the figure extends from Q1 to Q3\n",
    "- the horizontal lines, connected to the main rectangle by two vertical lines, show the positions of the _adjacent values_ : these are the most extreme data points that still lie within the upper and lower limits. These lines are known as _whiskers_\n",
    "- the circles show points lying outside the upper and lower limits: these are potential outliers\n",
    "\n",
    "We have drawn the figure in the vertical here, but boxplots can also be drawn horizontally: there is no rule about this.\n",
    "\n",
    "If we exclude the outliers from the data set, the boxplot will look like this:"
   ]
  },
  {
   "cell_type": "code",
   "execution_count": 39,
   "metadata": {},
   "outputs": [
    {
     "data": {
      "image/png": "[encoded data removed]",
      "text/plain": [
       "<Figure size 640x480 with 1 Axes>"
      ]
     },
     "metadata": {},
     "output_type": "display_data"
    }
   ],
   "source": [
    "# calculate the upper and lower limits\n",
    "q3, q1 = np.percentile(x, [75,25], interpolation='midpoint')\n",
    "iqrange = q3 - q1\n",
    "lower_limit = q1 - (1.5*iqrange)\n",
    "upper_limit = q1 + (1.5*iqrange)\n",
    "\n",
    "# get the indices of the data that lie within these limits\n",
    "ix = np.where((x > lower_limit) & (x < upper_limit))\n",
    "\n",
    "# make a boxplot using only these points\n",
    "plt.boxplot(x[ix])\n",
    "plt.show();"
   ]
  },
  {
   "cell_type": "markdown",
   "metadata": {},
   "source": [
    "Has the form of the boxplot (e.g. the whiskers, the size of the rectangle, position of the median) changed compared to the initial plot? Why might this be?"
   ]
  },
  {
   "cell_type": "markdown",
   "metadata": {},
   "source": [
    "The scale is not the same and we do not plot the same data either."
   ]
  },
  {
   "cell_type": "markdown",
   "metadata": {},
   "source": [
    "#### What to do if you think you have outliers"
   ]
  },
  {
   "cell_type": "markdown",
   "metadata": {},
   "source": [
    "If you have anomalous values in your data set, you need to decide whether to keep them or not.\n",
    "Outliers may indicate a measurement or recording error, an observation from a different population (for example, if you are trying to quantify the variability of a particular water mass, and the data set includes also measurements of a different water mass), or an unusual, extreme observation.\n",
    "\n",
    "If you are able to identify a measurement error, or a clear reason why the outlier does not belong in the data set, the outlier can simply be removed (or potentially corrected, if it is due to an instrumental error that can be quantified).\n",
    "\n",
    "If the outlier represents an observation of an extreme state, we need to consider carefully whether we should keep it or not. There is not always an easy answer to this question: often we need to understand what the outlier represents before we can decide whether or not it belongs in our analysis."
   ]
  }
 ],
 "metadata": {
  "kernelspec": {
   "display_name": "Python 3",
   "language": "python",
   "name": "python3"
  },
  "language_info": {
   "codemirror_mode": {
    "name": "ipython",
    "version": 3
   },
   "file_extension": ".py",
   "mimetype": "text/x-python",
   "name": "python",
   "nbconvert_exporter": "python",
   "pygments_lexer": "ipython3",
   "version": "3.8.5"
  }
 },
 "nbformat": 4,
 "nbformat_minor": 4
}
