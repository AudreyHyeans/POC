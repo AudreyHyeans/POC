{
 "cells": [
  {
   "cell_type": "markdown",
   "id": "7a35c4e6-4eb5-4ee6-8d09-92ec9c8b9f54",
   "metadata": {},
   "source": [
    "# TD2 Laplacian in 2D\n",
    "### solve this problem with phi at the centers of each cases"
   ]
  },
  {
   "cell_type": "markdown",
   "id": "97114852-d029-439c-b069-5a3306d3a621",
   "metadata": {},
   "source": [
    "## Question1"
   ]
  },
  {
   "cell_type": "code",
   "execution_count": 5,
   "id": "580edea5-2002-49ce-bbaa-6bbf2c255efa",
   "metadata": {},
   "outputs": [
    {
     "name": "stdout",
     "output_type": "stream",
     "text": [
      "[[0 0 1 1 1 1 1 1]\n",
      " [1 1 1 1 1 1 1 1]\n",
      " [1 1 1 1 1 1 1 1]\n",
      " [1 1 1 1 1 1 1 1]]\n",
      "N= 30\n",
      "G [[-1 -1  0  1  2  3  4  5]\n",
      " [ 6  7  8  9 10 11 12 13]\n",
      " [14 15 16 17 18 19 20 21]\n",
      " [22 23 24 25 26 27 28 29]]\n",
      "value 12 is at = 6 1\n",
      "11\n"
     ]
    },
    {
     "data": {
      "image/png": "[encoded data removed]",
      "text/plain": [
       "<Figure size 640x480 with 2 Axes>"
      ]
     },
     "metadata": {},
     "output_type": "display_data"
    }
   ],
   "source": [
    "import numpy as np\n",
    "import matplotlib.pyplot as plt\n",
    "from scipy import sparse\n",
    "from scipy.sparse import linalg as la\n",
    "\n",
    "\n",
    "plt.ion()\n",
    "import matplotlib as mpl\n",
    "\n",
    "#plt.close('all')\n",
    "\n",
    "mpl.rcParams['lines.linewidth'] = 2\n",
    "mpl.rcParams['lines.markersize'] = 12\n",
    "mpl.rcParams['lines.markeredgewidth'] = 2\n",
    "mpl.rcParams['xtick.labelsize'] = 14\n",
    "mpl.rcParams['ytick.labelsize'] = 14\n",
    "mpl.rcParams['axes.labelsize'] = 14\n",
    "mpl.rcParams['axes.labelsize'] = 14\n",
    "\n",
    "nx = 8\n",
    "ny = 4\n",
    "\n",
    "Lx = 4\n",
    "Ly = 2\n",
    "\n",
    "shape = (ny, nx)\n",
    "dx = Lx/nx\n",
    "dy = Ly/ny\n",
    "\n",
    "xc = (np.arange(nx)+0.5)*dx\n",
    "yc = (np.arange(ny)+0.5)*dy\n",
    "\n",
    "xxc, yyc = np.meshgrid(xc, yc)\n",
    "\n",
    "\n",
    "# define msk\n",
    "msk = np.ones(shape, dtype=\"b\")\n",
    "msk[:ny//3, :nx//3] = 0\n",
    "\n",
    "print(msk)\n",
    "N = msk.sum()\n",
    "print(\"N=\",N)\n",
    "\n",
    "\n",
    "# define G\n",
    "# G is a very big vector\n",
    "G = np.zeros(ny*nx, dtype=\"i\")\n",
    "#al the values are at -1\n",
    "G[:] = -1\n",
    "#define a vector with increasing values 0,1,2,3,...\n",
    "#.flat transforms msk 2D into a 1D array\n",
    "G[msk.flat>0] = np.arange(N)\n",
    "G.shape = shape\n",
    "print('G',G)\n",
    "j, i = np.where(msk == 1)\n",
    "print('value 12 is at =', i[12],j[12])\n",
    "print(G[1,6-1])\n",
    "# define laplacian\n",
    "\n",
    "# regular neighbours West, East, South and North\n",
    "#it's a dictionnary : there's a word : the definition here it's the label of the data and then the definition of it.\n",
    "#For instance we can write the density of the ocean at a point:\n",
    "parameters = {\"rho\":1000., \n",
    "              \"g\":9.81, \n",
    "              \"Lx\":250.,\n",
    "              \"x\": np.arange(10)*.25}\n",
    "type(parameters)\n",
    "parameters.keys()\n",
    "parameters[\"g\"]\n",
    "neighbours = {\n",
    "    (-1, 0): dx/dy, #1/dy**2\n",
    "    (1, 0): dx/dy, #1/dy**2\n",
    "    (0, -1): dy/dx,#1/dx**2\n",
    "    (0, 1): dy/dx  #1/dx**2\n",
    "    }\n",
    "\n",
    "#we define firstly the matrix\n",
    "data = np.zeros((5*N,))\n",
    "rows = np.zeros((5*N,), dtype=int)\n",
    "cols = np.zeros((5*N,), dtype=int)\n",
    "count = 0\n",
    "\n",
    "#loop on N, with N is the number of unknown values\n",
    "for k in range(N):\n",
    "    nbneighb = 0\n",
    "    cdiag = 0.\n",
    "    j0, i0 = j[k], i[k]\n",
    "    for who, coef in neighbours.items():\n",
    "        dj, di = who[0], who[1]\n",
    "        j1 = j0+dj\n",
    "        i1 = i0+di\n",
    "        inside = ( (0 <= i1 < nx) and (0<= j1 < ny))\n",
    "        # set the coefficient only if the neighbour is inside the grid\n",
    "        if inside:\n",
    "            l = G[j1, i1]\n",
    "            # and is interior\n",
    "            if l > -1:\n",
    "                rows[count], cols[count], data[count] = k, l, coef\n",
    "                count += 1\n",
    "                nbneighb += coef\n",
    "                cdiag -= coef\n",
    "            else:\n",
    "                cdiag -= 2*coef\n",
    "        else:            \n",
    "            cdiag -= 2*coef\n",
    "        \n",
    "    rows[count], cols[count], data[count] = k, k, cdiag\n",
    "    count += 1\n",
    "        \n",
    "A = sparse.coo_matrix(\n",
    "    (data[:count], (rows[:count], cols[:count])),\n",
    "    shape=(N, N) ).tocsr()\n",
    "\n",
    "if True:\n",
    "    b = np.zeros((N,))\n",
    "    b[N//5] = 1\n",
    "    b[3*N//5] =-1\n",
    "    b *= dx*dy\n",
    "    x = la.spsolve(A, b)\n",
    "    phi = np.zeros(shape)\n",
    "    phi[G>-1] = x\n",
    "\n",
    "    plt.figure()\n",
    "    plt.imshow(phi, origin=\"lower\")\n",
    "    plt.colorbar()\n",
    "    plt.show()\n",
    "else:\n",
    "    d2 = (xxc-Lx*.3)**2 + (yyc-Ly*.7)**2\n",
    "    rhs = np.exp(-d2/(2*0.1**2))\n",
    "    d2 = (xxc-Lx*.6)**2 + (yyc-Ly*.2)**2\n",
    "    rhs -= np.exp(-d2/(2*0.1**2))\n",
    "\n",
    "    b = rhs[G>-1]\n",
    "    b *= dx*dy\n",
    "    x = la.spsolve(A, b)\n",
    "    phi = np.zeros(shape)\n",
    "    phi[G>-1] = x\n",
    "    phi[G==-1] = np.nan\n",
    "\n",
    "    plt.figure()\n",
    "    plt.contourf(xc,yc, phi, 20)\n",
    "    plt.colorbar()\n",
    "    #plt.tight_layout()\n",
    "    plt.axis(\"equal\")\n",
    "    plt.axis([0, Lx, 0, Ly])\n",
    "    plt.show()"
   ]
  },
  {
   "cell_type": "markdown",
   "id": "023dc07d-c87d-460f-b18e-f375f3aa79fc",
   "metadata": {},
   "source": [
    "## Question2"
   ]
  },
  {
   "cell_type": "markdown",
   "id": "c5f4bbff-0628-4f80-b200-a9f53b86ebfd",
   "metadata": {},
   "source": [
    "## Question3"
   ]
  },
  {
   "cell_type": "markdown",
   "id": "2f57145a-4b04-4ec5-8433-22afb62844ad",
   "metadata": {},
   "source": [
    "## Question4"
   ]
  },
  {
   "cell_type": "markdown",
   "id": "047f2220-c89f-4bfb-a197-0e62d4b919cb",
   "metadata": {},
   "source": [
    "## Question5"
   ]
  },
  {
   "cell_type": "markdown",
   "id": "0dcbaede-f278-4867-b969-0d85bcc5b837",
   "metadata": {},
   "source": [
    "## Question6"
   ]
  },
  {
   "cell_type": "markdown",
   "id": "5d0e00da-14a7-45eb-bd74-df048a595145",
   "metadata": {},
   "source": [
    "## Question7"
   ]
  }
 ],
 "metadata": {
  "kernelspec": {
   "display_name": "Python 3",
   "language": "python",
   "name": "python3"
  },
  "language_info": {
   "codemirror_mode": {
    "name": "ipython",
    "version": 3
   },
   "file_extension": ".py",
   "mimetype": "text/x-python",
   "name": "python",
   "nbconvert_exporter": "python",
   "pygments_lexer": "ipython3",
   "version": "3.8.5"
  }
 },
 "nbformat": 4,
 "nbformat_minor": 5
}
