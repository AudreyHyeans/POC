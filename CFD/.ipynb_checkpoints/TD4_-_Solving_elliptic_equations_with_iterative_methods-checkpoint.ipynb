{
 "cells": [
  {
   "cell_type": "markdown",
   "id": "3abfb041",
   "metadata": {},
   "source": [
    "## TD4 - Solving elliptic equations with iterative methods"
   ]
  },
  {
   "cell_type": "markdown",
   "id": "a30860cd",
   "metadata": {},
   "source": [
    "Define Laplacien matrix A "
   ]
  },
  {
   "cell_type": "code",
   "execution_count": 23,
   "id": "577c079f",
   "metadata": {},
   "outputs": [],
   "source": [
    "import numpy as np\n",
    "import matplotlib.pyplot as plt\n",
    "from scipy import sparse\n",
    "from scipy.sparse import linalg as la\n",
    "\n",
    "\n",
    "plt.ion()\n",
    "import matplotlib as mpl\n",
    "\n",
    "\n",
    "\n",
    "\n",
    "def laplacien_matrix(nx,ny,Lx,Ly,domainshape,x_perio=False,y_perio=False): \n",
    "    # Définir des arguments avec des mots clefs en rajoutant \"=False\" aux arguments  \n",
    "    \"\"\"\n",
    "    Set the laplacien matrix \n",
    "    \n",
    "    Parameters \n",
    "    ----------\n",
    "    domainshape: sir 'disc','L-shaped','mickey' \n",
    "    \n",
    "    returns: \n",
    "    --------\n",
    "    A (sparse matrix),G(2D array of cell indices),xc,yc \"\"\"\n",
    "    \n",
    "    shape = (ny, nx)\n",
    "    dx = Lx/nx\n",
    "    dy = Ly/ny\n",
    "\n",
    "    xc = (np.arange(nx)+0.5)*dx\n",
    "    yc = (np.arange(ny)+0.5)*dy\n",
    "\n",
    "    xxc, yyc = np.meshgrid(xc, yc)\n",
    "    \n",
    "# Définition de mask en fonction de différentes formes \n",
    "#-----------------------------------------------------    \n",
    "    msk = np.ones(shape, dtype=\"b\")\n",
    "    if domainshape == \"L-shaped\":\n",
    "        msk[:ny//2, :nx//2] = 0\n",
    "        \n",
    "    elif domainshape == \"disc\":\n",
    "        radius=np.sqrt((xxc-Lx/2)**2+(yyc-Ly/2)**2)\n",
    "        r0=Lx/2\n",
    "        msk[radius>r0] = 0\n",
    "        \n",
    "    elif domainshape == \"mickey\":\n",
    "        radius_c=np.sqrt((xxc-Lx/2)**2+(yyc-Ly/2)**2)\n",
    "        rc=Lx/4\n",
    "        msk[radius_c>rc] = 0\n",
    "        \n",
    "        radius_g=np.sqrt((xxc-Lx/4)**2+(yyc-Ly/1.2)**2)\n",
    "        rg=Lx/6\n",
    "        msk[radius_g>rg] = 0\n",
    "        \n",
    "        radius_d=np.sqrt((xxc-Lx/4)**2+(yyc-Ly/1.2)**2)\n",
    "        rd=Lx/6      \n",
    "        msk[radius_d>rd] = 0\n",
    "        \n",
    "    elif domainshape == \"full\":\n",
    "        pass\n",
    "    \n",
    "    else :\n",
    "        raise ValueErrur(f\"{domaineshape} not implemented\")\n",
    "        \n",
    "    N = msk.sum()\n",
    "    \n",
    "# Define G\n",
    "#---------\n",
    "    G = np.zeros(ny*nx, dtype=\"i\")\n",
    "    G[:] = -1 # nan non disponible avec le type\n",
    "    G[msk.flat>0] = np.arange(N)\n",
    "    G.shape = shape # permet de retrouver la valeur dans les coordonnées i,j\n",
    "    print(G)\n",
    "\n",
    "    j, i = np.where(msk == 1)\n",
    "\n",
    "    \n",
    "# Definir le laplacien\n",
    "#---------------------\n",
    "    # regular neighbours West, East, South and North\n",
    "    neighbours = {      # 4 éléments tupples  \n",
    "        (-1, 0): dx/dy, # 1/dy**2 voisin du haut (utile pour le th de div)\n",
    "        (1, 0): dx/dy,  # 1/dy**2 voisin du bas (utile pour le th de div)\n",
    "        (0, -1): dy/dx, # 1/dx**2 voisin de gauche (utile pour le th de div)\n",
    "        (0, 1): dy/dx   # 1/dx**2 voisin de droite (utile pour le th de div)\n",
    "        }\n",
    "\n",
    "    data = np.zeros((5*N,))\n",
    "    rows = np.zeros((5*N,), dtype=int)\n",
    "    cols = np.zeros((5*N,), dtype=int)\n",
    "    count = 0\n",
    "\n",
    "    for k in range(N):\n",
    "        nbneighb = 0        # Nombre de voisins \n",
    "        cdiag = 0.          # coefficient diagonal\n",
    "        j0, i0 = j[k], i[k] # Prends les coordonnées des cases non masquées\n",
    "        for who, coef in neighbours.items():\n",
    "            dj, di = who[0], who[1] # Récupère les valeurs 0,1,-1\n",
    "            j1 = (j0+dj) # % Modulau => Pérodique  \n",
    "            i1 = (i0+di) \n",
    "            if x_perio:\n",
    "                i1 = (i0+di) %nx\n",
    "            if y_perio:\n",
    "                j1 = (j0+dj) %ny\n",
    "            inside = ((0 <= i1 < nx) and (0<= j1 < ny)) \n",
    "            # set the coefficient only if the neighbour is inside the grid\n",
    "            if inside:\n",
    "                l = G[j1, i1] # \n",
    "                # and is interior\n",
    "                if l > -1:\n",
    "                    rows[count], cols[count], data[count] = k, l, coef\n",
    "                    count += 1\n",
    "                    nbneighb += coef\n",
    "                    cdiag -= coef\n",
    "                else:\n",
    "                    cdiag -= 2*coef\n",
    "            else:            \n",
    "                cdiag -= 2*coef\n",
    "\n",
    "        rows[count], cols[count], data[count] = k, k, cdiag\n",
    "        count += 1\n",
    "\n",
    "    A = sparse.coo_matrix(\n",
    "        (data[:count], (rows[:count], cols[:count])),\n",
    "        shape=(N, N) ).tocsr()\n",
    "    \n",
    "    return A, G, xc, yc\n"
   ]
  },
  {
   "cell_type": "code",
   "execution_count": 27,
   "id": "4c0bdb1e",
   "metadata": {},
   "outputs": [
    {
     "name": "stdout",
     "output_type": "stream",
     "text": [
      "[[ -1  -1  -1  -1  -1  -1  -1  -1  -1  -1   0   1   2   3   4   5   6   7\n",
      "    8   9]\n",
      " [ -1  -1  -1  -1  -1  -1  -1  -1  -1  -1  10  11  12  13  14  15  16  17\n",
      "   18  19]\n",
      " [ -1  -1  -1  -1  -1  -1  -1  -1  -1  -1  20  21  22  23  24  25  26  27\n",
      "   28  29]\n",
      " [ -1  -1  -1  -1  -1  -1  -1  -1  -1  -1  30  31  32  33  34  35  36  37\n",
      "   38  39]\n",
      " [ -1  -1  -1  -1  -1  -1  -1  -1  -1  -1  40  41  42  43  44  45  46  47\n",
      "   48  49]\n",
      " [ -1  -1  -1  -1  -1  -1  -1  -1  -1  -1  50  51  52  53  54  55  56  57\n",
      "   58  59]\n",
      " [ -1  -1  -1  -1  -1  -1  -1  -1  -1  -1  60  61  62  63  64  65  66  67\n",
      "   68  69]\n",
      " [ -1  -1  -1  -1  -1  -1  -1  -1  -1  -1  70  71  72  73  74  75  76  77\n",
      "   78  79]\n",
      " [ -1  -1  -1  -1  -1  -1  -1  -1  -1  -1  80  81  82  83  84  85  86  87\n",
      "   88  89]\n",
      " [ -1  -1  -1  -1  -1  -1  -1  -1  -1  -1  90  91  92  93  94  95  96  97\n",
      "   98  99]\n",
      " [100 101 102 103 104 105 106 107 108 109 110 111 112 113 114 115 116 117\n",
      "  118 119]\n",
      " [120 121 122 123 124 125 126 127 128 129 130 131 132 133 134 135 136 137\n",
      "  138 139]\n",
      " [140 141 142 143 144 145 146 147 148 149 150 151 152 153 154 155 156 157\n",
      "  158 159]\n",
      " [160 161 162 163 164 165 166 167 168 169 170 171 172 173 174 175 176 177\n",
      "  178 179]\n",
      " [180 181 182 183 184 185 186 187 188 189 190 191 192 193 194 195 196 197\n",
      "  198 199]\n",
      " [200 201 202 203 204 205 206 207 208 209 210 211 212 213 214 215 216 217\n",
      "  218 219]\n",
      " [220 221 222 223 224 225 226 227 228 229 230 231 232 233 234 235 236 237\n",
      "  238 239]\n",
      " [240 241 242 243 244 245 246 247 248 249 250 251 252 253 254 255 256 257\n",
      "  258 259]\n",
      " [260 261 262 263 264 265 266 267 268 269 270 271 272 273 274 275 276 277\n",
      "  278 279]\n",
      " [280 281 282 283 284 285 286 287 288 289 290 291 292 293 294 295 296 297\n",
      "  298 299]]\n"
     ]
    }
   ],
   "source": [
    "Lx=Ly=2\n",
    "nx=ny=20\n",
    "dx=Lx/nx\n",
    "dy=Ly/ny\n",
    "shape=(ny,nx)\n",
    "\n",
    "A,G,xc,yc=laplacien_matrix(nx,ny,Lx,Ly,\"L-shaped\")\n",
    "xxc, yyc = np.meshgrid(xc, yc)"
   ]
  },
  {
   "cell_type": "code",
   "execution_count": 28,
   "id": "bf697388",
   "metadata": {},
   "outputs": [],
   "source": [
    "# On fabrique le vecteur b\n",
    "\n",
    "d2 = (xxc-Lx*.3)**2 + (yyc-Ly*.7)**2\n",
    "rhs = np.exp(-d2/(2*0.1**2))\n",
    "d2 = (xxc-Lx*.6)**2 + (yyc-Ly*.2)**2\n",
    "rhs -= np.exp(-d2/(2*0.1**2))\n",
    "\n",
    "b = rhs[G>-1]\n",
    "b *= dx*dy\n"
   ]
  },
  {
   "cell_type": "code",
   "execution_count": 36,
   "id": "a079cbe2",
   "metadata": {},
   "outputs": [],
   "source": [
    "def plot_vector(x,G,xc,yc,Lx,Ly):\n",
    "    phi = np.zeros(shape)\n",
    "    phi[G>-1] = x\n",
    "    phi[G==-1] = np.nan\n",
    "\n",
    "    plt.figure(figsize=(10,4))\n",
    "    plt.contourf(xc,yc, phi, 20,cmap='ocean')\n",
    "    plt.colorbar()\n",
    "    #plt.tight_layout()\n",
    "    plt.axis(\"equal\")\n",
    "    plt.axis([0, Lx, 0, Ly])"
   ]
  },
  {
   "cell_type": "code",
   "execution_count": 37,
   "id": "ecd3dea6",
   "metadata": {},
   "outputs": [
    {
     "data": {
      "image/png": "[encoded data removed]",
      "text/plain": [
       "<Figure size 720x288 with 2 Axes>"
      ]
     },
     "metadata": {
      "needs_background": "light"
     },
     "output_type": "display_data"
    }
   ],
   "source": [
    "# On résoud Ax=b avec spsolve \n",
    "x_ref = la.spsolve(A, b)\n",
    "plot_vector(x_ref,G,xc,yc,Lx,Ly)"
   ]
  },
  {
   "cell_type": "markdown",
   "id": "76d56ba4",
   "metadata": {},
   "source": [
    "Define the Jacobien function"
   ]
  },
  {
   "cell_type": "code",
   "execution_count": 43,
   "id": "2e7b154a",
   "metadata": {},
   "outputs": [
    {
     "data": {
      "image/png": "[encoded data removed]",
      "text/plain": [
       "<Figure size 720x288 with 2 Axes>"
      ]
     },
     "metadata": {
      "needs_background": "light"
     },
     "output_type": "display_data"
    }
   ],
   "source": [
    "# Méthod Jacobi\n",
    "x0=np.zeros(b.shape)\n",
    "x=x0.copy()\n",
    "\n",
    "D=A.diagonal()\n",
    "N=np.shape(A)[0]\n",
    "R=A-sparse.spdiags(D,0,N,N)\n",
    "\n",
    "for ite in range(5):\n",
    "    x=(b-R.dot(x))/D\n",
    "plot_vector(x-x_ref,G,xc,yc,Lx,Ly)"
   ]
  },
  {
   "cell_type": "code",
   "execution_count": null,
   "id": "331cb569",
   "metadata": {},
   "outputs": [],
   "source": []
  }
 ],
 "metadata": {
  "kernelspec": {
   "display_name": "Python 3",
   "language": "python",
   "name": "python3"
  },
  "language_info": {
   "codemirror_mode": {
    "name": "ipython",
    "version": 3
   },
   "file_extension": ".py",
   "mimetype": "text/x-python",
   "name": "python",
   "nbconvert_exporter": "python",
   "pygments_lexer": "ipython3",
   "version": "3.8.8"
  }
 },
 "nbformat": 4,
 "nbformat_minor": 5
}
