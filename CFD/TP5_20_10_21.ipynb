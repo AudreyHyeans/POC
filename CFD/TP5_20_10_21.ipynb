{
 "cells": [
  {
   "cell_type": "markdown",
   "id": "4a0f2d41-a814-4c5d-b1d1-dbe96b98611f",
   "metadata": {},
   "source": [
    "# TP5 : Iteratives methods"
   ]
  },
  {
   "cell_type": "markdown",
   "id": "bc9fb912-e23b-46a7-acbc-613b28525451",
   "metadata": {},
   "source": [
    "## Jacobi method\n",
    "%% latex \n",
    "Let's condider a matrix $A = D+R$\n",
    "$\n",
    "$lim_{x\\to\\infty}$\n",
    "\n",
    "\\lim\\limits_{x \\to \\infty}"
   ]
  },
  {
   "cell_type": "code",
   "execution_count": 18,
   "id": "3b997b68-4903-4d55-96e4-77f98096fc12",
   "metadata": {},
   "outputs": [
    {
     "data": {
      "text/latex": [
       "\n",
       "$\\lim\\limits_{x^n \\to \\infty} x^s $ \n",
       "\n",
       "$Ax^s = b \\newline$\n",
       "$\\newline$\n",
       "$Dx^s + Rx^s = b$\n",
       "$\\newline$\n",
       "$Dx^s = (b-Rx^s)$\n",
       "$\\newline$\n",
       "$x^s = D^-1(b-Rx^s)$\n",
       "$\\newline$\n",
       "$x^(k+1) = D^-1(b-Rx^k)$\n",
       "$\\newline$\n",
       "Si la solution converge, elle converge vers $x^s$\n"
      ],
      "text/plain": [
       "<IPython.core.display.Latex object>"
      ]
     },
     "metadata": {},
     "output_type": "display_data"
    }
   ],
   "source": [
    "%%latex\n",
    "\n",
    "$\\lim\\limits_{x^n \\to \\infty} x^s $ \n",
    "\n",
    "$Ax^s = b \\newline$\n",
    "$\\newline$\n",
    "$Dx^s + Rx^s = b$\n",
    "$\\newline$\n",
    "$Dx^s = (b-Rx^s)$\n",
    "$\\newline$\n",
    "$x^s = D^-1(b-Rx^s)$\n",
    "$\\newline$\n",
    "$x^(k+1) = D^-1(b-Rx^k)$\n",
    "$\\newline$\n",
    "Si la solution converge, elle converge vers $x^s$"
   ]
  },
  {
   "cell_type": "code",
   "execution_count": 25,
   "id": "42203c22-d9d0-41d1-821b-4b9db017e173",
   "metadata": {},
   "outputs": [],
   "source": [
    "import numpy as np\n",
    "import scipy"
   ]
  },
  {
   "cell_type": "code",
   "execution_count": null,
   "id": "835ae303-013f-41ba-8047-eab1cc8fdfe5",
   "metadata": {},
   "outputs": [],
   "source": [
    "def jacobi(A, b, x0=None, tol=1e−6, maxiter=200):\n",
    "    \n",
    "\"\"\" Jacobi solver\n",
    "A is split into A = D + R, with D the diagonal\n",
    "the iteration  consists of x {k+1} = Dˆ{−1}(b−R*x k )\n",
    "Parameters\n",
    "−−−−−−−−−−\n",
    "A: a sparse (N, N) matrix\n",
    "b , x0 : N elements v e c t o r s\n",
    "t o l : the desired accuracy\n",
    "maxiter : max number of i t e r a t i o n s\n",
    "Returns\n",
    "−−−−−−−\n",
    "x : the solution , N element vector\n",
    "info : int , 1 i f converged , 0 otherwise\n",
    "\"\"\""
   ]
  },
  {
   "cell_type": "code",
   "execution_count": 44,
   "id": "1a8e872e-816a-4cd3-9fe1-725c77ff481d",
   "metadata": {},
   "outputs": [],
   "source": [
    "import numpy as np\n",
    "import matplotlib.pyplot as plt\n",
    "from scipy import sparse\n",
    "from scipy.sparse import linalg as la"
   ]
  },
  {
   "cell_type": "code",
   "execution_count": 45,
   "id": "d7ef413c-43d1-4073-a702-652a091bc506",
   "metadata": {},
   "outputs": [
    {
     "name": "stdout",
     "output_type": "stream",
     "text": [
      "[[0 0 1 1 1 1 1 1]\n",
      " [1 1 1 1 1 1 1 1]\n",
      " [1 1 1 1 1 1 1 1]\n",
      " [1 1 1 1 1 1 1 1]]\n",
      "N= 30\n"
     ]
    }
   ],
   "source": [
    "\n",
    "\n",
    "\n",
    "plt.ion()\n",
    "import matplotlib as mpl\n",
    "\n",
    "#plt.close('all')\n",
    "\n",
    "mpl.rcParams['lines.linewidth'] = 2\n",
    "mpl.rcParams['lines.markersize'] = 12\n",
    "mpl.rcParams['lines.markeredgewidth'] = 2\n",
    "mpl.rcParams['xtick.labelsize'] = 14\n",
    "mpl.rcParams['ytick.labelsize'] = 14\n",
    "mpl.rcParams['axes.labelsize'] = 14\n",
    "mpl.rcParams['axes.labelsize'] = 14\n",
    "\n",
    "nx = 8\n",
    "ny = 4\n",
    "\n",
    "Lx = 2\n",
    "Ly = 1\n",
    "\n",
    "shape = (ny, nx)\n",
    "dx = Lx/nx\n",
    "dy = Ly/ny\n",
    "\n",
    "xc = (np.arange(nx)+0.5)*dx\n",
    "yc = (np.arange(ny)+0.5)*dy\n",
    "\n",
    "xxc, yyc = np.meshgrid(xc, yc)\n",
    "\n",
    "\n",
    "# define msk\n",
    "msk = np.ones(shape, dtype=\"b\")\n",
    "msk[:ny//3, :nx//3] = 0\n",
    "\n",
    "print(msk)\n",
    "N = msk.sum()\n",
    "print(\"N=\",N)\n"
   ]
  },
  {
   "cell_type": "code",
   "execution_count": 46,
   "id": "be3ecb31-4018-4709-9655-70459f0ce2d8",
   "metadata": {},
   "outputs": [
    {
     "name": "stdout",
     "output_type": "stream",
     "text": [
      "G [[-1 -1  0  1  2  3  4  5]\n",
      " [ 6  7  8  9 10 11 12 13]\n",
      " [14 15 16 17 18 19 20 21]\n",
      " [22 23 24 25 26 27 28 29]]\n",
      "value 12 is at = 6 1\n",
      "11\n"
     ]
    }
   ],
   "source": [
    "# define G\n",
    "# G is a very big vector\n",
    "G = np.zeros(ny*nx, dtype=\"i\")\n",
    "#al the values are at -1\n",
    "G[:] = -1\n",
    "#define a vector with increasing values 0,1,2,3,...\n",
    "#.flat transforms msk 2D into a 1D array\n",
    "G[msk.flat>0] = np.arange(N)\n",
    "G.shape = shape\n",
    "print('G',G)\n",
    "j, i = np.where(msk == 1)\n",
    "print('value 12 is at =', i[12],j[12])\n",
    "print(G[1,6-1])"
   ]
  },
  {
   "cell_type": "code",
   "execution_count": 47,
   "id": "9b33f76f-3c95-445a-a1c8-b6117ab5c8e6",
   "metadata": {},
   "outputs": [
    {
     "data": {
      "text/plain": [
       "9.81"
      ]
     },
     "execution_count": 47,
     "metadata": {},
     "output_type": "execute_result"
    }
   ],
   "source": [
    "# define laplacian\n",
    "\n",
    "# regular neighbours West, East, South and North\n",
    "#it's a dictionnary : there's a word : the definition here it's the label of the data and then the definition of it.\n",
    "#For instance we can write the density of the ocean at a point:\n",
    "parameters = {\"rho\":1000., \n",
    "              \"g\":9.81, \n",
    "              \"Lx\":250.,\n",
    "              \"x\": np.arange(10)*.25}\n",
    "type(parameters)\n",
    "parameters.keys()\n",
    "parameters[\"g\"]"
   ]
  },
  {
   "cell_type": "code",
   "execution_count": 48,
   "id": "0f958ef8-b409-46b5-84ff-9ed466a00de8",
   "metadata": {},
   "outputs": [],
   "source": [
    "#neighbours upon, below, at the left, at the right namely\n",
    "neighbours = {\n",
    "    (-1, 0): dx/dy, #1/dy**2\n",
    "    (1, 0): dx/dy, #1/dy**2\n",
    "    (0, -1): dy/dx,#1/dx**2\n",
    "    (0, 1): dy/dx  #1/dx**2\n",
    "    }"
   ]
  },
  {
   "cell_type": "code",
   "execution_count": 49,
   "id": "ad3ef6ca-7f80-4bc3-9a32-5c7f60b32605",
   "metadata": {},
   "outputs": [],
   "source": [
    "#we define firstly the matrix\n",
    "data = np.zeros((5*N,))\n",
    "rows = np.zeros((5*N,), dtype=int)\n",
    "cols = np.zeros((5*N,), dtype=int)\n",
    "count = 0"
   ]
  },
  {
   "cell_type": "code",
   "execution_count": 50,
   "id": "a34e76d0-2b39-4c42-ae8a-f8e2809213e8",
   "metadata": {},
   "outputs": [],
   "source": [
    "for k in range(N):\n",
    "    nbneighb = 0\n",
    "    cdiag = 0.\n",
    "    j0, i0 = j[k], i[k]\n",
    "    #loop on the lables and the definition of each object \n",
    "    for who, coef in neighbours.items():\n",
    "        dj, di = who[0], who[1]\n",
    "        j1 = j0+dj\n",
    "        i1 = i0+di\n",
    "        # boolean that cheks if my value is between 0 and nx, \n",
    "        #to see if I'm at the edges of my matrix\n",
    "        inside = ( (0 <= i1 < nx) and (0<= j1 < ny))\n",
    "        # set the coefficient only if the neighbour is inside the grid\n",
    "        if inside:\n",
    "            l = G[j1, i1]\n",
    "            # and is interior\n",
    "            if l > -1:\n",
    "                rows[count], cols[count], data[count] = k, l, coef\n",
    "                #cont is to cont how many elements there are in my matrix\n",
    "                count += 1\n",
    "                nbneighb += coef\n",
    "                cdiag -= coef\n",
    "            else:\n",
    "                cdiag -= 2*coef\n",
    "        else:            \n",
    "            cdiag -= 2*coef\n",
    "        \n",
    "    rows[count], cols[count], data[count] = k, k, cdiag\n",
    "    count += 1\n",
    "        "
   ]
  },
  {
   "cell_type": "code",
   "execution_count": 67,
   "id": "543f19e2-08fa-4bbe-9d17-f092d9ee0896",
   "metadata": {},
   "outputs": [],
   "source": [
    "#loop on N, with N is the number of unknown values\n",
    "\n",
    "A = sparse.coo_matrix(\n",
    "    (data[:count], (rows[:count], cols[:count])),\n",
    "    shape=(N, N) ).tocsr()\n",
    "\n",
    "A_dense = sparse.csr_matrix.todense(A)\n",
    "\n",
    "TS = scipy.sparse.triu(A, k=1)\n",
    "TI = scipy.sparse.tril(A, k=-1)\n",
    "\n",
    "TS_dense = sparse.csr_matrix.todense(TS)\n",
    "TI_dense = sparse.csr_matrix.todense(TI)\n",
    "\n",
    "\n",
    "R = TS + TI\n",
    "R_dense = sparse.csr_matrix.todense(R)\n",
    "\n",
    "A_diag = A-R\n",
    "A_diag_dense = sparse.csr_matrix.todense(A_diag)"
   ]
  },
  {
   "cell_type": "code",
   "execution_count": 60,
   "id": "3873ba17-8c90-413c-add3-98c0d8c0f723",
   "metadata": {},
   "outputs": [
    {
     "data": {
      "image/png": "[encoded data removed]",
      "text/plain": [
       "<Figure size 640x480 with 2 Axes>"
      ]
     },
     "metadata": {},
     "output_type": "display_data"
    }
   ],
   "source": [
    "if True:\n",
    "    b = np.zeros((N,))\n",
    "    b[N//5] = 1\n",
    "    b[3*N//5] =-1\n",
    "    b *= dx*dy\n",
    "    x = la.spsolve(A, b)\n",
    "    phi = np.zeros(shape)\n",
    "    phi[G>-1] = x\n",
    "\n",
    "    plt.figure()\n",
    "    plt.imshow(phi, origin=\"lower\")\n",
    "    plt.colorbar()\n",
    "    plt.show()\n",
    "else:\n",
    "    d2 = (xxc-Lx*.3)**2 + (yyc-Ly*.7)**2\n",
    "    rhs = np.exp(-d2/(2*0.1**2))\n",
    "    d2 = (xxc-Lx*.6)**2 + (yyc-Ly*.2)**2\n",
    "    rhs -= np.exp(-d2/(2*0.1**2))\n",
    "\n",
    "    b = rhs[G>-1]\n",
    "    b *= dx*dy\n",
    "    x = la.spsolve(A, b)\n",
    "    phi = np.zeros(shape)\n",
    "    phi[G>-1] = x\n",
    "    phi[G==-1] = np.nan\n",
    "\n",
    "    plt.figure()\n",
    "    plt.contourf(xc,yc, phi, 20)\n",
    "    plt.colorbar()\n",
    "    #plt.tight_layout()\n",
    "    plt.axis(\"equal\")\n",
    "    plt.axis([0, Lx, 0, Ly])\n",
    "    plt.show()"
   ]
  },
  {
   "cell_type": "code",
   "execution_count": 68,
   "id": "d0175874-4f77-4295-ab6b-9dbc7417077a",
   "metadata": {},
   "outputs": [
    {
     "data": {
      "image/png": "[encoded data removed]",
      "text/plain": [
       "<Figure size 640x480 with 1 Axes>"
      ]
     },
     "metadata": {},
     "output_type": "display_data"
    },
    {
     "data": {
      "image/png": "[encoded data removed]",
      "text/plain": [
       "<Figure size 640x480 with 1 Axes>"
      ]
     },
     "metadata": {},
     "output_type": "display_data"
    },
    {
     "data": {
      "text/plain": [
       "'\\nplt.figure()\\nplt.imshow(A_diag_dense)\\nplt.show()\\n'"
      ]
     },
     "execution_count": 68,
     "metadata": {},
     "output_type": "execute_result"
    }
   ],
   "source": [
    "#print(A_dense)\n",
    "\n",
    "plt.figure()\n",
    "plt.imshow(TS_dense)\n",
    "plt.figure()\n",
    "plt.imshow(TI_dense)\n",
    "plt.show()\n",
    "\"\"\"\n",
    "plt.figure()\n",
    "plt.imshow(A_diag_dense)\n",
    "plt.show()\n",
    "\"\"\""
   ]
  },
  {
   "cell_type": "code",
   "execution_count": null,
   "id": "aecc38b1-3575-433f-92fb-86cf1a716484",
   "metadata": {},
   "outputs": [],
   "source": []
  }
 ],
 "metadata": {
  "kernelspec": {
   "display_name": "Python 3",
   "language": "python",
   "name": "python3"
  },
  "language_info": {
   "codemirror_mode": {
    "name": "ipython",
    "version": 3
   },
   "file_extension": ".py",
   "mimetype": "text/x-python",
   "name": "python",
   "nbconvert_exporter": "python",
   "pygments_lexer": "ipython3",
   "version": "3.8.5"
  }
 },
 "nbformat": 4,
 "nbformat_minor": 5
}
