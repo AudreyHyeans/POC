{
 "cells": [
  {
   "cell_type": "code",
   "execution_count": 2,
   "metadata": {
    "collapsed": false
   },
   "outputs": [],
   "source": [
    "import numpy as np"
   ]
  },
  {
   "cell_type": "markdown",
   "metadata": {},
   "source": [
    "## 1. Sum of a series"
   ]
  },
  {
   "cell_type": "code",
   "execution_count": 4,
   "metadata": {
    "collapsed": false
   },
   "outputs": [
    {
     "name": "stdout",
     "output_type": "stream",
     "text": [
      "12.02056903151593\n",
      "1 loop, best of 3: 536 ms per loop\n"
     ]
    }
   ],
   "source": [
    "def sum_practise1(n):\n",
    "    S=0\n",
    "    for i in range(1,n+1):\n",
    "        S+=10./(i**3)\n",
    "    return S\n",
    "\n",
    "print(sum_practise1(1000000))\n",
    "%timeit(sum_practise1(1000000))"
   ]
  },
  {
   "cell_type": "code",
   "execution_count": 13,
   "metadata": {
    "collapsed": false
   },
   "outputs": [
    {
     "name": "stdout",
     "output_type": "stream",
     "text": [
      "12.02056903151593\n",
      "1 loop, best of 3: 590 ms per loop\n"
     ]
    }
   ],
   "source": [
    "def sum_practise1b(n):\n",
    "    S=0\n",
    "    i=1\n",
    "    while (i<n+1):\n",
    "        S+=10./(i**3)\n",
    "        i+=1\n",
    "    return S\n",
    "\n",
    "print(sum_practise1b(1000000))\n",
    "%timeit(sum_practise1b(1000000))"
   ]
  },
  {
   "cell_type": "code",
   "execution_count": 7,
   "metadata": {
    "collapsed": false
   },
   "outputs": [
    {
     "name": "stdout",
     "output_type": "stream",
     "text": [
      "12.0205690316\n",
      "10 loops, best of 3: 60.3 ms per loop\n"
     ]
    }
   ],
   "source": [
    "def sum_practise1c(n):\n",
    "    iarray=np.arange(1,n+1)\n",
    "    return np.add.reduce(10./iarray**3)\n",
    "\n",
    "print(sum_practise1c(1000000))\n",
    "%timeit(sum_practise1c(1000000))"
   ]
  },
  {
   "cell_type": "markdown",
   "metadata": {},
   "source": [
    "## 2. Matrix Product"
   ]
  },
  {
   "cell_type": "code",
   "execution_count": 14,
   "metadata": {
    "collapsed": true
   },
   "outputs": [],
   "source": [
    "def mat_prod_practise1(A,B):\n",
    "    C=np.zeros((np.shape(A)[0],np.shape(B)[1]))\n",
    "    for i in range(np.shape(A)[0]):\n",
    "        for j in range(np.shape(B)[1]):\n",
    "            for k in range(np.shape(A)[1]):\n",
    "                C[i,j]=C[i,j]+A[i,k]*B[k,j]\n",
    "    return C\n",
    "\n",
    "def mat_prod_practise2(A,B):\n",
    "    C=np.zeros((np.shape(A)[0],np.shape(B)[1]))\n",
    "    for i in range(np.shape(A)[0]):\n",
    "        for j in range(np.shape(B)[1]):\n",
    "            C[i,j]=np.add.reduce(A[i,:]*B[:,j])\n",
    "    return C\n",
    "\n",
    "def mat_prod_practise3(A,B):\n",
    "    C=np.sum(A[:,np.newaxis,:]*B.T[np.newaxis,:,:],axis=-1)\n",
    "    return C "
   ]
  },
  {
   "cell_type": "code",
   "execution_count": 15,
   "metadata": {
    "collapsed": false
   },
   "outputs": [
    {
     "name": "stdout",
     "output_type": "stream",
     "text": [
      "The slowest run took 4.95 times longer than the fastest. This could mean that an intermediate result is being cached.\n",
      "100000 loops, best of 3: 13.1 µs per loop\n",
      "100 loops, best of 3: 11.5 ms per loop\n",
      "100 loops, best of 3: 3.93 ms per loop\n",
      "The slowest run took 9.29 times longer than the fastest. This could mean that an intermediate result is being cached.\n",
      "10000 loops, best of 3: 56.3 µs per loop\n"
     ]
    }
   ],
   "source": [
    "np.random.seed(0)\n",
    "A=np.random.randint(9,size=(20,21))\n",
    "B=np.random.randint(9,size=(21,30))\n",
    "%timeit(np.dot(A,B))\n",
    "%timeit(mat_prod_practise1(A,B))\n",
    "%timeit(mat_prod_practise2(A,B))\n",
    "%timeit(mat_prod_practise3(A,B))"
   ]
  },
  {
   "cell_type": "markdown",
   "metadata": {},
   "source": [
    "## 3. Integral "
   ]
  },
  {
   "cell_type": "code",
   "execution_count": 113,
   "metadata": {
    "collapsed": false
   },
   "outputs": [],
   "source": [
    "def func_x2(x):\n",
    "    return x**2\n",
    "\n",
    "def trapez(a,b,n,func):\n",
    "    #func(*args, **kwargs)\n",
    "    x=np.linspace(a,b,n+1)\n",
    "    print(np.size(x))\n",
    "    valinteg=0\n",
    "    dx1=np.unique(np.round(np.diff(x),5))\n",
    "    #dx2=np.float((b-a)/n)\n",
    "    for ix in range(np.size(x)):\n",
    "        if ((ix==0) | (ix==np.size(x)-1)):\n",
    "            valinteg+=+dx1/2*func(x[ix])\n",
    "        else:\n",
    "            valinteg+=dx1/2*2*(func(x[ix]))\n",
    "    return valinteg\n",
    "\n",
    "def trapezb(a,b,n,func):\n",
    "    x=np.linspace(a,b,n+1)\n",
    "    y=func(x)\n",
    "    s=0\n",
    "    return np.sum(0.5*(y[:-1]+y[1:])*np.diff(x))  "
   ]
  },
  {
   "cell_type": "code",
   "execution_count": 114,
   "metadata": {
    "collapsed": false
   },
   "outputs": [
    {
     "name": "stdout",
     "output_type": "stream",
     "text": [
      "11\n",
      "[ 6.335]\n",
      "6.335\n",
      "6.3353909465\n"
     ]
    }
   ],
   "source": [
    "print(trapez(2,3,10,func_x2))\n",
    "print(trapezb(2,3,10,func_x2))\n",
    "x=np.linspace(2,3,10)\n",
    "print(np.trapz(func_x2(x),x))"
   ]
  },
  {
   "cell_type": "markdown",
   "metadata": {},
   "source": [
    "## 4. Taylor develoment of a cosine"
   ]
  },
  {
   "cell_type": "code",
   "execution_count": 17,
   "metadata": {
    "collapsed": true
   },
   "outputs": [],
   "source": [
    "def fact(n):\n",
    "    if n==0:\n",
    "        return 1\n",
    "    else:\n",
    "        return np.prod(np.arange(1,n+1))\n",
    "\n",
    "def costaylor(x, eps):\n",
    "    valcos=0\n",
    "    p=0\n",
    "    n=2*p\n",
    "    while (x**n/fact(n) > eps) :\n",
    "        valcos=valcos+(-1)**p * x**n / fact(n)\n",
    "        p=p+1\n",
    "        n=2*p\n",
    "    return(valcos)"
   ]
  },
  {
   "cell_type": "code",
   "execution_count": 18,
   "metadata": {
    "collapsed": false
   },
   "outputs": [
    {
     "name": "stdout",
     "output_type": "stream",
     "text": [
      "0.70742920671 0.707106781187\n"
     ]
    }
   ],
   "source": [
    "x=np.pi/4.\n",
    "eps=0.001\n",
    "y=costaylor(x,eps)\n",
    "print(y,np.cos(x))"
   ]
  },
  {
   "cell_type": "markdown",
   "metadata": {},
   "source": [
    "## 5. Dichotomy"
   ]
  },
  {
   "cell_type": "code",
   "execution_count": 121,
   "metadata": {
    "collapsed": false
   },
   "outputs": [],
   "source": [
    "def f(x) :\n",
    "    return(x-np.exp(-x))\n",
    "\n",
    "def find_zero_func(func,x1,x2,epsilon):\n",
    "    precision=np.absolute(x2-x1)\n",
    "    if (np.sign(f(x2)) != np.sign(f(x1))) :\n",
    "            print( \"The zero is in between {} and {}\" .format(x1,x2) )\n",
    "            while (precision>epsilon) :\n",
    "                x3= (x1+x2)/2.\n",
    "                if np.sign(f(x1)) != np.sign(f(x3)) :\n",
    "                    print( \"The zero is in between {} and {}\" .format(x1,x3) )\n",
    "                    x2=x3\n",
    "                    precision=abs(x2-x1)\n",
    "                else :\n",
    "                    print( \"The zero is in between {} and {}\" .format(x2,x3) )\n",
    "                    x1=x3\n",
    "                    precision=abs(x2-x1)\n",
    "\n",
    "    else :\n",
    "        print( \"NO zero in between {} and {}\" .format(x1,x2) );\n",
    "\n",
    "    return 0.5*(x1+x2)\n"
   ]
  },
  {
   "cell_type": "code",
   "execution_count": 125,
   "metadata": {
    "collapsed": false
   },
   "outputs": [
    {
     "name": "stdout",
     "output_type": "stream",
     "text": [
      "The zero is in between 0.0 and 2.0\n",
      "The zero is in between 0.0 and 1.0\n",
      "The zero is in between 1.0 and 0.5\n",
      "The zero is in between 0.5 and 0.75\n",
      "The zero is in between 0.5 and 0.625\n",
      "The zero is in between 0.625 and 0.5625\n",
      "The zero is in between 0.5625 and 0.59375\n",
      "The zero is in between 0.5625 and 0.578125\n",
      "The zero is in between 0.5625 and 0.5703125\n",
      "-0.00115520201502\n"
     ]
    }
   ],
   "source": [
    "x1=0.\n",
    "x2=2.\n",
    "epsilon=0.01\n",
    "print(f(find_zero_func(f,x1,x2,epsilon)))\n"
   ]
  },
  {
   "cell_type": "code",
   "execution_count": 126,
   "metadata": {
    "collapsed": false
   },
   "outputs": [
    {
     "name": "stdout",
     "output_type": "stream",
     "text": [
      "The zero is in between 0.0 and 2.0\n",
      "The zero is in between 0.0 and 1.0\n",
      "The zero is in between 1.0 and 0.5\n",
      "The zero is in between 0.5 and 0.75\n",
      "The zero is in between 0.5 and 0.625\n",
      "The zero is in between 0.625 and 0.5625\n",
      "The zero is in between 0.5625 and 0.59375\n",
      "The zero is in between 0.5625 and 0.578125\n",
      "The zero is in between 0.5625 and 0.5703125\n",
      "The zero is in between 0.0 and 2.0\n",
      "The zero is in between 0.0 and 1.0\n",
      "The zero is in between 1.0 and 0.5\n",
      "The zero is in between 0.5 and 0.75\n",
      "The zero is in between 0.5 and 0.625\n",
      "The zero is in between 0.625 and 0.5625\n",
      "The zero is in between 0.5625 and 0.59375\n",
      "The zero is in between 0.5625 and 0.578125\n",
      "The zero is in between 0.5625 and 0.5703125\n"
     ]
    },
    {
     "data": {
      "text/plain": [
       "[<matplotlib.lines.Line2D at 0x114d21eb8>]"
      ]
     },
     "execution_count": 126,
     "metadata": {},
     "output_type": "execute_result"
    },
    {
     "data": {
      "image/png": "[encoded data removed]",
      "text/plain": [
       "<matplotlib.figure.Figure at 0x114dcf390>"
      ]
     },
     "metadata": {},
     "output_type": "display_data"
    }
   ],
   "source": [
    "%matplotlib inline\n",
    "from matplotlib import pylab as plt\n",
    "plt.figure(figsize=(6,6))\n",
    "x=np.linspace(x1,x2,100)\n",
    "plt.plot(x,f(x),'k-')\n",
    "plt.plot(find_zero_func(f,x1,x2,epsilon),f(find_zero_func(f,x1,x2,epsilon)),'r*')"
   ]
  },
  {
   "cell_type": "markdown",
   "metadata": {},
   "source": [
    "## 6. vsort"
   ]
  },
  {
   "cell_type": "code",
   "execution_count": 89,
   "metadata": {
    "collapsed": false
   },
   "outputs": [],
   "source": [
    "def swap(A,m,n):\n",
    "    tmp=A[n]\n",
    "    A[n]=A[m]\n",
    "    A[m]=tmp\n",
    "    return A\n",
    "\n",
    "#% Consider ONCE the full vector of n elements\n",
    "def vsort(V):\n",
    "    Vsort=np.copy(V)\n",
    "    for n1 in range(np.size(V)-1,0,-1) :\n",
    "        #print(n1)\n",
    "        for n2 in range(n1):\n",
    "            if (Vsort[n2]>Vsort[n2+1]) :\n",
    "                Vsort=swap(Vsort,n2,n2+1)\n",
    "    return Vsort\n",
    "\n",
    "\n",
    "#%% Improvment\n",
    "def vsort_improved(V):\n",
    "    Vsort=np.copy(V)\n",
    "    n1=np.size(Vsort)-1\n",
    "    lswap=True\n",
    "    while (lswap):\n",
    "        lswap=False\n",
    "        for n2 in range(n1):\n",
    "            if Vsort[n2]>Vsort[n2+1] :\n",
    "                Vsort=swap(Vsort,n2,n2+1)\n",
    "                lswap=True\n",
    "        n2=n2-1\n",
    "    return Vsort\n",
    "              "
   ]
  },
  {
   "cell_type": "code",
   "execution_count": 91,
   "metadata": {
    "collapsed": false
   },
   "outputs": [
    {
     "name": "stdout",
     "output_type": "stream",
     "text": [
      "[ 29 -23  35 -49 -41  31 -39  14  17  11   4 -14  34 -31  19  34  12  18\n",
      "  -9  30 -34   7 -45  46 -28 -47 -42  12  42  -9  24  42  45 -39 -16  41\n",
      "  -1  21 -11   8 -45  23  38 -38  47   9  28 -35 -46 -28   2  16  21  22\n",
      " -45 -11  29  29  -9  39 -28  39  39 -31  12 -21 -41 -39  49 -24  32  22\n",
      " -49  49  -4   5 -40  24 -26  45  -7  41 -37  28   5 -45 -27  -8  -1  25\n",
      "   6  -7 -26  31 -29  44 -32  13  39 -21]\n",
      "[-49 -49 -47 -46 -45 -45 -45 -45 -42 -41 -41 -40 -39 -39 -39 -38 -37 -35\n",
      " -34 -32 -31 -31 -29 -28 -28 -28 -27 -26 -26 -24 -23 -21 -21 -16 -14 -11\n",
      " -11  -9  -9  -9  -8  -7  -7  -4  -1  -1   2   4   5   5   6   7   8   9\n",
      "  11  12  12  12  13  14  16  17  18  19  21  21  22  22  23  24  24  25\n",
      "  28  28  29  29  29  30  31  31  32  34  34  35  38  39  39  39  39  41\n",
      "  41  42  42  44  45  45  46  47  49  49]\n",
      "[-49 -49 -47 -46 -45 -45 -45 -45 -42 -41 -41 -40 -39 -39 -39 -38 -37 -35\n",
      " -34 -32 -31 -31 -29 -28 -28 -28 -27 -26 -26 -24 -23 -21 -21 -16 -14 -11\n",
      " -11  -9  -9  -9  -8  -7  -7  -4  -1  -1   2   4   5   5   6   7   8   9\n",
      "  11  12  12  12  13  14  16  17  18  19  21  21  22  22  23  24  24  25\n",
      "  28  28  29  29  29  30  31  31  32  34  34  35  38  39  39  39  39  41\n",
      "  41  42  42  44  45  45  46  47  49  49]\n"
     ]
    }
   ],
   "source": [
    "V = np.random.randint(-50,50,100);\n",
    "print(V)\n",
    "print(vsort(V))\n",
    "print(vsort_improved(V))"
   ]
  },
  {
   "cell_type": "code",
   "execution_count": null,
   "metadata": {
    "collapsed": true
   },
   "outputs": [],
   "source": []
  }
 ],
 "metadata": {
  "anaconda-cloud": {},
  "kernelspec": {
   "display_name": "Python [Root]",
   "language": "python",
   "name": "Python [Root]"
  },
  "language_info": {
   "codemirror_mode": {
    "name": "ipython",
    "version": 3
   },
   "file_extension": ".py",
   "mimetype": "text/x-python",
   "name": "python",
   "nbconvert_exporter": "python",
   "pygments_lexer": "ipython3",
   "version": "3.5.2"
  }
 },
 "nbformat": 4,
 "nbformat_minor": 2
}
