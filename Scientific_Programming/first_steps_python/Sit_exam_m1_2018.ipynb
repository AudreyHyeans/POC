{
 "cells": [
  {
   "cell_type": "markdown",
   "id": "06bf42d3-87f1-45a9-9fc6-e73201bdabb8",
   "metadata": {},
   "source": [
    "# Sit exam M1 2018 training"
   ]
  },
  {
   "cell_type": "code",
   "execution_count": 1,
   "id": "54d043db-3056-46d2-8c5d-9c5f14ec3809",
   "metadata": {},
   "outputs": [],
   "source": [
    "%matplotlib inline\n",
    "\n",
    "import numpy as np\n",
    "import matplotlib.pyplot as plt"
   ]
  },
  {
   "cell_type": "code",
   "execution_count": 2,
   "id": "71f9d1e6-3f2e-4dc0-aca5-d7401ca395d6",
   "metadata": {},
   "outputs": [
    {
     "name": "stdout",
     "output_type": "stream",
     "text": [
      "[[0. 0. 0.]\n",
      " [0. 0. 0.]\n",
      " [0. 0. 0.]\n",
      " [0. 0. 0.]]\n"
     ]
    }
   ],
   "source": [
    "zerros_array = np.zeros((4,3))\n",
    "print(zerros_array)"
   ]
  },
  {
   "cell_type": "code",
   "execution_count": 3,
   "id": "7c6d48c9-9aca-4ce5-b2ca-28b538d1f2a6",
   "metadata": {},
   "outputs": [
    {
     "name": "stdout",
     "output_type": "stream",
     "text": [
      "[[17 11 14 18 19]\n",
      " [19  8  4  3 16]\n",
      " [12 16 14  2 10]\n",
      " [15 19 12  2 13]\n",
      " [ 1 13  8  1 10]\n",
      " [ 7 19  8 11  3]]\n"
     ]
    }
   ],
   "source": [
    "random_array = np.random.randint(0,20,(6,5))\n",
    "print(random_array)"
   ]
  },
  {
   "cell_type": "code",
   "execution_count": 5,
   "id": "03de05a4-da6d-45b2-b98f-48ac152d1f9b",
   "metadata": {},
   "outputs": [
    {
     "name": "stdout",
     "output_type": "stream",
     "text": [
      "[71 86 60 37 71]\n"
     ]
    }
   ],
   "source": [
    "sum_column = np.sum(random_array,axis=0)\n",
    "print(sum_column)"
   ]
  },
  {
   "cell_type": "code",
   "execution_count": 8,
   "id": "6d3fef85-2178-4b08-b87e-0c2aa1db8cd1",
   "metadata": {},
   "outputs": [
    {
     "name": "stdout",
     "output_type": "stream",
     "text": [
      "[-11  -3  -6  -1   0]\n"
     ]
    }
   ],
   "source": [
    "diff = random_array[4,:]-random_array[2,:]\n",
    "print(diff)"
   ]
  },
  {
   "cell_type": "code",
   "execution_count": 10,
   "id": "36311822-35e4-4936-b036-9798fd6dc8b7",
   "metadata": {},
   "outputs": [
    {
     "name": "stdout",
     "output_type": "stream",
     "text": [
      "[17 11 14 18 19 19  8 16 12 16 14 10 15 19 12 13 13  8 10  7 19  8 11]\n"
     ]
    }
   ],
   "source": [
    "sub_array = random_array[(random_array>5)]\n",
    "print(sub_array)"
   ]
  },
  {
   "cell_type": "code",
   "execution_count": 18,
   "id": "a655daed-86bf-443f-a11d-af106c422067",
   "metadata": {},
   "outputs": [],
   "source": [
    "file_path = '/home/audreyhyeans/Bureau/Master1POC/Scientific_Programming/cartopy_and_read_files/sstsub.npy'\n",
    "file = np.load(file_path)"
   ]
  },
  {
   "cell_type": "code",
   "execution_count": 31,
   "id": "7ab742be-5c23-4042-9402-0e3be6314c64",
   "metadata": {},
   "outputs": [
    {
     "name": "stdout",
     "output_type": "stream",
     "text": [
      "[20.9  20.9  20.9  20.9  20.87 20.86 20.88 20.95 20.97 21.03 21.02 21.01\n",
      " 20.96 20.94 20.94 20.94 20.94 20.92 20.92 20.92 20.93 20.95 20.94 20.92\n",
      " 20.84 20.81 20.8  20.8  20.8  20.8  20.82 20.82 20.8  20.83 20.83 20.84\n",
      " 20.8  20.75 20.71 20.67 20.64 20.61 20.59 20.57 20.55 20.54 20.54 20.53\n",
      " 20.54 20.52 20.49 20.44 20.4  20.37 20.35 20.35 20.35 20.36 20.37 20.38\n",
      " 20.39 20.41 20.44 20.46 20.49 20.49 20.51 20.51 20.51 20.5  20.5  20.49\n",
      " 20.47 20.46 20.45 20.46 20.46 20.46 20.43 20.41 20.39 20.34 20.29 20.23\n",
      " 20.19 20.19 20.2  20.22 20.22 20.23 20.22 20.2  20.18 20.14 20.1  20.06\n",
      " 20.01 19.94 19.91 19.85]\n",
      "[20.9  20.87 20.87 20.88 20.84 20.82 20.84 20.89 20.94 21.   20.99 20.96\n",
      " 20.91 20.9  20.88 20.88 20.85 20.81 20.83 20.84 20.86 20.88 20.89 20.88\n",
      " 20.82 20.79 20.79 20.79 20.79 20.81 20.82 20.81 20.79 20.79 20.82 20.81\n",
      " 20.78 20.74 20.69 20.66 20.63 20.61 20.6  20.58 20.55 20.54 20.53 20.54\n",
      " 20.53 20.51 20.49 20.43 20.39 20.37 20.37 20.37 20.37 20.38 20.39 20.39\n",
      " 20.4  20.42 20.44 20.46 20.48 20.5  20.49 20.5  20.5  20.49 20.48 20.48\n",
      " 20.48 20.47 20.47 20.46 20.47 20.47 20.45 20.44 20.41 20.37 20.32 20.24\n",
      " 20.2  20.17 20.17 20.18 20.19 20.2  20.21 20.2  20.2  20.15 20.12 20.08\n",
      " 20.02 19.96 19.89 19.8 ]\n"
     ]
    },
    {
     "name": "stderr",
     "output_type": "stream",
     "text": [
      "<ipython-input-31-99008a8cb366>:8: MatplotlibDeprecationWarning: shading='flat' when X and Y have the same dimensions as C is deprecated since 3.3.  Either specify the corners of the quadrilaterals with X and Y, or pass shading='auto', 'nearest' or 'gouraud', or set rcParams['pcolor.shading'].  This will become an error two minor releases later.\n",
      "  plt.pcolor(sst,Lon,Lat)\n"
     ]
    },
    {
     "data": {
      "text/plain": [
       "<matplotlib.collections.PolyCollection at 0x7f2e1ce46700>"
      ]
     },
     "execution_count": 31,
     "metadata": {},
     "output_type": "execute_result"
    },
    {
     "data": {
      "image/png": "[encoded data removed]",
      "text/plain": [
       "<Figure size 432x288 with 1 Axes>"
      ]
     },
     "metadata": {
      "needs_background": "light"
     },
     "output_type": "display_data"
    }
   ],
   "source": [
    "lat = file[:,0]\n",
    "lon = file[:,1]\n",
    "sst = file[:,3]\n",
    "print(lon)\n",
    "print(lat)\n",
    "\n",
    "Lon, Lat = np.meshgrid(lat,lon)\n",
    "plt.pcolor(sst,Lon,Lat)"
   ]
  },
  {
   "cell_type": "code",
   "execution_count": 41,
   "id": "bb52782d-488e-4efa-925f-c6f71372308a",
   "metadata": {},
   "outputs": [
    {
     "data": {
      "text/plain": [
       "259200"
      ]
     },
     "execution_count": 41,
     "metadata": {},
     "output_type": "execute_result"
    }
   ],
   "source": [
    "3*24*60*60"
   ]
  },
  {
   "cell_type": "code",
   "execution_count": 42,
   "id": "648827e3-71ca-4b32-8ba2-17d1895a9eab",
   "metadata": {},
   "outputs": [],
   "source": [
    "t = np.linspace(0,259200,1800)"
   ]
  },
  {
   "cell_type": "code",
   "execution_count": 49,
   "id": "8bb2ab69-3df6-43e9-8bda-30c12f0991b6",
   "metadata": {},
   "outputs": [],
   "source": [
    "u0 = 0.2\n",
    "v0 = 0.3\n",
    "um = 0.1\n",
    "vm = 0.1\n",
    "lambdaa = np.deg2rad(30)\n",
    "T = 86400\n",
    "f = (4*np.pi /T) *np.sin(lambdaa)"
   ]
  },
  {
   "cell_type": "code",
   "execution_count": 52,
   "id": "8c612e68-c8b4-4493-8ebe-942da1e1872b",
   "metadata": {},
   "outputs": [],
   "source": [
    "X = (u0/f) * np.sin(f*t) - (v0/f) * np.cos(f*t) + um*t\n",
    "Y = (v0/f) * np.sin(f*t) - (u0/f) * np.cos(f*t) + vm*t"
   ]
  },
  {
   "cell_type": "code",
   "execution_count": 53,
   "id": "e7c799e5-130e-4630-9540-c40dc7565a09",
   "metadata": {},
   "outputs": [
    {
     "data": {
      "text/plain": [
       "[<matplotlib.lines.Line2D at 0x7f2e1d2e8940>]"
      ]
     },
     "execution_count": 53,
     "metadata": {},
     "output_type": "execute_result"
    },
    {
     "data": {
      "image/png": "[encoded data removed]",
      "text/plain": [
       "<Figure size 432x288 with 1 Axes>"
      ]
     },
     "metadata": {
      "needs_background": "light"
     },
     "output_type": "display_data"
    }
   ],
   "source": [
    "plt.plot(X,Y)"
   ]
  },
  {
   "cell_type": "code",
   "execution_count": 58,
   "id": "9e5daea0-6276-461c-9b34-1eb58c49a331",
   "metadata": {},
   "outputs": [
    {
     "name": "stderr",
     "output_type": "stream",
     "text": [
      "<ipython-input-58-638c5dee8b07>:8: RuntimeWarning: invalid value encountered in power\n",
      "  PSI = Y*X**(-alpha)\n"
     ]
    },
    {
     "data": {
      "text/plain": [
       "<matplotlib.contour.QuadContourSet at 0x7f2e1c252af0>"
      ]
     },
     "execution_count": 58,
     "metadata": {},
     "output_type": "execute_result"
    },
    {
     "data": {
      "image/png": "[encoded data removed]",
      "text/plain": [
       "<Figure size 432x288 with 1 Axes>"
      ]
     },
     "metadata": {
      "needs_background": "light"
     },
     "output_type": "display_data"
    }
   ],
   "source": [
    "t1 = np.pi/4\n",
    "alpha = 2*(1+t1)/(2+t1)\n",
    "x = np.linspace(-10,10,10)\n",
    "y = np.linspace(-15,15,15)\n",
    "\n",
    "X,Y = np.meshgrid(x,y)\n",
    "\n",
    "PSI = Y*X**(-alpha)\n",
    "\n",
    "plt.contourf(X,Y,PSI)"
   ]
  },
  {
   "cell_type": "code",
   "execution_count": 61,
   "id": "c83bc29d-0a91-48d8-84ce-4b53bd585661",
   "metadata": {},
   "outputs": [
    {
     "data": {
      "text/plain": [
       "[<matplotlib.lines.Line2D at 0x7f2e1c21ee50>]"
      ]
     },
     "execution_count": 61,
     "metadata": {},
     "output_type": "execute_result"
    },
    {
     "data": {
      "image/png": "[encoded data removed]",
      "text/plain": [
       "<Figure size 432x288 with 1 Axes>"
      ]
     },
     "metadata": {
      "needs_background": "light"
     },
     "output_type": "display_data"
    }
   ],
   "source": [
    "x = np.linspace(-10,-5,100)\n",
    "x0 = -5.\n",
    "y0 = -5.\n",
    "\n",
    "y = 0.25*y0*((x/x0) + 1)**2\n",
    "\n",
    "plt.plot(x,y)"
   ]
  },
  {
   "cell_type": "code",
   "execution_count": 62,
   "id": "d6bb3a70-2a18-4125-a26f-2bea02d5c309",
   "metadata": {},
   "outputs": [],
   "source": [
    "#we take x and y from the trajectory below"
   ]
  },
  {
   "cell_type": "code",
   "execution_count": null,
   "id": "74fe8c23-322c-4eae-a45c-facda6dcebc1",
   "metadata": {},
   "outputs": [],
   "source": []
  }
 ],
 "metadata": {
  "kernelspec": {
   "display_name": "Python 3",
   "language": "python",
   "name": "python3"
  },
  "language_info": {
   "codemirror_mode": {
    "name": "ipython",
    "version": 3
   },
   "file_extension": ".py",
   "mimetype": "text/x-python",
   "name": "python",
   "nbconvert_exporter": "python",
   "pygments_lexer": "ipython3",
   "version": "3.8.5"
  }
 },
 "nbformat": 4,
 "nbformat_minor": 5
}
