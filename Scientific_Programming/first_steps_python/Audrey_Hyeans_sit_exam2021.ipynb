{
 "cells": [
  {
   "cell_type": "code",
   "execution_count": 1,
   "id": "af69ea33-7c6b-4fdf-91b0-e4f45fabc919",
   "metadata": {},
   "outputs": [],
   "source": [
    "%matplotlib inline\n",
    "\n",
    "import numpy as np \n",
    "from matplotlib import pyplot as plt\n",
    "\n",
    "from netCDF4 import Dataset as nc\n",
    "\n",
    "\n",
    "import cartopy.crs as ccrs\n",
    "import cartopy.feature as cfeature"
   ]
  },
  {
   "cell_type": "markdown",
   "id": "c006b298-c6dd-417f-8259-d307993d9e67",
   "metadata": {},
   "source": [
    "## The Durban eddy"
   ]
  },
  {
   "cell_type": "code",
   "execution_count": 6,
   "id": "3a48c282-241d-4a06-8f0a-4d391ead2c27",
   "metadata": {},
   "outputs": [
    {
     "name": "stdout",
     "output_type": "stream",
     "text": [
      "dict_keys(['sst', 'qual_sst', 'lat', 'lon', 'palette'])\n"
     ]
    }
   ],
   "source": [
    "#Question 1)\n",
    "path_file = '/home/audreyhyeans/Bureau/Master1POC/Scientific_Programming/first_steps_python/AQUA_MODIS.20140612.L3m.DAY.SST.sst.4km.nc'\n",
    "netcdf = nc(path_file,mode='r')\n",
    "\n",
    "#all variables\n",
    "print(netcdf.variables.keys())"
   ]
  },
  {
   "cell_type": "code",
   "execution_count": 11,
   "id": "91ae1b33-45b3-487a-adba-ee5b186181a0",
   "metadata": {},
   "outputs": [],
   "source": [
    "#Question 2)\n",
    "lat = netcdf['lat'][:]\n",
    "lon = netcdf['lon'][:]"
   ]
  },
  {
   "cell_type": "code",
   "execution_count": 17,
   "id": "a4a17d8d-b293-4632-8ec6-adb6731620fc",
   "metadata": {},
   "outputs": [
    {
     "name": "stdout",
     "output_type": "stream",
     "text": [
      "(4320, 8640)\n",
      "(4320, 8640)\n",
      "(8640,) (4320,)\n"
     ]
    }
   ],
   "source": [
    "#Question 3)\n",
    "sst = netcdf['sst'][:]\n",
    "qual_sst = netcdf['qual_sst'][:]\n",
    "\n",
    "#check shapes of variables\n",
    "print(np.shape(sst))\n",
    "print(np.shape(qual_sst))\n",
    "print(np.shape(lon),np.shape(lat))\n",
    "\n",
    "#extract subdomain of sst\n",
    "sst_sub = sst[(lat>-35)&(lat<35),:][:,(lon>28)&(lon<35)]\n",
    "\n",
    "#subdomain of quality flag\n",
    "q_flag_sub = qual_sst[(lat>-35)&(lat<35),:][:,(lon>28)&(lon<35)]"
   ]
  },
  {
   "cell_type": "code",
   "execution_count": 15,
   "id": "cf66396b-8ff0-4178-95aa-1678f3ea3653",
   "metadata": {},
   "outputs": [
    {
     "name": "stdout",
     "output_type": "stream",
     "text": [
      "36.495\n",
      "18.525\n"
     ]
    }
   ],
   "source": [
    "#Question 4)\n",
    "print(np.max(sst_sub))\n",
    "print(np.min(sst_sub))"
   ]
  },
  {
   "cell_type": "code",
   "execution_count": 28,
   "id": "0c2ad179-e12f-4f4b-bf65-67e206e7fb29",
   "metadata": {},
   "outputs": [
    {
     "name": "stdout",
     "output_type": "stream",
     "text": [
      "2\n",
      "[[1 1 1 ... 0 0 0]\n",
      " [1 1 1 ... 0 0 0]\n",
      " [1 1 1 ... 0 0 0]\n",
      " ...\n",
      " [0 0 0 ... 1 1 1]\n",
      " [0 0 0 ... 1 1 1]\n",
      " [0 0 0 ... 1 1 1]]\n"
     ]
    }
   ],
   "source": [
    "#Question 5)\n",
    "print(np.max(q_flag_sub))\n",
    "print(q_flag_sub)"
   ]
  },
  {
   "cell_type": "markdown",
   "id": "438a5480-4dd0-4e05-85c1-edb3307f38df",
   "metadata": {},
   "source": [
    "The values of q_flag_sub are integers between 0 and 2."
   ]
  },
  {
   "cell_type": "code",
   "execution_count": 29,
   "id": "ac8d3ef8-2bc9-476f-811c-74c82be3ffc4",
   "metadata": {},
   "outputs": [],
   "source": [
    "#Question 6)"
   ]
  },
  {
   "cell_type": "code",
   "execution_count": 42,
   "id": "53cf1648-084b-4c59-87d0-980893b7df16",
   "metadata": {},
   "outputs": [
    {
     "name": "stdout",
     "output_type": "stream",
     "text": [
      "[[22.55500030517578 22.670000076293945 22.689998626708984 ...\n",
      "  23.5049991607666 23.15999984741211 22.91499900817871]\n",
      " [22.56999969482422 22.53499984741211 22.66499900817871 ...\n",
      "  23.39499855041504 23.149999618530273 22.84000015258789]\n",
      " [22.654998779296875 22.674999237060547 22.619998931884766 ...\n",
      "  23.31999969482422 23.184999465942383 22.954999923706055]\n",
      " ...\n",
      " [21.350000381469727 21.350000381469727 21.295000076293945 ...\n",
      "  19.864999771118164 19.709999084472656 19.739999771118164]\n",
      " [21.329999923706055 21.329999923706055 21.28999900817871 ...\n",
      "  19.545000076293945 19.545000076293945 19.670000076293945]\n",
      " [21.279998779296875 21.139999389648438 21.139999389648438 ...\n",
      "  19.184999465942383 19.354999542236328 19.704999923706055]]\n"
     ]
    },
    {
     "name": "stderr",
     "output_type": "stream",
     "text": [
      "<ipython-input-42-8b9c0288e1d0>:9: MatplotlibDeprecationWarning: shading='flat' when X and Y have the same dimensions as C is deprecated since 3.3.  Either specify the corners of the quadrilaterals with X and Y, or pass shading='auto', 'nearest' or 'gouraud', or set rcParams['pcolor.shading'].  This will become an error two minor releases later.\n",
      "  plt.pcolor(lon_sub,lat_sub,sst_sub,cmap='ocean')\n"
     ]
    },
    {
     "data": {
      "text/plain": [
       "<matplotlib.colorbar.Colorbar at 0x7fbd92405e50>"
      ]
     },
     "execution_count": 42,
     "metadata": {},
     "output_type": "execute_result"
    },
    {
     "data": {
      "image/png": "[encoded data removed]",
      "text/plain": [
       "<Figure size 360x360 with 2 Axes>"
      ]
     },
     "metadata": {
      "needs_background": "light"
     },
     "output_type": "display_data"
    }
   ],
   "source": [
    "#Question 7)\n",
    "\n",
    "#define the subdomain grid\n",
    "lon_sub = lon[(28<lon)&(lon<35)]\n",
    "lat_sub = lat[(-35<lat)&(lat<35)]\n",
    "print(sst_sub)\n",
    "\n",
    "#figure of SST\n",
    "f0 = plt.figure(figsize=(5,5))\n",
    "plt.title('Temperature on a subdomain')\n",
    "plt.pcolor(lon_sub,lat_sub,sst_sub,cmap='ocean')\n",
    "plt.colorbar()"
   ]
  },
  {
   "cell_type": "markdown",
   "id": "8a28bfcd-ffe1-4aed-980b-9d58096dc758",
   "metadata": {},
   "source": [
    "## Randomly distributed particles within an ellipse"
   ]
  },
  {
   "cell_type": "code",
   "execution_count": 79,
   "id": "b288ea17-d524-48d2-8046-8edbeaa6a48b",
   "metadata": {},
   "outputs": [
    {
     "name": "stdout",
     "output_type": "stream",
     "text": [
      "51\n"
     ]
    }
   ],
   "source": [
    "#Question 1)\n",
    "\n",
    "#time\n",
    "t = np.linspace(0,2*np.pi,51)\n",
    "\n",
    "#define ellipse\n",
    "xe = 60*np.cos(t)\n",
    "ye = 30*np.sin(t)\n"
   ]
  },
  {
   "cell_type": "code",
   "execution_count": 170,
   "id": "ae212e52-4962-4c9e-a747-fc8782d55078",
   "metadata": {
    "tags": []
   },
   "outputs": [
    {
     "data": {
      "text/plain": [
       "[<matplotlib.lines.Line2D at 0x7fbd91068850>]"
      ]
     },
     "execution_count": 170,
     "metadata": {},
     "output_type": "execute_result"
    },
    {
     "data": {
      "image/png": "[encoded data removed]",
      "text/plain": [
       "<Figure size 432x288 with 1 Axes>"
      ]
     },
     "metadata": {
      "needs_background": "light"
     },
     "output_type": "display_data"
    }
   ],
   "source": [
    "#Question 2)\n",
    "\n",
    "#figure of the ellipse\n",
    "f1 = plt.figure()\n",
    "plt.title('Graph of an ellipse')\n",
    "plt.plot(xe,ye)"
   ]
  },
  {
   "cell_type": "code",
   "execution_count": 169,
   "id": "9e6b8d01-2dad-47c0-bb46-cdd4e0b4ed1c",
   "metadata": {},
   "outputs": [
    {
     "name": "stdout",
     "output_type": "stream",
     "text": [
      "0.010100755031438601\n",
      "1.0100755031438602\n"
     ]
    }
   ],
   "source": [
    "#Question 3)\n",
    "\n",
    "#creating the grid  of 20*20, where random particles will be\n",
    "step=200\n",
    "nx = np.linspace(0,20,step)\n",
    "ny = np.linspace(0,20,step)\n",
    "\n",
    "Nx,Ny = np.meshgrid(nx,ny)\n",
    "\n",
    "#air of the first cell,\n",
    "dA =  ( (nx[1]-nx[0]) * (ny[1]-ny[0]) )\n",
    "\n",
    "print(dA)\n",
    "\n",
    "#density of particles\n",
    "d = 100\n",
    "\n",
    "#random particles in the first cell\n",
    "particles = np.random.uniform(0,d*dA,size=(51,))\n",
    "print(d*dA)\n",
    "\n",
    "#try to get coordinates of each particles\n",
    "\"\"\"\n",
    "x_p\n",
    "y_p\n",
    "\"\"\""
   ]
  },
  {
   "cell_type": "code",
   "execution_count": 152,
   "id": "4ad3bf83-560f-4316-8309-ea9952f4efc9",
   "metadata": {},
   "outputs": [
    {
     "ename": "TypeError",
     "evalue": "'int' object is not subscriptable",
     "output_type": "error",
     "traceback": [
      "\u001b[0;31m---------------------------------------------------------------------------\u001b[0m",
      "\u001b[0;31mTypeError\u001b[0m                                 Traceback (most recent call last)",
      "\u001b[0;32m<ipython-input-152-2214417bba70>\u001b[0m in \u001b[0;36m<module>\u001b[0;34m\u001b[0m\n\u001b[1;32m      3\u001b[0m \u001b[0;32mfor\u001b[0m \u001b[0mi\u001b[0m \u001b[0;32min\u001b[0m \u001b[0mrange\u001b[0m\u001b[0;34m(\u001b[0m\u001b[0mlen\u001b[0m\u001b[0;34m(\u001b[0m\u001b[0mnx\u001b[0m\u001b[0;34m)\u001b[0m\u001b[0;34m)\u001b[0m\u001b[0;34m:\u001b[0m\u001b[0;34m\u001b[0m\u001b[0;34m\u001b[0m\u001b[0m\n\u001b[1;32m      4\u001b[0m     \u001b[0;32mif\u001b[0m \u001b[0mi\u001b[0m\u001b[0;34m==\u001b[0m\u001b[0;36m0\u001b[0m\u001b[0;34m:\u001b[0m\u001b[0;34m\u001b[0m\u001b[0;34m\u001b[0m\u001b[0m\n\u001b[0;32m----> 5\u001b[0;31m         \u001b[0mA\u001b[0m\u001b[0;34m[\u001b[0m\u001b[0mi\u001b[0m\u001b[0;34m]\u001b[0m \u001b[0;34m+=\u001b[0m \u001b[0;34m(\u001b[0m\u001b[0mnx\u001b[0m\u001b[0;34m[\u001b[0m\u001b[0;36m1\u001b[0m\u001b[0;34m]\u001b[0m\u001b[0;34m-\u001b[0m\u001b[0mnx\u001b[0m\u001b[0;34m[\u001b[0m\u001b[0;36m0\u001b[0m\u001b[0;34m]\u001b[0m\u001b[0;34m)\u001b[0m \u001b[0;34m*\u001b[0m \u001b[0;34m(\u001b[0m\u001b[0mny\u001b[0m\u001b[0;34m[\u001b[0m\u001b[0;36m1\u001b[0m\u001b[0;34m]\u001b[0m\u001b[0;34m-\u001b[0m\u001b[0mny\u001b[0m\u001b[0;34m[\u001b[0m\u001b[0;36m0\u001b[0m\u001b[0;34m]\u001b[0m\u001b[0;34m)\u001b[0m\u001b[0;34m\u001b[0m\u001b[0;34m\u001b[0m\u001b[0m\n\u001b[0m\u001b[1;32m      6\u001b[0m     \u001b[0;32melse\u001b[0m\u001b[0;34m:\u001b[0m\u001b[0;34m\u001b[0m\u001b[0;34m\u001b[0m\u001b[0m\n\u001b[1;32m      7\u001b[0m         \u001b[0mA\u001b[0m\u001b[0;34m[\u001b[0m\u001b[0mi\u001b[0m\u001b[0;34m+\u001b[0m\u001b[0;36m1\u001b[0m\u001b[0;34m]\u001b[0m \u001b[0;34m+=\u001b[0m \u001b[0;34m(\u001b[0m\u001b[0mnx\u001b[0m\u001b[0;34m[\u001b[0m\u001b[0mi\u001b[0m\u001b[0;34m]\u001b[0m\u001b[0;34m-\u001b[0m\u001b[0mnx\u001b[0m\u001b[0;34m[\u001b[0m\u001b[0mi\u001b[0m\u001b[0;34m-\u001b[0m\u001b[0;36m1\u001b[0m\u001b[0;34m]\u001b[0m\u001b[0;34m)\u001b[0m \u001b[0;34m*\u001b[0m \u001b[0;34m(\u001b[0m\u001b[0mny\u001b[0m\u001b[0;34m[\u001b[0m\u001b[0mi\u001b[0m\u001b[0;34m]\u001b[0m\u001b[0;34m-\u001b[0m\u001b[0mny\u001b[0m\u001b[0;34m[\u001b[0m\u001b[0mi\u001b[0m\u001b[0;34m-\u001b[0m\u001b[0;36m1\u001b[0m\u001b[0;34m]\u001b[0m\u001b[0;34m)\u001b[0m\u001b[0;34m\u001b[0m\u001b[0;34m\u001b[0m\u001b[0m\n",
      "\u001b[0;31mTypeError\u001b[0m: 'int' object is not subscriptable"
     ]
    }
   ],
   "source": [
    "#I try to do it for each cells:\n",
    "for i in range(len(nx)):\n",
    "    particles += np.random.uniform(0,d*dA,size=(51,))\n",
    "\n",
    "\"\"\"\n",
    "A = (nx[:-1]-nx[0]) * (ny[:-1]-ny[0])/(len(nx) )  \n",
    "print(A)\n",
    "\"\"\""
   ]
  },
  {
   "cell_type": "code",
   "execution_count": 157,
   "id": "8777c99e-cc2e-4ce5-8982-c799c13aef39",
   "metadata": {},
   "outputs": [],
   "source": [
    "def in_polygon_home(X,Y,xe,ye):\n",
    "    mask=np.zeros_like(X,dtype=np.int16)\n",
    "    for ip in range(np.size(x)):\n",
    "        for jp in range(np.size(y)):\n",
    "            condxx=False\n",
    "            condyy=False\n",
    "            condx=np.nonzero( ((ye[:-1]>=Y[jp,ip]) & (ye[1:]<=Y[jp,ip])) |((ye[1:]>=Y[jp,ip]) & (ye[:-1]<=Y[jp,ip])) )\n",
    "            if np.size(condx)!=0:\n",
    "                if (X[jp,ip]<=np.max(xe[condx[0]])) & (X[jp,ip]>=np.min(xe[condx[0]])):\n",
    "                    condxx=True\n",
    "\n",
    "            condy=np.nonzero( ((xe[:-1]>=X[jp,ip]) & (xe[1:]<=X[jp,ip])) |((xe[1:]>=X[jp,ip]) & (xe[:-1]<=X[jp,ip])) )\n",
    "            if np.size(condy)!=0:\n",
    "                if (Y[jp,ip]<=np.max(ye[condy[0]])) & (Y[jp,ip]>=np.min(ye[condy[0]])):\n",
    "                    condyy=True\n",
    "\n",
    "            if condxx & condyy:\n",
    "                mask[jp,ip]=1\n",
    "    return mask\n",
    "\n",
    "P = in_polygon_home(Nx,Ny,xe,ye)\n"
   ]
  },
  {
   "cell_type": "code",
   "execution_count": 171,
   "id": "5a5295a2-90e7-4617-bb3e-a7234d2b2dc0",
   "metadata": {},
   "outputs": [
    {
     "name": "stdout",
     "output_type": "stream",
     "text": [
      "[[1 1 1 ... 0 0 0]\n",
      " [1 1 1 ... 0 0 0]\n",
      " [1 1 1 ... 0 0 0]\n",
      " ...\n",
      " [0 0 0 ... 0 0 0]\n",
      " [0 0 0 ... 0 0 0]\n",
      " [0 0 0 ... 0 0 0]]\n"
     ]
    },
    {
     "data": {
      "image/png": "[encoded data removed]",
      "text/plain": [
       "<Figure size 432x288 with 1 Axes>"
      ]
     },
     "metadata": {
      "needs_background": "light"
     },
     "output_type": "display_data"
    }
   ],
   "source": [
    "f2 = plt.figure()\n",
    "plt.title('Randomly particles in an ellipse')\n",
    "plt.plot(xe,ye,color='purple')\n",
    "plt.plot(particles)\n",
    "print(P)"
   ]
  },
  {
   "cell_type": "code",
   "execution_count": null,
   "id": "470b7f12-042b-4c23-8262-cdcd034754e4",
   "metadata": {},
   "outputs": [],
   "source": [
    "#Question 6)"
   ]
  },
  {
   "cell_type": "markdown",
   "id": "301b3127-055e-4bb5-82b3-1dedd043aceb",
   "metadata": {},
   "source": []
  },
  {
   "cell_type": "code",
   "execution_count": null,
   "id": "48a02407-f00b-453f-8330-9cdf3441a559",
   "metadata": {},
   "outputs": [],
   "source": []
  }
 ],
 "metadata": {
  "kernelspec": {
   "display_name": "Python 3",
   "language": "python",
   "name": "python3"
  },
  "language_info": {
   "codemirror_mode": {
    "name": "ipython",
    "version": 3
   },
   "file_extension": ".py",
   "mimetype": "text/x-python",
   "name": "python",
   "nbconvert_exporter": "python",
   "pygments_lexer": "ipython3",
   "version": "3.8.5"
  }
 },
 "nbformat": 4,
 "nbformat_minor": 5
}
