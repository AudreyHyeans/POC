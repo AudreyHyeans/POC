{
 "cells": [
  {
   "cell_type": "markdown",
   "id": "ae88b1bb-a67e-4c72-b9c2-c698c1d60c2e",
   "metadata": {},
   "source": [
    "# correction made in class for the nearest points"
   ]
  },
  {
   "cell_type": "code",
   "execution_count": 3,
   "id": "58ffeb9c-b412-46f7-8d7b-759302f91719",
   "metadata": {},
   "outputs": [],
   "source": [
    "import numpy as np\n",
    "from numpy import random\n",
    "X = random.rand(10,2)"
   ]
  },
  {
   "cell_type": "markdown",
   "id": "759237c1-51ef-4943-8859-b25c391978b3",
   "metadata": {},
   "source": [
    "### let's compute the disctance for 2 random points"
   ]
  },
  {
   "cell_type": "code",
   "execution_count": 6,
   "id": "20a89c72-20d2-40c5-b37e-38ae0aa27454",
   "metadata": {},
   "outputs": [],
   "source": [
    "i=2\n",
    "j=3\n",
    "d_ij = np.sqrt((X[i,0]-X[j,0])**2 + (X[i,1]-X[j,1])**2)"
   ]
  },
  {
   "cell_type": "markdown",
   "id": "93aa06b0-c4e8-47b3-aff5-2d3695311bba",
   "metadata": {},
   "source": [
    "### let's define a loop that calculate for all the distance from a point"
   ]
  },
  {
   "cell_type": "code",
   "execution_count": 7,
   "id": "daa44079-2867-4be4-aa13-09dcf6b07a8a",
   "metadata": {},
   "outputs": [
    {
     "name": "stdout",
     "output_type": "stream",
     "text": [
      "[[0. 0.]\n",
      " [0. 0.]\n",
      " [0. 0.]\n",
      " [0. 0.]\n",
      " [0. 0.]\n",
      " [0. 0.]\n",
      " [0. 0.]\n",
      " [0. 0.]\n",
      " [0. 0.]\n",
      " [0. 0.]]\n"
     ]
    }
   ],
   "source": [
    "M_distance = np.zeros(X.shape)\n",
    "#for i in range()\n",
    "print(M_distance)"
   ]
  },
  {
   "cell_type": "code",
   "execution_count": null,
   "id": "88b6a6ee-0fef-4524-8d37-b2b1292b75a4",
   "metadata": {},
   "outputs": [],
   "source": [
    "plt.scatter(X[:,0],X[:,1])\n",
    "plt.scatter(*zip(X[]))\n"
   ]
  }
 ],
 "metadata": {
  "kernelspec": {
   "display_name": "Python 3",
   "language": "python",
   "name": "python3"
  },
  "language_info": {
   "codemirror_mode": {
    "name": "ipython",
    "version": 3
   },
   "file_extension": ".py",
   "mimetype": "text/x-python",
   "name": "python",
   "nbconvert_exporter": "python",
   "pygments_lexer": "ipython3",
   "version": "3.8.5"
  }
 },
 "nbformat": 4,
 "nbformat_minor": 5
}
