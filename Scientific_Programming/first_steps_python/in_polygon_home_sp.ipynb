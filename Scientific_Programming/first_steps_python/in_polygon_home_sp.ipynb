{
 "cells": [
  {
   "cell_type": "code",
   "execution_count": 1,
   "metadata": {
    "collapsed": true,
    "jupyter": {
     "outputs_hidden": true
    }
   },
   "outputs": [],
   "source": [
    "%matplotlib inline\n",
    "import numpy as np"
   ]
  },
  {
   "cell_type": "code",
   "execution_count": 2,
   "metadata": {
    "collapsed": true,
    "jupyter": {
     "outputs_hidden": true
    }
   },
   "outputs": [],
   "source": [
    "def in_polygon_home(X,Y,xe,ye):\n",
    "    mask=np.zeros_like(X,dtype=np.int16)\n",
    "    for ip in range(np.size(x)):\n",
    "        for jp in range(np.size(y)):\n",
    "            condxx=False\n",
    "            condyy=False\n",
    "            condx=np.nonzero( ((ye[:-1]>=Y[jp,ip]) & (ye[1:]<=Y[jp,ip])) |((ye[1:]>=Y[jp,ip]) & (ye[:-1]<=Y[jp,ip])) )\n",
    "            if np.size(condx)!=0:\n",
    "                if (X[jp,ip]<=np.max(xe[condx[0]])) & (X[jp,ip]>=np.min(xe[condx[0]])):\n",
    "                    condxx=True\n",
    "\n",
    "            condy=np.nonzero( ((xe[:-1]>=X[jp,ip]) & (xe[1:]<=X[jp,ip])) |((xe[1:]>=X[jp,ip]) & (xe[:-1]<=X[jp,ip])) )\n",
    "            if np.size(condy)!=0:\n",
    "                if (Y[jp,ip]<=np.max(ye[condy[0]])) & (Y[jp,ip]>=np.min(ye[condy[0]])):\n",
    "                    condyy=True\n",
    "\n",
    "            if condxx & condyy:\n",
    "                mask[jp,ip]=1\n",
    "    return mask"
   ]
  },
  {
   "cell_type": "code",
   "execution_count": null,
   "metadata": {
    "collapsed": true,
    "jupyter": {
     "outputs_hidden": true
    }
   },
   "outputs": [],
   "source": []
  }
 ],
 "metadata": {
  "anaconda-cloud": {},
  "kernelspec": {
   "display_name": "conda-m1.1",
   "language": "python",
   "name": "conda-m1.1"
  },
  "language_info": {
   "codemirror_mode": {
    "name": "ipython",
    "version": 3
   },
   "file_extension": ".py",
   "mimetype": "text/x-python",
   "name": "python",
   "nbconvert_exporter": "python",
   "pygments_lexer": "ipython3",
   "version": "3.9.7"
  }
 },
 "nbformat": 4,
 "nbformat_minor": 4
}
