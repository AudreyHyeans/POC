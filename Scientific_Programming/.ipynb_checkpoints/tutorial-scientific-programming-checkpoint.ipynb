{
 "cells": [
  {
   "cell_type": "code",
   "execution_count": 1,
   "id": "b4c2cb0a-1d3f-4985-b488-03522694b47d",
   "metadata": {},
   "outputs": [
    {
     "name": "stdout",
     "output_type": "stream",
     "text": [
      "[[0. 0. 0.]\n",
      " [0. 0. 0.]\n",
      " [0. 0. 0.]\n",
      " [0. 0. 0.]]\n"
     ]
    }
   ],
   "source": [
    "import numpy as np\n",
    "#1)numpy arrays\n",
    "\n",
    "#a)\n",
    "a = np.zeros((4,3))\n",
    "print(a)"
   ]
  },
  {
   "cell_type": "code",
   "execution_count": 2,
   "id": "bba56d01-a095-43d1-9563-e35a77b17f6b",
   "metadata": {},
   "outputs": [
    {
     "name": "stdout",
     "output_type": "stream",
     "text": [
      "[4 0]\n"
     ]
    }
   ],
   "source": [
    "#b) \n",
    "b = np.random.randint((6,5))\n",
    "print(b)"
   ]
  },
  {
   "cell_type": "code",
   "execution_count": 3,
   "id": "7f9530a5-43f9-4de0-8d8b-3dc8bbe13529",
   "metadata": {},
   "outputs": [
    {
     "name": "stdout",
     "output_type": "stream",
     "text": [
      "[[16 16  4  1  9]\n",
      " [10  4  6 11  8]\n",
      " [ 6  9  0 13  0]\n",
      " [12  8  6 10 10]\n",
      " [15  6 12 17  7]\n",
      " [18  6  1 17  0]]\n"
     ]
    }
   ],
   "source": [
    "#c)\n",
    "A = np.random.randint(20,size = (6,5))\n",
    "print(A)"
   ]
  },
  {
   "cell_type": "code",
   "execution_count": 4,
   "id": "ab568ed3-c59b-4d6f-b31c-0e3592c76776",
   "metadata": {},
   "outputs": [
    {
     "name": "stdout",
     "output_type": "stream",
     "text": [
      "77\n",
      "49\n",
      "29\n",
      "69\n",
      "34\n"
     ]
    }
   ],
   "source": [
    "SUM = np.sum(A,axis=0)\n",
    "for i in range(5):\n",
    "    s = np.sum(A[:,i])\n",
    "    print(s)"
   ]
  },
  {
   "cell_type": "code",
   "execution_count": 5,
   "id": "1b9f9af8-98b7-458c-91ff-f378263151d9",
   "metadata": {},
   "outputs": [
    {
     "name": "stdout",
     "output_type": "stream",
     "text": [
      "[  6  -2  -5   7 -10]\n"
     ]
    }
   ],
   "source": [
    "#d) ligne5-ligne3\n",
    "l5 = A[5,:]\n",
    "l3 = A[3,:]\n",
    "ldiff = l5-l3\n",
    "print(ldiff)"
   ]
  },
  {
   "cell_type": "code",
   "execution_count": 6,
   "id": "ffd22250-6845-40c2-b504-bfac147df80c",
   "metadata": {},
   "outputs": [
    {
     "name": "stdout",
     "output_type": "stream",
     "text": [
      "[16, 16, 9, 10, 6, 11, 8, 6, 9, 13, 12, 8, 6, 10, 10, 15, 6, 12, 17, 7]\n"
     ]
    }
   ],
   "source": [
    "#e) all values bigger than 5 and store them in a array\n",
    "import numpy as np\n",
    "A5 = []\n",
    "for i in range(5):\n",
    "    for j in range(5):\n",
    "        if A[i,j]>=5:\n",
    "            A5.append(A[i,j])\n",
    "print(A5)\n",
    "\n"
   ]
  },
  {
   "cell_type": "code",
   "execution_count": 7,
   "id": "185e5ced-0b48-42c6-8617-76deaf4c04fa",
   "metadata": {},
   "outputs": [
    {
     "name": "stdout",
     "output_type": "stream",
     "text": [
      "20\n"
     ]
    }
   ],
   "source": [
    "#f) \n",
    "x = np.arange(-100,100,5)\n",
    "y = np.linspace(-100,101,20)\n",
    "print(len(y))"
   ]
  },
  {
   "cell_type": "code",
   "execution_count": 8,
   "id": "b17fa815-190a-421f-8860-536477197262",
   "metadata": {},
   "outputs": [
    {
     "name": "stdout",
     "output_type": "stream",
     "text": [
      "12.020568981600906\n"
     ]
    }
   ],
   "source": [
    "s = 0\n",
    "for i in range(1,10001):\n",
    "    s += 10/(i**3)\n",
    "print(s)\n",
    "\n"
   ]
  },
  {
   "cell_type": "code",
   "execution_count": 39,
   "id": "86ec6d67-f2a3-4f2b-ad27-f120c9da1d39",
   "metadata": {},
   "outputs": [
    {
     "name": "stdout",
     "output_type": "stream",
     "text": [
      "12.020568981600906\n"
     ]
    }
   ],
   "source": [
    "sum = 0\n",
    "i=1\n",
    "while i<=10000 : \n",
    "    s1 = 10/(i**3)\n",
    "    i+=1\n",
    "    sum= s1 + sum\n",
    "print(sum)"
   ]
  },
  {
   "cell_type": "code",
   "execution_count": 9,
   "id": "1b49f5a9-73e2-41d2-a9f4-7c909e44d2b4",
   "metadata": {},
   "outputs": [
    {
     "data": {
      "text/plain": [
       "12.020564036593447"
      ]
     },
     "execution_count": 9,
     "metadata": {},
     "output_type": "execute_result"
    }
   ],
   "source": [
    "#c)\n",
    "bloop = np.arange(1,1001)\n",
    "np.sum(10/bloop**3)"
   ]
  },
  {
   "cell_type": "code",
   "execution_count": 21,
   "id": "6e8354ef-7757-439a-9364-4873fdd3c926",
   "metadata": {},
   "outputs": [
    {
     "name": "stdout",
     "output_type": "stream",
     "text": [
      "[[49 75 80 85]\n",
      " [99 25 40 36]\n",
      " [98 77 31 88]\n",
      " [20 79 37 49]\n",
      " [47 26  6 92]] [[0. 0. 0.]\n",
      " [0. 0. 0.]\n",
      " [0. 0. 0.]\n",
      " [0. 0. 0.]\n",
      " [0. 0. 0.]]\n"
     ]
    }
   ],
   "source": [
    "#3)Matrix product\n",
    "\n",
    "M = np.random.randint(100,size = (5,4))\n",
    "N=  np.random.randint(100,size = (4,3))\n",
    "O = np.zeros((5,3))\n",
    "print(M,O)\n",
    "#for i in range(5):\n",
    "for i in range (M.shape[0]):\n",
    "    for j in range (N.shape[1]):\n",
    "            O[i,j] = np.sum(M[i,:] * N[:,j])"
   ]
  },
  {
   "cell_type": "code",
   "execution_count": 27,
   "id": "dcf26c79-f509-4381-83be-87d2245dbc81",
   "metadata": {},
   "outputs": [
    {
     "data": {
      "text/plain": [
       "array([[21395, 15939, 15945],\n",
       "       [11167,  9856, 14153],\n",
       "       [12944,  5675,  9058],\n",
       "       [11182, 11385, 11722],\n",
       "       [13060, 13638, 10136]])"
      ]
     },
     "execution_count": 27,
     "metadata": {},
     "output_type": "execute_result"
    }
   ],
   "source": [
    "#np.dot?\n",
    "np.dot(M,N)"
   ]
  },
  {
   "cell_type": "code",
   "execution_count": 48,
   "id": "eacaa6e7-5dae-42e2-8d38-c6e5d8bf9969",
   "metadata": {},
   "outputs": [
    {
     "name": "stdout",
     "output_type": "stream",
     "text": [
      "24.200000000000003\n",
      "24.200000000000003\n",
      "the_best is equal to  112.25440000000002\n",
      "[  0  10  20  30  40  50  60  70  80  90 100]\n",
      "[  0.          11.22222222  22.44444444  33.66666667  44.88888889\n",
      "  56.11111111  67.33333333  78.55555556  89.77777778 101.        ]\n",
      "82.5696\n"
     ]
    }
   ],
   "source": [
    "#4) Trapezian method\n",
    "#a) with a loop\n",
    "def f(x):\n",
    "    \"\"\" function to integrate \"\"\"\n",
    "    return(7*x**5+x**3+1)\n",
    "\n",
    "x = np.linspace(a,b,n+1)\n",
    "a=0\n",
    "b=2\n",
    "n=10\n",
    "pas = (b-a)/n\n",
    "function = f(x)\n",
    "F=function[0]\n",
    "for i in range(n):\n",
    "    F += pas / 2*(function[i+1]-function[i])\n",
    "print(F)\n",
    "\n",
    "#b) with a function and a loop inside \n",
    "def trapeze(a,b,n,function):\n",
    "    \"\"\" function that compute an integral with trapeze method \"\"\"\n",
    "    pas = (b-a)/n\n",
    "    x = np.linspace(a,b,n+1)\n",
    "    F = function[0]\n",
    "    for i in range(n):\n",
    "        F += pas / 2*(function[i+1]-function[i])\n",
    "    return(F)\n",
    "\n",
    "integral = trapeze(0,2,10,function)\n",
    "print(integral)\n",
    "\n",
    "#with a function without a loop \n",
    "\n",
    "def trapeze_the_best(a,b,n,function): \n",
    "    pas = (b-a)/n\n",
    "    x = np.linspace(a,b,n+1)\n",
    "    F_the_best = function[0]\n",
    "    F_the_best =  pas * np.sum((1/2) *function[1:] + function [:-1])\n",
    "    return(F_the_best)\n",
    "\n",
    "the_best = trapeze_the_best(0,2,10,function)\n",
    "print('the_best is equal to ',the_best)\n",
    "\n",
    "\n",
    "#np.trapz?\n",
    "#pour aller de 0 à 100 avec un pas de 1 \n",
    "prout = np.arange(0,101,10)\n",
    "caca = np.linspace(0,101,10)\n",
    "print(prout)\n",
    "print(caca)\n",
    "F1 = np.trapz(function,x)\n",
    "print(F1)"
   ]
  },
  {
   "cell_type": "code",
   "execution_count": 32,
   "id": "f0f05cf0-13b5-49b5-b20b-6782aeae3022",
   "metadata": {},
   "outputs": [
    {
     "name": "stdout",
     "output_type": "stream",
     "text": [
      "cos =  -1.0000000000000002\n",
      "theo_cos =  -1.0\n"
     ]
    }
   ],
   "source": [
    "#5) Taylor expansion (-1)**p * x**(2p) // (2p)!\n",
    "\n",
    "# in this part, i have to define :\n",
    "#the factorials terms, the power of each terms from 0 to 2n\n",
    "# the precision, and the error term = last added term\n",
    "#I will use a while loop because there is a condition and a loop with for \n",
    "\n",
    "#error term\n",
    "eps = 10**(-3)\n",
    "\n",
    "#I have to define the factorial outside cos_Taylor in order to use it for my condition in the while \n",
    "def factorial (n):\n",
    "    \"\"\"function to define factorial\"\"\"\n",
    "    factorial = 1\n",
    "    for i in range(1,n+1):\n",
    "        factorial *=i\n",
    "    return(factorial)\n",
    "\n",
    "def cos_Taylor(x,eps):\n",
    "    \"\"\" function that compute the Taylor series of cosinus\"\"\"\n",
    "    #power\n",
    "    p = 0\n",
    "    #initial value\n",
    "    cos = 0\n",
    "    while ( x**(2*p)/factorial(2*p) )  > eps:\n",
    "        cos += (-1)**(p) * x**(2*p) / factorial(2*p)\n",
    "        p+=1\n",
    "    return(cos)\n",
    "\n",
    "cos = cos_Taylor(np.pi,10**(-20))\n",
    "print('cos = ', cos)\n",
    "print('theo_cos = ', np.cos(np.pi))"
   ]
  },
  {
   "cell_type": "code",
   "execution_count": 68,
   "id": "13b29236-3433-437e-b315-bff74527bfd3",
   "metadata": {},
   "outputs": [
    {
     "name": "stdout",
     "output_type": "stream",
     "text": [
      "0.5\n"
     ]
    }
   ],
   "source": [
    "#6) Dichotomy method \n",
    "import matplotlib.pyplot as plt\n",
    "def f(x):\n",
    "    \"\"\" define the function to sudy \"\"\"\n",
    "    return(x-np.exp(-x))\n",
    "\n",
    "def dichotomy(a,b,f,eps):\n",
    "    #intervalle sur lequel je veux travailler\n",
    "    n = 0\n",
    "    while b-a>eps:\n",
    "        mid_pt = (a+b)/2\n",
    "        if f(mid_pt)==0:\n",
    "            return(mid_pt)\n",
    "        n+=1\n",
    "        if f(mid_pt)*f(a)>=0:\n",
    "            a == mid_pt\n",
    "        else:\n",
    "            b == mid_pt\n",
    "        return(mid_pt)\n",
    "sol = dichotomy(0,1,f,10**-2)\n",
    "print(sol)"
   ]
  },
  {
   "cell_type": "code",
   "execution_count": 69,
   "id": "d5142add-7395-4250-8450-39208f57aba9",
   "metadata": {},
   "outputs": [
    {
     "data": {
      "text/plain": [
       "\"x=np.linspace(0,1,20)\\nf = f(x)\\nplt.plot(x,f,'r+-')\""
      ]
     },
     "execution_count": 69,
     "metadata": {},
     "output_type": "execute_result"
    }
   ],
   "source": [
    "\"\"\"x=np.linspace(0,1,20)\n",
    "f = f(x)\n",
    "plt.plot(x,f,'r+-')\"\"\""
   ]
  },
  {
   "cell_type": "markdown",
   "id": "d56e1723-a7f6-42ac-9d72-15fd20179364",
   "metadata": {},
   "source": [
    "# question 9  "
   ]
  },
  {
   "cell_type": "code",
   "execution_count": 13,
   "id": "68736d01-706c-4cfc-803c-fafb0b08b2ea",
   "metadata": {},
   "outputs": [
    {
     "data": {
      "image/png": "[encoded data removed]",
      "text/plain": [
       "<Figure size 640x480 with 1 Axes>"
      ]
     },
     "metadata": {},
     "output_type": "display_data"
    },
    {
     "data": {
      "image/png": "[encoded data removed]",
      "text/plain": [
       "<Figure size 640x480 with 1 Axes>"
      ]
     },
     "metadata": {},
     "output_type": "display_data"
    },
    {
     "data": {
      "image/png": "[encoded data removed]",
      "text/plain": [
       "<Figure size 640x480 with 1 Axes>"
      ]
     },
     "metadata": {},
     "output_type": "display_data"
    }
   ],
   "source": [
    "import matplotlib.pyplot as plt\n",
    "import numpy as np\n",
    "\n",
    "#time in seconds during 3 days, every 30 minutes\n",
    "\n",
    "#3*24*60*60 = 259200\n",
    "#30*60\n",
    "#time during 3 days, every 30 minutes\n",
    "t = np.arange(0,259200,1800)\n",
    "\n",
    "#x = np.arange(-10,10,1)\n",
    "#y = np.arange(0,20,1)\n",
    "\n",
    "#X,Y = np.meshgrid(x,y)\n",
    "\n",
    "\n",
    "#initial conditions\n",
    "u0 = 0.2\n",
    "v0 = 0.3\n",
    "um = 0.1\n",
    "vm = 0.1\n",
    "\n",
    "l = np.deg2rad(30)\n",
    "T = 86400\n",
    "f = (4*np.pi/T)*np.sin(l)\n",
    "\n",
    "#set up trajectories\n",
    "\n",
    "X = (u0/f) * np.sin(f*t) - (v0/f) * np.cos(f*t) + um*t\n",
    "\n",
    "Y = (v0/f) * np.sin(f*t) + (u0/f) * np.cos(f*t) + vm*t\n",
    "\n",
    "XX,YY = np.meshgrid(X,Y)\n",
    "plt.figure()\n",
    "plt.plot(X,Y)\n",
    "plt.title('trajectoy of the particule')\n",
    "#plt.xlim(0,5000)\n",
    "#plt.ylim(0,5000)\n",
    "plt.grid()\n",
    "plt.show()\n",
    "\n",
    "plt.figure()\n",
    "plt.imshow(XX, cmap='inferno')\n",
    "plt.show()\n",
    "plt.figure()\n",
    "plt.imshow(YY, cmap='inferno')\n",
    "plt.show()\n"
   ]
  },
  {
   "cell_type": "code",
   "execution_count": 2,
   "id": "8be362c0-6ab4-4c2e-be43-de336893ae1c",
   "metadata": {},
   "outputs": [
    {
     "name": "stdout",
     "output_type": "stream",
     "text": [
      "Object `matplotlib.pyplot.imshow` not found.\n"
     ]
    }
   ],
   "source": [
    "matplotlib.pyplot.imshow?"
   ]
  },
  {
   "cell_type": "code",
   "execution_count": null,
   "id": "ceabaaf9-f734-43ed-9ca1-ad1d5eb709e9",
   "metadata": {},
   "outputs": [],
   "source": []
  }
 ],
 "metadata": {
  "kernelspec": {
   "display_name": "Python 3",
   "language": "python",
   "name": "python3"
  },
  "language_info": {
   "codemirror_mode": {
    "name": "ipython",
    "version": 3
   },
   "file_extension": ".py",
   "mimetype": "text/x-python",
   "name": "python",
   "nbconvert_exporter": "python",
   "pygments_lexer": "ipython3",
   "version": "3.8.5"
  }
 },
 "nbformat": 4,
 "nbformat_minor": 5
}
