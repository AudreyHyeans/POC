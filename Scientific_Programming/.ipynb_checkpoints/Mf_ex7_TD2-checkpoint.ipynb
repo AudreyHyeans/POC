{
 "cells": [
  {
   "cell_type": "markdown",
   "id": "e65047de-a4a4-478a-9e87-bb748093524f",
   "metadata": {},
   "source": [
    "Exercice7_TD2 : Deformation rate - shear - curl\n",
    "\n",
    "In this exercice, study the gradient of four different flows. \n",
    "Furthermore, we will decompose the gradient into matrices such as grad = dormation + shear + curl"
   ]
  },
  {
   "cell_type": "code",
   "execution_count": 2,
   "id": "52e9a61c-9d64-4e79-8d38-4848117b3734",
   "metadata": {},
   "outputs": [],
   "source": [
    "import numpy as np\n",
    "\n",
    "#creation of a 2D grid\n",
    "x = np.arange(0,100,1)\n",
    "X,X = np.meshgrid(x,x)\n",
    "\n",
    "#creation of initial points\n",
    "A = [1 1]\n",
    "B = [1 2]\n",
    "C = [2 2]\n",
    "D = [2 1]\n"
   ]
  },
  {
   "cell_type": "code",
   "execution_count": null,
   "id": "6b8f446c-3a67-4eca-91fd-04829d4862f0",
   "metadata": {},
   "outputs": [],
   "source": []
  }
 ],
 "metadata": {
  "kernelspec": {
   "display_name": "Python 3",
   "language": "python",
   "name": "python3"
  },
  "language_info": {
   "codemirror_mode": {
    "name": "ipython",
    "version": 3
   },
   "file_extension": ".py",
   "mimetype": "text/x-python",
   "name": "python",
   "nbconvert_exporter": "python",
   "pygments_lexer": "ipython3",
   "version": "3.8.5"
  }
 },
 "nbformat": 4,
 "nbformat_minor": 5
}
