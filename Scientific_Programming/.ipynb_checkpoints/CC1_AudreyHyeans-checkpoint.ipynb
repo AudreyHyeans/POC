{
 "cells": [
  {
   "cell_type": "markdown",
   "id": "5293ec26-8d8b-4c11-a5e3-f8830b4d4686",
   "metadata": {},
   "source": [
    "## 1st CC Scientific programming Audrey Hyeans"
   ]
  },
  {
   "cell_type": "code",
   "execution_count": 38,
   "id": "0dd3bfd6-24ed-447b-820e-3b24a509972e",
   "metadata": {},
   "outputs": [
    {
     "data": {
      "text/plain": [
       "2.4285714285714284"
      ]
     },
     "execution_count": 38,
     "metadata": {},
     "output_type": "execute_result"
    }
   ],
   "source": [
    "import numpy as np\n",
    "import matplotlib.pyplot as plt"
   ]
  },
  {
   "cell_type": "markdown",
   "id": "3f3fec30-9cd9-4373-97f6-5bdb2f9f52cb",
   "metadata": {},
   "source": [
    "## 1 Hot Air ballon"
   ]
  },
  {
   "cell_type": "markdown",
   "id": "9d105827-2348-46b9-b14c-c2e2ad807cb4",
   "metadata": {},
   "source": [
    "### a)"
   ]
  },
  {
   "cell_type": "code",
   "execution_count": 43,
   "id": "bdb9e1f2-ba2a-43d0-9d8f-b6ba02cc1888",
   "metadata": {},
   "outputs": [
    {
     "name": "stdout",
     "output_type": "stream",
     "text": [
      "[-10.   -9.6  -9.2  -8.8  -8.4  -8.   -7.6  -7.2  -6.8  -6.4  -6.   -5.6\n",
      "  -5.2  -4.8  -4.4  -4.   -3.6  -3.2  -2.8  -2.4  -2.   -1.6  -1.2  -0.8\n",
      "  -0.4   0.    0.4   0.8   1.2   1.6   2.    2.4   2.8   3.2   3.6   4.\n",
      "   4.4   4.8   5.2   5.6   6.    6.4   6.8   7.2   7.6   8.    8.4   8.8\n",
      "   9.2   9.6  10. ]\n",
      "[ 0.          0.66666667  1.33333333  2.          2.66666667  3.33333333\n",
      "  4.          4.66666667  5.33333333  6.          6.66666667  7.33333333\n",
      "  8.          8.66666667  9.33333333 10.         10.66666667 11.33333333\n",
      " 12.         12.66666667 13.33333333 14.         14.66666667 15.33333333\n",
      " 16.         16.66666667 17.33333333 18.         18.66666667 19.33333333\n",
      " 20.        ]\n",
      "X,Z= [array([[-10. ,  -9.6,  -9.2, ...,   9.2,   9.6,  10. ],\n",
      "       [-10. ,  -9.6,  -9.2, ...,   9.2,   9.6,  10. ],\n",
      "       [-10. ,  -9.6,  -9.2, ...,   9.2,   9.6,  10. ],\n",
      "       ...,\n",
      "       [-10. ,  -9.6,  -9.2, ...,   9.2,   9.6,  10. ],\n",
      "       [-10. ,  -9.6,  -9.2, ...,   9.2,   9.6,  10. ],\n",
      "       [-10. ,  -9.6,  -9.2, ...,   9.2,   9.6,  10. ]]), array([[ 0.        ,  0.        ,  0.        , ...,  0.        ,\n",
      "         0.        ,  0.        ],\n",
      "       [ 0.66666667,  0.66666667,  0.66666667, ...,  0.66666667,\n",
      "         0.66666667,  0.66666667],\n",
      "       [ 1.33333333,  1.33333333,  1.33333333, ...,  1.33333333,\n",
      "         1.33333333,  1.33333333],\n",
      "       ...,\n",
      "       [18.66666667, 18.66666667, 18.66666667, ..., 18.66666667,\n",
      "        18.66666667, 18.66666667],\n",
      "       [19.33333333, 19.33333333, 19.33333333, ..., 19.33333333,\n",
      "        19.33333333, 19.33333333],\n",
      "       [20.        , 20.        , 20.        , ..., 20.        ,\n",
      "        20.        , 20.        ]])]\n",
      "(2, 31, 51)\n"
     ]
    }
   ],
   "source": [
    "#horizontal grid\n",
    "#I have \n",
    "x = np.linspace(-10.,10.,51)\n",
    "#print(x)\n",
    "#vertical grid\n",
    "z = np.linspace(0,20,31)\n",
    "#print(z)\n",
    "#2D grid :\n",
    "X,Z = np.meshgrid(x,z)\n",
    "#print('X,Z=',np.meshgrid(x,z))\n",
    "print(np.shape(np.meshgrid(x,z)))"
   ]
  },
  {
   "cell_type": "markdown",
   "id": "cab653df-b007-4f86-9cba-42f3e7c55a88",
   "metadata": {},
   "source": [
    "### b)"
   ]
  },
  {
   "cell_type": "code",
   "execution_count": 90,
   "id": "307039db-b834-4c46-ac1f-15840a829241",
   "metadata": {},
   "outputs": [
    {
     "ename": "IndexError",
     "evalue": "boolean index did not match indexed array along dimension 0; dimension is 51 but corresponding boolean dimension is 101",
     "output_type": "error",
     "traceback": [
      "\u001b[0;31m---------------------------------------------------------------------------\u001b[0m",
      "\u001b[0;31mIndexError\u001b[0m                                Traceback (most recent call last)",
      "\u001b[0;32m<ipython-input-90-db691a10009d>\u001b[0m in \u001b[0;36m<module>\u001b[0;34m\u001b[0m\n\u001b[1;32m      6\u001b[0m \u001b[0;31m#I have to select the right subdomains of X and Z to define the T\u001b[0m\u001b[0;34m\u001b[0m\u001b[0;34m\u001b[0m\u001b[0;34m\u001b[0m\u001b[0m\n\u001b[1;32m      7\u001b[0m \u001b[0;31m#subdomains where T has to be equal to 380°\u001b[0m\u001b[0;34m\u001b[0m\u001b[0;34m\u001b[0m\u001b[0;34m\u001b[0m\u001b[0m\n\u001b[0;32m----> 8\u001b[0;31m \u001b[0mX1\u001b[0m \u001b[0;34m=\u001b[0m \u001b[0mX\u001b[0m\u001b[0;34m[\u001b[0m\u001b[0;34m(\u001b[0m\u001b[0mx\u001b[0m\u001b[0;34m>\u001b[0m\u001b[0;34m-\u001b[0m\u001b[0;36m3\u001b[0m\u001b[0;34m)\u001b[0m \u001b[0;34m&\u001b[0m \u001b[0;34m(\u001b[0m\u001b[0mx\u001b[0m\u001b[0;34m<\u001b[0m\u001b[0;36m3\u001b[0m\u001b[0;34m)\u001b[0m\u001b[0;34m]\u001b[0m\u001b[0;34m[\u001b[0m\u001b[0;34m:\u001b[0m\u001b[0;34m,\u001b[0m\u001b[0;34m:\u001b[0m\u001b[0;34m]\u001b[0m\u001b[0;34m\u001b[0m\u001b[0;34m\u001b[0m\u001b[0m\n\u001b[0m\u001b[1;32m      9\u001b[0m \u001b[0mZ1\u001b[0m \u001b[0;34m=\u001b[0m \u001b[0mZ\u001b[0m\u001b[0;34m[\u001b[0m\u001b[0;34m(\u001b[0m\u001b[0mz\u001b[0m\u001b[0;34m<\u001b[0m\u001b[0;36m10\u001b[0m\u001b[0;34m)\u001b[0m\u001b[0;34m,\u001b[0m\u001b[0;34m:\u001b[0m\u001b[0;34m]\u001b[0m\u001b[0;34m[\u001b[0m\u001b[0;34m:\u001b[0m\u001b[0;34m,\u001b[0m\u001b[0;34m:\u001b[0m\u001b[0;34m]\u001b[0m\u001b[0;34m\u001b[0m\u001b[0;34m\u001b[0m\u001b[0m\n\u001b[1;32m     10\u001b[0m \u001b[0;34m\u001b[0m\u001b[0m\n",
      "\u001b[0;31mIndexError\u001b[0m: boolean index did not match indexed array along dimension 0; dimension is 51 but corresponding boolean dimension is 101"
     ]
    }
   ],
   "source": [
    "#this first programm didn't work, tried something else below\n",
    "\n",
    "\n",
    "#initial the temperature with the shape corresponding to the 2D grid\n",
    "\n",
    "#I have to select the right subdomains of X and Z to define the T\n",
    "#subdomains where T has to be equal to 380°\n",
    "X1 = X[(x>-3) & (x<3)][:,:]\n",
    "Z1 = Z[(z<10),:][:,:]\n",
    "\n",
    "#subdomains where T has to be equal to 280°\n",
    "X2 = X[(x>3) & (x<-3),:][:,:]\n",
    "Z2 = Z[(z>10),:][:,:]\n",
    "\n",
    "T = np.zeros((len(X),len(Z)))\n",
    "print(np.shape(T))\n",
    "              \n",
    "for i in range (len(X1)+1) :\n",
    "    for k in range (len (Z1)+1) : \n",
    "        T[i,k] += 380\n",
    "for j in range (len(X2)) :\n",
    "    for l in range((Z2)) :\n",
    "        T[j,l] += 280\n",
    "\n",
    "print(T)"
   ]
  },
  {
   "cell_type": "code",
   "execution_count": 84,
   "id": "9e1222ed-62e4-493e-a756-745f7ae3fb05",
   "metadata": {},
   "outputs": [
    {
     "name": "stdout",
     "output_type": "stream",
     "text": [
      "[[0. 0. 0. ... 0. 0. 0.]\n",
      " [0. 0. 0. ... 0. 0. 0.]\n",
      " [0. 0. 0. ... 0. 0. 0.]\n",
      " ...\n",
      " [0. 0. 0. ... 0. 0. 0.]\n",
      " [0. 0. 0. ... 0. 0. 0.]\n",
      " [0. 0. 0. ... 0. 0. 0.]]\n",
      "(101, 31)\n"
     ]
    },
    {
     "data": {
      "text/plain": [
       "'for i in range (len(T[0,:])):\\n    for k in range(len(T[:,1])):\\n                        T[i][k] += 380\\nprint(T)'"
      ]
     },
     "execution_count": 84,
     "metadata": {},
     "output_type": "execute_result"
    }
   ],
   "source": [
    "T = np.zeros((len(x),len(z)))\n",
    "T[-4:3,0:10] += 380\n",
    "T[-10:-3,11:20] += 280\n",
    "T[4:10,11:20] += 280\n",
    "print(T)\n",
    "print(np.shape(T))"
   ]
  },
  {
   "cell_type": "markdown",
   "id": "c95c499f-5a64-4b05-a53f-08d851376d8e",
   "metadata": {},
   "source": [
    "### c)"
   ]
  },
  {
   "cell_type": "code",
   "execution_count": null,
   "id": "daafd49e-e3b6-45ba-9812-e5c2cf6968bb",
   "metadata": {},
   "outputs": [],
   "source": [
    "#constants\n",
    "g = 9.81\n",
    "R = 287\n",
    "\n",
    "def pressure (T,Z,p0):\n",
    "    \"\"\" function that compute the pressure \n",
    "    in function of altitude and temperature\"\"\"\n",
    "    p = p0*np.exp(-(g*Z)/(R*T))\n",
    "    return(p)\n",
    "\n",
    "#figure of the pression \n",
    "#getting the pessure:\n",
    "pr = pressure (T,Z,1)\n",
    "plt.figure()\n",
    "fig, (ax1, ax2) = plt.subplots(1,2)\n",
    "ax1.pcolor(X,Z,pr)\n",
    "ax1.set_title('Pressure with P0=1')\n",
    "plt.show()"
   ]
  },
  {
   "cell_type": "markdown",
   "id": "44833457-5df3-49cb-9050-74e8087cb550",
   "metadata": {},
   "source": [
    "## In polygon function"
   ]
  },
  {
   "cell_type": "markdown",
   "id": "b57c7cba-bb47-4840-a627-c076fdfa0501",
   "metadata": {},
   "source": [
    "### a)"
   ]
  },
  {
   "cell_type": "code",
   "execution_count": 48,
   "id": "e9391ec7-bf97-4985-bb8e-7462bcd49d6f",
   "metadata": {},
   "outputs": [],
   "source": [
    "#define the grid with x and y\n",
    "x = np.linspace(-100,100,101)\n",
    "y = np.linspace(-50,50,51)\n",
    "\n",
    "X,Y = np.meshgrid(x,y)"
   ]
  },
  {
   "cell_type": "markdown",
   "id": "9753b427-f195-4f59-9488-79772423d41c",
   "metadata": {},
   "source": [
    "### b)"
   ]
  },
  {
   "cell_type": "code",
   "execution_count": 53,
   "id": "82841fe1-8f44-4ea5-98db-6fea7c44e75c",
   "metadata": {},
   "outputs": [
    {
     "name": "stdout",
     "output_type": "stream",
     "text": [
      "27\n",
      "[0.         0.24166097 0.48332195 0.72498292 0.96664389 1.20830487\n",
      " 1.44996584 1.69162681 1.93328779 2.17494876 2.41660973 2.65827071\n",
      " 2.89993168 3.14159265 3.38325363 3.6249146  3.86657557 4.10823655\n",
      " 4.34989752 4.59155849 4.83321947 5.07488044 5.31654141 5.55820239\n",
      " 5.79986336 6.04152433 6.28318531]\n"
     ]
    }
   ],
   "source": [
    "#define t\n",
    "pi = np.pi\n",
    "t = np.linspace(0,2*pi,27)\n",
    "print(len(t))\n",
    "print(t)"
   ]
  },
  {
   "cell_type": "code",
   "execution_count": null,
   "id": "a85640c0-4b13-4379-9fd8-9bb29f2f1423",
   "metadata": {},
   "outputs": [],
   "source": [
    "#define the ellips\n",
    "xe = 60*np.cos(t)\n",
    "ye = 30*np.sin(t)"
   ]
  },
  {
   "cell_type": "markdown",
   "id": "8fb43e22-6262-4ac7-8cf7-fadf75ca2efc",
   "metadata": {},
   "source": [
    "### c) and d)"
   ]
  },
  {
   "cell_type": "code",
   "execution_count": 83,
   "id": "1a6ba58f-14e6-4b68-b360-1113d35420be",
   "metadata": {},
   "outputs": [
    {
     "data": {
      "image/png": "[encoded data removed]",
      "text/plain": [
       "<Figure size 640x480 with 1 Axes>"
      ]
     },
     "metadata": {},
     "output_type": "display_data"
    }
   ],
   "source": [
    "#figure with the grid and the ellipse\n",
    "figure = plt.figure()\n",
    "plt.title('figure with the grid and the ellipse')\n",
    "plt.scatter(X,Y)\n",
    "plt.plot(xe,ye,color = 'red')\n",
    "#select one point outside the ellipse and plotting the 2 lines passing through\n",
    "plt.axvline(x[50],color = 'k')\n",
    "plt.axhline(y[25],color = 'k')\n",
    "plt.show()\n",
    "\n"
   ]
  },
  {
   "cell_type": "markdown",
   "id": "74f22633-483a-4cee-ab53-239c74f99164",
   "metadata": {},
   "source": [
    "### d) ii)"
   ]
  },
  {
   "cell_type": "code",
   "execution_count": null,
   "id": "44c59758-7483-412b-877b-1c0f820937e7",
   "metadata": {},
   "outputs": [],
   "source": [
    "# first step \n",
    "#point inside the ellispe coordinates (0,0)\n",
    "#point chosen graphically\n",
    "x_pt = x[50]\n",
    "y_pt = y[25]\n",
    "\n",
    "#we have to know if the point is in the subdomain of the ellipse\n",
    "#to do that, we have to check if it's in the length of xe and ye\n",
    "\n",
    "\n",
    "for i in range (len(xe)):\n",
    "    if x[i]=<xe[i]:\n",
    "        print('\n",
    "    "
   ]
  },
  {
   "cell_type": "code",
   "execution_count": null,
   "id": "9e8e56d1-1581-48ad-a5f9-71b1a593ecc7",
   "metadata": {},
   "outputs": [],
   "source": []
  }
 ],
 "metadata": {
  "kernelspec": {
   "display_name": "Python 3",
   "language": "python",
   "name": "python3"
  },
  "language_info": {
   "codemirror_mode": {
    "name": "ipython",
    "version": 3
   },
   "file_extension": ".py",
   "mimetype": "text/x-python",
   "name": "python",
   "nbconvert_exporter": "python",
   "pygments_lexer": "ipython3",
   "version": "3.8.5"
  }
 },
 "nbformat": 4,
 "nbformat_minor": 5
}
