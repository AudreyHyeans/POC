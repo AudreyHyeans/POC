{
 "cells": [
  {
   "cell_type": "code",
   "execution_count": 11,
   "metadata": {
    "collapsed": false,
    "jupyter": {
     "outputs_hidden": false
    }
   },
   "outputs": [],
   "source": [
    "%matplotlib inline\n",
    "import numpy as np\n",
    "from matplotlib import pyplot as plt"
   ]
  },
  {
   "cell_type": "markdown",
   "metadata": {},
   "source": [
    "## 1. Sum of a series"
   ]
  },
  {
   "cell_type": "code",
   "execution_count": null,
   "metadata": {
    "collapsed": false,
    "jupyter": {
     "outputs_hidden": false
    }
   },
   "outputs": [],
   "source": [
    "def sum_practise1(n):\n",
    "    S=0\n",
    "    for i in range(1,n+1):\n",
    "        S+=10./(i**3)\n",
    "    return S\n",
    "\n",
    "print(sum_practise1(1000000))\n",
    "%timeit(sum_practise1(1000000))"
   ]
  },
  {
   "cell_type": "code",
   "execution_count": null,
   "metadata": {
    "collapsed": false,
    "jupyter": {
     "outputs_hidden": false
    }
   },
   "outputs": [],
   "source": [
    "def sum_practise1b(n):\n",
    "    S=0\n",
    "    i=1\n",
    "    while (i<n+1):\n",
    "        S+=10./(i**3)\n",
    "        i+=1\n",
    "    return S\n",
    "\n",
    "print(sum_practise1b(1000000))\n",
    "%timeit(sum_practise1b(1000000))"
   ]
  },
  {
   "cell_type": "code",
   "execution_count": null,
   "metadata": {
    "collapsed": false,
    "jupyter": {
     "outputs_hidden": false
    }
   },
   "outputs": [],
   "source": [
    "def sum_practise1c(n):\n",
    "    iarray=np.arange(1,n+1)\n",
    "    return np.add.reduce(10./iarray**3)\n",
    "\n",
    "print(sum_practise1c(1000000))\n",
    "%timeit(sum_practise1c(1000000))"
   ]
  },
  {
   "cell_type": "markdown",
   "metadata": {},
   "source": [
    "## 2. Matrix Product"
   ]
  },
  {
   "cell_type": "code",
   "execution_count": 15,
   "metadata": {
    "tags": []
   },
   "outputs": [],
   "source": [
    "def mat_prod_practise1(A,B):\n",
    "    C=np.zeros((np.shape(A)[0],np.shape(B)[1]))\n",
    "    for i in range(np.shape(A)[0]):\n",
    "        for j in range(np.shape(B)[1]):\n",
    "            for k in range(np.shape(A)[1]):\n",
    "                C[i,j]=C[i,j]+A[i,k]*B[k,j]\n",
    "    return C\n",
    "\n",
    "def mat_prod_practise2(A,B):\n",
    "    C=np.zeros((np.shape(A)[0],np.shape(B)[1]))\n",
    "    for i in range(np.shape(A)[0]):\n",
    "        for j in range(np.shape(B)[1]):\n",
    "            C[i,j]=np.add.reduce(A[i,:]*B[:,j])\n",
    "    return C\n",
    "\n",
    "def mat_prod_practise3(A,B):\n",
    "    C=np.sum(A[:,np.newaxis,:]*B.T[np.newaxis,:,:],axis=-1)\n",
    "    return C "
   ]
  },
  {
   "cell_type": "code",
   "execution_count": 16,
   "metadata": {
    "collapsed": false,
    "jupyter": {
     "outputs_hidden": false
    }
   },
   "outputs": [
    {
     "name": "stderr",
     "output_type": "stream",
     "text": [
      "UsageError: Line magic function `%timeit(np.dot(A,B))` not found.\n"
     ]
    }
   ],
   "source": [
    "np.random.seed(0)\n",
    "A=np.random.randint(9,size=(20,21))\n",
    "B=np.random.randint(9,size=(21,30))\n",
    "%timeit(np.dot(A,B))\n",
    "%timeit(mat_prod_practise1(A,B))\n",
    "%timeit(mat_prod_practise2(A,B))\n",
    "%timeit(mat_prod_practise3(A,B))"
   ]
  },
  {
   "cell_type": "markdown",
   "metadata": {},
   "source": [
    "## 3. Integral "
   ]
  },
  {
   "cell_type": "code",
   "execution_count": 42,
   "metadata": {
    "collapsed": true,
    "jupyter": {
     "outputs_hidden": true
    }
   },
   "outputs": [],
   "source": [
    "def func_f(x):\n",
    "    return 7*x**5+x**3+1"
   ]
  },
  {
   "cell_type": "code",
   "execution_count": 43,
   "metadata": {
    "collapsed": false,
    "jupyter": {
     "outputs_hidden": false
    }
   },
   "outputs": [
    {
     "data": {
      "text/plain": [
       "[<matplotlib.lines.Line2D at 0x11aee3358>]"
      ]
     },
     "execution_count": 43,
     "metadata": {},
     "output_type": "execute_result"
    },
    {
     "data": {
      "image/png": "[encoded data removed]",
      "text/plain": [
       "<matplotlib.figure.Figure at 0x11b05eac8>"
      ]
     },
     "metadata": {},
     "output_type": "display_data"
    }
   ],
   "source": [
    "x=np.linspace(0,2,10)\n",
    "fig,ax=plt.subplots(1,1,figsize=(6,6))\n",
    "ax.plot(x,func_f(x))\n"
   ]
  },
  {
   "cell_type": "code",
   "execution_count": 44,
   "metadata": {
    "collapsed": false,
    "jupyter": {
     "outputs_hidden": false
    }
   },
   "outputs": [
    {
     "name": "stdout",
     "output_type": "stream",
     "text": [
      "0\n",
      "1\n",
      "2\n",
      "3\n",
      "4\n",
      "5\n",
      "6\n",
      "7\n",
      "8\n",
      "9\n",
      "83.0696\n"
     ]
    }
   ],
   "source": [
    "a=0\n",
    "b=2\n",
    "n=10\n",
    "deltax=(b-a)/(n)\n",
    "x=np.linspace(a,b,n+1)\n",
    "y=func_f(x)\n",
    "for i in range(n):\n",
    "    print(i)\n",
    "    s=s+deltax/2*(y[i]+y[i+1])\n",
    "print(s)"
   ]
  },
  {
   "cell_type": "code",
   "execution_count": 53,
   "metadata": {
    "collapsed": true,
    "jupyter": {
     "outputs_hidden": true
    }
   },
   "outputs": [],
   "source": [
    "def trapeze_home(a,b,n,func):\n",
    "    deltax=(b-a)/(n)\n",
    "    x=np.linspace(a,b,n+1)\n",
    "    y=func(x)\n",
    "    I=y[0]\n",
    "    for i in range(1,n):\n",
    "        I=I+2*y[i]\n",
    "    I=I+y[n]\n",
    "    I=I*deltax/2\n",
    "    return I"
   ]
  },
  {
   "cell_type": "code",
   "execution_count": 54,
   "metadata": {
    "collapsed": false,
    "jupyter": {
     "outputs_hidden": false
    }
   },
   "outputs": [
    {
     "data": {
      "text/plain": [
       "82.569600000000023"
      ]
     },
     "execution_count": 54,
     "metadata": {},
     "output_type": "execute_result"
    }
   ],
   "source": [
    "trapeze_home(a,b,n,func_f)"
   ]
  },
  {
   "cell_type": "code",
   "execution_count": 55,
   "metadata": {
    "collapsed": false,
    "jupyter": {
     "outputs_hidden": false
    }
   },
   "outputs": [
    {
     "data": {
      "text/plain": [
       "82.569599999999994"
      ]
     },
     "execution_count": 55,
     "metadata": {},
     "output_type": "execute_result"
    }
   ],
   "source": [
    "np.trapz(y,x)"
   ]
  },
  {
   "cell_type": "code",
   "execution_count": 55,
   "metadata": {
    "collapsed": false,
    "jupyter": {
     "outputs_hidden": false
    }
   },
   "outputs": [],
   "source": [
    "def trapez(a,b,n,func):\n",
    "    #func(*args, **kwargs)\n",
    "    x=np.linspace(a,b,n)\n",
    "    print(np.size(x))\n",
    "    valinteg=0\n",
    "    dx1=np.unique(np.round(np.diff(x),5))\n",
    "    #dx2=np.float((b-a)/n)\n",
    "    for ix in range(np.size(x)):\n",
    "        if ((ix==0) | (ix==np.size(x)-1)):\n",
    "            valinteg+=+dx1/2*func(x[ix])\n",
    "        else:\n",
    "            valinteg+=dx1/2*2*(func(x[ix]))\n",
    "    return valinteg\n",
    "\n",
    "def trapezb(a,b,n,func):\n",
    "    x=np.linspace(a,b,n)\n",
    "    y=func(x)\n",
    "    s=0\n",
    "    return np.sum(0.5*(y[:-1]+y[1:])*np.diff(x))  "
   ]
  },
  {
   "cell_type": "code",
   "execution_count": 56,
   "metadata": {
    "collapsed": false,
    "jupyter": {
     "outputs_hidden": false
    }
   },
   "outputs": [
    {
     "name": "stdout",
     "output_type": "stream",
     "text": [
      "9\n",
      "[ 83.63671875]\n",
      "83.0148859422\n",
      "83.0148859422\n"
     ]
    }
   ],
   "source": [
    "print(trapez(0,2,9,func_f))\n",
    "print(trapezb(0,2,10,func_f))\n",
    "x=np.linspace(0,2,n)\n",
    "print(np.trapz(func_f(x),x))"
   ]
  },
  {
   "cell_type": "code",
   "execution_count": 10,
   "metadata": {
    "collapsed": false,
    "jupyter": {
     "outputs_hidden": false
    }
   },
   "outputs": [
    {
     "name": "stdout",
     "output_type": "stream",
     "text": [
      "[ 0.   0.2  0.4  0.6  0.8  1.   1.2  1.4  1.6  1.8  2. ]\n",
      "[   1.         1.01024    1.13568    1.76032    3.80576    9.        20.14624\n",
      "   41.39168   78.49632  139.10176  233.     ]\n"
     ]
    },
    {
     "data": {
      "text/plain": [
       "82.569599999999994"
      ]
     },
     "execution_count": 10,
     "metadata": {},
     "output_type": "execute_result"
    }
   ],
   "source": [
    "x=np.linspace(0,2,11)\n",
    "y=func_f(x)\n",
    "print(x)\n",
    "print(y)\n",
    "np.trapz(y,x)"
   ]
  },
  {
   "cell_type": "markdown",
   "metadata": {},
   "source": [
    "## 4. Taylor develoment of a cosine"
   ]
  },
  {
   "cell_type": "code",
   "execution_count": 4,
   "metadata": {
    "tags": []
   },
   "outputs": [],
   "source": [
    "# Factoriel function\n",
    "def fact_home_1(n):\n",
    "    s=1\n",
    "    for i in range(1,n+1):\n",
    "        s*=i\n",
    "    return s"
   ]
  },
  {
   "cell_type": "code",
   "execution_count": 5,
   "metadata": {
    "collapsed": false,
    "jupyter": {
     "outputs_hidden": false
    }
   },
   "outputs": [],
   "source": [
    "def fact_home_2(n):\n",
    "    if n==0:\n",
    "        return 1\n",
    "    else:\n",
    "        return np.prod(np.arange(1,n+1))"
   ]
  },
  {
   "cell_type": "code",
   "execution_count": 6,
   "metadata": {
    "collapsed": false,
    "jupyter": {
     "outputs_hidden": false
    }
   },
   "outputs": [
    {
     "name": "stdout",
     "output_type": "stream",
     "text": [
      "0.45168864438392464\n"
     ]
    }
   ],
   "source": [
    "# (-1)**(p)* x**(2*p)/fac(2*p)\n",
    "p=4\n",
    "x=np.pi/3\n",
    "s=0\n",
    "for p in range(2):\n",
    "    s+=(-1)**p * x**(2*p)/fact_home_1(2*p)\n",
    "\n",
    "print(s)\n"
   ]
  },
  {
   "cell_type": "code",
   "execution_count": 7,
   "metadata": {
    "collapsed": false,
    "jupyter": {
     "outputs_hidden": false
    }
   },
   "outputs": [
    {
     "name": "stdout",
     "output_type": "stream",
     "text": [
      "1\n",
      "0.5483113556160754\n",
      "2\n",
      "0.05010755711625637\n",
      "3\n",
      "0.001831636171268297\n",
      "4\n",
      "3.586810400226993e-05\n",
      "5\n",
      "4.370419717525111e-07\n",
      "6\n",
      "3.6308344847385137e-09\n",
      "7\n",
      "2.1877228333456802e-11\n",
      "8\n",
      "9.996277270533428e-14\n",
      "0.49999999999990047\n"
     ]
    }
   ],
   "source": [
    "x=np.pi/3\n",
    "epsilon=1e-12\n",
    "s=0\n",
    "p=0\n",
    "error=10\n",
    "while(error>epsilon):\n",
    "    s+=(-1)**p * x**(2*p)/fact_home_1(2*p)\n",
    "    p+=1\n",
    "    print(p)\n",
    "    error=x**(2*p)/fact_home_1(2*p)\n",
    "    print(error)\n",
    "    \n",
    "\n",
    "print(s)\n"
   ]
  },
  {
   "cell_type": "code",
   "execution_count": 8,
   "metadata": {
    "tags": []
   },
   "outputs": [],
   "source": [
    "def cos_taylor(x,epsilon):\n",
    "    s=0\n",
    "    p=0\n",
    "    error=10\n",
    "    while(error>epsilon):\n",
    "        s+=(-1)**p * x**(2*p)/fact_home_1(2*p)\n",
    "        p+=1\n",
    "        error=x**(2*p)/fact_home_1(2*p)\n",
    "    return s\n"
   ]
  },
  {
   "cell_type": "code",
   "execution_count": 9,
   "metadata": {
    "collapsed": false,
    "jupyter": {
     "outputs_hidden": false
    }
   },
   "outputs": [
    {
     "data": {
      "text/plain": [
       "0.500000433432915"
      ]
     },
     "execution_count": 9,
     "metadata": {},
     "output_type": "execute_result"
    }
   ],
   "source": [
    "cos_taylor(np.pi/3,1e-6)"
   ]
  },
  {
   "cell_type": "code",
   "execution_count": 13,
   "metadata": {
    "tags": []
   },
   "outputs": [],
   "source": [
    "def costaylor(x, eps):\n",
    "    valcos=0\n",
    "    p=0\n",
    "    n=2*p\n",
    "    while (x**n/fact_home_1(n) > eps) :\n",
    "        valcos=valcos+(-1)**p * x**n / fact_home_1(n)\n",
    "        p=p+1\n",
    "        n=2*p\n",
    "    return(valcos)"
   ]
  },
  {
   "cell_type": "code",
   "execution_count": 14,
   "metadata": {
    "collapsed": false,
    "jupyter": {
     "outputs_hidden": false
    }
   },
   "outputs": [
    {
     "name": "stdout",
     "output_type": "stream",
     "text": [
      "0.707429206709773 0.7071067811865476\n"
     ]
    }
   ],
   "source": [
    "x=np.pi/4.\n",
    "eps=0.001\n",
    "y=costaylor(x,eps)\n",
    "print(y,np.cos(x))"
   ]
  },
  {
   "cell_type": "markdown",
   "metadata": {},
   "source": [
    "## 5. Dichotomy"
   ]
  },
  {
   "cell_type": "code",
   "execution_count": 59,
   "metadata": {
    "collapsed": true,
    "jupyter": {
     "outputs_hidden": true
    }
   },
   "outputs": [],
   "source": [
    "def f(x) :\n",
    "    return(x-np.exp(-x))"
   ]
  },
  {
   "cell_type": "code",
   "execution_count": 60,
   "metadata": {
    "collapsed": false,
    "jupyter": {
     "outputs_hidden": false
    }
   },
   "outputs": [
    {
     "data": {
      "text/plain": [
       "<matplotlib.collections.PathCollection at 0x11b843b00>"
      ]
     },
     "execution_count": 60,
     "metadata": {},
     "output_type": "execute_result"
    },
    {
     "data": {
      "image/png": "[encoded data removed]",
      "text/plain": [
       "<matplotlib.figure.Figure at 0x11b815748>"
      ]
     },
     "metadata": {},
     "output_type": "display_data"
    }
   ],
   "source": [
    "x=np.linspace(0,1,20)\n",
    "plt.plot(x,f(x),'r+-')\n",
    "plt.scatter(xmid,fmid,s=50)\n",
    "plt.hlines(0,x.min(),x.max())\n",
    "\n",
    "plt.scatter(xl,f(xl),s=50,c='r')\n",
    "plt.scatter(xu,f(xu),s=50,c='r')"
   ]
  },
  {
   "cell_type": "code",
   "execution_count": 17,
   "metadata": {
    "collapsed": false,
    "jupyter": {
     "outputs_hidden": false
    }
   },
   "outputs": [
    {
     "ename": "NameError",
     "evalue": "name 'f' is not defined",
     "output_type": "error",
     "traceback": [
      "\u001b[0;31m---------------------------------------------------------------------------\u001b[0m",
      "\u001b[0;31mNameError\u001b[0m                                 Traceback (most recent call last)",
      "\u001b[0;32m/tmp/ipykernel_2551/1311864887.py\u001b[0m in \u001b[0;36m<module>\u001b[0;34m\u001b[0m\n\u001b[1;32m      2\u001b[0m \u001b[0mxu\u001b[0m\u001b[0;34m=\u001b[0m\u001b[0;36m1\u001b[0m\u001b[0;34m\u001b[0m\u001b[0;34m\u001b[0m\u001b[0m\n\u001b[1;32m      3\u001b[0m \u001b[0mxmid\u001b[0m\u001b[0;34m=\u001b[0m\u001b[0;36m0.5\u001b[0m\u001b[0;34m*\u001b[0m\u001b[0;34m(\u001b[0m\u001b[0mxl\u001b[0m\u001b[0;34m+\u001b[0m\u001b[0mxu\u001b[0m\u001b[0;34m)\u001b[0m\u001b[0;34m\u001b[0m\u001b[0;34m\u001b[0m\u001b[0m\n\u001b[0;32m----> 4\u001b[0;31m \u001b[0mfmid\u001b[0m\u001b[0;34m=\u001b[0m\u001b[0mf\u001b[0m\u001b[0;34m(\u001b[0m\u001b[0mxmid\u001b[0m\u001b[0;34m)\u001b[0m\u001b[0;34m\u001b[0m\u001b[0;34m\u001b[0m\u001b[0m\n\u001b[0m\u001b[1;32m      5\u001b[0m \u001b[0;34m\u001b[0m\u001b[0m\n\u001b[1;32m      6\u001b[0m \u001b[0;32mfor\u001b[0m \u001b[0mi\u001b[0m \u001b[0;32min\u001b[0m \u001b[0mrange\u001b[0m\u001b[0;34m(\u001b[0m\u001b[0;36m10\u001b[0m\u001b[0;34m)\u001b[0m\u001b[0;34m:\u001b[0m\u001b[0;34m\u001b[0m\u001b[0;34m\u001b[0m\u001b[0m\n",
      "\u001b[0;31mNameError\u001b[0m: name 'f' is not defined"
     ]
    }
   ],
   "source": [
    "f = f(x)\n",
    "xl=0\n",
    "xu=1\n",
    "xmid=0.5*(xl+xu)\n",
    "fmid=f(xmid)\n",
    "\n",
    "for i in range(10):\n",
    "    if (fmid*f(xl)>0):\n",
    "        xl=xmid\n",
    "        xu=xu\n",
    "    else:\n",
    "        xl=xl\n",
    "        xu=xmid\n",
    "    xmid=0.5*(xl+xu)\n",
    "    fmid=f(xmid)\n",
    "    error=xu-xl\n",
    "    print(error)\n",
    "    x=np.linspace(xl,xu,20)\n",
    "    plt.plot(x,f(x),'r+-')\n",
    "    plt.scatter(xmid,fmid,s=50)\n",
    "    plt.hlines(0,x.min(),x.max())\n",
    "\n",
    "    plt.scatter(xl,f(xl),s=50,c='r')\n",
    "    plt.scatter(xu,f(xu),s=50,c='r')\n",
    "    plt.pause(0.05)\n",
    "        "
   ]
  },
  {
   "cell_type": "code",
   "execution_count": 39,
   "metadata": {
    "collapsed": false,
    "jupyter": {
     "outputs_hidden": false
    }
   },
   "outputs": [
    {
     "data": {
      "text/plain": [
       "0.0009765625"
      ]
     },
     "execution_count": 39,
     "metadata": {},
     "output_type": "execute_result"
    }
   ],
   "source": [
    "error\n",
    "\n"
   ]
  },
  {
   "cell_type": "code",
   "execution_count": null,
   "metadata": {
    "collapsed": false,
    "jupyter": {
     "outputs_hidden": false
    }
   },
   "outputs": [],
   "source": [
    "def f(x) :\n",
    "    return(x-np.exp(-x))\n",
    "\n",
    "def find_zero_func(func,x1,x2,epsilon):\n",
    "    precision=np.absolute(x2-x1)\n",
    "    if (np.sign(f(x2)) != np.sign(f(x1))) :\n",
    "            print( \"The zero is in between {} and {}\" .format(x1,x2) )\n",
    "            while (precision>epsilon) :\n",
    "                x3= (x1+x2)/2.\n",
    "                if np.sign(f(x1)) != np.sign(f(x3)) :\n",
    "                    print( \"The zero is in between {} and {}\" .format(x1,x3) )\n",
    "                    x2=x3\n",
    "                    precision=abs(x2-x1)\n",
    "                else :\n",
    "                    print( \"The zero is in between {} and {}\" .format(x2,x3) )\n",
    "                    x1=x3\n",
    "                    precision=abs(x2-x1)\n",
    "\n",
    "    else :\n",
    "        print( \"NO zero in between {} and {}\" .format(x1,x2) );\n",
    "\n",
    "    return 0.5*(x1+x2)\n"
   ]
  },
  {
   "cell_type": "code",
   "execution_count": null,
   "metadata": {
    "collapsed": false,
    "jupyter": {
     "outputs_hidden": false
    }
   },
   "outputs": [],
   "source": [
    "x1=0.\n",
    "x2=2.\n",
    "epsilon=0.01\n",
    "print(f(find_zero_func(f,x1,x2,epsilon)))\n"
   ]
  },
  {
   "cell_type": "code",
   "execution_count": null,
   "metadata": {
    "collapsed": false,
    "jupyter": {
     "outputs_hidden": false
    }
   },
   "outputs": [],
   "source": [
    "%matplotlib inline\n",
    "from matplotlib import pylab as plt\n",
    "plt.figure(figsize=(6,6))\n",
    "x=np.linspace(x1,x2,100)\n",
    "plt.plot(x,f(x),'k-')\n",
    "plt.axhline(0)\n",
    "plt.plot(find_zero_func(f,x1,x2,epsilon),f(find_zero_func(f,x1,x2,epsilon)),'r*')\n"
   ]
  },
  {
   "cell_type": "markdown",
   "metadata": {},
   "source": [
    "## 6. vsort"
   ]
  },
  {
   "cell_type": "code",
   "execution_count": null,
   "metadata": {
    "collapsed": false,
    "jupyter": {
     "outputs_hidden": false
    }
   },
   "outputs": [],
   "source": [
    "def swap(A,m,n):\n",
    "    tmp=A[n]\n",
    "    A[n]=A[m]\n",
    "    A[m]=tmp\n",
    "    return A\n",
    "\n",
    "#% Consider ONCE the full vector of n elements\n",
    "def vsort(V):\n",
    "    Vsort=np.copy(V)\n",
    "    for n1 in range(np.size(V)-1,0,-1) :\n",
    "        #print(n1)\n",
    "        for n2 in range(n1):\n",
    "            if (Vsort[n2]>Vsort[n2+1]) :\n",
    "                Vsort=swap(Vsort,n2,n2+1)\n",
    "    return Vsort\n",
    "\n",
    "\n",
    "#%% Improvment\n",
    "def vsort_improved(V):\n",
    "    Vsort=np.copy(V)\n",
    "    n1=np.size(Vsort)-1\n",
    "    lswap=True\n",
    "    while (lswap):\n",
    "        lswap=False\n",
    "        for n2 in range(n1):\n",
    "            if Vsort[n2]>Vsort[n2+1] :\n",
    "                Vsort=swap(Vsort,n2,n2+1)\n",
    "                lswap=True\n",
    "        n2=n2-1\n",
    "    return Vsort\n",
    "              "
   ]
  },
  {
   "cell_type": "code",
   "execution_count": null,
   "metadata": {
    "collapsed": false,
    "jupyter": {
     "outputs_hidden": false
    }
   },
   "outputs": [],
   "source": [
    "V = np.random.randint(-50,50,100);\n",
    "print(V)\n",
    "print(vsort(V))\n",
    "print(vsort_improved(V))"
   ]
  },
  {
   "cell_type": "markdown",
   "metadata": {},
   "source": [
    "## Tutorial - trajectory of a particle"
   ]
  },
  {
   "cell_type": "code",
   "execution_count": 57,
   "metadata": {
    "collapsed": false,
    "jupyter": {
     "outputs_hidden": false
    }
   },
   "outputs": [
    {
     "data": {
      "text/plain": [
       "[<matplotlib.lines.Line2D at 0x11b7fcac8>]"
      ]
     },
     "execution_count": 57,
     "metadata": {},
     "output_type": "execute_result"
    },
    {
     "data": {
      "image/png": "[encoded data removed]",
      "text/plain": [
       "<matplotlib.figure.Figure at 0x117d4ad30>"
      ]
     },
     "metadata": {},
     "output_type": "display_data"
    }
   ],
   "source": [
    "u0=0.2\n",
    "v0=0.2\n",
    "um=0.1\n",
    "vm=0.1\n",
    "lamda=30*np.pi/180\n",
    "f=4*np.pi/86400*np.sin(30*np.pi/180)\n",
    "t=np.arange(0,3*86400,30*60)\n",
    "\n",
    "x=u0/f*np.sin(f*t)-v0/f*np.cos(f*t)+um*t\n",
    "y=v0/f*np.sin(f*t)+u0/f*np.cos(f*t)+vm*t\n",
    "\n",
    "plt.plot(x,y)"
   ]
  },
  {
   "cell_type": "code",
   "execution_count": null,
   "metadata": {
    "collapsed": true,
    "jupyter": {
     "outputs_hidden": true
    }
   },
   "outputs": [],
   "source": []
  }
 ],
 "metadata": {
  "anaconda-cloud": {},
  "kernelspec": {
   "display_name": "conda-m1.1",
   "language": "python",
   "name": "conda-m1.1"
  },
  "language_info": {
   "codemirror_mode": {
    "name": "ipython",
    "version": 3
   },
   "file_extension": ".py",
   "mimetype": "text/x-python",
   "name": "python",
   "nbconvert_exporter": "python",
   "pygments_lexer": "ipython3",
   "version": "3.9.7"
  }
 },
 "nbformat": 4,
 "nbformat_minor": 4
}
