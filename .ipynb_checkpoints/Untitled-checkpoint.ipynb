{
 "cells": [
  {
   "cell_type": "markdown",
   "id": "1d4c2791-bc8e-46a3-ad53-16682a22a29e",
   "metadata": {},
   "source": [
    "# Prises de notes du cours de Maths_Numerical_Modeling"
   ]
  },
  {
   "cell_type": "markdown",
   "id": "cd6bcb1c-0725-4295-989e-a23c6fdc9865",
   "metadata": {},
   "source": [
    "## 15/10/21"
   ]
  },
  {
   "cell_type": "markdown",
   "id": "d87ae80d-f7b3-4886-840f-afead12d4ecb",
   "metadata": {},
   "source": [
    " ## On a l'équation différentielle : \n",
    "$\\frac{\\partial \\phi}{\\partial t} = \\kappa\\frac^2{\\partial \\phi}{\\partial t^2}$, que l'on peut résoudre en utilisant la séparation de variables. On obtient alors $\\phi(x,t)=\\sum\\limits_{n=1}^\\infini C_n(t)*\\exp(i n\\omega x)$\n",
    "En réinjectant cette solution dans l'équation, on obtient une forme de $C_n(t)$ qui va être : \n",
    "$\\frac{\\partial C_n(t)}{\\partial t}$ = $-\\kappa n^2 \\omega ^2 C_n(t)$"
   ]
  },
  {
   "cell_type": "markdown",
   "id": "9228c78e-b7c6-4547-bc82-34532ae806c0",
   "metadata": {},
   "source": [
    "### On va onsidérer le problème de Cauchy suivant : \\[\n",
    "    \\left\\{\n",
    "    \\begin{array}{ll}\n",
    "        y'(t) = F(t,y(t)] \n",
    "        y(0) = \\eta]\n",
    "    \\end{array}\n",
    "\\right.\n",
    "\\]\n",
    "### tel que F est suffisamment régulière ie F est Lipschitzienne par rapport à sa 2nde variable"
   ]
  },
  {
   "cell_type": "code",
   "execution_count": null,
   "id": "753e800e-b86f-46e2-83fe-21a66ddd7341",
   "metadata": {},
   "outputs": [],
   "source": []
  }
 ],
 "metadata": {
  "kernelspec": {
   "display_name": "Python 3",
   "language": "python",
   "name": "python3"
  },
  "language_info": {
   "codemirror_mode": {
    "name": "ipython",
    "version": 3
   },
   "file_extension": ".py",
   "mimetype": "text/x-python",
   "name": "python",
   "nbconvert_exporter": "python",
   "pygments_lexer": "ipython3",
   "version": "3.8.5"
  }
 },
 "nbformat": 4,
 "nbformat_minor": 5
}
